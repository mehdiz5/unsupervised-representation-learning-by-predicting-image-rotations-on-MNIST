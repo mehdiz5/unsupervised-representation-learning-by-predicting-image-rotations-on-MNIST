{
 "cells": [
  {
   "cell_type": "code",
   "execution_count": 39,
   "metadata": {},
   "outputs": [],
   "source": [
    "import torch\n",
    "import numpy as np\n",
    "from torch.utils.data import DataLoader, Subset\n",
    "from torchvision import datasets, transforms\n",
    "import torch.nn as nn\n",
    "from models import ConvNet\n",
    "from helper_functions import train_convnet, evaluate_classifier, rotation_collate"
   ]
  },
  {
   "cell_type": "code",
   "execution_count": 40,
   "metadata": {},
   "outputs": [],
   "source": [
    "NUM_BLOCKS=4"
   ]
  },
  {
   "cell_type": "markdown",
   "metadata": {},
   "source": [
    "## Create Datasets"
   ]
  },
  {
   "cell_type": "code",
   "execution_count": 41,
   "metadata": {},
   "outputs": [],
   "source": [
    "dataset = datasets.MNIST(root='./data', \n",
    "                         train=True, \n",
    "                         download=True, \n",
    "                         transform=transforms.ToTensor())\n",
    "\n",
    "targets = np.array(dataset.targets)\n",
    "\n",
    "# Select 10 indices for each class\n",
    "indices = []\n",
    "for digit in range(10):\n",
    "    digit_indices = np.where(targets == digit)[0][:10]  # Take first 10 samples for each digit\n",
    "    indices.extend(digit_indices)\n",
    "\n",
    "\n",
    "supervised_dataset = Subset(dataset, indices)"
   ]
  },
  {
   "cell_type": "code",
   "execution_count": 42,
   "metadata": {},
   "outputs": [],
   "source": [
    "test_dataset = datasets.MNIST(root='./data', \n",
    "                              train=False, \n",
    "                              download=True, transform=transforms.ToTensor())"
   ]
  },
  {
   "cell_type": "markdown",
   "metadata": {},
   "source": [
    "## Train"
   ]
  },
  {
   "cell_type": "code",
   "execution_count": 43,
   "metadata": {},
   "outputs": [],
   "source": [
    "supervised_train_loader = DataLoader(supervised_dataset, \n",
    "                                     batch_size=8,\n",
    "                                     shuffle=True,\n",
    "                                     num_workers=4,\n",
    "                                     persistent_workers=True)\n",
    "supervised_val_loader = DataLoader(test_dataset, \n",
    "                                   batch_size=128, \n",
    "                                   shuffle=False,\n",
    "                                   num_workers=4,\n",
    "                                   persistent_workers=True)"
   ]
  },
  {
   "cell_type": "code",
   "execution_count": 44,
   "metadata": {},
   "outputs": [],
   "source": [
    "MNIST_model=ConvNet(num_classes=10,num_blocks=NUM_BLOCKS).cuda()"
   ]
  },
  {
   "cell_type": "code",
   "execution_count": 45,
   "metadata": {},
   "outputs": [
    {
     "data": {
      "text/plain": [
       "ConvNet(\n",
       "  (blocks): ModuleList(\n",
       "    (0): Sequential(\n",
       "      (0): Conv2d(1, 32, kernel_size=(3, 3), stride=(1, 1), padding=(1, 1))\n",
       "      (1): BatchNorm2d(32, eps=1e-05, momentum=0.1, affine=True, track_running_stats=True)\n",
       "      (2): ReLU()\n",
       "      (3): MaxPool2d(kernel_size=2, stride=2, padding=0, dilation=1, ceil_mode=False)\n",
       "    )\n",
       "    (1): Sequential(\n",
       "      (0): Conv2d(32, 64, kernel_size=(3, 3), stride=(1, 1), padding=(1, 1))\n",
       "      (1): BatchNorm2d(64, eps=1e-05, momentum=0.1, affine=True, track_running_stats=True)\n",
       "      (2): ReLU()\n",
       "      (3): MaxPool2d(kernel_size=2, stride=2, padding=0, dilation=1, ceil_mode=False)\n",
       "    )\n",
       "    (2): Sequential(\n",
       "      (0): Conv2d(64, 128, kernel_size=(3, 3), stride=(1, 1), padding=(1, 1))\n",
       "      (1): BatchNorm2d(128, eps=1e-05, momentum=0.1, affine=True, track_running_stats=True)\n",
       "      (2): ReLU()\n",
       "      (3): MaxPool2d(kernel_size=2, stride=2, padding=0, dilation=1, ceil_mode=False)\n",
       "    )\n",
       "    (3): Sequential(\n",
       "      (0): Conv2d(128, 256, kernel_size=(3, 3), stride=(1, 1), padding=(1, 1))\n",
       "      (1): BatchNorm2d(256, eps=1e-05, momentum=0.1, affine=True, track_running_stats=True)\n",
       "      (2): ReLU()\n",
       "      (3): MaxPool2d(kernel_size=2, stride=2, padding=0, dilation=1, ceil_mode=False)\n",
       "    )\n",
       "  )\n",
       "  (adaptive_pool): AdaptiveAvgPool2d(output_size=1)\n",
       "  (classification_head): Linear(in_features=256, out_features=10, bias=True)\n",
       ")"
      ]
     },
     "execution_count": 45,
     "metadata": {},
     "output_type": "execute_result"
    }
   ],
   "source": [
    "MNIST_model"
   ]
  },
  {
   "cell_type": "code",
   "execution_count": 46,
   "metadata": {},
   "outputs": [
    {
     "name": "stdout",
     "output_type": "stream",
     "text": [
      "0\n"
     ]
    },
    {
     "name": "stderr",
     "output_type": "stream",
     "text": [
      "Epoch 1/40 [Training]: 100%|██████████| 13/13 [00:00<00:00, 68.46it/s, loss=2.9440]\n",
      "Epoch 1/40 [Validation]: 100%|██████████| 40/40 [00:00<00:00, 111.93it/s]\n"
     ]
    },
    {
     "name": "stdout",
     "output_type": "stream",
     "text": [
      "Epoch [1/40] - \n",
      "Train Loss: 3.2733, Train Accuracy: 13.00%, \n",
      "Validation Loss: 2.3941, Validation Accuracy: 14.40%\n",
      "\n"
     ]
    },
    {
     "name": "stderr",
     "output_type": "stream",
     "text": [
      "Epoch 2/40 [Training]: 100%|██████████| 13/13 [00:00<00:00, 163.45it/s, loss=1.8164]\n",
      "Epoch 2/40 [Validation]: 100%|██████████| 40/40 [00:00<00:00, 220.61it/s]\n"
     ]
    },
    {
     "name": "stdout",
     "output_type": "stream",
     "text": [
      "Epoch [2/40] - \n",
      "Train Loss: 2.1032, Train Accuracy: 26.00%, \n",
      "Validation Loss: 2.3452, Validation Accuracy: 13.10%\n",
      "\n"
     ]
    },
    {
     "name": "stderr",
     "output_type": "stream",
     "text": [
      "Epoch 3/40 [Training]: 100%|██████████| 13/13 [00:00<00:00, 244.84it/s, loss=1.5572]\n",
      "Epoch 3/40 [Validation]: 100%|██████████| 40/40 [00:00<00:00, 161.08it/s]\n"
     ]
    },
    {
     "name": "stdout",
     "output_type": "stream",
     "text": [
      "Epoch [3/40] - \n",
      "Train Loss: 1.6829, Train Accuracy: 42.00%, \n",
      "Validation Loss: 2.3647, Validation Accuracy: 16.05%\n",
      "\n"
     ]
    },
    {
     "name": "stderr",
     "output_type": "stream",
     "text": [
      "Epoch 4/40 [Training]: 100%|██████████| 13/13 [00:00<00:00, 183.21it/s, loss=1.3101]\n",
      "Epoch 4/40 [Validation]: 100%|██████████| 40/40 [00:00<00:00, 188.83it/s]\n"
     ]
    },
    {
     "name": "stdout",
     "output_type": "stream",
     "text": [
      "Epoch [4/40] - \n",
      "Train Loss: 1.1209, Train Accuracy: 65.00%, \n",
      "Validation Loss: 1.8685, Validation Accuracy: 37.62%\n",
      "\n"
     ]
    },
    {
     "name": "stderr",
     "output_type": "stream",
     "text": [
      "Epoch 5/40 [Training]: 100%|██████████| 13/13 [00:00<00:00, 206.60it/s, loss=0.5782]\n",
      "Epoch 5/40 [Validation]: 100%|██████████| 40/40 [00:00<00:00, 151.52it/s]\n"
     ]
    },
    {
     "name": "stdout",
     "output_type": "stream",
     "text": [
      "Epoch [5/40] - \n",
      "Train Loss: 0.7507, Train Accuracy: 75.00%, \n",
      "Validation Loss: 1.4530, Validation Accuracy: 46.17%\n",
      "\n"
     ]
    },
    {
     "name": "stderr",
     "output_type": "stream",
     "text": [
      "Epoch 6/40 [Training]: 100%|██████████| 13/13 [00:00<00:00, 208.11it/s, loss=0.6209]\n",
      "Epoch 6/40 [Validation]: 100%|██████████| 40/40 [00:00<00:00, 206.42it/s]\n"
     ]
    },
    {
     "name": "stdout",
     "output_type": "stream",
     "text": [
      "Epoch [6/40] - \n",
      "Train Loss: 0.4736, Train Accuracy: 89.00%, \n",
      "Validation Loss: 1.7331, Validation Accuracy: 48.54%\n",
      "\n"
     ]
    },
    {
     "name": "stderr",
     "output_type": "stream",
     "text": [
      "Epoch 7/40 [Training]: 100%|██████████| 13/13 [00:00<00:00, 238.18it/s, loss=0.2055]\n",
      "Epoch 7/40 [Validation]: 100%|██████████| 40/40 [00:00<00:00, 195.30it/s]\n"
     ]
    },
    {
     "name": "stdout",
     "output_type": "stream",
     "text": [
      "Epoch [7/40] - \n",
      "Train Loss: 0.2367, Train Accuracy: 91.00%, \n",
      "Validation Loss: 1.2233, Validation Accuracy: 59.47%\n",
      "\n"
     ]
    },
    {
     "name": "stderr",
     "output_type": "stream",
     "text": [
      "Epoch 8/40 [Training]: 100%|██████████| 13/13 [00:00<00:00, 232.89it/s, loss=0.1035]\n",
      "Epoch 8/40 [Validation]: 100%|██████████| 40/40 [00:00<00:00, 210.06it/s]\n"
     ]
    },
    {
     "name": "stdout",
     "output_type": "stream",
     "text": [
      "Epoch [8/40] - \n",
      "Train Loss: 0.0988, Train Accuracy: 97.00%, \n",
      "Validation Loss: 1.1070, Validation Accuracy: 65.18%\n",
      "\n"
     ]
    },
    {
     "name": "stderr",
     "output_type": "stream",
     "text": [
      "Epoch 9/40 [Training]: 100%|██████████| 13/13 [00:00<00:00, 238.46it/s, loss=0.9428]\n",
      "Epoch 9/40 [Validation]: 100%|██████████| 40/40 [00:00<00:00, 184.91it/s]\n"
     ]
    },
    {
     "name": "stdout",
     "output_type": "stream",
     "text": [
      "Epoch [9/40] - \n",
      "Train Loss: 0.1386, Train Accuracy: 96.00%, \n",
      "Validation Loss: 0.7240, Validation Accuracy: 75.56%\n",
      "\n"
     ]
    },
    {
     "name": "stderr",
     "output_type": "stream",
     "text": [
      "Epoch 10/40 [Training]: 100%|██████████| 13/13 [00:00<00:00, 251.69it/s, loss=0.1070]\n",
      "Epoch 10/40 [Validation]: 100%|██████████| 40/40 [00:00<00:00, 177.29it/s]\n"
     ]
    },
    {
     "name": "stdout",
     "output_type": "stream",
     "text": [
      "Epoch [10/40] - \n",
      "Train Loss: 0.1270, Train Accuracy: 97.00%, \n",
      "Validation Loss: 0.5935, Validation Accuracy: 80.37%\n",
      "\n"
     ]
    },
    {
     "name": "stderr",
     "output_type": "stream",
     "text": [
      "Epoch 11/40 [Training]: 100%|██████████| 13/13 [00:00<00:00, 246.37it/s, loss=0.0124]\n",
      "Epoch 11/40 [Validation]: 100%|██████████| 40/40 [00:00<00:00, 180.67it/s]\n"
     ]
    },
    {
     "name": "stdout",
     "output_type": "stream",
     "text": [
      "Epoch [11/40] - \n",
      "Train Loss: 0.0717, Train Accuracy: 98.00%, \n",
      "Validation Loss: 0.5651, Validation Accuracy: 81.48%\n",
      "\n"
     ]
    },
    {
     "name": "stderr",
     "output_type": "stream",
     "text": [
      "Epoch 12/40 [Training]: 100%|██████████| 13/13 [00:00<00:00, 232.88it/s, loss=0.0127]\n",
      "Epoch 12/40 [Validation]: 100%|██████████| 40/40 [00:00<00:00, 178.55it/s]\n"
     ]
    },
    {
     "name": "stdout",
     "output_type": "stream",
     "text": [
      "Epoch [12/40] - \n",
      "Train Loss: 0.0550, Train Accuracy: 99.00%, \n",
      "Validation Loss: 0.8658, Validation Accuracy: 72.02%\n",
      "\n"
     ]
    },
    {
     "name": "stderr",
     "output_type": "stream",
     "text": [
      "Epoch 13/40 [Training]: 100%|██████████| 13/13 [00:00<00:00, 219.95it/s, loss=0.1893]\n",
      "Epoch 13/40 [Validation]: 100%|██████████| 40/40 [00:00<00:00, 169.71it/s]\n"
     ]
    },
    {
     "name": "stdout",
     "output_type": "stream",
     "text": [
      "Epoch [13/40] - \n",
      "Train Loss: 0.0414, Train Accuracy: 99.00%, \n",
      "Validation Loss: 0.5399, Validation Accuracy: 82.76%\n",
      "\n"
     ]
    },
    {
     "name": "stderr",
     "output_type": "stream",
     "text": [
      "Epoch 14/40 [Training]: 100%|██████████| 13/13 [00:00<00:00, 221.25it/s, loss=0.0752]\n",
      "Epoch 14/40 [Validation]: 100%|██████████| 40/40 [00:00<00:00, 161.91it/s]\n"
     ]
    },
    {
     "name": "stdout",
     "output_type": "stream",
     "text": [
      "Epoch [14/40] - \n",
      "Train Loss: 0.0955, Train Accuracy: 98.00%, \n",
      "Validation Loss: 0.7997, Validation Accuracy: 78.86%\n",
      "\n"
     ]
    },
    {
     "name": "stderr",
     "output_type": "stream",
     "text": [
      "Epoch 15/40 [Training]: 100%|██████████| 13/13 [00:00<00:00, 200.52it/s, loss=0.0320]\n",
      "Epoch 15/40 [Validation]: 100%|██████████| 40/40 [00:00<00:00, 171.57it/s]\n"
     ]
    },
    {
     "name": "stdout",
     "output_type": "stream",
     "text": [
      "Epoch [15/40] - \n",
      "Train Loss: 0.0760, Train Accuracy: 99.00%, \n",
      "Validation Loss: 1.3192, Validation Accuracy: 62.82%\n",
      "\n"
     ]
    },
    {
     "name": "stderr",
     "output_type": "stream",
     "text": [
      "Epoch 16/40 [Training]: 100%|██████████| 13/13 [00:00<00:00, 238.01it/s, loss=0.0029]\n",
      "Epoch 16/40 [Validation]: 100%|██████████| 40/40 [00:00<00:00, 186.58it/s]\n"
     ]
    },
    {
     "name": "stdout",
     "output_type": "stream",
     "text": [
      "Epoch [16/40] - \n",
      "Train Loss: 0.0887, Train Accuracy: 97.00%, \n",
      "Validation Loss: 1.5609, Validation Accuracy: 56.83%\n",
      "\n"
     ]
    },
    {
     "name": "stderr",
     "output_type": "stream",
     "text": [
      "Epoch 17/40 [Training]: 100%|██████████| 13/13 [00:00<00:00, 231.17it/s, loss=0.0212]\n",
      "Epoch 17/40 [Validation]: 100%|██████████| 40/40 [00:00<00:00, 180.02it/s]\n"
     ]
    },
    {
     "name": "stdout",
     "output_type": "stream",
     "text": [
      "Epoch [17/40] - \n",
      "Train Loss: 0.1781, Train Accuracy: 94.00%, \n",
      "Validation Loss: 0.6726, Validation Accuracy: 79.66%\n",
      "\n"
     ]
    },
    {
     "name": "stderr",
     "output_type": "stream",
     "text": [
      "Epoch 18/40 [Training]: 100%|██████████| 13/13 [00:00<00:00, 162.15it/s, loss=0.0727]\n",
      "Epoch 18/40 [Validation]: 100%|██████████| 40/40 [00:00<00:00, 215.10it/s]\n"
     ]
    },
    {
     "name": "stdout",
     "output_type": "stream",
     "text": [
      "Epoch [18/40] - \n",
      "Train Loss: 0.0912, Train Accuracy: 99.00%, \n",
      "Validation Loss: 1.2884, Validation Accuracy: 70.80%\n",
      "\n"
     ]
    },
    {
     "name": "stderr",
     "output_type": "stream",
     "text": [
      "Epoch 19/40 [Training]: 100%|██████████| 13/13 [00:00<00:00, 225.37it/s, loss=0.0226]\n",
      "Epoch 19/40 [Validation]: 100%|██████████| 40/40 [00:00<00:00, 191.42it/s]\n"
     ]
    },
    {
     "name": "stdout",
     "output_type": "stream",
     "text": [
      "Epoch [19/40] - \n",
      "Train Loss: 0.0418, Train Accuracy: 98.00%, \n",
      "Validation Loss: 0.7734, Validation Accuracy: 77.76%\n",
      "\n"
     ]
    },
    {
     "name": "stderr",
     "output_type": "stream",
     "text": [
      "Epoch 20/40 [Training]: 100%|██████████| 13/13 [00:00<00:00, 240.38it/s, loss=0.0114]\n",
      "Epoch 20/40 [Validation]: 100%|██████████| 40/40 [00:00<00:00, 200.73it/s]\n"
     ]
    },
    {
     "name": "stdout",
     "output_type": "stream",
     "text": [
      "Epoch [20/40] - \n",
      "Train Loss: 0.0219, Train Accuracy: 99.00%, \n",
      "Validation Loss: 0.9511, Validation Accuracy: 72.47%\n",
      "\n"
     ]
    },
    {
     "name": "stderr",
     "output_type": "stream",
     "text": [
      "Epoch 21/40 [Training]: 100%|██████████| 13/13 [00:00<00:00, 237.94it/s, loss=0.0348]\n",
      "Epoch 21/40 [Validation]: 100%|██████████| 40/40 [00:00<00:00, 197.81it/s]\n"
     ]
    },
    {
     "name": "stdout",
     "output_type": "stream",
     "text": [
      "Epoch [21/40] - \n",
      "Train Loss: 0.0154, Train Accuracy: 100.00%, \n",
      "Validation Loss: 0.6105, Validation Accuracy: 80.54%\n",
      "\n"
     ]
    },
    {
     "name": "stderr",
     "output_type": "stream",
     "text": [
      "Epoch 22/40 [Training]: 100%|██████████| 13/13 [00:00<00:00, 230.58it/s, loss=0.0007]\n",
      "Epoch 22/40 [Validation]: 100%|██████████| 40/40 [00:00<00:00, 175.43it/s]\n"
     ]
    },
    {
     "name": "stdout",
     "output_type": "stream",
     "text": [
      "Epoch [22/40] - \n",
      "Train Loss: 0.0036, Train Accuracy: 100.00%, \n",
      "Validation Loss: 0.5623, Validation Accuracy: 81.85%\n",
      "\n"
     ]
    },
    {
     "name": "stderr",
     "output_type": "stream",
     "text": [
      "Epoch 23/40 [Training]: 100%|██████████| 13/13 [00:00<00:00, 169.94it/s, loss=0.0025]\n",
      "Epoch 23/40 [Validation]: 100%|██████████| 40/40 [00:00<00:00, 188.42it/s]\n"
     ]
    },
    {
     "name": "stdout",
     "output_type": "stream",
     "text": [
      "Epoch [23/40] - \n",
      "Train Loss: 0.0022, Train Accuracy: 100.00%, \n",
      "Validation Loss: 0.5196, Validation Accuracy: 82.99%\n",
      "\n"
     ]
    },
    {
     "name": "stderr",
     "output_type": "stream",
     "text": [
      "Epoch 24/40 [Training]: 100%|██████████| 13/13 [00:00<00:00, 246.44it/s, loss=0.0010]\n",
      "Epoch 24/40 [Validation]: 100%|██████████| 40/40 [00:00<00:00, 186.72it/s]\n"
     ]
    },
    {
     "name": "stdout",
     "output_type": "stream",
     "text": [
      "Epoch [24/40] - \n",
      "Train Loss: 0.0010, Train Accuracy: 100.00%, \n",
      "Validation Loss: 0.4753, Validation Accuracy: 84.47%\n",
      "\n"
     ]
    },
    {
     "name": "stderr",
     "output_type": "stream",
     "text": [
      "Epoch 25/40 [Training]: 100%|██████████| 13/13 [00:00<00:00, 240.42it/s, loss=0.0027]\n",
      "Epoch 25/40 [Validation]: 100%|██████████| 40/40 [00:00<00:00, 194.88it/s]\n"
     ]
    },
    {
     "name": "stdout",
     "output_type": "stream",
     "text": [
      "Epoch [25/40] - \n",
      "Train Loss: 0.0020, Train Accuracy: 100.00%, \n",
      "Validation Loss: 0.5089, Validation Accuracy: 83.39%\n",
      "\n"
     ]
    },
    {
     "name": "stderr",
     "output_type": "stream",
     "text": [
      "Epoch 26/40 [Training]: 100%|██████████| 13/13 [00:00<00:00, 243.32it/s, loss=0.0005]\n",
      "Epoch 26/40 [Validation]: 100%|██████████| 40/40 [00:00<00:00, 188.98it/s]\n"
     ]
    },
    {
     "name": "stdout",
     "output_type": "stream",
     "text": [
      "Epoch [26/40] - \n",
      "Train Loss: 0.0007, Train Accuracy: 100.00%, \n",
      "Validation Loss: 0.4841, Validation Accuracy: 84.16%\n",
      "\n"
     ]
    },
    {
     "name": "stderr",
     "output_type": "stream",
     "text": [
      "Epoch 27/40 [Training]: 100%|██████████| 13/13 [00:00<00:00, 243.50it/s, loss=0.0006]\n",
      "Epoch 27/40 [Validation]: 100%|██████████| 40/40 [00:00<00:00, 143.83it/s]\n"
     ]
    },
    {
     "name": "stdout",
     "output_type": "stream",
     "text": [
      "Epoch [27/40] - \n",
      "Train Loss: 0.0010, Train Accuracy: 100.00%, \n",
      "Validation Loss: 0.4407, Validation Accuracy: 85.89%\n",
      "\n"
     ]
    },
    {
     "name": "stderr",
     "output_type": "stream",
     "text": [
      "Epoch 28/40 [Training]: 100%|██████████| 13/13 [00:00<00:00, 238.91it/s, loss=0.0025]\n",
      "Epoch 28/40 [Validation]: 100%|██████████| 40/40 [00:00<00:00, 168.49it/s]\n"
     ]
    },
    {
     "name": "stdout",
     "output_type": "stream",
     "text": [
      "Epoch [28/40] - \n",
      "Train Loss: 0.0008, Train Accuracy: 100.00%, \n",
      "Validation Loss: 0.4313, Validation Accuracy: 86.07%\n",
      "\n"
     ]
    },
    {
     "name": "stderr",
     "output_type": "stream",
     "text": [
      "Epoch 29/40 [Training]: 100%|██████████| 13/13 [00:00<00:00, 191.29it/s, loss=0.0006]\n",
      "Epoch 29/40 [Validation]: 100%|██████████| 40/40 [00:00<00:00, 169.18it/s]\n"
     ]
    },
    {
     "name": "stdout",
     "output_type": "stream",
     "text": [
      "Epoch [29/40] - \n",
      "Train Loss: 0.0005, Train Accuracy: 100.00%, \n",
      "Validation Loss: 0.4290, Validation Accuracy: 86.08%\n",
      "\n"
     ]
    },
    {
     "name": "stderr",
     "output_type": "stream",
     "text": [
      "Epoch 30/40 [Training]: 100%|██████████| 13/13 [00:00<00:00, 145.80it/s, loss=0.0018]\n",
      "Epoch 30/40 [Validation]: 100%|██████████| 40/40 [00:00<00:00, 175.59it/s]\n"
     ]
    },
    {
     "name": "stdout",
     "output_type": "stream",
     "text": [
      "Epoch [30/40] - \n",
      "Train Loss: 0.0008, Train Accuracy: 100.00%, \n",
      "Validation Loss: 0.4378, Validation Accuracy: 85.67%\n",
      "\n"
     ]
    },
    {
     "name": "stderr",
     "output_type": "stream",
     "text": [
      "Epoch 31/40 [Training]: 100%|██████████| 13/13 [00:00<00:00, 207.96it/s, loss=0.0013]\n",
      "Epoch 31/40 [Validation]: 100%|██████████| 40/40 [00:00<00:00, 200.69it/s]\n"
     ]
    },
    {
     "name": "stdout",
     "output_type": "stream",
     "text": [
      "Epoch [31/40] - \n",
      "Train Loss: 0.0005, Train Accuracy: 100.00%, \n",
      "Validation Loss: 0.4147, Validation Accuracy: 86.60%\n",
      "\n"
     ]
    },
    {
     "name": "stderr",
     "output_type": "stream",
     "text": [
      "Epoch 32/40 [Training]: 100%|██████████| 13/13 [00:00<00:00, 212.27it/s, loss=0.0238]\n",
      "Epoch 32/40 [Validation]: 100%|██████████| 40/40 [00:00<00:00, 135.68it/s]\n"
     ]
    },
    {
     "name": "stdout",
     "output_type": "stream",
     "text": [
      "Epoch [32/40] - \n",
      "Train Loss: 0.0128, Train Accuracy: 100.00%, \n",
      "Validation Loss: 1.8150, Validation Accuracy: 64.93%\n",
      "\n"
     ]
    },
    {
     "name": "stderr",
     "output_type": "stream",
     "text": [
      "Epoch 33/40 [Training]: 100%|██████████| 13/13 [00:00<00:00, 160.16it/s, loss=0.7749]\n",
      "Epoch 33/40 [Validation]: 100%|██████████| 40/40 [00:00<00:00, 185.29it/s]\n"
     ]
    },
    {
     "name": "stdout",
     "output_type": "stream",
     "text": [
      "Epoch [33/40] - \n",
      "Train Loss: 0.7024, Train Accuracy: 79.00%, \n",
      "Validation Loss: 18.2262, Validation Accuracy: 25.47%\n",
      "\n"
     ]
    },
    {
     "name": "stderr",
     "output_type": "stream",
     "text": [
      "Epoch 34/40 [Training]: 100%|██████████| 13/13 [00:00<00:00, 230.31it/s, loss=0.4342]\n",
      "Epoch 34/40 [Validation]: 100%|██████████| 40/40 [00:00<00:00, 174.58it/s]\n"
     ]
    },
    {
     "name": "stdout",
     "output_type": "stream",
     "text": [
      "Epoch [34/40] - \n",
      "Train Loss: 0.6792, Train Accuracy: 75.00%, \n",
      "Validation Loss: 2.6696, Validation Accuracy: 64.21%\n",
      "\n"
     ]
    },
    {
     "name": "stderr",
     "output_type": "stream",
     "text": [
      "Epoch 35/40 [Training]: 100%|██████████| 13/13 [00:00<00:00, 167.38it/s, loss=0.3435]\n",
      "Epoch 35/40 [Validation]: 100%|██████████| 40/40 [00:00<00:00, 172.51it/s]\n"
     ]
    },
    {
     "name": "stdout",
     "output_type": "stream",
     "text": [
      "Epoch [35/40] - \n",
      "Train Loss: 0.4414, Train Accuracy: 84.00%, \n",
      "Validation Loss: 1.5903, Validation Accuracy: 55.62%\n",
      "\n"
     ]
    },
    {
     "name": "stderr",
     "output_type": "stream",
     "text": [
      "Epoch 36/40 [Training]: 100%|██████████| 13/13 [00:00<00:00, 194.66it/s, loss=0.1277]\n",
      "Epoch 36/40 [Validation]: 100%|██████████| 40/40 [00:00<00:00, 178.36it/s]\n"
     ]
    },
    {
     "name": "stdout",
     "output_type": "stream",
     "text": [
      "Epoch [36/40] - \n",
      "Train Loss: 0.2406, Train Accuracy: 91.00%, \n",
      "Validation Loss: 0.6257, Validation Accuracy: 80.15%\n",
      "\n"
     ]
    },
    {
     "name": "stderr",
     "output_type": "stream",
     "text": [
      "Epoch 37/40 [Training]: 100%|██████████| 13/13 [00:00<00:00, 186.64it/s, loss=0.3997]\n",
      "Epoch 37/40 [Validation]: 100%|██████████| 40/40 [00:00<00:00, 215.77it/s]\n"
     ]
    },
    {
     "name": "stdout",
     "output_type": "stream",
     "text": [
      "Epoch [37/40] - \n",
      "Train Loss: 0.0746, Train Accuracy: 100.00%, \n",
      "Validation Loss: 0.6144, Validation Accuracy: 81.04%\n",
      "\n"
     ]
    },
    {
     "name": "stderr",
     "output_type": "stream",
     "text": [
      "Epoch 38/40 [Training]: 100%|██████████| 13/13 [00:00<00:00, 210.98it/s, loss=0.0994]\n",
      "Epoch 38/40 [Validation]: 100%|██████████| 40/40 [00:00<00:00, 174.42it/s]\n"
     ]
    },
    {
     "name": "stdout",
     "output_type": "stream",
     "text": [
      "Epoch [38/40] - \n",
      "Train Loss: 0.1508, Train Accuracy: 96.00%, \n",
      "Validation Loss: 0.8512, Validation Accuracy: 75.05%\n",
      "\n"
     ]
    },
    {
     "name": "stderr",
     "output_type": "stream",
     "text": [
      "Epoch 39/40 [Training]: 100%|██████████| 13/13 [00:00<00:00, 237.09it/s, loss=0.0189]\n",
      "Epoch 39/40 [Validation]: 100%|██████████| 40/40 [00:00<00:00, 183.26it/s]\n"
     ]
    },
    {
     "name": "stdout",
     "output_type": "stream",
     "text": [
      "Epoch [39/40] - \n",
      "Train Loss: 0.1508, Train Accuracy: 98.00%, \n",
      "Validation Loss: 0.5629, Validation Accuracy: 82.88%\n",
      "\n"
     ]
    },
    {
     "name": "stderr",
     "output_type": "stream",
     "text": [
      "Epoch 40/40 [Training]: 100%|██████████| 13/13 [00:00<00:00, 144.17it/s, loss=0.0059]\n",
      "Epoch 40/40 [Validation]: 100%|██████████| 40/40 [00:00<00:00, 196.68it/s]"
     ]
    },
    {
     "name": "stdout",
     "output_type": "stream",
     "text": [
      "Epoch [40/40] - \n",
      "Train Loss: 0.0243, Train Accuracy: 100.00%, \n",
      "Validation Loss: 0.5064, Validation Accuracy: 85.38%\n",
      "\n"
     ]
    },
    {
     "name": "stderr",
     "output_type": "stream",
     "text": [
      "\n"
     ]
    }
   ],
   "source": [
    "supervised_train_loader = DataLoader(supervised_dataset, \n",
    "                                     batch_size=8, \n",
    "                                     shuffle=True,\n",
    "                                     num_workers=4,\n",
    "                                     persistent_workers=True)\n",
    "supervised_val_loader = DataLoader(test_dataset, \n",
    "                                   batch_size=256, \n",
    "                                   shuffle=False,\n",
    "                                   num_workers=4,\n",
    "                                   persistent_workers=True)\n",
    "criterion=nn.CrossEntropyLoss()\n",
    "\n",
    "optimizer=torch.optim.Adam(MNIST_model.parameters(),\n",
    "                           lr=0.01,weight_decay=0.001)\n",
    "\n",
    "learning_rate_scheduler=torch.optim.lr_scheduler.StepLR(optimizer,\n",
    "                                                        step_size=50,gamma=0.5)\n",
    "\n",
    "train_convnet(MNIST_model,\n",
    "             supervised_train_loader,\n",
    "             supervised_val_loader,\n",
    "             criterion,optimizer,\n",
    "             learning_rate_scheduler,\n",
    "             num_epochs=40,\n",
    "             filename=f'baseline_model_{NUM_BLOCKS}.pth')"
   ]
  },
  {
   "cell_type": "markdown",
   "metadata": {},
   "source": [
    "## Evaluate"
   ]
  },
  {
   "cell_type": "code",
   "execution_count": null,
   "metadata": {},
   "outputs": [
    {
     "name": "stderr",
     "output_type": "stream",
     "text": [
      "/tmp/ipykernel_389786/3693493545.py:3: FutureWarning: You are using `torch.load` with `weights_only=False` (the current default value), which uses the default pickle module implicitly. It is possible to construct malicious pickle data which will execute arbitrary code during unpickling (See https://github.com/pytorch/pytorch/blob/main/SECURITY.md#untrusted-models for more details). In a future release, the default value for `weights_only` will be flipped to `True`. This limits the functions that could be executed during unpickling. Arbitrary objects will no longer be allowed to be loaded via this mode unless they are explicitly allowlisted by the user via `torch.serialization.add_safe_globals`. We recommend you start setting `weights_only=True` for any use case where you don't have full control of the loaded file. Please open an issue on GitHub for any issues related to this experimental feature.\n",
      "  MNIST_model.load_state_dict(torch.load(f'./models/baseline_model_{NUM_BLOCKS}.pth'))\n"
     ]
    },
    {
     "data": {
      "text/plain": [
       "<All keys matched successfully>"
      ]
     },
     "execution_count": 53,
     "metadata": {},
     "output_type": "execute_result"
    }
   ],
   "source": [
    "NUM_BLOCKS=4\n",
    "MNIST_model=ConvNet(num_classes=10,num_blocks=NUM_BLOCKS).cuda()\n",
    "MNIST_model.load_state_dict(torch.load(f'./models/baseline_model_{NUM_BLOCKS}.pth'))"
   ]
  },
  {
   "cell_type": "code",
   "execution_count": 54,
   "metadata": {},
   "outputs": [
    {
     "name": "stdout",
     "output_type": "stream",
     "text": [
      "Test Accuracy: 85.21%\n"
     ]
    }
   ],
   "source": [
    "evaluate_classifier(MNIST_model,supervised_val_loader)"
   ]
  }
 ],
 "metadata": {
  "kernelspec": {
   "display_name": "Python 3",
   "language": "python",
   "name": "python3"
  },
  "language_info": {
   "codemirror_mode": {
    "name": "ipython",
    "version": 3
   },
   "file_extension": ".py",
   "mimetype": "text/x-python",
   "name": "python",
   "nbconvert_exporter": "python",
   "pygments_lexer": "ipython3",
   "version": "3.10.12"
  }
 },
 "nbformat": 4,
 "nbformat_minor": 2
}
