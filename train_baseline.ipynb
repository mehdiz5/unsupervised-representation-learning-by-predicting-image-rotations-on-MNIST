{
 "cells": [
  {
   "cell_type": "code",
   "execution_count": 10,
   "metadata": {},
   "outputs": [],
   "source": [
    "import torch\n",
    "import numpy as np\n",
    "from torch.utils.data import DataLoader, Subset\n",
    "from torchvision import datasets, transforms\n",
    "import torch.nn as nn\n",
    "from models import ConvNet\n",
    "from helper_functions import train_convnet, evaluate_classifier, rotation_collate"
   ]
  },
  {
   "cell_type": "code",
   "execution_count": 11,
   "metadata": {},
   "outputs": [],
   "source": [
    "NUM_BLOCKS=2"
   ]
  },
  {
   "cell_type": "markdown",
   "metadata": {},
   "source": [
    "## Create Datasets"
   ]
  },
  {
   "cell_type": "code",
   "execution_count": 12,
   "metadata": {},
   "outputs": [],
   "source": [
    "dataset = datasets.MNIST(root='./data', \n",
    "                         train=True, \n",
    "                         download=True, \n",
    "                         transform=transforms.ToTensor())\n",
    "\n",
    "targets = np.array(dataset.targets)\n",
    "\n",
    "# Select 10 indices for each class\n",
    "indices = []\n",
    "for digit in range(10):\n",
    "    digit_indices = np.where(targets == digit)[0][:10]  # Take first 10 samples for each digit\n",
    "    indices.extend(digit_indices)\n",
    "\n",
    "\n",
    "supervised_dataset = Subset(dataset, indices)"
   ]
  },
  {
   "cell_type": "code",
   "execution_count": 13,
   "metadata": {},
   "outputs": [],
   "source": [
    "test_dataset = datasets.MNIST(root='./data', \n",
    "                              train=False, \n",
    "                              download=True, transform=transforms.ToTensor())"
   ]
  },
  {
   "cell_type": "markdown",
   "metadata": {},
   "source": [
    "## Train"
   ]
  },
  {
   "cell_type": "code",
   "execution_count": 14,
   "metadata": {},
   "outputs": [],
   "source": [
    "supervised_train_loader = DataLoader(supervised_dataset, \n",
    "                                     batch_size=8,\n",
    "                                     shuffle=True,\n",
    "                                     num_workers=4,\n",
    "                                     persistent_workers=True)\n",
    "supervised_val_loader = DataLoader(test_dataset, \n",
    "                                   batch_size=128, \n",
    "                                   shuffle=False,\n",
    "                                   num_workers=4,\n",
    "                                   persistent_workers=True)"
   ]
  },
  {
   "cell_type": "code",
   "execution_count": 15,
   "metadata": {},
   "outputs": [],
   "source": [
    "MNIST_model=ConvNet(num_classes=10,num_blocks=NUM_BLOCKS).cuda()"
   ]
  },
  {
   "cell_type": "code",
   "execution_count": 16,
   "metadata": {},
   "outputs": [
    {
     "name": "stderr",
     "output_type": "stream",
     "text": [
      "Epoch 1/500 [Training]: 100%|██████████| 13/13 [00:00<00:00, 79.73it/s, loss=2.5953]\n",
      "Epoch 1/500 [Validation]: 100%|██████████| 1250/1250 [00:01<00:00, 736.81it/s]\n"
     ]
    },
    {
     "name": "stdout",
     "output_type": "stream",
     "text": [
      "Epoch [1/500] - \n",
      "Train Loss: 2.3833, Train Accuracy: 9.00%, \n",
      "Validation Loss: 2.2644, Validation Accuracy: 19.45%\n",
      "\n"
     ]
    },
    {
     "name": "stderr",
     "output_type": "stream",
     "text": [
      "Epoch 2/500 [Training]: 100%|██████████| 13/13 [00:00<00:00, 156.21it/s, loss=2.1598]\n",
      "Epoch 2/500 [Validation]: 100%|██████████| 1250/1250 [00:01<00:00, 788.87it/s]\n"
     ]
    },
    {
     "name": "stdout",
     "output_type": "stream",
     "text": [
      "Epoch [2/500] - \n",
      "Train Loss: 2.2582, Train Accuracy: 15.00%, \n",
      "Validation Loss: 2.2051, Validation Accuracy: 24.44%\n",
      "\n"
     ]
    },
    {
     "name": "stderr",
     "output_type": "stream",
     "text": [
      "Epoch 3/500 [Training]: 100%|██████████| 13/13 [00:00<00:00, 174.14it/s, loss=2.1362]\n",
      "Epoch 3/500 [Validation]: 100%|██████████| 1250/1250 [00:01<00:00, 855.44it/s]\n"
     ]
    },
    {
     "name": "stdout",
     "output_type": "stream",
     "text": [
      "Epoch [3/500] - \n",
      "Train Loss: 2.1283, Train Accuracy: 24.00%, \n",
      "Validation Loss: 2.1585, Validation Accuracy: 18.77%\n",
      "\n"
     ]
    },
    {
     "name": "stderr",
     "output_type": "stream",
     "text": [
      "Epoch 4/500 [Training]: 100%|██████████| 13/13 [00:00<00:00, 181.39it/s, loss=2.3825]\n",
      "Epoch 4/500 [Validation]: 100%|██████████| 1250/1250 [00:01<00:00, 891.03it/s]\n"
     ]
    },
    {
     "name": "stdout",
     "output_type": "stream",
     "text": [
      "Epoch [4/500] - \n",
      "Train Loss: 2.0612, Train Accuracy: 31.00%, \n",
      "Validation Loss: 2.1128, Validation Accuracy: 19.51%\n",
      "\n"
     ]
    },
    {
     "name": "stderr",
     "output_type": "stream",
     "text": [
      "Epoch 5/500 [Training]: 100%|██████████| 13/13 [00:00<00:00, 180.77it/s, loss=2.4550]\n",
      "Epoch 5/500 [Validation]: 100%|██████████| 1250/1250 [00:01<00:00, 857.98it/s]\n"
     ]
    },
    {
     "name": "stdout",
     "output_type": "stream",
     "text": [
      "Epoch [5/500] - \n",
      "Train Loss: 1.9084, Train Accuracy: 41.00%, \n",
      "Validation Loss: 2.2039, Validation Accuracy: 21.22%\n",
      "\n"
     ]
    },
    {
     "name": "stderr",
     "output_type": "stream",
     "text": [
      "Epoch 6/500 [Training]: 100%|██████████| 13/13 [00:00<00:00, 142.21it/s, loss=1.7543]\n",
      "Epoch 6/500 [Validation]: 100%|██████████| 1250/1250 [00:01<00:00, 777.46it/s]\n"
     ]
    },
    {
     "name": "stdout",
     "output_type": "stream",
     "text": [
      "Epoch [6/500] - \n",
      "Train Loss: 1.8001, Train Accuracy: 35.00%, \n",
      "Validation Loss: 1.8675, Validation Accuracy: 31.05%\n",
      "\n"
     ]
    },
    {
     "name": "stderr",
     "output_type": "stream",
     "text": [
      "Epoch 7/500 [Training]: 100%|██████████| 13/13 [00:00<00:00, 222.68it/s, loss=1.8180]\n",
      "Epoch 7/500 [Validation]: 100%|██████████| 1250/1250 [00:01<00:00, 781.59it/s]\n"
     ]
    },
    {
     "name": "stdout",
     "output_type": "stream",
     "text": [
      "Epoch [7/500] - \n",
      "Train Loss: 1.7321, Train Accuracy: 38.00%, \n",
      "Validation Loss: 1.9171, Validation Accuracy: 27.65%\n",
      "\n"
     ]
    },
    {
     "name": "stderr",
     "output_type": "stream",
     "text": [
      "Epoch 8/500 [Training]: 100%|██████████| 13/13 [00:00<00:00, 249.85it/s, loss=2.0430]\n",
      "Epoch 8/500 [Validation]: 100%|██████████| 1250/1250 [00:01<00:00, 851.95it/s]\n"
     ]
    },
    {
     "name": "stdout",
     "output_type": "stream",
     "text": [
      "Epoch [8/500] - \n",
      "Train Loss: 1.6681, Train Accuracy: 48.00%, \n",
      "Validation Loss: 1.7447, Validation Accuracy: 30.12%\n",
      "\n"
     ]
    },
    {
     "name": "stderr",
     "output_type": "stream",
     "text": [
      "Epoch 9/500 [Training]: 100%|██████████| 13/13 [00:00<00:00, 239.06it/s, loss=1.5133]\n",
      "Epoch 9/500 [Validation]: 100%|██████████| 1250/1250 [00:01<00:00, 865.98it/s]\n"
     ]
    },
    {
     "name": "stdout",
     "output_type": "stream",
     "text": [
      "Epoch [9/500] - \n",
      "Train Loss: 1.5542, Train Accuracy: 41.00%, \n",
      "Validation Loss: 2.5298, Validation Accuracy: 20.61%\n",
      "\n"
     ]
    },
    {
     "name": "stderr",
     "output_type": "stream",
     "text": [
      "Epoch 10/500 [Training]: 100%|██████████| 13/13 [00:00<00:00, 273.05it/s, loss=1.6134]\n",
      "Epoch 10/500 [Validation]: 100%|██████████| 1250/1250 [00:01<00:00, 843.99it/s]\n"
     ]
    },
    {
     "name": "stdout",
     "output_type": "stream",
     "text": [
      "Epoch [10/500] - \n",
      "Train Loss: 1.5936, Train Accuracy: 46.00%, \n",
      "Validation Loss: 1.9378, Validation Accuracy: 32.52%\n",
      "\n"
     ]
    },
    {
     "name": "stderr",
     "output_type": "stream",
     "text": [
      "Epoch 11/500 [Training]: 100%|██████████| 13/13 [00:00<00:00, 172.63it/s, loss=1.7984]\n",
      "Epoch 11/500 [Validation]: 100%|██████████| 1250/1250 [00:01<00:00, 808.11it/s]\n"
     ]
    },
    {
     "name": "stdout",
     "output_type": "stream",
     "text": [
      "Epoch [11/500] - \n",
      "Train Loss: 1.5172, Train Accuracy: 44.00%, \n",
      "Validation Loss: 1.6571, Validation Accuracy: 38.15%\n",
      "\n"
     ]
    },
    {
     "name": "stderr",
     "output_type": "stream",
     "text": [
      "Epoch 12/500 [Training]: 100%|██████████| 13/13 [00:00<00:00, 177.47it/s, loss=1.6413]\n",
      "Epoch 12/500 [Validation]: 100%|██████████| 1250/1250 [00:01<00:00, 639.16it/s]\n"
     ]
    },
    {
     "name": "stdout",
     "output_type": "stream",
     "text": [
      "Epoch [12/500] - \n",
      "Train Loss: 1.4414, Train Accuracy: 52.00%, \n",
      "Validation Loss: 1.9948, Validation Accuracy: 29.51%\n",
      "\n"
     ]
    },
    {
     "name": "stderr",
     "output_type": "stream",
     "text": [
      "Epoch 13/500 [Training]: 100%|██████████| 13/13 [00:00<00:00, 169.73it/s, loss=1.9076]\n",
      "Epoch 13/500 [Validation]: 100%|██████████| 1250/1250 [00:01<00:00, 735.50it/s]\n"
     ]
    },
    {
     "name": "stdout",
     "output_type": "stream",
     "text": [
      "Epoch [13/500] - \n",
      "Train Loss: 1.4257, Train Accuracy: 51.00%, \n",
      "Validation Loss: 1.5895, Validation Accuracy: 40.53%\n",
      "\n"
     ]
    },
    {
     "name": "stderr",
     "output_type": "stream",
     "text": [
      "Epoch 14/500 [Training]: 100%|██████████| 13/13 [00:00<00:00, 109.47it/s, loss=1.4887]\n",
      "Epoch 14/500 [Validation]: 100%|██████████| 1250/1250 [00:01<00:00, 679.88it/s]\n"
     ]
    },
    {
     "name": "stdout",
     "output_type": "stream",
     "text": [
      "Epoch [14/500] - \n",
      "Train Loss: 1.3650, Train Accuracy: 59.00%, \n",
      "Validation Loss: 2.2616, Validation Accuracy: 26.25%\n",
      "\n"
     ]
    },
    {
     "name": "stderr",
     "output_type": "stream",
     "text": [
      "Epoch 15/500 [Training]: 100%|██████████| 13/13 [00:00<00:00, 127.60it/s, loss=0.7496]\n",
      "Epoch 15/500 [Validation]: 100%|██████████| 1250/1250 [00:01<00:00, 756.82it/s]\n"
     ]
    },
    {
     "name": "stdout",
     "output_type": "stream",
     "text": [
      "Epoch [15/500] - \n",
      "Train Loss: 1.1915, Train Accuracy: 66.00%, \n",
      "Validation Loss: 1.7633, Validation Accuracy: 38.79%\n",
      "\n"
     ]
    },
    {
     "name": "stderr",
     "output_type": "stream",
     "text": [
      "Epoch 16/500 [Training]: 100%|██████████| 13/13 [00:00<00:00, 95.22it/s, loss=1.2454]\n",
      "Epoch 16/500 [Validation]: 100%|██████████| 1250/1250 [00:02<00:00, 575.24it/s]\n"
     ]
    },
    {
     "name": "stdout",
     "output_type": "stream",
     "text": [
      "Epoch [16/500] - \n",
      "Train Loss: 1.0795, Train Accuracy: 66.00%, \n",
      "Validation Loss: 1.5681, Validation Accuracy: 42.86%\n",
      "\n"
     ]
    },
    {
     "name": "stderr",
     "output_type": "stream",
     "text": [
      "Epoch 17/500 [Training]: 100%|██████████| 13/13 [00:00<00:00, 239.72it/s, loss=1.4373]\n",
      "Epoch 17/500 [Validation]: 100%|██████████| 1250/1250 [00:01<00:00, 786.37it/s]\n"
     ]
    },
    {
     "name": "stdout",
     "output_type": "stream",
     "text": [
      "Epoch [17/500] - \n",
      "Train Loss: 1.0311, Train Accuracy: 75.00%, \n",
      "Validation Loss: 1.3873, Validation Accuracy: 47.63%\n",
      "\n"
     ]
    },
    {
     "name": "stderr",
     "output_type": "stream",
     "text": [
      "Epoch 18/500 [Training]: 100%|██████████| 13/13 [00:00<00:00, 271.84it/s, loss=1.5135]\n",
      "Epoch 18/500 [Validation]: 100%|██████████| 1250/1250 [00:01<00:00, 866.44it/s]\n"
     ]
    },
    {
     "name": "stdout",
     "output_type": "stream",
     "text": [
      "Epoch [18/500] - \n",
      "Train Loss: 1.0171, Train Accuracy: 66.00%, \n",
      "Validation Loss: 1.7305, Validation Accuracy: 38.11%\n",
      "\n"
     ]
    },
    {
     "name": "stderr",
     "output_type": "stream",
     "text": [
      "Epoch 19/500 [Training]: 100%|██████████| 13/13 [00:00<00:00, 144.83it/s, loss=0.9157]\n",
      "Epoch 19/500 [Validation]: 100%|██████████| 1250/1250 [00:01<00:00, 863.47it/s]\n"
     ]
    },
    {
     "name": "stdout",
     "output_type": "stream",
     "text": [
      "Epoch [19/500] - \n",
      "Train Loss: 0.9815, Train Accuracy: 75.00%, \n",
      "Validation Loss: 1.3055, Validation Accuracy: 54.04%\n",
      "\n"
     ]
    },
    {
     "name": "stderr",
     "output_type": "stream",
     "text": [
      "Epoch 20/500 [Training]: 100%|██████████| 13/13 [00:00<00:00, 148.39it/s, loss=1.0475]\n",
      "Epoch 20/500 [Validation]: 100%|██████████| 1250/1250 [00:01<00:00, 823.60it/s]\n"
     ]
    },
    {
     "name": "stdout",
     "output_type": "stream",
     "text": [
      "Epoch [20/500] - \n",
      "Train Loss: 0.8904, Train Accuracy: 77.00%, \n",
      "Validation Loss: 1.6855, Validation Accuracy: 36.76%\n",
      "\n"
     ]
    },
    {
     "name": "stderr",
     "output_type": "stream",
     "text": [
      "Epoch 21/500 [Training]: 100%|██████████| 13/13 [00:00<00:00, 108.24it/s, loss=0.8672]\n",
      "Epoch 21/500 [Validation]: 100%|██████████| 1250/1250 [00:01<00:00, 860.44it/s]\n"
     ]
    },
    {
     "name": "stdout",
     "output_type": "stream",
     "text": [
      "Epoch [21/500] - \n",
      "Train Loss: 0.8535, Train Accuracy: 77.00%, \n",
      "Validation Loss: 1.4472, Validation Accuracy: 51.05%\n",
      "\n"
     ]
    },
    {
     "name": "stderr",
     "output_type": "stream",
     "text": [
      "Epoch 22/500 [Training]: 100%|██████████| 13/13 [00:00<00:00, 180.83it/s, loss=0.8303]\n",
      "Epoch 22/500 [Validation]: 100%|██████████| 1250/1250 [00:01<00:00, 826.62it/s]\n"
     ]
    },
    {
     "name": "stdout",
     "output_type": "stream",
     "text": [
      "Epoch [22/500] - \n",
      "Train Loss: 0.7545, Train Accuracy: 83.00%, \n",
      "Validation Loss: 2.0542, Validation Accuracy: 38.64%\n",
      "\n"
     ]
    },
    {
     "name": "stderr",
     "output_type": "stream",
     "text": [
      "Epoch 23/500 [Training]: 100%|██████████| 13/13 [00:00<00:00, 249.85it/s, loss=0.6734]\n",
      "Epoch 23/500 [Validation]: 100%|██████████| 1250/1250 [00:01<00:00, 803.47it/s]\n"
     ]
    },
    {
     "name": "stdout",
     "output_type": "stream",
     "text": [
      "Epoch [23/500] - \n",
      "Train Loss: 0.7422, Train Accuracy: 84.00%, \n",
      "Validation Loss: 1.6845, Validation Accuracy: 41.96%\n",
      "\n"
     ]
    },
    {
     "name": "stderr",
     "output_type": "stream",
     "text": [
      "Epoch 24/500 [Training]: 100%|██████████| 13/13 [00:00<00:00, 237.94it/s, loss=0.6182]\n",
      "Epoch 24/500 [Validation]: 100%|██████████| 1250/1250 [00:01<00:00, 787.88it/s]\n"
     ]
    },
    {
     "name": "stdout",
     "output_type": "stream",
     "text": [
      "Epoch [24/500] - \n",
      "Train Loss: 0.7132, Train Accuracy: 82.00%, \n",
      "Validation Loss: 1.4515, Validation Accuracy: 48.88%\n",
      "\n"
     ]
    },
    {
     "name": "stderr",
     "output_type": "stream",
     "text": [
      "Epoch 25/500 [Training]: 100%|██████████| 13/13 [00:00<00:00, 148.94it/s, loss=0.7604]\n",
      "Epoch 25/500 [Validation]: 100%|██████████| 1250/1250 [00:01<00:00, 864.34it/s]\n"
     ]
    },
    {
     "name": "stdout",
     "output_type": "stream",
     "text": [
      "Epoch [25/500] - \n",
      "Train Loss: 0.7576, Train Accuracy: 79.00%, \n",
      "Validation Loss: 1.3966, Validation Accuracy: 50.99%\n",
      "\n"
     ]
    },
    {
     "name": "stderr",
     "output_type": "stream",
     "text": [
      "Epoch 26/500 [Training]: 100%|██████████| 13/13 [00:00<00:00, 148.88it/s, loss=1.1608]\n",
      "Epoch 26/500 [Validation]: 100%|██████████| 1250/1250 [00:01<00:00, 886.13it/s]\n"
     ]
    },
    {
     "name": "stdout",
     "output_type": "stream",
     "text": [
      "Epoch [26/500] - \n",
      "Train Loss: 0.8343, Train Accuracy: 77.00%, \n",
      "Validation Loss: 1.8438, Validation Accuracy: 36.45%\n",
      "\n"
     ]
    },
    {
     "name": "stderr",
     "output_type": "stream",
     "text": [
      "Epoch 27/500 [Training]: 100%|██████████| 13/13 [00:00<00:00, 136.81it/s, loss=0.9316]\n",
      "Epoch 27/500 [Validation]: 100%|██████████| 1250/1250 [00:01<00:00, 862.04it/s]\n"
     ]
    },
    {
     "name": "stdout",
     "output_type": "stream",
     "text": [
      "Epoch [27/500] - \n",
      "Train Loss: 0.7682, Train Accuracy: 80.00%, \n",
      "Validation Loss: 1.5928, Validation Accuracy: 42.17%\n",
      "\n"
     ]
    },
    {
     "name": "stderr",
     "output_type": "stream",
     "text": [
      "Epoch 28/500 [Training]: 100%|██████████| 13/13 [00:00<00:00, 172.52it/s, loss=0.5165]\n",
      "Epoch 28/500 [Validation]: 100%|██████████| 1250/1250 [00:01<00:00, 732.57it/s]\n"
     ]
    },
    {
     "name": "stdout",
     "output_type": "stream",
     "text": [
      "Epoch [28/500] - \n",
      "Train Loss: 0.5706, Train Accuracy: 93.00%, \n",
      "Validation Loss: 1.3456, Validation Accuracy: 48.38%\n",
      "\n"
     ]
    },
    {
     "name": "stderr",
     "output_type": "stream",
     "text": [
      "Epoch 29/500 [Training]: 100%|██████████| 13/13 [00:00<00:00, 179.06it/s, loss=0.8794]\n",
      "Epoch 29/500 [Validation]: 100%|██████████| 1250/1250 [00:01<00:00, 808.76it/s]\n"
     ]
    },
    {
     "name": "stdout",
     "output_type": "stream",
     "text": [
      "Epoch [29/500] - \n",
      "Train Loss: 0.5487, Train Accuracy: 87.00%, \n",
      "Validation Loss: 1.5306, Validation Accuracy: 50.83%\n",
      "\n"
     ]
    },
    {
     "name": "stderr",
     "output_type": "stream",
     "text": [
      "Epoch 30/500 [Training]: 100%|██████████| 13/13 [00:00<00:00, 135.80it/s, loss=1.4201]\n",
      "Epoch 30/500 [Validation]: 100%|██████████| 1250/1250 [00:01<00:00, 702.92it/s]\n"
     ]
    },
    {
     "name": "stdout",
     "output_type": "stream",
     "text": [
      "Epoch [30/500] - \n",
      "Train Loss: 0.5583, Train Accuracy: 89.00%, \n",
      "Validation Loss: 1.6771, Validation Accuracy: 43.78%\n",
      "\n"
     ]
    },
    {
     "name": "stderr",
     "output_type": "stream",
     "text": [
      "Epoch 31/500 [Training]: 100%|██████████| 13/13 [00:00<00:00, 80.74it/s, loss=1.1442]\n",
      "Epoch 31/500 [Validation]: 100%|██████████| 1250/1250 [00:01<00:00, 815.76it/s]\n"
     ]
    },
    {
     "name": "stdout",
     "output_type": "stream",
     "text": [
      "Epoch [31/500] - \n",
      "Train Loss: 0.5071, Train Accuracy: 90.00%, \n",
      "Validation Loss: 2.0318, Validation Accuracy: 36.65%\n",
      "\n"
     ]
    },
    {
     "name": "stderr",
     "output_type": "stream",
     "text": [
      "Epoch 32/500 [Training]: 100%|██████████| 13/13 [00:00<00:00, 271.79it/s, loss=0.3039]\n",
      "Epoch 32/500 [Validation]: 100%|██████████| 1250/1250 [00:01<00:00, 818.53it/s]\n"
     ]
    },
    {
     "name": "stdout",
     "output_type": "stream",
     "text": [
      "Epoch [32/500] - \n",
      "Train Loss: 0.4413, Train Accuracy: 94.00%, \n",
      "Validation Loss: 1.4139, Validation Accuracy: 51.81%\n",
      "\n"
     ]
    },
    {
     "name": "stderr",
     "output_type": "stream",
     "text": [
      "Epoch 33/500 [Training]: 100%|██████████| 13/13 [00:00<00:00, 240.69it/s, loss=0.6685]\n",
      "Epoch 33/500 [Validation]: 100%|██████████| 1250/1250 [00:01<00:00, 817.48it/s]\n"
     ]
    },
    {
     "name": "stdout",
     "output_type": "stream",
     "text": [
      "Epoch [33/500] - \n",
      "Train Loss: 0.5117, Train Accuracy: 88.00%, \n",
      "Validation Loss: 1.7981, Validation Accuracy: 45.37%\n",
      "\n"
     ]
    },
    {
     "name": "stderr",
     "output_type": "stream",
     "text": [
      "Epoch 34/500 [Training]: 100%|██████████| 13/13 [00:00<00:00, 233.42it/s, loss=0.5893]\n",
      "Epoch 34/500 [Validation]: 100%|██████████| 1250/1250 [00:01<00:00, 871.94it/s]\n"
     ]
    },
    {
     "name": "stdout",
     "output_type": "stream",
     "text": [
      "Epoch [34/500] - \n",
      "Train Loss: 0.4595, Train Accuracy: 91.00%, \n",
      "Validation Loss: 2.6005, Validation Accuracy: 27.32%\n",
      "\n"
     ]
    },
    {
     "name": "stderr",
     "output_type": "stream",
     "text": [
      "Epoch 35/500 [Training]: 100%|██████████| 13/13 [00:00<00:00, 202.81it/s, loss=0.4683]\n",
      "Epoch 35/500 [Validation]: 100%|██████████| 1250/1250 [00:01<00:00, 844.61it/s]\n"
     ]
    },
    {
     "name": "stdout",
     "output_type": "stream",
     "text": [
      "Epoch [35/500] - \n",
      "Train Loss: 0.4170, Train Accuracy: 92.00%, \n",
      "Validation Loss: 2.4886, Validation Accuracy: 32.07%\n",
      "\n"
     ]
    },
    {
     "name": "stderr",
     "output_type": "stream",
     "text": [
      "Epoch 36/500 [Training]: 100%|██████████| 13/13 [00:00<00:00, 208.76it/s, loss=0.7463]\n",
      "Epoch 36/500 [Validation]: 100%|██████████| 1250/1250 [00:01<00:00, 836.23it/s]\n"
     ]
    },
    {
     "name": "stdout",
     "output_type": "stream",
     "text": [
      "Epoch [36/500] - \n",
      "Train Loss: 0.4468, Train Accuracy: 90.00%, \n",
      "Validation Loss: 2.5494, Validation Accuracy: 35.25%\n",
      "\n"
     ]
    },
    {
     "name": "stderr",
     "output_type": "stream",
     "text": [
      "Epoch 37/500 [Training]: 100%|██████████| 13/13 [00:00<00:00, 158.30it/s, loss=1.7008]\n",
      "Epoch 37/500 [Validation]: 100%|██████████| 1250/1250 [00:01<00:00, 837.97it/s]\n"
     ]
    },
    {
     "name": "stdout",
     "output_type": "stream",
     "text": [
      "Epoch [37/500] - \n",
      "Train Loss: 0.5419, Train Accuracy: 88.00%, \n",
      "Validation Loss: 1.9550, Validation Accuracy: 42.14%\n",
      "\n"
     ]
    },
    {
     "name": "stderr",
     "output_type": "stream",
     "text": [
      "Epoch 38/500 [Training]: 100%|██████████| 13/13 [00:00<00:00, 106.06it/s, loss=0.4738]\n",
      "Epoch 38/500 [Validation]: 100%|██████████| 1250/1250 [00:01<00:00, 876.18it/s]\n"
     ]
    },
    {
     "name": "stdout",
     "output_type": "stream",
     "text": [
      "Epoch [38/500] - \n",
      "Train Loss: 0.3884, Train Accuracy: 97.00%, \n",
      "Validation Loss: 2.1632, Validation Accuracy: 37.30%\n",
      "\n"
     ]
    },
    {
     "name": "stderr",
     "output_type": "stream",
     "text": [
      "Epoch 39/500 [Training]: 100%|██████████| 13/13 [00:00<00:00, 157.46it/s, loss=0.3283]\n",
      "Epoch 39/500 [Validation]: 100%|██████████| 1250/1250 [00:01<00:00, 872.96it/s]\n"
     ]
    },
    {
     "name": "stdout",
     "output_type": "stream",
     "text": [
      "Epoch [39/500] - \n",
      "Train Loss: 0.3228, Train Accuracy: 96.00%, \n",
      "Validation Loss: 1.3613, Validation Accuracy: 54.93%\n",
      "\n"
     ]
    },
    {
     "name": "stderr",
     "output_type": "stream",
     "text": [
      "Epoch 40/500 [Training]: 100%|██████████| 13/13 [00:00<00:00, 129.27it/s, loss=0.7672]\n",
      "Epoch 40/500 [Validation]: 100%|██████████| 1250/1250 [00:01<00:00, 832.35it/s]\n"
     ]
    },
    {
     "name": "stdout",
     "output_type": "stream",
     "text": [
      "Epoch [40/500] - \n",
      "Train Loss: 0.2935, Train Accuracy: 94.00%, \n",
      "Validation Loss: 1.3763, Validation Accuracy: 56.13%\n",
      "\n"
     ]
    },
    {
     "name": "stderr",
     "output_type": "stream",
     "text": [
      "Epoch 41/500 [Training]: 100%|██████████| 13/13 [00:00<00:00, 275.91it/s, loss=0.1702]\n",
      "Epoch 41/500 [Validation]: 100%|██████████| 1250/1250 [00:01<00:00, 864.86it/s]\n"
     ]
    },
    {
     "name": "stdout",
     "output_type": "stream",
     "text": [
      "Epoch [41/500] - \n",
      "Train Loss: 0.2948, Train Accuracy: 96.00%, \n",
      "Validation Loss: 1.3651, Validation Accuracy: 54.53%\n",
      "\n"
     ]
    },
    {
     "name": "stderr",
     "output_type": "stream",
     "text": [
      "Epoch 42/500 [Training]: 100%|██████████| 13/13 [00:00<00:00, 276.45it/s, loss=0.3330]\n",
      "Epoch 42/500 [Validation]: 100%|██████████| 1250/1250 [00:01<00:00, 855.91it/s]\n"
     ]
    },
    {
     "name": "stdout",
     "output_type": "stream",
     "text": [
      "Epoch [42/500] - \n",
      "Train Loss: 0.2881, Train Accuracy: 94.00%, \n",
      "Validation Loss: 1.3015, Validation Accuracy: 53.51%\n",
      "\n"
     ]
    },
    {
     "name": "stderr",
     "output_type": "stream",
     "text": [
      "Epoch 43/500 [Training]: 100%|██████████| 13/13 [00:00<00:00, 184.00it/s, loss=0.2485]\n",
      "Epoch 43/500 [Validation]: 100%|██████████| 1250/1250 [00:01<00:00, 845.71it/s]\n"
     ]
    },
    {
     "name": "stdout",
     "output_type": "stream",
     "text": [
      "Epoch [43/500] - \n",
      "Train Loss: 0.2265, Train Accuracy: 96.00%, \n",
      "Validation Loss: 1.1217, Validation Accuracy: 62.86%\n",
      "\n"
     ]
    },
    {
     "name": "stderr",
     "output_type": "stream",
     "text": [
      "Epoch 44/500 [Training]: 100%|██████████| 13/13 [00:00<00:00, 253.26it/s, loss=0.3357]\n",
      "Epoch 44/500 [Validation]: 100%|██████████| 1250/1250 [00:01<00:00, 836.16it/s]\n"
     ]
    },
    {
     "name": "stdout",
     "output_type": "stream",
     "text": [
      "Epoch [44/500] - \n",
      "Train Loss: 0.2475, Train Accuracy: 95.00%, \n",
      "Validation Loss: 2.5744, Validation Accuracy: 36.87%\n",
      "\n"
     ]
    },
    {
     "name": "stderr",
     "output_type": "stream",
     "text": [
      "Epoch 45/500 [Training]: 100%|██████████| 13/13 [00:00<00:00, 210.30it/s, loss=0.4275]\n",
      "Epoch 45/500 [Validation]: 100%|██████████| 1250/1250 [00:01<00:00, 862.21it/s]\n"
     ]
    },
    {
     "name": "stdout",
     "output_type": "stream",
     "text": [
      "Epoch [45/500] - \n",
      "Train Loss: 0.1999, Train Accuracy: 99.00%, \n",
      "Validation Loss: 1.2473, Validation Accuracy: 59.19%\n",
      "\n"
     ]
    },
    {
     "name": "stderr",
     "output_type": "stream",
     "text": [
      "Epoch 46/500 [Training]: 100%|██████████| 13/13 [00:00<00:00, 160.29it/s, loss=0.2823]\n",
      "Epoch 46/500 [Validation]: 100%|██████████| 1250/1250 [00:01<00:00, 859.36it/s]\n"
     ]
    },
    {
     "name": "stdout",
     "output_type": "stream",
     "text": [
      "Epoch [46/500] - \n",
      "Train Loss: 0.2268, Train Accuracy: 96.00%, \n",
      "Validation Loss: 1.7059, Validation Accuracy: 43.30%\n",
      "\n"
     ]
    },
    {
     "name": "stderr",
     "output_type": "stream",
     "text": [
      "Epoch 47/500 [Training]: 100%|██████████| 13/13 [00:00<00:00, 154.41it/s, loss=0.2065]\n",
      "Epoch 47/500 [Validation]: 100%|██████████| 1250/1250 [00:01<00:00, 872.17it/s]\n"
     ]
    },
    {
     "name": "stdout",
     "output_type": "stream",
     "text": [
      "Epoch [47/500] - \n",
      "Train Loss: 0.2278, Train Accuracy: 97.00%, \n",
      "Validation Loss: 1.9504, Validation Accuracy: 40.76%\n",
      "\n"
     ]
    },
    {
     "name": "stderr",
     "output_type": "stream",
     "text": [
      "Epoch 48/500 [Training]: 100%|██████████| 13/13 [00:00<00:00, 156.13it/s, loss=0.5555]\n",
      "Epoch 48/500 [Validation]: 100%|██████████| 1250/1250 [00:01<00:00, 845.32it/s]\n"
     ]
    },
    {
     "name": "stdout",
     "output_type": "stream",
     "text": [
      "Epoch [48/500] - \n",
      "Train Loss: 0.2085, Train Accuracy: 100.00%, \n",
      "Validation Loss: 1.3983, Validation Accuracy: 54.76%\n",
      "\n"
     ]
    },
    {
     "name": "stderr",
     "output_type": "stream",
     "text": [
      "Epoch 49/500 [Training]: 100%|██████████| 13/13 [00:00<00:00, 139.88it/s, loss=0.1264]\n",
      "Epoch 49/500 [Validation]: 100%|██████████| 1250/1250 [00:01<00:00, 850.89it/s]\n"
     ]
    },
    {
     "name": "stdout",
     "output_type": "stream",
     "text": [
      "Epoch [49/500] - \n",
      "Train Loss: 0.2028, Train Accuracy: 97.00%, \n",
      "Validation Loss: 1.6717, Validation Accuracy: 52.75%\n",
      "\n"
     ]
    },
    {
     "name": "stderr",
     "output_type": "stream",
     "text": [
      "Epoch 50/500 [Training]: 100%|██████████| 13/13 [00:00<00:00, 174.59it/s, loss=0.4173]\n",
      "Epoch 50/500 [Validation]: 100%|██████████| 1250/1250 [00:01<00:00, 880.24it/s]\n"
     ]
    },
    {
     "name": "stdout",
     "output_type": "stream",
     "text": [
      "Epoch [50/500] - \n",
      "Train Loss: 0.2064, Train Accuracy: 98.00%, \n",
      "Validation Loss: 1.4313, Validation Accuracy: 53.83%\n",
      "\n"
     ]
    },
    {
     "name": "stderr",
     "output_type": "stream",
     "text": [
      "Epoch 51/500 [Training]: 100%|██████████| 13/13 [00:00<00:00, 185.84it/s, loss=0.0597]\n",
      "Epoch 51/500 [Validation]: 100%|██████████| 1250/1250 [00:01<00:00, 882.06it/s]\n"
     ]
    },
    {
     "name": "stdout",
     "output_type": "stream",
     "text": [
      "Epoch [51/500] - \n",
      "Train Loss: 0.1298, Train Accuracy: 100.00%, \n",
      "Validation Loss: 0.9646, Validation Accuracy: 69.51%\n",
      "\n"
     ]
    },
    {
     "name": "stderr",
     "output_type": "stream",
     "text": [
      "Epoch 52/500 [Training]: 100%|██████████| 13/13 [00:00<00:00, 182.99it/s, loss=0.0935]\n",
      "Epoch 52/500 [Validation]: 100%|██████████| 1250/1250 [00:01<00:00, 880.45it/s]\n"
     ]
    },
    {
     "name": "stdout",
     "output_type": "stream",
     "text": [
      "Epoch [52/500] - \n",
      "Train Loss: 0.0945, Train Accuracy: 100.00%, \n",
      "Validation Loss: 1.1210, Validation Accuracy: 62.50%\n",
      "\n"
     ]
    },
    {
     "name": "stderr",
     "output_type": "stream",
     "text": [
      "Epoch 53/500 [Training]: 100%|██████████| 13/13 [00:00<00:00, 133.24it/s, loss=0.1050]\n",
      "Epoch 53/500 [Validation]: 100%|██████████| 1250/1250 [00:01<00:00, 876.70it/s]\n"
     ]
    },
    {
     "name": "stdout",
     "output_type": "stream",
     "text": [
      "Epoch [53/500] - \n",
      "Train Loss: 0.0601, Train Accuracy: 100.00%, \n",
      "Validation Loss: 0.9648, Validation Accuracy: 69.07%\n",
      "\n"
     ]
    },
    {
     "name": "stderr",
     "output_type": "stream",
     "text": [
      "Epoch 54/500 [Training]: 100%|██████████| 13/13 [00:00<00:00, 130.69it/s, loss=0.3334]\n",
      "Epoch 54/500 [Validation]: 100%|██████████| 1250/1250 [00:01<00:00, 845.91it/s]\n"
     ]
    },
    {
     "name": "stdout",
     "output_type": "stream",
     "text": [
      "Epoch [54/500] - \n",
      "Train Loss: 0.0838, Train Accuracy: 100.00%, \n",
      "Validation Loss: 0.9540, Validation Accuracy: 69.36%\n",
      "\n"
     ]
    },
    {
     "name": "stderr",
     "output_type": "stream",
     "text": [
      "Epoch 55/500 [Training]: 100%|██████████| 13/13 [00:00<00:00, 173.36it/s, loss=0.0870]\n",
      "Epoch 55/500 [Validation]: 100%|██████████| 1250/1250 [00:01<00:00, 870.33it/s]\n"
     ]
    },
    {
     "name": "stdout",
     "output_type": "stream",
     "text": [
      "Epoch [55/500] - \n",
      "Train Loss: 0.0727, Train Accuracy: 100.00%, \n",
      "Validation Loss: 0.9178, Validation Accuracy: 70.00%\n",
      "\n"
     ]
    },
    {
     "name": "stderr",
     "output_type": "stream",
     "text": [
      "Epoch 56/500 [Training]: 100%|██████████| 13/13 [00:00<00:00, 147.77it/s, loss=0.0352]\n",
      "Epoch 56/500 [Validation]: 100%|██████████| 1250/1250 [00:01<00:00, 839.39it/s]\n"
     ]
    },
    {
     "name": "stdout",
     "output_type": "stream",
     "text": [
      "Epoch [56/500] - \n",
      "Train Loss: 0.0680, Train Accuracy: 100.00%, \n",
      "Validation Loss: 0.9734, Validation Accuracy: 68.21%\n",
      "\n"
     ]
    },
    {
     "name": "stderr",
     "output_type": "stream",
     "text": [
      "Epoch 57/500 [Training]: 100%|██████████| 13/13 [00:00<00:00, 145.14it/s, loss=0.0576]\n",
      "Epoch 57/500 [Validation]: 100%|██████████| 1250/1250 [00:01<00:00, 827.47it/s]\n"
     ]
    },
    {
     "name": "stdout",
     "output_type": "stream",
     "text": [
      "Epoch [57/500] - \n",
      "Train Loss: 0.0561, Train Accuracy: 100.00%, \n",
      "Validation Loss: 0.9528, Validation Accuracy: 69.62%\n",
      "\n"
     ]
    },
    {
     "name": "stderr",
     "output_type": "stream",
     "text": [
      "Epoch 58/500 [Training]: 100%|██████████| 13/13 [00:00<00:00, 117.79it/s, loss=0.2646]\n",
      "Epoch 58/500 [Validation]: 100%|██████████| 1250/1250 [00:01<00:00, 799.92it/s]\n"
     ]
    },
    {
     "name": "stdout",
     "output_type": "stream",
     "text": [
      "Epoch [58/500] - \n",
      "Train Loss: 0.0634, Train Accuracy: 100.00%, \n",
      "Validation Loss: 0.9973, Validation Accuracy: 67.89%\n",
      "\n"
     ]
    },
    {
     "name": "stderr",
     "output_type": "stream",
     "text": [
      "Epoch 59/500 [Training]: 100%|██████████| 13/13 [00:00<00:00, 153.20it/s, loss=0.0842]\n",
      "Epoch 59/500 [Validation]: 100%|██████████| 1250/1250 [00:01<00:00, 892.81it/s]\n"
     ]
    },
    {
     "name": "stdout",
     "output_type": "stream",
     "text": [
      "Epoch [59/500] - \n",
      "Train Loss: 0.0710, Train Accuracy: 99.00%, \n",
      "Validation Loss: 1.1197, Validation Accuracy: 63.58%\n",
      "\n"
     ]
    },
    {
     "name": "stderr",
     "output_type": "stream",
     "text": [
      "Epoch 60/500 [Training]: 100%|██████████| 13/13 [00:00<00:00, 162.69it/s, loss=0.0326]\n",
      "Epoch 60/500 [Validation]: 100%|██████████| 1250/1250 [00:01<00:00, 819.53it/s]\n"
     ]
    },
    {
     "name": "stdout",
     "output_type": "stream",
     "text": [
      "Epoch [60/500] - \n",
      "Train Loss: 0.0969, Train Accuracy: 100.00%, \n",
      "Validation Loss: 1.3237, Validation Accuracy: 57.79%\n",
      "\n"
     ]
    },
    {
     "name": "stderr",
     "output_type": "stream",
     "text": [
      "Epoch 61/500 [Training]: 100%|██████████| 13/13 [00:00<00:00, 157.29it/s, loss=0.0760]\n",
      "Epoch 61/500 [Validation]: 100%|██████████| 1250/1250 [00:01<00:00, 848.75it/s]\n"
     ]
    },
    {
     "name": "stdout",
     "output_type": "stream",
     "text": [
      "Epoch [61/500] - \n",
      "Train Loss: 0.0749, Train Accuracy: 100.00%, \n",
      "Validation Loss: 1.1122, Validation Accuracy: 63.26%\n",
      "\n"
     ]
    },
    {
     "name": "stderr",
     "output_type": "stream",
     "text": [
      "Epoch 62/500 [Training]: 100%|██████████| 13/13 [00:00<00:00, 162.97it/s, loss=0.1251]\n",
      "Epoch 62/500 [Validation]: 100%|██████████| 1250/1250 [00:01<00:00, 843.84it/s]\n"
     ]
    },
    {
     "name": "stdout",
     "output_type": "stream",
     "text": [
      "Epoch [62/500] - \n",
      "Train Loss: 0.0619, Train Accuracy: 100.00%, \n",
      "Validation Loss: 1.2985, Validation Accuracy: 58.34%\n",
      "\n"
     ]
    },
    {
     "name": "stderr",
     "output_type": "stream",
     "text": [
      "Epoch 63/500 [Training]: 100%|██████████| 13/13 [00:00<00:00, 116.60it/s, loss=0.0241]\n",
      "Epoch 63/500 [Validation]: 100%|██████████| 1250/1250 [00:01<00:00, 794.33it/s]\n"
     ]
    },
    {
     "name": "stdout",
     "output_type": "stream",
     "text": [
      "Epoch [63/500] - \n",
      "Train Loss: 0.0513, Train Accuracy: 100.00%, \n",
      "Validation Loss: 1.1255, Validation Accuracy: 63.14%\n",
      "\n"
     ]
    },
    {
     "name": "stderr",
     "output_type": "stream",
     "text": [
      "Epoch 64/500 [Training]: 100%|██████████| 13/13 [00:00<00:00, 156.56it/s, loss=0.2769]\n",
      "Epoch 64/500 [Validation]: 100%|██████████| 1250/1250 [00:01<00:00, 842.35it/s]\n"
     ]
    },
    {
     "name": "stdout",
     "output_type": "stream",
     "text": [
      "Epoch [64/500] - \n",
      "Train Loss: 0.0728, Train Accuracy: 100.00%, \n",
      "Validation Loss: 1.0119, Validation Accuracy: 67.16%\n",
      "\n"
     ]
    },
    {
     "name": "stderr",
     "output_type": "stream",
     "text": [
      "Epoch 65/500 [Training]: 100%|██████████| 13/13 [00:00<00:00, 122.13it/s, loss=0.3014]\n",
      "Epoch 65/500 [Validation]: 100%|██████████| 1250/1250 [00:01<00:00, 761.74it/s]\n"
     ]
    },
    {
     "name": "stdout",
     "output_type": "stream",
     "text": [
      "Epoch [65/500] - \n",
      "Train Loss: 0.0809, Train Accuracy: 100.00%, \n",
      "Validation Loss: 0.9705, Validation Accuracy: 69.11%\n",
      "\n"
     ]
    },
    {
     "name": "stderr",
     "output_type": "stream",
     "text": [
      "Epoch 66/500 [Training]: 100%|██████████| 13/13 [00:00<00:00, 156.72it/s, loss=0.0589]\n",
      "Epoch 66/500 [Validation]: 100%|██████████| 1250/1250 [00:01<00:00, 838.38it/s]\n"
     ]
    },
    {
     "name": "stdout",
     "output_type": "stream",
     "text": [
      "Epoch [66/500] - \n",
      "Train Loss: 0.0642, Train Accuracy: 100.00%, \n",
      "Validation Loss: 1.5147, Validation Accuracy: 54.72%\n",
      "\n"
     ]
    },
    {
     "name": "stderr",
     "output_type": "stream",
     "text": [
      "Epoch 67/500 [Training]: 100%|██████████| 13/13 [00:00<00:00, 182.01it/s, loss=0.4230]\n",
      "Epoch 67/500 [Validation]: 100%|██████████| 1250/1250 [00:01<00:00, 837.09it/s]\n"
     ]
    },
    {
     "name": "stdout",
     "output_type": "stream",
     "text": [
      "Epoch [67/500] - \n",
      "Train Loss: 0.0861, Train Accuracy: 100.00%, \n",
      "Validation Loss: 1.0381, Validation Accuracy: 66.05%\n",
      "\n"
     ]
    },
    {
     "name": "stderr",
     "output_type": "stream",
     "text": [
      "Epoch 68/500 [Training]: 100%|██████████| 13/13 [00:00<00:00, 111.87it/s, loss=0.0905]\n",
      "Epoch 68/500 [Validation]: 100%|██████████| 1250/1250 [00:01<00:00, 753.76it/s]\n"
     ]
    },
    {
     "name": "stdout",
     "output_type": "stream",
     "text": [
      "Epoch [68/500] - \n",
      "Train Loss: 0.0663, Train Accuracy: 100.00%, \n",
      "Validation Loss: 1.0224, Validation Accuracy: 67.87%\n",
      "\n"
     ]
    },
    {
     "name": "stderr",
     "output_type": "stream",
     "text": [
      "Epoch 69/500 [Training]: 100%|██████████| 13/13 [00:00<00:00, 107.96it/s, loss=0.1678]\n",
      "Epoch 69/500 [Validation]: 100%|██████████| 1250/1250 [00:01<00:00, 806.04it/s]\n"
     ]
    },
    {
     "name": "stdout",
     "output_type": "stream",
     "text": [
      "Epoch [69/500] - \n",
      "Train Loss: 0.0526, Train Accuracy: 100.00%, \n",
      "Validation Loss: 1.1551, Validation Accuracy: 64.48%\n",
      "\n"
     ]
    },
    {
     "name": "stderr",
     "output_type": "stream",
     "text": [
      "Epoch 70/500 [Training]: 100%|██████████| 13/13 [00:00<00:00, 118.03it/s, loss=0.1018]\n",
      "Epoch 70/500 [Validation]: 100%|██████████| 1250/1250 [00:01<00:00, 849.56it/s]\n"
     ]
    },
    {
     "name": "stdout",
     "output_type": "stream",
     "text": [
      "Epoch [70/500] - \n",
      "Train Loss: 0.0568, Train Accuracy: 100.00%, \n",
      "Validation Loss: 1.0031, Validation Accuracy: 66.90%\n",
      "\n"
     ]
    },
    {
     "name": "stderr",
     "output_type": "stream",
     "text": [
      "Epoch 71/500 [Training]: 100%|██████████| 13/13 [00:00<00:00, 115.05it/s, loss=0.8191]\n",
      "Epoch 71/500 [Validation]: 100%|██████████| 1250/1250 [00:01<00:00, 778.76it/s]\n"
     ]
    },
    {
     "name": "stdout",
     "output_type": "stream",
     "text": [
      "Epoch [71/500] - \n",
      "Train Loss: 0.0988, Train Accuracy: 99.00%, \n",
      "Validation Loss: 0.9734, Validation Accuracy: 67.90%\n",
      "\n"
     ]
    },
    {
     "name": "stderr",
     "output_type": "stream",
     "text": [
      "Epoch 72/500 [Training]: 100%|██████████| 13/13 [00:00<00:00, 232.66it/s, loss=0.4945]\n",
      "Epoch 72/500 [Validation]: 100%|██████████| 1250/1250 [00:01<00:00, 812.23it/s]\n"
     ]
    },
    {
     "name": "stdout",
     "output_type": "stream",
     "text": [
      "Epoch [72/500] - \n",
      "Train Loss: 0.1561, Train Accuracy: 99.00%, \n",
      "Validation Loss: 2.4996, Validation Accuracy: 32.55%\n",
      "\n"
     ]
    },
    {
     "name": "stderr",
     "output_type": "stream",
     "text": [
      "Epoch 73/500 [Training]: 100%|██████████| 13/13 [00:00<00:00, 262.85it/s, loss=0.1008]\n",
      "Epoch 73/500 [Validation]: 100%|██████████| 1250/1250 [00:01<00:00, 842.64it/s]\n"
     ]
    },
    {
     "name": "stdout",
     "output_type": "stream",
     "text": [
      "Epoch [73/500] - \n",
      "Train Loss: 0.1078, Train Accuracy: 100.00%, \n",
      "Validation Loss: 1.1551, Validation Accuracy: 62.22%\n",
      "\n"
     ]
    },
    {
     "name": "stderr",
     "output_type": "stream",
     "text": [
      "Epoch 74/500 [Training]: 100%|██████████| 13/13 [00:00<00:00, 244.43it/s, loss=0.3913]\n",
      "Epoch 74/500 [Validation]: 100%|██████████| 1250/1250 [00:01<00:00, 809.36it/s]\n"
     ]
    },
    {
     "name": "stdout",
     "output_type": "stream",
     "text": [
      "Epoch [74/500] - \n",
      "Train Loss: 0.1200, Train Accuracy: 99.00%, \n",
      "Validation Loss: 1.1968, Validation Accuracy: 59.76%\n",
      "\n"
     ]
    },
    {
     "name": "stderr",
     "output_type": "stream",
     "text": [
      "Epoch 75/500 [Training]: 100%|██████████| 13/13 [00:00<00:00, 209.94it/s, loss=0.0301]\n",
      "Epoch 75/500 [Validation]: 100%|██████████| 1250/1250 [00:01<00:00, 787.05it/s]\n"
     ]
    },
    {
     "name": "stdout",
     "output_type": "stream",
     "text": [
      "Epoch [75/500] - \n",
      "Train Loss: 0.0968, Train Accuracy: 99.00%, \n",
      "Validation Loss: 1.3969, Validation Accuracy: 55.52%\n",
      "\n"
     ]
    },
    {
     "name": "stderr",
     "output_type": "stream",
     "text": [
      "Epoch 76/500 [Training]: 100%|██████████| 13/13 [00:00<00:00, 229.86it/s, loss=0.1688]\n",
      "Epoch 76/500 [Validation]: 100%|██████████| 1250/1250 [00:01<00:00, 719.25it/s]\n"
     ]
    },
    {
     "name": "stdout",
     "output_type": "stream",
     "text": [
      "Epoch [76/500] - \n",
      "Train Loss: 0.1230, Train Accuracy: 97.00%, \n",
      "Validation Loss: 2.0719, Validation Accuracy: 43.36%\n",
      "\n"
     ]
    },
    {
     "name": "stderr",
     "output_type": "stream",
     "text": [
      "Epoch 77/500 [Training]: 100%|██████████| 13/13 [00:00<00:00, 173.12it/s, loss=0.0958]\n",
      "Epoch 77/500 [Validation]: 100%|██████████| 1250/1250 [00:01<00:00, 772.69it/s]\n"
     ]
    },
    {
     "name": "stdout",
     "output_type": "stream",
     "text": [
      "Epoch [77/500] - \n",
      "Train Loss: 0.0742, Train Accuracy: 100.00%, \n",
      "Validation Loss: 1.1068, Validation Accuracy: 63.45%\n",
      "\n"
     ]
    },
    {
     "name": "stderr",
     "output_type": "stream",
     "text": [
      "Epoch 78/500 [Training]: 100%|██████████| 13/13 [00:00<00:00, 182.44it/s, loss=0.3234]\n",
      "Epoch 78/500 [Validation]: 100%|██████████| 1250/1250 [00:01<00:00, 830.29it/s]\n"
     ]
    },
    {
     "name": "stdout",
     "output_type": "stream",
     "text": [
      "Epoch [78/500] - \n",
      "Train Loss: 0.0743, Train Accuracy: 100.00%, \n",
      "Validation Loss: 1.1043, Validation Accuracy: 65.10%\n",
      "\n"
     ]
    },
    {
     "name": "stderr",
     "output_type": "stream",
     "text": [
      "Epoch 79/500 [Training]: 100%|██████████| 13/13 [00:00<00:00, 231.61it/s, loss=0.0795]\n",
      "Epoch 79/500 [Validation]: 100%|██████████| 1250/1250 [00:01<00:00, 756.05it/s]\n"
     ]
    },
    {
     "name": "stdout",
     "output_type": "stream",
     "text": [
      "Epoch [79/500] - \n",
      "Train Loss: 0.0411, Train Accuracy: 100.00%, \n",
      "Validation Loss: 1.0791, Validation Accuracy: 65.06%\n",
      "\n"
     ]
    },
    {
     "name": "stderr",
     "output_type": "stream",
     "text": [
      "Epoch 80/500 [Training]: 100%|██████████| 13/13 [00:00<00:00, 177.40it/s, loss=0.0407]\n",
      "Epoch 80/500 [Validation]: 100%|██████████| 1250/1250 [00:01<00:00, 804.44it/s]\n"
     ]
    },
    {
     "name": "stdout",
     "output_type": "stream",
     "text": [
      "Epoch [80/500] - \n",
      "Train Loss: 0.0406, Train Accuracy: 100.00%, \n",
      "Validation Loss: 1.0750, Validation Accuracy: 66.59%\n",
      "\n"
     ]
    },
    {
     "name": "stderr",
     "output_type": "stream",
     "text": [
      "Epoch 81/500 [Training]: 100%|██████████| 13/13 [00:00<00:00, 204.70it/s, loss=0.0281]\n",
      "Epoch 81/500 [Validation]: 100%|██████████| 1250/1250 [00:01<00:00, 825.84it/s]\n"
     ]
    },
    {
     "name": "stdout",
     "output_type": "stream",
     "text": [
      "Epoch [81/500] - \n",
      "Train Loss: 0.0298, Train Accuracy: 100.00%, \n",
      "Validation Loss: 0.9325, Validation Accuracy: 70.72%\n",
      "\n"
     ]
    },
    {
     "name": "stderr",
     "output_type": "stream",
     "text": [
      "Epoch 82/500 [Training]: 100%|██████████| 13/13 [00:00<00:00, 157.00it/s, loss=0.0465]\n",
      "Epoch 82/500 [Validation]: 100%|██████████| 1250/1250 [00:01<00:00, 856.55it/s]\n"
     ]
    },
    {
     "name": "stdout",
     "output_type": "stream",
     "text": [
      "Epoch [82/500] - \n",
      "Train Loss: 0.0387, Train Accuracy: 100.00%, \n",
      "Validation Loss: 0.9989, Validation Accuracy: 69.03%\n",
      "\n"
     ]
    },
    {
     "name": "stderr",
     "output_type": "stream",
     "text": [
      "Epoch 83/500 [Training]: 100%|██████████| 13/13 [00:00<00:00, 139.60it/s, loss=0.0674]\n",
      "Epoch 83/500 [Validation]: 100%|██████████| 1250/1250 [00:01<00:00, 867.81it/s]\n"
     ]
    },
    {
     "name": "stdout",
     "output_type": "stream",
     "text": [
      "Epoch [83/500] - \n",
      "Train Loss: 0.0352, Train Accuracy: 100.00%, \n",
      "Validation Loss: 1.0604, Validation Accuracy: 67.70%\n",
      "\n"
     ]
    },
    {
     "name": "stderr",
     "output_type": "stream",
     "text": [
      "Epoch 84/500 [Training]: 100%|██████████| 13/13 [00:00<00:00, 126.71it/s, loss=0.1083]\n",
      "Epoch 84/500 [Validation]: 100%|██████████| 1250/1250 [00:01<00:00, 801.40it/s]\n"
     ]
    },
    {
     "name": "stdout",
     "output_type": "stream",
     "text": [
      "Epoch [84/500] - \n",
      "Train Loss: 0.0359, Train Accuracy: 100.00%, \n",
      "Validation Loss: 1.0895, Validation Accuracy: 63.34%\n",
      "\n"
     ]
    },
    {
     "name": "stderr",
     "output_type": "stream",
     "text": [
      "Epoch 85/500 [Training]: 100%|██████████| 13/13 [00:00<00:00, 152.86it/s, loss=0.0537]\n",
      "Epoch 85/500 [Validation]: 100%|██████████| 1250/1250 [00:01<00:00, 840.02it/s]\n"
     ]
    },
    {
     "name": "stdout",
     "output_type": "stream",
     "text": [
      "Epoch [85/500] - \n",
      "Train Loss: 0.0370, Train Accuracy: 100.00%, \n",
      "Validation Loss: 1.1119, Validation Accuracy: 62.36%\n",
      "\n"
     ]
    },
    {
     "name": "stderr",
     "output_type": "stream",
     "text": [
      "Epoch 86/500 [Training]: 100%|██████████| 13/13 [00:00<00:00, 104.18it/s, loss=0.0297]\n",
      "Epoch 86/500 [Validation]: 100%|██████████| 1250/1250 [00:01<00:00, 752.65it/s]\n"
     ]
    },
    {
     "name": "stdout",
     "output_type": "stream",
     "text": [
      "Epoch [86/500] - \n",
      "Train Loss: 0.0303, Train Accuracy: 100.00%, \n",
      "Validation Loss: 1.0332, Validation Accuracy: 67.45%\n",
      "\n"
     ]
    },
    {
     "name": "stderr",
     "output_type": "stream",
     "text": [
      "Epoch 87/500 [Training]: 100%|██████████| 13/13 [00:00<00:00, 275.74it/s, loss=0.0284]\n",
      "Epoch 87/500 [Validation]: 100%|██████████| 1250/1250 [00:01<00:00, 756.67it/s]\n"
     ]
    },
    {
     "name": "stdout",
     "output_type": "stream",
     "text": [
      "Epoch [87/500] - \n",
      "Train Loss: 0.0226, Train Accuracy: 100.00%, \n",
      "Validation Loss: 1.0863, Validation Accuracy: 64.93%\n",
      "\n"
     ]
    },
    {
     "name": "stderr",
     "output_type": "stream",
     "text": [
      "Epoch 88/500 [Training]: 100%|██████████| 13/13 [00:00<00:00, 245.68it/s, loss=0.0758]\n",
      "Epoch 88/500 [Validation]: 100%|██████████| 1250/1250 [00:01<00:00, 815.57it/s]\n"
     ]
    },
    {
     "name": "stdout",
     "output_type": "stream",
     "text": [
      "Epoch [88/500] - \n",
      "Train Loss: 0.0243, Train Accuracy: 100.00%, \n",
      "Validation Loss: 1.0222, Validation Accuracy: 68.30%\n",
      "\n"
     ]
    },
    {
     "name": "stderr",
     "output_type": "stream",
     "text": [
      "Epoch 89/500 [Training]: 100%|██████████| 13/13 [00:00<00:00, 191.26it/s, loss=0.0480]\n",
      "Epoch 89/500 [Validation]: 100%|██████████| 1250/1250 [00:01<00:00, 858.85it/s]\n"
     ]
    },
    {
     "name": "stdout",
     "output_type": "stream",
     "text": [
      "Epoch [89/500] - \n",
      "Train Loss: 0.0252, Train Accuracy: 100.00%, \n",
      "Validation Loss: 1.2621, Validation Accuracy: 63.60%\n",
      "\n"
     ]
    },
    {
     "name": "stderr",
     "output_type": "stream",
     "text": [
      "Epoch 90/500 [Training]: 100%|██████████| 13/13 [00:00<00:00, 125.03it/s, loss=0.0307]\n",
      "Epoch 90/500 [Validation]: 100%|██████████| 1250/1250 [00:01<00:00, 862.48it/s]\n"
     ]
    },
    {
     "name": "stdout",
     "output_type": "stream",
     "text": [
      "Epoch [90/500] - \n",
      "Train Loss: 0.0275, Train Accuracy: 100.00%, \n",
      "Validation Loss: 1.2424, Validation Accuracy: 61.45%\n",
      "\n"
     ]
    },
    {
     "name": "stderr",
     "output_type": "stream",
     "text": [
      "Epoch 91/500 [Training]: 100%|██████████| 13/13 [00:00<00:00, 155.39it/s, loss=0.0581]\n",
      "Epoch 91/500 [Validation]: 100%|██████████| 1250/1250 [00:01<00:00, 856.71it/s]\n"
     ]
    },
    {
     "name": "stdout",
     "output_type": "stream",
     "text": [
      "Epoch [91/500] - \n",
      "Train Loss: 0.0321, Train Accuracy: 100.00%, \n",
      "Validation Loss: 0.9432, Validation Accuracy: 70.93%\n",
      "\n"
     ]
    },
    {
     "name": "stderr",
     "output_type": "stream",
     "text": [
      "Epoch 92/500 [Training]: 100%|██████████| 13/13 [00:00<00:00, 141.94it/s, loss=0.0591]\n",
      "Epoch 92/500 [Validation]: 100%|██████████| 1250/1250 [00:01<00:00, 848.48it/s]\n"
     ]
    },
    {
     "name": "stdout",
     "output_type": "stream",
     "text": [
      "Epoch [92/500] - \n",
      "Train Loss: 0.0388, Train Accuracy: 100.00%, \n",
      "Validation Loss: 1.5021, Validation Accuracy: 56.04%\n",
      "\n"
     ]
    },
    {
     "name": "stderr",
     "output_type": "stream",
     "text": [
      "Epoch 93/500 [Training]: 100%|██████████| 13/13 [00:00<00:00, 153.34it/s, loss=0.0857]\n",
      "Epoch 93/500 [Validation]: 100%|██████████| 1250/1250 [00:01<00:00, 793.12it/s]\n"
     ]
    },
    {
     "name": "stdout",
     "output_type": "stream",
     "text": [
      "Epoch [93/500] - \n",
      "Train Loss: 0.0380, Train Accuracy: 100.00%, \n",
      "Validation Loss: 1.4660, Validation Accuracy: 56.28%\n",
      "\n"
     ]
    },
    {
     "name": "stderr",
     "output_type": "stream",
     "text": [
      "Epoch 94/500 [Training]: 100%|██████████| 13/13 [00:00<00:00, 130.35it/s, loss=0.0229]\n",
      "Epoch 94/500 [Validation]: 100%|██████████| 1250/1250 [00:01<00:00, 811.51it/s]\n"
     ]
    },
    {
     "name": "stdout",
     "output_type": "stream",
     "text": [
      "Epoch [94/500] - \n",
      "Train Loss: 0.0299, Train Accuracy: 100.00%, \n",
      "Validation Loss: 1.0038, Validation Accuracy: 67.25%\n",
      "\n"
     ]
    },
    {
     "name": "stderr",
     "output_type": "stream",
     "text": [
      "Epoch 95/500 [Training]: 100%|██████████| 13/13 [00:00<00:00, 179.25it/s, loss=0.0633]\n",
      "Epoch 95/500 [Validation]: 100%|██████████| 1250/1250 [00:01<00:00, 816.55it/s]\n"
     ]
    },
    {
     "name": "stdout",
     "output_type": "stream",
     "text": [
      "Epoch [95/500] - \n",
      "Train Loss: 0.0366, Train Accuracy: 100.00%, \n",
      "Validation Loss: 1.6646, Validation Accuracy: 49.79%\n",
      "\n"
     ]
    },
    {
     "name": "stderr",
     "output_type": "stream",
     "text": [
      "Epoch 96/500 [Training]: 100%|██████████| 13/13 [00:00<00:00, 152.11it/s, loss=0.0992]\n",
      "Epoch 96/500 [Validation]: 100%|██████████| 1250/1250 [00:01<00:00, 813.52it/s]\n"
     ]
    },
    {
     "name": "stdout",
     "output_type": "stream",
     "text": [
      "Epoch [96/500] - \n",
      "Train Loss: 0.0452, Train Accuracy: 100.00%, \n",
      "Validation Loss: 1.1240, Validation Accuracy: 63.87%\n",
      "\n"
     ]
    },
    {
     "name": "stderr",
     "output_type": "stream",
     "text": [
      "Epoch 97/500 [Training]: 100%|██████████| 13/13 [00:00<00:00, 143.08it/s, loss=0.0349]\n",
      "Epoch 97/500 [Validation]: 100%|██████████| 1250/1250 [00:01<00:00, 837.11it/s]\n"
     ]
    },
    {
     "name": "stdout",
     "output_type": "stream",
     "text": [
      "Epoch [97/500] - \n",
      "Train Loss: 0.0303, Train Accuracy: 100.00%, \n",
      "Validation Loss: 1.2382, Validation Accuracy: 59.54%\n",
      "\n"
     ]
    },
    {
     "name": "stderr",
     "output_type": "stream",
     "text": [
      "Epoch 98/500 [Training]: 100%|██████████| 13/13 [00:00<00:00, 141.06it/s, loss=0.0409]\n",
      "Epoch 98/500 [Validation]: 100%|██████████| 1250/1250 [00:01<00:00, 837.23it/s]\n"
     ]
    },
    {
     "name": "stdout",
     "output_type": "stream",
     "text": [
      "Epoch [98/500] - \n",
      "Train Loss: 0.0414, Train Accuracy: 100.00%, \n",
      "Validation Loss: 1.0726, Validation Accuracy: 66.40%\n",
      "\n"
     ]
    },
    {
     "name": "stderr",
     "output_type": "stream",
     "text": [
      "Epoch 99/500 [Training]: 100%|██████████| 13/13 [00:00<00:00, 154.26it/s, loss=0.0371]\n",
      "Epoch 99/500 [Validation]: 100%|██████████| 1250/1250 [00:01<00:00, 779.07it/s]\n"
     ]
    },
    {
     "name": "stdout",
     "output_type": "stream",
     "text": [
      "Epoch [99/500] - \n",
      "Train Loss: 0.0389, Train Accuracy: 100.00%, \n",
      "Validation Loss: 3.2219, Validation Accuracy: 27.11%\n",
      "\n"
     ]
    },
    {
     "name": "stderr",
     "output_type": "stream",
     "text": [
      "Epoch 100/500 [Training]: 100%|██████████| 13/13 [00:00<00:00, 150.98it/s, loss=0.0276]\n",
      "Epoch 100/500 [Validation]: 100%|██████████| 1250/1250 [00:01<00:00, 843.25it/s]\n"
     ]
    },
    {
     "name": "stdout",
     "output_type": "stream",
     "text": [
      "Epoch [100/500] - \n",
      "Train Loss: 0.0387, Train Accuracy: 100.00%, \n",
      "Validation Loss: 2.0723, Validation Accuracy: 43.14%\n",
      "\n"
     ]
    },
    {
     "name": "stderr",
     "output_type": "stream",
     "text": [
      "Epoch 101/500 [Training]: 100%|██████████| 13/13 [00:00<00:00, 117.56it/s, loss=0.0184]\n",
      "Epoch 101/500 [Validation]: 100%|██████████| 1250/1250 [00:01<00:00, 881.73it/s]\n"
     ]
    },
    {
     "name": "stdout",
     "output_type": "stream",
     "text": [
      "Epoch [101/500] - \n",
      "Train Loss: 0.0226, Train Accuracy: 100.00%, \n",
      "Validation Loss: 1.0573, Validation Accuracy: 65.24%\n",
      "\n"
     ]
    },
    {
     "name": "stderr",
     "output_type": "stream",
     "text": [
      "Epoch 102/500 [Training]: 100%|██████████| 13/13 [00:00<00:00, 137.31it/s, loss=0.0330]\n",
      "Epoch 102/500 [Validation]: 100%|██████████| 1250/1250 [00:01<00:00, 844.76it/s]\n"
     ]
    },
    {
     "name": "stdout",
     "output_type": "stream",
     "text": [
      "Epoch [102/500] - \n",
      "Train Loss: 0.0557, Train Accuracy: 99.00%, \n",
      "Validation Loss: 1.5275, Validation Accuracy: 54.34%\n",
      "\n"
     ]
    },
    {
     "name": "stderr",
     "output_type": "stream",
     "text": [
      "Epoch 103/500 [Training]: 100%|██████████| 13/13 [00:00<00:00, 133.46it/s, loss=0.0337]\n",
      "Epoch 103/500 [Validation]: 100%|██████████| 1250/1250 [00:01<00:00, 875.23it/s]\n"
     ]
    },
    {
     "name": "stdout",
     "output_type": "stream",
     "text": [
      "Epoch [103/500] - \n",
      "Train Loss: 0.0487, Train Accuracy: 99.00%, \n",
      "Validation Loss: 0.9218, Validation Accuracy: 70.15%\n",
      "\n"
     ]
    },
    {
     "name": "stderr",
     "output_type": "stream",
     "text": [
      "Epoch 104/500 [Training]: 100%|██████████| 13/13 [00:00<00:00, 152.13it/s, loss=0.0495]\n",
      "Epoch 104/500 [Validation]: 100%|██████████| 1250/1250 [00:01<00:00, 850.39it/s]\n"
     ]
    },
    {
     "name": "stdout",
     "output_type": "stream",
     "text": [
      "Epoch [104/500] - \n",
      "Train Loss: 0.0340, Train Accuracy: 100.00%, \n",
      "Validation Loss: 1.1492, Validation Accuracy: 63.87%\n",
      "\n"
     ]
    },
    {
     "name": "stderr",
     "output_type": "stream",
     "text": [
      "Epoch 105/500 [Training]: 100%|██████████| 13/13 [00:00<00:00, 112.44it/s, loss=0.1265]\n",
      "Epoch 105/500 [Validation]: 100%|██████████| 1250/1250 [00:01<00:00, 843.55it/s]\n"
     ]
    },
    {
     "name": "stdout",
     "output_type": "stream",
     "text": [
      "Epoch [105/500] - \n",
      "Train Loss: 0.0372, Train Accuracy: 100.00%, \n",
      "Validation Loss: 0.9343, Validation Accuracy: 69.55%\n",
      "\n"
     ]
    },
    {
     "name": "stderr",
     "output_type": "stream",
     "text": [
      "Epoch 106/500 [Training]: 100%|██████████| 13/13 [00:00<00:00, 121.41it/s, loss=0.0418]\n",
      "Epoch 106/500 [Validation]: 100%|██████████| 1250/1250 [00:01<00:00, 815.52it/s]\n"
     ]
    },
    {
     "name": "stdout",
     "output_type": "stream",
     "text": [
      "Epoch [106/500] - \n",
      "Train Loss: 0.0289, Train Accuracy: 100.00%, \n",
      "Validation Loss: 1.4756, Validation Accuracy: 53.25%\n",
      "\n"
     ]
    },
    {
     "name": "stderr",
     "output_type": "stream",
     "text": [
      "Epoch 107/500 [Training]: 100%|██████████| 13/13 [00:00<00:00, 133.12it/s, loss=0.0581]\n",
      "Epoch 107/500 [Validation]: 100%|██████████| 1250/1250 [00:01<00:00, 702.07it/s]\n"
     ]
    },
    {
     "name": "stdout",
     "output_type": "stream",
     "text": [
      "Epoch [107/500] - \n",
      "Train Loss: 0.0310, Train Accuracy: 100.00%, \n",
      "Validation Loss: 0.9775, Validation Accuracy: 69.51%\n",
      "\n"
     ]
    },
    {
     "name": "stderr",
     "output_type": "stream",
     "text": [
      "Epoch 108/500 [Training]: 100%|██████████| 13/13 [00:00<00:00, 237.39it/s, loss=0.0902]\n",
      "Epoch 108/500 [Validation]: 100%|██████████| 1250/1250 [00:01<00:00, 784.28it/s]\n"
     ]
    },
    {
     "name": "stdout",
     "output_type": "stream",
     "text": [
      "Epoch [108/500] - \n",
      "Train Loss: 0.0380, Train Accuracy: 100.00%, \n",
      "Validation Loss: 1.0239, Validation Accuracy: 66.93%\n",
      "\n"
     ]
    },
    {
     "name": "stderr",
     "output_type": "stream",
     "text": [
      "Epoch 109/500 [Training]: 100%|██████████| 13/13 [00:00<00:00, 258.84it/s, loss=0.0688]\n",
      "Epoch 109/500 [Validation]: 100%|██████████| 1250/1250 [00:01<00:00, 901.38it/s]\n"
     ]
    },
    {
     "name": "stdout",
     "output_type": "stream",
     "text": [
      "Epoch [109/500] - \n",
      "Train Loss: 0.0236, Train Accuracy: 100.00%, \n",
      "Validation Loss: 1.1920, Validation Accuracy: 61.59%\n",
      "\n"
     ]
    },
    {
     "name": "stderr",
     "output_type": "stream",
     "text": [
      "Epoch 110/500 [Training]: 100%|██████████| 13/13 [00:00<00:00, 216.21it/s, loss=0.0308]\n",
      "Epoch 110/500 [Validation]: 100%|██████████| 1250/1250 [00:01<00:00, 865.79it/s]\n"
     ]
    },
    {
     "name": "stdout",
     "output_type": "stream",
     "text": [
      "Epoch [110/500] - \n",
      "Train Loss: 0.0181, Train Accuracy: 100.00%, \n",
      "Validation Loss: 1.0281, Validation Accuracy: 68.45%\n",
      "\n"
     ]
    },
    {
     "name": "stderr",
     "output_type": "stream",
     "text": [
      "Epoch 111/500 [Training]: 100%|██████████| 13/13 [00:00<00:00, 240.00it/s, loss=0.0227]\n",
      "Epoch 111/500 [Validation]: 100%|██████████| 1250/1250 [00:01<00:00, 922.48it/s]\n"
     ]
    },
    {
     "name": "stdout",
     "output_type": "stream",
     "text": [
      "Epoch [111/500] - \n",
      "Train Loss: 0.0190, Train Accuracy: 100.00%, \n",
      "Validation Loss: 1.0271, Validation Accuracy: 67.57%\n",
      "\n"
     ]
    },
    {
     "name": "stderr",
     "output_type": "stream",
     "text": [
      "Epoch 112/500 [Training]: 100%|██████████| 13/13 [00:00<00:00, 273.54it/s, loss=0.0162]\n",
      "Epoch 112/500 [Validation]: 100%|██████████| 1250/1250 [00:01<00:00, 895.65it/s]\n"
     ]
    },
    {
     "name": "stdout",
     "output_type": "stream",
     "text": [
      "Epoch [112/500] - \n",
      "Train Loss: 0.0184, Train Accuracy: 100.00%, \n",
      "Validation Loss: 1.0082, Validation Accuracy: 67.97%\n",
      "\n"
     ]
    },
    {
     "name": "stderr",
     "output_type": "stream",
     "text": [
      "Epoch 113/500 [Training]: 100%|██████████| 13/13 [00:00<00:00, 285.49it/s, loss=0.0322]\n",
      "Epoch 113/500 [Validation]: 100%|██████████| 1250/1250 [00:01<00:00, 886.07it/s]\n"
     ]
    },
    {
     "name": "stdout",
     "output_type": "stream",
     "text": [
      "Epoch [113/500] - \n",
      "Train Loss: 0.0150, Train Accuracy: 100.00%, \n",
      "Validation Loss: 0.9290, Validation Accuracy: 70.62%\n",
      "\n"
     ]
    },
    {
     "name": "stderr",
     "output_type": "stream",
     "text": [
      "Epoch 114/500 [Training]: 100%|██████████| 13/13 [00:00<00:00, 243.10it/s, loss=0.0223]\n",
      "Epoch 114/500 [Validation]: 100%|██████████| 1250/1250 [00:01<00:00, 892.66it/s]\n"
     ]
    },
    {
     "name": "stdout",
     "output_type": "stream",
     "text": [
      "Epoch [114/500] - \n",
      "Train Loss: 0.0132, Train Accuracy: 100.00%, \n",
      "Validation Loss: 0.9232, Validation Accuracy: 71.10%\n",
      "\n"
     ]
    },
    {
     "name": "stderr",
     "output_type": "stream",
     "text": [
      "Epoch 115/500 [Training]: 100%|██████████| 13/13 [00:00<00:00, 268.27it/s, loss=0.0538]\n",
      "Epoch 115/500 [Validation]: 100%|██████████| 1250/1250 [00:01<00:00, 901.36it/s]\n"
     ]
    },
    {
     "name": "stdout",
     "output_type": "stream",
     "text": [
      "Epoch [115/500] - \n",
      "Train Loss: 0.0191, Train Accuracy: 100.00%, \n",
      "Validation Loss: 1.0029, Validation Accuracy: 69.02%\n",
      "\n"
     ]
    },
    {
     "name": "stderr",
     "output_type": "stream",
     "text": [
      "Epoch 116/500 [Training]: 100%|██████████| 13/13 [00:00<00:00, 293.52it/s, loss=0.0123]\n",
      "Epoch 116/500 [Validation]: 100%|██████████| 1250/1250 [00:01<00:00, 861.52it/s]\n"
     ]
    },
    {
     "name": "stdout",
     "output_type": "stream",
     "text": [
      "Epoch [116/500] - \n",
      "Train Loss: 0.0160, Train Accuracy: 100.00%, \n",
      "Validation Loss: 1.0506, Validation Accuracy: 68.04%\n",
      "\n"
     ]
    },
    {
     "name": "stderr",
     "output_type": "stream",
     "text": [
      "Epoch 117/500 [Training]: 100%|██████████| 13/13 [00:00<00:00, 189.23it/s, loss=0.0125]\n",
      "Epoch 117/500 [Validation]: 100%|██████████| 1250/1250 [00:01<00:00, 907.83it/s]\n"
     ]
    },
    {
     "name": "stdout",
     "output_type": "stream",
     "text": [
      "Epoch [117/500] - \n",
      "Train Loss: 0.0130, Train Accuracy: 100.00%, \n",
      "Validation Loss: 0.9772, Validation Accuracy: 68.37%\n",
      "\n"
     ]
    },
    {
     "name": "stderr",
     "output_type": "stream",
     "text": [
      "Epoch 118/500 [Training]: 100%|██████████| 13/13 [00:00<00:00, 211.40it/s, loss=0.0486]\n",
      "Epoch 118/500 [Validation]: 100%|██████████| 1250/1250 [00:01<00:00, 872.39it/s]\n"
     ]
    },
    {
     "name": "stdout",
     "output_type": "stream",
     "text": [
      "Epoch [118/500] - \n",
      "Train Loss: 0.0160, Train Accuracy: 100.00%, \n",
      "Validation Loss: 0.9899, Validation Accuracy: 68.93%\n",
      "\n"
     ]
    },
    {
     "name": "stderr",
     "output_type": "stream",
     "text": [
      "Epoch 119/500 [Training]: 100%|██████████| 13/13 [00:00<00:00, 225.61it/s, loss=0.0390]\n",
      "Epoch 119/500 [Validation]: 100%|██████████| 1250/1250 [00:01<00:00, 876.80it/s]\n"
     ]
    },
    {
     "name": "stdout",
     "output_type": "stream",
     "text": [
      "Epoch [119/500] - \n",
      "Train Loss: 0.0159, Train Accuracy: 100.00%, \n",
      "Validation Loss: 0.9900, Validation Accuracy: 67.39%\n",
      "\n"
     ]
    },
    {
     "name": "stderr",
     "output_type": "stream",
     "text": [
      "Epoch 120/500 [Training]: 100%|██████████| 13/13 [00:00<00:00, 216.43it/s, loss=0.0724]\n",
      "Epoch 120/500 [Validation]: 100%|██████████| 1250/1250 [00:01<00:00, 943.20it/s]\n"
     ]
    },
    {
     "name": "stdout",
     "output_type": "stream",
     "text": [
      "Epoch [120/500] - \n",
      "Train Loss: 0.0204, Train Accuracy: 100.00%, \n",
      "Validation Loss: 1.0616, Validation Accuracy: 67.59%\n",
      "\n"
     ]
    },
    {
     "name": "stderr",
     "output_type": "stream",
     "text": [
      "Epoch 121/500 [Training]: 100%|██████████| 13/13 [00:00<00:00, 221.90it/s, loss=0.0188]\n",
      "Epoch 121/500 [Validation]: 100%|██████████| 1250/1250 [00:01<00:00, 903.71it/s]\n"
     ]
    },
    {
     "name": "stdout",
     "output_type": "stream",
     "text": [
      "Epoch [121/500] - \n",
      "Train Loss: 0.0179, Train Accuracy: 100.00%, \n",
      "Validation Loss: 1.0502, Validation Accuracy: 65.96%\n",
      "\n"
     ]
    },
    {
     "name": "stderr",
     "output_type": "stream",
     "text": [
      "Epoch 122/500 [Training]: 100%|██████████| 13/13 [00:00<00:00, 263.31it/s, loss=0.0484]\n",
      "Epoch 122/500 [Validation]: 100%|██████████| 1250/1250 [00:01<00:00, 889.62it/s]\n"
     ]
    },
    {
     "name": "stdout",
     "output_type": "stream",
     "text": [
      "Epoch [122/500] - \n",
      "Train Loss: 0.0250, Train Accuracy: 100.00%, \n",
      "Validation Loss: 1.2465, Validation Accuracy: 60.79%\n",
      "\n"
     ]
    },
    {
     "name": "stderr",
     "output_type": "stream",
     "text": [
      "Epoch 123/500 [Training]: 100%|██████████| 13/13 [00:00<00:00, 266.99it/s, loss=0.0127]\n",
      "Epoch 123/500 [Validation]: 100%|██████████| 1250/1250 [00:01<00:00, 922.34it/s]\n"
     ]
    },
    {
     "name": "stdout",
     "output_type": "stream",
     "text": [
      "Epoch [123/500] - \n",
      "Train Loss: 0.0148, Train Accuracy: 100.00%, \n",
      "Validation Loss: 1.1605, Validation Accuracy: 63.49%\n",
      "\n"
     ]
    },
    {
     "name": "stderr",
     "output_type": "stream",
     "text": [
      "Epoch 124/500 [Training]: 100%|██████████| 13/13 [00:00<00:00, 202.59it/s, loss=0.0120]\n",
      "Epoch 124/500 [Validation]: 100%|██████████| 1250/1250 [00:01<00:00, 871.43it/s]\n"
     ]
    },
    {
     "name": "stdout",
     "output_type": "stream",
     "text": [
      "Epoch [124/500] - \n",
      "Train Loss: 0.0124, Train Accuracy: 100.00%, \n",
      "Validation Loss: 0.9850, Validation Accuracy: 68.77%\n",
      "\n"
     ]
    },
    {
     "name": "stderr",
     "output_type": "stream",
     "text": [
      "Epoch 125/500 [Training]: 100%|██████████| 13/13 [00:00<00:00, 227.57it/s, loss=0.0159]\n",
      "Epoch 125/500 [Validation]: 100%|██████████| 1250/1250 [00:01<00:00, 908.32it/s]\n"
     ]
    },
    {
     "name": "stdout",
     "output_type": "stream",
     "text": [
      "Epoch [125/500] - \n",
      "Train Loss: 0.0182, Train Accuracy: 100.00%, \n",
      "Validation Loss: 1.1065, Validation Accuracy: 65.20%\n",
      "\n"
     ]
    },
    {
     "name": "stderr",
     "output_type": "stream",
     "text": [
      "Epoch 126/500 [Training]: 100%|██████████| 13/13 [00:00<00:00, 161.39it/s, loss=0.0621]\n",
      "Epoch 126/500 [Validation]: 100%|██████████| 1250/1250 [00:01<00:00, 869.00it/s]\n"
     ]
    },
    {
     "name": "stdout",
     "output_type": "stream",
     "text": [
      "Epoch [126/500] - \n",
      "Train Loss: 0.0182, Train Accuracy: 100.00%, \n",
      "Validation Loss: 1.0329, Validation Accuracy: 66.50%\n",
      "\n"
     ]
    },
    {
     "name": "stderr",
     "output_type": "stream",
     "text": [
      "Epoch 127/500 [Training]: 100%|██████████| 13/13 [00:00<00:00, 139.43it/s, loss=0.0127]\n",
      "Epoch 127/500 [Validation]: 100%|██████████| 1250/1250 [00:01<00:00, 781.65it/s]\n"
     ]
    },
    {
     "name": "stdout",
     "output_type": "stream",
     "text": [
      "Epoch [127/500] - \n",
      "Train Loss: 0.0162, Train Accuracy: 100.00%, \n",
      "Validation Loss: 1.0720, Validation Accuracy: 64.25%\n",
      "\n"
     ]
    },
    {
     "name": "stderr",
     "output_type": "stream",
     "text": [
      "Epoch 128/500 [Training]: 100%|██████████| 13/13 [00:00<00:00, 122.14it/s, loss=0.0108]\n",
      "Epoch 128/500 [Validation]: 100%|██████████| 1250/1250 [00:01<00:00, 900.14it/s]\n"
     ]
    },
    {
     "name": "stdout",
     "output_type": "stream",
     "text": [
      "Epoch [128/500] - \n",
      "Train Loss: 0.0108, Train Accuracy: 100.00%, \n",
      "Validation Loss: 1.0900, Validation Accuracy: 66.94%\n",
      "\n"
     ]
    },
    {
     "name": "stderr",
     "output_type": "stream",
     "text": [
      "Epoch 129/500 [Training]: 100%|██████████| 13/13 [00:00<00:00, 127.51it/s, loss=0.0490]\n",
      "Epoch 129/500 [Validation]: 100%|██████████| 1250/1250 [00:01<00:00, 860.88it/s]\n"
     ]
    },
    {
     "name": "stdout",
     "output_type": "stream",
     "text": [
      "Epoch [129/500] - \n",
      "Train Loss: 0.0186, Train Accuracy: 100.00%, \n",
      "Validation Loss: 1.2892, Validation Accuracy: 61.34%\n",
      "\n"
     ]
    },
    {
     "name": "stderr",
     "output_type": "stream",
     "text": [
      "Epoch 130/500 [Training]: 100%|██████████| 13/13 [00:00<00:00, 132.69it/s, loss=0.0406]\n",
      "Epoch 130/500 [Validation]: 100%|██████████| 1250/1250 [00:01<00:00, 933.01it/s]\n"
     ]
    },
    {
     "name": "stdout",
     "output_type": "stream",
     "text": [
      "Epoch [130/500] - \n",
      "Train Loss: 0.0162, Train Accuracy: 100.00%, \n",
      "Validation Loss: 1.0307, Validation Accuracy: 65.13%\n",
      "\n"
     ]
    },
    {
     "name": "stderr",
     "output_type": "stream",
     "text": [
      "Epoch 131/500 [Training]: 100%|██████████| 13/13 [00:00<00:00, 165.34it/s, loss=0.0351]\n",
      "Epoch 131/500 [Validation]: 100%|██████████| 1250/1250 [00:01<00:00, 851.78it/s]\n"
     ]
    },
    {
     "name": "stdout",
     "output_type": "stream",
     "text": [
      "Epoch [131/500] - \n",
      "Train Loss: 0.0210, Train Accuracy: 100.00%, \n",
      "Validation Loss: 1.2009, Validation Accuracy: 59.38%\n",
      "\n"
     ]
    },
    {
     "name": "stderr",
     "output_type": "stream",
     "text": [
      "Epoch 132/500 [Training]: 100%|██████████| 13/13 [00:00<00:00, 114.78it/s, loss=0.0991]\n",
      "Epoch 132/500 [Validation]: 100%|██████████| 1250/1250 [00:01<00:00, 880.81it/s]\n"
     ]
    },
    {
     "name": "stdout",
     "output_type": "stream",
     "text": [
      "Epoch [132/500] - \n",
      "Train Loss: 0.0265, Train Accuracy: 100.00%, \n",
      "Validation Loss: 1.1037, Validation Accuracy: 64.15%\n",
      "\n"
     ]
    },
    {
     "name": "stderr",
     "output_type": "stream",
     "text": [
      "Epoch 133/500 [Training]: 100%|██████████| 13/13 [00:00<00:00, 192.83it/s, loss=0.0563]\n",
      "Epoch 133/500 [Validation]: 100%|██████████| 1250/1250 [00:01<00:00, 896.43it/s]\n"
     ]
    },
    {
     "name": "stdout",
     "output_type": "stream",
     "text": [
      "Epoch [133/500] - \n",
      "Train Loss: 0.0277, Train Accuracy: 100.00%, \n",
      "Validation Loss: 1.3400, Validation Accuracy: 58.42%\n",
      "\n"
     ]
    },
    {
     "name": "stderr",
     "output_type": "stream",
     "text": [
      "Epoch 134/500 [Training]: 100%|██████████| 13/13 [00:00<00:00, 194.91it/s, loss=0.0185]\n",
      "Epoch 134/500 [Validation]: 100%|██████████| 1250/1250 [00:01<00:00, 871.06it/s]\n"
     ]
    },
    {
     "name": "stdout",
     "output_type": "stream",
     "text": [
      "Epoch [134/500] - \n",
      "Train Loss: 0.0230, Train Accuracy: 100.00%, \n",
      "Validation Loss: 1.0393, Validation Accuracy: 66.39%\n",
      "\n"
     ]
    },
    {
     "name": "stderr",
     "output_type": "stream",
     "text": [
      "Epoch 135/500 [Training]: 100%|██████████| 13/13 [00:00<00:00, 126.81it/s, loss=0.0442]\n",
      "Epoch 135/500 [Validation]: 100%|██████████| 1250/1250 [00:01<00:00, 891.85it/s]\n"
     ]
    },
    {
     "name": "stdout",
     "output_type": "stream",
     "text": [
      "Epoch [135/500] - \n",
      "Train Loss: 0.0291, Train Accuracy: 100.00%, \n",
      "Validation Loss: 1.3345, Validation Accuracy: 55.43%\n",
      "\n"
     ]
    },
    {
     "name": "stderr",
     "output_type": "stream",
     "text": [
      "Epoch 136/500 [Training]: 100%|██████████| 13/13 [00:00<00:00, 115.44it/s, loss=0.0666]\n",
      "Epoch 136/500 [Validation]: 100%|██████████| 1250/1250 [00:01<00:00, 892.88it/s]\n"
     ]
    },
    {
     "name": "stdout",
     "output_type": "stream",
     "text": [
      "Epoch [136/500] - \n",
      "Train Loss: 0.0220, Train Accuracy: 100.00%, \n",
      "Validation Loss: 1.0950, Validation Accuracy: 62.96%\n",
      "\n"
     ]
    },
    {
     "name": "stderr",
     "output_type": "stream",
     "text": [
      "Epoch 137/500 [Training]: 100%|██████████| 13/13 [00:00<00:00, 153.96it/s, loss=0.0431]\n",
      "Epoch 137/500 [Validation]: 100%|██████████| 1250/1250 [00:01<00:00, 775.30it/s]\n"
     ]
    },
    {
     "name": "stdout",
     "output_type": "stream",
     "text": [
      "Epoch [137/500] - \n",
      "Train Loss: 0.0252, Train Accuracy: 100.00%, \n",
      "Validation Loss: 1.2976, Validation Accuracy: 58.14%\n",
      "\n"
     ]
    },
    {
     "name": "stderr",
     "output_type": "stream",
     "text": [
      "Epoch 138/500 [Training]: 100%|██████████| 13/13 [00:00<00:00, 115.87it/s, loss=0.0918]\n",
      "Epoch 138/500 [Validation]: 100%|██████████| 1250/1250 [00:01<00:00, 907.00it/s]\n"
     ]
    },
    {
     "name": "stdout",
     "output_type": "stream",
     "text": [
      "Epoch [138/500] - \n",
      "Train Loss: 0.0457, Train Accuracy: 100.00%, \n",
      "Validation Loss: 1.3193, Validation Accuracy: 55.33%\n",
      "\n"
     ]
    },
    {
     "name": "stderr",
     "output_type": "stream",
     "text": [
      "Epoch 139/500 [Training]: 100%|██████████| 13/13 [00:00<00:00, 151.40it/s, loss=0.0490]\n",
      "Epoch 139/500 [Validation]: 100%|██████████| 1250/1250 [00:01<00:00, 833.05it/s]\n"
     ]
    },
    {
     "name": "stdout",
     "output_type": "stream",
     "text": [
      "Epoch [139/500] - \n",
      "Train Loss: 0.0647, Train Accuracy: 100.00%, \n",
      "Validation Loss: 3.7883, Validation Accuracy: 31.27%\n",
      "\n"
     ]
    },
    {
     "name": "stderr",
     "output_type": "stream",
     "text": [
      "Epoch 140/500 [Training]: 100%|██████████| 13/13 [00:00<00:00, 113.02it/s, loss=0.0677]\n",
      "Epoch 140/500 [Validation]: 100%|██████████| 1250/1250 [00:01<00:00, 864.84it/s]\n"
     ]
    },
    {
     "name": "stdout",
     "output_type": "stream",
     "text": [
      "Epoch [140/500] - \n",
      "Train Loss: 0.0655, Train Accuracy: 100.00%, \n",
      "Validation Loss: 1.5778, Validation Accuracy: 53.16%\n",
      "\n"
     ]
    },
    {
     "name": "stderr",
     "output_type": "stream",
     "text": [
      "Epoch 141/500 [Training]: 100%|██████████| 13/13 [00:00<00:00, 123.07it/s, loss=0.0388]\n",
      "Epoch 141/500 [Validation]: 100%|██████████| 1250/1250 [00:01<00:00, 890.63it/s]\n"
     ]
    },
    {
     "name": "stdout",
     "output_type": "stream",
     "text": [
      "Epoch [141/500] - \n",
      "Train Loss: 0.0620, Train Accuracy: 100.00%, \n",
      "Validation Loss: 1.5122, Validation Accuracy: 51.86%\n",
      "\n"
     ]
    },
    {
     "name": "stderr",
     "output_type": "stream",
     "text": [
      "Epoch 142/500 [Training]: 100%|██████████| 13/13 [00:00<00:00, 103.46it/s, loss=0.0265]\n",
      "Epoch 142/500 [Validation]: 100%|██████████| 1250/1250 [00:01<00:00, 846.67it/s]\n"
     ]
    },
    {
     "name": "stdout",
     "output_type": "stream",
     "text": [
      "Epoch [142/500] - \n",
      "Train Loss: 0.0400, Train Accuracy: 100.00%, \n",
      "Validation Loss: 1.3326, Validation Accuracy: 58.65%\n",
      "\n"
     ]
    },
    {
     "name": "stderr",
     "output_type": "stream",
     "text": [
      "Epoch 143/500 [Training]: 100%|██████████| 13/13 [00:00<00:00, 273.72it/s, loss=0.0421]\n",
      "Epoch 143/500 [Validation]: 100%|██████████| 1250/1250 [00:01<00:00, 850.31it/s]\n"
     ]
    },
    {
     "name": "stdout",
     "output_type": "stream",
     "text": [
      "Epoch [143/500] - \n",
      "Train Loss: 0.0290, Train Accuracy: 100.00%, \n",
      "Validation Loss: 1.0927, Validation Accuracy: 63.91%\n",
      "\n"
     ]
    },
    {
     "name": "stderr",
     "output_type": "stream",
     "text": [
      "Epoch 144/500 [Training]: 100%|██████████| 13/13 [00:00<00:00, 261.21it/s, loss=0.0178]\n",
      "Epoch 144/500 [Validation]: 100%|██████████| 1250/1250 [00:01<00:00, 913.54it/s]\n"
     ]
    },
    {
     "name": "stdout",
     "output_type": "stream",
     "text": [
      "Epoch [144/500] - \n",
      "Train Loss: 0.0200, Train Accuracy: 100.00%, \n",
      "Validation Loss: 1.0246, Validation Accuracy: 68.01%\n",
      "\n"
     ]
    },
    {
     "name": "stderr",
     "output_type": "stream",
     "text": [
      "Epoch 145/500 [Training]: 100%|██████████| 13/13 [00:00<00:00, 231.89it/s, loss=0.0680]\n",
      "Epoch 145/500 [Validation]: 100%|██████████| 1250/1250 [00:01<00:00, 869.55it/s]\n"
     ]
    },
    {
     "name": "stdout",
     "output_type": "stream",
     "text": [
      "Epoch [145/500] - \n",
      "Train Loss: 0.0225, Train Accuracy: 100.00%, \n",
      "Validation Loss: 1.0656, Validation Accuracy: 65.36%\n",
      "\n"
     ]
    },
    {
     "name": "stderr",
     "output_type": "stream",
     "text": [
      "Epoch 146/500 [Training]: 100%|██████████| 13/13 [00:00<00:00, 169.65it/s, loss=0.0324]\n",
      "Epoch 146/500 [Validation]: 100%|██████████| 1250/1250 [00:01<00:00, 883.30it/s]\n"
     ]
    },
    {
     "name": "stdout",
     "output_type": "stream",
     "text": [
      "Epoch [146/500] - \n",
      "Train Loss: 0.0177, Train Accuracy: 100.00%, \n",
      "Validation Loss: 1.0675, Validation Accuracy: 67.44%\n",
      "\n"
     ]
    },
    {
     "name": "stderr",
     "output_type": "stream",
     "text": [
      "Epoch 147/500 [Training]: 100%|██████████| 13/13 [00:00<00:00, 274.72it/s, loss=0.0178]\n",
      "Epoch 147/500 [Validation]: 100%|██████████| 1250/1250 [00:01<00:00, 855.19it/s]\n"
     ]
    },
    {
     "name": "stdout",
     "output_type": "stream",
     "text": [
      "Epoch [147/500] - \n",
      "Train Loss: 0.0165, Train Accuracy: 100.00%, \n",
      "Validation Loss: 0.9838, Validation Accuracy: 68.67%\n",
      "\n"
     ]
    },
    {
     "name": "stderr",
     "output_type": "stream",
     "text": [
      "Epoch 148/500 [Training]: 100%|██████████| 13/13 [00:00<00:00, 262.68it/s, loss=0.1306]\n",
      "Epoch 148/500 [Validation]: 100%|██████████| 1250/1250 [00:01<00:00, 893.32it/s]\n"
     ]
    },
    {
     "name": "stdout",
     "output_type": "stream",
     "text": [
      "Epoch [148/500] - \n",
      "Train Loss: 0.0296, Train Accuracy: 100.00%, \n",
      "Validation Loss: 1.0001, Validation Accuracy: 67.16%\n",
      "\n"
     ]
    },
    {
     "name": "stderr",
     "output_type": "stream",
     "text": [
      "Epoch 149/500 [Training]: 100%|██████████| 13/13 [00:00<00:00, 287.80it/s, loss=0.1340]\n",
      "Epoch 149/500 [Validation]: 100%|██████████| 1250/1250 [00:01<00:00, 865.51it/s]\n"
     ]
    },
    {
     "name": "stdout",
     "output_type": "stream",
     "text": [
      "Epoch [149/500] - \n",
      "Train Loss: 0.1496, Train Accuracy: 97.00%, \n",
      "Validation Loss: 3.3099, Validation Accuracy: 23.93%\n",
      "\n"
     ]
    },
    {
     "name": "stderr",
     "output_type": "stream",
     "text": [
      "Epoch 150/500 [Training]: 100%|██████████| 13/13 [00:00<00:00, 253.92it/s, loss=0.2551]\n",
      "Epoch 150/500 [Validation]: 100%|██████████| 1250/1250 [00:01<00:00, 864.01it/s]\n"
     ]
    },
    {
     "name": "stdout",
     "output_type": "stream",
     "text": [
      "Epoch [150/500] - \n",
      "Train Loss: 0.1448, Train Accuracy: 97.00%, \n",
      "Validation Loss: 2.2479, Validation Accuracy: 47.18%\n",
      "\n"
     ]
    },
    {
     "name": "stderr",
     "output_type": "stream",
     "text": [
      "Epoch 151/500 [Training]: 100%|██████████| 13/13 [00:00<00:00, 270.18it/s, loss=0.1192]\n",
      "Epoch 151/500 [Validation]: 100%|██████████| 1250/1250 [00:01<00:00, 885.36it/s]\n"
     ]
    },
    {
     "name": "stdout",
     "output_type": "stream",
     "text": [
      "Epoch [151/500] - \n",
      "Train Loss: 0.1041, Train Accuracy: 100.00%, \n",
      "Validation Loss: 1.4427, Validation Accuracy: 53.35%\n",
      "\n"
     ]
    },
    {
     "name": "stderr",
     "output_type": "stream",
     "text": [
      "Epoch 152/500 [Training]: 100%|██████████| 13/13 [00:00<00:00, 188.53it/s, loss=0.0851]\n",
      "Epoch 152/500 [Validation]: 100%|██████████| 1250/1250 [00:01<00:00, 904.35it/s]\n"
     ]
    },
    {
     "name": "stdout",
     "output_type": "stream",
     "text": [
      "Epoch [152/500] - \n",
      "Train Loss: 0.0807, Train Accuracy: 100.00%, \n",
      "Validation Loss: 1.0529, Validation Accuracy: 64.91%\n",
      "\n"
     ]
    },
    {
     "name": "stderr",
     "output_type": "stream",
     "text": [
      "Epoch 153/500 [Training]: 100%|██████████| 13/13 [00:00<00:00, 202.19it/s, loss=0.0425]\n",
      "Epoch 153/500 [Validation]: 100%|██████████| 1250/1250 [00:01<00:00, 858.15it/s]\n"
     ]
    },
    {
     "name": "stdout",
     "output_type": "stream",
     "text": [
      "Epoch [153/500] - \n",
      "Train Loss: 0.0417, Train Accuracy: 100.00%, \n",
      "Validation Loss: 1.0249, Validation Accuracy: 66.40%\n",
      "\n"
     ]
    },
    {
     "name": "stderr",
     "output_type": "stream",
     "text": [
      "Epoch 154/500 [Training]: 100%|██████████| 13/13 [00:00<00:00, 260.91it/s, loss=0.0348]\n",
      "Epoch 154/500 [Validation]: 100%|██████████| 1250/1250 [00:01<00:00, 833.38it/s]\n"
     ]
    },
    {
     "name": "stdout",
     "output_type": "stream",
     "text": [
      "Epoch [154/500] - \n",
      "Train Loss: 0.0390, Train Accuracy: 100.00%, \n",
      "Validation Loss: 1.0384, Validation Accuracy: 67.49%\n",
      "\n"
     ]
    },
    {
     "name": "stderr",
     "output_type": "stream",
     "text": [
      "Epoch 155/500 [Training]: 100%|██████████| 13/13 [00:00<00:00, 249.66it/s, loss=0.0459]\n",
      "Epoch 155/500 [Validation]: 100%|██████████| 1250/1250 [00:01<00:00, 862.58it/s]\n"
     ]
    },
    {
     "name": "stdout",
     "output_type": "stream",
     "text": [
      "Epoch [155/500] - \n",
      "Train Loss: 0.0302, Train Accuracy: 100.00%, \n",
      "Validation Loss: 1.0062, Validation Accuracy: 69.12%\n",
      "\n"
     ]
    },
    {
     "name": "stderr",
     "output_type": "stream",
     "text": [
      "Epoch 156/500 [Training]: 100%|██████████| 13/13 [00:00<00:00, 259.93it/s, loss=0.0425]\n",
      "Epoch 156/500 [Validation]: 100%|██████████| 1250/1250 [00:01<00:00, 864.19it/s]\n"
     ]
    },
    {
     "name": "stdout",
     "output_type": "stream",
     "text": [
      "Epoch [156/500] - \n",
      "Train Loss: 0.0260, Train Accuracy: 100.00%, \n",
      "Validation Loss: 0.9780, Validation Accuracy: 69.43%\n",
      "\n"
     ]
    },
    {
     "name": "stderr",
     "output_type": "stream",
     "text": [
      "Epoch 157/500 [Training]: 100%|██████████| 13/13 [00:00<00:00, 180.45it/s, loss=0.0283]\n",
      "Epoch 157/500 [Validation]: 100%|██████████| 1250/1250 [00:01<00:00, 901.57it/s]\n"
     ]
    },
    {
     "name": "stdout",
     "output_type": "stream",
     "text": [
      "Epoch [157/500] - \n",
      "Train Loss: 0.0255, Train Accuracy: 100.00%, \n",
      "Validation Loss: 0.9972, Validation Accuracy: 69.17%\n",
      "\n"
     ]
    },
    {
     "name": "stderr",
     "output_type": "stream",
     "text": [
      "Epoch 158/500 [Training]: 100%|██████████| 13/13 [00:00<00:00, 170.69it/s, loss=0.0381]\n",
      "Epoch 158/500 [Validation]: 100%|██████████| 1250/1250 [00:01<00:00, 911.74it/s]\n"
     ]
    },
    {
     "name": "stdout",
     "output_type": "stream",
     "text": [
      "Epoch [158/500] - \n",
      "Train Loss: 0.0249, Train Accuracy: 100.00%, \n",
      "Validation Loss: 0.9803, Validation Accuracy: 68.86%\n",
      "\n"
     ]
    },
    {
     "name": "stderr",
     "output_type": "stream",
     "text": [
      "Epoch 159/500 [Training]: 100%|██████████| 13/13 [00:00<00:00, 123.34it/s, loss=0.0260]\n",
      "Epoch 159/500 [Validation]: 100%|██████████| 1250/1250 [00:01<00:00, 896.83it/s]\n"
     ]
    },
    {
     "name": "stdout",
     "output_type": "stream",
     "text": [
      "Epoch [159/500] - \n",
      "Train Loss: 0.0169, Train Accuracy: 100.00%, \n",
      "Validation Loss: 0.9402, Validation Accuracy: 69.93%\n",
      "\n"
     ]
    },
    {
     "name": "stderr",
     "output_type": "stream",
     "text": [
      "Epoch 160/500 [Training]: 100%|██████████| 13/13 [00:00<00:00, 111.85it/s, loss=0.0102]\n",
      "Epoch 160/500 [Validation]: 100%|██████████| 1250/1250 [00:01<00:00, 896.52it/s]\n"
     ]
    },
    {
     "name": "stdout",
     "output_type": "stream",
     "text": [
      "Epoch [160/500] - \n",
      "Train Loss: 0.0183, Train Accuracy: 100.00%, \n",
      "Validation Loss: 0.9663, Validation Accuracy: 69.63%\n",
      "\n"
     ]
    },
    {
     "name": "stderr",
     "output_type": "stream",
     "text": [
      "Epoch 161/500 [Training]: 100%|██████████| 13/13 [00:00<00:00, 108.43it/s, loss=0.0474]\n",
      "Epoch 161/500 [Validation]: 100%|██████████| 1250/1250 [00:01<00:00, 889.84it/s]\n"
     ]
    },
    {
     "name": "stdout",
     "output_type": "stream",
     "text": [
      "Epoch [161/500] - \n",
      "Train Loss: 0.0230, Train Accuracy: 100.00%, \n",
      "Validation Loss: 0.9715, Validation Accuracy: 69.65%\n",
      "\n"
     ]
    },
    {
     "name": "stderr",
     "output_type": "stream",
     "text": [
      "Epoch 162/500 [Training]: 100%|██████████| 13/13 [00:00<00:00, 135.34it/s, loss=0.0520]\n",
      "Epoch 162/500 [Validation]: 100%|██████████| 1250/1250 [00:01<00:00, 862.18it/s]\n"
     ]
    },
    {
     "name": "stdout",
     "output_type": "stream",
     "text": [
      "Epoch [162/500] - \n",
      "Train Loss: 0.0318, Train Accuracy: 100.00%, \n",
      "Validation Loss: 0.9569, Validation Accuracy: 69.86%\n",
      "\n"
     ]
    },
    {
     "name": "stderr",
     "output_type": "stream",
     "text": [
      "Epoch 163/500 [Training]: 100%|██████████| 13/13 [00:00<00:00, 171.30it/s, loss=0.1019]\n",
      "Epoch 163/500 [Validation]: 100%|██████████| 1250/1250 [00:01<00:00, 882.73it/s]\n"
     ]
    },
    {
     "name": "stdout",
     "output_type": "stream",
     "text": [
      "Epoch [163/500] - \n",
      "Train Loss: 0.0229, Train Accuracy: 100.00%, \n",
      "Validation Loss: 0.9964, Validation Accuracy: 67.78%\n",
      "\n"
     ]
    },
    {
     "name": "stderr",
     "output_type": "stream",
     "text": [
      "Epoch 164/500 [Training]: 100%|██████████| 13/13 [00:00<00:00, 114.72it/s, loss=0.0052]\n",
      "Epoch 164/500 [Validation]: 100%|██████████| 1250/1250 [00:01<00:00, 878.04it/s]\n"
     ]
    },
    {
     "name": "stdout",
     "output_type": "stream",
     "text": [
      "Epoch [164/500] - \n",
      "Train Loss: 0.0167, Train Accuracy: 100.00%, \n",
      "Validation Loss: 0.9874, Validation Accuracy: 67.92%\n",
      "\n"
     ]
    },
    {
     "name": "stderr",
     "output_type": "stream",
     "text": [
      "Epoch 165/500 [Training]: 100%|██████████| 13/13 [00:00<00:00, 108.08it/s, loss=0.0469]\n",
      "Epoch 165/500 [Validation]: 100%|██████████| 1250/1250 [00:01<00:00, 898.57it/s]\n"
     ]
    },
    {
     "name": "stdout",
     "output_type": "stream",
     "text": [
      "Epoch [165/500] - \n",
      "Train Loss: 0.0194, Train Accuracy: 100.00%, \n",
      "Validation Loss: 0.9547, Validation Accuracy: 70.17%\n",
      "\n"
     ]
    },
    {
     "name": "stderr",
     "output_type": "stream",
     "text": [
      "Epoch 166/500 [Training]: 100%|██████████| 13/13 [00:00<00:00, 162.76it/s, loss=0.0157]\n",
      "Epoch 166/500 [Validation]: 100%|██████████| 1250/1250 [00:01<00:00, 861.79it/s]\n"
     ]
    },
    {
     "name": "stdout",
     "output_type": "stream",
     "text": [
      "Epoch [166/500] - \n",
      "Train Loss: 0.0168, Train Accuracy: 100.00%, \n",
      "Validation Loss: 0.9638, Validation Accuracy: 69.14%\n",
      "\n"
     ]
    },
    {
     "name": "stderr",
     "output_type": "stream",
     "text": [
      "Epoch 167/500 [Training]: 100%|██████████| 13/13 [00:00<00:00, 157.11it/s, loss=0.0439]\n",
      "Epoch 167/500 [Validation]: 100%|██████████| 1250/1250 [00:01<00:00, 868.27it/s]\n"
     ]
    },
    {
     "name": "stdout",
     "output_type": "stream",
     "text": [
      "Epoch [167/500] - \n",
      "Train Loss: 0.0184, Train Accuracy: 100.00%, \n",
      "Validation Loss: 0.9395, Validation Accuracy: 70.80%\n",
      "\n"
     ]
    },
    {
     "name": "stderr",
     "output_type": "stream",
     "text": [
      "Epoch 168/500 [Training]: 100%|██████████| 13/13 [00:00<00:00, 206.50it/s, loss=0.0302]\n",
      "Epoch 168/500 [Validation]: 100%|██████████| 1250/1250 [00:01<00:00, 861.46it/s]\n"
     ]
    },
    {
     "name": "stdout",
     "output_type": "stream",
     "text": [
      "Epoch [168/500] - \n",
      "Train Loss: 0.0165, Train Accuracy: 100.00%, \n",
      "Validation Loss: 1.0067, Validation Accuracy: 67.53%\n",
      "\n"
     ]
    },
    {
     "name": "stderr",
     "output_type": "stream",
     "text": [
      "Epoch 169/500 [Training]: 100%|██████████| 13/13 [00:00<00:00, 111.91it/s, loss=0.0100]\n",
      "Epoch 169/500 [Validation]: 100%|██████████| 1250/1250 [00:01<00:00, 893.19it/s]\n"
     ]
    },
    {
     "name": "stdout",
     "output_type": "stream",
     "text": [
      "Epoch [169/500] - \n",
      "Train Loss: 0.0118, Train Accuracy: 100.00%, \n",
      "Validation Loss: 0.9570, Validation Accuracy: 69.34%\n",
      "\n"
     ]
    },
    {
     "name": "stderr",
     "output_type": "stream",
     "text": [
      "Epoch 170/500 [Training]: 100%|██████████| 13/13 [00:00<00:00, 136.38it/s, loss=0.0162]\n",
      "Epoch 170/500 [Validation]: 100%|██████████| 1250/1250 [00:01<00:00, 902.48it/s]\n"
     ]
    },
    {
     "name": "stdout",
     "output_type": "stream",
     "text": [
      "Epoch [170/500] - \n",
      "Train Loss: 0.0115, Train Accuracy: 100.00%, \n",
      "Validation Loss: 0.9501, Validation Accuracy: 69.93%\n",
      "\n"
     ]
    },
    {
     "name": "stderr",
     "output_type": "stream",
     "text": [
      "Epoch 171/500 [Training]: 100%|██████████| 13/13 [00:00<00:00, 147.14it/s, loss=0.0079]\n",
      "Epoch 171/500 [Validation]: 100%|██████████| 1250/1250 [00:01<00:00, 869.98it/s]\n"
     ]
    },
    {
     "name": "stdout",
     "output_type": "stream",
     "text": [
      "Epoch [171/500] - \n",
      "Train Loss: 0.0142, Train Accuracy: 100.00%, \n",
      "Validation Loss: 0.9566, Validation Accuracy: 69.85%\n",
      "\n"
     ]
    },
    {
     "name": "stderr",
     "output_type": "stream",
     "text": [
      "Epoch 172/500 [Training]: 100%|██████████| 13/13 [00:00<00:00, 141.11it/s, loss=0.0271]\n",
      "Epoch 172/500 [Validation]: 100%|██████████| 1250/1250 [00:01<00:00, 883.70it/s]\n"
     ]
    },
    {
     "name": "stdout",
     "output_type": "stream",
     "text": [
      "Epoch [172/500] - \n",
      "Train Loss: 0.0153, Train Accuracy: 100.00%, \n",
      "Validation Loss: 0.9654, Validation Accuracy: 69.90%\n",
      "\n"
     ]
    },
    {
     "name": "stderr",
     "output_type": "stream",
     "text": [
      "Epoch 173/500 [Training]: 100%|██████████| 13/13 [00:00<00:00, 169.67it/s, loss=0.0100]\n",
      "Epoch 173/500 [Validation]: 100%|██████████| 1250/1250 [00:01<00:00, 916.39it/s]\n"
     ]
    },
    {
     "name": "stdout",
     "output_type": "stream",
     "text": [
      "Epoch [173/500] - \n",
      "Train Loss: 0.0177, Train Accuracy: 100.00%, \n",
      "Validation Loss: 0.9922, Validation Accuracy: 67.90%\n",
      "\n"
     ]
    },
    {
     "name": "stderr",
     "output_type": "stream",
     "text": [
      "Epoch 174/500 [Training]: 100%|██████████| 13/13 [00:00<00:00, 143.16it/s, loss=0.0428]\n",
      "Epoch 174/500 [Validation]: 100%|██████████| 1250/1250 [00:01<00:00, 848.27it/s]\n"
     ]
    },
    {
     "name": "stdout",
     "output_type": "stream",
     "text": [
      "Epoch [174/500] - \n",
      "Train Loss: 0.0135, Train Accuracy: 100.00%, \n",
      "Validation Loss: 0.9587, Validation Accuracy: 69.33%\n",
      "\n"
     ]
    },
    {
     "name": "stderr",
     "output_type": "stream",
     "text": [
      "Epoch 175/500 [Training]: 100%|██████████| 13/13 [00:00<00:00, 183.98it/s, loss=0.0898]\n",
      "Epoch 175/500 [Validation]: 100%|██████████| 1250/1250 [00:01<00:00, 930.81it/s]\n"
     ]
    },
    {
     "name": "stdout",
     "output_type": "stream",
     "text": [
      "Epoch [175/500] - \n",
      "Train Loss: 0.0209, Train Accuracy: 100.00%, \n",
      "Validation Loss: 0.9856, Validation Accuracy: 69.21%\n",
      "\n"
     ]
    },
    {
     "name": "stderr",
     "output_type": "stream",
     "text": [
      "Epoch 176/500 [Training]: 100%|██████████| 13/13 [00:00<00:00, 194.79it/s, loss=0.0108]\n",
      "Epoch 176/500 [Validation]: 100%|██████████| 1250/1250 [00:01<00:00, 863.72it/s]\n"
     ]
    },
    {
     "name": "stdout",
     "output_type": "stream",
     "text": [
      "Epoch [176/500] - \n",
      "Train Loss: 0.0174, Train Accuracy: 100.00%, \n",
      "Validation Loss: 0.9913, Validation Accuracy: 69.44%\n",
      "\n"
     ]
    },
    {
     "name": "stderr",
     "output_type": "stream",
     "text": [
      "Epoch 177/500 [Training]: 100%|██████████| 13/13 [00:00<00:00, 234.82it/s, loss=0.0250]\n",
      "Epoch 177/500 [Validation]: 100%|██████████| 1250/1250 [00:01<00:00, 835.73it/s]\n"
     ]
    },
    {
     "name": "stdout",
     "output_type": "stream",
     "text": [
      "Epoch [177/500] - \n",
      "Train Loss: 0.0167, Train Accuracy: 100.00%, \n",
      "Validation Loss: 0.9430, Validation Accuracy: 70.19%\n",
      "\n"
     ]
    },
    {
     "name": "stderr",
     "output_type": "stream",
     "text": [
      "Epoch 178/500 [Training]: 100%|██████████| 13/13 [00:00<00:00, 233.75it/s, loss=0.0277]\n",
      "Epoch 178/500 [Validation]: 100%|██████████| 1250/1250 [00:01<00:00, 854.39it/s]\n"
     ]
    },
    {
     "name": "stdout",
     "output_type": "stream",
     "text": [
      "Epoch [178/500] - \n",
      "Train Loss: 0.0169, Train Accuracy: 100.00%, \n",
      "Validation Loss: 0.9782, Validation Accuracy: 68.66%\n",
      "\n"
     ]
    },
    {
     "name": "stderr",
     "output_type": "stream",
     "text": [
      "Epoch 179/500 [Training]: 100%|██████████| 13/13 [00:00<00:00, 287.26it/s, loss=0.0090]\n",
      "Epoch 179/500 [Validation]: 100%|██████████| 1250/1250 [00:01<00:00, 859.70it/s]\n"
     ]
    },
    {
     "name": "stdout",
     "output_type": "stream",
     "text": [
      "Epoch [179/500] - \n",
      "Train Loss: 0.0170, Train Accuracy: 100.00%, \n",
      "Validation Loss: 1.1457, Validation Accuracy: 63.05%\n",
      "\n"
     ]
    },
    {
     "name": "stderr",
     "output_type": "stream",
     "text": [
      "Epoch 180/500 [Training]: 100%|██████████| 13/13 [00:00<00:00, 254.43it/s, loss=0.0348]\n",
      "Epoch 180/500 [Validation]: 100%|██████████| 1250/1250 [00:01<00:00, 834.11it/s]\n"
     ]
    },
    {
     "name": "stdout",
     "output_type": "stream",
     "text": [
      "Epoch [180/500] - \n",
      "Train Loss: 0.0144, Train Accuracy: 100.00%, \n",
      "Validation Loss: 0.9605, Validation Accuracy: 69.25%\n",
      "\n"
     ]
    },
    {
     "name": "stderr",
     "output_type": "stream",
     "text": [
      "Epoch 181/500 [Training]: 100%|██████████| 13/13 [00:00<00:00, 234.35it/s, loss=0.0711]\n",
      "Epoch 181/500 [Validation]: 100%|██████████| 1250/1250 [00:01<00:00, 838.89it/s]\n"
     ]
    },
    {
     "name": "stdout",
     "output_type": "stream",
     "text": [
      "Epoch [181/500] - \n",
      "Train Loss: 0.0183, Train Accuracy: 100.00%, \n",
      "Validation Loss: 1.0107, Validation Accuracy: 67.00%\n",
      "\n"
     ]
    },
    {
     "name": "stderr",
     "output_type": "stream",
     "text": [
      "Epoch 182/500 [Training]: 100%|██████████| 13/13 [00:00<00:00, 245.51it/s, loss=0.0054]\n",
      "Epoch 182/500 [Validation]: 100%|██████████| 1250/1250 [00:01<00:00, 861.55it/s]\n"
     ]
    },
    {
     "name": "stdout",
     "output_type": "stream",
     "text": [
      "Epoch [182/500] - \n",
      "Train Loss: 0.0180, Train Accuracy: 100.00%, \n",
      "Validation Loss: 1.1300, Validation Accuracy: 62.76%\n",
      "\n"
     ]
    },
    {
     "name": "stderr",
     "output_type": "stream",
     "text": [
      "Epoch 183/500 [Training]: 100%|██████████| 13/13 [00:00<00:00, 257.63it/s, loss=0.0256]\n",
      "Epoch 183/500 [Validation]: 100%|██████████| 1250/1250 [00:01<00:00, 857.44it/s]\n"
     ]
    },
    {
     "name": "stdout",
     "output_type": "stream",
     "text": [
      "Epoch [183/500] - \n",
      "Train Loss: 0.0156, Train Accuracy: 100.00%, \n",
      "Validation Loss: 1.0035, Validation Accuracy: 67.80%\n",
      "\n"
     ]
    },
    {
     "name": "stderr",
     "output_type": "stream",
     "text": [
      "Epoch 184/500 [Training]: 100%|██████████| 13/13 [00:00<00:00, 233.24it/s, loss=0.0367]\n",
      "Epoch 184/500 [Validation]: 100%|██████████| 1250/1250 [00:01<00:00, 818.94it/s]\n"
     ]
    },
    {
     "name": "stdout",
     "output_type": "stream",
     "text": [
      "Epoch [184/500] - \n",
      "Train Loss: 0.0132, Train Accuracy: 100.00%, \n",
      "Validation Loss: 0.9618, Validation Accuracy: 69.08%\n",
      "\n"
     ]
    },
    {
     "name": "stderr",
     "output_type": "stream",
     "text": [
      "Epoch 185/500 [Training]: 100%|██████████| 13/13 [00:00<00:00, 154.11it/s, loss=0.0373]\n",
      "Epoch 185/500 [Validation]: 100%|██████████| 1250/1250 [00:01<00:00, 875.99it/s]\n"
     ]
    },
    {
     "name": "stdout",
     "output_type": "stream",
     "text": [
      "Epoch [185/500] - \n",
      "Train Loss: 0.0190, Train Accuracy: 100.00%, \n",
      "Validation Loss: 1.1181, Validation Accuracy: 65.51%\n",
      "\n"
     ]
    },
    {
     "name": "stderr",
     "output_type": "stream",
     "text": [
      "Epoch 186/500 [Training]: 100%|██████████| 13/13 [00:00<00:00, 170.21it/s, loss=0.0141]\n",
      "Epoch 186/500 [Validation]: 100%|██████████| 1250/1250 [00:01<00:00, 902.56it/s]\n"
     ]
    },
    {
     "name": "stdout",
     "output_type": "stream",
     "text": [
      "Epoch [186/500] - \n",
      "Train Loss: 0.0134, Train Accuracy: 100.00%, \n",
      "Validation Loss: 0.9870, Validation Accuracy: 68.50%\n",
      "\n"
     ]
    },
    {
     "name": "stderr",
     "output_type": "stream",
     "text": [
      "Epoch 187/500 [Training]: 100%|██████████| 13/13 [00:00<00:00, 144.10it/s, loss=0.1113]\n",
      "Epoch 187/500 [Validation]: 100%|██████████| 1250/1250 [00:01<00:00, 880.85it/s]\n"
     ]
    },
    {
     "name": "stdout",
     "output_type": "stream",
     "text": [
      "Epoch [187/500] - \n",
      "Train Loss: 0.0173, Train Accuracy: 100.00%, \n",
      "Validation Loss: 0.9675, Validation Accuracy: 69.18%\n",
      "\n"
     ]
    },
    {
     "name": "stderr",
     "output_type": "stream",
     "text": [
      "Epoch 188/500 [Training]: 100%|██████████| 13/13 [00:00<00:00, 143.58it/s, loss=0.0084]\n",
      "Epoch 188/500 [Validation]: 100%|██████████| 1250/1250 [00:01<00:00, 910.75it/s]\n"
     ]
    },
    {
     "name": "stdout",
     "output_type": "stream",
     "text": [
      "Epoch [188/500] - \n",
      "Train Loss: 0.0215, Train Accuracy: 100.00%, \n",
      "Validation Loss: 1.4774, Validation Accuracy: 52.02%\n",
      "\n"
     ]
    },
    {
     "name": "stderr",
     "output_type": "stream",
     "text": [
      "Epoch 189/500 [Training]: 100%|██████████| 13/13 [00:00<00:00, 149.99it/s, loss=0.0202]\n",
      "Epoch 189/500 [Validation]: 100%|██████████| 1250/1250 [00:01<00:00, 880.50it/s]\n"
     ]
    },
    {
     "name": "stdout",
     "output_type": "stream",
     "text": [
      "Epoch [189/500] - \n",
      "Train Loss: 0.0192, Train Accuracy: 100.00%, \n",
      "Validation Loss: 1.0493, Validation Accuracy: 64.85%\n",
      "\n"
     ]
    },
    {
     "name": "stderr",
     "output_type": "stream",
     "text": [
      "Epoch 190/500 [Training]: 100%|██████████| 13/13 [00:00<00:00, 165.85it/s, loss=0.0189]\n",
      "Epoch 190/500 [Validation]: 100%|██████████| 1250/1250 [00:01<00:00, 837.02it/s]\n"
     ]
    },
    {
     "name": "stdout",
     "output_type": "stream",
     "text": [
      "Epoch [190/500] - \n",
      "Train Loss: 0.0167, Train Accuracy: 100.00%, \n",
      "Validation Loss: 1.0250, Validation Accuracy: 68.26%\n",
      "\n"
     ]
    },
    {
     "name": "stderr",
     "output_type": "stream",
     "text": [
      "Epoch 191/500 [Training]: 100%|██████████| 13/13 [00:00<00:00, 138.97it/s, loss=0.0176]\n",
      "Epoch 191/500 [Validation]: 100%|██████████| 1250/1250 [00:01<00:00, 871.45it/s]\n"
     ]
    },
    {
     "name": "stdout",
     "output_type": "stream",
     "text": [
      "Epoch [191/500] - \n",
      "Train Loss: 0.0131, Train Accuracy: 100.00%, \n",
      "Validation Loss: 1.0143, Validation Accuracy: 68.77%\n",
      "\n"
     ]
    },
    {
     "name": "stderr",
     "output_type": "stream",
     "text": [
      "Epoch 192/500 [Training]: 100%|██████████| 13/13 [00:00<00:00, 149.24it/s, loss=0.0078]\n",
      "Epoch 192/500 [Validation]: 100%|██████████| 1250/1250 [00:01<00:00, 878.24it/s]\n"
     ]
    },
    {
     "name": "stdout",
     "output_type": "stream",
     "text": [
      "Epoch [192/500] - \n",
      "Train Loss: 0.0108, Train Accuracy: 100.00%, \n",
      "Validation Loss: 0.9469, Validation Accuracy: 70.16%\n",
      "\n"
     ]
    },
    {
     "name": "stderr",
     "output_type": "stream",
     "text": [
      "Epoch 193/500 [Training]: 100%|██████████| 13/13 [00:00<00:00, 179.23it/s, loss=0.0098]\n",
      "Epoch 193/500 [Validation]: 100%|██████████| 1250/1250 [00:01<00:00, 900.54it/s]\n"
     ]
    },
    {
     "name": "stdout",
     "output_type": "stream",
     "text": [
      "Epoch [193/500] - \n",
      "Train Loss: 0.0108, Train Accuracy: 100.00%, \n",
      "Validation Loss: 0.9597, Validation Accuracy: 69.27%\n",
      "\n"
     ]
    },
    {
     "name": "stderr",
     "output_type": "stream",
     "text": [
      "Epoch 194/500 [Training]: 100%|██████████| 13/13 [00:00<00:00, 173.60it/s, loss=0.0214]\n",
      "Epoch 194/500 [Validation]: 100%|██████████| 1250/1250 [00:01<00:00, 922.78it/s]\n"
     ]
    },
    {
     "name": "stdout",
     "output_type": "stream",
     "text": [
      "Epoch [194/500] - \n",
      "Train Loss: 0.0131, Train Accuracy: 100.00%, \n",
      "Validation Loss: 0.9542, Validation Accuracy: 69.21%\n",
      "\n"
     ]
    },
    {
     "name": "stderr",
     "output_type": "stream",
     "text": [
      "Epoch 195/500 [Training]: 100%|██████████| 13/13 [00:00<00:00, 152.15it/s, loss=0.0047]\n",
      "Epoch 195/500 [Validation]: 100%|██████████| 1250/1250 [00:01<00:00, 872.31it/s]\n"
     ]
    },
    {
     "name": "stdout",
     "output_type": "stream",
     "text": [
      "Epoch [195/500] - \n",
      "Train Loss: 0.0090, Train Accuracy: 100.00%, \n",
      "Validation Loss: 0.9951, Validation Accuracy: 68.84%\n",
      "\n"
     ]
    },
    {
     "name": "stderr",
     "output_type": "stream",
     "text": [
      "Epoch 196/500 [Training]: 100%|██████████| 13/13 [00:00<00:00, 183.01it/s, loss=0.0185]\n",
      "Epoch 196/500 [Validation]: 100%|██████████| 1250/1250 [00:01<00:00, 913.67it/s]\n"
     ]
    },
    {
     "name": "stdout",
     "output_type": "stream",
     "text": [
      "Epoch [196/500] - \n",
      "Train Loss: 0.0098, Train Accuracy: 100.00%, \n",
      "Validation Loss: 0.9802, Validation Accuracy: 68.91%\n",
      "\n"
     ]
    },
    {
     "name": "stderr",
     "output_type": "stream",
     "text": [
      "Epoch 197/500 [Training]: 100%|██████████| 13/13 [00:00<00:00, 126.58it/s, loss=0.0338]\n",
      "Epoch 197/500 [Validation]: 100%|██████████| 1250/1250 [00:01<00:00, 721.03it/s]\n"
     ]
    },
    {
     "name": "stdout",
     "output_type": "stream",
     "text": [
      "Epoch [197/500] - \n",
      "Train Loss: 0.0115, Train Accuracy: 100.00%, \n",
      "Validation Loss: 0.9970, Validation Accuracy: 68.97%\n",
      "\n"
     ]
    },
    {
     "name": "stderr",
     "output_type": "stream",
     "text": [
      "Epoch 198/500 [Training]: 100%|██████████| 13/13 [00:00<00:00, 115.11it/s, loss=0.0312]\n",
      "Epoch 198/500 [Validation]: 100%|██████████| 1250/1250 [00:01<00:00, 847.55it/s]\n"
     ]
    },
    {
     "name": "stdout",
     "output_type": "stream",
     "text": [
      "Epoch [198/500] - \n",
      "Train Loss: 0.0109, Train Accuracy: 100.00%, \n",
      "Validation Loss: 0.9823, Validation Accuracy: 68.96%\n",
      "\n"
     ]
    },
    {
     "name": "stderr",
     "output_type": "stream",
     "text": [
      "Epoch 199/500 [Training]: 100%|██████████| 13/13 [00:00<00:00, 181.05it/s, loss=0.1546]\n",
      "Epoch 199/500 [Validation]: 100%|██████████| 1250/1250 [00:01<00:00, 899.76it/s]\n"
     ]
    },
    {
     "name": "stdout",
     "output_type": "stream",
     "text": [
      "Epoch [199/500] - \n",
      "Train Loss: 0.0206, Train Accuracy: 100.00%, \n",
      "Validation Loss: 1.0349, Validation Accuracy: 67.71%\n",
      "\n"
     ]
    },
    {
     "name": "stderr",
     "output_type": "stream",
     "text": [
      "Epoch 200/500 [Training]: 100%|██████████| 13/13 [00:00<00:00, 148.54it/s, loss=0.0202]\n",
      "Epoch 200/500 [Validation]: 100%|██████████| 1250/1250 [00:01<00:00, 838.02it/s]\n"
     ]
    },
    {
     "name": "stdout",
     "output_type": "stream",
     "text": [
      "Epoch [200/500] - \n",
      "Train Loss: 0.0138, Train Accuracy: 100.00%, \n",
      "Validation Loss: 1.2289, Validation Accuracy: 61.47%\n",
      "\n"
     ]
    },
    {
     "name": "stderr",
     "output_type": "stream",
     "text": [
      "Epoch 201/500 [Training]: 100%|██████████| 13/13 [00:00<00:00, 133.18it/s, loss=0.0109]\n",
      "Epoch 201/500 [Validation]: 100%|██████████| 1250/1250 [00:01<00:00, 914.02it/s]\n"
     ]
    },
    {
     "name": "stdout",
     "output_type": "stream",
     "text": [
      "Epoch [201/500] - \n",
      "Train Loss: 0.0173, Train Accuracy: 100.00%, \n",
      "Validation Loss: 0.9767, Validation Accuracy: 67.67%\n",
      "\n"
     ]
    },
    {
     "name": "stderr",
     "output_type": "stream",
     "text": [
      "Epoch 202/500 [Training]: 100%|██████████| 13/13 [00:00<00:00, 130.93it/s, loss=0.0448]\n",
      "Epoch 202/500 [Validation]: 100%|██████████| 1250/1250 [00:01<00:00, 942.49it/s]\n"
     ]
    },
    {
     "name": "stdout",
     "output_type": "stream",
     "text": [
      "Epoch [202/500] - \n",
      "Train Loss: 0.0163, Train Accuracy: 100.00%, \n",
      "Validation Loss: 0.9660, Validation Accuracy: 69.69%\n",
      "\n"
     ]
    },
    {
     "name": "stderr",
     "output_type": "stream",
     "text": [
      "Epoch 203/500 [Training]: 100%|██████████| 13/13 [00:00<00:00, 225.28it/s, loss=0.0179]\n",
      "Epoch 203/500 [Validation]: 100%|██████████| 1250/1250 [00:01<00:00, 869.35it/s]\n"
     ]
    },
    {
     "name": "stdout",
     "output_type": "stream",
     "text": [
      "Epoch [203/500] - \n",
      "Train Loss: 0.0106, Train Accuracy: 100.00%, \n",
      "Validation Loss: 1.0170, Validation Accuracy: 67.61%\n",
      "\n"
     ]
    },
    {
     "name": "stderr",
     "output_type": "stream",
     "text": [
      "Epoch 204/500 [Training]: 100%|██████████| 13/13 [00:00<00:00, 267.08it/s, loss=0.0426]\n",
      "Epoch 204/500 [Validation]: 100%|██████████| 1250/1250 [00:01<00:00, 902.68it/s]\n"
     ]
    },
    {
     "name": "stdout",
     "output_type": "stream",
     "text": [
      "Epoch [204/500] - \n",
      "Train Loss: 0.0137, Train Accuracy: 100.00%, \n",
      "Validation Loss: 1.0360, Validation Accuracy: 67.49%\n",
      "\n"
     ]
    },
    {
     "name": "stderr",
     "output_type": "stream",
     "text": [
      "Epoch 205/500 [Training]: 100%|██████████| 13/13 [00:00<00:00, 233.53it/s, loss=0.0374]\n",
      "Epoch 205/500 [Validation]: 100%|██████████| 1250/1250 [00:01<00:00, 818.40it/s]\n"
     ]
    },
    {
     "name": "stdout",
     "output_type": "stream",
     "text": [
      "Epoch [205/500] - \n",
      "Train Loss: 0.0155, Train Accuracy: 100.00%, \n",
      "Validation Loss: 1.0251, Validation Accuracy: 67.85%\n",
      "\n"
     ]
    },
    {
     "name": "stderr",
     "output_type": "stream",
     "text": [
      "Epoch 206/500 [Training]: 100%|██████████| 13/13 [00:00<00:00, 192.43it/s, loss=0.0118]\n",
      "Epoch 206/500 [Validation]: 100%|██████████| 1250/1250 [00:01<00:00, 841.50it/s]\n"
     ]
    },
    {
     "name": "stdout",
     "output_type": "stream",
     "text": [
      "Epoch [206/500] - \n",
      "Train Loss: 0.0119, Train Accuracy: 100.00%, \n",
      "Validation Loss: 0.9652, Validation Accuracy: 68.62%\n",
      "\n"
     ]
    },
    {
     "name": "stderr",
     "output_type": "stream",
     "text": [
      "Epoch 207/500 [Training]: 100%|██████████| 13/13 [00:00<00:00, 193.92it/s, loss=0.0258]\n",
      "Epoch 207/500 [Validation]: 100%|██████████| 1250/1250 [00:01<00:00, 917.46it/s]\n"
     ]
    },
    {
     "name": "stdout",
     "output_type": "stream",
     "text": [
      "Epoch [207/500] - \n",
      "Train Loss: 0.0106, Train Accuracy: 100.00%, \n",
      "Validation Loss: 0.9906, Validation Accuracy: 67.73%\n",
      "\n"
     ]
    },
    {
     "name": "stderr",
     "output_type": "stream",
     "text": [
      "Epoch 208/500 [Training]: 100%|██████████| 13/13 [00:00<00:00, 172.38it/s, loss=0.0295]\n",
      "Epoch 208/500 [Validation]: 100%|██████████| 1250/1250 [00:01<00:00, 866.34it/s]\n"
     ]
    },
    {
     "name": "stdout",
     "output_type": "stream",
     "text": [
      "Epoch [208/500] - \n",
      "Train Loss: 0.0100, Train Accuracy: 100.00%, \n",
      "Validation Loss: 0.9802, Validation Accuracy: 67.70%\n",
      "\n"
     ]
    },
    {
     "name": "stderr",
     "output_type": "stream",
     "text": [
      "Epoch 209/500 [Training]: 100%|██████████| 13/13 [00:00<00:00, 196.91it/s, loss=0.0069]\n",
      "Epoch 209/500 [Validation]: 100%|██████████| 1250/1250 [00:01<00:00, 879.75it/s]\n"
     ]
    },
    {
     "name": "stdout",
     "output_type": "stream",
     "text": [
      "Epoch [209/500] - \n",
      "Train Loss: 0.0128, Train Accuracy: 100.00%, \n",
      "Validation Loss: 1.0152, Validation Accuracy: 68.38%\n",
      "\n"
     ]
    },
    {
     "name": "stderr",
     "output_type": "stream",
     "text": [
      "Epoch 210/500 [Training]: 100%|██████████| 13/13 [00:00<00:00, 249.10it/s, loss=0.0095]\n",
      "Epoch 210/500 [Validation]: 100%|██████████| 1250/1250 [00:01<00:00, 935.35it/s]\n"
     ]
    },
    {
     "name": "stdout",
     "output_type": "stream",
     "text": [
      "Epoch [210/500] - \n",
      "Train Loss: 0.0099, Train Accuracy: 100.00%, \n",
      "Validation Loss: 1.0175, Validation Accuracy: 68.38%\n",
      "\n"
     ]
    },
    {
     "name": "stderr",
     "output_type": "stream",
     "text": [
      "Epoch 211/500 [Training]: 100%|██████████| 13/13 [00:00<00:00, 231.55it/s, loss=0.0370]\n",
      "Epoch 211/500 [Validation]: 100%|██████████| 1250/1250 [00:01<00:00, 900.92it/s]\n"
     ]
    },
    {
     "name": "stdout",
     "output_type": "stream",
     "text": [
      "Epoch [211/500] - \n",
      "Train Loss: 0.0104, Train Accuracy: 100.00%, \n",
      "Validation Loss: 0.9864, Validation Accuracy: 68.87%\n",
      "\n"
     ]
    },
    {
     "name": "stderr",
     "output_type": "stream",
     "text": [
      "Epoch 212/500 [Training]: 100%|██████████| 13/13 [00:00<00:00, 198.99it/s, loss=0.0950]\n",
      "Epoch 212/500 [Validation]: 100%|██████████| 1250/1250 [00:01<00:00, 852.73it/s]\n"
     ]
    },
    {
     "name": "stdout",
     "output_type": "stream",
     "text": [
      "Epoch [212/500] - \n",
      "Train Loss: 0.0153, Train Accuracy: 100.00%, \n",
      "Validation Loss: 0.9799, Validation Accuracy: 68.60%\n",
      "\n"
     ]
    },
    {
     "name": "stderr",
     "output_type": "stream",
     "text": [
      "Epoch 213/500 [Training]: 100%|██████████| 13/13 [00:00<00:00, 188.78it/s, loss=0.0627]\n",
      "Epoch 213/500 [Validation]: 100%|██████████| 1250/1250 [00:01<00:00, 924.62it/s]\n"
     ]
    },
    {
     "name": "stdout",
     "output_type": "stream",
     "text": [
      "Epoch [213/500] - \n",
      "Train Loss: 0.0126, Train Accuracy: 100.00%, \n",
      "Validation Loss: 0.9937, Validation Accuracy: 69.05%\n",
      "\n"
     ]
    },
    {
     "name": "stderr",
     "output_type": "stream",
     "text": [
      "Epoch 214/500 [Training]: 100%|██████████| 13/13 [00:00<00:00, 185.22it/s, loss=0.0079]\n",
      "Epoch 214/500 [Validation]: 100%|██████████| 1250/1250 [00:01<00:00, 873.81it/s]\n"
     ]
    },
    {
     "name": "stdout",
     "output_type": "stream",
     "text": [
      "Epoch [214/500] - \n",
      "Train Loss: 0.0103, Train Accuracy: 100.00%, \n",
      "Validation Loss: 0.9583, Validation Accuracy: 69.32%\n",
      "\n"
     ]
    },
    {
     "name": "stderr",
     "output_type": "stream",
     "text": [
      "Epoch 215/500 [Training]: 100%|██████████| 13/13 [00:00<00:00, 177.61it/s, loss=0.0422]\n",
      "Epoch 215/500 [Validation]: 100%|██████████| 1250/1250 [00:01<00:00, 911.07it/s]\n"
     ]
    },
    {
     "name": "stdout",
     "output_type": "stream",
     "text": [
      "Epoch [215/500] - \n",
      "Train Loss: 0.0136, Train Accuracy: 100.00%, \n",
      "Validation Loss: 0.9839, Validation Accuracy: 69.03%\n",
      "\n"
     ]
    },
    {
     "name": "stderr",
     "output_type": "stream",
     "text": [
      "Epoch 216/500 [Training]: 100%|██████████| 13/13 [00:00<00:00, 167.38it/s, loss=0.0074]\n",
      "Epoch 216/500 [Validation]: 100%|██████████| 1250/1250 [00:01<00:00, 909.71it/s]\n"
     ]
    },
    {
     "name": "stdout",
     "output_type": "stream",
     "text": [
      "Epoch [216/500] - \n",
      "Train Loss: 0.0089, Train Accuracy: 100.00%, \n",
      "Validation Loss: 1.0438, Validation Accuracy: 67.63%\n",
      "\n"
     ]
    },
    {
     "name": "stderr",
     "output_type": "stream",
     "text": [
      "Epoch 217/500 [Training]: 100%|██████████| 13/13 [00:00<00:00, 158.61it/s, loss=0.0422]\n",
      "Epoch 217/500 [Validation]: 100%|██████████| 1250/1250 [00:01<00:00, 849.32it/s]\n"
     ]
    },
    {
     "name": "stdout",
     "output_type": "stream",
     "text": [
      "Epoch [217/500] - \n",
      "Train Loss: 0.0105, Train Accuracy: 100.00%, \n",
      "Validation Loss: 0.9889, Validation Accuracy: 68.25%\n",
      "\n"
     ]
    },
    {
     "name": "stderr",
     "output_type": "stream",
     "text": [
      "Epoch 218/500 [Training]: 100%|██████████| 13/13 [00:00<00:00, 171.33it/s, loss=0.0079]\n",
      "Epoch 218/500 [Validation]: 100%|██████████| 1250/1250 [00:01<00:00, 920.58it/s]\n"
     ]
    },
    {
     "name": "stdout",
     "output_type": "stream",
     "text": [
      "Epoch [218/500] - \n",
      "Train Loss: 0.0102, Train Accuracy: 100.00%, \n",
      "Validation Loss: 0.9927, Validation Accuracy: 68.27%\n",
      "\n"
     ]
    },
    {
     "name": "stderr",
     "output_type": "stream",
     "text": [
      "Epoch 219/500 [Training]: 100%|██████████| 13/13 [00:00<00:00, 141.97it/s, loss=0.0219]\n",
      "Epoch 219/500 [Validation]: 100%|██████████| 1250/1250 [00:01<00:00, 860.51it/s]\n"
     ]
    },
    {
     "name": "stdout",
     "output_type": "stream",
     "text": [
      "Epoch [219/500] - \n",
      "Train Loss: 0.0124, Train Accuracy: 100.00%, \n",
      "Validation Loss: 0.9522, Validation Accuracy: 68.79%\n",
      "\n"
     ]
    },
    {
     "name": "stderr",
     "output_type": "stream",
     "text": [
      "Epoch 220/500 [Training]: 100%|██████████| 13/13 [00:00<00:00, 151.93it/s, loss=0.0063]\n",
      "Epoch 220/500 [Validation]: 100%|██████████| 1250/1250 [00:01<00:00, 920.31it/s]\n"
     ]
    },
    {
     "name": "stdout",
     "output_type": "stream",
     "text": [
      "Epoch [220/500] - \n",
      "Train Loss: 0.0098, Train Accuracy: 100.00%, \n",
      "Validation Loss: 0.9901, Validation Accuracy: 68.31%\n",
      "\n"
     ]
    },
    {
     "name": "stderr",
     "output_type": "stream",
     "text": [
      "Epoch 221/500 [Training]: 100%|██████████| 13/13 [00:00<00:00, 234.44it/s, loss=0.0233]\n",
      "Epoch 221/500 [Validation]: 100%|██████████| 1250/1250 [00:01<00:00, 898.83it/s]\n"
     ]
    },
    {
     "name": "stdout",
     "output_type": "stream",
     "text": [
      "Epoch [221/500] - \n",
      "Train Loss: 0.0101, Train Accuracy: 100.00%, \n",
      "Validation Loss: 0.9790, Validation Accuracy: 68.73%\n",
      "\n"
     ]
    },
    {
     "name": "stderr",
     "output_type": "stream",
     "text": [
      "Epoch 222/500 [Training]: 100%|██████████| 13/13 [00:00<00:00, 168.33it/s, loss=0.0318]\n",
      "Epoch 222/500 [Validation]: 100%|██████████| 1250/1250 [00:01<00:00, 852.55it/s]\n"
     ]
    },
    {
     "name": "stdout",
     "output_type": "stream",
     "text": [
      "Epoch [222/500] - \n",
      "Train Loss: 0.0108, Train Accuracy: 100.00%, \n",
      "Validation Loss: 0.9887, Validation Accuracy: 68.15%\n",
      "\n"
     ]
    },
    {
     "name": "stderr",
     "output_type": "stream",
     "text": [
      "Epoch 223/500 [Training]: 100%|██████████| 13/13 [00:00<00:00, 197.85it/s, loss=0.0185]\n",
      "Epoch 223/500 [Validation]: 100%|██████████| 1250/1250 [00:01<00:00, 898.82it/s]\n"
     ]
    },
    {
     "name": "stdout",
     "output_type": "stream",
     "text": [
      "Epoch [223/500] - \n",
      "Train Loss: 0.0109, Train Accuracy: 100.00%, \n",
      "Validation Loss: 1.0971, Validation Accuracy: 65.37%\n",
      "\n"
     ]
    },
    {
     "name": "stderr",
     "output_type": "stream",
     "text": [
      "Epoch 224/500 [Training]: 100%|██████████| 13/13 [00:00<00:00, 185.17it/s, loss=0.0161]\n",
      "Epoch 224/500 [Validation]: 100%|██████████| 1250/1250 [00:01<00:00, 874.82it/s]\n"
     ]
    },
    {
     "name": "stdout",
     "output_type": "stream",
     "text": [
      "Epoch [224/500] - \n",
      "Train Loss: 0.0099, Train Accuracy: 100.00%, \n",
      "Validation Loss: 0.9773, Validation Accuracy: 68.51%\n",
      "\n"
     ]
    },
    {
     "name": "stderr",
     "output_type": "stream",
     "text": [
      "Epoch 225/500 [Training]: 100%|██████████| 13/13 [00:00<00:00, 167.60it/s, loss=0.0122]\n",
      "Epoch 225/500 [Validation]: 100%|██████████| 1250/1250 [00:01<00:00, 864.19it/s]\n"
     ]
    },
    {
     "name": "stdout",
     "output_type": "stream",
     "text": [
      "Epoch [225/500] - \n",
      "Train Loss: 0.0081, Train Accuracy: 100.00%, \n",
      "Validation Loss: 0.9942, Validation Accuracy: 68.42%\n",
      "\n"
     ]
    },
    {
     "name": "stderr",
     "output_type": "stream",
     "text": [
      "Epoch 226/500 [Training]: 100%|██████████| 13/13 [00:00<00:00, 193.74it/s, loss=0.0087]\n",
      "Epoch 226/500 [Validation]: 100%|██████████| 1250/1250 [00:01<00:00, 895.42it/s]\n"
     ]
    },
    {
     "name": "stdout",
     "output_type": "stream",
     "text": [
      "Epoch [226/500] - \n",
      "Train Loss: 0.0099, Train Accuracy: 100.00%, \n",
      "Validation Loss: 0.9943, Validation Accuracy: 67.94%\n",
      "\n"
     ]
    },
    {
     "name": "stderr",
     "output_type": "stream",
     "text": [
      "Epoch 227/500 [Training]: 100%|██████████| 13/13 [00:00<00:00, 151.07it/s, loss=0.0256]\n",
      "Epoch 227/500 [Validation]: 100%|██████████| 1250/1250 [00:01<00:00, 872.60it/s]\n"
     ]
    },
    {
     "name": "stdout",
     "output_type": "stream",
     "text": [
      "Epoch [227/500] - \n",
      "Train Loss: 0.0106, Train Accuracy: 100.00%, \n",
      "Validation Loss: 1.0125, Validation Accuracy: 67.63%\n",
      "\n"
     ]
    },
    {
     "name": "stderr",
     "output_type": "stream",
     "text": [
      "Epoch 228/500 [Training]: 100%|██████████| 13/13 [00:00<00:00, 175.62it/s, loss=0.0234]\n",
      "Epoch 228/500 [Validation]: 100%|██████████| 1250/1250 [00:01<00:00, 845.26it/s]\n"
     ]
    },
    {
     "name": "stdout",
     "output_type": "stream",
     "text": [
      "Epoch [228/500] - \n",
      "Train Loss: 0.0094, Train Accuracy: 100.00%, \n",
      "Validation Loss: 1.0180, Validation Accuracy: 67.39%\n",
      "\n"
     ]
    },
    {
     "name": "stderr",
     "output_type": "stream",
     "text": [
      "Epoch 229/500 [Training]: 100%|██████████| 13/13 [00:00<00:00, 142.37it/s, loss=0.0162]\n",
      "Epoch 229/500 [Validation]: 100%|██████████| 1250/1250 [00:01<00:00, 877.21it/s]\n"
     ]
    },
    {
     "name": "stdout",
     "output_type": "stream",
     "text": [
      "Epoch [229/500] - \n",
      "Train Loss: 0.0101, Train Accuracy: 100.00%, \n",
      "Validation Loss: 1.0111, Validation Accuracy: 66.58%\n",
      "\n"
     ]
    },
    {
     "name": "stderr",
     "output_type": "stream",
     "text": [
      "Epoch 230/500 [Training]: 100%|██████████| 13/13 [00:00<00:00, 150.46it/s, loss=0.0118]\n",
      "Epoch 230/500 [Validation]: 100%|██████████| 1250/1250 [00:01<00:00, 899.66it/s]\n"
     ]
    },
    {
     "name": "stdout",
     "output_type": "stream",
     "text": [
      "Epoch [230/500] - \n",
      "Train Loss: 0.0113, Train Accuracy: 100.00%, \n",
      "Validation Loss: 0.9751, Validation Accuracy: 68.27%\n",
      "\n"
     ]
    },
    {
     "name": "stderr",
     "output_type": "stream",
     "text": [
      "Epoch 231/500 [Training]: 100%|██████████| 13/13 [00:00<00:00, 108.18it/s, loss=0.0071]\n",
      "Epoch 231/500 [Validation]: 100%|██████████| 1250/1250 [00:01<00:00, 932.08it/s]\n"
     ]
    },
    {
     "name": "stdout",
     "output_type": "stream",
     "text": [
      "Epoch [231/500] - \n",
      "Train Loss: 0.0105, Train Accuracy: 100.00%, \n",
      "Validation Loss: 0.9770, Validation Accuracy: 69.39%\n",
      "\n"
     ]
    },
    {
     "name": "stderr",
     "output_type": "stream",
     "text": [
      "Epoch 232/500 [Training]: 100%|██████████| 13/13 [00:00<00:00, 200.25it/s, loss=0.0787]\n",
      "Epoch 232/500 [Validation]: 100%|██████████| 1250/1250 [00:01<00:00, 912.54it/s]\n"
     ]
    },
    {
     "name": "stdout",
     "output_type": "stream",
     "text": [
      "Epoch [232/500] - \n",
      "Train Loss: 0.0154, Train Accuracy: 100.00%, \n",
      "Validation Loss: 0.9862, Validation Accuracy: 68.18%\n",
      "\n"
     ]
    },
    {
     "name": "stderr",
     "output_type": "stream",
     "text": [
      "Epoch 233/500 [Training]: 100%|██████████| 13/13 [00:00<00:00, 179.20it/s, loss=0.0115]\n",
      "Epoch 233/500 [Validation]: 100%|██████████| 1250/1250 [00:01<00:00, 877.90it/s]\n"
     ]
    },
    {
     "name": "stdout",
     "output_type": "stream",
     "text": [
      "Epoch [233/500] - \n",
      "Train Loss: 0.0133, Train Accuracy: 100.00%, \n",
      "Validation Loss: 1.2224, Validation Accuracy: 56.61%\n",
      "\n"
     ]
    },
    {
     "name": "stderr",
     "output_type": "stream",
     "text": [
      "Epoch 234/500 [Training]: 100%|██████████| 13/13 [00:00<00:00, 162.07it/s, loss=0.0207]\n",
      "Epoch 234/500 [Validation]: 100%|██████████| 1250/1250 [00:01<00:00, 925.55it/s]\n"
     ]
    },
    {
     "name": "stdout",
     "output_type": "stream",
     "text": [
      "Epoch [234/500] - \n",
      "Train Loss: 0.0126, Train Accuracy: 100.00%, \n",
      "Validation Loss: 1.0117, Validation Accuracy: 66.39%\n",
      "\n"
     ]
    },
    {
     "name": "stderr",
     "output_type": "stream",
     "text": [
      "Epoch 235/500 [Training]: 100%|██████████| 13/13 [00:00<00:00, 156.12it/s, loss=0.0117]\n",
      "Epoch 235/500 [Validation]: 100%|██████████| 1250/1250 [00:01<00:00, 860.86it/s]\n"
     ]
    },
    {
     "name": "stdout",
     "output_type": "stream",
     "text": [
      "Epoch [235/500] - \n",
      "Train Loss: 0.0106, Train Accuracy: 100.00%, \n",
      "Validation Loss: 0.9987, Validation Accuracy: 68.48%\n",
      "\n"
     ]
    },
    {
     "name": "stderr",
     "output_type": "stream",
     "text": [
      "Epoch 236/500 [Training]: 100%|██████████| 13/13 [00:00<00:00, 206.15it/s, loss=0.0313]\n",
      "Epoch 236/500 [Validation]: 100%|██████████| 1250/1250 [00:01<00:00, 882.28it/s]\n"
     ]
    },
    {
     "name": "stdout",
     "output_type": "stream",
     "text": [
      "Epoch [236/500] - \n",
      "Train Loss: 0.0102, Train Accuracy: 100.00%, \n",
      "Validation Loss: 0.9693, Validation Accuracy: 69.67%\n",
      "\n"
     ]
    },
    {
     "name": "stderr",
     "output_type": "stream",
     "text": [
      "Epoch 237/500 [Training]: 100%|██████████| 13/13 [00:00<00:00, 212.20it/s, loss=0.0173]\n",
      "Epoch 237/500 [Validation]: 100%|██████████| 1250/1250 [00:01<00:00, 860.46it/s]\n"
     ]
    },
    {
     "name": "stdout",
     "output_type": "stream",
     "text": [
      "Epoch [237/500] - \n",
      "Train Loss: 0.0092, Train Accuracy: 100.00%, \n",
      "Validation Loss: 1.0370, Validation Accuracy: 67.00%\n",
      "\n"
     ]
    },
    {
     "name": "stderr",
     "output_type": "stream",
     "text": [
      "Epoch 238/500 [Training]: 100%|██████████| 13/13 [00:00<00:00, 153.73it/s, loss=0.0106]\n",
      "Epoch 238/500 [Validation]: 100%|██████████| 1250/1250 [00:01<00:00, 816.41it/s]\n"
     ]
    },
    {
     "name": "stdout",
     "output_type": "stream",
     "text": [
      "Epoch [238/500] - \n",
      "Train Loss: 0.0086, Train Accuracy: 100.00%, \n",
      "Validation Loss: 1.0376, Validation Accuracy: 67.59%\n",
      "\n"
     ]
    },
    {
     "name": "stderr",
     "output_type": "stream",
     "text": [
      "Epoch 239/500 [Training]: 100%|██████████| 13/13 [00:00<00:00, 273.59it/s, loss=0.0127]\n",
      "Epoch 239/500 [Validation]: 100%|██████████| 1250/1250 [00:01<00:00, 862.96it/s]\n"
     ]
    },
    {
     "name": "stdout",
     "output_type": "stream",
     "text": [
      "Epoch [239/500] - \n",
      "Train Loss: 0.0120, Train Accuracy: 100.00%, \n",
      "Validation Loss: 1.0249, Validation Accuracy: 66.58%\n",
      "\n"
     ]
    },
    {
     "name": "stderr",
     "output_type": "stream",
     "text": [
      "Epoch 240/500 [Training]: 100%|██████████| 13/13 [00:00<00:00, 283.88it/s, loss=0.0120]\n",
      "Epoch 240/500 [Validation]: 100%|██████████| 1250/1250 [00:01<00:00, 835.51it/s]\n"
     ]
    },
    {
     "name": "stdout",
     "output_type": "stream",
     "text": [
      "Epoch [240/500] - \n",
      "Train Loss: 0.0083, Train Accuracy: 100.00%, \n",
      "Validation Loss: 1.0367, Validation Accuracy: 66.95%\n",
      "\n"
     ]
    },
    {
     "name": "stderr",
     "output_type": "stream",
     "text": [
      "Epoch 241/500 [Training]: 100%|██████████| 13/13 [00:00<00:00, 258.61it/s, loss=0.0252]\n",
      "Epoch 241/500 [Validation]: 100%|██████████| 1250/1250 [00:01<00:00, 842.93it/s]\n"
     ]
    },
    {
     "name": "stdout",
     "output_type": "stream",
     "text": [
      "Epoch [241/500] - \n",
      "Train Loss: 0.0087, Train Accuracy: 100.00%, \n",
      "Validation Loss: 1.0257, Validation Accuracy: 67.63%\n",
      "\n"
     ]
    },
    {
     "name": "stderr",
     "output_type": "stream",
     "text": [
      "Epoch 242/500 [Training]: 100%|██████████| 13/13 [00:00<00:00, 278.84it/s, loss=0.0204]\n",
      "Epoch 242/500 [Validation]: 100%|██████████| 1250/1250 [00:01<00:00, 867.14it/s]\n"
     ]
    },
    {
     "name": "stdout",
     "output_type": "stream",
     "text": [
      "Epoch [242/500] - \n",
      "Train Loss: 0.0116, Train Accuracy: 100.00%, \n",
      "Validation Loss: 1.0429, Validation Accuracy: 67.74%\n",
      "\n"
     ]
    },
    {
     "name": "stderr",
     "output_type": "stream",
     "text": [
      "Epoch 243/500 [Training]: 100%|██████████| 13/13 [00:00<00:00, 222.91it/s, loss=0.0045]\n",
      "Epoch 243/500 [Validation]: 100%|██████████| 1250/1250 [00:01<00:00, 835.77it/s]\n"
     ]
    },
    {
     "name": "stdout",
     "output_type": "stream",
     "text": [
      "Epoch [243/500] - \n",
      "Train Loss: 0.0106, Train Accuracy: 100.00%, \n",
      "Validation Loss: 0.9851, Validation Accuracy: 68.54%\n",
      "\n"
     ]
    },
    {
     "name": "stderr",
     "output_type": "stream",
     "text": [
      "Epoch 244/500 [Training]: 100%|██████████| 13/13 [00:00<00:00, 256.71it/s, loss=0.0107]\n",
      "Epoch 244/500 [Validation]: 100%|██████████| 1250/1250 [00:01<00:00, 872.17it/s]\n"
     ]
    },
    {
     "name": "stdout",
     "output_type": "stream",
     "text": [
      "Epoch [244/500] - \n",
      "Train Loss: 0.0108, Train Accuracy: 100.00%, \n",
      "Validation Loss: 0.9784, Validation Accuracy: 68.52%\n",
      "\n"
     ]
    },
    {
     "name": "stderr",
     "output_type": "stream",
     "text": [
      "Epoch 245/500 [Training]: 100%|██████████| 13/13 [00:00<00:00, 259.65it/s, loss=0.0165]\n",
      "Epoch 245/500 [Validation]: 100%|██████████| 1250/1250 [00:01<00:00, 796.36it/s]\n"
     ]
    },
    {
     "name": "stdout",
     "output_type": "stream",
     "text": [
      "Epoch [245/500] - \n",
      "Train Loss: 0.0086, Train Accuracy: 100.00%, \n",
      "Validation Loss: 0.9916, Validation Accuracy: 67.93%\n",
      "\n"
     ]
    },
    {
     "name": "stderr",
     "output_type": "stream",
     "text": [
      "Epoch 246/500 [Training]: 100%|██████████| 13/13 [00:00<00:00, 271.40it/s, loss=0.1055]\n",
      "Epoch 246/500 [Validation]: 100%|██████████| 1250/1250 [00:01<00:00, 847.02it/s]\n"
     ]
    },
    {
     "name": "stdout",
     "output_type": "stream",
     "text": [
      "Epoch [246/500] - \n",
      "Train Loss: 0.0170, Train Accuracy: 100.00%, \n",
      "Validation Loss: 1.0357, Validation Accuracy: 66.12%\n",
      "\n"
     ]
    },
    {
     "name": "stderr",
     "output_type": "stream",
     "text": [
      "Epoch 247/500 [Training]: 100%|██████████| 13/13 [00:00<00:00, 272.37it/s, loss=0.0524]\n",
      "Epoch 247/500 [Validation]: 100%|██████████| 1250/1250 [00:01<00:00, 856.04it/s]\n"
     ]
    },
    {
     "name": "stdout",
     "output_type": "stream",
     "text": [
      "Epoch [247/500] - \n",
      "Train Loss: 0.0189, Train Accuracy: 100.00%, \n",
      "Validation Loss: 1.4481, Validation Accuracy: 53.99%\n",
      "\n"
     ]
    },
    {
     "name": "stderr",
     "output_type": "stream",
     "text": [
      "Epoch 248/500 [Training]: 100%|██████████| 13/13 [00:00<00:00, 255.25it/s, loss=0.0432]\n",
      "Epoch 248/500 [Validation]: 100%|██████████| 1250/1250 [00:01<00:00, 848.88it/s]\n"
     ]
    },
    {
     "name": "stdout",
     "output_type": "stream",
     "text": [
      "Epoch [248/500] - \n",
      "Train Loss: 0.0162, Train Accuracy: 100.00%, \n",
      "Validation Loss: 1.0404, Validation Accuracy: 66.76%\n",
      "\n"
     ]
    },
    {
     "name": "stderr",
     "output_type": "stream",
     "text": [
      "Epoch 249/500 [Training]: 100%|██████████| 13/13 [00:00<00:00, 209.05it/s, loss=0.0104]\n",
      "Epoch 249/500 [Validation]: 100%|██████████| 1250/1250 [00:01<00:00, 846.23it/s]\n"
     ]
    },
    {
     "name": "stdout",
     "output_type": "stream",
     "text": [
      "Epoch [249/500] - \n",
      "Train Loss: 0.0125, Train Accuracy: 100.00%, \n",
      "Validation Loss: 1.0276, Validation Accuracy: 66.50%\n",
      "\n"
     ]
    },
    {
     "name": "stderr",
     "output_type": "stream",
     "text": [
      "Epoch 250/500 [Training]: 100%|██████████| 13/13 [00:00<00:00, 117.78it/s, loss=0.0484]\n",
      "Epoch 250/500 [Validation]: 100%|██████████| 1250/1250 [00:01<00:00, 872.08it/s]\n"
     ]
    },
    {
     "name": "stdout",
     "output_type": "stream",
     "text": [
      "Epoch [250/500] - \n",
      "Train Loss: 0.0117, Train Accuracy: 100.00%, \n",
      "Validation Loss: 1.0020, Validation Accuracy: 67.64%\n",
      "\n"
     ]
    },
    {
     "name": "stderr",
     "output_type": "stream",
     "text": [
      "Epoch 251/500 [Training]: 100%|██████████| 13/13 [00:00<00:00, 245.76it/s, loss=0.0556]\n",
      "Epoch 251/500 [Validation]: 100%|██████████| 1250/1250 [00:01<00:00, 793.81it/s]\n"
     ]
    },
    {
     "name": "stdout",
     "output_type": "stream",
     "text": [
      "Epoch [251/500] - \n",
      "Train Loss: 0.0120, Train Accuracy: 100.00%, \n",
      "Validation Loss: 1.0109, Validation Accuracy: 68.12%\n",
      "\n"
     ]
    },
    {
     "name": "stderr",
     "output_type": "stream",
     "text": [
      "Epoch 252/500 [Training]: 100%|██████████| 13/13 [00:00<00:00, 255.38it/s, loss=0.0191]\n",
      "Epoch 252/500 [Validation]: 100%|██████████| 1250/1250 [00:01<00:00, 864.78it/s]\n"
     ]
    },
    {
     "name": "stdout",
     "output_type": "stream",
     "text": [
      "Epoch [252/500] - \n",
      "Train Loss: 0.0106, Train Accuracy: 100.00%, \n",
      "Validation Loss: 0.9784, Validation Accuracy: 68.29%\n",
      "\n"
     ]
    },
    {
     "name": "stderr",
     "output_type": "stream",
     "text": [
      "Epoch 253/500 [Training]: 100%|██████████| 13/13 [00:00<00:00, 154.79it/s, loss=0.0080]\n",
      "Epoch 253/500 [Validation]: 100%|██████████| 1250/1250 [00:01<00:00, 834.95it/s]\n"
     ]
    },
    {
     "name": "stdout",
     "output_type": "stream",
     "text": [
      "Epoch [253/500] - \n",
      "Train Loss: 0.0113, Train Accuracy: 100.00%, \n",
      "Validation Loss: 1.0183, Validation Accuracy: 68.46%\n",
      "\n"
     ]
    },
    {
     "name": "stderr",
     "output_type": "stream",
     "text": [
      "Epoch 254/500 [Training]: 100%|██████████| 13/13 [00:00<00:00, 142.96it/s, loss=0.0095]\n",
      "Epoch 254/500 [Validation]: 100%|██████████| 1250/1250 [00:01<00:00, 846.33it/s]\n"
     ]
    },
    {
     "name": "stdout",
     "output_type": "stream",
     "text": [
      "Epoch [254/500] - \n",
      "Train Loss: 0.0098, Train Accuracy: 100.00%, \n",
      "Validation Loss: 0.9972, Validation Accuracy: 68.38%\n",
      "\n"
     ]
    },
    {
     "name": "stderr",
     "output_type": "stream",
     "text": [
      "Epoch 255/500 [Training]: 100%|██████████| 13/13 [00:00<00:00, 159.42it/s, loss=0.0055]\n",
      "Epoch 255/500 [Validation]: 100%|██████████| 1250/1250 [00:01<00:00, 798.37it/s]\n"
     ]
    },
    {
     "name": "stdout",
     "output_type": "stream",
     "text": [
      "Epoch [255/500] - \n",
      "Train Loss: 0.0084, Train Accuracy: 100.00%, \n",
      "Validation Loss: 0.9990, Validation Accuracy: 67.59%\n",
      "\n"
     ]
    },
    {
     "name": "stderr",
     "output_type": "stream",
     "text": [
      "Epoch 256/500 [Training]: 100%|██████████| 13/13 [00:00<00:00, 150.10it/s, loss=0.0229]\n",
      "Epoch 256/500 [Validation]: 100%|██████████| 1250/1250 [00:01<00:00, 781.54it/s]\n"
     ]
    },
    {
     "name": "stdout",
     "output_type": "stream",
     "text": [
      "Epoch [256/500] - \n",
      "Train Loss: 0.0093, Train Accuracy: 100.00%, \n",
      "Validation Loss: 0.9980, Validation Accuracy: 67.39%\n",
      "\n"
     ]
    },
    {
     "name": "stderr",
     "output_type": "stream",
     "text": [
      "Epoch 257/500 [Training]: 100%|██████████| 13/13 [00:00<00:00, 141.64it/s, loss=0.0385]\n",
      "Epoch 257/500 [Validation]: 100%|██████████| 1250/1250 [00:01<00:00, 925.29it/s]\n"
     ]
    },
    {
     "name": "stdout",
     "output_type": "stream",
     "text": [
      "Epoch [257/500] - \n",
      "Train Loss: 0.0099, Train Accuracy: 100.00%, \n",
      "Validation Loss: 0.9910, Validation Accuracy: 68.49%\n",
      "\n"
     ]
    },
    {
     "name": "stderr",
     "output_type": "stream",
     "text": [
      "Epoch 258/500 [Training]: 100%|██████████| 13/13 [00:00<00:00, 120.21it/s, loss=0.0277]\n",
      "Epoch 258/500 [Validation]: 100%|██████████| 1250/1250 [00:01<00:00, 878.08it/s]\n"
     ]
    },
    {
     "name": "stdout",
     "output_type": "stream",
     "text": [
      "Epoch [258/500] - \n",
      "Train Loss: 0.0131, Train Accuracy: 100.00%, \n",
      "Validation Loss: 1.0096, Validation Accuracy: 66.53%\n",
      "\n"
     ]
    },
    {
     "name": "stderr",
     "output_type": "stream",
     "text": [
      "Epoch 259/500 [Training]: 100%|██████████| 13/13 [00:00<00:00, 184.59it/s, loss=0.0238]\n",
      "Epoch 259/500 [Validation]: 100%|██████████| 1250/1250 [00:01<00:00, 873.22it/s]\n"
     ]
    },
    {
     "name": "stdout",
     "output_type": "stream",
     "text": [
      "Epoch [259/500] - \n",
      "Train Loss: 0.0093, Train Accuracy: 100.00%, \n",
      "Validation Loss: 1.0065, Validation Accuracy: 68.45%\n",
      "\n"
     ]
    },
    {
     "name": "stderr",
     "output_type": "stream",
     "text": [
      "Epoch 260/500 [Training]: 100%|██████████| 13/13 [00:00<00:00, 253.32it/s, loss=0.0552]\n",
      "Epoch 260/500 [Validation]: 100%|██████████| 1250/1250 [00:01<00:00, 769.18it/s]\n"
     ]
    },
    {
     "name": "stdout",
     "output_type": "stream",
     "text": [
      "Epoch [260/500] - \n",
      "Train Loss: 0.0144, Train Accuracy: 100.00%, \n",
      "Validation Loss: 1.0526, Validation Accuracy: 66.14%\n",
      "\n"
     ]
    },
    {
     "name": "stderr",
     "output_type": "stream",
     "text": [
      "Epoch 261/500 [Training]: 100%|██████████| 13/13 [00:00<00:00, 126.30it/s, loss=0.0247]\n",
      "Epoch 261/500 [Validation]: 100%|██████████| 1250/1250 [00:01<00:00, 847.82it/s]\n"
     ]
    },
    {
     "name": "stdout",
     "output_type": "stream",
     "text": [
      "Epoch [261/500] - \n",
      "Train Loss: 0.0090, Train Accuracy: 100.00%, \n",
      "Validation Loss: 1.0014, Validation Accuracy: 67.86%\n",
      "\n"
     ]
    },
    {
     "name": "stderr",
     "output_type": "stream",
     "text": [
      "Epoch 262/500 [Training]: 100%|██████████| 13/13 [00:00<00:00, 211.58it/s, loss=0.0152]\n",
      "Epoch 262/500 [Validation]: 100%|██████████| 1250/1250 [00:01<00:00, 878.24it/s]\n"
     ]
    },
    {
     "name": "stdout",
     "output_type": "stream",
     "text": [
      "Epoch [262/500] - \n",
      "Train Loss: 0.0104, Train Accuracy: 100.00%, \n",
      "Validation Loss: 1.0164, Validation Accuracy: 67.62%\n",
      "\n"
     ]
    },
    {
     "name": "stderr",
     "output_type": "stream",
     "text": [
      "Epoch 263/500 [Training]: 100%|██████████| 13/13 [00:00<00:00, 262.71it/s, loss=0.0144]\n",
      "Epoch 263/500 [Validation]: 100%|██████████| 1250/1250 [00:01<00:00, 832.24it/s]\n"
     ]
    },
    {
     "name": "stdout",
     "output_type": "stream",
     "text": [
      "Epoch [263/500] - \n",
      "Train Loss: 0.0101, Train Accuracy: 100.00%, \n",
      "Validation Loss: 1.0000, Validation Accuracy: 67.42%\n",
      "\n"
     ]
    },
    {
     "name": "stderr",
     "output_type": "stream",
     "text": [
      "Epoch 264/500 [Training]: 100%|██████████| 13/13 [00:00<00:00, 163.59it/s, loss=0.0358]\n",
      "Epoch 264/500 [Validation]: 100%|██████████| 1250/1250 [00:01<00:00, 820.86it/s]\n"
     ]
    },
    {
     "name": "stdout",
     "output_type": "stream",
     "text": [
      "Epoch [264/500] - \n",
      "Train Loss: 0.0097, Train Accuracy: 100.00%, \n",
      "Validation Loss: 1.0143, Validation Accuracy: 68.15%\n",
      "\n"
     ]
    },
    {
     "name": "stderr",
     "output_type": "stream",
     "text": [
      "Epoch 265/500 [Training]: 100%|██████████| 13/13 [00:00<00:00, 271.87it/s, loss=0.0166]\n",
      "Epoch 265/500 [Validation]: 100%|██████████| 1250/1250 [00:01<00:00, 847.15it/s]\n"
     ]
    },
    {
     "name": "stdout",
     "output_type": "stream",
     "text": [
      "Epoch [265/500] - \n",
      "Train Loss: 0.0097, Train Accuracy: 100.00%, \n",
      "Validation Loss: 1.0843, Validation Accuracy: 64.36%\n",
      "\n"
     ]
    },
    {
     "name": "stderr",
     "output_type": "stream",
     "text": [
      "Epoch 266/500 [Training]: 100%|██████████| 13/13 [00:00<00:00, 186.53it/s, loss=0.0061]\n",
      "Epoch 266/500 [Validation]: 100%|██████████| 1250/1250 [00:01<00:00, 865.48it/s]\n"
     ]
    },
    {
     "name": "stdout",
     "output_type": "stream",
     "text": [
      "Epoch [266/500] - \n",
      "Train Loss: 0.0077, Train Accuracy: 100.00%, \n",
      "Validation Loss: 1.0297, Validation Accuracy: 66.62%\n",
      "\n"
     ]
    },
    {
     "name": "stderr",
     "output_type": "stream",
     "text": [
      "Epoch 267/500 [Training]: 100%|██████████| 13/13 [00:00<00:00, 231.22it/s, loss=0.0105]\n",
      "Epoch 267/500 [Validation]: 100%|██████████| 1250/1250 [00:01<00:00, 899.02it/s]\n"
     ]
    },
    {
     "name": "stdout",
     "output_type": "stream",
     "text": [
      "Epoch [267/500] - \n",
      "Train Loss: 0.0086, Train Accuracy: 100.00%, \n",
      "Validation Loss: 1.0167, Validation Accuracy: 67.39%\n",
      "\n"
     ]
    },
    {
     "name": "stderr",
     "output_type": "stream",
     "text": [
      "Epoch 268/500 [Training]: 100%|██████████| 13/13 [00:00<00:00, 235.49it/s, loss=0.0091]\n",
      "Epoch 268/500 [Validation]: 100%|██████████| 1250/1250 [00:01<00:00, 948.44it/s]\n"
     ]
    },
    {
     "name": "stdout",
     "output_type": "stream",
     "text": [
      "Epoch [268/500] - \n",
      "Train Loss: 0.0075, Train Accuracy: 100.00%, \n",
      "Validation Loss: 0.9951, Validation Accuracy: 67.62%\n",
      "\n"
     ]
    },
    {
     "name": "stderr",
     "output_type": "stream",
     "text": [
      "Epoch 269/500 [Training]: 100%|██████████| 13/13 [00:00<00:00, 263.62it/s, loss=0.0477]\n",
      "Epoch 269/500 [Validation]: 100%|██████████| 1250/1250 [00:01<00:00, 866.47it/s]\n"
     ]
    },
    {
     "name": "stdout",
     "output_type": "stream",
     "text": [
      "Epoch [269/500] - \n",
      "Train Loss: 0.0138, Train Accuracy: 100.00%, \n",
      "Validation Loss: 1.0325, Validation Accuracy: 66.98%\n",
      "\n"
     ]
    },
    {
     "name": "stderr",
     "output_type": "stream",
     "text": [
      "Epoch 270/500 [Training]: 100%|██████████| 13/13 [00:00<00:00, 150.51it/s, loss=0.0747]\n",
      "Epoch 270/500 [Validation]: 100%|██████████| 1250/1250 [00:01<00:00, 963.93it/s]\n"
     ]
    },
    {
     "name": "stdout",
     "output_type": "stream",
     "text": [
      "Epoch [270/500] - \n",
      "Train Loss: 0.0174, Train Accuracy: 100.00%, \n",
      "Validation Loss: 1.0059, Validation Accuracy: 67.09%\n",
      "\n"
     ]
    },
    {
     "name": "stderr",
     "output_type": "stream",
     "text": [
      "Epoch 271/500 [Training]: 100%|██████████| 13/13 [00:00<00:00, 253.28it/s, loss=0.0134]\n",
      "Epoch 271/500 [Validation]: 100%|██████████| 1250/1250 [00:01<00:00, 909.88it/s]\n"
     ]
    },
    {
     "name": "stdout",
     "output_type": "stream",
     "text": [
      "Epoch [271/500] - \n",
      "Train Loss: 0.0095, Train Accuracy: 100.00%, \n",
      "Validation Loss: 1.1792, Validation Accuracy: 61.34%\n",
      "\n"
     ]
    },
    {
     "name": "stderr",
     "output_type": "stream",
     "text": [
      "Epoch 272/500 [Training]: 100%|██████████| 13/13 [00:00<00:00, 260.08it/s, loss=0.0247]\n",
      "Epoch 272/500 [Validation]: 100%|██████████| 1250/1250 [00:01<00:00, 882.80it/s]\n"
     ]
    },
    {
     "name": "stdout",
     "output_type": "stream",
     "text": [
      "Epoch [272/500] - \n",
      "Train Loss: 0.0124, Train Accuracy: 100.00%, \n",
      "Validation Loss: 1.0646, Validation Accuracy: 65.70%\n",
      "\n"
     ]
    },
    {
     "name": "stderr",
     "output_type": "stream",
     "text": [
      "Epoch 273/500 [Training]: 100%|██████████| 13/13 [00:00<00:00, 199.81it/s, loss=0.0283]\n",
      "Epoch 273/500 [Validation]: 100%|██████████| 1250/1250 [00:01<00:00, 938.90it/s]\n"
     ]
    },
    {
     "name": "stdout",
     "output_type": "stream",
     "text": [
      "Epoch [273/500] - \n",
      "Train Loss: 0.0113, Train Accuracy: 100.00%, \n",
      "Validation Loss: 1.0381, Validation Accuracy: 67.44%\n",
      "\n"
     ]
    },
    {
     "name": "stderr",
     "output_type": "stream",
     "text": [
      "Epoch 274/500 [Training]: 100%|██████████| 13/13 [00:00<00:00, 277.54it/s, loss=0.0139]\n",
      "Epoch 274/500 [Validation]: 100%|██████████| 1250/1250 [00:01<00:00, 852.04it/s]\n"
     ]
    },
    {
     "name": "stdout",
     "output_type": "stream",
     "text": [
      "Epoch [274/500] - \n",
      "Train Loss: 0.0195, Train Accuracy: 100.00%, \n",
      "Validation Loss: 1.0375, Validation Accuracy: 66.39%\n",
      "\n"
     ]
    },
    {
     "name": "stderr",
     "output_type": "stream",
     "text": [
      "Epoch 275/500 [Training]: 100%|██████████| 13/13 [00:00<00:00, 237.36it/s, loss=0.0109]\n",
      "Epoch 275/500 [Validation]: 100%|██████████| 1250/1250 [00:01<00:00, 910.80it/s]\n"
     ]
    },
    {
     "name": "stdout",
     "output_type": "stream",
     "text": [
      "Epoch [275/500] - \n",
      "Train Loss: 0.0086, Train Accuracy: 100.00%, \n",
      "Validation Loss: 1.0002, Validation Accuracy: 67.77%\n",
      "\n"
     ]
    },
    {
     "name": "stderr",
     "output_type": "stream",
     "text": [
      "Epoch 276/500 [Training]: 100%|██████████| 13/13 [00:00<00:00, 288.59it/s, loss=0.0118]\n",
      "Epoch 276/500 [Validation]: 100%|██████████| 1250/1250 [00:01<00:00, 928.15it/s]\n"
     ]
    },
    {
     "name": "stdout",
     "output_type": "stream",
     "text": [
      "Epoch [276/500] - \n",
      "Train Loss: 0.0082, Train Accuracy: 100.00%, \n",
      "Validation Loss: 1.0038, Validation Accuracy: 67.88%\n",
      "\n"
     ]
    },
    {
     "name": "stderr",
     "output_type": "stream",
     "text": [
      "Epoch 277/500 [Training]: 100%|██████████| 13/13 [00:00<00:00, 203.74it/s, loss=0.0072]\n",
      "Epoch 277/500 [Validation]: 100%|██████████| 1250/1250 [00:01<00:00, 886.92it/s]\n"
     ]
    },
    {
     "name": "stdout",
     "output_type": "stream",
     "text": [
      "Epoch [277/500] - \n",
      "Train Loss: 0.0089, Train Accuracy: 100.00%, \n",
      "Validation Loss: 0.9908, Validation Accuracy: 68.62%\n",
      "\n"
     ]
    },
    {
     "name": "stderr",
     "output_type": "stream",
     "text": [
      "Epoch 278/500 [Training]: 100%|██████████| 13/13 [00:00<00:00, 257.73it/s, loss=0.0090]\n",
      "Epoch 278/500 [Validation]: 100%|██████████| 1250/1250 [00:01<00:00, 920.64it/s]\n"
     ]
    },
    {
     "name": "stdout",
     "output_type": "stream",
     "text": [
      "Epoch [278/500] - \n",
      "Train Loss: 0.0110, Train Accuracy: 100.00%, \n",
      "Validation Loss: 1.0135, Validation Accuracy: 68.06%\n",
      "\n"
     ]
    },
    {
     "name": "stderr",
     "output_type": "stream",
     "text": [
      "Epoch 279/500 [Training]: 100%|██████████| 13/13 [00:00<00:00, 282.19it/s, loss=0.0089]\n",
      "Epoch 279/500 [Validation]: 100%|██████████| 1250/1250 [00:01<00:00, 917.69it/s]\n"
     ]
    },
    {
     "name": "stdout",
     "output_type": "stream",
     "text": [
      "Epoch [279/500] - \n",
      "Train Loss: 0.0117, Train Accuracy: 100.00%, \n",
      "Validation Loss: 1.0114, Validation Accuracy: 67.74%\n",
      "\n"
     ]
    },
    {
     "name": "stderr",
     "output_type": "stream",
     "text": [
      "Epoch 280/500 [Training]: 100%|██████████| 13/13 [00:00<00:00, 188.59it/s, loss=0.0137]\n",
      "Epoch 280/500 [Validation]: 100%|██████████| 1250/1250 [00:01<00:00, 900.85it/s]\n"
     ]
    },
    {
     "name": "stdout",
     "output_type": "stream",
     "text": [
      "Epoch [280/500] - \n",
      "Train Loss: 0.0090, Train Accuracy: 100.00%, \n",
      "Validation Loss: 1.0157, Validation Accuracy: 67.88%\n",
      "\n"
     ]
    },
    {
     "name": "stderr",
     "output_type": "stream",
     "text": [
      "Epoch 281/500 [Training]: 100%|██████████| 13/13 [00:00<00:00, 240.61it/s, loss=0.0241]\n",
      "Epoch 281/500 [Validation]: 100%|██████████| 1250/1250 [00:01<00:00, 874.09it/s]\n"
     ]
    },
    {
     "name": "stdout",
     "output_type": "stream",
     "text": [
      "Epoch [281/500] - \n",
      "Train Loss: 0.0081, Train Accuracy: 100.00%, \n",
      "Validation Loss: 1.0376, Validation Accuracy: 66.82%\n",
      "\n"
     ]
    },
    {
     "name": "stderr",
     "output_type": "stream",
     "text": [
      "Epoch 282/500 [Training]: 100%|██████████| 13/13 [00:00<00:00, 165.71it/s, loss=0.2768]\n",
      "Epoch 282/500 [Validation]: 100%|██████████| 1250/1250 [00:01<00:00, 924.35it/s]\n"
     ]
    },
    {
     "name": "stdout",
     "output_type": "stream",
     "text": [
      "Epoch [282/500] - \n",
      "Train Loss: 0.0290, Train Accuracy: 100.00%, \n",
      "Validation Loss: 0.9959, Validation Accuracy: 67.97%\n",
      "\n"
     ]
    },
    {
     "name": "stderr",
     "output_type": "stream",
     "text": [
      "Epoch 283/500 [Training]: 100%|██████████| 13/13 [00:00<00:00, 176.31it/s, loss=0.0602]\n",
      "Epoch 283/500 [Validation]: 100%|██████████| 1250/1250 [00:01<00:00, 912.37it/s]\n"
     ]
    },
    {
     "name": "stdout",
     "output_type": "stream",
     "text": [
      "Epoch [283/500] - \n",
      "Train Loss: 0.0137, Train Accuracy: 100.00%, \n",
      "Validation Loss: 1.1772, Validation Accuracy: 62.42%\n",
      "\n"
     ]
    },
    {
     "name": "stderr",
     "output_type": "stream",
     "text": [
      "Epoch 284/500 [Training]: 100%|██████████| 13/13 [00:00<00:00, 222.30it/s, loss=0.0134]\n",
      "Epoch 284/500 [Validation]: 100%|██████████| 1250/1250 [00:01<00:00, 957.32it/s]\n"
     ]
    },
    {
     "name": "stdout",
     "output_type": "stream",
     "text": [
      "Epoch [284/500] - \n",
      "Train Loss: 0.0132, Train Accuracy: 100.00%, \n",
      "Validation Loss: 1.0158, Validation Accuracy: 67.14%\n",
      "\n"
     ]
    },
    {
     "name": "stderr",
     "output_type": "stream",
     "text": [
      "Epoch 285/500 [Training]: 100%|██████████| 13/13 [00:00<00:00, 254.05it/s, loss=0.0377]\n",
      "Epoch 285/500 [Validation]: 100%|██████████| 1250/1250 [00:01<00:00, 883.59it/s]\n"
     ]
    },
    {
     "name": "stdout",
     "output_type": "stream",
     "text": [
      "Epoch [285/500] - \n",
      "Train Loss: 0.0128, Train Accuracy: 100.00%, \n",
      "Validation Loss: 1.0426, Validation Accuracy: 65.70%\n",
      "\n"
     ]
    },
    {
     "name": "stderr",
     "output_type": "stream",
     "text": [
      "Epoch 286/500 [Training]: 100%|██████████| 13/13 [00:00<00:00, 270.64it/s, loss=0.0162]\n",
      "Epoch 286/500 [Validation]: 100%|██████████| 1250/1250 [00:01<00:00, 908.38it/s]\n"
     ]
    },
    {
     "name": "stdout",
     "output_type": "stream",
     "text": [
      "Epoch [286/500] - \n",
      "Train Loss: 0.0136, Train Accuracy: 100.00%, \n",
      "Validation Loss: 1.0230, Validation Accuracy: 66.25%\n",
      "\n"
     ]
    },
    {
     "name": "stderr",
     "output_type": "stream",
     "text": [
      "Epoch 287/500 [Training]: 100%|██████████| 13/13 [00:00<00:00, 231.00it/s, loss=0.0093]\n",
      "Epoch 287/500 [Validation]: 100%|██████████| 1250/1250 [00:01<00:00, 944.85it/s]\n"
     ]
    },
    {
     "name": "stdout",
     "output_type": "stream",
     "text": [
      "Epoch [287/500] - \n",
      "Train Loss: 0.0105, Train Accuracy: 100.00%, \n",
      "Validation Loss: 1.0269, Validation Accuracy: 66.40%\n",
      "\n"
     ]
    },
    {
     "name": "stderr",
     "output_type": "stream",
     "text": [
      "Epoch 288/500 [Training]: 100%|██████████| 13/13 [00:00<00:00, 226.59it/s, loss=0.0512]\n",
      "Epoch 288/500 [Validation]: 100%|██████████| 1250/1250 [00:01<00:00, 898.64it/s]\n"
     ]
    },
    {
     "name": "stdout",
     "output_type": "stream",
     "text": [
      "Epoch [288/500] - \n",
      "Train Loss: 0.0144, Train Accuracy: 100.00%, \n",
      "Validation Loss: 1.0176, Validation Accuracy: 67.52%\n",
      "\n"
     ]
    },
    {
     "name": "stderr",
     "output_type": "stream",
     "text": [
      "Epoch 289/500 [Training]: 100%|██████████| 13/13 [00:00<00:00, 241.49it/s, loss=0.0411]\n",
      "Epoch 289/500 [Validation]: 100%|██████████| 1250/1250 [00:01<00:00, 934.21it/s]\n"
     ]
    },
    {
     "name": "stdout",
     "output_type": "stream",
     "text": [
      "Epoch [289/500] - \n",
      "Train Loss: 0.0179, Train Accuracy: 100.00%, \n",
      "Validation Loss: 1.0966, Validation Accuracy: 65.26%\n",
      "\n"
     ]
    },
    {
     "name": "stderr",
     "output_type": "stream",
     "text": [
      "Epoch 290/500 [Training]: 100%|██████████| 13/13 [00:00<00:00, 287.40it/s, loss=0.0181]\n",
      "Epoch 290/500 [Validation]: 100%|██████████| 1250/1250 [00:01<00:00, 918.31it/s]\n"
     ]
    },
    {
     "name": "stdout",
     "output_type": "stream",
     "text": [
      "Epoch [290/500] - \n",
      "Train Loss: 0.0115, Train Accuracy: 100.00%, \n",
      "Validation Loss: 1.0310, Validation Accuracy: 65.98%\n",
      "\n"
     ]
    },
    {
     "name": "stderr",
     "output_type": "stream",
     "text": [
      "Epoch 291/500 [Training]: 100%|██████████| 13/13 [00:00<00:00, 243.55it/s, loss=0.0146]\n",
      "Epoch 291/500 [Validation]: 100%|██████████| 1250/1250 [00:01<00:00, 903.20it/s]\n"
     ]
    },
    {
     "name": "stdout",
     "output_type": "stream",
     "text": [
      "Epoch [291/500] - \n",
      "Train Loss: 0.0076, Train Accuracy: 100.00%, \n",
      "Validation Loss: 0.9986, Validation Accuracy: 67.46%\n",
      "\n"
     ]
    },
    {
     "name": "stderr",
     "output_type": "stream",
     "text": [
      "Epoch 292/500 [Training]: 100%|██████████| 13/13 [00:00<00:00, 209.21it/s, loss=0.0148]\n",
      "Epoch 292/500 [Validation]: 100%|██████████| 1250/1250 [00:01<00:00, 934.73it/s]\n"
     ]
    },
    {
     "name": "stdout",
     "output_type": "stream",
     "text": [
      "Epoch [292/500] - \n",
      "Train Loss: 0.0086, Train Accuracy: 100.00%, \n",
      "Validation Loss: 1.0295, Validation Accuracy: 66.13%\n",
      "\n"
     ]
    },
    {
     "name": "stderr",
     "output_type": "stream",
     "text": [
      "Epoch 293/500 [Training]: 100%|██████████| 13/13 [00:00<00:00, 200.38it/s, loss=0.0103]\n",
      "Epoch 293/500 [Validation]: 100%|██████████| 1250/1250 [00:01<00:00, 949.89it/s]\n"
     ]
    },
    {
     "name": "stdout",
     "output_type": "stream",
     "text": [
      "Epoch [293/500] - \n",
      "Train Loss: 0.0094, Train Accuracy: 100.00%, \n",
      "Validation Loss: 1.0375, Validation Accuracy: 67.21%\n",
      "\n"
     ]
    },
    {
     "name": "stderr",
     "output_type": "stream",
     "text": [
      "Epoch 294/500 [Training]: 100%|██████████| 13/13 [00:00<00:00, 197.39it/s, loss=0.0147]\n",
      "Epoch 294/500 [Validation]: 100%|██████████| 1250/1250 [00:01<00:00, 907.94it/s]\n"
     ]
    },
    {
     "name": "stdout",
     "output_type": "stream",
     "text": [
      "Epoch [294/500] - \n",
      "Train Loss: 0.0083, Train Accuracy: 100.00%, \n",
      "Validation Loss: 1.0394, Validation Accuracy: 67.09%\n",
      "\n"
     ]
    },
    {
     "name": "stderr",
     "output_type": "stream",
     "text": [
      "Epoch 295/500 [Training]: 100%|██████████| 13/13 [00:00<00:00, 212.97it/s, loss=0.0067]\n",
      "Epoch 295/500 [Validation]: 100%|██████████| 1250/1250 [00:01<00:00, 970.87it/s] \n"
     ]
    },
    {
     "name": "stdout",
     "output_type": "stream",
     "text": [
      "Epoch [295/500] - \n",
      "Train Loss: 0.0114, Train Accuracy: 100.00%, \n",
      "Validation Loss: 1.0091, Validation Accuracy: 67.24%\n",
      "\n"
     ]
    },
    {
     "name": "stderr",
     "output_type": "stream",
     "text": [
      "Epoch 296/500 [Training]: 100%|██████████| 13/13 [00:00<00:00, 205.75it/s, loss=0.0126]\n",
      "Epoch 296/500 [Validation]: 100%|██████████| 1250/1250 [00:01<00:00, 949.76it/s]\n"
     ]
    },
    {
     "name": "stdout",
     "output_type": "stream",
     "text": [
      "Epoch [296/500] - \n",
      "Train Loss: 0.0100, Train Accuracy: 100.00%, \n",
      "Validation Loss: 1.0057, Validation Accuracy: 66.89%\n",
      "\n"
     ]
    },
    {
     "name": "stderr",
     "output_type": "stream",
     "text": [
      "Epoch 297/500 [Training]: 100%|██████████| 13/13 [00:00<00:00, 168.90it/s, loss=0.0112]\n",
      "Epoch 297/500 [Validation]: 100%|██████████| 1250/1250 [00:01<00:00, 926.05it/s]\n"
     ]
    },
    {
     "name": "stdout",
     "output_type": "stream",
     "text": [
      "Epoch [297/500] - \n",
      "Train Loss: 0.0081, Train Accuracy: 100.00%, \n",
      "Validation Loss: 1.0149, Validation Accuracy: 67.61%\n",
      "\n"
     ]
    },
    {
     "name": "stderr",
     "output_type": "stream",
     "text": [
      "Epoch 298/500 [Training]: 100%|██████████| 13/13 [00:00<00:00, 166.80it/s, loss=0.0186]\n",
      "Epoch 298/500 [Validation]: 100%|██████████| 1250/1250 [00:01<00:00, 957.39it/s] \n"
     ]
    },
    {
     "name": "stdout",
     "output_type": "stream",
     "text": [
      "Epoch [298/500] - \n",
      "Train Loss: 0.0084, Train Accuracy: 100.00%, \n",
      "Validation Loss: 1.0315, Validation Accuracy: 66.83%\n",
      "\n"
     ]
    },
    {
     "name": "stderr",
     "output_type": "stream",
     "text": [
      "Epoch 299/500 [Training]: 100%|██████████| 13/13 [00:00<00:00, 263.37it/s, loss=0.0103]\n",
      "Epoch 299/500 [Validation]: 100%|██████████| 1250/1250 [00:01<00:00, 891.72it/s]\n"
     ]
    },
    {
     "name": "stdout",
     "output_type": "stream",
     "text": [
      "Epoch [299/500] - \n",
      "Train Loss: 0.0080, Train Accuracy: 100.00%, \n",
      "Validation Loss: 1.0134, Validation Accuracy: 67.02%\n",
      "\n"
     ]
    },
    {
     "name": "stderr",
     "output_type": "stream",
     "text": [
      "Epoch 300/500 [Training]: 100%|██████████| 13/13 [00:00<00:00, 279.84it/s, loss=0.0142]\n",
      "Epoch 300/500 [Validation]: 100%|██████████| 1250/1250 [00:01<00:00, 906.93it/s]\n"
     ]
    },
    {
     "name": "stdout",
     "output_type": "stream",
     "text": [
      "Epoch [300/500] - \n",
      "Train Loss: 0.0082, Train Accuracy: 100.00%, \n",
      "Validation Loss: 1.0140, Validation Accuracy: 67.08%\n",
      "\n"
     ]
    },
    {
     "name": "stderr",
     "output_type": "stream",
     "text": [
      "Epoch 301/500 [Training]: 100%|██████████| 13/13 [00:00<00:00, 253.14it/s, loss=0.0155]\n",
      "Epoch 301/500 [Validation]: 100%|██████████| 1250/1250 [00:01<00:00, 926.16it/s]\n"
     ]
    },
    {
     "name": "stdout",
     "output_type": "stream",
     "text": [
      "Epoch [301/500] - \n",
      "Train Loss: 0.0078, Train Accuracy: 100.00%, \n",
      "Validation Loss: 1.0199, Validation Accuracy: 67.00%\n",
      "\n"
     ]
    },
    {
     "name": "stderr",
     "output_type": "stream",
     "text": [
      "Epoch 302/500 [Training]: 100%|██████████| 13/13 [00:00<00:00, 241.76it/s, loss=0.0444]\n",
      "Epoch 302/500 [Validation]: 100%|██████████| 1250/1250 [00:01<00:00, 864.24it/s]\n"
     ]
    },
    {
     "name": "stdout",
     "output_type": "stream",
     "text": [
      "Epoch [302/500] - \n",
      "Train Loss: 0.0122, Train Accuracy: 100.00%, \n",
      "Validation Loss: 1.0173, Validation Accuracy: 67.43%\n",
      "\n"
     ]
    },
    {
     "name": "stderr",
     "output_type": "stream",
     "text": [
      "Epoch 303/500 [Training]: 100%|██████████| 13/13 [00:00<00:00, 225.65it/s, loss=0.0341]\n",
      "Epoch 303/500 [Validation]: 100%|██████████| 1250/1250 [00:01<00:00, 874.93it/s]\n"
     ]
    },
    {
     "name": "stdout",
     "output_type": "stream",
     "text": [
      "Epoch [303/500] - \n",
      "Train Loss: 0.0104, Train Accuracy: 100.00%, \n",
      "Validation Loss: 1.0253, Validation Accuracy: 67.47%\n",
      "\n"
     ]
    },
    {
     "name": "stderr",
     "output_type": "stream",
     "text": [
      "Epoch 304/500 [Training]: 100%|██████████| 13/13 [00:00<00:00, 273.28it/s, loss=0.0117]\n",
      "Epoch 304/500 [Validation]: 100%|██████████| 1250/1250 [00:01<00:00, 936.62it/s]\n"
     ]
    },
    {
     "name": "stdout",
     "output_type": "stream",
     "text": [
      "Epoch [304/500] - \n",
      "Train Loss: 0.0080, Train Accuracy: 100.00%, \n",
      "Validation Loss: 1.0170, Validation Accuracy: 66.63%\n",
      "\n"
     ]
    },
    {
     "name": "stderr",
     "output_type": "stream",
     "text": [
      "Epoch 305/500 [Training]: 100%|██████████| 13/13 [00:00<00:00, 232.84it/s, loss=0.0106]\n",
      "Epoch 305/500 [Validation]: 100%|██████████| 1250/1250 [00:01<00:00, 909.24it/s]\n"
     ]
    },
    {
     "name": "stdout",
     "output_type": "stream",
     "text": [
      "Epoch [305/500] - \n",
      "Train Loss: 0.0093, Train Accuracy: 100.00%, \n",
      "Validation Loss: 1.0154, Validation Accuracy: 67.07%\n",
      "\n"
     ]
    },
    {
     "name": "stderr",
     "output_type": "stream",
     "text": [
      "Epoch 306/500 [Training]: 100%|██████████| 13/13 [00:00<00:00, 189.28it/s, loss=0.0314]\n",
      "Epoch 306/500 [Validation]: 100%|██████████| 1250/1250 [00:01<00:00, 938.14it/s]\n"
     ]
    },
    {
     "name": "stdout",
     "output_type": "stream",
     "text": [
      "Epoch [306/500] - \n",
      "Train Loss: 0.0107, Train Accuracy: 100.00%, \n",
      "Validation Loss: 1.0131, Validation Accuracy: 67.41%\n",
      "\n"
     ]
    },
    {
     "name": "stderr",
     "output_type": "stream",
     "text": [
      "Epoch 307/500 [Training]: 100%|██████████| 13/13 [00:00<00:00, 203.44it/s, loss=0.0194]\n",
      "Epoch 307/500 [Validation]: 100%|██████████| 1250/1250 [00:01<00:00, 926.81it/s]\n"
     ]
    },
    {
     "name": "stdout",
     "output_type": "stream",
     "text": [
      "Epoch [307/500] - \n",
      "Train Loss: 0.0083, Train Accuracy: 100.00%, \n",
      "Validation Loss: 1.0198, Validation Accuracy: 67.19%\n",
      "\n"
     ]
    },
    {
     "name": "stderr",
     "output_type": "stream",
     "text": [
      "Epoch 308/500 [Training]: 100%|██████████| 13/13 [00:00<00:00, 191.48it/s, loss=0.0106]\n",
      "Epoch 308/500 [Validation]: 100%|██████████| 1250/1250 [00:01<00:00, 932.86it/s]\n"
     ]
    },
    {
     "name": "stdout",
     "output_type": "stream",
     "text": [
      "Epoch [308/500] - \n",
      "Train Loss: 0.0094, Train Accuracy: 100.00%, \n",
      "Validation Loss: 1.0399, Validation Accuracy: 66.43%\n",
      "\n"
     ]
    },
    {
     "name": "stderr",
     "output_type": "stream",
     "text": [
      "Epoch 309/500 [Training]: 100%|██████████| 13/13 [00:00<00:00, 218.96it/s, loss=0.0058]\n",
      "Epoch 309/500 [Validation]: 100%|██████████| 1250/1250 [00:01<00:00, 925.57it/s]\n"
     ]
    },
    {
     "name": "stdout",
     "output_type": "stream",
     "text": [
      "Epoch [309/500] - \n",
      "Train Loss: 0.0076, Train Accuracy: 100.00%, \n",
      "Validation Loss: 1.0281, Validation Accuracy: 66.94%\n",
      "\n"
     ]
    },
    {
     "name": "stderr",
     "output_type": "stream",
     "text": [
      "Epoch 310/500 [Training]: 100%|██████████| 13/13 [00:00<00:00, 264.10it/s, loss=0.0121]\n",
      "Epoch 310/500 [Validation]: 100%|██████████| 1250/1250 [00:01<00:00, 889.40it/s]\n"
     ]
    },
    {
     "name": "stdout",
     "output_type": "stream",
     "text": [
      "Epoch [310/500] - \n",
      "Train Loss: 0.0119, Train Accuracy: 100.00%, \n",
      "Validation Loss: 1.0406, Validation Accuracy: 66.17%\n",
      "\n"
     ]
    },
    {
     "name": "stderr",
     "output_type": "stream",
     "text": [
      "Epoch 311/500 [Training]: 100%|██████████| 13/13 [00:00<00:00, 104.24it/s, loss=0.0190]\n",
      "Epoch 311/500 [Validation]: 100%|██████████| 1250/1250 [00:01<00:00, 887.84it/s]\n"
     ]
    },
    {
     "name": "stdout",
     "output_type": "stream",
     "text": [
      "Epoch [311/500] - \n",
      "Train Loss: 0.0097, Train Accuracy: 100.00%, \n",
      "Validation Loss: 1.0161, Validation Accuracy: 67.24%\n",
      "\n"
     ]
    },
    {
     "name": "stderr",
     "output_type": "stream",
     "text": [
      "Epoch 312/500 [Training]: 100%|██████████| 13/13 [00:00<00:00, 275.03it/s, loss=0.0227]\n",
      "Epoch 312/500 [Validation]: 100%|██████████| 1250/1250 [00:01<00:00, 915.83it/s]\n"
     ]
    },
    {
     "name": "stdout",
     "output_type": "stream",
     "text": [
      "Epoch [312/500] - \n",
      "Train Loss: 0.0102, Train Accuracy: 100.00%, \n",
      "Validation Loss: 1.0052, Validation Accuracy: 67.30%\n",
      "\n"
     ]
    },
    {
     "name": "stderr",
     "output_type": "stream",
     "text": [
      "Epoch 313/500 [Training]: 100%|██████████| 13/13 [00:00<00:00, 294.91it/s, loss=0.0182]\n",
      "Epoch 313/500 [Validation]: 100%|██████████| 1250/1250 [00:01<00:00, 913.25it/s]\n"
     ]
    },
    {
     "name": "stdout",
     "output_type": "stream",
     "text": [
      "Epoch [313/500] - \n",
      "Train Loss: 0.0084, Train Accuracy: 100.00%, \n",
      "Validation Loss: 1.0129, Validation Accuracy: 67.02%\n",
      "\n"
     ]
    },
    {
     "name": "stderr",
     "output_type": "stream",
     "text": [
      "Epoch 314/500 [Training]: 100%|██████████| 13/13 [00:00<00:00, 162.50it/s, loss=0.0082]\n",
      "Epoch 314/500 [Validation]: 100%|██████████| 1250/1250 [00:01<00:00, 880.89it/s]\n"
     ]
    },
    {
     "name": "stdout",
     "output_type": "stream",
     "text": [
      "Epoch [314/500] - \n",
      "Train Loss: 0.0069, Train Accuracy: 100.00%, \n",
      "Validation Loss: 1.0093, Validation Accuracy: 67.39%\n",
      "\n"
     ]
    },
    {
     "name": "stderr",
     "output_type": "stream",
     "text": [
      "Epoch 315/500 [Training]: 100%|██████████| 13/13 [00:00<00:00, 292.90it/s, loss=0.0085]\n",
      "Epoch 315/500 [Validation]: 100%|██████████| 1250/1250 [00:01<00:00, 909.09it/s]\n"
     ]
    },
    {
     "name": "stdout",
     "output_type": "stream",
     "text": [
      "Epoch [315/500] - \n",
      "Train Loss: 0.0083, Train Accuracy: 100.00%, \n",
      "Validation Loss: 1.0283, Validation Accuracy: 67.63%\n",
      "\n"
     ]
    },
    {
     "name": "stderr",
     "output_type": "stream",
     "text": [
      "Epoch 316/500 [Training]: 100%|██████████| 13/13 [00:00<00:00, 233.21it/s, loss=0.0158]\n",
      "Epoch 316/500 [Validation]: 100%|██████████| 1250/1250 [00:01<00:00, 897.46it/s]\n"
     ]
    },
    {
     "name": "stdout",
     "output_type": "stream",
     "text": [
      "Epoch [316/500] - \n",
      "Train Loss: 0.0097, Train Accuracy: 100.00%, \n",
      "Validation Loss: 1.0368, Validation Accuracy: 66.44%\n",
      "\n"
     ]
    },
    {
     "name": "stderr",
     "output_type": "stream",
     "text": [
      "Epoch 317/500 [Training]: 100%|██████████| 13/13 [00:00<00:00, 192.94it/s, loss=0.0152]\n",
      "Epoch 317/500 [Validation]: 100%|██████████| 1250/1250 [00:01<00:00, 914.87it/s]\n"
     ]
    },
    {
     "name": "stdout",
     "output_type": "stream",
     "text": [
      "Epoch [317/500] - \n",
      "Train Loss: 0.0082, Train Accuracy: 100.00%, \n",
      "Validation Loss: 1.0205, Validation Accuracy: 66.29%\n",
      "\n"
     ]
    },
    {
     "name": "stderr",
     "output_type": "stream",
     "text": [
      "Epoch 318/500 [Training]: 100%|██████████| 13/13 [00:00<00:00, 284.48it/s, loss=0.0263]\n",
      "Epoch 318/500 [Validation]: 100%|██████████| 1250/1250 [00:01<00:00, 940.19it/s]\n"
     ]
    },
    {
     "name": "stdout",
     "output_type": "stream",
     "text": [
      "Epoch [318/500] - \n",
      "Train Loss: 0.0112, Train Accuracy: 100.00%, \n",
      "Validation Loss: 1.0261, Validation Accuracy: 67.05%\n",
      "\n"
     ]
    },
    {
     "name": "stderr",
     "output_type": "stream",
     "text": [
      "Epoch 319/500 [Training]: 100%|██████████| 13/13 [00:00<00:00, 219.33it/s, loss=0.0092]\n",
      "Epoch 319/500 [Validation]: 100%|██████████| 1250/1250 [00:01<00:00, 907.36it/s]\n"
     ]
    },
    {
     "name": "stdout",
     "output_type": "stream",
     "text": [
      "Epoch [319/500] - \n",
      "Train Loss: 0.0080, Train Accuracy: 100.00%, \n",
      "Validation Loss: 0.9992, Validation Accuracy: 67.73%\n",
      "\n"
     ]
    },
    {
     "name": "stderr",
     "output_type": "stream",
     "text": [
      "Epoch 320/500 [Training]: 100%|██████████| 13/13 [00:00<00:00, 170.77it/s, loss=0.0239]\n",
      "Epoch 320/500 [Validation]: 100%|██████████| 1250/1250 [00:01<00:00, 951.07it/s]\n"
     ]
    },
    {
     "name": "stdout",
     "output_type": "stream",
     "text": [
      "Epoch [320/500] - \n",
      "Train Loss: 0.0108, Train Accuracy: 100.00%, \n",
      "Validation Loss: 1.0104, Validation Accuracy: 67.50%\n",
      "\n"
     ]
    },
    {
     "name": "stderr",
     "output_type": "stream",
     "text": [
      "Epoch 321/500 [Training]: 100%|██████████| 13/13 [00:00<00:00, 276.18it/s, loss=0.0377]\n",
      "Epoch 321/500 [Validation]: 100%|██████████| 1250/1250 [00:01<00:00, 914.88it/s]\n"
     ]
    },
    {
     "name": "stdout",
     "output_type": "stream",
     "text": [
      "Epoch [321/500] - \n",
      "Train Loss: 0.0087, Train Accuracy: 100.00%, \n",
      "Validation Loss: 1.0083, Validation Accuracy: 67.39%\n",
      "\n"
     ]
    },
    {
     "name": "stderr",
     "output_type": "stream",
     "text": [
      "Epoch 322/500 [Training]: 100%|██████████| 13/13 [00:00<00:00, 273.68it/s, loss=0.0044]\n",
      "Epoch 322/500 [Validation]: 100%|██████████| 1250/1250 [00:01<00:00, 889.45it/s]\n"
     ]
    },
    {
     "name": "stdout",
     "output_type": "stream",
     "text": [
      "Epoch [322/500] - \n",
      "Train Loss: 0.0080, Train Accuracy: 100.00%, \n",
      "Validation Loss: 1.0056, Validation Accuracy: 67.57%\n",
      "\n"
     ]
    },
    {
     "name": "stderr",
     "output_type": "stream",
     "text": [
      "Epoch 323/500 [Training]: 100%|██████████| 13/13 [00:00<00:00, 225.44it/s, loss=0.0160]\n",
      "Epoch 323/500 [Validation]: 100%|██████████| 1250/1250 [00:01<00:00, 883.88it/s]\n"
     ]
    },
    {
     "name": "stdout",
     "output_type": "stream",
     "text": [
      "Epoch [323/500] - \n",
      "Train Loss: 0.0106, Train Accuracy: 100.00%, \n",
      "Validation Loss: 1.0053, Validation Accuracy: 67.71%\n",
      "\n"
     ]
    },
    {
     "name": "stderr",
     "output_type": "stream",
     "text": [
      "Epoch 324/500 [Training]: 100%|██████████| 13/13 [00:00<00:00, 294.47it/s, loss=0.0214]\n",
      "Epoch 324/500 [Validation]: 100%|██████████| 1250/1250 [00:01<00:00, 889.34it/s]\n"
     ]
    },
    {
     "name": "stdout",
     "output_type": "stream",
     "text": [
      "Epoch [324/500] - \n",
      "Train Loss: 0.0088, Train Accuracy: 100.00%, \n",
      "Validation Loss: 0.9935, Validation Accuracy: 68.01%\n",
      "\n"
     ]
    },
    {
     "name": "stderr",
     "output_type": "stream",
     "text": [
      "Epoch 325/500 [Training]: 100%|██████████| 13/13 [00:00<00:00, 250.04it/s, loss=0.1050]\n",
      "Epoch 325/500 [Validation]: 100%|██████████| 1250/1250 [00:01<00:00, 872.56it/s]\n"
     ]
    },
    {
     "name": "stdout",
     "output_type": "stream",
     "text": [
      "Epoch [325/500] - \n",
      "Train Loss: 0.0157, Train Accuracy: 100.00%, \n",
      "Validation Loss: 1.0266, Validation Accuracy: 67.09%\n",
      "\n"
     ]
    },
    {
     "name": "stderr",
     "output_type": "stream",
     "text": [
      "Epoch 326/500 [Training]: 100%|██████████| 13/13 [00:00<00:00, 264.19it/s, loss=0.0050]\n",
      "Epoch 326/500 [Validation]: 100%|██████████| 1250/1250 [00:01<00:00, 919.52it/s]\n"
     ]
    },
    {
     "name": "stdout",
     "output_type": "stream",
     "text": [
      "Epoch [326/500] - \n",
      "Train Loss: 0.0082, Train Accuracy: 100.00%, \n",
      "Validation Loss: 1.0745, Validation Accuracy: 64.71%\n",
      "\n"
     ]
    },
    {
     "name": "stderr",
     "output_type": "stream",
     "text": [
      "Epoch 327/500 [Training]: 100%|██████████| 13/13 [00:00<00:00, 195.34it/s, loss=0.0105]\n",
      "Epoch 327/500 [Validation]: 100%|██████████| 1250/1250 [00:01<00:00, 908.82it/s]\n"
     ]
    },
    {
     "name": "stdout",
     "output_type": "stream",
     "text": [
      "Epoch [327/500] - \n",
      "Train Loss: 0.0089, Train Accuracy: 100.00%, \n",
      "Validation Loss: 1.0353, Validation Accuracy: 66.42%\n",
      "\n"
     ]
    },
    {
     "name": "stderr",
     "output_type": "stream",
     "text": [
      "Epoch 328/500 [Training]: 100%|██████████| 13/13 [00:00<00:00, 233.40it/s, loss=0.0259]\n",
      "Epoch 328/500 [Validation]: 100%|██████████| 1250/1250 [00:01<00:00, 916.07it/s]\n"
     ]
    },
    {
     "name": "stdout",
     "output_type": "stream",
     "text": [
      "Epoch [328/500] - \n",
      "Train Loss: 0.0116, Train Accuracy: 100.00%, \n",
      "Validation Loss: 1.0240, Validation Accuracy: 67.34%\n",
      "\n"
     ]
    },
    {
     "name": "stderr",
     "output_type": "stream",
     "text": [
      "Epoch 329/500 [Training]: 100%|██████████| 13/13 [00:00<00:00, 215.30it/s, loss=0.0109]\n",
      "Epoch 329/500 [Validation]: 100%|██████████| 1250/1250 [00:01<00:00, 918.09it/s]\n"
     ]
    },
    {
     "name": "stdout",
     "output_type": "stream",
     "text": [
      "Epoch [329/500] - \n",
      "Train Loss: 0.0069, Train Accuracy: 100.00%, \n",
      "Validation Loss: 1.0451, Validation Accuracy: 66.80%\n",
      "\n"
     ]
    },
    {
     "name": "stderr",
     "output_type": "stream",
     "text": [
      "Epoch 330/500 [Training]: 100%|██████████| 13/13 [00:00<00:00, 187.34it/s, loss=0.0812]\n",
      "Epoch 330/500 [Validation]: 100%|██████████| 1250/1250 [00:01<00:00, 829.45it/s]\n"
     ]
    },
    {
     "name": "stdout",
     "output_type": "stream",
     "text": [
      "Epoch [330/500] - \n",
      "Train Loss: 0.0128, Train Accuracy: 100.00%, \n",
      "Validation Loss: 1.0363, Validation Accuracy: 66.88%\n",
      "\n"
     ]
    },
    {
     "name": "stderr",
     "output_type": "stream",
     "text": [
      "Epoch 331/500 [Training]: 100%|██████████| 13/13 [00:00<00:00, 178.14it/s, loss=0.0104]\n",
      "Epoch 331/500 [Validation]: 100%|██████████| 1250/1250 [00:01<00:00, 884.39it/s]\n"
     ]
    },
    {
     "name": "stdout",
     "output_type": "stream",
     "text": [
      "Epoch [331/500] - \n",
      "Train Loss: 0.0087, Train Accuracy: 100.00%, \n",
      "Validation Loss: 1.0528, Validation Accuracy: 66.33%\n",
      "\n"
     ]
    },
    {
     "name": "stderr",
     "output_type": "stream",
     "text": [
      "Epoch 332/500 [Training]: 100%|██████████| 13/13 [00:00<00:00, 253.53it/s, loss=0.0071]\n",
      "Epoch 332/500 [Validation]: 100%|██████████| 1250/1250 [00:01<00:00, 854.42it/s]\n"
     ]
    },
    {
     "name": "stdout",
     "output_type": "stream",
     "text": [
      "Epoch [332/500] - \n",
      "Train Loss: 0.0098, Train Accuracy: 100.00%, \n",
      "Validation Loss: 1.0341, Validation Accuracy: 66.82%\n",
      "\n"
     ]
    },
    {
     "name": "stderr",
     "output_type": "stream",
     "text": [
      "Epoch 333/500 [Training]: 100%|██████████| 13/13 [00:00<00:00, 122.46it/s, loss=0.0078]\n",
      "Epoch 333/500 [Validation]: 100%|██████████| 1250/1250 [00:01<00:00, 917.40it/s]\n"
     ]
    },
    {
     "name": "stdout",
     "output_type": "stream",
     "text": [
      "Epoch [333/500] - \n",
      "Train Loss: 0.0085, Train Accuracy: 100.00%, \n",
      "Validation Loss: 1.0268, Validation Accuracy: 66.49%\n",
      "\n"
     ]
    },
    {
     "name": "stderr",
     "output_type": "stream",
     "text": [
      "Epoch 334/500 [Training]: 100%|██████████| 13/13 [00:00<00:00, 158.46it/s, loss=0.0067]\n",
      "Epoch 334/500 [Validation]: 100%|██████████| 1250/1250 [00:01<00:00, 975.42it/s]\n"
     ]
    },
    {
     "name": "stdout",
     "output_type": "stream",
     "text": [
      "Epoch [334/500] - \n",
      "Train Loss: 0.0084, Train Accuracy: 100.00%, \n",
      "Validation Loss: 1.0179, Validation Accuracy: 66.97%\n",
      "\n"
     ]
    },
    {
     "name": "stderr",
     "output_type": "stream",
     "text": [
      "Epoch 335/500 [Training]: 100%|██████████| 13/13 [00:00<00:00, 161.96it/s, loss=0.0047]\n",
      "Epoch 335/500 [Validation]: 100%|██████████| 1250/1250 [00:01<00:00, 908.85it/s]\n"
     ]
    },
    {
     "name": "stdout",
     "output_type": "stream",
     "text": [
      "Epoch [335/500] - \n",
      "Train Loss: 0.0072, Train Accuracy: 100.00%, \n",
      "Validation Loss: 1.0285, Validation Accuracy: 66.68%\n",
      "\n"
     ]
    },
    {
     "name": "stderr",
     "output_type": "stream",
     "text": [
      "Epoch 336/500 [Training]: 100%|██████████| 13/13 [00:00<00:00, 208.13it/s, loss=0.0092]\n",
      "Epoch 336/500 [Validation]: 100%|██████████| 1250/1250 [00:01<00:00, 922.73it/s]\n"
     ]
    },
    {
     "name": "stdout",
     "output_type": "stream",
     "text": [
      "Epoch [336/500] - \n",
      "Train Loss: 0.0098, Train Accuracy: 100.00%, \n",
      "Validation Loss: 1.0347, Validation Accuracy: 66.68%\n",
      "\n"
     ]
    },
    {
     "name": "stderr",
     "output_type": "stream",
     "text": [
      "Epoch 337/500 [Training]: 100%|██████████| 13/13 [00:00<00:00, 152.48it/s, loss=0.0104]\n",
      "Epoch 337/500 [Validation]: 100%|██████████| 1250/1250 [00:01<00:00, 928.36it/s]\n"
     ]
    },
    {
     "name": "stdout",
     "output_type": "stream",
     "text": [
      "Epoch [337/500] - \n",
      "Train Loss: 0.0111, Train Accuracy: 100.00%, \n",
      "Validation Loss: 1.0138, Validation Accuracy: 67.40%\n",
      "\n"
     ]
    },
    {
     "name": "stderr",
     "output_type": "stream",
     "text": [
      "Epoch 338/500 [Training]: 100%|██████████| 13/13 [00:00<00:00, 175.73it/s, loss=0.0432]\n",
      "Epoch 338/500 [Validation]: 100%|██████████| 1250/1250 [00:01<00:00, 902.22it/s]\n"
     ]
    },
    {
     "name": "stdout",
     "output_type": "stream",
     "text": [
      "Epoch [338/500] - \n",
      "Train Loss: 0.0105, Train Accuracy: 100.00%, \n",
      "Validation Loss: 1.0404, Validation Accuracy: 66.68%\n",
      "\n"
     ]
    },
    {
     "name": "stderr",
     "output_type": "stream",
     "text": [
      "Epoch 339/500 [Training]: 100%|██████████| 13/13 [00:00<00:00, 174.14it/s, loss=0.0148]\n",
      "Epoch 339/500 [Validation]: 100%|██████████| 1250/1250 [00:01<00:00, 913.32it/s]\n"
     ]
    },
    {
     "name": "stdout",
     "output_type": "stream",
     "text": [
      "Epoch [339/500] - \n",
      "Train Loss: 0.0106, Train Accuracy: 100.00%, \n",
      "Validation Loss: 1.0854, Validation Accuracy: 64.42%\n",
      "\n"
     ]
    },
    {
     "name": "stderr",
     "output_type": "stream",
     "text": [
      "Epoch 340/500 [Training]: 100%|██████████| 13/13 [00:00<00:00, 290.59it/s, loss=0.0225]\n",
      "Epoch 340/500 [Validation]: 100%|██████████| 1250/1250 [00:01<00:00, 941.30it/s]\n"
     ]
    },
    {
     "name": "stdout",
     "output_type": "stream",
     "text": [
      "Epoch [340/500] - \n",
      "Train Loss: 0.0091, Train Accuracy: 100.00%, \n",
      "Validation Loss: 1.0546, Validation Accuracy: 65.99%\n",
      "\n"
     ]
    },
    {
     "name": "stderr",
     "output_type": "stream",
     "text": [
      "Epoch 341/500 [Training]: 100%|██████████| 13/13 [00:00<00:00, 240.79it/s, loss=0.0079]\n",
      "Epoch 341/500 [Validation]: 100%|██████████| 1250/1250 [00:01<00:00, 871.92it/s]\n"
     ]
    },
    {
     "name": "stdout",
     "output_type": "stream",
     "text": [
      "Epoch [341/500] - \n",
      "Train Loss: 0.0102, Train Accuracy: 100.00%, \n",
      "Validation Loss: 1.0088, Validation Accuracy: 67.05%\n",
      "\n"
     ]
    },
    {
     "name": "stderr",
     "output_type": "stream",
     "text": [
      "Epoch 342/500 [Training]: 100%|██████████| 13/13 [00:00<00:00, 227.30it/s, loss=0.0284]\n",
      "Epoch 342/500 [Validation]: 100%|██████████| 1250/1250 [00:01<00:00, 886.69it/s]\n"
     ]
    },
    {
     "name": "stdout",
     "output_type": "stream",
     "text": [
      "Epoch [342/500] - \n",
      "Train Loss: 0.0094, Train Accuracy: 100.00%, \n",
      "Validation Loss: 1.0097, Validation Accuracy: 67.07%\n",
      "\n"
     ]
    },
    {
     "name": "stderr",
     "output_type": "stream",
     "text": [
      "Epoch 343/500 [Training]: 100%|██████████| 13/13 [00:00<00:00, 164.75it/s, loss=0.0072]\n",
      "Epoch 343/500 [Validation]: 100%|██████████| 1250/1250 [00:01<00:00, 877.17it/s]\n"
     ]
    },
    {
     "name": "stdout",
     "output_type": "stream",
     "text": [
      "Epoch [343/500] - \n",
      "Train Loss: 0.0080, Train Accuracy: 100.00%, \n",
      "Validation Loss: 1.0345, Validation Accuracy: 67.26%\n",
      "\n"
     ]
    },
    {
     "name": "stderr",
     "output_type": "stream",
     "text": [
      "Epoch 344/500 [Training]: 100%|██████████| 13/13 [00:00<00:00, 214.77it/s, loss=0.0283]\n",
      "Epoch 344/500 [Validation]: 100%|██████████| 1250/1250 [00:01<00:00, 907.41it/s]\n"
     ]
    },
    {
     "name": "stdout",
     "output_type": "stream",
     "text": [
      "Epoch [344/500] - \n",
      "Train Loss: 0.0102, Train Accuracy: 100.00%, \n",
      "Validation Loss: 1.0083, Validation Accuracy: 67.42%\n",
      "\n"
     ]
    },
    {
     "name": "stderr",
     "output_type": "stream",
     "text": [
      "Epoch 345/500 [Training]: 100%|██████████| 13/13 [00:00<00:00, 226.43it/s, loss=0.0106]\n",
      "Epoch 345/500 [Validation]: 100%|██████████| 1250/1250 [00:01<00:00, 945.85it/s]\n"
     ]
    },
    {
     "name": "stdout",
     "output_type": "stream",
     "text": [
      "Epoch [345/500] - \n",
      "Train Loss: 0.0079, Train Accuracy: 100.00%, \n",
      "Validation Loss: 1.0384, Validation Accuracy: 66.94%\n",
      "\n"
     ]
    },
    {
     "name": "stderr",
     "output_type": "stream",
     "text": [
      "Epoch 346/500 [Training]: 100%|██████████| 13/13 [00:00<00:00, 286.27it/s, loss=0.0538]\n",
      "Epoch 346/500 [Validation]: 100%|██████████| 1250/1250 [00:01<00:00, 903.99it/s]\n"
     ]
    },
    {
     "name": "stdout",
     "output_type": "stream",
     "text": [
      "Epoch [346/500] - \n",
      "Train Loss: 0.0133, Train Accuracy: 100.00%, \n",
      "Validation Loss: 1.0343, Validation Accuracy: 66.16%\n",
      "\n"
     ]
    },
    {
     "name": "stderr",
     "output_type": "stream",
     "text": [
      "Epoch 347/500 [Training]: 100%|██████████| 13/13 [00:00<00:00, 281.65it/s, loss=0.0427]\n",
      "Epoch 347/500 [Validation]: 100%|██████████| 1250/1250 [00:01<00:00, 903.76it/s]\n"
     ]
    },
    {
     "name": "stdout",
     "output_type": "stream",
     "text": [
      "Epoch [347/500] - \n",
      "Train Loss: 0.0104, Train Accuracy: 100.00%, \n",
      "Validation Loss: 1.0065, Validation Accuracy: 67.12%\n",
      "\n"
     ]
    },
    {
     "name": "stderr",
     "output_type": "stream",
     "text": [
      "Epoch 348/500 [Training]: 100%|██████████| 13/13 [00:00<00:00, 233.18it/s, loss=0.0147]\n",
      "Epoch 348/500 [Validation]: 100%|██████████| 1250/1250 [00:01<00:00, 912.63it/s]\n"
     ]
    },
    {
     "name": "stdout",
     "output_type": "stream",
     "text": [
      "Epoch [348/500] - \n",
      "Train Loss: 0.0093, Train Accuracy: 100.00%, \n",
      "Validation Loss: 1.0179, Validation Accuracy: 66.03%\n",
      "\n"
     ]
    },
    {
     "name": "stderr",
     "output_type": "stream",
     "text": [
      "Epoch 349/500 [Training]: 100%|██████████| 13/13 [00:00<00:00, 234.78it/s, loss=0.0143]\n",
      "Epoch 349/500 [Validation]: 100%|██████████| 1250/1250 [00:01<00:00, 888.31it/s]\n"
     ]
    },
    {
     "name": "stdout",
     "output_type": "stream",
     "text": [
      "Epoch [349/500] - \n",
      "Train Loss: 0.0113, Train Accuracy: 100.00%, \n",
      "Validation Loss: 1.0383, Validation Accuracy: 66.12%\n",
      "\n"
     ]
    },
    {
     "name": "stderr",
     "output_type": "stream",
     "text": [
      "Epoch 350/500 [Training]: 100%|██████████| 13/13 [00:00<00:00, 256.42it/s, loss=0.0070]\n",
      "Epoch 350/500 [Validation]: 100%|██████████| 1250/1250 [00:01<00:00, 843.20it/s]\n"
     ]
    },
    {
     "name": "stdout",
     "output_type": "stream",
     "text": [
      "Epoch [350/500] - \n",
      "Train Loss: 0.0086, Train Accuracy: 100.00%, \n",
      "Validation Loss: 1.0330, Validation Accuracy: 66.69%\n",
      "\n"
     ]
    },
    {
     "name": "stderr",
     "output_type": "stream",
     "text": [
      "Epoch 351/500 [Training]: 100%|██████████| 13/13 [00:00<00:00, 169.48it/s, loss=0.0259]\n",
      "Epoch 351/500 [Validation]: 100%|██████████| 1250/1250 [00:01<00:00, 845.14it/s]\n"
     ]
    },
    {
     "name": "stdout",
     "output_type": "stream",
     "text": [
      "Epoch [351/500] - \n",
      "Train Loss: 0.0094, Train Accuracy: 100.00%, \n",
      "Validation Loss: 1.0152, Validation Accuracy: 66.89%\n",
      "\n"
     ]
    },
    {
     "name": "stderr",
     "output_type": "stream",
     "text": [
      "Epoch 352/500 [Training]: 100%|██████████| 13/13 [00:00<00:00, 190.01it/s, loss=0.0038]\n",
      "Epoch 352/500 [Validation]: 100%|██████████| 1250/1250 [00:01<00:00, 788.97it/s]\n"
     ]
    },
    {
     "name": "stdout",
     "output_type": "stream",
     "text": [
      "Epoch [352/500] - \n",
      "Train Loss: 0.0074, Train Accuracy: 100.00%, \n",
      "Validation Loss: 1.0190, Validation Accuracy: 67.01%\n",
      "\n"
     ]
    },
    {
     "name": "stderr",
     "output_type": "stream",
     "text": [
      "Epoch 353/500 [Training]: 100%|██████████| 13/13 [00:00<00:00, 176.37it/s, loss=0.0344]\n",
      "Epoch 353/500 [Validation]: 100%|██████████| 1250/1250 [00:01<00:00, 857.57it/s]\n"
     ]
    },
    {
     "name": "stdout",
     "output_type": "stream",
     "text": [
      "Epoch [353/500] - \n",
      "Train Loss: 0.0099, Train Accuracy: 100.00%, \n",
      "Validation Loss: 1.0253, Validation Accuracy: 66.73%\n",
      "\n"
     ]
    },
    {
     "name": "stderr",
     "output_type": "stream",
     "text": [
      "Epoch 354/500 [Training]: 100%|██████████| 13/13 [00:00<00:00, 230.76it/s, loss=0.0264]\n",
      "Epoch 354/500 [Validation]: 100%|██████████| 1250/1250 [00:01<00:00, 786.77it/s]\n"
     ]
    },
    {
     "name": "stdout",
     "output_type": "stream",
     "text": [
      "Epoch [354/500] - \n",
      "Train Loss: 0.0097, Train Accuracy: 100.00%, \n",
      "Validation Loss: 1.0249, Validation Accuracy: 66.48%\n",
      "\n"
     ]
    },
    {
     "name": "stderr",
     "output_type": "stream",
     "text": [
      "Epoch 355/500 [Training]: 100%|██████████| 13/13 [00:00<00:00, 179.99it/s, loss=0.0147]\n",
      "Epoch 355/500 [Validation]: 100%|██████████| 1250/1250 [00:01<00:00, 827.15it/s]\n"
     ]
    },
    {
     "name": "stdout",
     "output_type": "stream",
     "text": [
      "Epoch [355/500] - \n",
      "Train Loss: 0.0101, Train Accuracy: 100.00%, \n",
      "Validation Loss: 1.0460, Validation Accuracy: 65.52%\n",
      "\n"
     ]
    },
    {
     "name": "stderr",
     "output_type": "stream",
     "text": [
      "Epoch 356/500 [Training]: 100%|██████████| 13/13 [00:00<00:00, 157.76it/s, loss=0.0159]\n",
      "Epoch 356/500 [Validation]: 100%|██████████| 1250/1250 [00:01<00:00, 907.94it/s]\n"
     ]
    },
    {
     "name": "stdout",
     "output_type": "stream",
     "text": [
      "Epoch [356/500] - \n",
      "Train Loss: 0.0082, Train Accuracy: 100.00%, \n",
      "Validation Loss: 1.0202, Validation Accuracy: 66.74%\n",
      "\n"
     ]
    },
    {
     "name": "stderr",
     "output_type": "stream",
     "text": [
      "Epoch 357/500 [Training]: 100%|██████████| 13/13 [00:00<00:00, 132.20it/s, loss=0.0580]\n",
      "Epoch 357/500 [Validation]: 100%|██████████| 1250/1250 [00:01<00:00, 891.58it/s]\n"
     ]
    },
    {
     "name": "stdout",
     "output_type": "stream",
     "text": [
      "Epoch [357/500] - \n",
      "Train Loss: 0.0137, Train Accuracy: 100.00%, \n",
      "Validation Loss: 1.0087, Validation Accuracy: 67.27%\n",
      "\n"
     ]
    },
    {
     "name": "stderr",
     "output_type": "stream",
     "text": [
      "Epoch 358/500 [Training]: 100%|██████████| 13/13 [00:00<00:00, 170.79it/s, loss=0.0394]\n",
      "Epoch 358/500 [Validation]: 100%|██████████| 1250/1250 [00:01<00:00, 854.44it/s]\n"
     ]
    },
    {
     "name": "stdout",
     "output_type": "stream",
     "text": [
      "Epoch [358/500] - \n",
      "Train Loss: 0.0109, Train Accuracy: 100.00%, \n",
      "Validation Loss: 1.0381, Validation Accuracy: 65.87%\n",
      "\n"
     ]
    },
    {
     "name": "stderr",
     "output_type": "stream",
     "text": [
      "Epoch 359/500 [Training]: 100%|██████████| 13/13 [00:00<00:00, 164.02it/s, loss=0.0091]\n",
      "Epoch 359/500 [Validation]: 100%|██████████| 1250/1250 [00:01<00:00, 869.74it/s]\n"
     ]
    },
    {
     "name": "stdout",
     "output_type": "stream",
     "text": [
      "Epoch [359/500] - \n",
      "Train Loss: 0.0110, Train Accuracy: 100.00%, \n",
      "Validation Loss: 1.0253, Validation Accuracy: 66.05%\n",
      "\n"
     ]
    },
    {
     "name": "stderr",
     "output_type": "stream",
     "text": [
      "Epoch 360/500 [Training]: 100%|██████████| 13/13 [00:00<00:00, 142.67it/s, loss=0.0100]\n",
      "Epoch 360/500 [Validation]: 100%|██████████| 1250/1250 [00:01<00:00, 872.43it/s]\n"
     ]
    },
    {
     "name": "stdout",
     "output_type": "stream",
     "text": [
      "Epoch [360/500] - \n",
      "Train Loss: 0.0083, Train Accuracy: 100.00%, \n",
      "Validation Loss: 1.0229, Validation Accuracy: 66.63%\n",
      "\n"
     ]
    },
    {
     "name": "stderr",
     "output_type": "stream",
     "text": [
      "Epoch 361/500 [Training]: 100%|██████████| 13/13 [00:00<00:00, 180.07it/s, loss=0.0060]\n",
      "Epoch 361/500 [Validation]: 100%|██████████| 1250/1250 [00:01<00:00, 796.67it/s]\n"
     ]
    },
    {
     "name": "stdout",
     "output_type": "stream",
     "text": [
      "Epoch [361/500] - \n",
      "Train Loss: 0.0083, Train Accuracy: 100.00%, \n",
      "Validation Loss: 1.0192, Validation Accuracy: 67.00%\n",
      "\n"
     ]
    },
    {
     "name": "stderr",
     "output_type": "stream",
     "text": [
      "Epoch 362/500 [Training]: 100%|██████████| 13/13 [00:00<00:00, 126.59it/s, loss=0.0088]\n",
      "Epoch 362/500 [Validation]: 100%|██████████| 1250/1250 [00:01<00:00, 904.91it/s]\n"
     ]
    },
    {
     "name": "stdout",
     "output_type": "stream",
     "text": [
      "Epoch [362/500] - \n",
      "Train Loss: 0.0069, Train Accuracy: 100.00%, \n",
      "Validation Loss: 1.0308, Validation Accuracy: 66.50%\n",
      "\n"
     ]
    },
    {
     "name": "stderr",
     "output_type": "stream",
     "text": [
      "Epoch 363/500 [Training]: 100%|██████████| 13/13 [00:00<00:00, 164.08it/s, loss=0.0408]\n",
      "Epoch 363/500 [Validation]: 100%|██████████| 1250/1250 [00:01<00:00, 819.82it/s]\n"
     ]
    },
    {
     "name": "stdout",
     "output_type": "stream",
     "text": [
      "Epoch [363/500] - \n",
      "Train Loss: 0.0113, Train Accuracy: 100.00%, \n",
      "Validation Loss: 1.0279, Validation Accuracy: 66.54%\n",
      "\n"
     ]
    },
    {
     "name": "stderr",
     "output_type": "stream",
     "text": [
      "Epoch 364/500 [Training]: 100%|██████████| 13/13 [00:00<00:00, 231.19it/s, loss=0.0195]\n",
      "Epoch 364/500 [Validation]: 100%|██████████| 1250/1250 [00:01<00:00, 859.68it/s]\n"
     ]
    },
    {
     "name": "stdout",
     "output_type": "stream",
     "text": [
      "Epoch [364/500] - \n",
      "Train Loss: 0.0198, Train Accuracy: 100.00%, \n",
      "Validation Loss: 1.0522, Validation Accuracy: 65.54%\n",
      "\n"
     ]
    },
    {
     "name": "stderr",
     "output_type": "stream",
     "text": [
      "Epoch 365/500 [Training]: 100%|██████████| 13/13 [00:00<00:00, 248.42it/s, loss=0.0108]\n",
      "Epoch 365/500 [Validation]: 100%|██████████| 1250/1250 [00:01<00:00, 857.59it/s]\n"
     ]
    },
    {
     "name": "stdout",
     "output_type": "stream",
     "text": [
      "Epoch [365/500] - \n",
      "Train Loss: 0.0076, Train Accuracy: 100.00%, \n",
      "Validation Loss: 1.0457, Validation Accuracy: 66.26%\n",
      "\n"
     ]
    },
    {
     "name": "stderr",
     "output_type": "stream",
     "text": [
      "Epoch 366/500 [Training]: 100%|██████████| 13/13 [00:00<00:00, 264.56it/s, loss=0.0074]\n",
      "Epoch 366/500 [Validation]: 100%|██████████| 1250/1250 [00:01<00:00, 900.00it/s]\n"
     ]
    },
    {
     "name": "stdout",
     "output_type": "stream",
     "text": [
      "Epoch [366/500] - \n",
      "Train Loss: 0.0085, Train Accuracy: 100.00%, \n",
      "Validation Loss: 1.0347, Validation Accuracy: 66.68%\n",
      "\n"
     ]
    },
    {
     "name": "stderr",
     "output_type": "stream",
     "text": [
      "Epoch 367/500 [Training]: 100%|██████████| 13/13 [00:00<00:00, 179.01it/s, loss=0.0290]\n",
      "Epoch 367/500 [Validation]: 100%|██████████| 1250/1250 [00:01<00:00, 870.93it/s]\n"
     ]
    },
    {
     "name": "stdout",
     "output_type": "stream",
     "text": [
      "Epoch [367/500] - \n",
      "Train Loss: 0.0091, Train Accuracy: 100.00%, \n",
      "Validation Loss: 1.0301, Validation Accuracy: 66.23%\n",
      "\n"
     ]
    },
    {
     "name": "stderr",
     "output_type": "stream",
     "text": [
      "Epoch 368/500 [Training]: 100%|██████████| 13/13 [00:00<00:00, 269.88it/s, loss=0.0265]\n",
      "Epoch 368/500 [Validation]: 100%|██████████| 1250/1250 [00:01<00:00, 806.23it/s]\n"
     ]
    },
    {
     "name": "stdout",
     "output_type": "stream",
     "text": [
      "Epoch [368/500] - \n",
      "Train Loss: 0.0101, Train Accuracy: 100.00%, \n",
      "Validation Loss: 1.0138, Validation Accuracy: 66.75%\n",
      "\n"
     ]
    },
    {
     "name": "stderr",
     "output_type": "stream",
     "text": [
      "Epoch 369/500 [Training]: 100%|██████████| 13/13 [00:00<00:00, 231.77it/s, loss=0.0089]\n",
      "Epoch 369/500 [Validation]: 100%|██████████| 1250/1250 [00:01<00:00, 798.80it/s]\n"
     ]
    },
    {
     "name": "stdout",
     "output_type": "stream",
     "text": [
      "Epoch [369/500] - \n",
      "Train Loss: 0.0078, Train Accuracy: 100.00%, \n",
      "Validation Loss: 1.0424, Validation Accuracy: 66.23%\n",
      "\n"
     ]
    },
    {
     "name": "stderr",
     "output_type": "stream",
     "text": [
      "Epoch 370/500 [Training]: 100%|██████████| 13/13 [00:00<00:00, 242.39it/s, loss=0.0290]\n",
      "Epoch 370/500 [Validation]: 100%|██████████| 1250/1250 [00:01<00:00, 768.66it/s]\n"
     ]
    },
    {
     "name": "stdout",
     "output_type": "stream",
     "text": [
      "Epoch [370/500] - \n",
      "Train Loss: 0.0110, Train Accuracy: 100.00%, \n",
      "Validation Loss: 1.0536, Validation Accuracy: 65.60%\n",
      "\n"
     ]
    },
    {
     "name": "stderr",
     "output_type": "stream",
     "text": [
      "Epoch 371/500 [Training]: 100%|██████████| 13/13 [00:00<00:00, 151.24it/s, loss=0.0205]\n",
      "Epoch 371/500 [Validation]: 100%|██████████| 1250/1250 [00:01<00:00, 844.17it/s]\n"
     ]
    },
    {
     "name": "stdout",
     "output_type": "stream",
     "text": [
      "Epoch [371/500] - \n",
      "Train Loss: 0.0091, Train Accuracy: 100.00%, \n",
      "Validation Loss: 1.0429, Validation Accuracy: 66.54%\n",
      "\n"
     ]
    },
    {
     "name": "stderr",
     "output_type": "stream",
     "text": [
      "Epoch 372/500 [Training]: 100%|██████████| 13/13 [00:00<00:00, 143.72it/s, loss=0.0070]\n",
      "Epoch 372/500 [Validation]: 100%|██████████| 1250/1250 [00:01<00:00, 892.12it/s]\n"
     ]
    },
    {
     "name": "stdout",
     "output_type": "stream",
     "text": [
      "Epoch [372/500] - \n",
      "Train Loss: 0.0069, Train Accuracy: 100.00%, \n",
      "Validation Loss: 1.0255, Validation Accuracy: 66.52%\n",
      "\n"
     ]
    },
    {
     "name": "stderr",
     "output_type": "stream",
     "text": [
      "Epoch 373/500 [Training]: 100%|██████████| 13/13 [00:00<00:00, 180.21it/s, loss=0.0152]\n",
      "Epoch 373/500 [Validation]: 100%|██████████| 1250/1250 [00:01<00:00, 896.34it/s]\n"
     ]
    },
    {
     "name": "stdout",
     "output_type": "stream",
     "text": [
      "Epoch [373/500] - \n",
      "Train Loss: 0.0086, Train Accuracy: 100.00%, \n",
      "Validation Loss: 1.0261, Validation Accuracy: 66.45%\n",
      "\n"
     ]
    },
    {
     "name": "stderr",
     "output_type": "stream",
     "text": [
      "Epoch 374/500 [Training]: 100%|██████████| 13/13 [00:00<00:00, 186.45it/s, loss=0.0097]\n",
      "Epoch 374/500 [Validation]: 100%|██████████| 1250/1250 [00:01<00:00, 854.33it/s]\n"
     ]
    },
    {
     "name": "stdout",
     "output_type": "stream",
     "text": [
      "Epoch [374/500] - \n",
      "Train Loss: 0.0108, Train Accuracy: 100.00%, \n",
      "Validation Loss: 1.0484, Validation Accuracy: 66.43%\n",
      "\n"
     ]
    },
    {
     "name": "stderr",
     "output_type": "stream",
     "text": [
      "Epoch 375/500 [Training]: 100%|██████████| 13/13 [00:00<00:00, 142.51it/s, loss=0.0080]\n",
      "Epoch 375/500 [Validation]: 100%|██████████| 1250/1250 [00:01<00:00, 836.61it/s]\n"
     ]
    },
    {
     "name": "stdout",
     "output_type": "stream",
     "text": [
      "Epoch [375/500] - \n",
      "Train Loss: 0.0097, Train Accuracy: 100.00%, \n",
      "Validation Loss: 1.0302, Validation Accuracy: 66.41%\n",
      "\n"
     ]
    },
    {
     "name": "stderr",
     "output_type": "stream",
     "text": [
      "Epoch 376/500 [Training]: 100%|██████████| 13/13 [00:00<00:00, 181.96it/s, loss=0.0124]\n",
      "Epoch 376/500 [Validation]: 100%|██████████| 1250/1250 [00:01<00:00, 943.83it/s]\n"
     ]
    },
    {
     "name": "stdout",
     "output_type": "stream",
     "text": [
      "Epoch [376/500] - \n",
      "Train Loss: 0.0097, Train Accuracy: 100.00%, \n",
      "Validation Loss: 1.0275, Validation Accuracy: 66.67%\n",
      "\n"
     ]
    },
    {
     "name": "stderr",
     "output_type": "stream",
     "text": [
      "Epoch 377/500 [Training]: 100%|██████████| 13/13 [00:00<00:00, 225.39it/s, loss=0.0789]\n",
      "Epoch 377/500 [Validation]: 100%|██████████| 1250/1250 [00:01<00:00, 947.68it/s]\n"
     ]
    },
    {
     "name": "stdout",
     "output_type": "stream",
     "text": [
      "Epoch [377/500] - \n",
      "Train Loss: 0.0130, Train Accuracy: 100.00%, \n",
      "Validation Loss: 1.0181, Validation Accuracy: 66.58%\n",
      "\n"
     ]
    },
    {
     "name": "stderr",
     "output_type": "stream",
     "text": [
      "Epoch 378/500 [Training]: 100%|██████████| 13/13 [00:00<00:00, 279.82it/s, loss=0.0202]\n",
      "Epoch 378/500 [Validation]: 100%|██████████| 1250/1250 [00:01<00:00, 841.69it/s]\n"
     ]
    },
    {
     "name": "stdout",
     "output_type": "stream",
     "text": [
      "Epoch [378/500] - \n",
      "Train Loss: 0.0088, Train Accuracy: 100.00%, \n",
      "Validation Loss: 1.0240, Validation Accuracy: 66.49%\n",
      "\n"
     ]
    },
    {
     "name": "stderr",
     "output_type": "stream",
     "text": [
      "Epoch 379/500 [Training]: 100%|██████████| 13/13 [00:00<00:00, 140.16it/s, loss=0.0176]\n",
      "Epoch 379/500 [Validation]: 100%|██████████| 1250/1250 [00:01<00:00, 880.52it/s]\n"
     ]
    },
    {
     "name": "stdout",
     "output_type": "stream",
     "text": [
      "Epoch [379/500] - \n",
      "Train Loss: 0.0088, Train Accuracy: 100.00%, \n",
      "Validation Loss: 1.0158, Validation Accuracy: 66.99%\n",
      "\n"
     ]
    },
    {
     "name": "stderr",
     "output_type": "stream",
     "text": [
      "Epoch 380/500 [Training]: 100%|██████████| 13/13 [00:00<00:00, 156.98it/s, loss=0.0177]\n",
      "Epoch 380/500 [Validation]: 100%|██████████| 1250/1250 [00:01<00:00, 873.96it/s]\n"
     ]
    },
    {
     "name": "stdout",
     "output_type": "stream",
     "text": [
      "Epoch [380/500] - \n",
      "Train Loss: 0.0106, Train Accuracy: 100.00%, \n",
      "Validation Loss: 1.0279, Validation Accuracy: 66.26%\n",
      "\n"
     ]
    },
    {
     "name": "stderr",
     "output_type": "stream",
     "text": [
      "Epoch 381/500 [Training]: 100%|██████████| 13/13 [00:00<00:00, 120.68it/s, loss=0.0519]\n",
      "Epoch 381/500 [Validation]: 100%|██████████| 1250/1250 [00:01<00:00, 835.05it/s]\n"
     ]
    },
    {
     "name": "stdout",
     "output_type": "stream",
     "text": [
      "Epoch [381/500] - \n",
      "Train Loss: 0.0154, Train Accuracy: 100.00%, \n",
      "Validation Loss: 1.0161, Validation Accuracy: 67.14%\n",
      "\n"
     ]
    },
    {
     "name": "stderr",
     "output_type": "stream",
     "text": [
      "Epoch 382/500 [Training]: 100%|██████████| 13/13 [00:00<00:00, 280.63it/s, loss=0.0641]\n",
      "Epoch 382/500 [Validation]: 100%|██████████| 1250/1250 [00:01<00:00, 758.25it/s]\n"
     ]
    },
    {
     "name": "stdout",
     "output_type": "stream",
     "text": [
      "Epoch [382/500] - \n",
      "Train Loss: 0.0131, Train Accuracy: 100.00%, \n",
      "Validation Loss: 1.0228, Validation Accuracy: 66.86%\n",
      "\n"
     ]
    },
    {
     "name": "stderr",
     "output_type": "stream",
     "text": [
      "Epoch 383/500 [Training]: 100%|██████████| 13/13 [00:00<00:00, 173.86it/s, loss=0.0425]\n",
      "Epoch 383/500 [Validation]: 100%|██████████| 1250/1250 [00:01<00:00, 716.32it/s]\n"
     ]
    },
    {
     "name": "stdout",
     "output_type": "stream",
     "text": [
      "Epoch [383/500] - \n",
      "Train Loss: 0.0102, Train Accuracy: 100.00%, \n",
      "Validation Loss: 1.0367, Validation Accuracy: 66.43%\n",
      "\n"
     ]
    },
    {
     "name": "stderr",
     "output_type": "stream",
     "text": [
      "Epoch 384/500 [Training]: 100%|██████████| 13/13 [00:00<00:00, 183.22it/s, loss=0.0330]\n",
      "Epoch 384/500 [Validation]: 100%|██████████| 1250/1250 [00:01<00:00, 690.64it/s]\n"
     ]
    },
    {
     "name": "stdout",
     "output_type": "stream",
     "text": [
      "Epoch [384/500] - \n",
      "Train Loss: 0.0095, Train Accuracy: 100.00%, \n",
      "Validation Loss: 1.0182, Validation Accuracy: 67.12%\n",
      "\n"
     ]
    },
    {
     "name": "stderr",
     "output_type": "stream",
     "text": [
      "Epoch 385/500 [Training]: 100%|██████████| 13/13 [00:00<00:00, 244.99it/s, loss=0.0185]\n",
      "Epoch 385/500 [Validation]: 100%|██████████| 1250/1250 [00:02<00:00, 576.65it/s]\n"
     ]
    },
    {
     "name": "stdout",
     "output_type": "stream",
     "text": [
      "Epoch [385/500] - \n",
      "Train Loss: 0.0107, Train Accuracy: 100.00%, \n",
      "Validation Loss: 0.9972, Validation Accuracy: 66.96%\n",
      "\n"
     ]
    },
    {
     "name": "stderr",
     "output_type": "stream",
     "text": [
      "Epoch 386/500 [Training]: 100%|██████████| 13/13 [00:00<00:00, 212.59it/s, loss=0.0303]\n",
      "Epoch 386/500 [Validation]: 100%|██████████| 1250/1250 [00:01<00:00, 772.55it/s]\n"
     ]
    },
    {
     "name": "stdout",
     "output_type": "stream",
     "text": [
      "Epoch [386/500] - \n",
      "Train Loss: 0.0084, Train Accuracy: 100.00%, \n",
      "Validation Loss: 0.9964, Validation Accuracy: 67.70%\n",
      "\n"
     ]
    },
    {
     "name": "stderr",
     "output_type": "stream",
     "text": [
      "Epoch 387/500 [Training]: 100%|██████████| 13/13 [00:00<00:00, 217.62it/s, loss=0.0166]\n",
      "Epoch 387/500 [Validation]: 100%|██████████| 1250/1250 [00:01<00:00, 830.34it/s]\n"
     ]
    },
    {
     "name": "stdout",
     "output_type": "stream",
     "text": [
      "Epoch [387/500] - \n",
      "Train Loss: 0.0151, Train Accuracy: 100.00%, \n",
      "Validation Loss: 1.0132, Validation Accuracy: 67.02%\n",
      "\n"
     ]
    },
    {
     "name": "stderr",
     "output_type": "stream",
     "text": [
      "Epoch 388/500 [Training]: 100%|██████████| 13/13 [00:00<00:00, 209.20it/s, loss=0.0219]\n",
      "Epoch 388/500 [Validation]: 100%|██████████| 1250/1250 [00:01<00:00, 855.32it/s]\n"
     ]
    },
    {
     "name": "stdout",
     "output_type": "stream",
     "text": [
      "Epoch [388/500] - \n",
      "Train Loss: 0.0095, Train Accuracy: 100.00%, \n",
      "Validation Loss: 1.0263, Validation Accuracy: 66.80%\n",
      "\n"
     ]
    },
    {
     "name": "stderr",
     "output_type": "stream",
     "text": [
      "Epoch 389/500 [Training]: 100%|██████████| 13/13 [00:00<00:00, 261.54it/s, loss=0.0246]\n",
      "Epoch 389/500 [Validation]: 100%|██████████| 1250/1250 [00:01<00:00, 790.74it/s]\n"
     ]
    },
    {
     "name": "stdout",
     "output_type": "stream",
     "text": [
      "Epoch [389/500] - \n",
      "Train Loss: 0.0099, Train Accuracy: 100.00%, \n",
      "Validation Loss: 1.0241, Validation Accuracy: 66.51%\n",
      "\n"
     ]
    },
    {
     "name": "stderr",
     "output_type": "stream",
     "text": [
      "Epoch 390/500 [Training]: 100%|██████████| 13/13 [00:00<00:00, 178.67it/s, loss=0.0220]\n",
      "Epoch 390/500 [Validation]: 100%|██████████| 1250/1250 [00:01<00:00, 808.49it/s]\n"
     ]
    },
    {
     "name": "stdout",
     "output_type": "stream",
     "text": [
      "Epoch [390/500] - \n",
      "Train Loss: 0.0086, Train Accuracy: 100.00%, \n",
      "Validation Loss: 1.0361, Validation Accuracy: 66.45%\n",
      "\n"
     ]
    },
    {
     "name": "stderr",
     "output_type": "stream",
     "text": [
      "Epoch 391/500 [Training]: 100%|██████████| 13/13 [00:00<00:00, 265.29it/s, loss=0.0369]\n",
      "Epoch 391/500 [Validation]: 100%|██████████| 1250/1250 [00:01<00:00, 756.54it/s]\n"
     ]
    },
    {
     "name": "stdout",
     "output_type": "stream",
     "text": [
      "Epoch [391/500] - \n",
      "Train Loss: 0.0104, Train Accuracy: 100.00%, \n",
      "Validation Loss: 1.0094, Validation Accuracy: 66.92%\n",
      "\n"
     ]
    },
    {
     "name": "stderr",
     "output_type": "stream",
     "text": [
      "Epoch 392/500 [Training]: 100%|██████████| 13/13 [00:00<00:00, 196.60it/s, loss=0.0146]\n",
      "Epoch 392/500 [Validation]: 100%|██████████| 1250/1250 [00:01<00:00, 748.67it/s]\n"
     ]
    },
    {
     "name": "stdout",
     "output_type": "stream",
     "text": [
      "Epoch [392/500] - \n",
      "Train Loss: 0.0081, Train Accuracy: 100.00%, \n",
      "Validation Loss: 1.0144, Validation Accuracy: 66.67%\n",
      "\n"
     ]
    },
    {
     "name": "stderr",
     "output_type": "stream",
     "text": [
      "Epoch 393/500 [Training]: 100%|██████████| 13/13 [00:00<00:00, 149.03it/s, loss=0.0208]\n",
      "Epoch 393/500 [Validation]: 100%|██████████| 1250/1250 [00:01<00:00, 831.21it/s]\n"
     ]
    },
    {
     "name": "stdout",
     "output_type": "stream",
     "text": [
      "Epoch [393/500] - \n",
      "Train Loss: 0.0087, Train Accuracy: 100.00%, \n",
      "Validation Loss: 1.0187, Validation Accuracy: 66.91%\n",
      "\n"
     ]
    },
    {
     "name": "stderr",
     "output_type": "stream",
     "text": [
      "Epoch 394/500 [Training]: 100%|██████████| 13/13 [00:00<00:00, 178.46it/s, loss=0.0108]\n",
      "Epoch 394/500 [Validation]: 100%|██████████| 1250/1250 [00:01<00:00, 838.91it/s]\n"
     ]
    },
    {
     "name": "stdout",
     "output_type": "stream",
     "text": [
      "Epoch [394/500] - \n",
      "Train Loss: 0.0106, Train Accuracy: 100.00%, \n",
      "Validation Loss: 1.0370, Validation Accuracy: 66.39%\n",
      "\n"
     ]
    },
    {
     "name": "stderr",
     "output_type": "stream",
     "text": [
      "Epoch 395/500 [Training]: 100%|██████████| 13/13 [00:00<00:00, 187.01it/s, loss=0.0061]\n",
      "Epoch 395/500 [Validation]: 100%|██████████| 1250/1250 [00:01<00:00, 832.00it/s]\n"
     ]
    },
    {
     "name": "stdout",
     "output_type": "stream",
     "text": [
      "Epoch [395/500] - \n",
      "Train Loss: 0.0082, Train Accuracy: 100.00%, \n",
      "Validation Loss: 1.0248, Validation Accuracy: 66.83%\n",
      "\n"
     ]
    },
    {
     "name": "stderr",
     "output_type": "stream",
     "text": [
      "Epoch 396/500 [Training]: 100%|██████████| 13/13 [00:00<00:00, 237.68it/s, loss=0.0215]\n",
      "Epoch 396/500 [Validation]: 100%|██████████| 1250/1250 [00:01<00:00, 837.35it/s]\n"
     ]
    },
    {
     "name": "stdout",
     "output_type": "stream",
     "text": [
      "Epoch [396/500] - \n",
      "Train Loss: 0.0105, Train Accuracy: 100.00%, \n",
      "Validation Loss: 1.0350, Validation Accuracy: 66.34%\n",
      "\n"
     ]
    },
    {
     "name": "stderr",
     "output_type": "stream",
     "text": [
      "Epoch 397/500 [Training]: 100%|██████████| 13/13 [00:00<00:00, 267.57it/s, loss=0.0070]\n",
      "Epoch 397/500 [Validation]: 100%|██████████| 1250/1250 [00:01<00:00, 827.53it/s]\n"
     ]
    },
    {
     "name": "stdout",
     "output_type": "stream",
     "text": [
      "Epoch [397/500] - \n",
      "Train Loss: 0.0096, Train Accuracy: 100.00%, \n",
      "Validation Loss: 1.0124, Validation Accuracy: 66.92%\n",
      "\n"
     ]
    },
    {
     "name": "stderr",
     "output_type": "stream",
     "text": [
      "Epoch 398/500 [Training]: 100%|██████████| 13/13 [00:00<00:00, 214.92it/s, loss=0.2670]\n",
      "Epoch 398/500 [Validation]: 100%|██████████| 1250/1250 [00:01<00:00, 837.26it/s]\n"
     ]
    },
    {
     "name": "stdout",
     "output_type": "stream",
     "text": [
      "Epoch [398/500] - \n",
      "Train Loss: 0.0294, Train Accuracy: 100.00%, \n",
      "Validation Loss: 1.0033, Validation Accuracy: 67.08%\n",
      "\n"
     ]
    },
    {
     "name": "stderr",
     "output_type": "stream",
     "text": [
      "Epoch 399/500 [Training]: 100%|██████████| 13/13 [00:00<00:00, 193.33it/s, loss=0.0102]\n",
      "Epoch 399/500 [Validation]: 100%|██████████| 1250/1250 [00:01<00:00, 852.98it/s]\n"
     ]
    },
    {
     "name": "stdout",
     "output_type": "stream",
     "text": [
      "Epoch [399/500] - \n",
      "Train Loss: 0.0076, Train Accuracy: 100.00%, \n",
      "Validation Loss: 1.1077, Validation Accuracy: 63.98%\n",
      "\n"
     ]
    },
    {
     "name": "stderr",
     "output_type": "stream",
     "text": [
      "Epoch 400/500 [Training]: 100%|██████████| 13/13 [00:00<00:00, 166.02it/s, loss=0.0151]\n",
      "Epoch 400/500 [Validation]: 100%|██████████| 1250/1250 [00:01<00:00, 800.91it/s]\n"
     ]
    },
    {
     "name": "stdout",
     "output_type": "stream",
     "text": [
      "Epoch [400/500] - \n",
      "Train Loss: 0.0096, Train Accuracy: 100.00%, \n",
      "Validation Loss: 1.0341, Validation Accuracy: 65.96%\n",
      "\n"
     ]
    },
    {
     "name": "stderr",
     "output_type": "stream",
     "text": [
      "Epoch 401/500 [Training]: 100%|██████████| 13/13 [00:00<00:00, 212.96it/s, loss=0.0071]\n",
      "Epoch 401/500 [Validation]: 100%|██████████| 1250/1250 [00:01<00:00, 741.52it/s]\n"
     ]
    },
    {
     "name": "stdout",
     "output_type": "stream",
     "text": [
      "Epoch [401/500] - \n",
      "Train Loss: 0.0093, Train Accuracy: 100.00%, \n",
      "Validation Loss: 1.0258, Validation Accuracy: 66.41%\n",
      "\n"
     ]
    },
    {
     "name": "stderr",
     "output_type": "stream",
     "text": [
      "Epoch 402/500 [Training]: 100%|██████████| 13/13 [00:00<00:00, 252.46it/s, loss=0.0363]\n",
      "Epoch 402/500 [Validation]: 100%|██████████| 1250/1250 [00:01<00:00, 756.92it/s]\n"
     ]
    },
    {
     "name": "stdout",
     "output_type": "stream",
     "text": [
      "Epoch [402/500] - \n",
      "Train Loss: 0.0126, Train Accuracy: 100.00%, \n",
      "Validation Loss: 1.0368, Validation Accuracy: 65.85%\n",
      "\n"
     ]
    },
    {
     "name": "stderr",
     "output_type": "stream",
     "text": [
      "Epoch 403/500 [Training]: 100%|██████████| 13/13 [00:00<00:00, 256.86it/s, loss=0.0139]\n",
      "Epoch 403/500 [Validation]: 100%|██████████| 1250/1250 [00:01<00:00, 764.87it/s]\n"
     ]
    },
    {
     "name": "stdout",
     "output_type": "stream",
     "text": [
      "Epoch [403/500] - \n",
      "Train Loss: 0.0092, Train Accuracy: 100.00%, \n",
      "Validation Loss: 1.0209, Validation Accuracy: 66.93%\n",
      "\n"
     ]
    },
    {
     "name": "stderr",
     "output_type": "stream",
     "text": [
      "Epoch 404/500 [Training]: 100%|██████████| 13/13 [00:00<00:00, 267.89it/s, loss=0.0077]\n",
      "Epoch 404/500 [Validation]: 100%|██████████| 1250/1250 [00:01<00:00, 743.57it/s]\n"
     ]
    },
    {
     "name": "stdout",
     "output_type": "stream",
     "text": [
      "Epoch [404/500] - \n",
      "Train Loss: 0.0095, Train Accuracy: 100.00%, \n",
      "Validation Loss: 1.0234, Validation Accuracy: 67.06%\n",
      "\n"
     ]
    },
    {
     "name": "stderr",
     "output_type": "stream",
     "text": [
      "Epoch 405/500 [Training]: 100%|██████████| 13/13 [00:00<00:00, 228.21it/s, loss=0.0068]\n",
      "Epoch 405/500 [Validation]: 100%|██████████| 1250/1250 [00:01<00:00, 835.60it/s]\n"
     ]
    },
    {
     "name": "stdout",
     "output_type": "stream",
     "text": [
      "Epoch [405/500] - \n",
      "Train Loss: 0.0092, Train Accuracy: 100.00%, \n",
      "Validation Loss: 1.0142, Validation Accuracy: 67.04%\n",
      "\n"
     ]
    },
    {
     "name": "stderr",
     "output_type": "stream",
     "text": [
      "Epoch 406/500 [Training]: 100%|██████████| 13/13 [00:00<00:00, 243.91it/s, loss=0.0116]\n",
      "Epoch 406/500 [Validation]: 100%|██████████| 1250/1250 [00:01<00:00, 864.79it/s]\n"
     ]
    },
    {
     "name": "stdout",
     "output_type": "stream",
     "text": [
      "Epoch [406/500] - \n",
      "Train Loss: 0.0082, Train Accuracy: 100.00%, \n",
      "Validation Loss: 1.0374, Validation Accuracy: 66.50%\n",
      "\n"
     ]
    },
    {
     "name": "stderr",
     "output_type": "stream",
     "text": [
      "Epoch 407/500 [Training]: 100%|██████████| 13/13 [00:00<00:00, 156.82it/s, loss=0.0188]\n",
      "Epoch 407/500 [Validation]: 100%|██████████| 1250/1250 [00:01<00:00, 851.18it/s]\n"
     ]
    },
    {
     "name": "stdout",
     "output_type": "stream",
     "text": [
      "Epoch [407/500] - \n",
      "Train Loss: 0.0102, Train Accuracy: 100.00%, \n",
      "Validation Loss: 1.0391, Validation Accuracy: 66.27%\n",
      "\n"
     ]
    },
    {
     "name": "stderr",
     "output_type": "stream",
     "text": [
      "Epoch 408/500 [Training]: 100%|██████████| 13/13 [00:00<00:00, 207.78it/s, loss=0.0157]\n",
      "Epoch 408/500 [Validation]: 100%|██████████| 1250/1250 [00:01<00:00, 828.56it/s]\n"
     ]
    },
    {
     "name": "stdout",
     "output_type": "stream",
     "text": [
      "Epoch [408/500] - \n",
      "Train Loss: 0.0084, Train Accuracy: 100.00%, \n",
      "Validation Loss: 1.0247, Validation Accuracy: 66.55%\n",
      "\n"
     ]
    },
    {
     "name": "stderr",
     "output_type": "stream",
     "text": [
      "Epoch 409/500 [Training]: 100%|██████████| 13/13 [00:00<00:00, 230.79it/s, loss=0.0093]\n",
      "Epoch 409/500 [Validation]: 100%|██████████| 1250/1250 [00:01<00:00, 780.62it/s]\n"
     ]
    },
    {
     "name": "stdout",
     "output_type": "stream",
     "text": [
      "Epoch [409/500] - \n",
      "Train Loss: 0.0083, Train Accuracy: 100.00%, \n",
      "Validation Loss: 1.0279, Validation Accuracy: 66.64%\n",
      "\n"
     ]
    },
    {
     "name": "stderr",
     "output_type": "stream",
     "text": [
      "Epoch 410/500 [Training]: 100%|██████████| 13/13 [00:00<00:00, 168.52it/s, loss=0.0152]\n",
      "Epoch 410/500 [Validation]: 100%|██████████| 1250/1250 [00:01<00:00, 781.09it/s]\n"
     ]
    },
    {
     "name": "stdout",
     "output_type": "stream",
     "text": [
      "Epoch [410/500] - \n",
      "Train Loss: 0.0106, Train Accuracy: 100.00%, \n",
      "Validation Loss: 1.0372, Validation Accuracy: 66.10%\n",
      "\n"
     ]
    },
    {
     "name": "stderr",
     "output_type": "stream",
     "text": [
      "Epoch 411/500 [Training]: 100%|██████████| 13/13 [00:00<00:00, 147.69it/s, loss=0.0182]\n",
      "Epoch 411/500 [Validation]: 100%|██████████| 1250/1250 [00:01<00:00, 807.89it/s]\n"
     ]
    },
    {
     "name": "stdout",
     "output_type": "stream",
     "text": [
      "Epoch [411/500] - \n",
      "Train Loss: 0.0088, Train Accuracy: 100.00%, \n",
      "Validation Loss: 1.0417, Validation Accuracy: 65.94%\n",
      "\n"
     ]
    },
    {
     "name": "stderr",
     "output_type": "stream",
     "text": [
      "Epoch 412/500 [Training]: 100%|██████████| 13/13 [00:00<00:00, 170.12it/s, loss=0.1062]\n",
      "Epoch 412/500 [Validation]: 100%|██████████| 1250/1250 [00:01<00:00, 792.90it/s]\n"
     ]
    },
    {
     "name": "stdout",
     "output_type": "stream",
     "text": [
      "Epoch [412/500] - \n",
      "Train Loss: 0.0160, Train Accuracy: 100.00%, \n",
      "Validation Loss: 1.0218, Validation Accuracy: 66.46%\n",
      "\n"
     ]
    },
    {
     "name": "stderr",
     "output_type": "stream",
     "text": [
      "Epoch 413/500 [Training]: 100%|██████████| 13/13 [00:00<00:00, 168.88it/s, loss=0.0099]\n",
      "Epoch 413/500 [Validation]: 100%|██████████| 1250/1250 [00:01<00:00, 798.51it/s]\n"
     ]
    },
    {
     "name": "stdout",
     "output_type": "stream",
     "text": [
      "Epoch [413/500] - \n",
      "Train Loss: 0.0099, Train Accuracy: 100.00%, \n",
      "Validation Loss: 1.0316, Validation Accuracy: 66.43%\n",
      "\n"
     ]
    },
    {
     "name": "stderr",
     "output_type": "stream",
     "text": [
      "Epoch 414/500 [Training]: 100%|██████████| 13/13 [00:00<00:00, 172.08it/s, loss=0.0203]\n",
      "Epoch 414/500 [Validation]: 100%|██████████| 1250/1250 [00:01<00:00, 815.41it/s]\n"
     ]
    },
    {
     "name": "stdout",
     "output_type": "stream",
     "text": [
      "Epoch [414/500] - \n",
      "Train Loss: 0.0129, Train Accuracy: 100.00%, \n",
      "Validation Loss: 1.0063, Validation Accuracy: 67.03%\n",
      "\n"
     ]
    },
    {
     "name": "stderr",
     "output_type": "stream",
     "text": [
      "Epoch 415/500 [Training]: 100%|██████████| 13/13 [00:00<00:00, 199.69it/s, loss=0.0076]\n",
      "Epoch 415/500 [Validation]: 100%|██████████| 1250/1250 [00:01<00:00, 869.26it/s]\n"
     ]
    },
    {
     "name": "stdout",
     "output_type": "stream",
     "text": [
      "Epoch [415/500] - \n",
      "Train Loss: 0.0076, Train Accuracy: 100.00%, \n",
      "Validation Loss: 1.0222, Validation Accuracy: 66.88%\n",
      "\n"
     ]
    },
    {
     "name": "stderr",
     "output_type": "stream",
     "text": [
      "Epoch 416/500 [Training]: 100%|██████████| 13/13 [00:00<00:00, 137.81it/s, loss=0.0099]\n",
      "Epoch 416/500 [Validation]: 100%|██████████| 1250/1250 [00:01<00:00, 827.10it/s]\n"
     ]
    },
    {
     "name": "stdout",
     "output_type": "stream",
     "text": [
      "Epoch [416/500] - \n",
      "Train Loss: 0.0081, Train Accuracy: 100.00%, \n",
      "Validation Loss: 1.0205, Validation Accuracy: 66.71%\n",
      "\n"
     ]
    },
    {
     "name": "stderr",
     "output_type": "stream",
     "text": [
      "Epoch 417/500 [Training]: 100%|██████████| 13/13 [00:00<00:00, 158.28it/s, loss=0.0179]\n",
      "Epoch 417/500 [Validation]: 100%|██████████| 1250/1250 [00:01<00:00, 723.28it/s]\n"
     ]
    },
    {
     "name": "stdout",
     "output_type": "stream",
     "text": [
      "Epoch [417/500] - \n",
      "Train Loss: 0.0108, Train Accuracy: 100.00%, \n",
      "Validation Loss: 1.0259, Validation Accuracy: 66.49%\n",
      "\n"
     ]
    },
    {
     "name": "stderr",
     "output_type": "stream",
     "text": [
      "Epoch 418/500 [Training]: 100%|██████████| 13/13 [00:00<00:00, 190.55it/s, loss=0.0117]\n",
      "Epoch 418/500 [Validation]: 100%|██████████| 1250/1250 [00:01<00:00, 679.77it/s]\n"
     ]
    },
    {
     "name": "stdout",
     "output_type": "stream",
     "text": [
      "Epoch [418/500] - \n",
      "Train Loss: 0.0094, Train Accuracy: 100.00%, \n",
      "Validation Loss: 1.0239, Validation Accuracy: 66.50%\n",
      "\n"
     ]
    },
    {
     "name": "stderr",
     "output_type": "stream",
     "text": [
      "Epoch 419/500 [Training]: 100%|██████████| 13/13 [00:00<00:00, 193.60it/s, loss=0.0139]\n",
      "Epoch 419/500 [Validation]: 100%|██████████| 1250/1250 [00:01<00:00, 662.13it/s]\n"
     ]
    },
    {
     "name": "stdout",
     "output_type": "stream",
     "text": [
      "Epoch [419/500] - \n",
      "Train Loss: 0.0100, Train Accuracy: 100.00%, \n",
      "Validation Loss: 1.0076, Validation Accuracy: 66.96%\n",
      "\n"
     ]
    },
    {
     "name": "stderr",
     "output_type": "stream",
     "text": [
      "Epoch 420/500 [Training]: 100%|██████████| 13/13 [00:00<00:00, 232.89it/s, loss=0.0158]\n",
      "Epoch 420/500 [Validation]: 100%|██████████| 1250/1250 [00:01<00:00, 793.49it/s]\n"
     ]
    },
    {
     "name": "stdout",
     "output_type": "stream",
     "text": [
      "Epoch [420/500] - \n",
      "Train Loss: 0.0091, Train Accuracy: 100.00%, \n",
      "Validation Loss: 1.0327, Validation Accuracy: 66.26%\n",
      "\n"
     ]
    },
    {
     "name": "stderr",
     "output_type": "stream",
     "text": [
      "Epoch 421/500 [Training]: 100%|██████████| 13/13 [00:00<00:00, 224.73it/s, loss=0.0088]\n",
      "Epoch 421/500 [Validation]: 100%|██████████| 1250/1250 [00:01<00:00, 831.34it/s]\n"
     ]
    },
    {
     "name": "stdout",
     "output_type": "stream",
     "text": [
      "Epoch [421/500] - \n",
      "Train Loss: 0.0086, Train Accuracy: 100.00%, \n",
      "Validation Loss: 1.0283, Validation Accuracy: 66.41%\n",
      "\n"
     ]
    },
    {
     "name": "stderr",
     "output_type": "stream",
     "text": [
      "Epoch 422/500 [Training]: 100%|██████████| 13/13 [00:00<00:00, 258.20it/s, loss=0.0144]\n",
      "Epoch 422/500 [Validation]: 100%|██████████| 1250/1250 [00:01<00:00, 833.49it/s]\n"
     ]
    },
    {
     "name": "stdout",
     "output_type": "stream",
     "text": [
      "Epoch [422/500] - \n",
      "Train Loss: 0.0075, Train Accuracy: 100.00%, \n",
      "Validation Loss: 1.0257, Validation Accuracy: 66.61%\n",
      "\n"
     ]
    },
    {
     "name": "stderr",
     "output_type": "stream",
     "text": [
      "Epoch 423/500 [Training]: 100%|██████████| 13/13 [00:00<00:00, 227.54it/s, loss=0.0058]\n",
      "Epoch 423/500 [Validation]: 100%|██████████| 1250/1250 [00:01<00:00, 837.46it/s]\n"
     ]
    },
    {
     "name": "stdout",
     "output_type": "stream",
     "text": [
      "Epoch [423/500] - \n",
      "Train Loss: 0.0073, Train Accuracy: 100.00%, \n",
      "Validation Loss: 1.0234, Validation Accuracy: 66.68%\n",
      "\n"
     ]
    },
    {
     "name": "stderr",
     "output_type": "stream",
     "text": [
      "Epoch 424/500 [Training]: 100%|██████████| 13/13 [00:00<00:00, 190.59it/s, loss=0.0075]\n",
      "Epoch 424/500 [Validation]: 100%|██████████| 1250/1250 [00:01<00:00, 844.38it/s]\n"
     ]
    },
    {
     "name": "stdout",
     "output_type": "stream",
     "text": [
      "Epoch [424/500] - \n",
      "Train Loss: 0.0113, Train Accuracy: 100.00%, \n",
      "Validation Loss: 1.0346, Validation Accuracy: 66.48%\n",
      "\n"
     ]
    },
    {
     "name": "stderr",
     "output_type": "stream",
     "text": [
      "Epoch 425/500 [Training]: 100%|██████████| 13/13 [00:00<00:00, 251.95it/s, loss=0.0078]\n",
      "Epoch 425/500 [Validation]: 100%|██████████| 1250/1250 [00:01<00:00, 841.91it/s]\n"
     ]
    },
    {
     "name": "stdout",
     "output_type": "stream",
     "text": [
      "Epoch [425/500] - \n",
      "Train Loss: 0.0119, Train Accuracy: 100.00%, \n",
      "Validation Loss: 1.0324, Validation Accuracy: 66.75%\n",
      "\n"
     ]
    },
    {
     "name": "stderr",
     "output_type": "stream",
     "text": [
      "Epoch 426/500 [Training]: 100%|██████████| 13/13 [00:00<00:00, 244.88it/s, loss=0.0287]\n",
      "Epoch 426/500 [Validation]: 100%|██████████| 1250/1250 [00:01<00:00, 831.06it/s]\n"
     ]
    },
    {
     "name": "stdout",
     "output_type": "stream",
     "text": [
      "Epoch [426/500] - \n",
      "Train Loss: 0.0123, Train Accuracy: 100.00%, \n",
      "Validation Loss: 1.0518, Validation Accuracy: 65.51%\n",
      "\n"
     ]
    },
    {
     "name": "stderr",
     "output_type": "stream",
     "text": [
      "Epoch 427/500 [Training]: 100%|██████████| 13/13 [00:00<00:00, 177.07it/s, loss=0.0068]\n",
      "Epoch 427/500 [Validation]: 100%|██████████| 1250/1250 [00:01<00:00, 838.44it/s]\n"
     ]
    },
    {
     "name": "stdout",
     "output_type": "stream",
     "text": [
      "Epoch [427/500] - \n",
      "Train Loss: 0.0084, Train Accuracy: 100.00%, \n",
      "Validation Loss: 1.0403, Validation Accuracy: 66.10%\n",
      "\n"
     ]
    },
    {
     "name": "stderr",
     "output_type": "stream",
     "text": [
      "Epoch 428/500 [Training]: 100%|██████████| 13/13 [00:00<00:00, 159.64it/s, loss=0.0279]\n",
      "Epoch 428/500 [Validation]: 100%|██████████| 1250/1250 [00:01<00:00, 852.77it/s]\n"
     ]
    },
    {
     "name": "stdout",
     "output_type": "stream",
     "text": [
      "Epoch [428/500] - \n",
      "Train Loss: 0.0094, Train Accuracy: 100.00%, \n",
      "Validation Loss: 1.0335, Validation Accuracy: 66.52%\n",
      "\n"
     ]
    },
    {
     "name": "stderr",
     "output_type": "stream",
     "text": [
      "Epoch 429/500 [Training]: 100%|██████████| 13/13 [00:00<00:00, 165.36it/s, loss=0.0303]\n",
      "Epoch 429/500 [Validation]: 100%|██████████| 1250/1250 [00:01<00:00, 837.14it/s]\n"
     ]
    },
    {
     "name": "stdout",
     "output_type": "stream",
     "text": [
      "Epoch [429/500] - \n",
      "Train Loss: 0.0118, Train Accuracy: 100.00%, \n",
      "Validation Loss: 1.0427, Validation Accuracy: 66.01%\n",
      "\n"
     ]
    },
    {
     "name": "stderr",
     "output_type": "stream",
     "text": [
      "Epoch 430/500 [Training]: 100%|██████████| 13/13 [00:00<00:00, 198.06it/s, loss=0.0149]\n",
      "Epoch 430/500 [Validation]: 100%|██████████| 1250/1250 [00:01<00:00, 821.11it/s]\n"
     ]
    },
    {
     "name": "stdout",
     "output_type": "stream",
     "text": [
      "Epoch [430/500] - \n",
      "Train Loss: 0.0084, Train Accuracy: 100.00%, \n",
      "Validation Loss: 1.0427, Validation Accuracy: 66.00%\n",
      "\n"
     ]
    },
    {
     "name": "stderr",
     "output_type": "stream",
     "text": [
      "Epoch 431/500 [Training]: 100%|██████████| 13/13 [00:00<00:00, 252.32it/s, loss=0.0211]\n",
      "Epoch 431/500 [Validation]: 100%|██████████| 1250/1250 [00:01<00:00, 759.24it/s]\n"
     ]
    },
    {
     "name": "stdout",
     "output_type": "stream",
     "text": [
      "Epoch [431/500] - \n",
      "Train Loss: 0.0098, Train Accuracy: 100.00%, \n",
      "Validation Loss: 1.0240, Validation Accuracy: 66.48%\n",
      "\n"
     ]
    },
    {
     "name": "stderr",
     "output_type": "stream",
     "text": [
      "Epoch 432/500 [Training]: 100%|██████████| 13/13 [00:00<00:00, 154.22it/s, loss=0.0093]\n",
      "Epoch 432/500 [Validation]: 100%|██████████| 1250/1250 [00:01<00:00, 738.60it/s]\n"
     ]
    },
    {
     "name": "stdout",
     "output_type": "stream",
     "text": [
      "Epoch [432/500] - \n",
      "Train Loss: 0.0101, Train Accuracy: 100.00%, \n",
      "Validation Loss: 1.0255, Validation Accuracy: 66.69%\n",
      "\n"
     ]
    },
    {
     "name": "stderr",
     "output_type": "stream",
     "text": [
      "Epoch 433/500 [Training]: 100%|██████████| 13/13 [00:00<00:00, 135.16it/s, loss=0.0085]\n",
      "Epoch 433/500 [Validation]: 100%|██████████| 1250/1250 [00:01<00:00, 786.49it/s]\n"
     ]
    },
    {
     "name": "stdout",
     "output_type": "stream",
     "text": [
      "Epoch [433/500] - \n",
      "Train Loss: 0.0091, Train Accuracy: 100.00%, \n",
      "Validation Loss: 1.0131, Validation Accuracy: 67.00%\n",
      "\n"
     ]
    },
    {
     "name": "stderr",
     "output_type": "stream",
     "text": [
      "Epoch 434/500 [Training]: 100%|██████████| 13/13 [00:00<00:00, 121.95it/s, loss=0.0100]\n",
      "Epoch 434/500 [Validation]: 100%|██████████| 1250/1250 [00:01<00:00, 778.75it/s]\n"
     ]
    },
    {
     "name": "stdout",
     "output_type": "stream",
     "text": [
      "Epoch [434/500] - \n",
      "Train Loss: 0.0071, Train Accuracy: 100.00%, \n",
      "Validation Loss: 1.0207, Validation Accuracy: 66.56%\n",
      "\n"
     ]
    },
    {
     "name": "stderr",
     "output_type": "stream",
     "text": [
      "Epoch 435/500 [Training]: 100%|██████████| 13/13 [00:00<00:00, 240.06it/s, loss=0.0406]\n",
      "Epoch 435/500 [Validation]: 100%|██████████| 1250/1250 [00:01<00:00, 777.40it/s]\n"
     ]
    },
    {
     "name": "stdout",
     "output_type": "stream",
     "text": [
      "Epoch [435/500] - \n",
      "Train Loss: 0.0119, Train Accuracy: 100.00%, \n",
      "Validation Loss: 1.0295, Validation Accuracy: 66.62%\n",
      "\n"
     ]
    },
    {
     "name": "stderr",
     "output_type": "stream",
     "text": [
      "Epoch 436/500 [Training]: 100%|██████████| 13/13 [00:00<00:00, 218.80it/s, loss=0.0131]\n",
      "Epoch 436/500 [Validation]: 100%|██████████| 1250/1250 [00:01<00:00, 798.11it/s]\n"
     ]
    },
    {
     "name": "stdout",
     "output_type": "stream",
     "text": [
      "Epoch [436/500] - \n",
      "Train Loss: 0.0098, Train Accuracy: 100.00%, \n",
      "Validation Loss: 1.0227, Validation Accuracy: 66.70%\n",
      "\n"
     ]
    },
    {
     "name": "stderr",
     "output_type": "stream",
     "text": [
      "Epoch 437/500 [Training]: 100%|██████████| 13/13 [00:00<00:00, 190.76it/s, loss=0.0614]\n",
      "Epoch 437/500 [Validation]: 100%|██████████| 1250/1250 [00:01<00:00, 780.73it/s]\n"
     ]
    },
    {
     "name": "stdout",
     "output_type": "stream",
     "text": [
      "Epoch [437/500] - \n",
      "Train Loss: 0.0114, Train Accuracy: 100.00%, \n",
      "Validation Loss: 1.0224, Validation Accuracy: 66.98%\n",
      "\n"
     ]
    },
    {
     "name": "stderr",
     "output_type": "stream",
     "text": [
      "Epoch 438/500 [Training]: 100%|██████████| 13/13 [00:00<00:00, 129.91it/s, loss=0.0069]\n",
      "Epoch 438/500 [Validation]: 100%|██████████| 1250/1250 [00:01<00:00, 816.02it/s]\n"
     ]
    },
    {
     "name": "stdout",
     "output_type": "stream",
     "text": [
      "Epoch [438/500] - \n",
      "Train Loss: 0.0074, Train Accuracy: 100.00%, \n",
      "Validation Loss: 1.0327, Validation Accuracy: 66.03%\n",
      "\n"
     ]
    },
    {
     "name": "stderr",
     "output_type": "stream",
     "text": [
      "Epoch 439/500 [Training]: 100%|██████████| 13/13 [00:00<00:00, 149.51it/s, loss=0.0194]\n",
      "Epoch 439/500 [Validation]: 100%|██████████| 1250/1250 [00:01<00:00, 799.99it/s]\n"
     ]
    },
    {
     "name": "stdout",
     "output_type": "stream",
     "text": [
      "Epoch [439/500] - \n",
      "Train Loss: 0.0093, Train Accuracy: 100.00%, \n",
      "Validation Loss: 1.0338, Validation Accuracy: 66.05%\n",
      "\n"
     ]
    },
    {
     "name": "stderr",
     "output_type": "stream",
     "text": [
      "Epoch 440/500 [Training]: 100%|██████████| 13/13 [00:00<00:00, 269.97it/s, loss=0.0140]\n",
      "Epoch 440/500 [Validation]: 100%|██████████| 1250/1250 [00:01<00:00, 860.43it/s]\n"
     ]
    },
    {
     "name": "stdout",
     "output_type": "stream",
     "text": [
      "Epoch [440/500] - \n",
      "Train Loss: 0.0104, Train Accuracy: 100.00%, \n",
      "Validation Loss: 1.0383, Validation Accuracy: 66.19%\n",
      "\n"
     ]
    },
    {
     "name": "stderr",
     "output_type": "stream",
     "text": [
      "Epoch 441/500 [Training]: 100%|██████████| 13/13 [00:00<00:00, 223.04it/s, loss=0.0430]\n",
      "Epoch 441/500 [Validation]: 100%|██████████| 1250/1250 [00:01<00:00, 792.92it/s]\n"
     ]
    },
    {
     "name": "stdout",
     "output_type": "stream",
     "text": [
      "Epoch [441/500] - \n",
      "Train Loss: 0.0096, Train Accuracy: 100.00%, \n",
      "Validation Loss: 1.0182, Validation Accuracy: 66.87%\n",
      "\n"
     ]
    },
    {
     "name": "stderr",
     "output_type": "stream",
     "text": [
      "Epoch 442/500 [Training]: 100%|██████████| 13/13 [00:00<00:00, 217.74it/s, loss=0.0080]\n",
      "Epoch 442/500 [Validation]: 100%|██████████| 1250/1250 [00:01<00:00, 825.00it/s]\n"
     ]
    },
    {
     "name": "stdout",
     "output_type": "stream",
     "text": [
      "Epoch [442/500] - \n",
      "Train Loss: 0.0126, Train Accuracy: 100.00%, \n",
      "Validation Loss: 1.0261, Validation Accuracy: 66.72%\n",
      "\n"
     ]
    },
    {
     "name": "stderr",
     "output_type": "stream",
     "text": [
      "Epoch 443/500 [Training]: 100%|██████████| 13/13 [00:00<00:00, 272.33it/s, loss=0.0245]\n",
      "Epoch 443/500 [Validation]: 100%|██████████| 1250/1250 [00:01<00:00, 855.02it/s]\n"
     ]
    },
    {
     "name": "stdout",
     "output_type": "stream",
     "text": [
      "Epoch [443/500] - \n",
      "Train Loss: 0.0085, Train Accuracy: 100.00%, \n",
      "Validation Loss: 1.0327, Validation Accuracy: 65.81%\n",
      "\n"
     ]
    },
    {
     "name": "stderr",
     "output_type": "stream",
     "text": [
      "Epoch 444/500 [Training]: 100%|██████████| 13/13 [00:00<00:00, 181.26it/s, loss=0.0376]\n",
      "Epoch 444/500 [Validation]: 100%|█████████▉| 1244/1250 [00:01<00:00, 809.99it/s]\n"
     ]
    },
    {
     "ename": "KeyboardInterrupt",
     "evalue": "",
     "output_type": "error",
     "traceback": [
      "\u001b[0;31m---------------------------------------------------------------------------\u001b[0m",
      "\u001b[0;31mKeyboardInterrupt\u001b[0m                         Traceback (most recent call last)",
      "Cell \u001b[0;32mIn[16], line 20\u001b[0m\n\u001b[1;32m     13\u001b[0m optimizer\u001b[38;5;241m=\u001b[39mtorch\u001b[38;5;241m.\u001b[39moptim\u001b[38;5;241m.\u001b[39mAdam(MNIST_model\u001b[38;5;241m.\u001b[39mparameters(),\n\u001b[1;32m     14\u001b[0m                            lr\u001b[38;5;241m=\u001b[39m\u001b[38;5;241m0.01\u001b[39m,weight_decay\u001b[38;5;241m=\u001b[39m\u001b[38;5;241m0.001\u001b[39m)\n\u001b[1;32m     16\u001b[0m learning_rate_scheduler\u001b[38;5;241m=\u001b[39mtorch\u001b[38;5;241m.\u001b[39moptim\u001b[38;5;241m.\u001b[39mlr_scheduler\u001b[38;5;241m.\u001b[39mStepLR(optimizer,\n\u001b[1;32m     17\u001b[0m                                                         step_size\u001b[38;5;241m=\u001b[39m\u001b[38;5;241m50\u001b[39m,\n\u001b[1;32m     18\u001b[0m                                                         gamma\u001b[38;5;241m=\u001b[39m\u001b[38;5;241m0.5\u001b[39m)\n\u001b[0;32m---> 20\u001b[0m \u001b[43mtrain_convnet\u001b[49m\u001b[43m(\u001b[49m\u001b[43mMNIST_model\u001b[49m\u001b[43m,\u001b[49m\n\u001b[1;32m     21\u001b[0m \u001b[43m             \u001b[49m\u001b[43msupervised_train_loader\u001b[49m\u001b[43m,\u001b[49m\n\u001b[1;32m     22\u001b[0m \u001b[43m             \u001b[49m\u001b[43msupervised_val_loader\u001b[49m\u001b[43m,\u001b[49m\n\u001b[1;32m     23\u001b[0m \u001b[43m             \u001b[49m\u001b[43mcriterion\u001b[49m\u001b[43m,\u001b[49m\u001b[43moptimizer\u001b[49m\u001b[43m,\u001b[49m\n\u001b[1;32m     24\u001b[0m \u001b[43m             \u001b[49m\u001b[43mlearning_rate_scheduler\u001b[49m\u001b[43m,\u001b[49m\n\u001b[1;32m     25\u001b[0m \u001b[43m             \u001b[49m\u001b[43mnum_epochs\u001b[49m\u001b[38;5;241;43m=\u001b[39;49m\u001b[38;5;241;43m500\u001b[39;49m\u001b[43m,\u001b[49m\n\u001b[1;32m     26\u001b[0m \u001b[43m             \u001b[49m\u001b[43mfilename\u001b[49m\u001b[38;5;241;43m=\u001b[39;49m\u001b[38;5;124;43mf\u001b[39;49m\u001b[38;5;124;43m'\u001b[39;49m\u001b[38;5;124;43mbaseline_model_\u001b[39;49m\u001b[38;5;132;43;01m{\u001b[39;49;00m\u001b[43mNUM_BLOCKS\u001b[49m\u001b[38;5;132;43;01m}\u001b[39;49;00m\u001b[38;5;124;43m.pth\u001b[39;49m\u001b[38;5;124;43m'\u001b[39;49m\u001b[43m)\u001b[49m\n",
      "File \u001b[0;32m~/Desktop/Code-Edu24/unsuper/unsupervised-representation-learning-by-predicting-image-rotations-on-MNIST/helper_functions.py:94\u001b[0m, in \u001b[0;36mtrain_convnet\u001b[0;34m(model, train_loader, val_loader, criterion, optimizer, learning_rate_scheduler, num_epochs, filename)\u001b[0m\n\u001b[1;32m     91\u001b[0m images, labels \u001b[38;5;241m=\u001b[39m images\u001b[38;5;241m.\u001b[39mcuda(), labels\u001b[38;5;241m.\u001b[39mcuda()\n\u001b[1;32m     93\u001b[0m \u001b[38;5;66;03m# Forward pass\u001b[39;00m\n\u001b[0;32m---> 94\u001b[0m outputs \u001b[38;5;241m=\u001b[39m \u001b[43mmodel\u001b[49m\u001b[43m(\u001b[49m\u001b[43mimages\u001b[49m\u001b[43m)\u001b[49m\n\u001b[1;32m     95\u001b[0m loss \u001b[38;5;241m=\u001b[39m criterion(outputs, labels)\n\u001b[1;32m     97\u001b[0m \u001b[38;5;66;03m# Update metrics\u001b[39;00m\n",
      "File \u001b[0;32m~/.local/lib/python3.10/site-packages/torch/nn/modules/module.py:1736\u001b[0m, in \u001b[0;36mModule._wrapped_call_impl\u001b[0;34m(self, *args, **kwargs)\u001b[0m\n\u001b[1;32m   1734\u001b[0m     \u001b[38;5;28;01mreturn\u001b[39;00m \u001b[38;5;28mself\u001b[39m\u001b[38;5;241m.\u001b[39m_compiled_call_impl(\u001b[38;5;241m*\u001b[39margs, \u001b[38;5;241m*\u001b[39m\u001b[38;5;241m*\u001b[39mkwargs)  \u001b[38;5;66;03m# type: ignore[misc]\u001b[39;00m\n\u001b[1;32m   1735\u001b[0m \u001b[38;5;28;01melse\u001b[39;00m:\n\u001b[0;32m-> 1736\u001b[0m     \u001b[38;5;28;01mreturn\u001b[39;00m \u001b[38;5;28;43mself\u001b[39;49m\u001b[38;5;241;43m.\u001b[39;49m\u001b[43m_call_impl\u001b[49m\u001b[43m(\u001b[49m\u001b[38;5;241;43m*\u001b[39;49m\u001b[43margs\u001b[49m\u001b[43m,\u001b[49m\u001b[43m \u001b[49m\u001b[38;5;241;43m*\u001b[39;49m\u001b[38;5;241;43m*\u001b[39;49m\u001b[43mkwargs\u001b[49m\u001b[43m)\u001b[49m\n",
      "File \u001b[0;32m~/.local/lib/python3.10/site-packages/torch/nn/modules/module.py:1747\u001b[0m, in \u001b[0;36mModule._call_impl\u001b[0;34m(self, *args, **kwargs)\u001b[0m\n\u001b[1;32m   1742\u001b[0m \u001b[38;5;66;03m# If we don't have any hooks, we want to skip the rest of the logic in\u001b[39;00m\n\u001b[1;32m   1743\u001b[0m \u001b[38;5;66;03m# this function, and just call forward.\u001b[39;00m\n\u001b[1;32m   1744\u001b[0m \u001b[38;5;28;01mif\u001b[39;00m \u001b[38;5;129;01mnot\u001b[39;00m (\u001b[38;5;28mself\u001b[39m\u001b[38;5;241m.\u001b[39m_backward_hooks \u001b[38;5;129;01mor\u001b[39;00m \u001b[38;5;28mself\u001b[39m\u001b[38;5;241m.\u001b[39m_backward_pre_hooks \u001b[38;5;129;01mor\u001b[39;00m \u001b[38;5;28mself\u001b[39m\u001b[38;5;241m.\u001b[39m_forward_hooks \u001b[38;5;129;01mor\u001b[39;00m \u001b[38;5;28mself\u001b[39m\u001b[38;5;241m.\u001b[39m_forward_pre_hooks\n\u001b[1;32m   1745\u001b[0m         \u001b[38;5;129;01mor\u001b[39;00m _global_backward_pre_hooks \u001b[38;5;129;01mor\u001b[39;00m _global_backward_hooks\n\u001b[1;32m   1746\u001b[0m         \u001b[38;5;129;01mor\u001b[39;00m _global_forward_hooks \u001b[38;5;129;01mor\u001b[39;00m _global_forward_pre_hooks):\n\u001b[0;32m-> 1747\u001b[0m     \u001b[38;5;28;01mreturn\u001b[39;00m \u001b[43mforward_call\u001b[49m\u001b[43m(\u001b[49m\u001b[38;5;241;43m*\u001b[39;49m\u001b[43margs\u001b[49m\u001b[43m,\u001b[49m\u001b[43m \u001b[49m\u001b[38;5;241;43m*\u001b[39;49m\u001b[38;5;241;43m*\u001b[39;49m\u001b[43mkwargs\u001b[49m\u001b[43m)\u001b[49m\n\u001b[1;32m   1749\u001b[0m result \u001b[38;5;241m=\u001b[39m \u001b[38;5;28;01mNone\u001b[39;00m\n\u001b[1;32m   1750\u001b[0m called_always_called_hooks \u001b[38;5;241m=\u001b[39m \u001b[38;5;28mset\u001b[39m()\n",
      "File \u001b[0;32m~/Desktop/Code-Edu24/unsuper/unsupervised-representation-learning-by-predicting-image-rotations-on-MNIST/models.py:54\u001b[0m, in \u001b[0;36mConvNet.forward\u001b[0;34m(self, x)\u001b[0m\n\u001b[1;32m     44\u001b[0m \u001b[38;5;250m\u001b[39m\u001b[38;5;124;03m\"\"\"\u001b[39;00m\n\u001b[1;32m     45\u001b[0m \u001b[38;5;124;03mForward pass of the RotNet model.\u001b[39;00m\n\u001b[1;32m     46\u001b[0m \n\u001b[0;32m   (...)\u001b[0m\n\u001b[1;32m     51\u001b[0m \u001b[38;5;124;03m    Tensor: Output logits of shape (batch_size, num_classes).\u001b[39;00m\n\u001b[1;32m     52\u001b[0m \u001b[38;5;124;03m\"\"\"\u001b[39;00m\n\u001b[1;32m     53\u001b[0m \u001b[38;5;28;01mfor\u001b[39;00m block \u001b[38;5;129;01min\u001b[39;00m \u001b[38;5;28mself\u001b[39m\u001b[38;5;241m.\u001b[39mblocks:\n\u001b[0;32m---> 54\u001b[0m     x \u001b[38;5;241m=\u001b[39m \u001b[43mblock\u001b[49m\u001b[43m(\u001b[49m\u001b[43mx\u001b[49m\u001b[43m)\u001b[49m\n\u001b[1;32m     55\u001b[0m x \u001b[38;5;241m=\u001b[39m \u001b[38;5;28mself\u001b[39m\u001b[38;5;241m.\u001b[39madaptive_pool(x)  \u001b[38;5;66;03m# Output size becomes (batch_size, channels, 1, 1)\u001b[39;00m\n\u001b[1;32m     56\u001b[0m x \u001b[38;5;241m=\u001b[39m x\u001b[38;5;241m.\u001b[39mview(x\u001b[38;5;241m.\u001b[39msize(\u001b[38;5;241m0\u001b[39m), \u001b[38;5;241m-\u001b[39m\u001b[38;5;241m1\u001b[39m)  \u001b[38;5;66;03m# Flatten for fully connected layer\u001b[39;00m\n",
      "File \u001b[0;32m~/.local/lib/python3.10/site-packages/torch/nn/modules/module.py:1736\u001b[0m, in \u001b[0;36mModule._wrapped_call_impl\u001b[0;34m(self, *args, **kwargs)\u001b[0m\n\u001b[1;32m   1734\u001b[0m     \u001b[38;5;28;01mreturn\u001b[39;00m \u001b[38;5;28mself\u001b[39m\u001b[38;5;241m.\u001b[39m_compiled_call_impl(\u001b[38;5;241m*\u001b[39margs, \u001b[38;5;241m*\u001b[39m\u001b[38;5;241m*\u001b[39mkwargs)  \u001b[38;5;66;03m# type: ignore[misc]\u001b[39;00m\n\u001b[1;32m   1735\u001b[0m \u001b[38;5;28;01melse\u001b[39;00m:\n\u001b[0;32m-> 1736\u001b[0m     \u001b[38;5;28;01mreturn\u001b[39;00m \u001b[38;5;28;43mself\u001b[39;49m\u001b[38;5;241;43m.\u001b[39;49m\u001b[43m_call_impl\u001b[49m\u001b[43m(\u001b[49m\u001b[38;5;241;43m*\u001b[39;49m\u001b[43margs\u001b[49m\u001b[43m,\u001b[49m\u001b[43m \u001b[49m\u001b[38;5;241;43m*\u001b[39;49m\u001b[38;5;241;43m*\u001b[39;49m\u001b[43mkwargs\u001b[49m\u001b[43m)\u001b[49m\n",
      "File \u001b[0;32m~/.local/lib/python3.10/site-packages/torch/nn/modules/module.py:1747\u001b[0m, in \u001b[0;36mModule._call_impl\u001b[0;34m(self, *args, **kwargs)\u001b[0m\n\u001b[1;32m   1742\u001b[0m \u001b[38;5;66;03m# If we don't have any hooks, we want to skip the rest of the logic in\u001b[39;00m\n\u001b[1;32m   1743\u001b[0m \u001b[38;5;66;03m# this function, and just call forward.\u001b[39;00m\n\u001b[1;32m   1744\u001b[0m \u001b[38;5;28;01mif\u001b[39;00m \u001b[38;5;129;01mnot\u001b[39;00m (\u001b[38;5;28mself\u001b[39m\u001b[38;5;241m.\u001b[39m_backward_hooks \u001b[38;5;129;01mor\u001b[39;00m \u001b[38;5;28mself\u001b[39m\u001b[38;5;241m.\u001b[39m_backward_pre_hooks \u001b[38;5;129;01mor\u001b[39;00m \u001b[38;5;28mself\u001b[39m\u001b[38;5;241m.\u001b[39m_forward_hooks \u001b[38;5;129;01mor\u001b[39;00m \u001b[38;5;28mself\u001b[39m\u001b[38;5;241m.\u001b[39m_forward_pre_hooks\n\u001b[1;32m   1745\u001b[0m         \u001b[38;5;129;01mor\u001b[39;00m _global_backward_pre_hooks \u001b[38;5;129;01mor\u001b[39;00m _global_backward_hooks\n\u001b[1;32m   1746\u001b[0m         \u001b[38;5;129;01mor\u001b[39;00m _global_forward_hooks \u001b[38;5;129;01mor\u001b[39;00m _global_forward_pre_hooks):\n\u001b[0;32m-> 1747\u001b[0m     \u001b[38;5;28;01mreturn\u001b[39;00m \u001b[43mforward_call\u001b[49m\u001b[43m(\u001b[49m\u001b[38;5;241;43m*\u001b[39;49m\u001b[43margs\u001b[49m\u001b[43m,\u001b[49m\u001b[43m \u001b[49m\u001b[38;5;241;43m*\u001b[39;49m\u001b[38;5;241;43m*\u001b[39;49m\u001b[43mkwargs\u001b[49m\u001b[43m)\u001b[49m\n\u001b[1;32m   1749\u001b[0m result \u001b[38;5;241m=\u001b[39m \u001b[38;5;28;01mNone\u001b[39;00m\n\u001b[1;32m   1750\u001b[0m called_always_called_hooks \u001b[38;5;241m=\u001b[39m \u001b[38;5;28mset\u001b[39m()\n",
      "File \u001b[0;32m~/.local/lib/python3.10/site-packages/torch/nn/modules/container.py:250\u001b[0m, in \u001b[0;36mSequential.forward\u001b[0;34m(self, input)\u001b[0m\n\u001b[1;32m    248\u001b[0m \u001b[38;5;28;01mdef\u001b[39;00m \u001b[38;5;21mforward\u001b[39m(\u001b[38;5;28mself\u001b[39m, \u001b[38;5;28minput\u001b[39m):\n\u001b[1;32m    249\u001b[0m     \u001b[38;5;28;01mfor\u001b[39;00m module \u001b[38;5;129;01min\u001b[39;00m \u001b[38;5;28mself\u001b[39m:\n\u001b[0;32m--> 250\u001b[0m         \u001b[38;5;28minput\u001b[39m \u001b[38;5;241m=\u001b[39m \u001b[43mmodule\u001b[49m\u001b[43m(\u001b[49m\u001b[38;5;28;43minput\u001b[39;49m\u001b[43m)\u001b[49m\n\u001b[1;32m    251\u001b[0m     \u001b[38;5;28;01mreturn\u001b[39;00m \u001b[38;5;28minput\u001b[39m\n",
      "File \u001b[0;32m~/.local/lib/python3.10/site-packages/torch/nn/modules/module.py:1736\u001b[0m, in \u001b[0;36mModule._wrapped_call_impl\u001b[0;34m(self, *args, **kwargs)\u001b[0m\n\u001b[1;32m   1734\u001b[0m     \u001b[38;5;28;01mreturn\u001b[39;00m \u001b[38;5;28mself\u001b[39m\u001b[38;5;241m.\u001b[39m_compiled_call_impl(\u001b[38;5;241m*\u001b[39margs, \u001b[38;5;241m*\u001b[39m\u001b[38;5;241m*\u001b[39mkwargs)  \u001b[38;5;66;03m# type: ignore[misc]\u001b[39;00m\n\u001b[1;32m   1735\u001b[0m \u001b[38;5;28;01melse\u001b[39;00m:\n\u001b[0;32m-> 1736\u001b[0m     \u001b[38;5;28;01mreturn\u001b[39;00m \u001b[38;5;28;43mself\u001b[39;49m\u001b[38;5;241;43m.\u001b[39;49m\u001b[43m_call_impl\u001b[49m\u001b[43m(\u001b[49m\u001b[38;5;241;43m*\u001b[39;49m\u001b[43margs\u001b[49m\u001b[43m,\u001b[49m\u001b[43m \u001b[49m\u001b[38;5;241;43m*\u001b[39;49m\u001b[38;5;241;43m*\u001b[39;49m\u001b[43mkwargs\u001b[49m\u001b[43m)\u001b[49m\n",
      "File \u001b[0;32m~/.local/lib/python3.10/site-packages/torch/nn/modules/module.py:1747\u001b[0m, in \u001b[0;36mModule._call_impl\u001b[0;34m(self, *args, **kwargs)\u001b[0m\n\u001b[1;32m   1742\u001b[0m \u001b[38;5;66;03m# If we don't have any hooks, we want to skip the rest of the logic in\u001b[39;00m\n\u001b[1;32m   1743\u001b[0m \u001b[38;5;66;03m# this function, and just call forward.\u001b[39;00m\n\u001b[1;32m   1744\u001b[0m \u001b[38;5;28;01mif\u001b[39;00m \u001b[38;5;129;01mnot\u001b[39;00m (\u001b[38;5;28mself\u001b[39m\u001b[38;5;241m.\u001b[39m_backward_hooks \u001b[38;5;129;01mor\u001b[39;00m \u001b[38;5;28mself\u001b[39m\u001b[38;5;241m.\u001b[39m_backward_pre_hooks \u001b[38;5;129;01mor\u001b[39;00m \u001b[38;5;28mself\u001b[39m\u001b[38;5;241m.\u001b[39m_forward_hooks \u001b[38;5;129;01mor\u001b[39;00m \u001b[38;5;28mself\u001b[39m\u001b[38;5;241m.\u001b[39m_forward_pre_hooks\n\u001b[1;32m   1745\u001b[0m         \u001b[38;5;129;01mor\u001b[39;00m _global_backward_pre_hooks \u001b[38;5;129;01mor\u001b[39;00m _global_backward_hooks\n\u001b[1;32m   1746\u001b[0m         \u001b[38;5;129;01mor\u001b[39;00m _global_forward_hooks \u001b[38;5;129;01mor\u001b[39;00m _global_forward_pre_hooks):\n\u001b[0;32m-> 1747\u001b[0m     \u001b[38;5;28;01mreturn\u001b[39;00m \u001b[43mforward_call\u001b[49m\u001b[43m(\u001b[49m\u001b[38;5;241;43m*\u001b[39;49m\u001b[43margs\u001b[49m\u001b[43m,\u001b[49m\u001b[43m \u001b[49m\u001b[38;5;241;43m*\u001b[39;49m\u001b[38;5;241;43m*\u001b[39;49m\u001b[43mkwargs\u001b[49m\u001b[43m)\u001b[49m\n\u001b[1;32m   1749\u001b[0m result \u001b[38;5;241m=\u001b[39m \u001b[38;5;28;01mNone\u001b[39;00m\n\u001b[1;32m   1750\u001b[0m called_always_called_hooks \u001b[38;5;241m=\u001b[39m \u001b[38;5;28mset\u001b[39m()\n",
      "File \u001b[0;32m~/.local/lib/python3.10/site-packages/torch/nn/modules/conv.py:554\u001b[0m, in \u001b[0;36mConv2d.forward\u001b[0;34m(self, input)\u001b[0m\n\u001b[1;32m    553\u001b[0m \u001b[38;5;28;01mdef\u001b[39;00m \u001b[38;5;21mforward\u001b[39m(\u001b[38;5;28mself\u001b[39m, \u001b[38;5;28minput\u001b[39m: Tensor) \u001b[38;5;241m-\u001b[39m\u001b[38;5;241m>\u001b[39m Tensor:\n\u001b[0;32m--> 554\u001b[0m     \u001b[38;5;28;01mreturn\u001b[39;00m \u001b[38;5;28;43mself\u001b[39;49m\u001b[38;5;241;43m.\u001b[39;49m\u001b[43m_conv_forward\u001b[49m\u001b[43m(\u001b[49m\u001b[38;5;28;43minput\u001b[39;49m\u001b[43m,\u001b[49m\u001b[43m \u001b[49m\u001b[38;5;28;43mself\u001b[39;49m\u001b[38;5;241;43m.\u001b[39;49m\u001b[43mweight\u001b[49m\u001b[43m,\u001b[49m\u001b[43m \u001b[49m\u001b[38;5;28;43mself\u001b[39;49m\u001b[38;5;241;43m.\u001b[39;49m\u001b[43mbias\u001b[49m\u001b[43m)\u001b[49m\n",
      "File \u001b[0;32m~/.local/lib/python3.10/site-packages/torch/nn/modules/conv.py:549\u001b[0m, in \u001b[0;36mConv2d._conv_forward\u001b[0;34m(self, input, weight, bias)\u001b[0m\n\u001b[1;32m    537\u001b[0m \u001b[38;5;28;01mif\u001b[39;00m \u001b[38;5;28mself\u001b[39m\u001b[38;5;241m.\u001b[39mpadding_mode \u001b[38;5;241m!=\u001b[39m \u001b[38;5;124m\"\u001b[39m\u001b[38;5;124mzeros\u001b[39m\u001b[38;5;124m\"\u001b[39m:\n\u001b[1;32m    538\u001b[0m     \u001b[38;5;28;01mreturn\u001b[39;00m F\u001b[38;5;241m.\u001b[39mconv2d(\n\u001b[1;32m    539\u001b[0m         F\u001b[38;5;241m.\u001b[39mpad(\n\u001b[1;32m    540\u001b[0m             \u001b[38;5;28minput\u001b[39m, \u001b[38;5;28mself\u001b[39m\u001b[38;5;241m.\u001b[39m_reversed_padding_repeated_twice, mode\u001b[38;5;241m=\u001b[39m\u001b[38;5;28mself\u001b[39m\u001b[38;5;241m.\u001b[39mpadding_mode\n\u001b[0;32m   (...)\u001b[0m\n\u001b[1;32m    547\u001b[0m         \u001b[38;5;28mself\u001b[39m\u001b[38;5;241m.\u001b[39mgroups,\n\u001b[1;32m    548\u001b[0m     )\n\u001b[0;32m--> 549\u001b[0m \u001b[38;5;28;01mreturn\u001b[39;00m \u001b[43mF\u001b[49m\u001b[38;5;241;43m.\u001b[39;49m\u001b[43mconv2d\u001b[49m\u001b[43m(\u001b[49m\n\u001b[1;32m    550\u001b[0m \u001b[43m    \u001b[49m\u001b[38;5;28;43minput\u001b[39;49m\u001b[43m,\u001b[49m\u001b[43m \u001b[49m\u001b[43mweight\u001b[49m\u001b[43m,\u001b[49m\u001b[43m \u001b[49m\u001b[43mbias\u001b[49m\u001b[43m,\u001b[49m\u001b[43m \u001b[49m\u001b[38;5;28;43mself\u001b[39;49m\u001b[38;5;241;43m.\u001b[39;49m\u001b[43mstride\u001b[49m\u001b[43m,\u001b[49m\u001b[43m \u001b[49m\u001b[38;5;28;43mself\u001b[39;49m\u001b[38;5;241;43m.\u001b[39;49m\u001b[43mpadding\u001b[49m\u001b[43m,\u001b[49m\u001b[43m \u001b[49m\u001b[38;5;28;43mself\u001b[39;49m\u001b[38;5;241;43m.\u001b[39;49m\u001b[43mdilation\u001b[49m\u001b[43m,\u001b[49m\u001b[43m \u001b[49m\u001b[38;5;28;43mself\u001b[39;49m\u001b[38;5;241;43m.\u001b[39;49m\u001b[43mgroups\u001b[49m\n\u001b[1;32m    551\u001b[0m \u001b[43m\u001b[49m\u001b[43m)\u001b[49m\n",
      "\u001b[0;31mKeyboardInterrupt\u001b[0m: "
     ]
    }
   ],
   "source": [
    "supervised_train_loader = DataLoader(supervised_dataset, \n",
    "                                     batch_size=8, \n",
    "                                     shuffle=True,\n",
    "                                     num_workers=4,\n",
    "                                     persistent_workers=True)\n",
    "supervised_val_loader = DataLoader(test_dataset, \n",
    "                                   batch_size=8, \n",
    "                                   shuffle=False,\n",
    "                                   num_workers=4,\n",
    "                                   persistent_workers=True)\n",
    "criterion=nn.CrossEntropyLoss()\n",
    "\n",
    "optimizer=torch.optim.Adam(MNIST_model.parameters(),\n",
    "                           lr=0.01,weight_decay=0.001)\n",
    "\n",
    "learning_rate_scheduler=torch.optim.lr_scheduler.StepLR(optimizer,\n",
    "                                                        step_size=50,gamma=0.5)\n",
    "\n",
    "train_convnet(MNIST_model,\n",
    "             supervised_train_loader,\n",
    "             supervised_val_loader,\n",
    "             criterion,optimizer,\n",
    "             learning_rate_scheduler,\n",
    "             num_epochs=500,\n",
    "             filename=f'baseline_model_{NUM_BLOCKS}.pth')"
   ]
  },
  {
   "cell_type": "markdown",
   "metadata": {},
   "source": [
    "## Evaluate"
   ]
  },
  {
   "cell_type": "code",
   "execution_count": 17,
   "metadata": {},
   "outputs": [
    {
     "name": "stderr",
     "output_type": "stream",
     "text": [
      "/tmp/ipykernel_599905/3501104208.py:1: FutureWarning: You are using `torch.load` with `weights_only=False` (the current default value), which uses the default pickle module implicitly. It is possible to construct malicious pickle data which will execute arbitrary code during unpickling (See https://github.com/pytorch/pytorch/blob/main/SECURITY.md#untrusted-models for more details). In a future release, the default value for `weights_only` will be flipped to `True`. This limits the functions that could be executed during unpickling. Arbitrary objects will no longer be allowed to be loaded via this mode unless they are explicitly allowlisted by the user via `torch.serialization.add_safe_globals`. We recommend you start setting `weights_only=True` for any use case where you don't have full control of the loaded file. Please open an issue on GitHub for any issues related to this experimental feature.\n",
      "  MNIST_model.load_state_dict(torch.load(f'./models/baseline_model_{NUM_BLOCKS}.pth'))\n"
     ]
    },
    {
     "data": {
      "text/plain": [
       "<All keys matched successfully>"
      ]
     },
     "execution_count": 17,
     "metadata": {},
     "output_type": "execute_result"
    }
   ],
   "source": [
    "MNIST_model.load_state_dict(torch.load(f'./models/baseline_model_{NUM_BLOCKS}.pth'))"
   ]
  },
  {
   "cell_type": "code",
   "execution_count": 18,
   "metadata": {},
   "outputs": [
    {
     "name": "stdout",
     "output_type": "stream",
     "text": [
      "Test Accuracy: 71.10%\n"
     ]
    }
   ],
   "source": [
    "evaluate_classifier(MNIST_model,supervised_val_loader)"
   ]
  },
  {
   "cell_type": "code",
   "execution_count": null,
   "metadata": {},
   "outputs": [],
   "source": []
  }
 ],
 "metadata": {
  "kernelspec": {
   "display_name": "Python 3",
   "language": "python",
   "name": "python3"
  },
  "language_info": {
   "codemirror_mode": {
    "name": "ipython",
    "version": 3
   },
   "file_extension": ".py",
   "mimetype": "text/x-python",
   "name": "python",
   "nbconvert_exporter": "python",
   "pygments_lexer": "ipython3",
   "version": "3.10.12"
  }
 },
 "nbformat": 4,
 "nbformat_minor": 2
}
