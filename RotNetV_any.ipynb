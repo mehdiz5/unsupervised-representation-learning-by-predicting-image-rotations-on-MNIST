{
 "cells": [
  {
   "cell_type": "code",
   "execution_count": 1,
   "metadata": {
    "id": "kAmaWPDIh60b"
   },
   "outputs": [],
   "source": [
    "import torch\n",
    "import random\n",
    "import numpy as np\n",
    "from torch.utils.data import DataLoader, Subset , random_split\n",
    "from torchvision import datasets, transforms\n",
    "import torch.nn as nn\n",
    "import matplotlib.pyplot as plt\n",
    "from tqdm.auto import tqdm\n"
   ]
  },
  {
   "cell_type": "code",
   "execution_count": 2,
   "metadata": {},
   "outputs": [],
   "source": [
    "ROTATION_NUMBER=8\n",
    "\n",
    "CONV_BLOCKS=4\n",
    "TRANSFER_LAYERS=2\n",
    "\n",
    "assert TRANSFER_LAYERS<=CONV_BLOCKS\n"
   ]
  },
  {
   "cell_type": "code",
   "execution_count": 3,
   "metadata": {},
   "outputs": [
    {
     "data": {
      "text/plain": [
       "[0.0, 45.0, 90.0, 135.0, 180.0, 225.0, 270.0, 315.0]"
      ]
     },
     "execution_count": 3,
     "metadata": {},
     "output_type": "execute_result"
    }
   ],
   "source": [
    "rotations=[i*360/(ROTATION_NUMBER) for i in range(ROTATION_NUMBER)]\n",
    "rotations"
   ]
  },
  {
   "cell_type": "markdown",
   "metadata": {},
   "source": [
    "### Transofmations"
   ]
  },
  {
   "cell_type": "code",
   "execution_count": 4,
   "metadata": {
    "id": "bHmiJnXvjAKY"
   },
   "outputs": [],
   "source": [
    "# -----------------------------------------\n",
    "class MinMaxScaler:\n",
    "    def __call__(self, sample):\n",
    "        return sample / 255\n",
    "\n",
    "\n",
    "min_transform = transforms.Compose([\n",
    "    transforms.ToTensor(),\n",
    "    MinMaxScaler()\n",
    "])\n",
    "\n",
    "aug_transform = transforms.Compose([\n",
    "    transforms.ToTensor(),                                    # Convert to tensor\n",
    "    MinMaxScaler()\n",
    "])"
   ]
  },
  {
   "cell_type": "markdown",
   "metadata": {},
   "source": [
    "## Datasets"
   ]
  },
  {
   "cell_type": "code",
   "execution_count": 5,
   "metadata": {},
   "outputs": [],
   "source": [
    "X_train = datasets.MNIST(root='./data', train=True, download=True, transform=aug_transform)\n",
    "X_test = datasets.MNIST(root='./data', train=False, download=True, transform=min_transform)"
   ]
  },
  {
   "cell_type": "markdown",
   "metadata": {},
   "source": [
    "## Spliting Data"
   ]
  },
  {
   "cell_type": "code",
   "execution_count": 6,
   "metadata": {},
   "outputs": [],
   "source": [
    "# Extract targets as a NumPy array\n",
    "targets = np.array(X_train.targets)\n",
    "\n",
    "# Select 10 indices for each class\n",
    "indices = []\n",
    "for digit in range(10):\n",
    "    digit_indices = np.where(targets == digit)[0][:10]  # Take first 10 samples for each digit\n",
    "    indices.extend(digit_indices)\n",
    "\n",
    "X_train_100 = Subset(X_train, indices)\n",
    "\n",
    "# take 100 \n",
    "\n",
    "full_unsupervised_set = X_train"
   ]
  },
  {
   "cell_type": "code",
   "execution_count": 7,
   "metadata": {
    "colab": {
     "base_uri": "https://localhost:8080/"
    },
    "id": "jYCyuMWXlIlo",
    "outputId": "17abd861-c5c7-4d16-cec6-aba626b2fac3"
   },
   "outputs": [
    {
     "name": "stdout",
     "output_type": "stream",
     "text": [
      "Unsupervised training set: 54000 samples\n",
      "Unsupervised validation set: 6000 samples\n"
     ]
    }
   ],
   "source": [
    "train_size = int(0.9 * len(full_unsupervised_set))\n",
    "val_size = len(full_unsupervised_set) - train_size\n",
    "\n",
    "unsupervised_train_set, unsupervised_val_set = random_split(full_unsupervised_set, \n",
    "                                                            [train_size, val_size])\n",
    "\n",
    "print(f\"Unsupervised training set: {len(unsupervised_train_set)} samples\")\n",
    "print(f\"Unsupervised validation set: {len(unsupervised_val_set)} samples\")\n"
   ]
  },
  {
   "cell_type": "markdown",
   "metadata": {},
   "source": [
    "# Rotation dataset"
   ]
  },
  {
   "cell_type": "code",
   "execution_count": 8,
   "metadata": {
    "id": "gUCUjS2-jfie"
   },
   "outputs": [],
   "source": [
    "# -----------------------------------------\n",
    "# 3. Define RotationDataset for Unsupervised Learning\n",
    "# -----------------------------------------\n",
    "class RotationDataset(torch.utils.data.Dataset):\n",
    "    \"\"\"Dataset that generates rotated versions of images with rotation labels (0°, 90°).\"\"\"\n",
    "    def __init__(self, dataset,rotations):\n",
    "        self.dataset = dataset\n",
    "        self.rotations = rotations\n",
    "        self.rotations_label = {element: index for index, element in enumerate(rotations)}\n",
    "\n",
    "    def __len__(self):\n",
    "        return len(self.dataset)\n",
    "\n",
    "    def __getitem__(self, idx):\n",
    "        image, _ = self.dataset[idx]\n",
    "\n",
    "        rotation_angle = random.choice(rotations)\n",
    "        rotated_image = transforms.functional.rotate(image, rotation_angle)\n",
    "        rotation_label=self.rotations_label[rotation_angle]\n",
    "\n",
    "        return rotated_image, rotation_label\n"
   ]
  },
  {
   "cell_type": "markdown",
   "metadata": {},
   "source": [
    "## Visulaize"
   ]
  },
  {
   "cell_type": "code",
   "execution_count": 9,
   "metadata": {
    "colab": {
     "base_uri": "https://localhost:8080/",
     "height": 465
    },
    "id": "vIgnTktJo_-i",
    "outputId": "d64bc78e-6b0b-44f5-9c14-5a280a691b89"
   },
   "outputs": [
    {
     "data": {
      "image/png": "[encoded data removed]",
      "text/plain": [
       "<Figure size 1400x1000 with 20 Axes>"
      ]
     },
     "metadata": {},
     "output_type": "display_data"
    }
   ],
   "source": [
    "num_images = 10\n",
    "num_cols = 2\n",
    "num_rows = (num_images + num_cols - 1) // num_cols\n",
    "\n",
    "fig, axes = plt.subplots(num_rows, num_cols * 2, figsize=(14, num_rows * 2))\n",
    "\n",
    "for i in range(num_images):\n",
    "    idx = torch.randint(0, len(unsupervised_train_set), (1,)).item()\n",
    "    original_image, _ =unsupervised_train_set[idx]\n",
    "\n",
    "    rotation_angle = random.choice(rotations)\n",
    "    rotated_image = transforms.functional.rotate(original_image, rotation_angle)\n",
    "\n",
    "    original_image = original_image.squeeze(0).numpy()\n",
    "    rotated_image = rotated_image.squeeze(0).numpy()\n",
    "\n",
    "    row, col = divmod(i, num_cols)\n",
    "    original_col = col * 2\n",
    "    rotated_col = col * 2 + 1\n",
    "\n",
    "    axes[row, original_col].imshow(original_image, cmap='gray')\n",
    "    axes[row, original_col].set_title(\"Original\", fontsize=8)\n",
    "    axes[row, original_col].axis('off')\n",
    "\n",
    "    axes[row, rotated_col].imshow(rotated_image, cmap='gray')\n",
    "    axes[row, rotated_col].set_title(f\"Rotated: {rotation_angle}°\", fontsize=8)\n",
    "    axes[row, rotated_col].axis('off')\n",
    "\n",
    "for ax in axes.flat:\n",
    "    ax.axis('off')\n",
    "\n",
    "plt.tight_layout()\n",
    "plt.show()\n",
    "\n"
   ]
  },
  {
   "cell_type": "markdown",
   "metadata": {},
   "source": [
    "# Defining Model"
   ]
  },
  {
   "cell_type": "code",
   "execution_count": null,
   "metadata": {
    "id": "Pg-1O8LQhyot"
   },
   "outputs": [],
   "source": [
    "# -----------------------------------------\n",
    "# 4. Define RotNet Model for Rotation Prediction\n",
    "# -----------------------------------------import torch\n",
    "class ConvNet(nn.Module):\n",
    "    \"\"\"Configurable RotNet model for self-supervised rotation prediction.\"\"\"\n",
    "    def __init__(self, input_image_size=28, num_blocks=CONV_BLOCKS, num_classes=8):\n",
    "        \"\"\"\n",
    "        Args:\n",
    "            input_image_size (int): Size of the input image (assuming square dimensions).\n",
    "            num_blocks (int): Number of convolutional blocks.\n",
    "            num_classes (int): Number of output classes (default is 4 for rotation angles).\n",
    "        \"\"\"\n",
    "        super(ConvNet, self).__init__()\n",
    "        \n",
    "        self.input_image_size = input_image_size\n",
    "        self.num_blocks = num_blocks\n",
    "        self.num_classes = num_classes\n",
    "\n",
    "        # Initialize convolutional blocks\n",
    "        in_channels = 1  # Assuming grayscale input\n",
    "        out_channels = 32\n",
    "\n",
    "        self.blocks = nn.ModuleList()\n",
    "        for _ in range(num_blocks):\n",
    "            self.blocks.append(\n",
    "                nn.Sequential(\n",
    "                    nn.Conv2d(in_channels, out_channels, kernel_size=3, padding=1),\n",
    "                    nn.BatchNorm2d(out_channels),\n",
    "                    nn.ReLU(),\n",
    "                    nn.MaxPool2d(2, 2)  # Reduces the image size by half\n",
    "                )\n",
    "            )\n",
    "            in_channels = out_channels\n",
    "            out_channels *= 2\n",
    "\n",
    "        # Adaptive average pooling to reduce to 1x1\n",
    "        self.adaptive_pool = nn.AdaptiveAvgPool2d(1)\n",
    "\n",
    "        # Fully connected layer (rotation prediction head)\n",
    "        self.rotation_head = nn.Linear(in_channels, num_classes)\n",
    "\n",
    "    def forward(self, x):\n",
    "        \"\"\"\n",
    "        Forward pass of the RotNet model.\n",
    "\n",
    "        Args:\n",
    "            x (Tensor): Input tensor of shape (batch_size, channels, height, width).\n",
    "\n",
    "        Returns:\n",
    "            Tensor: Output logits of shape (batch_size, num_classes).\n",
    "        \"\"\"\n",
    "        for block in self.blocks:\n",
    "            x = block(x)\n",
    "        x = self.adaptive_pool(x)  # Output size becomes (batch_size, channels, 1, 1)\n",
    "        x = x.view(x.size(0), -1)  # Flatten for fully connected layer\n",
    "        x = self.rotation_head(x)\n",
    "        return x\n"
   ]
  },
  {
   "cell_type": "code",
   "execution_count": 11,
   "metadata": {},
   "outputs": [
    {
     "data": {
      "text/plain": [
       "RotNet(\n",
       "  (blocks): ModuleList(\n",
       "    (0): Sequential(\n",
       "      (0): Conv2d(1, 32, kernel_size=(3, 3), stride=(1, 1), padding=(1, 1))\n",
       "      (1): BatchNorm2d(32, eps=1e-05, momentum=0.1, affine=True, track_running_stats=True)\n",
       "      (2): ReLU()\n",
       "      (3): MaxPool2d(kernel_size=2, stride=2, padding=0, dilation=1, ceil_mode=False)\n",
       "    )\n",
       "    (1): Sequential(\n",
       "      (0): Conv2d(32, 64, kernel_size=(3, 3), stride=(1, 1), padding=(1, 1))\n",
       "      (1): BatchNorm2d(64, eps=1e-05, momentum=0.1, affine=True, track_running_stats=True)\n",
       "      (2): ReLU()\n",
       "      (3): MaxPool2d(kernel_size=2, stride=2, padding=0, dilation=1, ceil_mode=False)\n",
       "    )\n",
       "    (2): Sequential(\n",
       "      (0): Conv2d(64, 128, kernel_size=(3, 3), stride=(1, 1), padding=(1, 1))\n",
       "      (1): BatchNorm2d(128, eps=1e-05, momentum=0.1, affine=True, track_running_stats=True)\n",
       "      (2): ReLU()\n",
       "      (3): MaxPool2d(kernel_size=2, stride=2, padding=0, dilation=1, ceil_mode=False)\n",
       "    )\n",
       "    (3): Sequential(\n",
       "      (0): Conv2d(128, 256, kernel_size=(3, 3), stride=(1, 1), padding=(1, 1))\n",
       "      (1): BatchNorm2d(256, eps=1e-05, momentum=0.1, affine=True, track_running_stats=True)\n",
       "      (2): ReLU()\n",
       "      (3): MaxPool2d(kernel_size=2, stride=2, padding=0, dilation=1, ceil_mode=False)\n",
       "    )\n",
       "  )\n",
       "  (adaptive_pool): AdaptiveAvgPool2d(output_size=1)\n",
       "  (rotation_head): Linear(in_features=256, out_features=8, bias=True)\n",
       ")"
      ]
     },
     "execution_count": 11,
     "metadata": {},
     "output_type": "execute_result"
    }
   ],
   "source": [
    "RotNet()"
   ]
  },
  {
   "cell_type": "code",
   "execution_count": 12,
   "metadata": {
    "id": "xnrJJyhMm8Y0"
   },
   "outputs": [
    {
     "name": "stderr",
     "output_type": "stream",
     "text": [
      "2024-11-28 14:57:23.833213: I tensorflow/core/util/port.cc:153] oneDNN custom operations are on. You may see slightly different numerical results due to floating-point round-off errors from different computation orders. To turn them off, set the environment variable `TF_ENABLE_ONEDNN_OPTS=0`.\n",
      "2024-11-28 14:57:23.841241: E external/local_xla/xla/stream_executor/cuda/cuda_fft.cc:477] Unable to register cuFFT factory: Attempting to register factory for plugin cuFFT when one has already been registered\n",
      "WARNING: All log messages before absl::InitializeLog() is called are written to STDERR\n",
      "E0000 00:00:1732802243.853305  236712 cuda_dnn.cc:8310] Unable to register cuDNN factory: Attempting to register factory for plugin cuDNN when one has already been registered\n",
      "E0000 00:00:1732802243.857027  236712 cuda_blas.cc:1418] Unable to register cuBLAS factory: Attempting to register factory for plugin cuBLAS when one has already been registered\n",
      "2024-11-28 14:57:23.869966: I tensorflow/core/platform/cpu_feature_guard.cc:210] This TensorFlow binary is optimized to use available CPU instructions in performance-critical operations.\n",
      "To enable the following instructions: AVX2 AVX512F AVX512_VNNI FMA, in other operations, rebuild TensorFlow with the appropriate compiler flags.\n",
      "/usr/lib/python3/dist-packages/requests/__init__.py:87: RequestsDependencyWarning: urllib3 (2.2.3) or chardet (4.0.0) doesn't match a supported version!\n",
      "  warnings.warn(\"urllib3 ({}) or chardet ({}) doesn't match a supported \"\n"
     ]
    }
   ],
   "source": [
    "import torch\n",
    "from torch.utils.tensorboard import SummaryWriter\n",
    "from tqdm import tqdm\n",
    "\n",
    "# Initialize TensorBoard\n",
    "def train_rotnet(model:torch.nn.Module, train_loader, val_loader, criterion, optimizer,learning_rate_scheduler, num_epochs=5,save_path='./model.pth'):\n",
    "    writer = SummaryWriter(log_dir=\"runs/rotnet_training\")\n",
    "    best_accuracy = 0\n",
    "    for epoch in range(num_epochs):\n",
    "        model.train()\n",
    "        total_loss = 0\n",
    "        correct = 0\n",
    "        total = 0\n",
    "\n",
    "        train_bar = tqdm(train_loader, desc=f\"Epoch {epoch+1}/{num_epochs} [Training]\", leave=True)\n",
    "        for step, (images, labels) in enumerate(train_bar):\n",
    "            images, labels = images.cuda(), labels.cuda()\n",
    "\n",
    "            # Forward pass\n",
    "            outputs = model(images)\n",
    "            loss = criterion(outputs, labels)\n",
    "\n",
    "            # Backward pass\n",
    "            optimizer.zero_grad()\n",
    "            loss.backward()\n",
    "\n",
    "            # Log gradients for each parameter\n",
    "            for name, param in model.named_parameters():\n",
    "                if param.requires_grad and param.grad is not None:\n",
    "                    writer.add_scalar(f\"Gradients/{name}\", param.grad.abs().mean().item(), epoch * len(train_loader) + step)\n",
    "\n",
    "            optimizer.step()\n",
    "            total_loss += loss.item()\n",
    "\n",
    "            # Calculate accuracy\n",
    "            _, predicted = torch.max(outputs, 1)\n",
    "            correct += (predicted == labels).sum().item()\n",
    "            total += labels.size(0)\n",
    "\n",
    "            # Log training loss and accuracy to TensorBoard\n",
    "            writer.add_scalar(\"Loss/Train\", loss.item(), epoch * len(train_loader) + step)\n",
    "            writer.add_scalar(\"Accuracy/Train\", (correct / total) * 100, epoch * len(train_loader) + step)\n",
    "\n",
    "            # Update progress bar\n",
    "            train_bar.set_postfix(loss=f\"{loss.item():.4f}\")\n",
    "\n",
    "        # Validation step\n",
    "        model.eval()\n",
    "        val_correct = 0\n",
    "        val_total = 0\n",
    "\n",
    "        val_bar = tqdm(val_loader, desc=f\"Epoch {epoch+1}/{num_epochs} [Validation]\", leave=True)\n",
    "        with torch.no_grad():\n",
    "            for step, (images, labels) in enumerate(val_bar):\n",
    "                images, labels = images.cuda(), labels.cuda()\n",
    "\n",
    "                # Forward pass\n",
    "                outputs = model(images)\n",
    "                loss = criterion(outputs, labels)\n",
    "\n",
    "                _, predicted = torch.max(outputs, 1)\n",
    "                val_total += labels.size(0)\n",
    "                val_correct += (predicted == labels).sum().item()\n",
    "\n",
    "                # Log validation loss to TensorBoard\n",
    "                writer.add_scalar(\"Loss/Validation\", loss.item(), epoch * len(val_loader) + step)\n",
    "\n",
    "            val_accuracy = 100 * val_correct / val_total\n",
    "\n",
    "            if val_accuracy>best_accuracy:\n",
    "                best_accuracy=val_accuracy\n",
    "                # save model\n",
    "                torch.save(model.state_dict(),save_path)\n",
    "\n",
    "\n",
    "        learning_rate_scheduler.step()\n",
    "\n",
    "        # Log validation accuracy to TensorBoard\n",
    "        writer.add_scalar(\"Accuracy/Validation\", val_accuracy, epoch)\n",
    "\n",
    "        # Print epoch results\n",
    "        print(f\"Epoch [{epoch+1}/{num_epochs}], Train Loss: {total_loss:.4f}, Train Accuracy: {correct/total*100:.2f}%, Validation Accuracy: {val_accuracy:.2f}%\")\n",
    "    writer.close()\n"
   ]
  },
  {
   "cell_type": "markdown",
   "metadata": {},
   "source": [
    "# Train rotnet"
   ]
  },
  {
   "cell_type": "code",
   "execution_count": 13,
   "metadata": {
    "colab": {
     "base_uri": "https://localhost:8080/",
     "height": 424,
     "referenced_widgets": [
      "86b4084fceca488aba10118904cb50a3",
      "da4ae60e3f884c889c9db37407eca980",
      "9b57da870abc47a1a0f091fc29ebd69e",
      "9d2c83c1d60a4c4aa023fe5c800cb955",
      "e670aa0b5d2b4bd4b99246fe610968cb",
      "446e54f07a5a444a8f999e52872108fa",
      "54ee4afa79394ce4844f1029a5b42c56",
      "ab9b649a573747af9792a502b6ccd328",
      "5e1501377f014dd5add0718aa456ac38",
      "bea973419f0f4db7859194c69166938a",
      "e8d3ffa1a2124da3bf7f596e772140ff",
      "588a0a29ae474e3d83d1672299319d89",
      "7d5f47be7f92453b927291bbe78f0e9e",
      "b9cb677246cd45e685fde53b7add73de",
      "df8f7c90473f47c3ae51cf9525a96172",
      "a3d493dee06b401484b0e4ffbad52ee6",
      "445fbeed37894768a155876d67ac9afd",
      "15cb791ef0614837bbac76a6f1085319",
      "b1a41b40761045b18b01cd8829b0300a",
      "54122f7aed0c494bad544230c51a088e",
      "cc682b14e0a04c4fb1894144a3ea95d2",
      "22cc54cfb4954af499773f2d665ce27a",
      "11fae5ec1d034860bd31c38c0582b632",
      "a0f3aee227994696b61eaf424091ae11",
      "07a90a2f640445ae8737e936dcc14925",
      "e28150eccf48490e86d832b95a98fd07",
      "873a0a4e759c423d9e4910a651cb8812",
      "b75bb8dd185f496f9157a4047fe0a8f7",
      "d076278d0a194d2c8dcb17550f917224",
      "37538bda99fd4b4b88bd8c89fff779f8",
      "f7aa240829f149e68e3e45d64b9a3cc7",
      "7218983a008c4a84b442cb2dcde953f9",
      "f8e4a6764adc4b3a90ff53fa3a71071d",
      "607bc1698bdd4c1a8a636280d068def8",
      "850f5cf0a047406eb15e3dfe63d84848",
      "96219f0fb82440d6b870a17621a9a8d9",
      "9ee05cf7c13546869c098753b3badf9e",
      "74a4908e8660474e9233e7d86789343f",
      "b032a47db5164807824699b5f71e40c6",
      "7a8ef0e9d8ef423e86e3018b5d801d5b",
      "ce1715d561ec4895845e26c297d8e69b",
      "ddcf1b0f01da4dcbbd216d8348be17dc",
      "a42f81f6e4454fce8773f62627011c25",
      "ab9dd2bb6a5b40439a910f58cfbe4dc7",
      "70ae20352f0f4e2380fc546e6b9b7a33",
      "340e4be3936e4b74b47a69477d76a6bc",
      "2389aedfe095404fb72bb014fec923b6",
      "83083e5bef9449d896e4f46ee3dfe92a",
      "fb516d124e334134bbbfc257c8f80fad",
      "37ea51b372b8497097e722853c0fc263",
      "037f7dee73f247649eba5148f266ebe9",
      "02a3565cc1604e2ea2598acbdc597408",
      "f1a9c8cbd7884d3ca42d4b6ba095c33b",
      "a3636330a6644ba69901363f0aea4630",
      "dff586fe42dd4bcc95d73e73486f9515",
      "93b16d3a6eaa42438083d73e14f45073",
      "8e93a6fed9b743268a8755eba5bb27d5",
      "0d46b69d700d44348c0db3b0d386db6e",
      "18a75f9ea9ce432b9d7333dd9efa868d",
      "64782f53389641da95ad85990caed560",
      "c2ca02dffc7e4c759f6aeb352d67741d",
      "7cc9d32798e64a00b7a0619fc3b9a27c",
      "6d6f218641af465dbdb67b9543619234",
      "0e3db0ad0a874c139e484f77de09a2c2",
      "c7285db3608b444aa67c1ae4c8972498",
      "5a030083645e49a08cbd6f0320239be8",
      "2e04426c474f4591853085e5164566ac",
      "50c0640e67a84eaaa5c422883a4d0c8d",
      "647ba985b34c4ce8bf46089710c00bb2",
      "07cf3ec65a15431a8bbbe979a7274f2f",
      "7ca2b0133c6a44208376eb9e4d3c26f7",
      "2e8b565ba3f944698aecb7172f03b90d",
      "cc9a445b0db74b6abdb6fd0ad580b295",
      "3d0b3b6dc1264759adc8cc95cb45463d",
      "66dd6b6fec154e0981d20e1a01a5fc76",
      "ed3737c90d6847709c4f484cfec2b452",
      "5c648f711d39471481b8113e44497cfa",
      "fe9e75d1b38443c2b8f4fe827746800d",
      "936641ef125e46cd82f4808f03296879",
      "20a611236c6744089cf00924205dab57",
      "f3c93b202ff5478791d3a1eddd63fa2b",
      "97c21b0e2272442eb64cae12f85501af",
      "097f69ef2dfa4a528d0060cff730fb81",
      "92c9cee5909e434fa5bde05044d4bb78",
      "00825bc3a76e4d73a910d291220558b9",
      "dfba4946fc6a406ea8dc384088c641a7",
      "7ae3a5e848234fd7b666250ed076da15",
      "d3b89625af90449c8e3d15dd078154e9",
      "7b81e40e97e3481eac8345f8faa01fb4",
      "c72af8f17fbc4c94a8a51ac271b7b291",
      "704c72c665e94cc4a2c5a8e318af1c6f",
      "503bf662589e4475a8874bb74efa8e3d",
      "af7730a3b0ca463d81a1771f0e926155",
      "f1a84e7319c842ad80c8b4a0666117c9",
      "df7f8718bd5046919b87853f9fd3f3a6",
      "a61f0cdf27134b2f956d5ba5615e4c92",
      "a4894d142c1c4579bba262f247b7ce14",
      "2422f804b98b4de99eb1ba2f8211b83b",
      "59c1a615501e40f98d2e7c6240892924",
      "c982b0146ba640cda98fd420458c8228",
      "25d41407d07048db8d2acbef35a84d71",
      "47c10d955b0c40c48cf62a1715d5339a",
      "53dd263f7cb140498b652eac64a79579",
      "759835839172474ca8dd92e6e9dd84fb",
      "2930e38bfae74a5fb91e68bcea0d3042",
      "d9f0f6d6993d4643b6d0c070fdf30df6",
      "887390c97d604b24996dd8e070507098",
      "f1039d496f5b431fa64b7599a9a2f7b7",
      "44e71c06c1c14b7a861ad6ff3647ea55",
      "4afc398a6ff8407eabef67df5729e7f1"
     ]
    },
    "id": "VYts5wOkh239",
    "outputId": "f798b1ba-413e-4f92-c695-b7fcfdee5993"
   },
   "outputs": [],
   "source": [
    "unsupervised_train_loader = DataLoader(RotationDataset(unsupervised_train_set,\n",
    "                                                       rotations=rotations), \n",
    "                                       batch_size=256,\n",
    "                                       shuffle=True,\n",
    "                                       num_workers=8,\n",
    "                                       persistent_workers=True)\n",
    "\n",
    "unsupervised_val_loader = DataLoader(RotationDataset(unsupervised_val_set,\n",
    "                                                     rotations=rotations), \n",
    "                                     batch_size=256, \n",
    "                                     shuffle=False,\n",
    "                                     num_workers=8,\n",
    "                                     persistent_workers=True)\n",
    "\n",
    "\n"
   ]
  },
  {
   "cell_type": "code",
   "execution_count": null,
   "metadata": {},
   "outputs": [],
   "source": [
    "rotnet = ConvNet(num_classes=len(rotations)).cuda()\n",
    "criterion = nn.CrossEntropyLoss()\n",
    "optimizer = torch.optim.Adam(rotnet.parameters(), lr=0.00001,weight_decay=0.001)\n",
    "learning_rate_scheduler = torch.optim.lr_scheduler.StepLR(optimizer, step_size=50, gamma=0.5)\n"
   ]
  },
  {
   "cell_type": "code",
   "execution_count": 15,
   "metadata": {},
   "outputs": [
    {
     "name": "stderr",
     "output_type": "stream",
     "text": [
      "Epoch 1/20 [Training]: 100%|██████████| 211/211 [00:03<00:00, 62.29it/s, loss=1.1920]\n",
      "Epoch 1/20 [Validation]: 100%|██████████| 24/24 [00:00<00:00, 55.99it/s]\n"
     ]
    },
    {
     "name": "stdout",
     "output_type": "stream",
     "text": [
      "Epoch [1/20], Train Loss: 326.6308, Train Accuracy: 49.54%, Validation Accuracy: 67.80%\n"
     ]
    },
    {
     "name": "stderr",
     "output_type": "stream",
     "text": [
      "Epoch 2/20 [Training]: 100%|██████████| 211/211 [00:02<00:00, 73.40it/s, loss=0.7314]\n",
      "Epoch 2/20 [Validation]: 100%|██████████| 24/24 [00:00<00:00, 93.57it/s]\n"
     ]
    },
    {
     "name": "stdout",
     "output_type": "stream",
     "text": [
      "Epoch [2/20], Train Loss: 199.8882, Train Accuracy: 75.75%, Validation Accuracy: 79.93%\n"
     ]
    },
    {
     "name": "stderr",
     "output_type": "stream",
     "text": [
      "Epoch 3/20 [Training]: 100%|██████████| 211/211 [00:03<00:00, 63.05it/s, loss=0.5369]\n",
      "Epoch 3/20 [Validation]: 100%|██████████| 24/24 [00:00<00:00, 113.48it/s]\n"
     ]
    },
    {
     "name": "stdout",
     "output_type": "stream",
     "text": [
      "Epoch [3/20], Train Loss: 134.0183, Train Accuracy: 85.99%, Validation Accuracy: 86.45%\n"
     ]
    },
    {
     "name": "stderr",
     "output_type": "stream",
     "text": [
      "Epoch 4/20 [Training]: 100%|██████████| 211/211 [00:02<00:00, 71.60it/s, loss=0.4142]\n",
      "Epoch 4/20 [Validation]: 100%|██████████| 24/24 [00:00<00:00, 105.58it/s]\n"
     ]
    },
    {
     "name": "stdout",
     "output_type": "stream",
     "text": [
      "Epoch [4/20], Train Loss: 98.9245, Train Accuracy: 90.60%, Validation Accuracy: 86.57%\n"
     ]
    },
    {
     "name": "stderr",
     "output_type": "stream",
     "text": [
      "Epoch 5/20 [Training]: 100%|██████████| 211/211 [00:02<00:00, 71.16it/s, loss=0.3348]\n",
      "Epoch 5/20 [Validation]: 100%|██████████| 24/24 [00:00<00:00, 105.57it/s]\n"
     ]
    },
    {
     "name": "stdout",
     "output_type": "stream",
     "text": [
      "Epoch [5/20], Train Loss: 78.3210, Train Accuracy: 92.95%, Validation Accuracy: 89.07%\n"
     ]
    },
    {
     "name": "stderr",
     "output_type": "stream",
     "text": [
      "Epoch 6/20 [Training]: 100%|██████████| 211/211 [00:03<00:00, 69.61it/s, loss=0.2567]\n",
      "Epoch 6/20 [Validation]: 100%|██████████| 24/24 [00:00<00:00, 98.92it/s]\n"
     ]
    },
    {
     "name": "stdout",
     "output_type": "stream",
     "text": [
      "Epoch [6/20], Train Loss: 64.9434, Train Accuracy: 94.26%, Validation Accuracy: 89.98%\n"
     ]
    },
    {
     "name": "stderr",
     "output_type": "stream",
     "text": [
      "Epoch 7/20 [Training]: 100%|██████████| 211/211 [00:03<00:00, 69.59it/s, loss=0.2938]\n",
      "Epoch 7/20 [Validation]: 100%|██████████| 24/24 [00:00<00:00, 99.79it/s]\n"
     ]
    },
    {
     "name": "stdout",
     "output_type": "stream",
     "text": [
      "Epoch [7/20], Train Loss: 55.1296, Train Accuracy: 95.22%, Validation Accuracy: 90.18%\n"
     ]
    },
    {
     "name": "stderr",
     "output_type": "stream",
     "text": [
      "Epoch 8/20 [Training]: 100%|██████████| 211/211 [00:03<00:00, 69.43it/s, loss=0.2063]\n",
      "Epoch 8/20 [Validation]: 100%|██████████| 24/24 [00:00<00:00, 94.54it/s]\n"
     ]
    },
    {
     "name": "stdout",
     "output_type": "stream",
     "text": [
      "Epoch [8/20], Train Loss: 47.8726, Train Accuracy: 95.73%, Validation Accuracy: 89.97%\n"
     ]
    },
    {
     "name": "stderr",
     "output_type": "stream",
     "text": [
      "Epoch 9/20 [Training]: 100%|██████████| 211/211 [00:03<00:00, 69.91it/s, loss=0.1553]\n",
      "Epoch 9/20 [Validation]: 100%|██████████| 24/24 [00:00<00:00, 99.02it/s]\n"
     ]
    },
    {
     "name": "stdout",
     "output_type": "stream",
     "text": [
      "Epoch [9/20], Train Loss: 42.1713, Train Accuracy: 96.23%, Validation Accuracy: 90.27%\n"
     ]
    },
    {
     "name": "stderr",
     "output_type": "stream",
     "text": [
      "Epoch 10/20 [Training]: 100%|██████████| 211/211 [00:03<00:00, 69.95it/s, loss=0.1541]\n",
      "Epoch 10/20 [Validation]: 100%|██████████| 24/24 [00:00<00:00, 79.14it/s]\n"
     ]
    },
    {
     "name": "stdout",
     "output_type": "stream",
     "text": [
      "Epoch [10/20], Train Loss: 37.7240, Train Accuracy: 96.62%, Validation Accuracy: 89.68%\n"
     ]
    },
    {
     "name": "stderr",
     "output_type": "stream",
     "text": [
      "Epoch 11/20 [Training]: 100%|██████████| 211/211 [00:03<00:00, 69.37it/s, loss=0.1376]\n",
      "Epoch 11/20 [Validation]: 100%|██████████| 24/24 [00:00<00:00, 100.85it/s]\n"
     ]
    },
    {
     "name": "stdout",
     "output_type": "stream",
     "text": [
      "Epoch [11/20], Train Loss: 34.0093, Train Accuracy: 96.96%, Validation Accuracy: 89.83%\n"
     ]
    },
    {
     "name": "stderr",
     "output_type": "stream",
     "text": [
      "Epoch 12/20 [Training]: 100%|██████████| 211/211 [00:03<00:00, 69.30it/s, loss=0.1617]\n",
      "Epoch 12/20 [Validation]: 100%|██████████| 24/24 [00:00<00:00, 105.52it/s]\n"
     ]
    },
    {
     "name": "stdout",
     "output_type": "stream",
     "text": [
      "Epoch [12/20], Train Loss: 30.9917, Train Accuracy: 97.15%, Validation Accuracy: 89.22%\n"
     ]
    },
    {
     "name": "stderr",
     "output_type": "stream",
     "text": [
      "Epoch 13/20 [Training]: 100%|██████████| 211/211 [00:03<00:00, 69.51it/s, loss=0.1194]\n",
      "Epoch 13/20 [Validation]: 100%|██████████| 24/24 [00:00<00:00, 97.91it/s]\n"
     ]
    },
    {
     "name": "stdout",
     "output_type": "stream",
     "text": [
      "Epoch [13/20], Train Loss: 28.4680, Train Accuracy: 97.38%, Validation Accuracy: 89.15%\n"
     ]
    },
    {
     "name": "stderr",
     "output_type": "stream",
     "text": [
      "Epoch 14/20 [Training]: 100%|██████████| 211/211 [00:03<00:00, 69.07it/s, loss=0.1118]\n",
      "Epoch 14/20 [Validation]: 100%|██████████| 24/24 [00:00<00:00, 104.75it/s]\n"
     ]
    },
    {
     "name": "stdout",
     "output_type": "stream",
     "text": [
      "Epoch [14/20], Train Loss: 26.5890, Train Accuracy: 97.54%, Validation Accuracy: 89.32%\n"
     ]
    },
    {
     "name": "stderr",
     "output_type": "stream",
     "text": [
      "Epoch 15/20 [Training]: 100%|██████████| 211/211 [00:03<00:00, 67.59it/s, loss=0.1281]\n",
      "Epoch 15/20 [Validation]: 100%|██████████| 24/24 [00:00<00:00, 53.01it/s]\n"
     ]
    },
    {
     "name": "stdout",
     "output_type": "stream",
     "text": [
      "Epoch [15/20], Train Loss: 24.6345, Train Accuracy: 97.69%, Validation Accuracy: 89.92%\n"
     ]
    },
    {
     "name": "stderr",
     "output_type": "stream",
     "text": [
      "Epoch 16/20 [Training]: 100%|██████████| 211/211 [00:03<00:00, 68.77it/s, loss=0.0919]\n",
      "Epoch 16/20 [Validation]: 100%|██████████| 24/24 [00:00<00:00, 96.43it/s]\n"
     ]
    },
    {
     "name": "stdout",
     "output_type": "stream",
     "text": [
      "Epoch [16/20], Train Loss: 22.7864, Train Accuracy: 97.87%, Validation Accuracy: 87.30%\n"
     ]
    },
    {
     "name": "stderr",
     "output_type": "stream",
     "text": [
      "Epoch 17/20 [Training]: 100%|██████████| 211/211 [00:03<00:00, 68.93it/s, loss=0.0992]\n",
      "Epoch 17/20 [Validation]: 100%|██████████| 24/24 [00:00<00:00, 98.00it/s]\n"
     ]
    },
    {
     "name": "stdout",
     "output_type": "stream",
     "text": [
      "Epoch [17/20], Train Loss: 21.5233, Train Accuracy: 97.95%, Validation Accuracy: 89.35%\n"
     ]
    },
    {
     "name": "stderr",
     "output_type": "stream",
     "text": [
      "Epoch 18/20 [Training]: 100%|██████████| 211/211 [00:03<00:00, 67.49it/s, loss=0.0806]\n",
      "Epoch 18/20 [Validation]: 100%|██████████| 24/24 [00:00<00:00, 97.89it/s]\n"
     ]
    },
    {
     "name": "stdout",
     "output_type": "stream",
     "text": [
      "Epoch [18/20], Train Loss: 20.3771, Train Accuracy: 98.09%, Validation Accuracy: 90.68%\n"
     ]
    },
    {
     "name": "stderr",
     "output_type": "stream",
     "text": [
      "Epoch 19/20 [Training]: 100%|██████████| 211/211 [00:03<00:00, 67.59it/s, loss=0.0810]\n",
      "Epoch 19/20 [Validation]: 100%|██████████| 24/24 [00:00<00:00, 47.31it/s]\n"
     ]
    },
    {
     "name": "stdout",
     "output_type": "stream",
     "text": [
      "Epoch [19/20], Train Loss: 19.2789, Train Accuracy: 98.12%, Validation Accuracy: 90.82%\n"
     ]
    },
    {
     "name": "stderr",
     "output_type": "stream",
     "text": [
      "Epoch 20/20 [Training]: 100%|██████████| 211/211 [00:03<00:00, 68.42it/s, loss=0.0787]\n",
      "Epoch 20/20 [Validation]: 100%|██████████| 24/24 [00:00<00:00, 95.36it/s]"
     ]
    },
    {
     "name": "stdout",
     "output_type": "stream",
     "text": [
      "Epoch [20/20], Train Loss: 18.1734, Train Accuracy: 98.26%, Validation Accuracy: 90.28%\n"
     ]
    },
    {
     "name": "stderr",
     "output_type": "stream",
     "text": [
      "\n",
      "/tmp/ipykernel_236712/552086884.py:10: FutureWarning: You are using `torch.load` with `weights_only=False` (the current default value), which uses the default pickle module implicitly. It is possible to construct malicious pickle data which will execute arbitrary code during unpickling (See https://github.com/pytorch/pytorch/blob/main/SECURITY.md#untrusted-models for more details). In a future release, the default value for `weights_only` will be flipped to `True`. This limits the functions that could be executed during unpickling. Arbitrary objects will no longer be allowed to be loaded via this mode unless they are explicitly allowlisted by the user via `torch.serialization.add_safe_globals`. We recommend you start setting `weights_only=True` for any use case where you don't have full control of the loaded file. Please open an issue on GitHub for any issues related to this experimental feature.\n",
      "  best_model=torch.load(f'best_rotnet{rotations}.pth')\n"
     ]
    }
   ],
   "source": [
    "# Train RotNe\n",
    "best_model = train_rotnet(rotnet, \n",
    "                 unsupervised_train_loader, \n",
    "                 unsupervised_val_loader,\n",
    "                 criterion,\n",
    "                 optimizer,\n",
    "                 learning_rate_scheduler, \n",
    "                 num_epochs=20,\n",
    "                 save_path=f'best_rotnet{rotations}.pth')\n",
    "best_model=torch.load(f'best_rotnet{rotations}.pth')\n",
    "    "
   ]
  },
  {
   "cell_type": "markdown",
   "metadata": {},
   "source": [
    "### Train Baseline"
   ]
  },
  {
   "cell_type": "code",
   "execution_count": 16,
   "metadata": {},
   "outputs": [],
   "source": [
    "supervised_train_loader = DataLoader(X_train_100, \n",
    "                                     batch_size=8,\n",
    "                                     shuffle=True,\n",
    "                                     num_workers=4,\n",
    "                                     persistent_workers=True)\n",
    "supervised_val_loader = DataLoader(X_test, \n",
    "                                   batch_size=128, \n",
    "                                   shuffle=False,\n",
    "                                   num_workers=4,\n",
    "                                   persistent_workers=True)"
   ]
  },
  {
   "cell_type": "code",
   "execution_count": null,
   "metadata": {},
   "outputs": [],
   "source": [
    "baseline_model=ConvNet(num_classes=10).cuda()\n",
    "\n",
    "criterion=nn.CrossEntropyLoss()\n",
    "optimizer=torch.optim.Adam(baseline_model.parameters(),lr=0.0001,weight_decay=0.001)\n",
    "learning_rate_scheduler=torch.optim.lr_scheduler.StepLR(optimizer,step_size=500,gamma=0.5)\n"
   ]
  },
  {
   "cell_type": "code",
   "execution_count": 18,
   "metadata": {},
   "outputs": [
    {
     "name": "stderr",
     "output_type": "stream",
     "text": [
      "Epoch 1/500 [Training]: 100%|██████████| 13/13 [00:00<00:00, 54.33it/s, loss=2.1781]\n",
      "Epoch 1/500 [Validation]: 100%|██████████| 79/79 [00:00<00:00, 205.33it/s]\n"
     ]
    },
    {
     "name": "stdout",
     "output_type": "stream",
     "text": [
      "Epoch [1/500], Train Loss: 28.5698, Train Accuracy: 25.00%, Validation Accuracy: 11.35%\n"
     ]
    },
    {
     "name": "stderr",
     "output_type": "stream",
     "text": [
      "Epoch 2/500 [Training]: 100%|██████████| 13/13 [00:00<00:00, 167.96it/s, loss=1.1505]\n",
      "Epoch 2/500 [Validation]: 100%|██████████| 79/79 [00:00<00:00, 354.74it/s]\n"
     ]
    },
    {
     "name": "stdout",
     "output_type": "stream",
     "text": [
      "Epoch [2/500], Train Loss: 17.6444, Train Accuracy: 85.00%, Validation Accuracy: 11.35%\n"
     ]
    },
    {
     "name": "stderr",
     "output_type": "stream",
     "text": [
      "Epoch 3/500 [Training]: 100%|██████████| 13/13 [00:00<00:00, 167.79it/s, loss=1.0773]\n",
      "Epoch 3/500 [Validation]: 100%|██████████| 79/79 [00:00<00:00, 327.43it/s]\n"
     ]
    },
    {
     "name": "stdout",
     "output_type": "stream",
     "text": [
      "Epoch [3/500], Train Loss: 11.9672, Train Accuracy: 95.00%, Validation Accuracy: 11.35%\n"
     ]
    },
    {
     "name": "stderr",
     "output_type": "stream",
     "text": [
      "Epoch 4/500 [Training]: 100%|██████████| 13/13 [00:00<00:00, 172.56it/s, loss=0.6089]\n",
      "Epoch 4/500 [Validation]: 100%|██████████| 79/79 [00:00<00:00, 332.34it/s]\n"
     ]
    },
    {
     "name": "stdout",
     "output_type": "stream",
     "text": [
      "Epoch [4/500], Train Loss: 7.9619, Train Accuracy: 97.00%, Validation Accuracy: 11.35%\n"
     ]
    },
    {
     "name": "stderr",
     "output_type": "stream",
     "text": [
      "Epoch 5/500 [Training]: 100%|██████████| 13/13 [00:00<00:00, 128.83it/s, loss=0.6635]\n",
      "Epoch 5/500 [Validation]: 100%|██████████| 79/79 [00:00<00:00, 348.84it/s]\n"
     ]
    },
    {
     "name": "stdout",
     "output_type": "stream",
     "text": [
      "Epoch [5/500], Train Loss: 5.4449, Train Accuracy: 97.00%, Validation Accuracy: 11.35%\n"
     ]
    },
    {
     "name": "stderr",
     "output_type": "stream",
     "text": [
      "Epoch 6/500 [Training]: 100%|██████████| 13/13 [00:00<00:00, 173.58it/s, loss=0.4260]\n",
      "Epoch 6/500 [Validation]: 100%|██████████| 79/79 [00:00<00:00, 293.57it/s]\n"
     ]
    },
    {
     "name": "stdout",
     "output_type": "stream",
     "text": [
      "Epoch [6/500], Train Loss: 3.7505, Train Accuracy: 100.00%, Validation Accuracy: 11.35%\n"
     ]
    },
    {
     "name": "stderr",
     "output_type": "stream",
     "text": [
      "Epoch 7/500 [Training]: 100%|██████████| 13/13 [00:00<00:00, 173.05it/s, loss=0.2726]\n",
      "Epoch 7/500 [Validation]: 100%|██████████| 79/79 [00:00<00:00, 299.47it/s]\n"
     ]
    },
    {
     "name": "stdout",
     "output_type": "stream",
     "text": [
      "Epoch [7/500], Train Loss: 2.6717, Train Accuracy: 100.00%, Validation Accuracy: 11.35%\n"
     ]
    },
    {
     "name": "stderr",
     "output_type": "stream",
     "text": [
      "Epoch 8/500 [Training]: 100%|██████████| 13/13 [00:00<00:00, 163.01it/s, loss=0.3466]\n",
      "Epoch 8/500 [Validation]: 100%|██████████| 79/79 [00:00<00:00, 307.31it/s]\n"
     ]
    },
    {
     "name": "stdout",
     "output_type": "stream",
     "text": [
      "Epoch [8/500], Train Loss: 2.0213, Train Accuracy: 100.00%, Validation Accuracy: 11.65%\n"
     ]
    },
    {
     "name": "stderr",
     "output_type": "stream",
     "text": [
      "Epoch 9/500 [Training]: 100%|██████████| 13/13 [00:00<00:00, 92.92it/s, loss=0.1188] \n",
      "Epoch 9/500 [Validation]: 100%|██████████| 79/79 [00:00<00:00, 337.07it/s]\n"
     ]
    },
    {
     "name": "stdout",
     "output_type": "stream",
     "text": [
      "Epoch [9/500], Train Loss: 1.5407, Train Accuracy: 100.00%, Validation Accuracy: 25.22%\n"
     ]
    },
    {
     "name": "stderr",
     "output_type": "stream",
     "text": [
      "Epoch 10/500 [Training]: 100%|██████████| 13/13 [00:00<00:00, 170.08it/s, loss=0.1810]\n",
      "Epoch 10/500 [Validation]: 100%|██████████| 79/79 [00:00<00:00, 349.40it/s]\n"
     ]
    },
    {
     "name": "stdout",
     "output_type": "stream",
     "text": [
      "Epoch [10/500], Train Loss: 1.3238, Train Accuracy: 100.00%, Validation Accuracy: 40.89%\n"
     ]
    },
    {
     "name": "stderr",
     "output_type": "stream",
     "text": [
      "Epoch 11/500 [Training]: 100%|██████████| 13/13 [00:00<00:00, 167.25it/s, loss=0.1060]\n",
      "Epoch 11/500 [Validation]: 100%|██████████| 79/79 [00:00<00:00, 291.70it/s]\n"
     ]
    },
    {
     "name": "stdout",
     "output_type": "stream",
     "text": [
      "Epoch [11/500], Train Loss: 1.0304, Train Accuracy: 100.00%, Validation Accuracy: 43.12%\n"
     ]
    },
    {
     "name": "stderr",
     "output_type": "stream",
     "text": [
      "Epoch 12/500 [Training]: 100%|██████████| 13/13 [00:00<00:00, 172.21it/s, loss=0.1187]\n",
      "Epoch 12/500 [Validation]: 100%|██████████| 79/79 [00:00<00:00, 325.29it/s]\n"
     ]
    },
    {
     "name": "stdout",
     "output_type": "stream",
     "text": [
      "Epoch [12/500], Train Loss: 0.8255, Train Accuracy: 100.00%, Validation Accuracy: 42.41%\n"
     ]
    },
    {
     "name": "stderr",
     "output_type": "stream",
     "text": [
      "Epoch 13/500 [Training]: 100%|██████████| 13/13 [00:00<00:00, 150.55it/s, loss=0.0508]\n",
      "Epoch 13/500 [Validation]: 100%|██████████| 79/79 [00:00<00:00, 310.34it/s]\n"
     ]
    },
    {
     "name": "stdout",
     "output_type": "stream",
     "text": [
      "Epoch [13/500], Train Loss: 0.7342, Train Accuracy: 100.00%, Validation Accuracy: 45.06%\n"
     ]
    },
    {
     "name": "stderr",
     "output_type": "stream",
     "text": [
      "Epoch 14/500 [Training]: 100%|██████████| 13/13 [00:00<00:00, 175.29it/s, loss=0.0652]\n",
      "Epoch 14/500 [Validation]: 100%|██████████| 79/79 [00:00<00:00, 338.21it/s]\n"
     ]
    },
    {
     "name": "stdout",
     "output_type": "stream",
     "text": [
      "Epoch [14/500], Train Loss: 0.6973, Train Accuracy: 100.00%, Validation Accuracy: 43.39%\n"
     ]
    },
    {
     "name": "stderr",
     "output_type": "stream",
     "text": [
      "Epoch 15/500 [Training]: 100%|██████████| 13/13 [00:00<00:00, 170.02it/s, loss=0.0336]\n",
      "Epoch 15/500 [Validation]: 100%|██████████| 79/79 [00:00<00:00, 315.50it/s]\n"
     ]
    },
    {
     "name": "stdout",
     "output_type": "stream",
     "text": [
      "Epoch [15/500], Train Loss: 0.5371, Train Accuracy: 100.00%, Validation Accuracy: 43.44%\n"
     ]
    },
    {
     "name": "stderr",
     "output_type": "stream",
     "text": [
      "Epoch 16/500 [Training]: 100%|██████████| 13/13 [00:00<00:00, 170.52it/s, loss=0.1089]\n",
      "Epoch 16/500 [Validation]: 100%|██████████| 79/79 [00:00<00:00, 353.02it/s]\n"
     ]
    },
    {
     "name": "stdout",
     "output_type": "stream",
     "text": [
      "Epoch [16/500], Train Loss: 0.5149, Train Accuracy: 100.00%, Validation Accuracy: 45.67%\n"
     ]
    },
    {
     "name": "stderr",
     "output_type": "stream",
     "text": [
      "Epoch 17/500 [Training]: 100%|██████████| 13/13 [00:00<00:00, 173.93it/s, loss=0.0542]\n",
      "Epoch 17/500 [Validation]: 100%|██████████| 79/79 [00:00<00:00, 311.66it/s]\n"
     ]
    },
    {
     "name": "stdout",
     "output_type": "stream",
     "text": [
      "Epoch [17/500], Train Loss: 0.4996, Train Accuracy: 100.00%, Validation Accuracy: 44.02%\n"
     ]
    },
    {
     "name": "stderr",
     "output_type": "stream",
     "text": [
      "Epoch 18/500 [Training]: 100%|██████████| 13/13 [00:00<00:00, 138.82it/s, loss=0.0402]\n",
      "Epoch 18/500 [Validation]: 100%|██████████| 79/79 [00:00<00:00, 325.55it/s]\n"
     ]
    },
    {
     "name": "stdout",
     "output_type": "stream",
     "text": [
      "Epoch [18/500], Train Loss: 0.4353, Train Accuracy: 100.00%, Validation Accuracy: 43.87%\n"
     ]
    },
    {
     "name": "stderr",
     "output_type": "stream",
     "text": [
      "Epoch 19/500 [Training]: 100%|██████████| 13/13 [00:00<00:00, 170.75it/s, loss=0.0454]\n",
      "Epoch 19/500 [Validation]: 100%|██████████| 79/79 [00:00<00:00, 312.15it/s]\n"
     ]
    },
    {
     "name": "stdout",
     "output_type": "stream",
     "text": [
      "Epoch [19/500], Train Loss: 0.4261, Train Accuracy: 100.00%, Validation Accuracy: 44.77%\n"
     ]
    },
    {
     "name": "stderr",
     "output_type": "stream",
     "text": [
      "Epoch 20/500 [Training]: 100%|██████████| 13/13 [00:00<00:00, 174.72it/s, loss=0.0282]\n",
      "Epoch 20/500 [Validation]: 100%|██████████| 79/79 [00:00<00:00, 348.81it/s]\n"
     ]
    },
    {
     "name": "stdout",
     "output_type": "stream",
     "text": [
      "Epoch [20/500], Train Loss: 0.3665, Train Accuracy: 100.00%, Validation Accuracy: 44.25%\n"
     ]
    },
    {
     "name": "stderr",
     "output_type": "stream",
     "text": [
      "Epoch 21/500 [Training]: 100%|██████████| 13/13 [00:00<00:00, 179.55it/s, loss=0.0378]\n",
      "Epoch 21/500 [Validation]: 100%|██████████| 79/79 [00:00<00:00, 321.84it/s]\n"
     ]
    },
    {
     "name": "stdout",
     "output_type": "stream",
     "text": [
      "Epoch [21/500], Train Loss: 0.3023, Train Accuracy: 100.00%, Validation Accuracy: 44.59%\n"
     ]
    },
    {
     "name": "stderr",
     "output_type": "stream",
     "text": [
      "Epoch 22/500 [Training]: 100%|██████████| 13/13 [00:00<00:00, 170.91it/s, loss=0.0671]\n",
      "Epoch 22/500 [Validation]: 100%|██████████| 79/79 [00:00<00:00, 317.12it/s]\n"
     ]
    },
    {
     "name": "stdout",
     "output_type": "stream",
     "text": [
      "Epoch [22/500], Train Loss: 0.3326, Train Accuracy: 100.00%, Validation Accuracy: 45.79%\n"
     ]
    },
    {
     "name": "stderr",
     "output_type": "stream",
     "text": [
      "Epoch 23/500 [Training]: 100%|██████████| 13/13 [00:00<00:00, 128.26it/s, loss=0.0278]\n",
      "Epoch 23/500 [Validation]: 100%|██████████| 79/79 [00:00<00:00, 347.21it/s]\n"
     ]
    },
    {
     "name": "stdout",
     "output_type": "stream",
     "text": [
      "Epoch [23/500], Train Loss: 0.2946, Train Accuracy: 100.00%, Validation Accuracy: 45.21%\n"
     ]
    },
    {
     "name": "stderr",
     "output_type": "stream",
     "text": [
      "Epoch 24/500 [Training]: 100%|██████████| 13/13 [00:00<00:00, 165.64it/s, loss=0.0243]\n",
      "Epoch 24/500 [Validation]: 100%|██████████| 79/79 [00:00<00:00, 307.51it/s]\n"
     ]
    },
    {
     "name": "stdout",
     "output_type": "stream",
     "text": [
      "Epoch [24/500], Train Loss: 0.2470, Train Accuracy: 100.00%, Validation Accuracy: 45.17%\n"
     ]
    },
    {
     "name": "stderr",
     "output_type": "stream",
     "text": [
      "Epoch 25/500 [Training]: 100%|██████████| 13/13 [00:00<00:00, 171.22it/s, loss=0.0259]\n",
      "Epoch 25/500 [Validation]: 100%|██████████| 79/79 [00:00<00:00, 312.20it/s]\n"
     ]
    },
    {
     "name": "stdout",
     "output_type": "stream",
     "text": [
      "Epoch [25/500], Train Loss: 0.2541, Train Accuracy: 100.00%, Validation Accuracy: 45.25%\n"
     ]
    },
    {
     "name": "stderr",
     "output_type": "stream",
     "text": [
      "Epoch 26/500 [Training]: 100%|██████████| 13/13 [00:00<00:00, 173.43it/s, loss=0.0205]\n",
      "Epoch 26/500 [Validation]: 100%|██████████| 79/79 [00:00<00:00, 332.58it/s]\n"
     ]
    },
    {
     "name": "stdout",
     "output_type": "stream",
     "text": [
      "Epoch [26/500], Train Loss: 0.2212, Train Accuracy: 100.00%, Validation Accuracy: 45.74%\n"
     ]
    },
    {
     "name": "stderr",
     "output_type": "stream",
     "text": [
      "Epoch 27/500 [Training]: 100%|██████████| 13/13 [00:00<00:00, 127.82it/s, loss=0.0220]\n",
      "Epoch 27/500 [Validation]: 100%|██████████| 79/79 [00:00<00:00, 325.07it/s]\n"
     ]
    },
    {
     "name": "stdout",
     "output_type": "stream",
     "text": [
      "Epoch [27/500], Train Loss: 0.1907, Train Accuracy: 100.00%, Validation Accuracy: 46.17%\n"
     ]
    },
    {
     "name": "stderr",
     "output_type": "stream",
     "text": [
      "Epoch 28/500 [Training]: 100%|██████████| 13/13 [00:00<00:00, 169.82it/s, loss=0.0127]\n",
      "Epoch 28/500 [Validation]: 100%|██████████| 79/79 [00:00<00:00, 287.59it/s]\n"
     ]
    },
    {
     "name": "stdout",
     "output_type": "stream",
     "text": [
      "Epoch [28/500], Train Loss: 0.2004, Train Accuracy: 100.00%, Validation Accuracy: 45.92%\n"
     ]
    },
    {
     "name": "stderr",
     "output_type": "stream",
     "text": [
      "Epoch 29/500 [Training]: 100%|██████████| 13/13 [00:00<00:00, 175.41it/s, loss=0.0418]\n",
      "Epoch 29/500 [Validation]: 100%|██████████| 79/79 [00:00<00:00, 338.82it/s]\n"
     ]
    },
    {
     "name": "stdout",
     "output_type": "stream",
     "text": [
      "Epoch [29/500], Train Loss: 0.1988, Train Accuracy: 100.00%, Validation Accuracy: 47.91%\n"
     ]
    },
    {
     "name": "stderr",
     "output_type": "stream",
     "text": [
      "Epoch 30/500 [Training]: 100%|██████████| 13/13 [00:00<00:00, 173.33it/s, loss=0.0158]\n",
      "Epoch 30/500 [Validation]: 100%|██████████| 79/79 [00:00<00:00, 334.02it/s]\n"
     ]
    },
    {
     "name": "stdout",
     "output_type": "stream",
     "text": [
      "Epoch [30/500], Train Loss: 0.1993, Train Accuracy: 100.00%, Validation Accuracy: 47.29%\n"
     ]
    },
    {
     "name": "stderr",
     "output_type": "stream",
     "text": [
      "Epoch 31/500 [Training]: 100%|██████████| 13/13 [00:00<00:00, 176.35it/s, loss=0.0109]\n",
      "Epoch 31/500 [Validation]: 100%|██████████| 79/79 [00:00<00:00, 306.60it/s]\n"
     ]
    },
    {
     "name": "stdout",
     "output_type": "stream",
     "text": [
      "Epoch [31/500], Train Loss: 0.1547, Train Accuracy: 100.00%, Validation Accuracy: 47.83%\n"
     ]
    },
    {
     "name": "stderr",
     "output_type": "stream",
     "text": [
      "Epoch 32/500 [Training]: 100%|██████████| 13/13 [00:00<00:00, 89.15it/s, loss=0.0128]\n",
      "Epoch 32/500 [Validation]: 100%|██████████| 79/79 [00:00<00:00, 289.63it/s]\n"
     ]
    },
    {
     "name": "stdout",
     "output_type": "stream",
     "text": [
      "Epoch [32/500], Train Loss: 0.1596, Train Accuracy: 100.00%, Validation Accuracy: 46.43%\n"
     ]
    },
    {
     "name": "stderr",
     "output_type": "stream",
     "text": [
      "Epoch 33/500 [Training]: 100%|██████████| 13/13 [00:00<00:00, 178.45it/s, loss=0.0137]\n",
      "Epoch 33/500 [Validation]: 100%|██████████| 79/79 [00:00<00:00, 298.23it/s]\n"
     ]
    },
    {
     "name": "stdout",
     "output_type": "stream",
     "text": [
      "Epoch [33/500], Train Loss: 0.1408, Train Accuracy: 100.00%, Validation Accuracy: 47.41%\n"
     ]
    },
    {
     "name": "stderr",
     "output_type": "stream",
     "text": [
      "Epoch 34/500 [Training]: 100%|██████████| 13/13 [00:00<00:00, 179.39it/s, loss=0.0143]\n",
      "Epoch 34/500 [Validation]: 100%|██████████| 79/79 [00:00<00:00, 319.88it/s]\n"
     ]
    },
    {
     "name": "stdout",
     "output_type": "stream",
     "text": [
      "Epoch [34/500], Train Loss: 0.1360, Train Accuracy: 100.00%, Validation Accuracy: 47.17%\n"
     ]
    },
    {
     "name": "stderr",
     "output_type": "stream",
     "text": [
      "Epoch 35/500 [Training]: 100%|██████████| 13/13 [00:00<00:00, 168.05it/s, loss=0.0137]\n",
      "Epoch 35/500 [Validation]: 100%|██████████| 79/79 [00:00<00:00, 314.46it/s]\n"
     ]
    },
    {
     "name": "stdout",
     "output_type": "stream",
     "text": [
      "Epoch [35/500], Train Loss: 0.1353, Train Accuracy: 100.00%, Validation Accuracy: 48.19%\n"
     ]
    },
    {
     "name": "stderr",
     "output_type": "stream",
     "text": [
      "Epoch 36/500 [Training]: 100%|██████████| 13/13 [00:00<00:00, 172.33it/s, loss=0.0157]\n",
      "Epoch 36/500 [Validation]: 100%|██████████| 79/79 [00:00<00:00, 283.86it/s]\n"
     ]
    },
    {
     "name": "stdout",
     "output_type": "stream",
     "text": [
      "Epoch [36/500], Train Loss: 0.1236, Train Accuracy: 100.00%, Validation Accuracy: 47.22%\n"
     ]
    },
    {
     "name": "stderr",
     "output_type": "stream",
     "text": [
      "Epoch 37/500 [Training]: 100%|██████████| 13/13 [00:00<00:00, 166.34it/s, loss=0.0124]\n",
      "Epoch 37/500 [Validation]: 100%|██████████| 79/79 [00:00<00:00, 331.63it/s]\n"
     ]
    },
    {
     "name": "stdout",
     "output_type": "stream",
     "text": [
      "Epoch [37/500], Train Loss: 0.1277, Train Accuracy: 100.00%, Validation Accuracy: 48.57%\n"
     ]
    },
    {
     "name": "stderr",
     "output_type": "stream",
     "text": [
      "Epoch 38/500 [Training]: 100%|██████████| 13/13 [00:00<00:00, 169.73it/s, loss=0.0084]\n",
      "Epoch 38/500 [Validation]: 100%|██████████| 79/79 [00:00<00:00, 273.98it/s]\n"
     ]
    },
    {
     "name": "stdout",
     "output_type": "stream",
     "text": [
      "Epoch [38/500], Train Loss: 0.1218, Train Accuracy: 100.00%, Validation Accuracy: 47.66%\n"
     ]
    },
    {
     "name": "stderr",
     "output_type": "stream",
     "text": [
      "Epoch 39/500 [Training]: 100%|██████████| 13/13 [00:00<00:00, 164.06it/s, loss=0.0099]\n",
      "Epoch 39/500 [Validation]: 100%|██████████| 79/79 [00:00<00:00, 281.91it/s]\n"
     ]
    },
    {
     "name": "stdout",
     "output_type": "stream",
     "text": [
      "Epoch [39/500], Train Loss: 0.1108, Train Accuracy: 100.00%, Validation Accuracy: 49.54%\n"
     ]
    },
    {
     "name": "stderr",
     "output_type": "stream",
     "text": [
      "Epoch 40/500 [Training]: 100%|██████████| 13/13 [00:00<00:00, 175.05it/s, loss=0.0116]\n",
      "Epoch 40/500 [Validation]: 100%|██████████| 79/79 [00:00<00:00, 299.72it/s]\n"
     ]
    },
    {
     "name": "stdout",
     "output_type": "stream",
     "text": [
      "Epoch [40/500], Train Loss: 0.1183, Train Accuracy: 100.00%, Validation Accuracy: 48.57%\n"
     ]
    },
    {
     "name": "stderr",
     "output_type": "stream",
     "text": [
      "Epoch 41/500 [Training]: 100%|██████████| 13/13 [00:00<00:00, 175.25it/s, loss=0.0109]\n",
      "Epoch 41/500 [Validation]: 100%|██████████| 79/79 [00:00<00:00, 322.13it/s]\n"
     ]
    },
    {
     "name": "stdout",
     "output_type": "stream",
     "text": [
      "Epoch [41/500], Train Loss: 0.1018, Train Accuracy: 100.00%, Validation Accuracy: 49.95%\n"
     ]
    },
    {
     "name": "stderr",
     "output_type": "stream",
     "text": [
      "Epoch 42/500 [Training]: 100%|██████████| 13/13 [00:00<00:00, 165.71it/s, loss=0.0332]\n",
      "Epoch 42/500 [Validation]: 100%|██████████| 79/79 [00:00<00:00, 305.86it/s]\n"
     ]
    },
    {
     "name": "stdout",
     "output_type": "stream",
     "text": [
      "Epoch [42/500], Train Loss: 0.1256, Train Accuracy: 100.00%, Validation Accuracy: 50.64%\n"
     ]
    },
    {
     "name": "stderr",
     "output_type": "stream",
     "text": [
      "Epoch 43/500 [Training]: 100%|██████████| 13/13 [00:00<00:00, 120.64it/s, loss=0.0072]\n",
      "Epoch 43/500 [Validation]: 100%|██████████| 79/79 [00:00<00:00, 324.18it/s]\n"
     ]
    },
    {
     "name": "stdout",
     "output_type": "stream",
     "text": [
      "Epoch [43/500], Train Loss: 0.0977, Train Accuracy: 100.00%, Validation Accuracy: 48.23%\n"
     ]
    },
    {
     "name": "stderr",
     "output_type": "stream",
     "text": [
      "Epoch 44/500 [Training]: 100%|██████████| 13/13 [00:00<00:00, 175.58it/s, loss=0.0081]\n",
      "Epoch 44/500 [Validation]: 100%|██████████| 79/79 [00:00<00:00, 295.75it/s]\n"
     ]
    },
    {
     "name": "stdout",
     "output_type": "stream",
     "text": [
      "Epoch [44/500], Train Loss: 0.1015, Train Accuracy: 100.00%, Validation Accuracy: 48.86%\n"
     ]
    },
    {
     "name": "stderr",
     "output_type": "stream",
     "text": [
      "Epoch 45/500 [Training]: 100%|██████████| 13/13 [00:00<00:00, 171.51it/s, loss=0.0368]\n",
      "Epoch 45/500 [Validation]: 100%|██████████| 79/79 [00:00<00:00, 327.37it/s]\n"
     ]
    },
    {
     "name": "stdout",
     "output_type": "stream",
     "text": [
      "Epoch [45/500], Train Loss: 0.1229, Train Accuracy: 100.00%, Validation Accuracy: 50.02%\n"
     ]
    },
    {
     "name": "stderr",
     "output_type": "stream",
     "text": [
      "Epoch 46/500 [Training]: 100%|██████████| 13/13 [00:00<00:00, 175.41it/s, loss=0.0233]\n",
      "Epoch 46/500 [Validation]: 100%|██████████| 79/79 [00:00<00:00, 300.94it/s]\n"
     ]
    },
    {
     "name": "stdout",
     "output_type": "stream",
     "text": [
      "Epoch [46/500], Train Loss: 0.1052, Train Accuracy: 100.00%, Validation Accuracy: 51.92%\n"
     ]
    },
    {
     "name": "stderr",
     "output_type": "stream",
     "text": [
      "Epoch 47/500 [Training]: 100%|██████████| 13/13 [00:00<00:00, 177.51it/s, loss=0.0136]\n",
      "Epoch 47/500 [Validation]: 100%|██████████| 79/79 [00:00<00:00, 314.26it/s]\n"
     ]
    },
    {
     "name": "stdout",
     "output_type": "stream",
     "text": [
      "Epoch [47/500], Train Loss: 0.0802, Train Accuracy: 100.00%, Validation Accuracy: 51.69%\n"
     ]
    },
    {
     "name": "stderr",
     "output_type": "stream",
     "text": [
      "Epoch 48/500 [Training]: 100%|██████████| 13/13 [00:00<00:00, 135.97it/s, loss=0.0068]\n",
      "Epoch 48/500 [Validation]: 100%|██████████| 79/79 [00:00<00:00, 308.92it/s]\n"
     ]
    },
    {
     "name": "stdout",
     "output_type": "stream",
     "text": [
      "Epoch [48/500], Train Loss: 0.0834, Train Accuracy: 100.00%, Validation Accuracy: 51.67%\n"
     ]
    },
    {
     "name": "stderr",
     "output_type": "stream",
     "text": [
      "Epoch 49/500 [Training]: 100%|██████████| 13/13 [00:00<00:00, 174.48it/s, loss=0.0048]\n",
      "Epoch 49/500 [Validation]: 100%|██████████| 79/79 [00:00<00:00, 280.78it/s]\n"
     ]
    },
    {
     "name": "stdout",
     "output_type": "stream",
     "text": [
      "Epoch [49/500], Train Loss: 0.0758, Train Accuracy: 100.00%, Validation Accuracy: 51.69%\n"
     ]
    },
    {
     "name": "stderr",
     "output_type": "stream",
     "text": [
      "Epoch 50/500 [Training]: 100%|██████████| 13/13 [00:00<00:00, 168.10it/s, loss=0.0068]\n",
      "Epoch 50/500 [Validation]: 100%|██████████| 79/79 [00:00<00:00, 334.03it/s]\n"
     ]
    },
    {
     "name": "stdout",
     "output_type": "stream",
     "text": [
      "Epoch [50/500], Train Loss: 0.0745, Train Accuracy: 100.00%, Validation Accuracy: 49.91%\n"
     ]
    },
    {
     "name": "stderr",
     "output_type": "stream",
     "text": [
      "Epoch 51/500 [Training]: 100%|██████████| 13/13 [00:00<00:00, 168.47it/s, loss=0.0066]\n",
      "Epoch 51/500 [Validation]: 100%|██████████| 79/79 [00:00<00:00, 329.35it/s]\n"
     ]
    },
    {
     "name": "stdout",
     "output_type": "stream",
     "text": [
      "Epoch [51/500], Train Loss: 0.0865, Train Accuracy: 100.00%, Validation Accuracy: 51.05%\n"
     ]
    },
    {
     "name": "stderr",
     "output_type": "stream",
     "text": [
      "Epoch 52/500 [Training]: 100%|██████████| 13/13 [00:00<00:00, 143.27it/s, loss=0.0124]\n",
      "Epoch 52/500 [Validation]: 100%|██████████| 79/79 [00:00<00:00, 289.89it/s]\n"
     ]
    },
    {
     "name": "stdout",
     "output_type": "stream",
     "text": [
      "Epoch [52/500], Train Loss: 0.0802, Train Accuracy: 100.00%, Validation Accuracy: 50.76%\n"
     ]
    },
    {
     "name": "stderr",
     "output_type": "stream",
     "text": [
      "Epoch 53/500 [Training]: 100%|██████████| 13/13 [00:00<00:00, 172.15it/s, loss=0.0136]\n",
      "Epoch 53/500 [Validation]: 100%|██████████| 79/79 [00:00<00:00, 323.04it/s]\n"
     ]
    },
    {
     "name": "stdout",
     "output_type": "stream",
     "text": [
      "Epoch [53/500], Train Loss: 0.0756, Train Accuracy: 100.00%, Validation Accuracy: 51.42%\n"
     ]
    },
    {
     "name": "stderr",
     "output_type": "stream",
     "text": [
      "Epoch 54/500 [Training]: 100%|██████████| 13/13 [00:00<00:00, 174.68it/s, loss=0.0089]\n",
      "Epoch 54/500 [Validation]: 100%|██████████| 79/79 [00:00<00:00, 310.77it/s]\n"
     ]
    },
    {
     "name": "stdout",
     "output_type": "stream",
     "text": [
      "Epoch [54/500], Train Loss: 0.0690, Train Accuracy: 100.00%, Validation Accuracy: 51.54%\n"
     ]
    },
    {
     "name": "stderr",
     "output_type": "stream",
     "text": [
      "Epoch 55/500 [Training]: 100%|██████████| 13/13 [00:00<00:00, 164.33it/s, loss=0.0046]\n",
      "Epoch 55/500 [Validation]: 100%|██████████| 79/79 [00:00<00:00, 325.33it/s]\n"
     ]
    },
    {
     "name": "stdout",
     "output_type": "stream",
     "text": [
      "Epoch [55/500], Train Loss: 0.0710, Train Accuracy: 100.00%, Validation Accuracy: 51.07%\n"
     ]
    },
    {
     "name": "stderr",
     "output_type": "stream",
     "text": [
      "Epoch 56/500 [Training]: 100%|██████████| 13/13 [00:00<00:00, 170.81it/s, loss=0.0071]\n",
      "Epoch 56/500 [Validation]: 100%|██████████| 79/79 [00:00<00:00, 293.55it/s]\n"
     ]
    },
    {
     "name": "stdout",
     "output_type": "stream",
     "text": [
      "Epoch [56/500], Train Loss: 0.0598, Train Accuracy: 100.00%, Validation Accuracy: 52.50%\n"
     ]
    },
    {
     "name": "stderr",
     "output_type": "stream",
     "text": [
      "Epoch 57/500 [Training]: 100%|██████████| 13/13 [00:00<00:00, 152.79it/s, loss=0.0115]\n",
      "Epoch 57/500 [Validation]: 100%|██████████| 79/79 [00:00<00:00, 305.51it/s]\n"
     ]
    },
    {
     "name": "stdout",
     "output_type": "stream",
     "text": [
      "Epoch [57/500], Train Loss: 0.0707, Train Accuracy: 100.00%, Validation Accuracy: 52.00%\n"
     ]
    },
    {
     "name": "stderr",
     "output_type": "stream",
     "text": [
      "Epoch 58/500 [Training]: 100%|██████████| 13/13 [00:00<00:00, 169.44it/s, loss=0.0082]\n",
      "Epoch 58/500 [Validation]: 100%|██████████| 79/79 [00:00<00:00, 308.32it/s]\n"
     ]
    },
    {
     "name": "stdout",
     "output_type": "stream",
     "text": [
      "Epoch [58/500], Train Loss: 0.0681, Train Accuracy: 100.00%, Validation Accuracy: 53.58%\n"
     ]
    },
    {
     "name": "stderr",
     "output_type": "stream",
     "text": [
      "Epoch 59/500 [Training]: 100%|██████████| 13/13 [00:00<00:00, 176.06it/s, loss=0.0039]\n",
      "Epoch 59/500 [Validation]: 100%|██████████| 79/79 [00:00<00:00, 317.37it/s]\n"
     ]
    },
    {
     "name": "stdout",
     "output_type": "stream",
     "text": [
      "Epoch [59/500], Train Loss: 0.0725, Train Accuracy: 100.00%, Validation Accuracy: 52.63%\n"
     ]
    },
    {
     "name": "stderr",
     "output_type": "stream",
     "text": [
      "Epoch 60/500 [Training]: 100%|██████████| 13/13 [00:00<00:00, 170.25it/s, loss=0.0057]\n",
      "Epoch 60/500 [Validation]: 100%|██████████| 79/79 [00:00<00:00, 284.56it/s]\n"
     ]
    },
    {
     "name": "stdout",
     "output_type": "stream",
     "text": [
      "Epoch [60/500], Train Loss: 0.0533, Train Accuracy: 100.00%, Validation Accuracy: 53.67%\n"
     ]
    },
    {
     "name": "stderr",
     "output_type": "stream",
     "text": [
      "Epoch 61/500 [Training]: 100%|██████████| 13/13 [00:00<00:00, 115.33it/s, loss=0.0045]\n",
      "Epoch 61/500 [Validation]: 100%|██████████| 79/79 [00:00<00:00, 333.13it/s]\n"
     ]
    },
    {
     "name": "stdout",
     "output_type": "stream",
     "text": [
      "Epoch [61/500], Train Loss: 0.0538, Train Accuracy: 100.00%, Validation Accuracy: 53.78%\n"
     ]
    },
    {
     "name": "stderr",
     "output_type": "stream",
     "text": [
      "Epoch 62/500 [Training]: 100%|██████████| 13/13 [00:00<00:00, 170.27it/s, loss=0.0048]\n",
      "Epoch 62/500 [Validation]: 100%|██████████| 79/79 [00:00<00:00, 304.92it/s]\n"
     ]
    },
    {
     "name": "stdout",
     "output_type": "stream",
     "text": [
      "Epoch [62/500], Train Loss: 0.0523, Train Accuracy: 100.00%, Validation Accuracy: 54.41%\n"
     ]
    },
    {
     "name": "stderr",
     "output_type": "stream",
     "text": [
      "Epoch 63/500 [Training]: 100%|██████████| 13/13 [00:00<00:00, 171.61it/s, loss=0.0115]\n",
      "Epoch 63/500 [Validation]: 100%|██████████| 79/79 [00:00<00:00, 293.59it/s]\n"
     ]
    },
    {
     "name": "stdout",
     "output_type": "stream",
     "text": [
      "Epoch [63/500], Train Loss: 0.0615, Train Accuracy: 100.00%, Validation Accuracy: 54.56%\n"
     ]
    },
    {
     "name": "stderr",
     "output_type": "stream",
     "text": [
      "Epoch 64/500 [Training]: 100%|██████████| 13/13 [00:00<00:00, 170.62it/s, loss=0.0110]\n",
      "Epoch 64/500 [Validation]: 100%|██████████| 79/79 [00:00<00:00, 304.15it/s]\n"
     ]
    },
    {
     "name": "stdout",
     "output_type": "stream",
     "text": [
      "Epoch [64/500], Train Loss: 0.0537, Train Accuracy: 100.00%, Validation Accuracy: 54.41%\n"
     ]
    },
    {
     "name": "stderr",
     "output_type": "stream",
     "text": [
      "Epoch 65/500 [Training]: 100%|██████████| 13/13 [00:00<00:00, 169.36it/s, loss=0.0034]\n",
      "Epoch 65/500 [Validation]: 100%|██████████| 79/79 [00:00<00:00, 331.09it/s]\n"
     ]
    },
    {
     "name": "stdout",
     "output_type": "stream",
     "text": [
      "Epoch [65/500], Train Loss: 0.0527, Train Accuracy: 100.00%, Validation Accuracy: 55.04%\n"
     ]
    },
    {
     "name": "stderr",
     "output_type": "stream",
     "text": [
      "Epoch 66/500 [Training]: 100%|██████████| 13/13 [00:00<00:00, 130.40it/s, loss=0.0064]\n",
      "Epoch 66/500 [Validation]: 100%|██████████| 79/79 [00:00<00:00, 311.12it/s]\n"
     ]
    },
    {
     "name": "stdout",
     "output_type": "stream",
     "text": [
      "Epoch [66/500], Train Loss: 0.0514, Train Accuracy: 100.00%, Validation Accuracy: 54.66%\n"
     ]
    },
    {
     "name": "stderr",
     "output_type": "stream",
     "text": [
      "Epoch 67/500 [Training]: 100%|██████████| 13/13 [00:00<00:00, 173.62it/s, loss=0.0055]\n",
      "Epoch 67/500 [Validation]: 100%|██████████| 79/79 [00:00<00:00, 317.28it/s]\n"
     ]
    },
    {
     "name": "stdout",
     "output_type": "stream",
     "text": [
      "Epoch [67/500], Train Loss: 0.0485, Train Accuracy: 100.00%, Validation Accuracy: 55.08%\n"
     ]
    },
    {
     "name": "stderr",
     "output_type": "stream",
     "text": [
      "Epoch 68/500 [Training]: 100%|██████████| 13/13 [00:00<00:00, 172.58it/s, loss=0.0084]\n",
      "Epoch 68/500 [Validation]: 100%|██████████| 79/79 [00:00<00:00, 291.84it/s]\n"
     ]
    },
    {
     "name": "stdout",
     "output_type": "stream",
     "text": [
      "Epoch [68/500], Train Loss: 0.0512, Train Accuracy: 100.00%, Validation Accuracy: 54.66%\n"
     ]
    },
    {
     "name": "stderr",
     "output_type": "stream",
     "text": [
      "Epoch 69/500 [Training]: 100%|██████████| 13/13 [00:00<00:00, 174.90it/s, loss=0.0069]\n",
      "Epoch 69/500 [Validation]: 100%|██████████| 79/79 [00:00<00:00, 315.69it/s]\n"
     ]
    },
    {
     "name": "stdout",
     "output_type": "stream",
     "text": [
      "Epoch [69/500], Train Loss: 0.0449, Train Accuracy: 100.00%, Validation Accuracy: 55.15%\n"
     ]
    },
    {
     "name": "stderr",
     "output_type": "stream",
     "text": [
      "Epoch 70/500 [Training]: 100%|██████████| 13/13 [00:00<00:00, 166.99it/s, loss=0.0058]\n",
      "Epoch 70/500 [Validation]: 100%|██████████| 79/79 [00:00<00:00, 304.30it/s]\n"
     ]
    },
    {
     "name": "stdout",
     "output_type": "stream",
     "text": [
      "Epoch [70/500], Train Loss: 0.0488, Train Accuracy: 100.00%, Validation Accuracy: 55.58%\n"
     ]
    },
    {
     "name": "stderr",
     "output_type": "stream",
     "text": [
      "Epoch 71/500 [Training]: 100%|██████████| 13/13 [00:00<00:00, 105.26it/s, loss=0.0066]\n",
      "Epoch 71/500 [Validation]: 100%|██████████| 79/79 [00:00<00:00, 308.71it/s]\n"
     ]
    },
    {
     "name": "stdout",
     "output_type": "stream",
     "text": [
      "Epoch [71/500], Train Loss: 0.0491, Train Accuracy: 100.00%, Validation Accuracy: 55.42%\n"
     ]
    },
    {
     "name": "stderr",
     "output_type": "stream",
     "text": [
      "Epoch 72/500 [Training]: 100%|██████████| 13/13 [00:00<00:00, 164.87it/s, loss=0.0046]\n",
      "Epoch 72/500 [Validation]: 100%|██████████| 79/79 [00:00<00:00, 345.16it/s]\n"
     ]
    },
    {
     "name": "stdout",
     "output_type": "stream",
     "text": [
      "Epoch [72/500], Train Loss: 0.0470, Train Accuracy: 100.00%, Validation Accuracy: 55.61%\n"
     ]
    },
    {
     "name": "stderr",
     "output_type": "stream",
     "text": [
      "Epoch 73/500 [Training]: 100%|██████████| 13/13 [00:00<00:00, 159.45it/s, loss=0.0058]\n",
      "Epoch 73/500 [Validation]: 100%|██████████| 79/79 [00:00<00:00, 315.14it/s]\n"
     ]
    },
    {
     "name": "stdout",
     "output_type": "stream",
     "text": [
      "Epoch [73/500], Train Loss: 0.0421, Train Accuracy: 100.00%, Validation Accuracy: 56.27%\n"
     ]
    },
    {
     "name": "stderr",
     "output_type": "stream",
     "text": [
      "Epoch 74/500 [Training]: 100%|██████████| 13/13 [00:00<00:00, 168.51it/s, loss=0.0052]\n",
      "Epoch 74/500 [Validation]: 100%|██████████| 79/79 [00:00<00:00, 308.07it/s]\n"
     ]
    },
    {
     "name": "stdout",
     "output_type": "stream",
     "text": [
      "Epoch [74/500], Train Loss: 0.0465, Train Accuracy: 100.00%, Validation Accuracy: 56.17%\n"
     ]
    },
    {
     "name": "stderr",
     "output_type": "stream",
     "text": [
      "Epoch 75/500 [Training]: 100%|██████████| 13/13 [00:00<00:00, 126.54it/s, loss=0.0039]\n",
      "Epoch 75/500 [Validation]: 100%|██████████| 79/79 [00:00<00:00, 343.26it/s]\n"
     ]
    },
    {
     "name": "stdout",
     "output_type": "stream",
     "text": [
      "Epoch [75/500], Train Loss: 0.0443, Train Accuracy: 100.00%, Validation Accuracy: 56.57%\n"
     ]
    },
    {
     "name": "stderr",
     "output_type": "stream",
     "text": [
      "Epoch 76/500 [Training]: 100%|██████████| 13/13 [00:00<00:00, 173.01it/s, loss=0.0071]\n",
      "Epoch 76/500 [Validation]: 100%|██████████| 79/79 [00:00<00:00, 315.87it/s]\n"
     ]
    },
    {
     "name": "stdout",
     "output_type": "stream",
     "text": [
      "Epoch [76/500], Train Loss: 0.0409, Train Accuracy: 100.00%, Validation Accuracy: 56.63%\n"
     ]
    },
    {
     "name": "stderr",
     "output_type": "stream",
     "text": [
      "Epoch 77/500 [Training]: 100%|██████████| 13/13 [00:00<00:00, 166.52it/s, loss=0.0066]\n",
      "Epoch 77/500 [Validation]: 100%|██████████| 79/79 [00:00<00:00, 313.18it/s]\n"
     ]
    },
    {
     "name": "stdout",
     "output_type": "stream",
     "text": [
      "Epoch [77/500], Train Loss: 0.0433, Train Accuracy: 100.00%, Validation Accuracy: 56.20%\n"
     ]
    },
    {
     "name": "stderr",
     "output_type": "stream",
     "text": [
      "Epoch 78/500 [Training]: 100%|██████████| 13/13 [00:00<00:00, 172.47it/s, loss=0.0031]\n",
      "Epoch 78/500 [Validation]: 100%|██████████| 79/79 [00:00<00:00, 278.33it/s]\n"
     ]
    },
    {
     "name": "stdout",
     "output_type": "stream",
     "text": [
      "Epoch [78/500], Train Loss: 0.0397, Train Accuracy: 100.00%, Validation Accuracy: 57.22%\n"
     ]
    },
    {
     "name": "stderr",
     "output_type": "stream",
     "text": [
      "Epoch 79/500 [Training]: 100%|██████████| 13/13 [00:00<00:00, 101.87it/s, loss=0.0069]\n",
      "Epoch 79/500 [Validation]: 100%|██████████| 79/79 [00:00<00:00, 329.40it/s]\n"
     ]
    },
    {
     "name": "stdout",
     "output_type": "stream",
     "text": [
      "Epoch [79/500], Train Loss: 0.0447, Train Accuracy: 100.00%, Validation Accuracy: 57.86%\n"
     ]
    },
    {
     "name": "stderr",
     "output_type": "stream",
     "text": [
      "Epoch 80/500 [Training]: 100%|██████████| 13/13 [00:00<00:00, 178.20it/s, loss=0.0045]\n",
      "Epoch 80/500 [Validation]: 100%|██████████| 79/79 [00:00<00:00, 332.83it/s]\n"
     ]
    },
    {
     "name": "stdout",
     "output_type": "stream",
     "text": [
      "Epoch [80/500], Train Loss: 0.0379, Train Accuracy: 100.00%, Validation Accuracy: 57.90%\n"
     ]
    },
    {
     "name": "stderr",
     "output_type": "stream",
     "text": [
      "Epoch 81/500 [Training]: 100%|██████████| 13/13 [00:00<00:00, 167.29it/s, loss=0.0019]\n",
      "Epoch 81/500 [Validation]: 100%|██████████| 79/79 [00:00<00:00, 308.52it/s]\n"
     ]
    },
    {
     "name": "stdout",
     "output_type": "stream",
     "text": [
      "Epoch [81/500], Train Loss: 0.0328, Train Accuracy: 100.00%, Validation Accuracy: 57.33%\n"
     ]
    },
    {
     "name": "stderr",
     "output_type": "stream",
     "text": [
      "Epoch 82/500 [Training]: 100%|██████████| 13/13 [00:00<00:00, 174.82it/s, loss=0.0023]\n",
      "Epoch 82/500 [Validation]: 100%|██████████| 79/79 [00:00<00:00, 285.14it/s]\n"
     ]
    },
    {
     "name": "stdout",
     "output_type": "stream",
     "text": [
      "Epoch [82/500], Train Loss: 0.0341, Train Accuracy: 100.00%, Validation Accuracy: 58.77%\n"
     ]
    },
    {
     "name": "stderr",
     "output_type": "stream",
     "text": [
      "Epoch 83/500 [Training]: 100%|██████████| 13/13 [00:00<00:00, 170.22it/s, loss=0.0040]\n",
      "Epoch 83/500 [Validation]: 100%|██████████| 79/79 [00:00<00:00, 357.74it/s]\n"
     ]
    },
    {
     "name": "stdout",
     "output_type": "stream",
     "text": [
      "Epoch [83/500], Train Loss: 0.0367, Train Accuracy: 100.00%, Validation Accuracy: 58.71%\n"
     ]
    },
    {
     "name": "stderr",
     "output_type": "stream",
     "text": [
      "Epoch 84/500 [Training]: 100%|██████████| 13/13 [00:00<00:00, 131.21it/s, loss=0.0034]\n",
      "Epoch 84/500 [Validation]: 100%|██████████| 79/79 [00:00<00:00, 323.85it/s]\n"
     ]
    },
    {
     "name": "stdout",
     "output_type": "stream",
     "text": [
      "Epoch [84/500], Train Loss: 0.0361, Train Accuracy: 100.00%, Validation Accuracy: 58.77%\n"
     ]
    },
    {
     "name": "stderr",
     "output_type": "stream",
     "text": [
      "Epoch 85/500 [Training]: 100%|██████████| 13/13 [00:00<00:00, 171.79it/s, loss=0.0057]\n",
      "Epoch 85/500 [Validation]: 100%|██████████| 79/79 [00:00<00:00, 336.09it/s]\n"
     ]
    },
    {
     "name": "stdout",
     "output_type": "stream",
     "text": [
      "Epoch [85/500], Train Loss: 0.0396, Train Accuracy: 100.00%, Validation Accuracy: 59.10%\n"
     ]
    },
    {
     "name": "stderr",
     "output_type": "stream",
     "text": [
      "Epoch 86/500 [Training]: 100%|██████████| 13/13 [00:00<00:00, 169.92it/s, loss=0.0056]\n",
      "Epoch 86/500 [Validation]: 100%|██████████| 79/79 [00:00<00:00, 298.01it/s]\n"
     ]
    },
    {
     "name": "stdout",
     "output_type": "stream",
     "text": [
      "Epoch [86/500], Train Loss: 0.0395, Train Accuracy: 100.00%, Validation Accuracy: 60.10%\n"
     ]
    },
    {
     "name": "stderr",
     "output_type": "stream",
     "text": [
      "Epoch 87/500 [Training]: 100%|██████████| 13/13 [00:00<00:00, 172.64it/s, loss=0.0033]\n",
      "Epoch 87/500 [Validation]: 100%|██████████| 79/79 [00:00<00:00, 337.44it/s]\n"
     ]
    },
    {
     "name": "stdout",
     "output_type": "stream",
     "text": [
      "Epoch [87/500], Train Loss: 0.0331, Train Accuracy: 100.00%, Validation Accuracy: 59.31%\n"
     ]
    },
    {
     "name": "stderr",
     "output_type": "stream",
     "text": [
      "Epoch 88/500 [Training]: 100%|██████████| 13/13 [00:00<00:00, 131.67it/s, loss=0.0018]\n",
      "Epoch 88/500 [Validation]: 100%|██████████| 79/79 [00:00<00:00, 312.41it/s]\n"
     ]
    },
    {
     "name": "stdout",
     "output_type": "stream",
     "text": [
      "Epoch [88/500], Train Loss: 0.0357, Train Accuracy: 100.00%, Validation Accuracy: 58.35%\n"
     ]
    },
    {
     "name": "stderr",
     "output_type": "stream",
     "text": [
      "Epoch 89/500 [Training]: 100%|██████████| 13/13 [00:00<00:00, 176.04it/s, loss=0.0027]\n",
      "Epoch 89/500 [Validation]: 100%|██████████| 79/79 [00:00<00:00, 298.21it/s]\n"
     ]
    },
    {
     "name": "stdout",
     "output_type": "stream",
     "text": [
      "Epoch [89/500], Train Loss: 0.0352, Train Accuracy: 100.00%, Validation Accuracy: 59.54%\n"
     ]
    },
    {
     "name": "stderr",
     "output_type": "stream",
     "text": [
      "Epoch 90/500 [Training]: 100%|██████████| 13/13 [00:00<00:00, 168.93it/s, loss=0.0030]\n",
      "Epoch 90/500 [Validation]: 100%|██████████| 79/79 [00:00<00:00, 333.32it/s]\n"
     ]
    },
    {
     "name": "stdout",
     "output_type": "stream",
     "text": [
      "Epoch [90/500], Train Loss: 0.0299, Train Accuracy: 100.00%, Validation Accuracy: 58.48%\n"
     ]
    },
    {
     "name": "stderr",
     "output_type": "stream",
     "text": [
      "Epoch 91/500 [Training]: 100%|██████████| 13/13 [00:00<00:00, 170.96it/s, loss=0.0032]\n",
      "Epoch 91/500 [Validation]: 100%|██████████| 79/79 [00:00<00:00, 313.31it/s]\n"
     ]
    },
    {
     "name": "stdout",
     "output_type": "stream",
     "text": [
      "Epoch [91/500], Train Loss: 0.0295, Train Accuracy: 100.00%, Validation Accuracy: 59.01%\n"
     ]
    },
    {
     "name": "stderr",
     "output_type": "stream",
     "text": [
      "Epoch 92/500 [Training]: 100%|██████████| 13/13 [00:00<00:00, 172.40it/s, loss=0.0036]\n",
      "Epoch 92/500 [Validation]: 100%|██████████| 79/79 [00:00<00:00, 335.14it/s]\n"
     ]
    },
    {
     "name": "stdout",
     "output_type": "stream",
     "text": [
      "Epoch [92/500], Train Loss: 0.0310, Train Accuracy: 100.00%, Validation Accuracy: 59.49%\n"
     ]
    },
    {
     "name": "stderr",
     "output_type": "stream",
     "text": [
      "Epoch 93/500 [Training]: 100%|██████████| 13/13 [00:00<00:00, 120.61it/s, loss=0.0029]\n",
      "Epoch 93/500 [Validation]: 100%|██████████| 79/79 [00:00<00:00, 296.37it/s]\n"
     ]
    },
    {
     "name": "stdout",
     "output_type": "stream",
     "text": [
      "Epoch [93/500], Train Loss: 0.0281, Train Accuracy: 100.00%, Validation Accuracy: 60.31%\n"
     ]
    },
    {
     "name": "stderr",
     "output_type": "stream",
     "text": [
      "Epoch 94/500 [Training]: 100%|██████████| 13/13 [00:00<00:00, 174.22it/s, loss=0.1437]\n",
      "Epoch 94/500 [Validation]: 100%|██████████| 79/79 [00:00<00:00, 330.83it/s]\n"
     ]
    },
    {
     "name": "stdout",
     "output_type": "stream",
     "text": [
      "Epoch [94/500], Train Loss: 0.1726, Train Accuracy: 100.00%, Validation Accuracy: 59.49%\n"
     ]
    },
    {
     "name": "stderr",
     "output_type": "stream",
     "text": [
      "Epoch 95/500 [Training]: 100%|██████████| 13/13 [00:00<00:00, 166.84it/s, loss=0.0057]\n",
      "Epoch 95/500 [Validation]: 100%|██████████| 79/79 [00:00<00:00, 342.38it/s]\n"
     ]
    },
    {
     "name": "stdout",
     "output_type": "stream",
     "text": [
      "Epoch [95/500], Train Loss: 0.0841, Train Accuracy: 100.00%, Validation Accuracy: 39.92%\n"
     ]
    },
    {
     "name": "stderr",
     "output_type": "stream",
     "text": [
      "Epoch 96/500 [Training]: 100%|██████████| 13/13 [00:00<00:00, 176.09it/s, loss=0.0050]\n",
      "Epoch 96/500 [Validation]: 100%|██████████| 79/79 [00:00<00:00, 294.18it/s]\n"
     ]
    },
    {
     "name": "stdout",
     "output_type": "stream",
     "text": [
      "Epoch [96/500], Train Loss: 0.0878, Train Accuracy: 100.00%, Validation Accuracy: 54.03%\n"
     ]
    },
    {
     "name": "stderr",
     "output_type": "stream",
     "text": [
      "Epoch 97/500 [Training]: 100%|██████████| 13/13 [00:00<00:00, 135.85it/s, loss=0.0038]\n",
      "Epoch 97/500 [Validation]: 100%|██████████| 79/79 [00:00<00:00, 329.51it/s]\n"
     ]
    },
    {
     "name": "stdout",
     "output_type": "stream",
     "text": [
      "Epoch [97/500], Train Loss: 0.0508, Train Accuracy: 100.00%, Validation Accuracy: 58.63%\n"
     ]
    },
    {
     "name": "stderr",
     "output_type": "stream",
     "text": [
      "Epoch 98/500 [Training]: 100%|██████████| 13/13 [00:00<00:00, 169.98it/s, loss=0.0037]\n",
      "Epoch 98/500 [Validation]: 100%|██████████| 79/79 [00:00<00:00, 345.39it/s]\n"
     ]
    },
    {
     "name": "stdout",
     "output_type": "stream",
     "text": [
      "Epoch [98/500], Train Loss: 0.0447, Train Accuracy: 100.00%, Validation Accuracy: 60.07%\n"
     ]
    },
    {
     "name": "stderr",
     "output_type": "stream",
     "text": [
      "Epoch 99/500 [Training]: 100%|██████████| 13/13 [00:00<00:00, 168.26it/s, loss=0.0025]\n",
      "Epoch 99/500 [Validation]: 100%|██████████| 79/79 [00:00<00:00, 284.52it/s]\n"
     ]
    },
    {
     "name": "stdout",
     "output_type": "stream",
     "text": [
      "Epoch [99/500], Train Loss: 0.0354, Train Accuracy: 100.00%, Validation Accuracy: 61.00%\n"
     ]
    },
    {
     "name": "stderr",
     "output_type": "stream",
     "text": [
      "Epoch 100/500 [Training]: 100%|██████████| 13/13 [00:00<00:00, 173.44it/s, loss=0.0206]\n",
      "Epoch 100/500 [Validation]: 100%|██████████| 79/79 [00:00<00:00, 318.78it/s]\n"
     ]
    },
    {
     "name": "stdout",
     "output_type": "stream",
     "text": [
      "Epoch [100/500], Train Loss: 0.0520, Train Accuracy: 100.00%, Validation Accuracy: 60.88%\n"
     ]
    },
    {
     "name": "stderr",
     "output_type": "stream",
     "text": [
      "Epoch 101/500 [Training]: 100%|██████████| 13/13 [00:00<00:00, 169.33it/s, loss=0.0020]\n",
      "Epoch 101/500 [Validation]: 100%|██████████| 79/79 [00:00<00:00, 285.62it/s]\n"
     ]
    },
    {
     "name": "stdout",
     "output_type": "stream",
     "text": [
      "Epoch [101/500], Train Loss: 0.0322, Train Accuracy: 100.00%, Validation Accuracy: 61.19%\n"
     ]
    },
    {
     "name": "stderr",
     "output_type": "stream",
     "text": [
      "Epoch 102/500 [Training]: 100%|██████████| 13/13 [00:00<00:00, 137.23it/s, loss=0.0052]\n",
      "Epoch 102/500 [Validation]: 100%|██████████| 79/79 [00:00<00:00, 290.98it/s]\n"
     ]
    },
    {
     "name": "stdout",
     "output_type": "stream",
     "text": [
      "Epoch [102/500], Train Loss: 0.0363, Train Accuracy: 100.00%, Validation Accuracy: 60.75%\n"
     ]
    },
    {
     "name": "stderr",
     "output_type": "stream",
     "text": [
      "Epoch 103/500 [Training]: 100%|██████████| 13/13 [00:00<00:00, 172.52it/s, loss=0.0069]\n",
      "Epoch 103/500 [Validation]: 100%|██████████| 79/79 [00:00<00:00, 305.92it/s]\n"
     ]
    },
    {
     "name": "stdout",
     "output_type": "stream",
     "text": [
      "Epoch [103/500], Train Loss: 0.0339, Train Accuracy: 100.00%, Validation Accuracy: 62.42%\n"
     ]
    },
    {
     "name": "stderr",
     "output_type": "stream",
     "text": [
      "Epoch 104/500 [Training]: 100%|██████████| 13/13 [00:00<00:00, 170.85it/s, loss=0.0050]\n",
      "Epoch 104/500 [Validation]: 100%|██████████| 79/79 [00:00<00:00, 289.55it/s]\n"
     ]
    },
    {
     "name": "stdout",
     "output_type": "stream",
     "text": [
      "Epoch [104/500], Train Loss: 0.0312, Train Accuracy: 100.00%, Validation Accuracy: 63.65%\n"
     ]
    },
    {
     "name": "stderr",
     "output_type": "stream",
     "text": [
      "Epoch 105/500 [Training]: 100%|██████████| 13/13 [00:00<00:00, 175.88it/s, loss=0.0031]\n",
      "Epoch 105/500 [Validation]: 100%|██████████| 79/79 [00:00<00:00, 293.53it/s]\n"
     ]
    },
    {
     "name": "stdout",
     "output_type": "stream",
     "text": [
      "Epoch [105/500], Train Loss: 0.0284, Train Accuracy: 100.00%, Validation Accuracy: 62.85%\n"
     ]
    },
    {
     "name": "stderr",
     "output_type": "stream",
     "text": [
      "Epoch 106/500 [Training]: 100%|██████████| 13/13 [00:00<00:00, 173.02it/s, loss=0.0051]\n",
      "Epoch 106/500 [Validation]: 100%|██████████| 79/79 [00:00<00:00, 320.06it/s]\n"
     ]
    },
    {
     "name": "stdout",
     "output_type": "stream",
     "text": [
      "Epoch [106/500], Train Loss: 0.0268, Train Accuracy: 100.00%, Validation Accuracy: 62.18%\n"
     ]
    },
    {
     "name": "stderr",
     "output_type": "stream",
     "text": [
      "Epoch 107/500 [Training]: 100%|██████████| 13/13 [00:00<00:00, 161.85it/s, loss=0.0142]\n",
      "Epoch 107/500 [Validation]: 100%|██████████| 79/79 [00:00<00:00, 273.62it/s]\n"
     ]
    },
    {
     "name": "stdout",
     "output_type": "stream",
     "text": [
      "Epoch [107/500], Train Loss: 0.0384, Train Accuracy: 100.00%, Validation Accuracy: 61.89%\n"
     ]
    },
    {
     "name": "stderr",
     "output_type": "stream",
     "text": [
      "Epoch 108/500 [Training]: 100%|██████████| 13/13 [00:00<00:00, 161.56it/s, loss=0.0197]\n",
      "Epoch 108/500 [Validation]: 100%|██████████| 79/79 [00:00<00:00, 340.34it/s]\n"
     ]
    },
    {
     "name": "stdout",
     "output_type": "stream",
     "text": [
      "Epoch [108/500], Train Loss: 0.0427, Train Accuracy: 100.00%, Validation Accuracy: 62.44%\n"
     ]
    },
    {
     "name": "stderr",
     "output_type": "stream",
     "text": [
      "Epoch 109/500 [Training]: 100%|██████████| 13/13 [00:00<00:00, 165.75it/s, loss=0.0086]\n",
      "Epoch 109/500 [Validation]: 100%|██████████| 79/79 [00:00<00:00, 306.65it/s]\n"
     ]
    },
    {
     "name": "stdout",
     "output_type": "stream",
     "text": [
      "Epoch [109/500], Train Loss: 0.0306, Train Accuracy: 100.00%, Validation Accuracy: 63.07%\n"
     ]
    },
    {
     "name": "stderr",
     "output_type": "stream",
     "text": [
      "Epoch 110/500 [Training]: 100%|██████████| 13/13 [00:00<00:00, 165.90it/s, loss=0.0044]\n",
      "Epoch 110/500 [Validation]: 100%|██████████| 79/79 [00:00<00:00, 317.92it/s]\n"
     ]
    },
    {
     "name": "stdout",
     "output_type": "stream",
     "text": [
      "Epoch [110/500], Train Loss: 0.0247, Train Accuracy: 100.00%, Validation Accuracy: 63.20%\n"
     ]
    },
    {
     "name": "stderr",
     "output_type": "stream",
     "text": [
      "Epoch 111/500 [Training]: 100%|██████████| 13/13 [00:00<00:00, 116.24it/s, loss=0.0044]\n",
      "Epoch 111/500 [Validation]: 100%|██████████| 79/79 [00:00<00:00, 312.38it/s]\n"
     ]
    },
    {
     "name": "stdout",
     "output_type": "stream",
     "text": [
      "Epoch [111/500], Train Loss: 0.0267, Train Accuracy: 100.00%, Validation Accuracy: 64.03%\n"
     ]
    },
    {
     "name": "stderr",
     "output_type": "stream",
     "text": [
      "Epoch 112/500 [Training]: 100%|██████████| 13/13 [00:00<00:00, 172.67it/s, loss=0.0018]\n",
      "Epoch 112/500 [Validation]: 100%|██████████| 79/79 [00:00<00:00, 319.08it/s]\n"
     ]
    },
    {
     "name": "stdout",
     "output_type": "stream",
     "text": [
      "Epoch [112/500], Train Loss: 0.0219, Train Accuracy: 100.00%, Validation Accuracy: 64.26%\n"
     ]
    },
    {
     "name": "stderr",
     "output_type": "stream",
     "text": [
      "Epoch 113/500 [Training]: 100%|██████████| 13/13 [00:00<00:00, 176.87it/s, loss=0.0017]\n",
      "Epoch 113/500 [Validation]: 100%|██████████| 79/79 [00:00<00:00, 322.74it/s]\n"
     ]
    },
    {
     "name": "stdout",
     "output_type": "stream",
     "text": [
      "Epoch [113/500], Train Loss: 0.0196, Train Accuracy: 100.00%, Validation Accuracy: 64.47%\n"
     ]
    },
    {
     "name": "stderr",
     "output_type": "stream",
     "text": [
      "Epoch 114/500 [Training]: 100%|██████████| 13/13 [00:00<00:00, 176.05it/s, loss=0.0018]\n",
      "Epoch 114/500 [Validation]: 100%|██████████| 79/79 [00:00<00:00, 304.26it/s]\n"
     ]
    },
    {
     "name": "stdout",
     "output_type": "stream",
     "text": [
      "Epoch [114/500], Train Loss: 0.0217, Train Accuracy: 100.00%, Validation Accuracy: 65.14%\n"
     ]
    },
    {
     "name": "stderr",
     "output_type": "stream",
     "text": [
      "Epoch 115/500 [Training]: 100%|██████████| 13/13 [00:00<00:00, 131.40it/s, loss=0.0019]\n",
      "Epoch 115/500 [Validation]: 100%|██████████| 79/79 [00:00<00:00, 294.35it/s]\n"
     ]
    },
    {
     "name": "stdout",
     "output_type": "stream",
     "text": [
      "Epoch [115/500], Train Loss: 0.0207, Train Accuracy: 100.00%, Validation Accuracy: 64.60%\n"
     ]
    },
    {
     "name": "stderr",
     "output_type": "stream",
     "text": [
      "Epoch 116/500 [Training]: 100%|██████████| 13/13 [00:00<00:00, 171.36it/s, loss=0.0018]\n",
      "Epoch 116/500 [Validation]: 100%|██████████| 79/79 [00:00<00:00, 305.66it/s]\n"
     ]
    },
    {
     "name": "stdout",
     "output_type": "stream",
     "text": [
      "Epoch [116/500], Train Loss: 0.0190, Train Accuracy: 100.00%, Validation Accuracy: 64.77%\n"
     ]
    },
    {
     "name": "stderr",
     "output_type": "stream",
     "text": [
      "Epoch 117/500 [Training]: 100%|██████████| 13/13 [00:00<00:00, 165.52it/s, loss=0.0023]\n",
      "Epoch 117/500 [Validation]: 100%|██████████| 79/79 [00:00<00:00, 300.95it/s]\n"
     ]
    },
    {
     "name": "stdout",
     "output_type": "stream",
     "text": [
      "Epoch [117/500], Train Loss: 0.0225, Train Accuracy: 100.00%, Validation Accuracy: 64.70%\n"
     ]
    },
    {
     "name": "stderr",
     "output_type": "stream",
     "text": [
      "Epoch 118/500 [Training]: 100%|██████████| 13/13 [00:00<00:00, 171.89it/s, loss=0.0013]\n",
      "Epoch 118/500 [Validation]: 100%|██████████| 79/79 [00:00<00:00, 324.63it/s]\n"
     ]
    },
    {
     "name": "stdout",
     "output_type": "stream",
     "text": [
      "Epoch [118/500], Train Loss: 0.0190, Train Accuracy: 100.00%, Validation Accuracy: 65.17%\n"
     ]
    },
    {
     "name": "stderr",
     "output_type": "stream",
     "text": [
      "Epoch 119/500 [Training]: 100%|██████████| 13/13 [00:00<00:00, 131.47it/s, loss=0.0029]\n",
      "Epoch 119/500 [Validation]: 100%|██████████| 79/79 [00:00<00:00, 274.68it/s]\n"
     ]
    },
    {
     "name": "stdout",
     "output_type": "stream",
     "text": [
      "Epoch [119/500], Train Loss: 0.0211, Train Accuracy: 100.00%, Validation Accuracy: 66.36%\n"
     ]
    },
    {
     "name": "stderr",
     "output_type": "stream",
     "text": [
      "Epoch 120/500 [Training]: 100%|██████████| 13/13 [00:00<00:00, 111.24it/s, loss=0.0014]\n",
      "Epoch 120/500 [Validation]: 100%|██████████| 79/79 [00:00<00:00, 283.73it/s]\n"
     ]
    },
    {
     "name": "stdout",
     "output_type": "stream",
     "text": [
      "Epoch [120/500], Train Loss: 0.0217, Train Accuracy: 100.00%, Validation Accuracy: 65.29%\n"
     ]
    },
    {
     "name": "stderr",
     "output_type": "stream",
     "text": [
      "Epoch 121/500 [Training]: 100%|██████████| 13/13 [00:00<00:00, 167.61it/s, loss=0.0028]\n",
      "Epoch 121/500 [Validation]: 100%|██████████| 79/79 [00:00<00:00, 315.25it/s]\n"
     ]
    },
    {
     "name": "stdout",
     "output_type": "stream",
     "text": [
      "Epoch [121/500], Train Loss: 0.0223, Train Accuracy: 100.00%, Validation Accuracy: 65.47%\n"
     ]
    },
    {
     "name": "stderr",
     "output_type": "stream",
     "text": [
      "Epoch 122/500 [Training]: 100%|██████████| 13/13 [00:00<00:00, 170.85it/s, loss=0.0027]\n",
      "Epoch 122/500 [Validation]: 100%|██████████| 79/79 [00:00<00:00, 283.02it/s]\n"
     ]
    },
    {
     "name": "stdout",
     "output_type": "stream",
     "text": [
      "Epoch [122/500], Train Loss: 0.0225, Train Accuracy: 100.00%, Validation Accuracy: 65.78%\n"
     ]
    },
    {
     "name": "stderr",
     "output_type": "stream",
     "text": [
      "Epoch 123/500 [Training]: 100%|██████████| 13/13 [00:00<00:00, 172.57it/s, loss=0.0013]\n",
      "Epoch 123/500 [Validation]: 100%|██████████| 79/79 [00:00<00:00, 296.32it/s]\n"
     ]
    },
    {
     "name": "stdout",
     "output_type": "stream",
     "text": [
      "Epoch [123/500], Train Loss: 0.0187, Train Accuracy: 100.00%, Validation Accuracy: 65.73%\n"
     ]
    },
    {
     "name": "stderr",
     "output_type": "stream",
     "text": [
      "Epoch 124/500 [Training]: 100%|██████████| 13/13 [00:00<00:00, 176.34it/s, loss=0.0023]\n",
      "Epoch 124/500 [Validation]: 100%|██████████| 79/79 [00:00<00:00, 326.32it/s]\n"
     ]
    },
    {
     "name": "stdout",
     "output_type": "stream",
     "text": [
      "Epoch [124/500], Train Loss: 0.0199, Train Accuracy: 100.00%, Validation Accuracy: 66.74%\n"
     ]
    },
    {
     "name": "stderr",
     "output_type": "stream",
     "text": [
      "Epoch 125/500 [Training]: 100%|██████████| 13/13 [00:00<00:00, 172.26it/s, loss=0.0032]\n",
      "Epoch 125/500 [Validation]: 100%|██████████| 79/79 [00:00<00:00, 299.16it/s]\n"
     ]
    },
    {
     "name": "stdout",
     "output_type": "stream",
     "text": [
      "Epoch [125/500], Train Loss: 0.0214, Train Accuracy: 100.00%, Validation Accuracy: 65.89%\n"
     ]
    },
    {
     "name": "stderr",
     "output_type": "stream",
     "text": [
      "Epoch 126/500 [Training]: 100%|██████████| 13/13 [00:00<00:00, 168.03it/s, loss=0.0028]\n",
      "Epoch 126/500 [Validation]: 100%|██████████| 79/79 [00:00<00:00, 318.18it/s]\n"
     ]
    },
    {
     "name": "stdout",
     "output_type": "stream",
     "text": [
      "Epoch [126/500], Train Loss: 0.0184, Train Accuracy: 100.00%, Validation Accuracy: 66.99%\n"
     ]
    },
    {
     "name": "stderr",
     "output_type": "stream",
     "text": [
      "Epoch 127/500 [Training]: 100%|██████████| 13/13 [00:00<00:00, 173.58it/s, loss=0.0018]\n",
      "Epoch 127/500 [Validation]: 100%|██████████| 79/79 [00:00<00:00, 306.10it/s]\n"
     ]
    },
    {
     "name": "stdout",
     "output_type": "stream",
     "text": [
      "Epoch [127/500], Train Loss: 0.0198, Train Accuracy: 100.00%, Validation Accuracy: 66.51%\n"
     ]
    },
    {
     "name": "stderr",
     "output_type": "stream",
     "text": [
      "Epoch 128/500 [Training]: 100%|██████████| 13/13 [00:00<00:00, 99.41it/s, loss=0.0025] \n",
      "Epoch 128/500 [Validation]: 100%|██████████| 79/79 [00:00<00:00, 321.41it/s]\n"
     ]
    },
    {
     "name": "stdout",
     "output_type": "stream",
     "text": [
      "Epoch [128/500], Train Loss: 0.0170, Train Accuracy: 100.00%, Validation Accuracy: 67.44%\n"
     ]
    },
    {
     "name": "stderr",
     "output_type": "stream",
     "text": [
      "Epoch 129/500 [Training]: 100%|██████████| 13/13 [00:00<00:00, 168.07it/s, loss=0.0012]\n",
      "Epoch 129/500 [Validation]: 100%|██████████| 79/79 [00:00<00:00, 330.65it/s]\n"
     ]
    },
    {
     "name": "stdout",
     "output_type": "stream",
     "text": [
      "Epoch [129/500], Train Loss: 0.0158, Train Accuracy: 100.00%, Validation Accuracy: 67.23%\n"
     ]
    },
    {
     "name": "stderr",
     "output_type": "stream",
     "text": [
      "Epoch 130/500 [Training]: 100%|██████████| 13/13 [00:00<00:00, 173.62it/s, loss=0.0015]\n",
      "Epoch 130/500 [Validation]: 100%|██████████| 79/79 [00:00<00:00, 293.34it/s]\n"
     ]
    },
    {
     "name": "stdout",
     "output_type": "stream",
     "text": [
      "Epoch [130/500], Train Loss: 0.0192, Train Accuracy: 100.00%, Validation Accuracy: 67.35%\n"
     ]
    },
    {
     "name": "stderr",
     "output_type": "stream",
     "text": [
      "Epoch 131/500 [Training]: 100%|██████████| 13/13 [00:00<00:00, 169.14it/s, loss=0.0031]\n",
      "Epoch 131/500 [Validation]: 100%|██████████| 79/79 [00:00<00:00, 319.38it/s]\n"
     ]
    },
    {
     "name": "stdout",
     "output_type": "stream",
     "text": [
      "Epoch [131/500], Train Loss: 0.0219, Train Accuracy: 100.00%, Validation Accuracy: 66.81%\n"
     ]
    },
    {
     "name": "stderr",
     "output_type": "stream",
     "text": [
      "Epoch 132/500 [Training]: 100%|██████████| 13/13 [00:00<00:00, 171.77it/s, loss=0.0011]\n",
      "Epoch 132/500 [Validation]: 100%|██████████| 79/79 [00:00<00:00, 333.14it/s]\n"
     ]
    },
    {
     "name": "stdout",
     "output_type": "stream",
     "text": [
      "Epoch [132/500], Train Loss: 0.0197, Train Accuracy: 100.00%, Validation Accuracy: 67.86%\n"
     ]
    },
    {
     "name": "stderr",
     "output_type": "stream",
     "text": [
      "Epoch 133/500 [Training]: 100%|██████████| 13/13 [00:00<00:00, 117.22it/s, loss=0.0020]\n",
      "Epoch 133/500 [Validation]: 100%|██████████| 79/79 [00:00<00:00, 292.05it/s]\n"
     ]
    },
    {
     "name": "stdout",
     "output_type": "stream",
     "text": [
      "Epoch [133/500], Train Loss: 0.0163, Train Accuracy: 100.00%, Validation Accuracy: 67.89%\n"
     ]
    },
    {
     "name": "stderr",
     "output_type": "stream",
     "text": [
      "Epoch 134/500 [Training]: 100%|██████████| 13/13 [00:00<00:00, 167.38it/s, loss=0.0015]\n",
      "Epoch 134/500 [Validation]: 100%|██████████| 79/79 [00:00<00:00, 325.84it/s]\n"
     ]
    },
    {
     "name": "stdout",
     "output_type": "stream",
     "text": [
      "Epoch [134/500], Train Loss: 0.0191, Train Accuracy: 100.00%, Validation Accuracy: 67.64%\n"
     ]
    },
    {
     "name": "stderr",
     "output_type": "stream",
     "text": [
      "Epoch 135/500 [Training]: 100%|██████████| 13/13 [00:00<00:00, 165.10it/s, loss=0.0017]\n",
      "Epoch 135/500 [Validation]: 100%|██████████| 79/79 [00:00<00:00, 342.62it/s]\n"
     ]
    },
    {
     "name": "stdout",
     "output_type": "stream",
     "text": [
      "Epoch [135/500], Train Loss: 0.0139, Train Accuracy: 100.00%, Validation Accuracy: 68.58%\n"
     ]
    },
    {
     "name": "stderr",
     "output_type": "stream",
     "text": [
      "Epoch 136/500 [Training]: 100%|██████████| 13/13 [00:00<00:00, 174.02it/s, loss=0.0014]\n",
      "Epoch 136/500 [Validation]: 100%|██████████| 79/79 [00:00<00:00, 294.66it/s]\n"
     ]
    },
    {
     "name": "stdout",
     "output_type": "stream",
     "text": [
      "Epoch [136/500], Train Loss: 0.0155, Train Accuracy: 100.00%, Validation Accuracy: 68.37%\n"
     ]
    },
    {
     "name": "stderr",
     "output_type": "stream",
     "text": [
      "Epoch 137/500 [Training]: 100%|██████████| 13/13 [00:00<00:00, 98.97it/s, loss=0.0017]\n",
      "Epoch 137/500 [Validation]: 100%|██████████| 79/79 [00:00<00:00, 314.01it/s]\n"
     ]
    },
    {
     "name": "stdout",
     "output_type": "stream",
     "text": [
      "Epoch [137/500], Train Loss: 0.0182, Train Accuracy: 100.00%, Validation Accuracy: 69.31%\n"
     ]
    },
    {
     "name": "stderr",
     "output_type": "stream",
     "text": [
      "Epoch 138/500 [Training]: 100%|██████████| 13/13 [00:00<00:00, 169.45it/s, loss=0.0010]\n",
      "Epoch 138/500 [Validation]: 100%|██████████| 79/79 [00:00<00:00, 347.48it/s]\n"
     ]
    },
    {
     "name": "stdout",
     "output_type": "stream",
     "text": [
      "Epoch [138/500], Train Loss: 0.0182, Train Accuracy: 100.00%, Validation Accuracy: 68.83%\n"
     ]
    },
    {
     "name": "stderr",
     "output_type": "stream",
     "text": [
      "Epoch 139/500 [Training]: 100%|██████████| 13/13 [00:00<00:00, 170.01it/s, loss=0.0035]\n",
      "Epoch 139/500 [Validation]: 100%|██████████| 79/79 [00:00<00:00, 304.19it/s]\n"
     ]
    },
    {
     "name": "stdout",
     "output_type": "stream",
     "text": [
      "Epoch [139/500], Train Loss: 0.0208, Train Accuracy: 100.00%, Validation Accuracy: 69.03%\n"
     ]
    },
    {
     "name": "stderr",
     "output_type": "stream",
     "text": [
      "Epoch 140/500 [Training]: 100%|██████████| 13/13 [00:00<00:00, 173.04it/s, loss=0.0060]\n",
      "Epoch 140/500 [Validation]: 100%|██████████| 79/79 [00:00<00:00, 355.73it/s]\n"
     ]
    },
    {
     "name": "stdout",
     "output_type": "stream",
     "text": [
      "Epoch [140/500], Train Loss: 0.0234, Train Accuracy: 100.00%, Validation Accuracy: 69.67%\n"
     ]
    },
    {
     "name": "stderr",
     "output_type": "stream",
     "text": [
      "Epoch 141/500 [Training]: 100%|██████████| 13/13 [00:00<00:00, 173.04it/s, loss=0.0010]\n",
      "Epoch 141/500 [Validation]: 100%|██████████| 79/79 [00:00<00:00, 290.14it/s]\n"
     ]
    },
    {
     "name": "stdout",
     "output_type": "stream",
     "text": [
      "Epoch [141/500], Train Loss: 0.0138, Train Accuracy: 100.00%, Validation Accuracy: 68.85%\n"
     ]
    },
    {
     "name": "stderr",
     "output_type": "stream",
     "text": [
      "Epoch 142/500 [Training]: 100%|██████████| 13/13 [00:00<00:00, 132.74it/s, loss=0.0100]\n",
      "Epoch 142/500 [Validation]: 100%|██████████| 79/79 [00:00<00:00, 330.01it/s]\n"
     ]
    },
    {
     "name": "stdout",
     "output_type": "stream",
     "text": [
      "Epoch [142/500], Train Loss: 0.0234, Train Accuracy: 100.00%, Validation Accuracy: 70.28%\n"
     ]
    },
    {
     "name": "stderr",
     "output_type": "stream",
     "text": [
      "Epoch 143/500 [Training]: 100%|██████████| 13/13 [00:00<00:00, 177.09it/s, loss=0.0046]\n",
      "Epoch 143/500 [Validation]: 100%|██████████| 79/79 [00:00<00:00, 318.67it/s]\n"
     ]
    },
    {
     "name": "stdout",
     "output_type": "stream",
     "text": [
      "Epoch [143/500], Train Loss: 0.0192, Train Accuracy: 100.00%, Validation Accuracy: 68.82%\n"
     ]
    },
    {
     "name": "stderr",
     "output_type": "stream",
     "text": [
      "Epoch 144/500 [Training]: 100%|██████████| 13/13 [00:00<00:00, 174.60it/s, loss=0.0015]\n",
      "Epoch 144/500 [Validation]: 100%|██████████| 79/79 [00:00<00:00, 331.31it/s]\n"
     ]
    },
    {
     "name": "stdout",
     "output_type": "stream",
     "text": [
      "Epoch [144/500], Train Loss: 0.0142, Train Accuracy: 100.00%, Validation Accuracy: 69.00%\n"
     ]
    },
    {
     "name": "stderr",
     "output_type": "stream",
     "text": [
      "Epoch 145/500 [Training]: 100%|██████████| 13/13 [00:00<00:00, 168.55it/s, loss=0.0011]\n",
      "Epoch 145/500 [Validation]: 100%|██████████| 79/79 [00:00<00:00, 316.64it/s]\n"
     ]
    },
    {
     "name": "stdout",
     "output_type": "stream",
     "text": [
      "Epoch [145/500], Train Loss: 0.0159, Train Accuracy: 100.00%, Validation Accuracy: 69.37%\n"
     ]
    },
    {
     "name": "stderr",
     "output_type": "stream",
     "text": [
      "Epoch 146/500 [Training]: 100%|██████████| 13/13 [00:00<00:00, 162.05it/s, loss=0.0010]\n",
      "Epoch 146/500 [Validation]: 100%|██████████| 79/79 [00:00<00:00, 267.43it/s]\n"
     ]
    },
    {
     "name": "stdout",
     "output_type": "stream",
     "text": [
      "Epoch [146/500], Train Loss: 0.0170, Train Accuracy: 100.00%, Validation Accuracy: 70.23%\n"
     ]
    },
    {
     "name": "stderr",
     "output_type": "stream",
     "text": [
      "Epoch 147/500 [Training]: 100%|██████████| 13/13 [00:00<00:00, 164.79it/s, loss=0.0012]\n",
      "Epoch 147/500 [Validation]: 100%|██████████| 79/79 [00:00<00:00, 318.59it/s]\n"
     ]
    },
    {
     "name": "stdout",
     "output_type": "stream",
     "text": [
      "Epoch [147/500], Train Loss: 0.0139, Train Accuracy: 100.00%, Validation Accuracy: 70.56%\n"
     ]
    },
    {
     "name": "stderr",
     "output_type": "stream",
     "text": [
      "Epoch 148/500 [Training]: 100%|██████████| 13/13 [00:00<00:00, 176.15it/s, loss=0.0011]\n",
      "Epoch 148/500 [Validation]: 100%|██████████| 79/79 [00:00<00:00, 320.93it/s]\n"
     ]
    },
    {
     "name": "stdout",
     "output_type": "stream",
     "text": [
      "Epoch [148/500], Train Loss: 0.0143, Train Accuracy: 100.00%, Validation Accuracy: 70.69%\n"
     ]
    },
    {
     "name": "stderr",
     "output_type": "stream",
     "text": [
      "Epoch 149/500 [Training]: 100%|██████████| 13/13 [00:00<00:00, 174.79it/s, loss=0.0021]\n",
      "Epoch 149/500 [Validation]: 100%|██████████| 79/79 [00:00<00:00, 317.06it/s]\n"
     ]
    },
    {
     "name": "stdout",
     "output_type": "stream",
     "text": [
      "Epoch [149/500], Train Loss: 0.0146, Train Accuracy: 100.00%, Validation Accuracy: 70.52%\n"
     ]
    },
    {
     "name": "stderr",
     "output_type": "stream",
     "text": [
      "Epoch 150/500 [Training]: 100%|██████████| 13/13 [00:00<00:00, 169.43it/s, loss=0.0018]\n",
      "Epoch 150/500 [Validation]: 100%|██████████| 79/79 [00:00<00:00, 313.24it/s]\n"
     ]
    },
    {
     "name": "stdout",
     "output_type": "stream",
     "text": [
      "Epoch [150/500], Train Loss: 0.0145, Train Accuracy: 100.00%, Validation Accuracy: 70.64%\n"
     ]
    },
    {
     "name": "stderr",
     "output_type": "stream",
     "text": [
      "Epoch 151/500 [Training]: 100%|██████████| 13/13 [00:00<00:00, 171.08it/s, loss=0.0030]\n",
      "Epoch 151/500 [Validation]: 100%|██████████| 79/79 [00:00<00:00, 237.77it/s]\n"
     ]
    },
    {
     "name": "stdout",
     "output_type": "stream",
     "text": [
      "Epoch [151/500], Train Loss: 0.0181, Train Accuracy: 100.00%, Validation Accuracy: 70.93%\n"
     ]
    },
    {
     "name": "stderr",
     "output_type": "stream",
     "text": [
      "Epoch 152/500 [Training]: 100%|██████████| 13/13 [00:00<00:00, 175.73it/s, loss=0.0009]\n",
      "Epoch 152/500 [Validation]: 100%|██████████| 79/79 [00:00<00:00, 299.59it/s]\n"
     ]
    },
    {
     "name": "stdout",
     "output_type": "stream",
     "text": [
      "Epoch [152/500], Train Loss: 0.0151, Train Accuracy: 100.00%, Validation Accuracy: 71.62%\n"
     ]
    },
    {
     "name": "stderr",
     "output_type": "stream",
     "text": [
      "Epoch 153/500 [Training]: 100%|██████████| 13/13 [00:00<00:00, 175.71it/s, loss=0.0016]\n",
      "Epoch 153/500 [Validation]: 100%|██████████| 79/79 [00:00<00:00, 272.38it/s]\n"
     ]
    },
    {
     "name": "stdout",
     "output_type": "stream",
     "text": [
      "Epoch [153/500], Train Loss: 0.0118, Train Accuracy: 100.00%, Validation Accuracy: 71.76%\n"
     ]
    },
    {
     "name": "stderr",
     "output_type": "stream",
     "text": [
      "Epoch 154/500 [Training]: 100%|██████████| 13/13 [00:00<00:00, 168.42it/s, loss=0.0011]\n",
      "Epoch 154/500 [Validation]: 100%|██████████| 79/79 [00:00<00:00, 323.59it/s]\n"
     ]
    },
    {
     "name": "stdout",
     "output_type": "stream",
     "text": [
      "Epoch [154/500], Train Loss: 0.0136, Train Accuracy: 100.00%, Validation Accuracy: 71.27%\n"
     ]
    },
    {
     "name": "stderr",
     "output_type": "stream",
     "text": [
      "Epoch 155/500 [Training]: 100%|██████████| 13/13 [00:00<00:00, 136.49it/s, loss=0.0018]\n",
      "Epoch 155/500 [Validation]: 100%|██████████| 79/79 [00:00<00:00, 283.83it/s]\n"
     ]
    },
    {
     "name": "stdout",
     "output_type": "stream",
     "text": [
      "Epoch [155/500], Train Loss: 0.0156, Train Accuracy: 100.00%, Validation Accuracy: 71.42%\n"
     ]
    },
    {
     "name": "stderr",
     "output_type": "stream",
     "text": [
      "Epoch 156/500 [Training]: 100%|██████████| 13/13 [00:00<00:00, 174.65it/s, loss=0.0020]\n",
      "Epoch 156/500 [Validation]: 100%|██████████| 79/79 [00:00<00:00, 317.08it/s]\n"
     ]
    },
    {
     "name": "stdout",
     "output_type": "stream",
     "text": [
      "Epoch [156/500], Train Loss: 0.0160, Train Accuracy: 100.00%, Validation Accuracy: 71.99%\n"
     ]
    },
    {
     "name": "stderr",
     "output_type": "stream",
     "text": [
      "Epoch 157/500 [Training]: 100%|██████████| 13/13 [00:00<00:00, 174.57it/s, loss=0.0010]\n",
      "Epoch 157/500 [Validation]: 100%|██████████| 79/79 [00:00<00:00, 308.25it/s]\n"
     ]
    },
    {
     "name": "stdout",
     "output_type": "stream",
     "text": [
      "Epoch [157/500], Train Loss: 0.0132, Train Accuracy: 100.00%, Validation Accuracy: 73.04%\n"
     ]
    },
    {
     "name": "stderr",
     "output_type": "stream",
     "text": [
      "Epoch 158/500 [Training]: 100%|██████████| 13/13 [00:00<00:00, 171.66it/s, loss=0.0025]\n",
      "Epoch 158/500 [Validation]: 100%|██████████| 79/79 [00:00<00:00, 303.17it/s]\n"
     ]
    },
    {
     "name": "stdout",
     "output_type": "stream",
     "text": [
      "Epoch [158/500], Train Loss: 0.0142, Train Accuracy: 100.00%, Validation Accuracy: 72.11%\n"
     ]
    },
    {
     "name": "stderr",
     "output_type": "stream",
     "text": [
      "Epoch 159/500 [Training]: 100%|██████████| 13/13 [00:00<00:00, 170.78it/s, loss=0.0017]\n",
      "Epoch 159/500 [Validation]: 100%|██████████| 79/79 [00:00<00:00, 274.08it/s]\n"
     ]
    },
    {
     "name": "stdout",
     "output_type": "stream",
     "text": [
      "Epoch [159/500], Train Loss: 0.0130, Train Accuracy: 100.00%, Validation Accuracy: 72.03%\n"
     ]
    },
    {
     "name": "stderr",
     "output_type": "stream",
     "text": [
      "Epoch 160/500 [Training]: 100%|██████████| 13/13 [00:00<00:00, 173.54it/s, loss=0.0033]\n",
      "Epoch 160/500 [Validation]: 100%|██████████| 79/79 [00:00<00:00, 323.31it/s]\n"
     ]
    },
    {
     "name": "stdout",
     "output_type": "stream",
     "text": [
      "Epoch [160/500], Train Loss: 0.0172, Train Accuracy: 100.00%, Validation Accuracy: 72.78%\n"
     ]
    },
    {
     "name": "stderr",
     "output_type": "stream",
     "text": [
      "Epoch 161/500 [Training]: 100%|██████████| 13/13 [00:00<00:00, 171.26it/s, loss=0.0015]\n",
      "Epoch 161/500 [Validation]: 100%|██████████| 79/79 [00:00<00:00, 304.04it/s]\n"
     ]
    },
    {
     "name": "stdout",
     "output_type": "stream",
     "text": [
      "Epoch [161/500], Train Loss: 0.0133, Train Accuracy: 100.00%, Validation Accuracy: 72.06%\n"
     ]
    },
    {
     "name": "stderr",
     "output_type": "stream",
     "text": [
      "Epoch 162/500 [Training]: 100%|██████████| 13/13 [00:00<00:00, 167.99it/s, loss=0.0036]\n",
      "Epoch 162/500 [Validation]: 100%|██████████| 79/79 [00:00<00:00, 303.86it/s]\n"
     ]
    },
    {
     "name": "stdout",
     "output_type": "stream",
     "text": [
      "Epoch [162/500], Train Loss: 0.0164, Train Accuracy: 100.00%, Validation Accuracy: 72.17%\n"
     ]
    },
    {
     "name": "stderr",
     "output_type": "stream",
     "text": [
      "Epoch 163/500 [Training]: 100%|██████████| 13/13 [00:00<00:00, 172.33it/s, loss=0.0031]\n",
      "Epoch 163/500 [Validation]: 100%|██████████| 79/79 [00:00<00:00, 245.48it/s]\n"
     ]
    },
    {
     "name": "stdout",
     "output_type": "stream",
     "text": [
      "Epoch [163/500], Train Loss: 0.0151, Train Accuracy: 100.00%, Validation Accuracy: 72.13%\n"
     ]
    },
    {
     "name": "stderr",
     "output_type": "stream",
     "text": [
      "Epoch 164/500 [Training]: 100%|██████████| 13/13 [00:00<00:00, 166.21it/s, loss=0.0011]\n",
      "Epoch 164/500 [Validation]: 100%|██████████| 79/79 [00:00<00:00, 314.76it/s]\n"
     ]
    },
    {
     "name": "stdout",
     "output_type": "stream",
     "text": [
      "Epoch [164/500], Train Loss: 0.0130, Train Accuracy: 100.00%, Validation Accuracy: 72.96%\n"
     ]
    },
    {
     "name": "stderr",
     "output_type": "stream",
     "text": [
      "Epoch 165/500 [Training]: 100%|██████████| 13/13 [00:00<00:00, 169.72it/s, loss=0.0021]\n",
      "Epoch 165/500 [Validation]: 100%|██████████| 79/79 [00:00<00:00, 318.09it/s]\n"
     ]
    },
    {
     "name": "stdout",
     "output_type": "stream",
     "text": [
      "Epoch [165/500], Train Loss: 0.0152, Train Accuracy: 100.00%, Validation Accuracy: 73.87%\n"
     ]
    },
    {
     "name": "stderr",
     "output_type": "stream",
     "text": [
      "Epoch 166/500 [Training]: 100%|██████████| 13/13 [00:00<00:00, 176.37it/s, loss=0.0009]\n",
      "Epoch 166/500 [Validation]: 100%|██████████| 79/79 [00:00<00:00, 263.45it/s]\n"
     ]
    },
    {
     "name": "stdout",
     "output_type": "stream",
     "text": [
      "Epoch [166/500], Train Loss: 0.0117, Train Accuracy: 100.00%, Validation Accuracy: 73.90%\n"
     ]
    },
    {
     "name": "stderr",
     "output_type": "stream",
     "text": [
      "Epoch 167/500 [Training]: 100%|██████████| 13/13 [00:00<00:00, 107.34it/s, loss=0.0013]\n",
      "Epoch 167/500 [Validation]: 100%|██████████| 79/79 [00:00<00:00, 271.77it/s]\n"
     ]
    },
    {
     "name": "stdout",
     "output_type": "stream",
     "text": [
      "Epoch [167/500], Train Loss: 0.0164, Train Accuracy: 100.00%, Validation Accuracy: 74.03%\n"
     ]
    },
    {
     "name": "stderr",
     "output_type": "stream",
     "text": [
      "Epoch 168/500 [Training]: 100%|██████████| 13/13 [00:00<00:00, 175.33it/s, loss=0.0022]\n",
      "Epoch 168/500 [Validation]: 100%|██████████| 79/79 [00:00<00:00, 285.98it/s]\n"
     ]
    },
    {
     "name": "stdout",
     "output_type": "stream",
     "text": [
      "Epoch [168/500], Train Loss: 0.0137, Train Accuracy: 100.00%, Validation Accuracy: 73.22%\n"
     ]
    },
    {
     "name": "stderr",
     "output_type": "stream",
     "text": [
      "Epoch 169/500 [Training]: 100%|██████████| 13/13 [00:00<00:00, 122.17it/s, loss=0.0021]\n",
      "Epoch 169/500 [Validation]: 100%|██████████| 79/79 [00:00<00:00, 264.36it/s]\n"
     ]
    },
    {
     "name": "stdout",
     "output_type": "stream",
     "text": [
      "Epoch [169/500], Train Loss: 0.0150, Train Accuracy: 100.00%, Validation Accuracy: 73.94%\n"
     ]
    },
    {
     "name": "stderr",
     "output_type": "stream",
     "text": [
      "Epoch 170/500 [Training]: 100%|██████████| 13/13 [00:00<00:00, 164.36it/s, loss=0.0010]\n",
      "Epoch 170/500 [Validation]: 100%|██████████| 79/79 [00:00<00:00, 264.04it/s]\n"
     ]
    },
    {
     "name": "stdout",
     "output_type": "stream",
     "text": [
      "Epoch [170/500], Train Loss: 0.0126, Train Accuracy: 100.00%, Validation Accuracy: 74.57%\n"
     ]
    },
    {
     "name": "stderr",
     "output_type": "stream",
     "text": [
      "Epoch 171/500 [Training]: 100%|██████████| 13/13 [00:00<00:00, 172.99it/s, loss=0.0026]\n",
      "Epoch 171/500 [Validation]: 100%|██████████| 79/79 [00:00<00:00, 233.78it/s]\n"
     ]
    },
    {
     "name": "stdout",
     "output_type": "stream",
     "text": [
      "Epoch [171/500], Train Loss: 0.0125, Train Accuracy: 100.00%, Validation Accuracy: 74.47%\n"
     ]
    },
    {
     "name": "stderr",
     "output_type": "stream",
     "text": [
      "Epoch 172/500 [Training]: 100%|██████████| 13/13 [00:00<00:00, 125.57it/s, loss=0.0008]\n",
      "Epoch 172/500 [Validation]: 100%|██████████| 79/79 [00:00<00:00, 297.51it/s]\n"
     ]
    },
    {
     "name": "stdout",
     "output_type": "stream",
     "text": [
      "Epoch [172/500], Train Loss: 0.0107, Train Accuracy: 100.00%, Validation Accuracy: 74.23%\n"
     ]
    },
    {
     "name": "stderr",
     "output_type": "stream",
     "text": [
      "Epoch 173/500 [Training]: 100%|██████████| 13/13 [00:00<00:00, 163.61it/s, loss=0.0012]\n",
      "Epoch 173/500 [Validation]: 100%|██████████| 79/79 [00:00<00:00, 265.24it/s]\n"
     ]
    },
    {
     "name": "stdout",
     "output_type": "stream",
     "text": [
      "Epoch [173/500], Train Loss: 0.0102, Train Accuracy: 100.00%, Validation Accuracy: 74.16%\n"
     ]
    },
    {
     "name": "stderr",
     "output_type": "stream",
     "text": [
      "Epoch 174/500 [Training]: 100%|██████████| 13/13 [00:00<00:00, 156.97it/s, loss=0.0011]\n",
      "Epoch 174/500 [Validation]: 100%|██████████| 79/79 [00:00<00:00, 321.18it/s]\n"
     ]
    },
    {
     "name": "stdout",
     "output_type": "stream",
     "text": [
      "Epoch [174/500], Train Loss: 0.0128, Train Accuracy: 100.00%, Validation Accuracy: 74.39%\n"
     ]
    },
    {
     "name": "stderr",
     "output_type": "stream",
     "text": [
      "Epoch 175/500 [Training]: 100%|██████████| 13/13 [00:00<00:00, 167.33it/s, loss=0.0030]\n",
      "Epoch 175/500 [Validation]: 100%|██████████| 79/79 [00:00<00:00, 296.54it/s]\n"
     ]
    },
    {
     "name": "stdout",
     "output_type": "stream",
     "text": [
      "Epoch [175/500], Train Loss: 0.0146, Train Accuracy: 100.00%, Validation Accuracy: 74.29%\n"
     ]
    },
    {
     "name": "stderr",
     "output_type": "stream",
     "text": [
      "Epoch 176/500 [Training]: 100%|██████████| 13/13 [00:00<00:00, 155.28it/s, loss=0.0017]\n",
      "Epoch 176/500 [Validation]: 100%|██████████| 79/79 [00:00<00:00, 320.05it/s]\n"
     ]
    },
    {
     "name": "stdout",
     "output_type": "stream",
     "text": [
      "Epoch [176/500], Train Loss: 0.0138, Train Accuracy: 100.00%, Validation Accuracy: 74.67%\n"
     ]
    },
    {
     "name": "stderr",
     "output_type": "stream",
     "text": [
      "Epoch 177/500 [Training]: 100%|██████████| 13/13 [00:00<00:00, 154.36it/s, loss=0.0026]\n",
      "Epoch 177/500 [Validation]: 100%|██████████| 79/79 [00:00<00:00, 289.10it/s]\n"
     ]
    },
    {
     "name": "stdout",
     "output_type": "stream",
     "text": [
      "Epoch [177/500], Train Loss: 0.0150, Train Accuracy: 100.00%, Validation Accuracy: 75.00%\n"
     ]
    },
    {
     "name": "stderr",
     "output_type": "stream",
     "text": [
      "Epoch 178/500 [Training]: 100%|██████████| 13/13 [00:00<00:00, 96.43it/s, loss=0.0009]\n",
      "Epoch 178/500 [Validation]: 100%|██████████| 79/79 [00:00<00:00, 237.12it/s]\n"
     ]
    },
    {
     "name": "stdout",
     "output_type": "stream",
     "text": [
      "Epoch [178/500], Train Loss: 0.0132, Train Accuracy: 100.00%, Validation Accuracy: 74.91%\n"
     ]
    },
    {
     "name": "stderr",
     "output_type": "stream",
     "text": [
      "Epoch 179/500 [Training]: 100%|██████████| 13/13 [00:00<00:00, 124.68it/s, loss=0.0010]\n",
      "Epoch 179/500 [Validation]: 100%|██████████| 79/79 [00:00<00:00, 311.83it/s]\n"
     ]
    },
    {
     "name": "stdout",
     "output_type": "stream",
     "text": [
      "Epoch [179/500], Train Loss: 0.0145, Train Accuracy: 100.00%, Validation Accuracy: 75.30%\n"
     ]
    },
    {
     "name": "stderr",
     "output_type": "stream",
     "text": [
      "Epoch 180/500 [Training]: 100%|██████████| 13/13 [00:00<00:00, 168.43it/s, loss=0.0012]\n",
      "Epoch 180/500 [Validation]: 100%|██████████| 79/79 [00:00<00:00, 307.79it/s]\n"
     ]
    },
    {
     "name": "stdout",
     "output_type": "stream",
     "text": [
      "Epoch [180/500], Train Loss: 0.0125, Train Accuracy: 100.00%, Validation Accuracy: 75.01%\n"
     ]
    },
    {
     "name": "stderr",
     "output_type": "stream",
     "text": [
      "Epoch 181/500 [Training]: 100%|██████████| 13/13 [00:00<00:00, 167.27it/s, loss=0.0009]\n",
      "Epoch 181/500 [Validation]: 100%|██████████| 79/79 [00:00<00:00, 331.13it/s]\n"
     ]
    },
    {
     "name": "stdout",
     "output_type": "stream",
     "text": [
      "Epoch [181/500], Train Loss: 0.0107, Train Accuracy: 100.00%, Validation Accuracy: 75.30%\n"
     ]
    },
    {
     "name": "stderr",
     "output_type": "stream",
     "text": [
      "Epoch 182/500 [Training]: 100%|██████████| 13/13 [00:00<00:00, 127.46it/s, loss=0.0015]\n",
      "Epoch 182/500 [Validation]: 100%|██████████| 79/79 [00:00<00:00, 299.27it/s]\n"
     ]
    },
    {
     "name": "stdout",
     "output_type": "stream",
     "text": [
      "Epoch [182/500], Train Loss: 0.0120, Train Accuracy: 100.00%, Validation Accuracy: 75.16%\n"
     ]
    },
    {
     "name": "stderr",
     "output_type": "stream",
     "text": [
      "Epoch 183/500 [Training]: 100%|██████████| 13/13 [00:00<00:00, 124.89it/s, loss=0.0013]\n",
      "Epoch 183/500 [Validation]: 100%|██████████| 79/79 [00:00<00:00, 304.45it/s]\n"
     ]
    },
    {
     "name": "stdout",
     "output_type": "stream",
     "text": [
      "Epoch [183/500], Train Loss: 0.0120, Train Accuracy: 100.00%, Validation Accuracy: 76.04%\n"
     ]
    },
    {
     "name": "stderr",
     "output_type": "stream",
     "text": [
      "Epoch 184/500 [Training]: 100%|██████████| 13/13 [00:00<00:00, 171.87it/s, loss=0.0008]\n",
      "Epoch 184/500 [Validation]: 100%|██████████| 79/79 [00:00<00:00, 296.69it/s]\n"
     ]
    },
    {
     "name": "stdout",
     "output_type": "stream",
     "text": [
      "Epoch [184/500], Train Loss: 0.0103, Train Accuracy: 100.00%, Validation Accuracy: 75.77%\n"
     ]
    },
    {
     "name": "stderr",
     "output_type": "stream",
     "text": [
      "Epoch 185/500 [Training]: 100%|██████████| 13/13 [00:00<00:00, 174.19it/s, loss=0.0009]\n",
      "Epoch 185/500 [Validation]: 100%|██████████| 79/79 [00:00<00:00, 336.78it/s]\n"
     ]
    },
    {
     "name": "stdout",
     "output_type": "stream",
     "text": [
      "Epoch [185/500], Train Loss: 0.0124, Train Accuracy: 100.00%, Validation Accuracy: 75.54%\n"
     ]
    },
    {
     "name": "stderr",
     "output_type": "stream",
     "text": [
      "Epoch 186/500 [Training]: 100%|██████████| 13/13 [00:00<00:00, 129.14it/s, loss=0.0030]\n",
      "Epoch 186/500 [Validation]: 100%|██████████| 79/79 [00:00<00:00, 331.20it/s]\n"
     ]
    },
    {
     "name": "stdout",
     "output_type": "stream",
     "text": [
      "Epoch [186/500], Train Loss: 0.0140, Train Accuracy: 100.00%, Validation Accuracy: 75.41%\n"
     ]
    },
    {
     "name": "stderr",
     "output_type": "stream",
     "text": [
      "Epoch 187/500 [Training]: 100%|██████████| 13/13 [00:00<00:00, 165.36it/s, loss=0.0008]\n",
      "Epoch 187/500 [Validation]: 100%|██████████| 79/79 [00:00<00:00, 318.00it/s]\n"
     ]
    },
    {
     "name": "stdout",
     "output_type": "stream",
     "text": [
      "Epoch [187/500], Train Loss: 0.0106, Train Accuracy: 100.00%, Validation Accuracy: 76.27%\n"
     ]
    },
    {
     "name": "stderr",
     "output_type": "stream",
     "text": [
      "Epoch 188/500 [Training]: 100%|██████████| 13/13 [00:00<00:00, 176.45it/s, loss=0.0018]\n",
      "Epoch 188/500 [Validation]: 100%|██████████| 79/79 [00:00<00:00, 295.32it/s]\n"
     ]
    },
    {
     "name": "stdout",
     "output_type": "stream",
     "text": [
      "Epoch [188/500], Train Loss: 0.0126, Train Accuracy: 100.00%, Validation Accuracy: 75.85%\n"
     ]
    },
    {
     "name": "stderr",
     "output_type": "stream",
     "text": [
      "Epoch 189/500 [Training]: 100%|██████████| 13/13 [00:00<00:00, 166.11it/s, loss=0.0011]\n",
      "Epoch 189/500 [Validation]: 100%|██████████| 79/79 [00:00<00:00, 302.80it/s]\n"
     ]
    },
    {
     "name": "stdout",
     "output_type": "stream",
     "text": [
      "Epoch [189/500], Train Loss: 0.0116, Train Accuracy: 100.00%, Validation Accuracy: 75.87%\n"
     ]
    },
    {
     "name": "stderr",
     "output_type": "stream",
     "text": [
      "Epoch 190/500 [Training]: 100%|██████████| 13/13 [00:00<00:00, 114.09it/s, loss=0.0020]\n",
      "Epoch 190/500 [Validation]: 100%|██████████| 79/79 [00:00<00:00, 309.69it/s]\n"
     ]
    },
    {
     "name": "stdout",
     "output_type": "stream",
     "text": [
      "Epoch [190/500], Train Loss: 0.0118, Train Accuracy: 100.00%, Validation Accuracy: 76.16%\n"
     ]
    },
    {
     "name": "stderr",
     "output_type": "stream",
     "text": [
      "Epoch 191/500 [Training]: 100%|██████████| 13/13 [00:00<00:00, 175.55it/s, loss=0.0009]\n",
      "Epoch 191/500 [Validation]: 100%|██████████| 79/79 [00:00<00:00, 314.45it/s]\n"
     ]
    },
    {
     "name": "stdout",
     "output_type": "stream",
     "text": [
      "Epoch [191/500], Train Loss: 0.0111, Train Accuracy: 100.00%, Validation Accuracy: 76.50%\n"
     ]
    },
    {
     "name": "stderr",
     "output_type": "stream",
     "text": [
      "Epoch 192/500 [Training]: 100%|██████████| 13/13 [00:00<00:00, 173.85it/s, loss=0.0028]\n",
      "Epoch 192/500 [Validation]: 100%|██████████| 79/79 [00:00<00:00, 317.71it/s]\n"
     ]
    },
    {
     "name": "stdout",
     "output_type": "stream",
     "text": [
      "Epoch [192/500], Train Loss: 0.0145, Train Accuracy: 100.00%, Validation Accuracy: 76.74%\n"
     ]
    },
    {
     "name": "stderr",
     "output_type": "stream",
     "text": [
      "Epoch 193/500 [Training]: 100%|██████████| 13/13 [00:00<00:00, 131.41it/s, loss=0.0012]\n",
      "Epoch 193/500 [Validation]: 100%|██████████| 79/79 [00:00<00:00, 305.93it/s]\n"
     ]
    },
    {
     "name": "stdout",
     "output_type": "stream",
     "text": [
      "Epoch [193/500], Train Loss: 0.0112, Train Accuracy: 100.00%, Validation Accuracy: 76.08%\n"
     ]
    },
    {
     "name": "stderr",
     "output_type": "stream",
     "text": [
      "Epoch 194/500 [Training]: 100%|██████████| 13/13 [00:00<00:00, 108.74it/s, loss=0.0012]\n",
      "Epoch 194/500 [Validation]: 100%|██████████| 79/79 [00:00<00:00, 317.95it/s]\n"
     ]
    },
    {
     "name": "stdout",
     "output_type": "stream",
     "text": [
      "Epoch [194/500], Train Loss: 0.0130, Train Accuracy: 100.00%, Validation Accuracy: 76.02%\n"
     ]
    },
    {
     "name": "stderr",
     "output_type": "stream",
     "text": [
      "Epoch 195/500 [Training]: 100%|██████████| 13/13 [00:00<00:00, 168.49it/s, loss=0.0012]\n",
      "Epoch 195/500 [Validation]: 100%|██████████| 79/79 [00:00<00:00, 275.94it/s]\n"
     ]
    },
    {
     "name": "stdout",
     "output_type": "stream",
     "text": [
      "Epoch [195/500], Train Loss: 0.0123, Train Accuracy: 100.00%, Validation Accuracy: 77.14%\n"
     ]
    },
    {
     "name": "stderr",
     "output_type": "stream",
     "text": [
      "Epoch 196/500 [Training]: 100%|██████████| 13/13 [00:00<00:00, 170.76it/s, loss=0.0007]\n",
      "Epoch 196/500 [Validation]: 100%|██████████| 79/79 [00:00<00:00, 311.71it/s]\n"
     ]
    },
    {
     "name": "stdout",
     "output_type": "stream",
     "text": [
      "Epoch [196/500], Train Loss: 0.0111, Train Accuracy: 100.00%, Validation Accuracy: 77.00%\n"
     ]
    },
    {
     "name": "stderr",
     "output_type": "stream",
     "text": [
      "Epoch 197/500 [Training]: 100%|██████████| 13/13 [00:00<00:00, 157.51it/s, loss=0.0022]\n",
      "Epoch 197/500 [Validation]: 100%|██████████| 79/79 [00:00<00:00, 254.93it/s]\n"
     ]
    },
    {
     "name": "stdout",
     "output_type": "stream",
     "text": [
      "Epoch [197/500], Train Loss: 0.0122, Train Accuracy: 100.00%, Validation Accuracy: 76.48%\n"
     ]
    },
    {
     "name": "stderr",
     "output_type": "stream",
     "text": [
      "Epoch 198/500 [Training]: 100%|██████████| 13/13 [00:00<00:00, 152.01it/s, loss=0.0023]\n",
      "Epoch 198/500 [Validation]: 100%|██████████| 79/79 [00:00<00:00, 283.73it/s]\n"
     ]
    },
    {
     "name": "stdout",
     "output_type": "stream",
     "text": [
      "Epoch [198/500], Train Loss: 0.0114, Train Accuracy: 100.00%, Validation Accuracy: 77.63%\n"
     ]
    },
    {
     "name": "stderr",
     "output_type": "stream",
     "text": [
      "Epoch 199/500 [Training]: 100%|██████████| 13/13 [00:00<00:00, 114.27it/s, loss=0.0008]\n",
      "Epoch 199/500 [Validation]: 100%|██████████| 79/79 [00:00<00:00, 295.02it/s]\n"
     ]
    },
    {
     "name": "stdout",
     "output_type": "stream",
     "text": [
      "Epoch [199/500], Train Loss: 0.0111, Train Accuracy: 100.00%, Validation Accuracy: 77.50%\n"
     ]
    },
    {
     "name": "stderr",
     "output_type": "stream",
     "text": [
      "Epoch 200/500 [Training]: 100%|██████████| 13/13 [00:00<00:00, 173.38it/s, loss=0.0084]\n",
      "Epoch 200/500 [Validation]: 100%|██████████| 79/79 [00:00<00:00, 298.08it/s]\n"
     ]
    },
    {
     "name": "stdout",
     "output_type": "stream",
     "text": [
      "Epoch [200/500], Train Loss: 0.0176, Train Accuracy: 100.00%, Validation Accuracy: 77.27%\n"
     ]
    },
    {
     "name": "stderr",
     "output_type": "stream",
     "text": [
      "Epoch 201/500 [Training]: 100%|██████████| 13/13 [00:00<00:00, 164.05it/s, loss=0.0010]\n",
      "Epoch 201/500 [Validation]: 100%|██████████| 79/79 [00:00<00:00, 272.83it/s]\n"
     ]
    },
    {
     "name": "stdout",
     "output_type": "stream",
     "text": [
      "Epoch [201/500], Train Loss: 0.0114, Train Accuracy: 100.00%, Validation Accuracy: 78.07%\n"
     ]
    },
    {
     "name": "stderr",
     "output_type": "stream",
     "text": [
      "Epoch 202/500 [Training]: 100%|██████████| 13/13 [00:00<00:00, 126.25it/s, loss=0.0021]\n",
      "Epoch 202/500 [Validation]: 100%|██████████| 79/79 [00:00<00:00, 279.68it/s]\n"
     ]
    },
    {
     "name": "stdout",
     "output_type": "stream",
     "text": [
      "Epoch [202/500], Train Loss: 0.0115, Train Accuracy: 100.00%, Validation Accuracy: 77.92%\n"
     ]
    },
    {
     "name": "stderr",
     "output_type": "stream",
     "text": [
      "Epoch 203/500 [Training]: 100%|██████████| 13/13 [00:00<00:00, 112.64it/s, loss=0.0009]\n",
      "Epoch 203/500 [Validation]: 100%|██████████| 79/79 [00:00<00:00, 265.07it/s]\n"
     ]
    },
    {
     "name": "stdout",
     "output_type": "stream",
     "text": [
      "Epoch [203/500], Train Loss: 0.0103, Train Accuracy: 100.00%, Validation Accuracy: 77.09%\n"
     ]
    },
    {
     "name": "stderr",
     "output_type": "stream",
     "text": [
      "Epoch 204/500 [Training]: 100%|██████████| 13/13 [00:00<00:00, 119.22it/s, loss=0.0012]\n",
      "Epoch 204/500 [Validation]: 100%|██████████| 79/79 [00:00<00:00, 230.55it/s]\n"
     ]
    },
    {
     "name": "stdout",
     "output_type": "stream",
     "text": [
      "Epoch [204/500], Train Loss: 0.0105, Train Accuracy: 100.00%, Validation Accuracy: 77.44%\n"
     ]
    },
    {
     "name": "stderr",
     "output_type": "stream",
     "text": [
      "Epoch 205/500 [Training]: 100%|██████████| 13/13 [00:00<00:00, 125.36it/s, loss=0.0008]\n",
      "Epoch 205/500 [Validation]: 100%|██████████| 79/79 [00:00<00:00, 257.56it/s]\n"
     ]
    },
    {
     "name": "stdout",
     "output_type": "stream",
     "text": [
      "Epoch [205/500], Train Loss: 0.0092, Train Accuracy: 100.00%, Validation Accuracy: 77.73%\n"
     ]
    },
    {
     "name": "stderr",
     "output_type": "stream",
     "text": [
      "Epoch 206/500 [Training]: 100%|██████████| 13/13 [00:00<00:00, 126.39it/s, loss=0.0010]\n",
      "Epoch 206/500 [Validation]: 100%|██████████| 79/79 [00:00<00:00, 282.66it/s]\n"
     ]
    },
    {
     "name": "stdout",
     "output_type": "stream",
     "text": [
      "Epoch [206/500], Train Loss: 0.0102, Train Accuracy: 100.00%, Validation Accuracy: 78.09%\n"
     ]
    },
    {
     "name": "stderr",
     "output_type": "stream",
     "text": [
      "Epoch 207/500 [Training]: 100%|██████████| 13/13 [00:00<00:00, 127.72it/s, loss=0.0008]\n",
      "Epoch 207/500 [Validation]: 100%|██████████| 79/79 [00:00<00:00, 285.78it/s]\n"
     ]
    },
    {
     "name": "stdout",
     "output_type": "stream",
     "text": [
      "Epoch [207/500], Train Loss: 0.0108, Train Accuracy: 100.00%, Validation Accuracy: 78.13%\n"
     ]
    },
    {
     "name": "stderr",
     "output_type": "stream",
     "text": [
      "Epoch 208/500 [Training]: 100%|██████████| 13/13 [00:00<00:00, 161.26it/s, loss=0.0010]\n",
      "Epoch 208/500 [Validation]: 100%|██████████| 79/79 [00:00<00:00, 325.75it/s]\n"
     ]
    },
    {
     "name": "stdout",
     "output_type": "stream",
     "text": [
      "Epoch [208/500], Train Loss: 0.0100, Train Accuracy: 100.00%, Validation Accuracy: 77.93%\n"
     ]
    },
    {
     "name": "stderr",
     "output_type": "stream",
     "text": [
      "Epoch 209/500 [Training]: 100%|██████████| 13/13 [00:00<00:00, 162.88it/s, loss=0.0021]\n",
      "Epoch 209/500 [Validation]: 100%|██████████| 79/79 [00:00<00:00, 308.35it/s]\n"
     ]
    },
    {
     "name": "stdout",
     "output_type": "stream",
     "text": [
      "Epoch [209/500], Train Loss: 0.0122, Train Accuracy: 100.00%, Validation Accuracy: 78.62%\n"
     ]
    },
    {
     "name": "stderr",
     "output_type": "stream",
     "text": [
      "Epoch 210/500 [Training]: 100%|██████████| 13/13 [00:00<00:00, 162.17it/s, loss=0.0008]\n",
      "Epoch 210/500 [Validation]: 100%|██████████| 79/79 [00:00<00:00, 316.12it/s]\n"
     ]
    },
    {
     "name": "stdout",
     "output_type": "stream",
     "text": [
      "Epoch [210/500], Train Loss: 0.0109, Train Accuracy: 100.00%, Validation Accuracy: 78.61%\n"
     ]
    },
    {
     "name": "stderr",
     "output_type": "stream",
     "text": [
      "Epoch 211/500 [Training]: 100%|██████████| 13/13 [00:00<00:00, 104.31it/s, loss=0.0021]\n",
      "Epoch 211/500 [Validation]: 100%|██████████| 79/79 [00:00<00:00, 254.71it/s]\n"
     ]
    },
    {
     "name": "stdout",
     "output_type": "stream",
     "text": [
      "Epoch [211/500], Train Loss: 0.0110, Train Accuracy: 100.00%, Validation Accuracy: 77.75%\n"
     ]
    },
    {
     "name": "stderr",
     "output_type": "stream",
     "text": [
      "Epoch 212/500 [Training]: 100%|██████████| 13/13 [00:00<00:00, 170.55it/s, loss=0.0009]\n",
      "Epoch 212/500 [Validation]: 100%|██████████| 79/79 [00:00<00:00, 291.90it/s]\n"
     ]
    },
    {
     "name": "stdout",
     "output_type": "stream",
     "text": [
      "Epoch [212/500], Train Loss: 0.0112, Train Accuracy: 100.00%, Validation Accuracy: 78.67%\n"
     ]
    },
    {
     "name": "stderr",
     "output_type": "stream",
     "text": [
      "Epoch 213/500 [Training]: 100%|██████████| 13/13 [00:00<00:00, 130.48it/s, loss=0.0021]\n",
      "Epoch 213/500 [Validation]: 100%|██████████| 79/79 [00:00<00:00, 265.81it/s]\n"
     ]
    },
    {
     "name": "stdout",
     "output_type": "stream",
     "text": [
      "Epoch [213/500], Train Loss: 0.0124, Train Accuracy: 100.00%, Validation Accuracy: 78.88%\n"
     ]
    },
    {
     "name": "stderr",
     "output_type": "stream",
     "text": [
      "Epoch 214/500 [Training]: 100%|██████████| 13/13 [00:00<00:00, 145.19it/s, loss=0.0019]\n",
      "Epoch 214/500 [Validation]: 100%|██████████| 79/79 [00:00<00:00, 258.75it/s]\n"
     ]
    },
    {
     "name": "stdout",
     "output_type": "stream",
     "text": [
      "Epoch [214/500], Train Loss: 0.0108, Train Accuracy: 100.00%, Validation Accuracy: 79.13%\n"
     ]
    },
    {
     "name": "stderr",
     "output_type": "stream",
     "text": [
      "Epoch 215/500 [Training]: 100%|██████████| 13/13 [00:00<00:00, 128.21it/s, loss=0.0009]\n",
      "Epoch 215/500 [Validation]: 100%|██████████| 79/79 [00:00<00:00, 297.59it/s]\n"
     ]
    },
    {
     "name": "stdout",
     "output_type": "stream",
     "text": [
      "Epoch [215/500], Train Loss: 0.0093, Train Accuracy: 100.00%, Validation Accuracy: 78.46%\n"
     ]
    },
    {
     "name": "stderr",
     "output_type": "stream",
     "text": [
      "Epoch 216/500 [Training]: 100%|██████████| 13/13 [00:00<00:00, 142.36it/s, loss=0.0017]\n",
      "Epoch 216/500 [Validation]: 100%|██████████| 79/79 [00:00<00:00, 291.31it/s]\n"
     ]
    },
    {
     "name": "stdout",
     "output_type": "stream",
     "text": [
      "Epoch [216/500], Train Loss: 0.0101, Train Accuracy: 100.00%, Validation Accuracy: 79.03%\n"
     ]
    },
    {
     "name": "stderr",
     "output_type": "stream",
     "text": [
      "Epoch 217/500 [Training]: 100%|██████████| 13/13 [00:00<00:00, 172.78it/s, loss=0.0027]\n",
      "Epoch 217/500 [Validation]: 100%|██████████| 79/79 [00:00<00:00, 280.66it/s]\n"
     ]
    },
    {
     "name": "stdout",
     "output_type": "stream",
     "text": [
      "Epoch [217/500], Train Loss: 0.0139, Train Accuracy: 100.00%, Validation Accuracy: 78.82%\n"
     ]
    },
    {
     "name": "stderr",
     "output_type": "stream",
     "text": [
      "Epoch 218/500 [Training]: 100%|██████████| 13/13 [00:00<00:00, 170.84it/s, loss=0.0006]\n",
      "Epoch 218/500 [Validation]: 100%|██████████| 79/79 [00:00<00:00, 316.49it/s]\n"
     ]
    },
    {
     "name": "stdout",
     "output_type": "stream",
     "text": [
      "Epoch [218/500], Train Loss: 0.0113, Train Accuracy: 100.00%, Validation Accuracy: 79.15%\n"
     ]
    },
    {
     "name": "stderr",
     "output_type": "stream",
     "text": [
      "Epoch 219/500 [Training]: 100%|██████████| 13/13 [00:00<00:00, 113.32it/s, loss=0.0023]\n",
      "Epoch 219/500 [Validation]: 100%|██████████| 79/79 [00:00<00:00, 280.53it/s]\n"
     ]
    },
    {
     "name": "stdout",
     "output_type": "stream",
     "text": [
      "Epoch [219/500], Train Loss: 0.0110, Train Accuracy: 100.00%, Validation Accuracy: 78.78%\n"
     ]
    },
    {
     "name": "stderr",
     "output_type": "stream",
     "text": [
      "Epoch 220/500 [Training]: 100%|██████████| 13/13 [00:00<00:00, 157.31it/s, loss=0.0012]\n",
      "Epoch 220/500 [Validation]: 100%|██████████| 79/79 [00:00<00:00, 281.92it/s]\n"
     ]
    },
    {
     "name": "stdout",
     "output_type": "stream",
     "text": [
      "Epoch [220/500], Train Loss: 0.0129, Train Accuracy: 100.00%, Validation Accuracy: 79.42%\n"
     ]
    },
    {
     "name": "stderr",
     "output_type": "stream",
     "text": [
      "Epoch 221/500 [Training]: 100%|██████████| 13/13 [00:00<00:00, 137.44it/s, loss=0.0008]\n",
      "Epoch 221/500 [Validation]: 100%|██████████| 79/79 [00:00<00:00, 266.21it/s]\n"
     ]
    },
    {
     "name": "stdout",
     "output_type": "stream",
     "text": [
      "Epoch [221/500], Train Loss: 0.0088, Train Accuracy: 100.00%, Validation Accuracy: 79.38%\n"
     ]
    },
    {
     "name": "stderr",
     "output_type": "stream",
     "text": [
      "Epoch 222/500 [Training]: 100%|██████████| 13/13 [00:00<00:00, 111.15it/s, loss=0.0027]\n",
      "Epoch 222/500 [Validation]: 100%|██████████| 79/79 [00:00<00:00, 295.16it/s]\n"
     ]
    },
    {
     "name": "stdout",
     "output_type": "stream",
     "text": [
      "Epoch [222/500], Train Loss: 0.0132, Train Accuracy: 100.00%, Validation Accuracy: 79.93%\n"
     ]
    },
    {
     "name": "stderr",
     "output_type": "stream",
     "text": [
      "Epoch 223/500 [Training]: 100%|██████████| 13/13 [00:00<00:00, 134.71it/s, loss=0.0008]\n",
      "Epoch 223/500 [Validation]: 100%|██████████| 79/79 [00:00<00:00, 307.00it/s]\n"
     ]
    },
    {
     "name": "stdout",
     "output_type": "stream",
     "text": [
      "Epoch [223/500], Train Loss: 0.0093, Train Accuracy: 100.00%, Validation Accuracy: 79.43%\n"
     ]
    },
    {
     "name": "stderr",
     "output_type": "stream",
     "text": [
      "Epoch 224/500 [Training]: 100%|██████████| 13/13 [00:00<00:00, 174.39it/s, loss=0.0018]\n",
      "Epoch 224/500 [Validation]: 100%|██████████| 79/79 [00:00<00:00, 280.72it/s]\n"
     ]
    },
    {
     "name": "stdout",
     "output_type": "stream",
     "text": [
      "Epoch [224/500], Train Loss: 0.0102, Train Accuracy: 100.00%, Validation Accuracy: 79.75%\n"
     ]
    },
    {
     "name": "stderr",
     "output_type": "stream",
     "text": [
      "Epoch 225/500 [Training]: 100%|██████████| 13/13 [00:00<00:00, 175.28it/s, loss=0.0009]\n",
      "Epoch 225/500 [Validation]: 100%|██████████| 79/79 [00:00<00:00, 311.79it/s]\n"
     ]
    },
    {
     "name": "stdout",
     "output_type": "stream",
     "text": [
      "Epoch [225/500], Train Loss: 0.0121, Train Accuracy: 100.00%, Validation Accuracy: 79.74%\n"
     ]
    },
    {
     "name": "stderr",
     "output_type": "stream",
     "text": [
      "Epoch 226/500 [Training]: 100%|██████████| 13/13 [00:00<00:00, 147.07it/s, loss=0.0014]\n",
      "Epoch 226/500 [Validation]: 100%|██████████| 79/79 [00:00<00:00, 303.34it/s]\n"
     ]
    },
    {
     "name": "stdout",
     "output_type": "stream",
     "text": [
      "Epoch [226/500], Train Loss: 0.0100, Train Accuracy: 100.00%, Validation Accuracy: 80.03%\n"
     ]
    },
    {
     "name": "stderr",
     "output_type": "stream",
     "text": [
      "Epoch 227/500 [Training]: 100%|██████████| 13/13 [00:00<00:00, 114.78it/s, loss=0.0026]\n",
      "Epoch 227/500 [Validation]: 100%|██████████| 79/79 [00:00<00:00, 319.05it/s]\n"
     ]
    },
    {
     "name": "stdout",
     "output_type": "stream",
     "text": [
      "Epoch [227/500], Train Loss: 0.0122, Train Accuracy: 100.00%, Validation Accuracy: 79.93%\n"
     ]
    },
    {
     "name": "stderr",
     "output_type": "stream",
     "text": [
      "Epoch 228/500 [Training]: 100%|██████████| 13/13 [00:00<00:00, 172.26it/s, loss=0.0012]\n",
      "Epoch 228/500 [Validation]: 100%|██████████| 79/79 [00:00<00:00, 319.14it/s]\n"
     ]
    },
    {
     "name": "stdout",
     "output_type": "stream",
     "text": [
      "Epoch [228/500], Train Loss: 0.0089, Train Accuracy: 100.00%, Validation Accuracy: 79.86%\n"
     ]
    },
    {
     "name": "stderr",
     "output_type": "stream",
     "text": [
      "Epoch 229/500 [Training]: 100%|██████████| 13/13 [00:00<00:00, 166.14it/s, loss=0.0024]\n",
      "Epoch 229/500 [Validation]: 100%|██████████| 79/79 [00:00<00:00, 291.47it/s]\n"
     ]
    },
    {
     "name": "stdout",
     "output_type": "stream",
     "text": [
      "Epoch [229/500], Train Loss: 0.0112, Train Accuracy: 100.00%, Validation Accuracy: 79.82%\n"
     ]
    },
    {
     "name": "stderr",
     "output_type": "stream",
     "text": [
      "Epoch 230/500 [Training]: 100%|██████████| 13/13 [00:00<00:00, 170.68it/s, loss=0.0015]\n",
      "Epoch 230/500 [Validation]: 100%|██████████| 79/79 [00:00<00:00, 274.93it/s]\n"
     ]
    },
    {
     "name": "stdout",
     "output_type": "stream",
     "text": [
      "Epoch [230/500], Train Loss: 0.0104, Train Accuracy: 100.00%, Validation Accuracy: 80.47%\n"
     ]
    },
    {
     "name": "stderr",
     "output_type": "stream",
     "text": [
      "Epoch 231/500 [Training]: 100%|██████████| 13/13 [00:00<00:00, 132.38it/s, loss=0.0011]\n",
      "Epoch 231/500 [Validation]: 100%|██████████| 79/79 [00:00<00:00, 256.45it/s]\n"
     ]
    },
    {
     "name": "stdout",
     "output_type": "stream",
     "text": [
      "Epoch [231/500], Train Loss: 0.0098, Train Accuracy: 100.00%, Validation Accuracy: 80.70%\n"
     ]
    },
    {
     "name": "stderr",
     "output_type": "stream",
     "text": [
      "Epoch 232/500 [Training]: 100%|██████████| 13/13 [00:00<00:00, 160.59it/s, loss=0.0006]\n",
      "Epoch 232/500 [Validation]: 100%|██████████| 79/79 [00:00<00:00, 284.78it/s]\n"
     ]
    },
    {
     "name": "stdout",
     "output_type": "stream",
     "text": [
      "Epoch [232/500], Train Loss: 0.0088, Train Accuracy: 100.00%, Validation Accuracy: 80.85%\n"
     ]
    },
    {
     "name": "stderr",
     "output_type": "stream",
     "text": [
      "Epoch 233/500 [Training]: 100%|██████████| 13/13 [00:00<00:00, 159.31it/s, loss=0.0018]\n",
      "Epoch 233/500 [Validation]: 100%|██████████| 79/79 [00:00<00:00, 288.48it/s]\n"
     ]
    },
    {
     "name": "stdout",
     "output_type": "stream",
     "text": [
      "Epoch [233/500], Train Loss: 0.0121, Train Accuracy: 100.00%, Validation Accuracy: 80.49%\n"
     ]
    },
    {
     "name": "stderr",
     "output_type": "stream",
     "text": [
      "Epoch 234/500 [Training]: 100%|██████████| 13/13 [00:00<00:00, 154.74it/s, loss=0.0008]\n",
      "Epoch 234/500 [Validation]: 100%|██████████| 79/79 [00:00<00:00, 270.94it/s]\n"
     ]
    },
    {
     "name": "stdout",
     "output_type": "stream",
     "text": [
      "Epoch [234/500], Train Loss: 0.0101, Train Accuracy: 100.00%, Validation Accuracy: 80.19%\n"
     ]
    },
    {
     "name": "stderr",
     "output_type": "stream",
     "text": [
      "Epoch 235/500 [Training]: 100%|██████████| 13/13 [00:00<00:00, 137.64it/s, loss=0.0009]\n",
      "Epoch 235/500 [Validation]: 100%|██████████| 79/79 [00:00<00:00, 302.05it/s]\n"
     ]
    },
    {
     "name": "stdout",
     "output_type": "stream",
     "text": [
      "Epoch [235/500], Train Loss: 0.0083, Train Accuracy: 100.00%, Validation Accuracy: 80.09%\n"
     ]
    },
    {
     "name": "stderr",
     "output_type": "stream",
     "text": [
      "Epoch 236/500 [Training]: 100%|██████████| 13/13 [00:00<00:00, 165.85it/s, loss=0.0007]\n",
      "Epoch 236/500 [Validation]: 100%|██████████| 79/79 [00:00<00:00, 340.39it/s]\n"
     ]
    },
    {
     "name": "stdout",
     "output_type": "stream",
     "text": [
      "Epoch [236/500], Train Loss: 0.0092, Train Accuracy: 100.00%, Validation Accuracy: 80.17%\n"
     ]
    },
    {
     "name": "stderr",
     "output_type": "stream",
     "text": [
      "Epoch 237/500 [Training]: 100%|██████████| 13/13 [00:00<00:00, 173.39it/s, loss=0.0009]\n",
      "Epoch 237/500 [Validation]: 100%|██████████| 79/79 [00:00<00:00, 312.19it/s]\n"
     ]
    },
    {
     "name": "stdout",
     "output_type": "stream",
     "text": [
      "Epoch [237/500], Train Loss: 0.0090, Train Accuracy: 100.00%, Validation Accuracy: 80.10%\n"
     ]
    },
    {
     "name": "stderr",
     "output_type": "stream",
     "text": [
      "Epoch 238/500 [Training]: 100%|██████████| 13/13 [00:00<00:00, 143.13it/s, loss=0.0007]\n",
      "Epoch 238/500 [Validation]: 100%|██████████| 79/79 [00:00<00:00, 241.34it/s]\n"
     ]
    },
    {
     "name": "stdout",
     "output_type": "stream",
     "text": [
      "Epoch [238/500], Train Loss: 0.0092, Train Accuracy: 100.00%, Validation Accuracy: 80.45%\n"
     ]
    },
    {
     "name": "stderr",
     "output_type": "stream",
     "text": [
      "Epoch 239/500 [Training]: 100%|██████████| 13/13 [00:00<00:00, 126.43it/s, loss=0.0015]\n",
      "Epoch 239/500 [Validation]: 100%|██████████| 79/79 [00:00<00:00, 275.98it/s]\n"
     ]
    },
    {
     "name": "stdout",
     "output_type": "stream",
     "text": [
      "Epoch [239/500], Train Loss: 0.0100, Train Accuracy: 100.00%, Validation Accuracy: 80.57%\n"
     ]
    },
    {
     "name": "stderr",
     "output_type": "stream",
     "text": [
      "Epoch 240/500 [Training]: 100%|██████████| 13/13 [00:00<00:00, 170.89it/s, loss=0.0007]\n",
      "Epoch 240/500 [Validation]: 100%|██████████| 79/79 [00:00<00:00, 326.25it/s]\n"
     ]
    },
    {
     "name": "stdout",
     "output_type": "stream",
     "text": [
      "Epoch [240/500], Train Loss: 0.0103, Train Accuracy: 100.00%, Validation Accuracy: 80.70%\n"
     ]
    },
    {
     "name": "stderr",
     "output_type": "stream",
     "text": [
      "Epoch 241/500 [Training]: 100%|██████████| 13/13 [00:00<00:00, 155.37it/s, loss=0.0009]\n",
      "Epoch 241/500 [Validation]: 100%|██████████| 79/79 [00:00<00:00, 296.79it/s]\n"
     ]
    },
    {
     "name": "stdout",
     "output_type": "stream",
     "text": [
      "Epoch [241/500], Train Loss: 0.0109, Train Accuracy: 100.00%, Validation Accuracy: 81.00%\n"
     ]
    },
    {
     "name": "stderr",
     "output_type": "stream",
     "text": [
      "Epoch 242/500 [Training]: 100%|██████████| 13/13 [00:00<00:00, 177.98it/s, loss=0.0016]\n",
      "Epoch 242/500 [Validation]: 100%|██████████| 79/79 [00:00<00:00, 262.03it/s]\n"
     ]
    },
    {
     "name": "stdout",
     "output_type": "stream",
     "text": [
      "Epoch [242/500], Train Loss: 0.0090, Train Accuracy: 100.00%, Validation Accuracy: 80.74%\n"
     ]
    },
    {
     "name": "stderr",
     "output_type": "stream",
     "text": [
      "Epoch 243/500 [Training]: 100%|██████████| 13/13 [00:00<00:00, 159.97it/s, loss=0.0038]\n",
      "Epoch 243/500 [Validation]: 100%|██████████| 79/79 [00:00<00:00, 236.21it/s]\n"
     ]
    },
    {
     "name": "stdout",
     "output_type": "stream",
     "text": [
      "Epoch [243/500], Train Loss: 0.0115, Train Accuracy: 100.00%, Validation Accuracy: 81.13%\n"
     ]
    },
    {
     "name": "stderr",
     "output_type": "stream",
     "text": [
      "Epoch 244/500 [Training]: 100%|██████████| 13/13 [00:00<00:00, 139.51it/s, loss=0.0010]\n",
      "Epoch 244/500 [Validation]: 100%|██████████| 79/79 [00:00<00:00, 291.96it/s]\n"
     ]
    },
    {
     "name": "stdout",
     "output_type": "stream",
     "text": [
      "Epoch [244/500], Train Loss: 0.0100, Train Accuracy: 100.00%, Validation Accuracy: 80.92%\n"
     ]
    },
    {
     "name": "stderr",
     "output_type": "stream",
     "text": [
      "Epoch 245/500 [Training]: 100%|██████████| 13/13 [00:00<00:00, 162.50it/s, loss=0.0017]\n",
      "Epoch 245/500 [Validation]: 100%|██████████| 79/79 [00:00<00:00, 271.44it/s]\n"
     ]
    },
    {
     "name": "stdout",
     "output_type": "stream",
     "text": [
      "Epoch [245/500], Train Loss: 0.0091, Train Accuracy: 100.00%, Validation Accuracy: 81.00%\n"
     ]
    },
    {
     "name": "stderr",
     "output_type": "stream",
     "text": [
      "Epoch 246/500 [Training]: 100%|██████████| 13/13 [00:00<00:00, 172.22it/s, loss=0.0009]\n",
      "Epoch 246/500 [Validation]: 100%|██████████| 79/79 [00:00<00:00, 302.00it/s]\n"
     ]
    },
    {
     "name": "stdout",
     "output_type": "stream",
     "text": [
      "Epoch [246/500], Train Loss: 0.0093, Train Accuracy: 100.00%, Validation Accuracy: 81.06%\n"
     ]
    },
    {
     "name": "stderr",
     "output_type": "stream",
     "text": [
      "Epoch 247/500 [Training]: 100%|██████████| 13/13 [00:00<00:00, 163.36it/s, loss=0.0012]\n",
      "Epoch 247/500 [Validation]: 100%|██████████| 79/79 [00:00<00:00, 312.78it/s]\n"
     ]
    },
    {
     "name": "stdout",
     "output_type": "stream",
     "text": [
      "Epoch [247/500], Train Loss: 0.0093, Train Accuracy: 100.00%, Validation Accuracy: 80.96%\n"
     ]
    },
    {
     "name": "stderr",
     "output_type": "stream",
     "text": [
      "Epoch 248/500 [Training]: 100%|██████████| 13/13 [00:00<00:00, 125.43it/s, loss=0.0009]\n",
      "Epoch 248/500 [Validation]: 100%|██████████| 79/79 [00:00<00:00, 284.69it/s]\n"
     ]
    },
    {
     "name": "stdout",
     "output_type": "stream",
     "text": [
      "Epoch [248/500], Train Loss: 0.0096, Train Accuracy: 100.00%, Validation Accuracy: 80.43%\n"
     ]
    },
    {
     "name": "stderr",
     "output_type": "stream",
     "text": [
      "Epoch 249/500 [Training]: 100%|██████████| 13/13 [00:00<00:00, 145.16it/s, loss=0.0009]\n",
      "Epoch 249/500 [Validation]: 100%|██████████| 79/79 [00:00<00:00, 264.27it/s]\n"
     ]
    },
    {
     "name": "stdout",
     "output_type": "stream",
     "text": [
      "Epoch [249/500], Train Loss: 0.0078, Train Accuracy: 100.00%, Validation Accuracy: 81.07%\n"
     ]
    },
    {
     "name": "stderr",
     "output_type": "stream",
     "text": [
      "Epoch 250/500 [Training]: 100%|██████████| 13/13 [00:00<00:00, 162.42it/s, loss=0.0007]\n",
      "Epoch 250/500 [Validation]: 100%|██████████| 79/79 [00:00<00:00, 280.56it/s]\n"
     ]
    },
    {
     "name": "stdout",
     "output_type": "stream",
     "text": [
      "Epoch [250/500], Train Loss: 0.0086, Train Accuracy: 100.00%, Validation Accuracy: 81.67%\n"
     ]
    },
    {
     "name": "stderr",
     "output_type": "stream",
     "text": [
      "Epoch 251/500 [Training]: 100%|██████████| 13/13 [00:00<00:00, 163.75it/s, loss=0.0019]\n",
      "Epoch 251/500 [Validation]: 100%|██████████| 79/79 [00:00<00:00, 327.85it/s]\n"
     ]
    },
    {
     "name": "stdout",
     "output_type": "stream",
     "text": [
      "Epoch [251/500], Train Loss: 0.0100, Train Accuracy: 100.00%, Validation Accuracy: 81.79%\n"
     ]
    },
    {
     "name": "stderr",
     "output_type": "stream",
     "text": [
      "Epoch 252/500 [Training]: 100%|██████████| 13/13 [00:00<00:00, 118.14it/s, loss=0.0007]\n",
      "Epoch 252/500 [Validation]: 100%|██████████| 79/79 [00:00<00:00, 305.74it/s]\n"
     ]
    },
    {
     "name": "stdout",
     "output_type": "stream",
     "text": [
      "Epoch [252/500], Train Loss: 0.0115, Train Accuracy: 100.00%, Validation Accuracy: 81.97%\n"
     ]
    },
    {
     "name": "stderr",
     "output_type": "stream",
     "text": [
      "Epoch 253/500 [Training]: 100%|██████████| 13/13 [00:00<00:00, 165.47it/s, loss=0.0009]\n",
      "Epoch 253/500 [Validation]: 100%|██████████| 79/79 [00:00<00:00, 262.38it/s]\n"
     ]
    },
    {
     "name": "stdout",
     "output_type": "stream",
     "text": [
      "Epoch [253/500], Train Loss: 0.0096, Train Accuracy: 100.00%, Validation Accuracy: 81.70%\n"
     ]
    },
    {
     "name": "stderr",
     "output_type": "stream",
     "text": [
      "Epoch 254/500 [Training]: 100%|██████████| 13/13 [00:00<00:00, 107.40it/s, loss=0.0007]\n",
      "Epoch 254/500 [Validation]: 100%|██████████| 79/79 [00:00<00:00, 263.16it/s]\n"
     ]
    },
    {
     "name": "stdout",
     "output_type": "stream",
     "text": [
      "Epoch [254/500], Train Loss: 0.0097, Train Accuracy: 100.00%, Validation Accuracy: 81.39%\n"
     ]
    },
    {
     "name": "stderr",
     "output_type": "stream",
     "text": [
      "Epoch 255/500 [Training]: 100%|██████████| 13/13 [00:00<00:00, 158.20it/s, loss=0.0023]\n",
      "Epoch 255/500 [Validation]: 100%|██████████| 79/79 [00:00<00:00, 268.03it/s]\n"
     ]
    },
    {
     "name": "stdout",
     "output_type": "stream",
     "text": [
      "Epoch [255/500], Train Loss: 0.0098, Train Accuracy: 100.00%, Validation Accuracy: 81.12%\n"
     ]
    },
    {
     "name": "stderr",
     "output_type": "stream",
     "text": [
      "Epoch 256/500 [Training]: 100%|██████████| 13/13 [00:00<00:00, 112.71it/s, loss=0.0008]\n",
      "Epoch 256/500 [Validation]: 100%|██████████| 79/79 [00:00<00:00, 285.53it/s]\n"
     ]
    },
    {
     "name": "stdout",
     "output_type": "stream",
     "text": [
      "Epoch [256/500], Train Loss: 0.0082, Train Accuracy: 100.00%, Validation Accuracy: 81.93%\n"
     ]
    },
    {
     "name": "stderr",
     "output_type": "stream",
     "text": [
      "Epoch 257/500 [Training]: 100%|██████████| 13/13 [00:00<00:00, 126.57it/s, loss=0.0011]\n",
      "Epoch 257/500 [Validation]: 100%|██████████| 79/79 [00:00<00:00, 263.89it/s]\n"
     ]
    },
    {
     "name": "stdout",
     "output_type": "stream",
     "text": [
      "Epoch [257/500], Train Loss: 0.0097, Train Accuracy: 100.00%, Validation Accuracy: 81.80%\n"
     ]
    },
    {
     "name": "stderr",
     "output_type": "stream",
     "text": [
      "Epoch 258/500 [Training]: 100%|██████████| 13/13 [00:00<00:00, 169.22it/s, loss=0.0023]\n",
      "Epoch 258/500 [Validation]: 100%|██████████| 79/79 [00:00<00:00, 311.91it/s]\n"
     ]
    },
    {
     "name": "stdout",
     "output_type": "stream",
     "text": [
      "Epoch [258/500], Train Loss: 0.0101, Train Accuracy: 100.00%, Validation Accuracy: 82.06%\n"
     ]
    },
    {
     "name": "stderr",
     "output_type": "stream",
     "text": [
      "Epoch 259/500 [Training]: 100%|██████████| 13/13 [00:00<00:00, 137.06it/s, loss=0.0018]\n",
      "Epoch 259/500 [Validation]: 100%|██████████| 79/79 [00:00<00:00, 287.16it/s]\n"
     ]
    },
    {
     "name": "stdout",
     "output_type": "stream",
     "text": [
      "Epoch [259/500], Train Loss: 0.0097, Train Accuracy: 100.00%, Validation Accuracy: 81.75%\n"
     ]
    },
    {
     "name": "stderr",
     "output_type": "stream",
     "text": [
      "Epoch 260/500 [Training]: 100%|██████████| 13/13 [00:00<00:00, 89.48it/s, loss=0.0021]\n",
      "Epoch 260/500 [Validation]: 100%|██████████| 79/79 [00:00<00:00, 258.11it/s]\n"
     ]
    },
    {
     "name": "stdout",
     "output_type": "stream",
     "text": [
      "Epoch [260/500], Train Loss: 0.0085, Train Accuracy: 100.00%, Validation Accuracy: 82.02%\n"
     ]
    },
    {
     "name": "stderr",
     "output_type": "stream",
     "text": [
      "Epoch 261/500 [Training]: 100%|██████████| 13/13 [00:00<00:00, 150.66it/s, loss=0.0016]\n",
      "Epoch 261/500 [Validation]: 100%|██████████| 79/79 [00:00<00:00, 266.55it/s]\n"
     ]
    },
    {
     "name": "stdout",
     "output_type": "stream",
     "text": [
      "Epoch [261/500], Train Loss: 0.0100, Train Accuracy: 100.00%, Validation Accuracy: 81.50%\n"
     ]
    },
    {
     "name": "stderr",
     "output_type": "stream",
     "text": [
      "Epoch 262/500 [Training]: 100%|██████████| 13/13 [00:00<00:00, 136.91it/s, loss=0.0021]\n",
      "Epoch 262/500 [Validation]: 100%|██████████| 79/79 [00:00<00:00, 261.23it/s]\n"
     ]
    },
    {
     "name": "stdout",
     "output_type": "stream",
     "text": [
      "Epoch [262/500], Train Loss: 0.0100, Train Accuracy: 100.00%, Validation Accuracy: 81.36%\n"
     ]
    },
    {
     "name": "stderr",
     "output_type": "stream",
     "text": [
      "Epoch 263/500 [Training]: 100%|██████████| 13/13 [00:00<00:00, 139.75it/s, loss=0.0014]\n",
      "Epoch 263/500 [Validation]: 100%|██████████| 79/79 [00:00<00:00, 287.71it/s]\n"
     ]
    },
    {
     "name": "stdout",
     "output_type": "stream",
     "text": [
      "Epoch [263/500], Train Loss: 0.0083, Train Accuracy: 100.00%, Validation Accuracy: 82.18%\n"
     ]
    },
    {
     "name": "stderr",
     "output_type": "stream",
     "text": [
      "Epoch 264/500 [Training]: 100%|██████████| 13/13 [00:00<00:00, 110.37it/s, loss=0.0013]\n",
      "Epoch 264/500 [Validation]: 100%|██████████| 79/79 [00:00<00:00, 269.09it/s]\n"
     ]
    },
    {
     "name": "stdout",
     "output_type": "stream",
     "text": [
      "Epoch [264/500], Train Loss: 0.0102, Train Accuracy: 100.00%, Validation Accuracy: 82.17%\n"
     ]
    },
    {
     "name": "stderr",
     "output_type": "stream",
     "text": [
      "Epoch 265/500 [Training]: 100%|██████████| 13/13 [00:00<00:00, 176.35it/s, loss=0.0007]\n",
      "Epoch 265/500 [Validation]: 100%|██████████| 79/79 [00:00<00:00, 292.62it/s]\n"
     ]
    },
    {
     "name": "stdout",
     "output_type": "stream",
     "text": [
      "Epoch [265/500], Train Loss: 0.0078, Train Accuracy: 100.00%, Validation Accuracy: 82.25%\n"
     ]
    },
    {
     "name": "stderr",
     "output_type": "stream",
     "text": [
      "Epoch 266/500 [Training]: 100%|██████████| 13/13 [00:00<00:00, 144.39it/s, loss=0.0010]\n",
      "Epoch 266/500 [Validation]: 100%|██████████| 79/79 [00:00<00:00, 287.39it/s]\n"
     ]
    },
    {
     "name": "stdout",
     "output_type": "stream",
     "text": [
      "Epoch [266/500], Train Loss: 0.0092, Train Accuracy: 100.00%, Validation Accuracy: 82.15%\n"
     ]
    },
    {
     "name": "stderr",
     "output_type": "stream",
     "text": [
      "Epoch 267/500 [Training]: 100%|██████████| 13/13 [00:00<00:00, 154.43it/s, loss=0.0007]\n",
      "Epoch 267/500 [Validation]: 100%|██████████| 79/79 [00:00<00:00, 261.07it/s]\n"
     ]
    },
    {
     "name": "stdout",
     "output_type": "stream",
     "text": [
      "Epoch [267/500], Train Loss: 0.0083, Train Accuracy: 100.00%, Validation Accuracy: 81.79%\n"
     ]
    },
    {
     "name": "stderr",
     "output_type": "stream",
     "text": [
      "Epoch 268/500 [Training]: 100%|██████████| 13/13 [00:00<00:00, 128.62it/s, loss=0.0010]\n",
      "Epoch 268/500 [Validation]: 100%|██████████| 79/79 [00:00<00:00, 255.10it/s]\n"
     ]
    },
    {
     "name": "stdout",
     "output_type": "stream",
     "text": [
      "Epoch [268/500], Train Loss: 0.0088, Train Accuracy: 100.00%, Validation Accuracy: 82.40%\n"
     ]
    },
    {
     "name": "stderr",
     "output_type": "stream",
     "text": [
      "Epoch 269/500 [Training]: 100%|██████████| 13/13 [00:00<00:00, 145.55it/s, loss=0.0011]\n",
      "Epoch 269/500 [Validation]: 100%|██████████| 79/79 [00:00<00:00, 268.61it/s]\n"
     ]
    },
    {
     "name": "stdout",
     "output_type": "stream",
     "text": [
      "Epoch [269/500], Train Loss: 0.0084, Train Accuracy: 100.00%, Validation Accuracy: 81.95%\n"
     ]
    },
    {
     "name": "stderr",
     "output_type": "stream",
     "text": [
      "Epoch 270/500 [Training]: 100%|██████████| 13/13 [00:00<00:00, 161.65it/s, loss=0.0017]\n",
      "Epoch 270/500 [Validation]: 100%|██████████| 79/79 [00:00<00:00, 271.75it/s]\n"
     ]
    },
    {
     "name": "stdout",
     "output_type": "stream",
     "text": [
      "Epoch [270/500], Train Loss: 0.0092, Train Accuracy: 100.00%, Validation Accuracy: 82.36%\n"
     ]
    },
    {
     "name": "stderr",
     "output_type": "stream",
     "text": [
      "Epoch 271/500 [Training]: 100%|██████████| 13/13 [00:00<00:00, 133.30it/s, loss=0.0005]\n",
      "Epoch 271/500 [Validation]: 100%|██████████| 79/79 [00:00<00:00, 279.78it/s]\n"
     ]
    },
    {
     "name": "stdout",
     "output_type": "stream",
     "text": [
      "Epoch [271/500], Train Loss: 0.0086, Train Accuracy: 100.00%, Validation Accuracy: 81.92%\n"
     ]
    },
    {
     "name": "stderr",
     "output_type": "stream",
     "text": [
      "Epoch 272/500 [Training]: 100%|██████████| 13/13 [00:00<00:00, 137.47it/s, loss=0.0006]\n",
      "Epoch 272/500 [Validation]: 100%|██████████| 79/79 [00:00<00:00, 282.75it/s]\n"
     ]
    },
    {
     "name": "stdout",
     "output_type": "stream",
     "text": [
      "Epoch [272/500], Train Loss: 0.0082, Train Accuracy: 100.00%, Validation Accuracy: 82.28%\n"
     ]
    },
    {
     "name": "stderr",
     "output_type": "stream",
     "text": [
      "Epoch 273/500 [Training]: 100%|██████████| 13/13 [00:00<00:00, 157.98it/s, loss=0.0010]\n",
      "Epoch 273/500 [Validation]: 100%|██████████| 79/79 [00:00<00:00, 263.88it/s]\n"
     ]
    },
    {
     "name": "stdout",
     "output_type": "stream",
     "text": [
      "Epoch [273/500], Train Loss: 0.0072, Train Accuracy: 100.00%, Validation Accuracy: 82.16%\n"
     ]
    },
    {
     "name": "stderr",
     "output_type": "stream",
     "text": [
      "Epoch 274/500 [Training]: 100%|██████████| 13/13 [00:00<00:00, 167.25it/s, loss=0.0050]\n",
      "Epoch 274/500 [Validation]: 100%|██████████| 79/79 [00:00<00:00, 277.24it/s]\n"
     ]
    },
    {
     "name": "stdout",
     "output_type": "stream",
     "text": [
      "Epoch [274/500], Train Loss: 0.0146, Train Accuracy: 100.00%, Validation Accuracy: 81.79%\n"
     ]
    },
    {
     "name": "stderr",
     "output_type": "stream",
     "text": [
      "Epoch 275/500 [Training]: 100%|██████████| 13/13 [00:00<00:00, 137.70it/s, loss=0.0006]\n",
      "Epoch 275/500 [Validation]: 100%|██████████| 79/79 [00:00<00:00, 277.45it/s]\n"
     ]
    },
    {
     "name": "stdout",
     "output_type": "stream",
     "text": [
      "Epoch [275/500], Train Loss: 0.0095, Train Accuracy: 100.00%, Validation Accuracy: 82.81%\n"
     ]
    },
    {
     "name": "stderr",
     "output_type": "stream",
     "text": [
      "Epoch 276/500 [Training]: 100%|██████████| 13/13 [00:00<00:00, 178.62it/s, loss=0.0006]\n",
      "Epoch 276/500 [Validation]: 100%|██████████| 79/79 [00:00<00:00, 303.89it/s]\n"
     ]
    },
    {
     "name": "stdout",
     "output_type": "stream",
     "text": [
      "Epoch [276/500], Train Loss: 0.0086, Train Accuracy: 100.00%, Validation Accuracy: 82.65%\n"
     ]
    },
    {
     "name": "stderr",
     "output_type": "stream",
     "text": [
      "Epoch 277/500 [Training]: 100%|██████████| 13/13 [00:00<00:00, 135.70it/s, loss=0.0013]\n",
      "Epoch 277/500 [Validation]: 100%|██████████| 79/79 [00:00<00:00, 278.25it/s]\n"
     ]
    },
    {
     "name": "stdout",
     "output_type": "stream",
     "text": [
      "Epoch [277/500], Train Loss: 0.0103, Train Accuracy: 100.00%, Validation Accuracy: 82.65%\n"
     ]
    },
    {
     "name": "stderr",
     "output_type": "stream",
     "text": [
      "Epoch 278/500 [Training]: 100%|██████████| 13/13 [00:00<00:00, 162.62it/s, loss=0.0013]\n",
      "Epoch 278/500 [Validation]: 100%|██████████| 79/79 [00:00<00:00, 300.54it/s]\n"
     ]
    },
    {
     "name": "stdout",
     "output_type": "stream",
     "text": [
      "Epoch [278/500], Train Loss: 0.0086, Train Accuracy: 100.00%, Validation Accuracy: 82.36%\n"
     ]
    },
    {
     "name": "stderr",
     "output_type": "stream",
     "text": [
      "Epoch 279/500 [Training]: 100%|██████████| 13/13 [00:00<00:00, 174.48it/s, loss=0.0008]\n",
      "Epoch 279/500 [Validation]: 100%|██████████| 79/79 [00:00<00:00, 260.00it/s]\n"
     ]
    },
    {
     "name": "stdout",
     "output_type": "stream",
     "text": [
      "Epoch [279/500], Train Loss: 0.0083, Train Accuracy: 100.00%, Validation Accuracy: 82.95%\n"
     ]
    },
    {
     "name": "stderr",
     "output_type": "stream",
     "text": [
      "Epoch 280/500 [Training]: 100%|██████████| 13/13 [00:00<00:00, 174.20it/s, loss=0.0005]\n",
      "Epoch 280/500 [Validation]: 100%|██████████| 79/79 [00:00<00:00, 325.10it/s]\n"
     ]
    },
    {
     "name": "stdout",
     "output_type": "stream",
     "text": [
      "Epoch [280/500], Train Loss: 0.0073, Train Accuracy: 100.00%, Validation Accuracy: 82.77%\n"
     ]
    },
    {
     "name": "stderr",
     "output_type": "stream",
     "text": [
      "Epoch 281/500 [Training]: 100%|██████████| 13/13 [00:00<00:00, 130.31it/s, loss=0.0012]\n",
      "Epoch 281/500 [Validation]: 100%|██████████| 79/79 [00:00<00:00, 323.95it/s]\n"
     ]
    },
    {
     "name": "stdout",
     "output_type": "stream",
     "text": [
      "Epoch [281/500], Train Loss: 0.0079, Train Accuracy: 100.00%, Validation Accuracy: 82.43%\n"
     ]
    },
    {
     "name": "stderr",
     "output_type": "stream",
     "text": [
      "Epoch 282/500 [Training]: 100%|██████████| 13/13 [00:00<00:00, 174.96it/s, loss=0.0006]\n",
      "Epoch 282/500 [Validation]: 100%|██████████| 79/79 [00:00<00:00, 317.12it/s]\n"
     ]
    },
    {
     "name": "stdout",
     "output_type": "stream",
     "text": [
      "Epoch [282/500], Train Loss: 0.0089, Train Accuracy: 100.00%, Validation Accuracy: 82.61%\n"
     ]
    },
    {
     "name": "stderr",
     "output_type": "stream",
     "text": [
      "Epoch 283/500 [Training]: 100%|██████████| 13/13 [00:00<00:00, 163.40it/s, loss=0.0018]\n",
      "Epoch 283/500 [Validation]: 100%|██████████| 79/79 [00:00<00:00, 296.81it/s]\n"
     ]
    },
    {
     "name": "stdout",
     "output_type": "stream",
     "text": [
      "Epoch [283/500], Train Loss: 0.0090, Train Accuracy: 100.00%, Validation Accuracy: 82.94%\n"
     ]
    },
    {
     "name": "stderr",
     "output_type": "stream",
     "text": [
      "Epoch 284/500 [Training]: 100%|██████████| 13/13 [00:00<00:00, 169.63it/s, loss=0.0019]\n",
      "Epoch 284/500 [Validation]: 100%|██████████| 79/79 [00:00<00:00, 304.61it/s]\n"
     ]
    },
    {
     "name": "stdout",
     "output_type": "stream",
     "text": [
      "Epoch [284/500], Train Loss: 0.0133, Train Accuracy: 100.00%, Validation Accuracy: 82.61%\n"
     ]
    },
    {
     "name": "stderr",
     "output_type": "stream",
     "text": [
      "Epoch 285/500 [Training]: 100%|██████████| 13/13 [00:00<00:00, 89.96it/s, loss=0.0005]\n",
      "Epoch 285/500 [Validation]: 100%|██████████| 79/79 [00:00<00:00, 302.01it/s]\n"
     ]
    },
    {
     "name": "stdout",
     "output_type": "stream",
     "text": [
      "Epoch [285/500], Train Loss: 0.0075, Train Accuracy: 100.00%, Validation Accuracy: 82.79%\n"
     ]
    },
    {
     "name": "stderr",
     "output_type": "stream",
     "text": [
      "Epoch 286/500 [Training]: 100%|██████████| 13/13 [00:00<00:00, 169.06it/s, loss=0.0005]\n",
      "Epoch 286/500 [Validation]: 100%|██████████| 79/79 [00:00<00:00, 309.28it/s]\n"
     ]
    },
    {
     "name": "stdout",
     "output_type": "stream",
     "text": [
      "Epoch [286/500], Train Loss: 0.0074, Train Accuracy: 100.00%, Validation Accuracy: 82.54%\n"
     ]
    },
    {
     "name": "stderr",
     "output_type": "stream",
     "text": [
      "Epoch 287/500 [Training]: 100%|██████████| 13/13 [00:00<00:00, 167.51it/s, loss=0.0015]\n",
      "Epoch 287/500 [Validation]: 100%|██████████| 79/79 [00:00<00:00, 275.83it/s]\n"
     ]
    },
    {
     "name": "stdout",
     "output_type": "stream",
     "text": [
      "Epoch [287/500], Train Loss: 0.0087, Train Accuracy: 100.00%, Validation Accuracy: 82.58%\n"
     ]
    },
    {
     "name": "stderr",
     "output_type": "stream",
     "text": [
      "Epoch 288/500 [Training]: 100%|██████████| 13/13 [00:00<00:00, 162.74it/s, loss=0.0005]\n",
      "Epoch 288/500 [Validation]: 100%|██████████| 79/79 [00:00<00:00, 314.87it/s]\n"
     ]
    },
    {
     "name": "stdout",
     "output_type": "stream",
     "text": [
      "Epoch [288/500], Train Loss: 0.0091, Train Accuracy: 100.00%, Validation Accuracy: 82.84%\n"
     ]
    },
    {
     "name": "stderr",
     "output_type": "stream",
     "text": [
      "Epoch 289/500 [Training]: 100%|██████████| 13/13 [00:00<00:00, 165.26it/s, loss=0.0007]\n",
      "Epoch 289/500 [Validation]: 100%|██████████| 79/79 [00:00<00:00, 278.65it/s]\n"
     ]
    },
    {
     "name": "stdout",
     "output_type": "stream",
     "text": [
      "Epoch [289/500], Train Loss: 0.0077, Train Accuracy: 100.00%, Validation Accuracy: 82.44%\n"
     ]
    },
    {
     "name": "stderr",
     "output_type": "stream",
     "text": [
      "Epoch 290/500 [Training]: 100%|██████████| 13/13 [00:00<00:00, 175.60it/s, loss=0.0007]\n",
      "Epoch 290/500 [Validation]: 100%|██████████| 79/79 [00:00<00:00, 320.25it/s]\n"
     ]
    },
    {
     "name": "stdout",
     "output_type": "stream",
     "text": [
      "Epoch [290/500], Train Loss: 0.0103, Train Accuracy: 100.00%, Validation Accuracy: 82.78%\n"
     ]
    },
    {
     "name": "stderr",
     "output_type": "stream",
     "text": [
      "Epoch 291/500 [Training]: 100%|██████████| 13/13 [00:00<00:00, 170.81it/s, loss=0.0013]\n",
      "Epoch 291/500 [Validation]: 100%|██████████| 79/79 [00:00<00:00, 314.46it/s]\n"
     ]
    },
    {
     "name": "stdout",
     "output_type": "stream",
     "text": [
      "Epoch [291/500], Train Loss: 0.0077, Train Accuracy: 100.00%, Validation Accuracy: 82.86%\n"
     ]
    },
    {
     "name": "stderr",
     "output_type": "stream",
     "text": [
      "Epoch 292/500 [Training]: 100%|██████████| 13/13 [00:00<00:00, 175.30it/s, loss=0.0007]\n",
      "Epoch 292/500 [Validation]: 100%|██████████| 79/79 [00:00<00:00, 326.44it/s]\n"
     ]
    },
    {
     "name": "stdout",
     "output_type": "stream",
     "text": [
      "Epoch [292/500], Train Loss: 0.0067, Train Accuracy: 100.00%, Validation Accuracy: 83.29%\n"
     ]
    },
    {
     "name": "stderr",
     "output_type": "stream",
     "text": [
      "Epoch 293/500 [Training]: 100%|██████████| 13/13 [00:00<00:00, 182.60it/s, loss=0.0009]\n",
      "Epoch 293/500 [Validation]: 100%|██████████| 79/79 [00:00<00:00, 248.43it/s]\n"
     ]
    },
    {
     "name": "stdout",
     "output_type": "stream",
     "text": [
      "Epoch [293/500], Train Loss: 0.0088, Train Accuracy: 100.00%, Validation Accuracy: 83.24%\n"
     ]
    },
    {
     "name": "stderr",
     "output_type": "stream",
     "text": [
      "Epoch 294/500 [Training]: 100%|██████████| 13/13 [00:00<00:00, 172.79it/s, loss=0.0059]\n",
      "Epoch 294/500 [Validation]: 100%|██████████| 79/79 [00:00<00:00, 347.13it/s]\n"
     ]
    },
    {
     "name": "stdout",
     "output_type": "stream",
     "text": [
      "Epoch [294/500], Train Loss: 0.0117, Train Accuracy: 100.00%, Validation Accuracy: 82.97%\n"
     ]
    },
    {
     "name": "stderr",
     "output_type": "stream",
     "text": [
      "Epoch 295/500 [Training]: 100%|██████████| 13/13 [00:00<00:00, 166.10it/s, loss=0.0008]\n",
      "Epoch 295/500 [Validation]: 100%|██████████| 79/79 [00:00<00:00, 313.34it/s]\n"
     ]
    },
    {
     "name": "stdout",
     "output_type": "stream",
     "text": [
      "Epoch [295/500], Train Loss: 0.0084, Train Accuracy: 100.00%, Validation Accuracy: 83.28%\n"
     ]
    },
    {
     "name": "stderr",
     "output_type": "stream",
     "text": [
      "Epoch 296/500 [Training]: 100%|██████████| 13/13 [00:00<00:00, 174.67it/s, loss=0.0007]\n",
      "Epoch 296/500 [Validation]: 100%|██████████| 79/79 [00:00<00:00, 282.65it/s]\n"
     ]
    },
    {
     "name": "stdout",
     "output_type": "stream",
     "text": [
      "Epoch [296/500], Train Loss: 0.0086, Train Accuracy: 100.00%, Validation Accuracy: 83.27%\n"
     ]
    },
    {
     "name": "stderr",
     "output_type": "stream",
     "text": [
      "Epoch 297/500 [Training]: 100%|██████████| 13/13 [00:00<00:00, 175.65it/s, loss=0.0052]\n",
      "Epoch 297/500 [Validation]: 100%|██████████| 79/79 [00:00<00:00, 306.88it/s]\n"
     ]
    },
    {
     "name": "stdout",
     "output_type": "stream",
     "text": [
      "Epoch [297/500], Train Loss: 0.0118, Train Accuracy: 100.00%, Validation Accuracy: 83.60%\n"
     ]
    },
    {
     "name": "stderr",
     "output_type": "stream",
     "text": [
      "Epoch 298/500 [Training]: 100%|██████████| 13/13 [00:00<00:00, 112.36it/s, loss=0.0007]\n",
      "Epoch 298/500 [Validation]: 100%|██████████| 79/79 [00:00<00:00, 340.79it/s]\n"
     ]
    },
    {
     "name": "stdout",
     "output_type": "stream",
     "text": [
      "Epoch [298/500], Train Loss: 0.0099, Train Accuracy: 100.00%, Validation Accuracy: 82.48%\n"
     ]
    },
    {
     "name": "stderr",
     "output_type": "stream",
     "text": [
      "Epoch 299/500 [Training]: 100%|██████████| 13/13 [00:00<00:00, 176.94it/s, loss=0.0007]\n",
      "Epoch 299/500 [Validation]: 100%|██████████| 79/79 [00:00<00:00, 309.74it/s]\n"
     ]
    },
    {
     "name": "stdout",
     "output_type": "stream",
     "text": [
      "Epoch [299/500], Train Loss: 0.0079, Train Accuracy: 100.00%, Validation Accuracy: 82.83%\n"
     ]
    },
    {
     "name": "stderr",
     "output_type": "stream",
     "text": [
      "Epoch 300/500 [Training]: 100%|██████████| 13/13 [00:00<00:00, 171.08it/s, loss=0.0006]\n",
      "Epoch 300/500 [Validation]: 100%|██████████| 79/79 [00:00<00:00, 339.68it/s]\n"
     ]
    },
    {
     "name": "stdout",
     "output_type": "stream",
     "text": [
      "Epoch [300/500], Train Loss: 0.0075, Train Accuracy: 100.00%, Validation Accuracy: 83.11%\n"
     ]
    },
    {
     "name": "stderr",
     "output_type": "stream",
     "text": [
      "Epoch 301/500 [Training]: 100%|██████████| 13/13 [00:00<00:00, 173.45it/s, loss=0.0006]\n",
      "Epoch 301/500 [Validation]: 100%|██████████| 79/79 [00:00<00:00, 320.75it/s]\n"
     ]
    },
    {
     "name": "stdout",
     "output_type": "stream",
     "text": [
      "Epoch [301/500], Train Loss: 0.0071, Train Accuracy: 100.00%, Validation Accuracy: 83.23%\n"
     ]
    },
    {
     "name": "stderr",
     "output_type": "stream",
     "text": [
      "Epoch 302/500 [Training]: 100%|██████████| 13/13 [00:00<00:00, 169.50it/s, loss=0.0016]\n",
      "Epoch 302/500 [Validation]: 100%|██████████| 79/79 [00:00<00:00, 264.44it/s]\n"
     ]
    },
    {
     "name": "stdout",
     "output_type": "stream",
     "text": [
      "Epoch [302/500], Train Loss: 0.0077, Train Accuracy: 100.00%, Validation Accuracy: 83.14%\n"
     ]
    },
    {
     "name": "stderr",
     "output_type": "stream",
     "text": [
      "Epoch 303/500 [Training]: 100%|██████████| 13/13 [00:00<00:00, 172.29it/s, loss=0.0009]\n",
      "Epoch 303/500 [Validation]: 100%|██████████| 79/79 [00:00<00:00, 301.80it/s]\n"
     ]
    },
    {
     "name": "stdout",
     "output_type": "stream",
     "text": [
      "Epoch [303/500], Train Loss: 0.0075, Train Accuracy: 100.00%, Validation Accuracy: 83.07%\n"
     ]
    },
    {
     "name": "stderr",
     "output_type": "stream",
     "text": [
      "Epoch 304/500 [Training]: 100%|██████████| 13/13 [00:00<00:00, 175.25it/s, loss=0.0005]\n",
      "Epoch 304/500 [Validation]: 100%|██████████| 79/79 [00:00<00:00, 307.90it/s]\n"
     ]
    },
    {
     "name": "stdout",
     "output_type": "stream",
     "text": [
      "Epoch [304/500], Train Loss: 0.0083, Train Accuracy: 100.00%, Validation Accuracy: 83.04%\n"
     ]
    },
    {
     "name": "stderr",
     "output_type": "stream",
     "text": [
      "Epoch 305/500 [Training]: 100%|██████████| 13/13 [00:00<00:00, 172.74it/s, loss=0.0005]\n",
      "Epoch 305/500 [Validation]: 100%|██████████| 79/79 [00:00<00:00, 281.43it/s]\n"
     ]
    },
    {
     "name": "stdout",
     "output_type": "stream",
     "text": [
      "Epoch [305/500], Train Loss: 0.0076, Train Accuracy: 100.00%, Validation Accuracy: 83.23%\n"
     ]
    },
    {
     "name": "stderr",
     "output_type": "stream",
     "text": [
      "Epoch 306/500 [Training]: 100%|██████████| 13/13 [00:00<00:00, 174.21it/s, loss=0.0022]\n",
      "Epoch 306/500 [Validation]: 100%|██████████| 79/79 [00:00<00:00, 268.82it/s]\n"
     ]
    },
    {
     "name": "stdout",
     "output_type": "stream",
     "text": [
      "Epoch [306/500], Train Loss: 0.0087, Train Accuracy: 100.00%, Validation Accuracy: 83.52%\n"
     ]
    },
    {
     "name": "stderr",
     "output_type": "stream",
     "text": [
      "Epoch 307/500 [Training]: 100%|██████████| 13/13 [00:00<00:00, 173.24it/s, loss=0.0007]\n",
      "Epoch 307/500 [Validation]: 100%|██████████| 79/79 [00:00<00:00, 271.85it/s]\n"
     ]
    },
    {
     "name": "stdout",
     "output_type": "stream",
     "text": [
      "Epoch [307/500], Train Loss: 0.0092, Train Accuracy: 100.00%, Validation Accuracy: 83.53%\n"
     ]
    },
    {
     "name": "stderr",
     "output_type": "stream",
     "text": [
      "Epoch 308/500 [Training]: 100%|██████████| 13/13 [00:00<00:00, 162.35it/s, loss=0.0008]\n",
      "Epoch 308/500 [Validation]: 100%|██████████| 79/79 [00:00<00:00, 296.85it/s]\n"
     ]
    },
    {
     "name": "stdout",
     "output_type": "stream",
     "text": [
      "Epoch [308/500], Train Loss: 0.0073, Train Accuracy: 100.00%, Validation Accuracy: 83.31%\n"
     ]
    },
    {
     "name": "stderr",
     "output_type": "stream",
     "text": [
      "Epoch 309/500 [Training]: 100%|██████████| 13/13 [00:00<00:00, 170.65it/s, loss=0.0012]\n",
      "Epoch 309/500 [Validation]: 100%|██████████| 79/79 [00:00<00:00, 339.37it/s]\n"
     ]
    },
    {
     "name": "stdout",
     "output_type": "stream",
     "text": [
      "Epoch [309/500], Train Loss: 0.0086, Train Accuracy: 100.00%, Validation Accuracy: 83.22%\n"
     ]
    },
    {
     "name": "stderr",
     "output_type": "stream",
     "text": [
      "Epoch 310/500 [Training]: 100%|██████████| 13/13 [00:00<00:00, 183.02it/s, loss=0.0014]\n",
      "Epoch 310/500 [Validation]: 100%|██████████| 79/79 [00:00<00:00, 320.77it/s]\n"
     ]
    },
    {
     "name": "stdout",
     "output_type": "stream",
     "text": [
      "Epoch [310/500], Train Loss: 0.0073, Train Accuracy: 100.00%, Validation Accuracy: 83.38%\n"
     ]
    },
    {
     "name": "stderr",
     "output_type": "stream",
     "text": [
      "Epoch 311/500 [Training]: 100%|██████████| 13/13 [00:00<00:00, 171.03it/s, loss=0.0008]\n",
      "Epoch 311/500 [Validation]: 100%|██████████| 79/79 [00:00<00:00, 246.94it/s]\n"
     ]
    },
    {
     "name": "stdout",
     "output_type": "stream",
     "text": [
      "Epoch [311/500], Train Loss: 0.0067, Train Accuracy: 100.00%, Validation Accuracy: 83.39%\n"
     ]
    },
    {
     "name": "stderr",
     "output_type": "stream",
     "text": [
      "Epoch 312/500 [Training]: 100%|██████████| 13/13 [00:00<00:00, 177.61it/s, loss=0.0005]\n",
      "Epoch 312/500 [Validation]: 100%|██████████| 79/79 [00:00<00:00, 289.08it/s]\n"
     ]
    },
    {
     "name": "stdout",
     "output_type": "stream",
     "text": [
      "Epoch [312/500], Train Loss: 0.0073, Train Accuracy: 100.00%, Validation Accuracy: 83.64%\n"
     ]
    },
    {
     "name": "stderr",
     "output_type": "stream",
     "text": [
      "Epoch 313/500 [Training]: 100%|██████████| 13/13 [00:00<00:00, 171.60it/s, loss=0.0018]\n",
      "Epoch 313/500 [Validation]: 100%|██████████| 79/79 [00:00<00:00, 326.50it/s]\n"
     ]
    },
    {
     "name": "stdout",
     "output_type": "stream",
     "text": [
      "Epoch [313/500], Train Loss: 0.0079, Train Accuracy: 100.00%, Validation Accuracy: 83.31%\n"
     ]
    },
    {
     "name": "stderr",
     "output_type": "stream",
     "text": [
      "Epoch 314/500 [Training]: 100%|██████████| 13/13 [00:00<00:00, 169.85it/s, loss=0.0020]\n",
      "Epoch 314/500 [Validation]: 100%|██████████| 79/79 [00:00<00:00, 315.56it/s]\n"
     ]
    },
    {
     "name": "stdout",
     "output_type": "stream",
     "text": [
      "Epoch [314/500], Train Loss: 0.0092, Train Accuracy: 100.00%, Validation Accuracy: 83.31%\n"
     ]
    },
    {
     "name": "stderr",
     "output_type": "stream",
     "text": [
      "Epoch 315/500 [Training]: 100%|██████████| 13/13 [00:00<00:00, 169.31it/s, loss=0.0016]\n",
      "Epoch 315/500 [Validation]: 100%|██████████| 79/79 [00:00<00:00, 319.19it/s]\n"
     ]
    },
    {
     "name": "stdout",
     "output_type": "stream",
     "text": [
      "Epoch [315/500], Train Loss: 0.0093, Train Accuracy: 100.00%, Validation Accuracy: 83.58%\n"
     ]
    },
    {
     "name": "stderr",
     "output_type": "stream",
     "text": [
      "Epoch 316/500 [Training]: 100%|██████████| 13/13 [00:00<00:00, 135.46it/s, loss=0.0005]\n",
      "Epoch 316/500 [Validation]: 100%|██████████| 79/79 [00:00<00:00, 317.60it/s]\n"
     ]
    },
    {
     "name": "stdout",
     "output_type": "stream",
     "text": [
      "Epoch [316/500], Train Loss: 0.0073, Train Accuracy: 100.00%, Validation Accuracy: 83.54%\n"
     ]
    },
    {
     "name": "stderr",
     "output_type": "stream",
     "text": [
      "Epoch 317/500 [Training]: 100%|██████████| 13/13 [00:00<00:00, 165.47it/s, loss=0.0006]\n",
      "Epoch 317/500 [Validation]: 100%|██████████| 79/79 [00:00<00:00, 301.24it/s]\n"
     ]
    },
    {
     "name": "stdout",
     "output_type": "stream",
     "text": [
      "Epoch [317/500], Train Loss: 0.0063, Train Accuracy: 100.00%, Validation Accuracy: 83.62%\n"
     ]
    },
    {
     "name": "stderr",
     "output_type": "stream",
     "text": [
      "Epoch 318/500 [Training]: 100%|██████████| 13/13 [00:00<00:00, 169.57it/s, loss=0.0021]\n",
      "Epoch 318/500 [Validation]: 100%|██████████| 79/79 [00:00<00:00, 317.19it/s]\n"
     ]
    },
    {
     "name": "stdout",
     "output_type": "stream",
     "text": [
      "Epoch [318/500], Train Loss: 0.0087, Train Accuracy: 100.00%, Validation Accuracy: 83.80%\n"
     ]
    },
    {
     "name": "stderr",
     "output_type": "stream",
     "text": [
      "Epoch 319/500 [Training]: 100%|██████████| 13/13 [00:00<00:00, 178.77it/s, loss=0.0005]\n",
      "Epoch 319/500 [Validation]: 100%|██████████| 79/79 [00:00<00:00, 340.69it/s]\n"
     ]
    },
    {
     "name": "stdout",
     "output_type": "stream",
     "text": [
      "Epoch [319/500], Train Loss: 0.0086, Train Accuracy: 100.00%, Validation Accuracy: 83.45%\n"
     ]
    },
    {
     "name": "stderr",
     "output_type": "stream",
     "text": [
      "Epoch 320/500 [Training]: 100%|██████████| 13/13 [00:00<00:00, 112.68it/s, loss=0.0007]\n",
      "Epoch 320/500 [Validation]: 100%|██████████| 79/79 [00:00<00:00, 299.18it/s]\n"
     ]
    },
    {
     "name": "stdout",
     "output_type": "stream",
     "text": [
      "Epoch [320/500], Train Loss: 0.0069, Train Accuracy: 100.00%, Validation Accuracy: 83.37%\n"
     ]
    },
    {
     "name": "stderr",
     "output_type": "stream",
     "text": [
      "Epoch 321/500 [Training]: 100%|██████████| 13/13 [00:00<00:00, 169.34it/s, loss=0.0007]\n",
      "Epoch 321/500 [Validation]: 100%|██████████| 79/79 [00:00<00:00, 312.00it/s]\n"
     ]
    },
    {
     "name": "stdout",
     "output_type": "stream",
     "text": [
      "Epoch [321/500], Train Loss: 0.0068, Train Accuracy: 100.00%, Validation Accuracy: 83.54%\n"
     ]
    },
    {
     "name": "stderr",
     "output_type": "stream",
     "text": [
      "Epoch 322/500 [Training]: 100%|██████████| 13/13 [00:00<00:00, 172.95it/s, loss=0.0005]\n",
      "Epoch 322/500 [Validation]: 100%|██████████| 79/79 [00:00<00:00, 352.50it/s]\n"
     ]
    },
    {
     "name": "stdout",
     "output_type": "stream",
     "text": [
      "Epoch [322/500], Train Loss: 0.0065, Train Accuracy: 100.00%, Validation Accuracy: 83.47%\n"
     ]
    },
    {
     "name": "stderr",
     "output_type": "stream",
     "text": [
      "Epoch 323/500 [Training]: 100%|██████████| 13/13 [00:00<00:00, 169.42it/s, loss=0.0018]\n",
      "Epoch 323/500 [Validation]: 100%|██████████| 79/79 [00:00<00:00, 306.50it/s]\n"
     ]
    },
    {
     "name": "stdout",
     "output_type": "stream",
     "text": [
      "Epoch [323/500], Train Loss: 0.0089, Train Accuracy: 100.00%, Validation Accuracy: 83.37%\n"
     ]
    },
    {
     "name": "stderr",
     "output_type": "stream",
     "text": [
      "Epoch 324/500 [Training]: 100%|██████████| 13/13 [00:00<00:00, 174.33it/s, loss=0.0013]\n",
      "Epoch 324/500 [Validation]: 100%|██████████| 79/79 [00:00<00:00, 254.58it/s]\n"
     ]
    },
    {
     "name": "stdout",
     "output_type": "stream",
     "text": [
      "Epoch [324/500], Train Loss: 0.0077, Train Accuracy: 100.00%, Validation Accuracy: 83.15%\n"
     ]
    },
    {
     "name": "stderr",
     "output_type": "stream",
     "text": [
      "Epoch 325/500 [Training]: 100%|██████████| 13/13 [00:00<00:00, 176.18it/s, loss=0.0017]\n",
      "Epoch 325/500 [Validation]: 100%|██████████| 79/79 [00:00<00:00, 315.93it/s]\n"
     ]
    },
    {
     "name": "stdout",
     "output_type": "stream",
     "text": [
      "Epoch [325/500], Train Loss: 0.0075, Train Accuracy: 100.00%, Validation Accuracy: 83.57%\n"
     ]
    },
    {
     "name": "stderr",
     "output_type": "stream",
     "text": [
      "Epoch 326/500 [Training]: 100%|██████████| 13/13 [00:00<00:00, 175.65it/s, loss=0.0015]\n",
      "Epoch 326/500 [Validation]: 100%|██████████| 79/79 [00:00<00:00, 302.30it/s]\n"
     ]
    },
    {
     "name": "stdout",
     "output_type": "stream",
     "text": [
      "Epoch [326/500], Train Loss: 0.0082, Train Accuracy: 100.00%, Validation Accuracy: 83.30%\n"
     ]
    },
    {
     "name": "stderr",
     "output_type": "stream",
     "text": [
      "Epoch 327/500 [Training]: 100%|██████████| 13/13 [00:00<00:00, 174.99it/s, loss=0.0013]\n",
      "Epoch 327/500 [Validation]: 100%|██████████| 79/79 [00:00<00:00, 285.89it/s]\n"
     ]
    },
    {
     "name": "stdout",
     "output_type": "stream",
     "text": [
      "Epoch [327/500], Train Loss: 0.0079, Train Accuracy: 100.00%, Validation Accuracy: 83.88%\n"
     ]
    },
    {
     "name": "stderr",
     "output_type": "stream",
     "text": [
      "Epoch 328/500 [Training]: 100%|██████████| 13/13 [00:00<00:00, 123.40it/s, loss=0.0006]\n",
      "Epoch 328/500 [Validation]: 100%|██████████| 79/79 [00:00<00:00, 317.23it/s]\n"
     ]
    },
    {
     "name": "stdout",
     "output_type": "stream",
     "text": [
      "Epoch [328/500], Train Loss: 0.0065, Train Accuracy: 100.00%, Validation Accuracy: 84.02%\n"
     ]
    },
    {
     "name": "stderr",
     "output_type": "stream",
     "text": [
      "Epoch 329/500 [Training]: 100%|██████████| 13/13 [00:00<00:00, 172.47it/s, loss=0.0008]\n",
      "Epoch 329/500 [Validation]: 100%|██████████| 79/79 [00:00<00:00, 285.20it/s]\n"
     ]
    },
    {
     "name": "stdout",
     "output_type": "stream",
     "text": [
      "Epoch [329/500], Train Loss: 0.0073, Train Accuracy: 100.00%, Validation Accuracy: 83.39%\n"
     ]
    },
    {
     "name": "stderr",
     "output_type": "stream",
     "text": [
      "Epoch 330/500 [Training]: 100%|██████████| 13/13 [00:00<00:00, 167.45it/s, loss=0.0010]\n",
      "Epoch 330/500 [Validation]: 100%|██████████| 79/79 [00:00<00:00, 333.04it/s]\n"
     ]
    },
    {
     "name": "stdout",
     "output_type": "stream",
     "text": [
      "Epoch [330/500], Train Loss: 0.0071, Train Accuracy: 100.00%, Validation Accuracy: 83.67%\n"
     ]
    },
    {
     "name": "stderr",
     "output_type": "stream",
     "text": [
      "Epoch 331/500 [Training]: 100%|██████████| 13/13 [00:00<00:00, 169.59it/s, loss=0.0006]\n",
      "Epoch 331/500 [Validation]: 100%|██████████| 79/79 [00:00<00:00, 294.86it/s]\n"
     ]
    },
    {
     "name": "stdout",
     "output_type": "stream",
     "text": [
      "Epoch [331/500], Train Loss: 0.0064, Train Accuracy: 100.00%, Validation Accuracy: 83.65%\n"
     ]
    },
    {
     "name": "stderr",
     "output_type": "stream",
     "text": [
      "Epoch 332/500 [Training]: 100%|██████████| 13/13 [00:00<00:00, 143.16it/s, loss=0.0006]\n",
      "Epoch 332/500 [Validation]: 100%|██████████| 79/79 [00:00<00:00, 303.25it/s]\n"
     ]
    },
    {
     "name": "stdout",
     "output_type": "stream",
     "text": [
      "Epoch [332/500], Train Loss: 0.0069, Train Accuracy: 100.00%, Validation Accuracy: 83.64%\n"
     ]
    },
    {
     "name": "stderr",
     "output_type": "stream",
     "text": [
      "Epoch 333/500 [Training]: 100%|██████████| 13/13 [00:00<00:00, 161.29it/s, loss=0.0017]\n",
      "Epoch 333/500 [Validation]: 100%|██████████| 79/79 [00:00<00:00, 283.36it/s]\n"
     ]
    },
    {
     "name": "stdout",
     "output_type": "stream",
     "text": [
      "Epoch [333/500], Train Loss: 0.0076, Train Accuracy: 100.00%, Validation Accuracy: 83.87%\n"
     ]
    },
    {
     "name": "stderr",
     "output_type": "stream",
     "text": [
      "Epoch 334/500 [Training]: 100%|██████████| 13/13 [00:00<00:00, 176.99it/s, loss=0.0009]\n",
      "Epoch 334/500 [Validation]: 100%|██████████| 79/79 [00:00<00:00, 281.25it/s]\n"
     ]
    },
    {
     "name": "stdout",
     "output_type": "stream",
     "text": [
      "Epoch [334/500], Train Loss: 0.0060, Train Accuracy: 100.00%, Validation Accuracy: 83.73%\n"
     ]
    },
    {
     "name": "stderr",
     "output_type": "stream",
     "text": [
      "Epoch 335/500 [Training]: 100%|██████████| 13/13 [00:00<00:00, 171.18it/s, loss=0.0006]\n",
      "Epoch 335/500 [Validation]: 100%|██████████| 79/79 [00:00<00:00, 306.49it/s]\n"
     ]
    },
    {
     "name": "stdout",
     "output_type": "stream",
     "text": [
      "Epoch [335/500], Train Loss: 0.0065, Train Accuracy: 100.00%, Validation Accuracy: 83.31%\n"
     ]
    },
    {
     "name": "stderr",
     "output_type": "stream",
     "text": [
      "Epoch 336/500 [Training]: 100%|██████████| 13/13 [00:00<00:00, 161.05it/s, loss=0.0009]\n",
      "Epoch 336/500 [Validation]: 100%|██████████| 79/79 [00:00<00:00, 274.91it/s]\n"
     ]
    },
    {
     "name": "stdout",
     "output_type": "stream",
     "text": [
      "Epoch [336/500], Train Loss: 0.0078, Train Accuracy: 100.00%, Validation Accuracy: 83.78%\n"
     ]
    },
    {
     "name": "stderr",
     "output_type": "stream",
     "text": [
      "Epoch 337/500 [Training]: 100%|██████████| 13/13 [00:00<00:00, 166.78it/s, loss=0.0005]\n",
      "Epoch 337/500 [Validation]: 100%|██████████| 79/79 [00:00<00:00, 294.31it/s]\n"
     ]
    },
    {
     "name": "stdout",
     "output_type": "stream",
     "text": [
      "Epoch [337/500], Train Loss: 0.0059, Train Accuracy: 100.00%, Validation Accuracy: 83.70%\n"
     ]
    },
    {
     "name": "stderr",
     "output_type": "stream",
     "text": [
      "Epoch 338/500 [Training]: 100%|██████████| 13/13 [00:00<00:00, 172.75it/s, loss=0.0010]\n",
      "Epoch 338/500 [Validation]: 100%|██████████| 79/79 [00:00<00:00, 296.02it/s]\n"
     ]
    },
    {
     "name": "stdout",
     "output_type": "stream",
     "text": [
      "Epoch [338/500], Train Loss: 0.0079, Train Accuracy: 100.00%, Validation Accuracy: 83.65%\n"
     ]
    },
    {
     "name": "stderr",
     "output_type": "stream",
     "text": [
      "Epoch 339/500 [Training]: 100%|██████████| 13/13 [00:00<00:00, 175.47it/s, loss=0.0019]\n",
      "Epoch 339/500 [Validation]: 100%|██████████| 79/79 [00:00<00:00, 318.50it/s]\n"
     ]
    },
    {
     "name": "stdout",
     "output_type": "stream",
     "text": [
      "Epoch [339/500], Train Loss: 0.0082, Train Accuracy: 100.00%, Validation Accuracy: 83.65%\n"
     ]
    },
    {
     "name": "stderr",
     "output_type": "stream",
     "text": [
      "Epoch 340/500 [Training]: 100%|██████████| 13/13 [00:00<00:00, 175.18it/s, loss=0.0014]\n",
      "Epoch 340/500 [Validation]: 100%|██████████| 79/79 [00:00<00:00, 254.90it/s]\n"
     ]
    },
    {
     "name": "stdout",
     "output_type": "stream",
     "text": [
      "Epoch [340/500], Train Loss: 0.0082, Train Accuracy: 100.00%, Validation Accuracy: 83.63%\n"
     ]
    },
    {
     "name": "stderr",
     "output_type": "stream",
     "text": [
      "Epoch 341/500 [Training]: 100%|██████████| 13/13 [00:00<00:00, 174.70it/s, loss=0.0007]\n",
      "Epoch 341/500 [Validation]: 100%|██████████| 79/79 [00:00<00:00, 317.61it/s]\n"
     ]
    },
    {
     "name": "stdout",
     "output_type": "stream",
     "text": [
      "Epoch [341/500], Train Loss: 0.0077, Train Accuracy: 100.00%, Validation Accuracy: 83.70%\n"
     ]
    },
    {
     "name": "stderr",
     "output_type": "stream",
     "text": [
      "Epoch 342/500 [Training]: 100%|██████████| 13/13 [00:00<00:00, 167.27it/s, loss=0.0007]\n",
      "Epoch 342/500 [Validation]: 100%|██████████| 79/79 [00:00<00:00, 330.97it/s]\n"
     ]
    },
    {
     "name": "stdout",
     "output_type": "stream",
     "text": [
      "Epoch [342/500], Train Loss: 0.0066, Train Accuracy: 100.00%, Validation Accuracy: 83.90%\n"
     ]
    },
    {
     "name": "stderr",
     "output_type": "stream",
     "text": [
      "Epoch 343/500 [Training]: 100%|██████████| 13/13 [00:00<00:00, 168.92it/s, loss=0.0014]\n",
      "Epoch 343/500 [Validation]: 100%|██████████| 79/79 [00:00<00:00, 316.38it/s]\n"
     ]
    },
    {
     "name": "stdout",
     "output_type": "stream",
     "text": [
      "Epoch [343/500], Train Loss: 0.0073, Train Accuracy: 100.00%, Validation Accuracy: 83.72%\n"
     ]
    },
    {
     "name": "stderr",
     "output_type": "stream",
     "text": [
      "Epoch 344/500 [Training]: 100%|██████████| 13/13 [00:00<00:00, 170.78it/s, loss=0.0004]\n",
      "Epoch 344/500 [Validation]: 100%|██████████| 79/79 [00:00<00:00, 320.90it/s]\n"
     ]
    },
    {
     "name": "stdout",
     "output_type": "stream",
     "text": [
      "Epoch [344/500], Train Loss: 0.0066, Train Accuracy: 100.00%, Validation Accuracy: 83.69%\n"
     ]
    },
    {
     "name": "stderr",
     "output_type": "stream",
     "text": [
      "Epoch 345/500 [Training]: 100%|██████████| 13/13 [00:00<00:00, 117.42it/s, loss=0.0005]\n",
      "Epoch 345/500 [Validation]: 100%|██████████| 79/79 [00:00<00:00, 290.77it/s]\n"
     ]
    },
    {
     "name": "stdout",
     "output_type": "stream",
     "text": [
      "Epoch [345/500], Train Loss: 0.0065, Train Accuracy: 100.00%, Validation Accuracy: 83.76%\n"
     ]
    },
    {
     "name": "stderr",
     "output_type": "stream",
     "text": [
      "Epoch 346/500 [Training]: 100%|██████████| 13/13 [00:00<00:00, 174.81it/s, loss=0.0006]\n",
      "Epoch 346/500 [Validation]: 100%|██████████| 79/79 [00:00<00:00, 308.66it/s]\n"
     ]
    },
    {
     "name": "stdout",
     "output_type": "stream",
     "text": [
      "Epoch [346/500], Train Loss: 0.0081, Train Accuracy: 100.00%, Validation Accuracy: 83.83%\n"
     ]
    },
    {
     "name": "stderr",
     "output_type": "stream",
     "text": [
      "Epoch 347/500 [Training]: 100%|██████████| 13/13 [00:00<00:00, 171.56it/s, loss=0.0006]\n",
      "Epoch 347/500 [Validation]: 100%|██████████| 79/79 [00:00<00:00, 301.44it/s]\n"
     ]
    },
    {
     "name": "stdout",
     "output_type": "stream",
     "text": [
      "Epoch [347/500], Train Loss: 0.0079, Train Accuracy: 100.00%, Validation Accuracy: 84.23%\n"
     ]
    },
    {
     "name": "stderr",
     "output_type": "stream",
     "text": [
      "Epoch 348/500 [Training]: 100%|██████████| 13/13 [00:00<00:00, 158.13it/s, loss=0.0014]\n",
      "Epoch 348/500 [Validation]: 100%|██████████| 79/79 [00:00<00:00, 284.77it/s]\n"
     ]
    },
    {
     "name": "stdout",
     "output_type": "stream",
     "text": [
      "Epoch [348/500], Train Loss: 0.0068, Train Accuracy: 100.00%, Validation Accuracy: 83.88%\n"
     ]
    },
    {
     "name": "stderr",
     "output_type": "stream",
     "text": [
      "Epoch 349/500 [Training]: 100%|██████████| 13/13 [00:00<00:00, 162.66it/s, loss=0.0040]\n",
      "Epoch 349/500 [Validation]: 100%|██████████| 79/79 [00:00<00:00, 281.41it/s]\n"
     ]
    },
    {
     "name": "stdout",
     "output_type": "stream",
     "text": [
      "Epoch [349/500], Train Loss: 0.0104, Train Accuracy: 100.00%, Validation Accuracy: 83.73%\n"
     ]
    },
    {
     "name": "stderr",
     "output_type": "stream",
     "text": [
      "Epoch 350/500 [Training]: 100%|██████████| 13/13 [00:00<00:00, 166.91it/s, loss=0.0019]\n",
      "Epoch 350/500 [Validation]: 100%|██████████| 79/79 [00:00<00:00, 351.13it/s]\n"
     ]
    },
    {
     "name": "stdout",
     "output_type": "stream",
     "text": [
      "Epoch [350/500], Train Loss: 0.0078, Train Accuracy: 100.00%, Validation Accuracy: 84.06%\n"
     ]
    },
    {
     "name": "stderr",
     "output_type": "stream",
     "text": [
      "Epoch 351/500 [Training]: 100%|██████████| 13/13 [00:00<00:00, 164.48it/s, loss=0.0010]\n",
      "Epoch 351/500 [Validation]: 100%|██████████| 79/79 [00:00<00:00, 299.65it/s]\n"
     ]
    },
    {
     "name": "stdout",
     "output_type": "stream",
     "text": [
      "Epoch [351/500], Train Loss: 0.0086, Train Accuracy: 100.00%, Validation Accuracy: 84.13%\n"
     ]
    },
    {
     "name": "stderr",
     "output_type": "stream",
     "text": [
      "Epoch 352/500 [Training]: 100%|██████████| 13/13 [00:00<00:00, 176.33it/s, loss=0.0023]\n",
      "Epoch 352/500 [Validation]: 100%|██████████| 79/79 [00:00<00:00, 283.87it/s]\n"
     ]
    },
    {
     "name": "stdout",
     "output_type": "stream",
     "text": [
      "Epoch [352/500], Train Loss: 0.0081, Train Accuracy: 100.00%, Validation Accuracy: 84.11%\n"
     ]
    },
    {
     "name": "stderr",
     "output_type": "stream",
     "text": [
      "Epoch 353/500 [Training]: 100%|██████████| 13/13 [00:00<00:00, 170.62it/s, loss=0.0007]\n",
      "Epoch 353/500 [Validation]: 100%|██████████| 79/79 [00:00<00:00, 331.74it/s]\n"
     ]
    },
    {
     "name": "stdout",
     "output_type": "stream",
     "text": [
      "Epoch [353/500], Train Loss: 0.0068, Train Accuracy: 100.00%, Validation Accuracy: 84.16%\n"
     ]
    },
    {
     "name": "stderr",
     "output_type": "stream",
     "text": [
      "Epoch 354/500 [Training]: 100%|██████████| 13/13 [00:00<00:00, 132.85it/s, loss=0.0005]\n",
      "Epoch 354/500 [Validation]: 100%|██████████| 79/79 [00:00<00:00, 301.39it/s]\n"
     ]
    },
    {
     "name": "stdout",
     "output_type": "stream",
     "text": [
      "Epoch [354/500], Train Loss: 0.0065, Train Accuracy: 100.00%, Validation Accuracy: 84.06%\n"
     ]
    },
    {
     "name": "stderr",
     "output_type": "stream",
     "text": [
      "Epoch 355/500 [Training]: 100%|██████████| 13/13 [00:00<00:00, 176.03it/s, loss=0.0006]\n",
      "Epoch 355/500 [Validation]: 100%|██████████| 79/79 [00:00<00:00, 290.45it/s]\n"
     ]
    },
    {
     "name": "stdout",
     "output_type": "stream",
     "text": [
      "Epoch [355/500], Train Loss: 0.0066, Train Accuracy: 100.00%, Validation Accuracy: 83.99%\n"
     ]
    },
    {
     "name": "stderr",
     "output_type": "stream",
     "text": [
      "Epoch 356/500 [Training]: 100%|██████████| 13/13 [00:00<00:00, 170.77it/s, loss=0.0006]\n",
      "Epoch 356/500 [Validation]: 100%|██████████| 79/79 [00:00<00:00, 303.34it/s]\n"
     ]
    },
    {
     "name": "stdout",
     "output_type": "stream",
     "text": [
      "Epoch [356/500], Train Loss: 0.0065, Train Accuracy: 100.00%, Validation Accuracy: 84.37%\n"
     ]
    },
    {
     "name": "stderr",
     "output_type": "stream",
     "text": [
      "Epoch 357/500 [Training]: 100%|██████████| 13/13 [00:00<00:00, 166.20it/s, loss=0.0008]\n",
      "Epoch 357/500 [Validation]: 100%|██████████| 79/79 [00:00<00:00, 291.23it/s]\n"
     ]
    },
    {
     "name": "stdout",
     "output_type": "stream",
     "text": [
      "Epoch [357/500], Train Loss: 0.0068, Train Accuracy: 100.00%, Validation Accuracy: 84.13%\n"
     ]
    },
    {
     "name": "stderr",
     "output_type": "stream",
     "text": [
      "Epoch 358/500 [Training]: 100%|██████████| 13/13 [00:00<00:00, 150.36it/s, loss=0.0015]\n",
      "Epoch 358/500 [Validation]: 100%|██████████| 79/79 [00:00<00:00, 263.78it/s]\n"
     ]
    },
    {
     "name": "stdout",
     "output_type": "stream",
     "text": [
      "Epoch [358/500], Train Loss: 0.0073, Train Accuracy: 100.00%, Validation Accuracy: 84.02%\n"
     ]
    },
    {
     "name": "stderr",
     "output_type": "stream",
     "text": [
      "Epoch 359/500 [Training]: 100%|██████████| 13/13 [00:00<00:00, 176.03it/s, loss=0.0005]\n",
      "Epoch 359/500 [Validation]: 100%|██████████| 79/79 [00:00<00:00, 352.31it/s]\n"
     ]
    },
    {
     "name": "stdout",
     "output_type": "stream",
     "text": [
      "Epoch [359/500], Train Loss: 0.0057, Train Accuracy: 100.00%, Validation Accuracy: 84.07%\n"
     ]
    },
    {
     "name": "stderr",
     "output_type": "stream",
     "text": [
      "Epoch 360/500 [Training]: 100%|██████████| 13/13 [00:00<00:00, 169.40it/s, loss=0.0016]\n",
      "Epoch 360/500 [Validation]: 100%|██████████| 79/79 [00:00<00:00, 291.25it/s]\n"
     ]
    },
    {
     "name": "stdout",
     "output_type": "stream",
     "text": [
      "Epoch [360/500], Train Loss: 0.0082, Train Accuracy: 100.00%, Validation Accuracy: 84.31%\n"
     ]
    },
    {
     "name": "stderr",
     "output_type": "stream",
     "text": [
      "Epoch 361/500 [Training]: 100%|██████████| 13/13 [00:00<00:00, 183.30it/s, loss=0.0005]\n",
      "Epoch 361/500 [Validation]: 100%|██████████| 79/79 [00:00<00:00, 316.15it/s]\n"
     ]
    },
    {
     "name": "stdout",
     "output_type": "stream",
     "text": [
      "Epoch [361/500], Train Loss: 0.0061, Train Accuracy: 100.00%, Validation Accuracy: 83.98%\n"
     ]
    },
    {
     "name": "stderr",
     "output_type": "stream",
     "text": [
      "Epoch 362/500 [Training]: 100%|██████████| 13/13 [00:00<00:00, 163.23it/s, loss=0.0005]\n",
      "Epoch 362/500 [Validation]: 100%|██████████| 79/79 [00:00<00:00, 261.90it/s]\n"
     ]
    },
    {
     "name": "stdout",
     "output_type": "stream",
     "text": [
      "Epoch [362/500], Train Loss: 0.0067, Train Accuracy: 100.00%, Validation Accuracy: 84.28%\n"
     ]
    },
    {
     "name": "stderr",
     "output_type": "stream",
     "text": [
      "Epoch 363/500 [Training]: 100%|██████████| 13/13 [00:00<00:00, 156.74it/s, loss=0.0013]\n",
      "Epoch 363/500 [Validation]: 100%|██████████| 79/79 [00:00<00:00, 294.24it/s]\n"
     ]
    },
    {
     "name": "stdout",
     "output_type": "stream",
     "text": [
      "Epoch [363/500], Train Loss: 0.0064, Train Accuracy: 100.00%, Validation Accuracy: 84.17%\n"
     ]
    },
    {
     "name": "stderr",
     "output_type": "stream",
     "text": [
      "Epoch 364/500 [Training]: 100%|██████████| 13/13 [00:00<00:00, 164.14it/s, loss=0.0006]\n",
      "Epoch 364/500 [Validation]: 100%|██████████| 79/79 [00:00<00:00, 306.35it/s]\n"
     ]
    },
    {
     "name": "stdout",
     "output_type": "stream",
     "text": [
      "Epoch [364/500], Train Loss: 0.0064, Train Accuracy: 100.00%, Validation Accuracy: 84.19%\n"
     ]
    },
    {
     "name": "stderr",
     "output_type": "stream",
     "text": [
      "Epoch 365/500 [Training]: 100%|██████████| 13/13 [00:00<00:00, 172.11it/s, loss=0.0006]\n",
      "Epoch 365/500 [Validation]: 100%|██████████| 79/79 [00:00<00:00, 282.21it/s]\n"
     ]
    },
    {
     "name": "stdout",
     "output_type": "stream",
     "text": [
      "Epoch [365/500], Train Loss: 0.0096, Train Accuracy: 100.00%, Validation Accuracy: 83.88%\n"
     ]
    },
    {
     "name": "stderr",
     "output_type": "stream",
     "text": [
      "Epoch 366/500 [Training]: 100%|██████████| 13/13 [00:00<00:00, 171.47it/s, loss=0.0007]\n",
      "Epoch 366/500 [Validation]: 100%|██████████| 79/79 [00:00<00:00, 294.75it/s]\n"
     ]
    },
    {
     "name": "stdout",
     "output_type": "stream",
     "text": [
      "Epoch [366/500], Train Loss: 0.0071, Train Accuracy: 100.00%, Validation Accuracy: 83.77%\n"
     ]
    },
    {
     "name": "stderr",
     "output_type": "stream",
     "text": [
      "Epoch 367/500 [Training]: 100%|██████████| 13/13 [00:00<00:00, 159.49it/s, loss=0.0016]\n",
      "Epoch 367/500 [Validation]: 100%|██████████| 79/79 [00:00<00:00, 274.18it/s]\n"
     ]
    },
    {
     "name": "stdout",
     "output_type": "stream",
     "text": [
      "Epoch [367/500], Train Loss: 0.0067, Train Accuracy: 100.00%, Validation Accuracy: 84.25%\n"
     ]
    },
    {
     "name": "stderr",
     "output_type": "stream",
     "text": [
      "Epoch 368/500 [Training]: 100%|██████████| 13/13 [00:00<00:00, 154.50it/s, loss=0.0005]\n",
      "Epoch 368/500 [Validation]: 100%|██████████| 79/79 [00:00<00:00, 331.18it/s]\n"
     ]
    },
    {
     "name": "stdout",
     "output_type": "stream",
     "text": [
      "Epoch [368/500], Train Loss: 0.0062, Train Accuracy: 100.00%, Validation Accuracy: 84.00%\n"
     ]
    },
    {
     "name": "stderr",
     "output_type": "stream",
     "text": [
      "Epoch 369/500 [Training]: 100%|██████████| 13/13 [00:00<00:00, 163.26it/s, loss=0.0011]\n",
      "Epoch 369/500 [Validation]: 100%|██████████| 79/79 [00:00<00:00, 301.38it/s]\n"
     ]
    },
    {
     "name": "stdout",
     "output_type": "stream",
     "text": [
      "Epoch [369/500], Train Loss: 0.0061, Train Accuracy: 100.00%, Validation Accuracy: 84.10%\n"
     ]
    },
    {
     "name": "stderr",
     "output_type": "stream",
     "text": [
      "Epoch 370/500 [Training]: 100%|██████████| 13/13 [00:00<00:00, 176.16it/s, loss=0.0014]\n",
      "Epoch 370/500 [Validation]: 100%|██████████| 79/79 [00:00<00:00, 275.47it/s]\n"
     ]
    },
    {
     "name": "stdout",
     "output_type": "stream",
     "text": [
      "Epoch [370/500], Train Loss: 0.0074, Train Accuracy: 100.00%, Validation Accuracy: 84.15%\n"
     ]
    },
    {
     "name": "stderr",
     "output_type": "stream",
     "text": [
      "Epoch 371/500 [Training]: 100%|██████████| 13/13 [00:00<00:00, 99.87it/s, loss=0.0005] \n",
      "Epoch 371/500 [Validation]: 100%|██████████| 79/79 [00:00<00:00, 247.14it/s]\n"
     ]
    },
    {
     "name": "stdout",
     "output_type": "stream",
     "text": [
      "Epoch [371/500], Train Loss: 0.0063, Train Accuracy: 100.00%, Validation Accuracy: 84.60%\n"
     ]
    },
    {
     "name": "stderr",
     "output_type": "stream",
     "text": [
      "Epoch 372/500 [Training]: 100%|██████████| 13/13 [00:00<00:00, 170.48it/s, loss=0.0006]\n",
      "Epoch 372/500 [Validation]: 100%|██████████| 79/79 [00:00<00:00, 340.62it/s]\n"
     ]
    },
    {
     "name": "stdout",
     "output_type": "stream",
     "text": [
      "Epoch [372/500], Train Loss: 0.0057, Train Accuracy: 100.00%, Validation Accuracy: 84.74%\n"
     ]
    },
    {
     "name": "stderr",
     "output_type": "stream",
     "text": [
      "Epoch 373/500 [Training]: 100%|██████████| 13/13 [00:00<00:00, 170.07it/s, loss=0.0016]\n",
      "Epoch 373/500 [Validation]: 100%|██████████| 79/79 [00:00<00:00, 303.99it/s]\n"
     ]
    },
    {
     "name": "stdout",
     "output_type": "stream",
     "text": [
      "Epoch [373/500], Train Loss: 0.0070, Train Accuracy: 100.00%, Validation Accuracy: 84.91%\n"
     ]
    },
    {
     "name": "stderr",
     "output_type": "stream",
     "text": [
      "Epoch 374/500 [Training]: 100%|██████████| 13/13 [00:00<00:00, 170.11it/s, loss=0.0014]\n",
      "Epoch 374/500 [Validation]: 100%|██████████| 79/79 [00:00<00:00, 300.54it/s]\n"
     ]
    },
    {
     "name": "stdout",
     "output_type": "stream",
     "text": [
      "Epoch [374/500], Train Loss: 0.0066, Train Accuracy: 100.00%, Validation Accuracy: 83.94%\n"
     ]
    },
    {
     "name": "stderr",
     "output_type": "stream",
     "text": [
      "Epoch 375/500 [Training]: 100%|██████████| 13/13 [00:00<00:00, 168.16it/s, loss=0.0005]\n",
      "Epoch 375/500 [Validation]: 100%|██████████| 79/79 [00:00<00:00, 329.79it/s]\n"
     ]
    },
    {
     "name": "stdout",
     "output_type": "stream",
     "text": [
      "Epoch [375/500], Train Loss: 0.0059, Train Accuracy: 100.00%, Validation Accuracy: 84.42%\n"
     ]
    },
    {
     "name": "stderr",
     "output_type": "stream",
     "text": [
      "Epoch 376/500 [Training]: 100%|██████████| 13/13 [00:00<00:00, 100.32it/s, loss=0.0005]\n",
      "Epoch 376/500 [Validation]: 100%|██████████| 79/79 [00:00<00:00, 323.06it/s]\n"
     ]
    },
    {
     "name": "stdout",
     "output_type": "stream",
     "text": [
      "Epoch [376/500], Train Loss: 0.0061, Train Accuracy: 100.00%, Validation Accuracy: 84.32%\n"
     ]
    },
    {
     "name": "stderr",
     "output_type": "stream",
     "text": [
      "Epoch 377/500 [Training]: 100%|██████████| 13/13 [00:00<00:00, 173.70it/s, loss=0.0012]\n",
      "Epoch 377/500 [Validation]: 100%|██████████| 79/79 [00:00<00:00, 251.85it/s]\n"
     ]
    },
    {
     "name": "stdout",
     "output_type": "stream",
     "text": [
      "Epoch [377/500], Train Loss: 0.0090, Train Accuracy: 100.00%, Validation Accuracy: 84.43%\n"
     ]
    },
    {
     "name": "stderr",
     "output_type": "stream",
     "text": [
      "Epoch 378/500 [Training]: 100%|██████████| 13/13 [00:00<00:00, 165.39it/s, loss=0.0012]\n",
      "Epoch 378/500 [Validation]: 100%|██████████| 79/79 [00:00<00:00, 316.88it/s]\n"
     ]
    },
    {
     "name": "stdout",
     "output_type": "stream",
     "text": [
      "Epoch [378/500], Train Loss: 0.0069, Train Accuracy: 100.00%, Validation Accuracy: 84.41%\n"
     ]
    },
    {
     "name": "stderr",
     "output_type": "stream",
     "text": [
      "Epoch 379/500 [Training]: 100%|██████████| 13/13 [00:00<00:00, 175.35it/s, loss=0.0013]\n",
      "Epoch 379/500 [Validation]: 100%|██████████| 79/79 [00:00<00:00, 296.72it/s]\n"
     ]
    },
    {
     "name": "stdout",
     "output_type": "stream",
     "text": [
      "Epoch [379/500], Train Loss: 0.0072, Train Accuracy: 100.00%, Validation Accuracy: 84.37%\n"
     ]
    },
    {
     "name": "stderr",
     "output_type": "stream",
     "text": [
      "Epoch 380/500 [Training]: 100%|██████████| 13/13 [00:00<00:00, 164.25it/s, loss=0.0006]\n",
      "Epoch 380/500 [Validation]: 100%|██████████| 79/79 [00:00<00:00, 246.52it/s]\n"
     ]
    },
    {
     "name": "stdout",
     "output_type": "stream",
     "text": [
      "Epoch [380/500], Train Loss: 0.0075, Train Accuracy: 100.00%, Validation Accuracy: 84.66%\n"
     ]
    },
    {
     "name": "stderr",
     "output_type": "stream",
     "text": [
      "Epoch 381/500 [Training]: 100%|██████████| 13/13 [00:00<00:00, 173.65it/s, loss=0.0014]\n",
      "Epoch 381/500 [Validation]: 100%|██████████| 79/79 [00:00<00:00, 326.01it/s]\n"
     ]
    },
    {
     "name": "stdout",
     "output_type": "stream",
     "text": [
      "Epoch [381/500], Train Loss: 0.0072, Train Accuracy: 100.00%, Validation Accuracy: 84.86%\n"
     ]
    },
    {
     "name": "stderr",
     "output_type": "stream",
     "text": [
      "Epoch 382/500 [Training]: 100%|██████████| 13/13 [00:00<00:00, 168.89it/s, loss=0.0006]\n",
      "Epoch 382/500 [Validation]: 100%|██████████| 79/79 [00:00<00:00, 324.11it/s]\n"
     ]
    },
    {
     "name": "stdout",
     "output_type": "stream",
     "text": [
      "Epoch [382/500], Train Loss: 0.0075, Train Accuracy: 100.00%, Validation Accuracy: 84.30%\n"
     ]
    },
    {
     "name": "stderr",
     "output_type": "stream",
     "text": [
      "Epoch 383/500 [Training]: 100%|██████████| 13/13 [00:00<00:00, 173.34it/s, loss=0.0018]\n",
      "Epoch 383/500 [Validation]: 100%|██████████| 79/79 [00:00<00:00, 322.48it/s]\n"
     ]
    },
    {
     "name": "stdout",
     "output_type": "stream",
     "text": [
      "Epoch [383/500], Train Loss: 0.0084, Train Accuracy: 100.00%, Validation Accuracy: 84.39%\n"
     ]
    },
    {
     "name": "stderr",
     "output_type": "stream",
     "text": [
      "Epoch 384/500 [Training]: 100%|██████████| 13/13 [00:00<00:00, 169.89it/s, loss=0.0006]\n",
      "Epoch 384/500 [Validation]: 100%|██████████| 79/79 [00:00<00:00, 299.19it/s]\n"
     ]
    },
    {
     "name": "stdout",
     "output_type": "stream",
     "text": [
      "Epoch [384/500], Train Loss: 0.0060, Train Accuracy: 100.00%, Validation Accuracy: 84.64%\n"
     ]
    },
    {
     "name": "stderr",
     "output_type": "stream",
     "text": [
      "Epoch 385/500 [Training]: 100%|██████████| 13/13 [00:00<00:00, 127.70it/s, loss=0.0016]\n",
      "Epoch 385/500 [Validation]: 100%|██████████| 79/79 [00:00<00:00, 307.20it/s]\n"
     ]
    },
    {
     "name": "stdout",
     "output_type": "stream",
     "text": [
      "Epoch [385/500], Train Loss: 0.0080, Train Accuracy: 100.00%, Validation Accuracy: 84.17%\n"
     ]
    },
    {
     "name": "stderr",
     "output_type": "stream",
     "text": [
      "Epoch 386/500 [Training]: 100%|██████████| 13/13 [00:00<00:00, 164.70it/s, loss=0.0017]\n",
      "Epoch 386/500 [Validation]: 100%|██████████| 79/79 [00:00<00:00, 280.24it/s]\n"
     ]
    },
    {
     "name": "stdout",
     "output_type": "stream",
     "text": [
      "Epoch [386/500], Train Loss: 0.0091, Train Accuracy: 100.00%, Validation Accuracy: 84.91%\n"
     ]
    },
    {
     "name": "stderr",
     "output_type": "stream",
     "text": [
      "Epoch 387/500 [Training]: 100%|██████████| 13/13 [00:00<00:00, 176.80it/s, loss=0.0006]\n",
      "Epoch 387/500 [Validation]: 100%|██████████| 79/79 [00:00<00:00, 265.84it/s]\n"
     ]
    },
    {
     "name": "stdout",
     "output_type": "stream",
     "text": [
      "Epoch [387/500], Train Loss: 0.0060, Train Accuracy: 100.00%, Validation Accuracy: 84.47%\n"
     ]
    },
    {
     "name": "stderr",
     "output_type": "stream",
     "text": [
      "Epoch 388/500 [Training]: 100%|██████████| 13/13 [00:00<00:00, 173.97it/s, loss=0.0004]\n",
      "Epoch 388/500 [Validation]: 100%|██████████| 79/79 [00:00<00:00, 310.44it/s]\n"
     ]
    },
    {
     "name": "stdout",
     "output_type": "stream",
     "text": [
      "Epoch [388/500], Train Loss: 0.0066, Train Accuracy: 100.00%, Validation Accuracy: 84.90%\n"
     ]
    },
    {
     "name": "stderr",
     "output_type": "stream",
     "text": [
      "Epoch 389/500 [Training]: 100%|██████████| 13/13 [00:00<00:00, 173.51it/s, loss=0.0005]\n",
      "Epoch 389/500 [Validation]: 100%|██████████| 79/79 [00:00<00:00, 273.76it/s]\n"
     ]
    },
    {
     "name": "stdout",
     "output_type": "stream",
     "text": [
      "Epoch [389/500], Train Loss: 0.0064, Train Accuracy: 100.00%, Validation Accuracy: 84.60%\n"
     ]
    },
    {
     "name": "stderr",
     "output_type": "stream",
     "text": [
      "Epoch 390/500 [Training]: 100%|██████████| 13/13 [00:00<00:00, 175.71it/s, loss=0.0005]\n",
      "Epoch 390/500 [Validation]: 100%|██████████| 79/79 [00:00<00:00, 318.60it/s]\n"
     ]
    },
    {
     "name": "stdout",
     "output_type": "stream",
     "text": [
      "Epoch [390/500], Train Loss: 0.0059, Train Accuracy: 100.00%, Validation Accuracy: 84.30%\n"
     ]
    },
    {
     "name": "stderr",
     "output_type": "stream",
     "text": [
      "Epoch 391/500 [Training]: 100%|██████████| 13/13 [00:00<00:00, 171.60it/s, loss=0.0013]\n",
      "Epoch 391/500 [Validation]: 100%|██████████| 79/79 [00:00<00:00, 306.00it/s]\n"
     ]
    },
    {
     "name": "stdout",
     "output_type": "stream",
     "text": [
      "Epoch [391/500], Train Loss: 0.0068, Train Accuracy: 100.00%, Validation Accuracy: 84.58%\n"
     ]
    },
    {
     "name": "stderr",
     "output_type": "stream",
     "text": [
      "Epoch 392/500 [Training]: 100%|██████████| 13/13 [00:00<00:00, 175.36it/s, loss=0.0005]\n",
      "Epoch 392/500 [Validation]: 100%|██████████| 79/79 [00:00<00:00, 298.22it/s]\n"
     ]
    },
    {
     "name": "stdout",
     "output_type": "stream",
     "text": [
      "Epoch [392/500], Train Loss: 0.0052, Train Accuracy: 100.00%, Validation Accuracy: 84.74%\n"
     ]
    },
    {
     "name": "stderr",
     "output_type": "stream",
     "text": [
      "Epoch 393/500 [Training]: 100%|██████████| 13/13 [00:00<00:00, 105.23it/s, loss=0.0013]\n",
      "Epoch 393/500 [Validation]: 100%|██████████| 79/79 [00:00<00:00, 299.14it/s]\n"
     ]
    },
    {
     "name": "stdout",
     "output_type": "stream",
     "text": [
      "Epoch [393/500], Train Loss: 0.0071, Train Accuracy: 100.00%, Validation Accuracy: 84.45%\n"
     ]
    },
    {
     "name": "stderr",
     "output_type": "stream",
     "text": [
      "Epoch 394/500 [Training]: 100%|██████████| 13/13 [00:00<00:00, 170.88it/s, loss=0.0013]\n",
      "Epoch 394/500 [Validation]: 100%|██████████| 79/79 [00:00<00:00, 305.27it/s]\n"
     ]
    },
    {
     "name": "stdout",
     "output_type": "stream",
     "text": [
      "Epoch [394/500], Train Loss: 0.0064, Train Accuracy: 100.00%, Validation Accuracy: 84.71%\n"
     ]
    },
    {
     "name": "stderr",
     "output_type": "stream",
     "text": [
      "Epoch 395/500 [Training]: 100%|██████████| 13/13 [00:00<00:00, 177.31it/s, loss=0.0073]\n",
      "Epoch 395/500 [Validation]: 100%|██████████| 79/79 [00:00<00:00, 301.64it/s]\n"
     ]
    },
    {
     "name": "stdout",
     "output_type": "stream",
     "text": [
      "Epoch [395/500], Train Loss: 0.0125, Train Accuracy: 100.00%, Validation Accuracy: 84.68%\n"
     ]
    },
    {
     "name": "stderr",
     "output_type": "stream",
     "text": [
      "Epoch 396/500 [Training]: 100%|██████████| 13/13 [00:00<00:00, 172.67it/s, loss=0.0013]\n",
      "Epoch 396/500 [Validation]: 100%|██████████| 79/79 [00:00<00:00, 313.94it/s]\n"
     ]
    },
    {
     "name": "stdout",
     "output_type": "stream",
     "text": [
      "Epoch [396/500], Train Loss: 0.0101, Train Accuracy: 100.00%, Validation Accuracy: 83.21%\n"
     ]
    },
    {
     "name": "stderr",
     "output_type": "stream",
     "text": [
      "Epoch 397/500 [Training]: 100%|██████████| 13/13 [00:00<00:00, 167.11it/s, loss=0.0023]\n",
      "Epoch 397/500 [Validation]: 100%|██████████| 79/79 [00:00<00:00, 276.38it/s]\n"
     ]
    },
    {
     "name": "stdout",
     "output_type": "stream",
     "text": [
      "Epoch [397/500], Train Loss: 0.0121, Train Accuracy: 100.00%, Validation Accuracy: 84.12%\n"
     ]
    },
    {
     "name": "stderr",
     "output_type": "stream",
     "text": [
      "Epoch 398/500 [Training]: 100%|██████████| 13/13 [00:00<00:00, 163.91it/s, loss=0.0020]\n",
      "Epoch 398/500 [Validation]: 100%|██████████| 79/79 [00:00<00:00, 322.48it/s]\n"
     ]
    },
    {
     "name": "stdout",
     "output_type": "stream",
     "text": [
      "Epoch [398/500], Train Loss: 0.0109, Train Accuracy: 100.00%, Validation Accuracy: 84.50%\n"
     ]
    },
    {
     "name": "stderr",
     "output_type": "stream",
     "text": [
      "Epoch 399/500 [Training]: 100%|██████████| 13/13 [00:00<00:00, 172.47it/s, loss=0.0015]\n",
      "Epoch 399/500 [Validation]: 100%|██████████| 79/79 [00:00<00:00, 331.59it/s]\n"
     ]
    },
    {
     "name": "stdout",
     "output_type": "stream",
     "text": [
      "Epoch [399/500], Train Loss: 0.0079, Train Accuracy: 100.00%, Validation Accuracy: 84.33%\n"
     ]
    },
    {
     "name": "stderr",
     "output_type": "stream",
     "text": [
      "Epoch 400/500 [Training]: 100%|██████████| 13/13 [00:00<00:00, 168.91it/s, loss=0.0005]\n",
      "Epoch 400/500 [Validation]: 100%|██████████| 79/79 [00:00<00:00, 292.02it/s]\n"
     ]
    },
    {
     "name": "stdout",
     "output_type": "stream",
     "text": [
      "Epoch [400/500], Train Loss: 0.0061, Train Accuracy: 100.00%, Validation Accuracy: 84.61%\n"
     ]
    },
    {
     "name": "stderr",
     "output_type": "stream",
     "text": [
      "Epoch 401/500 [Training]: 100%|██████████| 13/13 [00:00<00:00, 170.05it/s, loss=0.0005]\n",
      "Epoch 401/500 [Validation]: 100%|██████████| 79/79 [00:00<00:00, 272.98it/s]\n"
     ]
    },
    {
     "name": "stdout",
     "output_type": "stream",
     "text": [
      "Epoch [401/500], Train Loss: 0.0069, Train Accuracy: 100.00%, Validation Accuracy: 84.34%\n"
     ]
    },
    {
     "name": "stderr",
     "output_type": "stream",
     "text": [
      "Epoch 402/500 [Training]: 100%|██████████| 13/13 [00:00<00:00, 177.66it/s, loss=0.0011]\n",
      "Epoch 402/500 [Validation]: 100%|██████████| 79/79 [00:00<00:00, 323.51it/s]\n"
     ]
    },
    {
     "name": "stdout",
     "output_type": "stream",
     "text": [
      "Epoch [402/500], Train Loss: 0.0065, Train Accuracy: 100.00%, Validation Accuracy: 84.83%\n"
     ]
    },
    {
     "name": "stderr",
     "output_type": "stream",
     "text": [
      "Epoch 403/500 [Training]: 100%|██████████| 13/13 [00:00<00:00, 163.10it/s, loss=0.0052]\n",
      "Epoch 403/500 [Validation]: 100%|██████████| 79/79 [00:00<00:00, 291.19it/s]\n"
     ]
    },
    {
     "name": "stdout",
     "output_type": "stream",
     "text": [
      "Epoch [403/500], Train Loss: 0.0115, Train Accuracy: 100.00%, Validation Accuracy: 84.70%\n"
     ]
    },
    {
     "name": "stderr",
     "output_type": "stream",
     "text": [
      "Epoch 404/500 [Training]: 100%|██████████| 13/13 [00:00<00:00, 125.41it/s, loss=0.0006]\n",
      "Epoch 404/500 [Validation]: 100%|██████████| 79/79 [00:00<00:00, 276.09it/s]\n"
     ]
    },
    {
     "name": "stdout",
     "output_type": "stream",
     "text": [
      "Epoch [404/500], Train Loss: 0.0079, Train Accuracy: 100.00%, Validation Accuracy: 85.30%\n"
     ]
    },
    {
     "name": "stderr",
     "output_type": "stream",
     "text": [
      "Epoch 405/500 [Training]: 100%|██████████| 13/13 [00:00<00:00, 155.16it/s, loss=0.0016]\n",
      "Epoch 405/500 [Validation]: 100%|██████████| 79/79 [00:00<00:00, 328.17it/s]\n"
     ]
    },
    {
     "name": "stdout",
     "output_type": "stream",
     "text": [
      "Epoch [405/500], Train Loss: 0.0090, Train Accuracy: 100.00%, Validation Accuracy: 85.06%\n"
     ]
    },
    {
     "name": "stderr",
     "output_type": "stream",
     "text": [
      "Epoch 406/500 [Training]: 100%|██████████| 13/13 [00:00<00:00, 119.25it/s, loss=0.0008]\n",
      "Epoch 406/500 [Validation]: 100%|██████████| 79/79 [00:00<00:00, 349.62it/s]\n"
     ]
    },
    {
     "name": "stdout",
     "output_type": "stream",
     "text": [
      "Epoch [406/500], Train Loss: 0.0070, Train Accuracy: 100.00%, Validation Accuracy: 84.65%\n"
     ]
    },
    {
     "name": "stderr",
     "output_type": "stream",
     "text": [
      "Epoch 407/500 [Training]: 100%|██████████| 13/13 [00:00<00:00, 168.67it/s, loss=0.0026]\n",
      "Epoch 407/500 [Validation]: 100%|██████████| 79/79 [00:00<00:00, 318.96it/s]\n"
     ]
    },
    {
     "name": "stdout",
     "output_type": "stream",
     "text": [
      "Epoch [407/500], Train Loss: 0.0085, Train Accuracy: 100.00%, Validation Accuracy: 84.80%\n"
     ]
    },
    {
     "name": "stderr",
     "output_type": "stream",
     "text": [
      "Epoch 408/500 [Training]: 100%|██████████| 13/13 [00:00<00:00, 169.44it/s, loss=0.0034]\n",
      "Epoch 408/500 [Validation]: 100%|██████████| 79/79 [00:00<00:00, 312.78it/s]\n"
     ]
    },
    {
     "name": "stdout",
     "output_type": "stream",
     "text": [
      "Epoch [408/500], Train Loss: 0.0106, Train Accuracy: 100.00%, Validation Accuracy: 84.71%\n"
     ]
    },
    {
     "name": "stderr",
     "output_type": "stream",
     "text": [
      "Epoch 409/500 [Training]: 100%|██████████| 13/13 [00:00<00:00, 176.38it/s, loss=0.0021]\n",
      "Epoch 409/500 [Validation]: 100%|██████████| 79/79 [00:00<00:00, 311.00it/s]\n"
     ]
    },
    {
     "name": "stdout",
     "output_type": "stream",
     "text": [
      "Epoch [409/500], Train Loss: 0.0080, Train Accuracy: 100.00%, Validation Accuracy: 85.03%\n"
     ]
    },
    {
     "name": "stderr",
     "output_type": "stream",
     "text": [
      "Epoch 410/500 [Training]: 100%|██████████| 13/13 [00:00<00:00, 133.01it/s, loss=0.0014]\n",
      "Epoch 410/500 [Validation]: 100%|██████████| 79/79 [00:00<00:00, 307.44it/s]\n"
     ]
    },
    {
     "name": "stdout",
     "output_type": "stream",
     "text": [
      "Epoch [410/500], Train Loss: 0.0072, Train Accuracy: 100.00%, Validation Accuracy: 84.62%\n"
     ]
    },
    {
     "name": "stderr",
     "output_type": "stream",
     "text": [
      "Epoch 411/500 [Training]: 100%|██████████| 13/13 [00:00<00:00, 173.90it/s, loss=0.0005]\n",
      "Epoch 411/500 [Validation]: 100%|██████████| 79/79 [00:00<00:00, 350.87it/s]\n"
     ]
    },
    {
     "name": "stdout",
     "output_type": "stream",
     "text": [
      "Epoch [411/500], Train Loss: 0.0088, Train Accuracy: 100.00%, Validation Accuracy: 85.11%\n"
     ]
    },
    {
     "name": "stderr",
     "output_type": "stream",
     "text": [
      "Epoch 412/500 [Training]: 100%|██████████| 13/13 [00:00<00:00, 170.79it/s, loss=0.0011]\n",
      "Epoch 412/500 [Validation]: 100%|██████████| 79/79 [00:00<00:00, 314.31it/s]\n"
     ]
    },
    {
     "name": "stdout",
     "output_type": "stream",
     "text": [
      "Epoch [412/500], Train Loss: 0.0063, Train Accuracy: 100.00%, Validation Accuracy: 85.29%\n"
     ]
    },
    {
     "name": "stderr",
     "output_type": "stream",
     "text": [
      "Epoch 413/500 [Training]: 100%|██████████| 13/13 [00:00<00:00, 167.77it/s, loss=0.0005]\n",
      "Epoch 413/500 [Validation]: 100%|██████████| 79/79 [00:00<00:00, 286.74it/s]\n"
     ]
    },
    {
     "name": "stdout",
     "output_type": "stream",
     "text": [
      "Epoch [413/500], Train Loss: 0.0062, Train Accuracy: 100.00%, Validation Accuracy: 84.92%\n"
     ]
    },
    {
     "name": "stderr",
     "output_type": "stream",
     "text": [
      "Epoch 414/500 [Training]: 100%|██████████| 13/13 [00:00<00:00, 166.07it/s, loss=0.0008]\n",
      "Epoch 414/500 [Validation]: 100%|██████████| 79/79 [00:00<00:00, 273.32it/s]\n"
     ]
    },
    {
     "name": "stdout",
     "output_type": "stream",
     "text": [
      "Epoch [414/500], Train Loss: 0.0061, Train Accuracy: 100.00%, Validation Accuracy: 84.87%\n"
     ]
    },
    {
     "name": "stderr",
     "output_type": "stream",
     "text": [
      "Epoch 415/500 [Training]: 100%|██████████| 13/13 [00:00<00:00, 180.47it/s, loss=0.0014]\n",
      "Epoch 415/500 [Validation]: 100%|██████████| 79/79 [00:00<00:00, 289.84it/s]\n"
     ]
    },
    {
     "name": "stdout",
     "output_type": "stream",
     "text": [
      "Epoch [415/500], Train Loss: 0.0066, Train Accuracy: 100.00%, Validation Accuracy: 84.97%\n"
     ]
    },
    {
     "name": "stderr",
     "output_type": "stream",
     "text": [
      "Epoch 416/500 [Training]: 100%|██████████| 13/13 [00:00<00:00, 169.49it/s, loss=0.0004]\n",
      "Epoch 416/500 [Validation]: 100%|██████████| 79/79 [00:00<00:00, 255.29it/s]\n"
     ]
    },
    {
     "name": "stdout",
     "output_type": "stream",
     "text": [
      "Epoch [416/500], Train Loss: 0.0053, Train Accuracy: 100.00%, Validation Accuracy: 84.58%\n"
     ]
    },
    {
     "name": "stderr",
     "output_type": "stream",
     "text": [
      "Epoch 417/500 [Training]: 100%|██████████| 13/13 [00:00<00:00, 173.39it/s, loss=0.0004]\n",
      "Epoch 417/500 [Validation]: 100%|██████████| 79/79 [00:00<00:00, 300.77it/s]\n"
     ]
    },
    {
     "name": "stdout",
     "output_type": "stream",
     "text": [
      "Epoch [417/500], Train Loss: 0.0051, Train Accuracy: 100.00%, Validation Accuracy: 84.93%\n"
     ]
    },
    {
     "name": "stderr",
     "output_type": "stream",
     "text": [
      "Epoch 418/500 [Training]: 100%|██████████| 13/13 [00:00<00:00, 138.68it/s, loss=0.0004]\n",
      "Epoch 418/500 [Validation]: 100%|██████████| 79/79 [00:00<00:00, 261.48it/s]\n"
     ]
    },
    {
     "name": "stdout",
     "output_type": "stream",
     "text": [
      "Epoch [418/500], Train Loss: 0.0058, Train Accuracy: 100.00%, Validation Accuracy: 84.83%\n"
     ]
    },
    {
     "name": "stderr",
     "output_type": "stream",
     "text": [
      "Epoch 419/500 [Training]: 100%|██████████| 13/13 [00:00<00:00, 170.14it/s, loss=0.0004]\n",
      "Epoch 419/500 [Validation]: 100%|██████████| 79/79 [00:00<00:00, 307.99it/s]\n"
     ]
    },
    {
     "name": "stdout",
     "output_type": "stream",
     "text": [
      "Epoch [419/500], Train Loss: 0.0044, Train Accuracy: 100.00%, Validation Accuracy: 84.69%\n"
     ]
    },
    {
     "name": "stderr",
     "output_type": "stream",
     "text": [
      "Epoch 420/500 [Training]: 100%|██████████| 13/13 [00:00<00:00, 176.32it/s, loss=0.0011]\n",
      "Epoch 420/500 [Validation]: 100%|██████████| 79/79 [00:00<00:00, 326.74it/s]\n"
     ]
    },
    {
     "name": "stdout",
     "output_type": "stream",
     "text": [
      "Epoch [420/500], Train Loss: 0.0065, Train Accuracy: 100.00%, Validation Accuracy: 84.76%\n"
     ]
    },
    {
     "name": "stderr",
     "output_type": "stream",
     "text": [
      "Epoch 421/500 [Training]: 100%|██████████| 13/13 [00:00<00:00, 173.63it/s, loss=0.0009]\n",
      "Epoch 421/500 [Validation]: 100%|██████████| 79/79 [00:00<00:00, 284.99it/s]\n"
     ]
    },
    {
     "name": "stdout",
     "output_type": "stream",
     "text": [
      "Epoch [421/500], Train Loss: 0.0054, Train Accuracy: 100.00%, Validation Accuracy: 85.04%\n"
     ]
    },
    {
     "name": "stderr",
     "output_type": "stream",
     "text": [
      "Epoch 422/500 [Training]: 100%|██████████| 13/13 [00:00<00:00, 170.39it/s, loss=0.0015]\n",
      "Epoch 422/500 [Validation]: 100%|██████████| 79/79 [00:00<00:00, 293.35it/s]\n"
     ]
    },
    {
     "name": "stdout",
     "output_type": "stream",
     "text": [
      "Epoch [422/500], Train Loss: 0.0071, Train Accuracy: 100.00%, Validation Accuracy: 84.29%\n"
     ]
    },
    {
     "name": "stderr",
     "output_type": "stream",
     "text": [
      "Epoch 423/500 [Training]: 100%|██████████| 13/13 [00:00<00:00, 107.94it/s, loss=0.0017]\n",
      "Epoch 423/500 [Validation]: 100%|██████████| 79/79 [00:00<00:00, 293.58it/s]\n"
     ]
    },
    {
     "name": "stdout",
     "output_type": "stream",
     "text": [
      "Epoch [423/500], Train Loss: 0.0070, Train Accuracy: 100.00%, Validation Accuracy: 83.89%\n"
     ]
    },
    {
     "name": "stderr",
     "output_type": "stream",
     "text": [
      "Epoch 424/500 [Training]: 100%|██████████| 13/13 [00:00<00:00, 170.97it/s, loss=0.0005]\n",
      "Epoch 424/500 [Validation]: 100%|██████████| 79/79 [00:00<00:00, 334.88it/s]\n"
     ]
    },
    {
     "name": "stdout",
     "output_type": "stream",
     "text": [
      "Epoch [424/500], Train Loss: 0.0053, Train Accuracy: 100.00%, Validation Accuracy: 85.27%\n"
     ]
    },
    {
     "name": "stderr",
     "output_type": "stream",
     "text": [
      "Epoch 425/500 [Training]: 100%|██████████| 13/13 [00:00<00:00, 173.70it/s, loss=0.0004]\n",
      "Epoch 425/500 [Validation]: 100%|██████████| 79/79 [00:00<00:00, 294.84it/s]\n"
     ]
    },
    {
     "name": "stdout",
     "output_type": "stream",
     "text": [
      "Epoch [425/500], Train Loss: 0.0049, Train Accuracy: 100.00%, Validation Accuracy: 85.09%\n"
     ]
    },
    {
     "name": "stderr",
     "output_type": "stream",
     "text": [
      "Epoch 426/500 [Training]: 100%|██████████| 13/13 [00:00<00:00, 163.43it/s, loss=0.0006]\n",
      "Epoch 426/500 [Validation]: 100%|██████████| 79/79 [00:00<00:00, 311.89it/s]\n"
     ]
    },
    {
     "name": "stdout",
     "output_type": "stream",
     "text": [
      "Epoch [426/500], Train Loss: 0.0052, Train Accuracy: 100.00%, Validation Accuracy: 84.67%\n"
     ]
    },
    {
     "name": "stderr",
     "output_type": "stream",
     "text": [
      "Epoch 427/500 [Training]: 100%|██████████| 13/13 [00:00<00:00, 173.54it/s, loss=0.0004]\n",
      "Epoch 427/500 [Validation]: 100%|██████████| 79/79 [00:00<00:00, 230.55it/s]\n"
     ]
    },
    {
     "name": "stdout",
     "output_type": "stream",
     "text": [
      "Epoch [427/500], Train Loss: 0.0081, Train Accuracy: 100.00%, Validation Accuracy: 85.38%\n"
     ]
    },
    {
     "name": "stderr",
     "output_type": "stream",
     "text": [
      "Epoch 428/500 [Training]: 100%|██████████| 13/13 [00:00<00:00, 148.82it/s, loss=0.0015]\n",
      "Epoch 428/500 [Validation]: 100%|██████████| 79/79 [00:00<00:00, 281.97it/s]\n"
     ]
    },
    {
     "name": "stdout",
     "output_type": "stream",
     "text": [
      "Epoch [428/500], Train Loss: 0.0065, Train Accuracy: 100.00%, Validation Accuracy: 85.32%\n"
     ]
    },
    {
     "name": "stderr",
     "output_type": "stream",
     "text": [
      "Epoch 429/500 [Training]: 100%|██████████| 13/13 [00:00<00:00, 177.71it/s, loss=0.0014]\n",
      "Epoch 429/500 [Validation]: 100%|██████████| 79/79 [00:00<00:00, 272.67it/s]\n"
     ]
    },
    {
     "name": "stdout",
     "output_type": "stream",
     "text": [
      "Epoch [429/500], Train Loss: 0.0067, Train Accuracy: 100.00%, Validation Accuracy: 84.44%\n"
     ]
    },
    {
     "name": "stderr",
     "output_type": "stream",
     "text": [
      "Epoch 430/500 [Training]: 100%|██████████| 13/13 [00:00<00:00, 177.04it/s, loss=0.0006]\n",
      "Epoch 430/500 [Validation]: 100%|██████████| 79/79 [00:00<00:00, 327.89it/s]\n"
     ]
    },
    {
     "name": "stdout",
     "output_type": "stream",
     "text": [
      "Epoch [430/500], Train Loss: 0.0049, Train Accuracy: 100.00%, Validation Accuracy: 85.08%\n"
     ]
    },
    {
     "name": "stderr",
     "output_type": "stream",
     "text": [
      "Epoch 431/500 [Training]: 100%|██████████| 13/13 [00:00<00:00, 177.92it/s, loss=0.0011]\n",
      "Epoch 431/500 [Validation]: 100%|██████████| 79/79 [00:00<00:00, 277.95it/s]\n"
     ]
    },
    {
     "name": "stdout",
     "output_type": "stream",
     "text": [
      "Epoch [431/500], Train Loss: 0.0056, Train Accuracy: 100.00%, Validation Accuracy: 85.35%\n"
     ]
    },
    {
     "name": "stderr",
     "output_type": "stream",
     "text": [
      "Epoch 432/500 [Training]: 100%|██████████| 13/13 [00:00<00:00, 126.98it/s, loss=0.0020]\n",
      "Epoch 432/500 [Validation]: 100%|██████████| 79/79 [00:00<00:00, 291.81it/s]\n"
     ]
    },
    {
     "name": "stdout",
     "output_type": "stream",
     "text": [
      "Epoch [432/500], Train Loss: 0.0062, Train Accuracy: 100.00%, Validation Accuracy: 85.12%\n"
     ]
    },
    {
     "name": "stderr",
     "output_type": "stream",
     "text": [
      "Epoch 433/500 [Training]: 100%|██████████| 13/13 [00:00<00:00, 160.42it/s, loss=0.0021]\n",
      "Epoch 433/500 [Validation]: 100%|██████████| 79/79 [00:00<00:00, 308.75it/s]\n"
     ]
    },
    {
     "name": "stdout",
     "output_type": "stream",
     "text": [
      "Epoch [433/500], Train Loss: 0.0066, Train Accuracy: 100.00%, Validation Accuracy: 85.41%\n"
     ]
    },
    {
     "name": "stderr",
     "output_type": "stream",
     "text": [
      "Epoch 434/500 [Training]: 100%|██████████| 13/13 [00:00<00:00, 173.04it/s, loss=0.0005]\n",
      "Epoch 434/500 [Validation]: 100%|██████████| 79/79 [00:00<00:00, 303.41it/s]\n"
     ]
    },
    {
     "name": "stdout",
     "output_type": "stream",
     "text": [
      "Epoch [434/500], Train Loss: 0.0055, Train Accuracy: 100.00%, Validation Accuracy: 85.32%\n"
     ]
    },
    {
     "name": "stderr",
     "output_type": "stream",
     "text": [
      "Epoch 435/500 [Training]: 100%|██████████| 13/13 [00:00<00:00, 176.26it/s, loss=0.0005]\n",
      "Epoch 435/500 [Validation]: 100%|██████████| 79/79 [00:00<00:00, 320.46it/s]\n"
     ]
    },
    {
     "name": "stdout",
     "output_type": "stream",
     "text": [
      "Epoch [435/500], Train Loss: 0.0073, Train Accuracy: 100.00%, Validation Accuracy: 85.45%\n"
     ]
    },
    {
     "name": "stderr",
     "output_type": "stream",
     "text": [
      "Epoch 436/500 [Training]: 100%|██████████| 13/13 [00:00<00:00, 161.53it/s, loss=0.0013]\n",
      "Epoch 436/500 [Validation]: 100%|██████████| 79/79 [00:00<00:00, 286.56it/s]\n"
     ]
    },
    {
     "name": "stdout",
     "output_type": "stream",
     "text": [
      "Epoch [436/500], Train Loss: 0.0063, Train Accuracy: 100.00%, Validation Accuracy: 85.18%\n"
     ]
    },
    {
     "name": "stderr",
     "output_type": "stream",
     "text": [
      "Epoch 437/500 [Training]: 100%|██████████| 13/13 [00:00<00:00, 174.59it/s, loss=0.0017]\n",
      "Epoch 437/500 [Validation]: 100%|██████████| 79/79 [00:00<00:00, 284.55it/s]\n"
     ]
    },
    {
     "name": "stdout",
     "output_type": "stream",
     "text": [
      "Epoch [437/500], Train Loss: 0.0066, Train Accuracy: 100.00%, Validation Accuracy: 85.23%\n"
     ]
    },
    {
     "name": "stderr",
     "output_type": "stream",
     "text": [
      "Epoch 438/500 [Training]: 100%|██████████| 13/13 [00:00<00:00, 173.13it/s, loss=0.0007]\n",
      "Epoch 438/500 [Validation]: 100%|██████████| 79/79 [00:00<00:00, 333.88it/s]\n"
     ]
    },
    {
     "name": "stdout",
     "output_type": "stream",
     "text": [
      "Epoch [438/500], Train Loss: 0.0067, Train Accuracy: 100.00%, Validation Accuracy: 84.74%\n"
     ]
    },
    {
     "name": "stderr",
     "output_type": "stream",
     "text": [
      "Epoch 439/500 [Training]: 100%|██████████| 13/13 [00:00<00:00, 161.78it/s, loss=0.0017]\n",
      "Epoch 439/500 [Validation]: 100%|██████████| 79/79 [00:00<00:00, 318.96it/s]\n"
     ]
    },
    {
     "name": "stdout",
     "output_type": "stream",
     "text": [
      "Epoch [439/500], Train Loss: 0.0069, Train Accuracy: 100.00%, Validation Accuracy: 84.96%\n"
     ]
    },
    {
     "name": "stderr",
     "output_type": "stream",
     "text": [
      "Epoch 440/500 [Training]: 100%|██████████| 13/13 [00:00<00:00, 94.24it/s, loss=0.0013] \n",
      "Epoch 440/500 [Validation]: 100%|██████████| 79/79 [00:00<00:00, 286.35it/s]\n"
     ]
    },
    {
     "name": "stdout",
     "output_type": "stream",
     "text": [
      "Epoch [440/500], Train Loss: 0.0066, Train Accuracy: 100.00%, Validation Accuracy: 85.15%\n"
     ]
    },
    {
     "name": "stderr",
     "output_type": "stream",
     "text": [
      "Epoch 441/500 [Training]: 100%|██████████| 13/13 [00:00<00:00, 180.78it/s, loss=0.0005]\n",
      "Epoch 441/500 [Validation]: 100%|██████████| 79/79 [00:00<00:00, 299.76it/s]\n"
     ]
    },
    {
     "name": "stdout",
     "output_type": "stream",
     "text": [
      "Epoch [441/500], Train Loss: 0.0049, Train Accuracy: 100.00%, Validation Accuracy: 85.40%\n"
     ]
    },
    {
     "name": "stderr",
     "output_type": "stream",
     "text": [
      "Epoch 442/500 [Training]: 100%|██████████| 13/13 [00:00<00:00, 171.65it/s, loss=0.0005]\n",
      "Epoch 442/500 [Validation]: 100%|██████████| 79/79 [00:00<00:00, 296.54it/s]\n"
     ]
    },
    {
     "name": "stdout",
     "output_type": "stream",
     "text": [
      "Epoch [442/500], Train Loss: 0.0048, Train Accuracy: 100.00%, Validation Accuracy: 85.19%\n"
     ]
    },
    {
     "name": "stderr",
     "output_type": "stream",
     "text": [
      "Epoch 443/500 [Training]: 100%|██████████| 13/13 [00:00<00:00, 173.05it/s, loss=0.0004]\n",
      "Epoch 443/500 [Validation]: 100%|██████████| 79/79 [00:00<00:00, 301.53it/s]\n"
     ]
    },
    {
     "name": "stdout",
     "output_type": "stream",
     "text": [
      "Epoch [443/500], Train Loss: 0.0050, Train Accuracy: 100.00%, Validation Accuracy: 85.12%\n"
     ]
    },
    {
     "name": "stderr",
     "output_type": "stream",
     "text": [
      "Epoch 444/500 [Training]: 100%|██████████| 13/13 [00:00<00:00, 172.36it/s, loss=0.0004]\n",
      "Epoch 444/500 [Validation]: 100%|██████████| 79/79 [00:00<00:00, 270.25it/s]\n"
     ]
    },
    {
     "name": "stdout",
     "output_type": "stream",
     "text": [
      "Epoch [444/500], Train Loss: 0.0048, Train Accuracy: 100.00%, Validation Accuracy: 85.13%\n"
     ]
    },
    {
     "name": "stderr",
     "output_type": "stream",
     "text": [
      "Epoch 445/500 [Training]: 100%|██████████| 13/13 [00:00<00:00, 168.94it/s, loss=0.0262]\n",
      "Epoch 445/500 [Validation]: 100%|██████████| 79/79 [00:00<00:00, 310.61it/s]\n"
     ]
    },
    {
     "name": "stdout",
     "output_type": "stream",
     "text": [
      "Epoch [445/500], Train Loss: 0.0305, Train Accuracy: 100.00%, Validation Accuracy: 81.92%\n"
     ]
    },
    {
     "name": "stderr",
     "output_type": "stream",
     "text": [
      "Epoch 446/500 [Training]: 100%|██████████| 13/13 [00:00<00:00, 174.59it/s, loss=0.0383]\n",
      "Epoch 446/500 [Validation]: 100%|██████████| 79/79 [00:00<00:00, 325.50it/s]\n"
     ]
    },
    {
     "name": "stdout",
     "output_type": "stream",
     "text": [
      "Epoch [446/500], Train Loss: 0.2674, Train Accuracy: 100.00%, Validation Accuracy: 74.57%\n"
     ]
    },
    {
     "name": "stderr",
     "output_type": "stream",
     "text": [
      "Epoch 447/500 [Training]: 100%|██████████| 13/13 [00:00<00:00, 176.50it/s, loss=0.0147]\n",
      "Epoch 447/500 [Validation]: 100%|██████████| 79/79 [00:00<00:00, 342.06it/s]\n"
     ]
    },
    {
     "name": "stdout",
     "output_type": "stream",
     "text": [
      "Epoch [447/500], Train Loss: 0.2765, Train Accuracy: 100.00%, Validation Accuracy: 82.39%\n"
     ]
    },
    {
     "name": "stderr",
     "output_type": "stream",
     "text": [
      "Epoch 448/500 [Training]: 100%|██████████| 13/13 [00:00<00:00, 168.37it/s, loss=0.0084]\n",
      "Epoch 448/500 [Validation]: 100%|██████████| 79/79 [00:00<00:00, 246.21it/s]\n"
     ]
    },
    {
     "name": "stdout",
     "output_type": "stream",
     "text": [
      "Epoch [448/500], Train Loss: 0.1373, Train Accuracy: 100.00%, Validation Accuracy: 81.81%\n"
     ]
    },
    {
     "name": "stderr",
     "output_type": "stream",
     "text": [
      "Epoch 449/500 [Training]: 100%|██████████| 13/13 [00:00<00:00, 167.40it/s, loss=0.0059]\n",
      "Epoch 449/500 [Validation]: 100%|██████████| 79/79 [00:00<00:00, 284.38it/s]\n"
     ]
    },
    {
     "name": "stdout",
     "output_type": "stream",
     "text": [
      "Epoch [449/500], Train Loss: 0.0504, Train Accuracy: 100.00%, Validation Accuracy: 83.49%\n"
     ]
    },
    {
     "name": "stderr",
     "output_type": "stream",
     "text": [
      "Epoch 450/500 [Training]: 100%|██████████| 13/13 [00:00<00:00, 175.37it/s, loss=0.0050]\n",
      "Epoch 450/500 [Validation]: 100%|██████████| 79/79 [00:00<00:00, 296.82it/s]\n"
     ]
    },
    {
     "name": "stdout",
     "output_type": "stream",
     "text": [
      "Epoch [450/500], Train Loss: 0.0229, Train Accuracy: 100.00%, Validation Accuracy: 84.66%\n"
     ]
    },
    {
     "name": "stderr",
     "output_type": "stream",
     "text": [
      "Epoch 451/500 [Training]: 100%|██████████| 13/13 [00:00<00:00, 166.33it/s, loss=0.0007]\n",
      "Epoch 451/500 [Validation]: 100%|██████████| 79/79 [00:00<00:00, 314.82it/s]\n"
     ]
    },
    {
     "name": "stdout",
     "output_type": "stream",
     "text": [
      "Epoch [451/500], Train Loss: 0.0114, Train Accuracy: 100.00%, Validation Accuracy: 86.07%\n"
     ]
    },
    {
     "name": "stderr",
     "output_type": "stream",
     "text": [
      "Epoch 452/500 [Training]: 100%|██████████| 13/13 [00:00<00:00, 165.91it/s, loss=0.0009]\n",
      "Epoch 452/500 [Validation]: 100%|██████████| 79/79 [00:00<00:00, 287.83it/s]\n"
     ]
    },
    {
     "name": "stdout",
     "output_type": "stream",
     "text": [
      "Epoch [452/500], Train Loss: 0.0096, Train Accuracy: 100.00%, Validation Accuracy: 86.43%\n"
     ]
    },
    {
     "name": "stderr",
     "output_type": "stream",
     "text": [
      "Epoch 453/500 [Training]: 100%|██████████| 13/13 [00:00<00:00, 111.10it/s, loss=0.0041]\n",
      "Epoch 453/500 [Validation]: 100%|██████████| 79/79 [00:00<00:00, 318.73it/s]\n"
     ]
    },
    {
     "name": "stdout",
     "output_type": "stream",
     "text": [
      "Epoch [453/500], Train Loss: 0.0120, Train Accuracy: 100.00%, Validation Accuracy: 85.80%\n"
     ]
    },
    {
     "name": "stderr",
     "output_type": "stream",
     "text": [
      "Epoch 454/500 [Training]: 100%|██████████| 13/13 [00:00<00:00, 175.51it/s, loss=0.0033]\n",
      "Epoch 454/500 [Validation]: 100%|██████████| 79/79 [00:00<00:00, 280.80it/s]\n"
     ]
    },
    {
     "name": "stdout",
     "output_type": "stream",
     "text": [
      "Epoch [454/500], Train Loss: 0.0123, Train Accuracy: 100.00%, Validation Accuracy: 86.20%\n"
     ]
    },
    {
     "name": "stderr",
     "output_type": "stream",
     "text": [
      "Epoch 455/500 [Training]: 100%|██████████| 13/13 [00:00<00:00, 159.17it/s, loss=0.0058]\n",
      "Epoch 455/500 [Validation]: 100%|██████████| 79/79 [00:00<00:00, 328.81it/s]\n"
     ]
    },
    {
     "name": "stdout",
     "output_type": "stream",
     "text": [
      "Epoch [455/500], Train Loss: 0.0133, Train Accuracy: 100.00%, Validation Accuracy: 85.86%\n"
     ]
    },
    {
     "name": "stderr",
     "output_type": "stream",
     "text": [
      "Epoch 456/500 [Training]: 100%|██████████| 13/13 [00:00<00:00, 172.71it/s, loss=0.0009]\n",
      "Epoch 456/500 [Validation]: 100%|██████████| 79/79 [00:00<00:00, 304.33it/s]\n"
     ]
    },
    {
     "name": "stdout",
     "output_type": "stream",
     "text": [
      "Epoch [456/500], Train Loss: 0.0091, Train Accuracy: 100.00%, Validation Accuracy: 85.68%\n"
     ]
    },
    {
     "name": "stderr",
     "output_type": "stream",
     "text": [
      "Epoch 457/500 [Training]: 100%|██████████| 13/13 [00:00<00:00, 93.17it/s, loss=0.0038]\n",
      "Epoch 457/500 [Validation]: 100%|██████████| 79/79 [00:00<00:00, 245.40it/s]\n"
     ]
    },
    {
     "name": "stdout",
     "output_type": "stream",
     "text": [
      "Epoch [457/500], Train Loss: 0.0109, Train Accuracy: 100.00%, Validation Accuracy: 85.35%\n"
     ]
    },
    {
     "name": "stderr",
     "output_type": "stream",
     "text": [
      "Epoch 458/500 [Training]: 100%|██████████| 13/13 [00:00<00:00, 165.16it/s, loss=0.0007]\n",
      "Epoch 458/500 [Validation]: 100%|██████████| 79/79 [00:00<00:00, 292.42it/s]\n"
     ]
    },
    {
     "name": "stdout",
     "output_type": "stream",
     "text": [
      "Epoch [458/500], Train Loss: 0.0062, Train Accuracy: 100.00%, Validation Accuracy: 86.58%\n"
     ]
    },
    {
     "name": "stderr",
     "output_type": "stream",
     "text": [
      "Epoch 459/500 [Training]: 100%|██████████| 13/13 [00:00<00:00, 172.87it/s, loss=0.0011]\n",
      "Epoch 459/500 [Validation]: 100%|██████████| 79/79 [00:00<00:00, 320.17it/s]\n"
     ]
    },
    {
     "name": "stdout",
     "output_type": "stream",
     "text": [
      "Epoch [459/500], Train Loss: 0.0069, Train Accuracy: 100.00%, Validation Accuracy: 86.31%\n"
     ]
    },
    {
     "name": "stderr",
     "output_type": "stream",
     "text": [
      "Epoch 460/500 [Training]: 100%|██████████| 13/13 [00:00<00:00, 161.96it/s, loss=0.0005]\n",
      "Epoch 460/500 [Validation]: 100%|██████████| 79/79 [00:00<00:00, 336.07it/s]\n"
     ]
    },
    {
     "name": "stdout",
     "output_type": "stream",
     "text": [
      "Epoch [460/500], Train Loss: 0.0052, Train Accuracy: 100.00%, Validation Accuracy: 86.04%\n"
     ]
    },
    {
     "name": "stderr",
     "output_type": "stream",
     "text": [
      "Epoch 461/500 [Training]: 100%|██████████| 13/13 [00:00<00:00, 171.45it/s, loss=0.0005]\n",
      "Epoch 461/500 [Validation]: 100%|██████████| 79/79 [00:00<00:00, 266.29it/s]\n"
     ]
    },
    {
     "name": "stdout",
     "output_type": "stream",
     "text": [
      "Epoch [461/500], Train Loss: 0.0051, Train Accuracy: 100.00%, Validation Accuracy: 86.14%\n"
     ]
    },
    {
     "name": "stderr",
     "output_type": "stream",
     "text": [
      "Epoch 462/500 [Training]: 100%|██████████| 13/13 [00:00<00:00, 169.68it/s, loss=0.0008]\n",
      "Epoch 462/500 [Validation]: 100%|██████████| 79/79 [00:00<00:00, 306.29it/s]\n"
     ]
    },
    {
     "name": "stdout",
     "output_type": "stream",
     "text": [
      "Epoch [462/500], Train Loss: 0.0052, Train Accuracy: 100.00%, Validation Accuracy: 86.30%\n"
     ]
    },
    {
     "name": "stderr",
     "output_type": "stream",
     "text": [
      "Epoch 463/500 [Training]: 100%|██████████| 13/13 [00:00<00:00, 170.33it/s, loss=0.0012]\n",
      "Epoch 463/500 [Validation]: 100%|██████████| 79/79 [00:00<00:00, 298.90it/s]\n"
     ]
    },
    {
     "name": "stdout",
     "output_type": "stream",
     "text": [
      "Epoch [463/500], Train Loss: 0.0066, Train Accuracy: 100.00%, Validation Accuracy: 86.19%\n"
     ]
    },
    {
     "name": "stderr",
     "output_type": "stream",
     "text": [
      "Epoch 464/500 [Training]: 100%|██████████| 13/13 [00:00<00:00, 169.51it/s, loss=0.0008]\n",
      "Epoch 464/500 [Validation]: 100%|██████████| 79/79 [00:00<00:00, 316.30it/s]\n"
     ]
    },
    {
     "name": "stdout",
     "output_type": "stream",
     "text": [
      "Epoch [464/500], Train Loss: 0.0076, Train Accuracy: 100.00%, Validation Accuracy: 85.79%\n"
     ]
    },
    {
     "name": "stderr",
     "output_type": "stream",
     "text": [
      "Epoch 465/500 [Training]: 100%|██████████| 13/13 [00:00<00:00, 131.70it/s, loss=0.0004]\n",
      "Epoch 465/500 [Validation]: 100%|██████████| 79/79 [00:00<00:00, 316.94it/s]\n"
     ]
    },
    {
     "name": "stdout",
     "output_type": "stream",
     "text": [
      "Epoch [465/500], Train Loss: 0.0050, Train Accuracy: 100.00%, Validation Accuracy: 86.04%\n"
     ]
    },
    {
     "name": "stderr",
     "output_type": "stream",
     "text": [
      "Epoch 466/500 [Training]: 100%|██████████| 13/13 [00:00<00:00, 162.39it/s, loss=0.0005]\n",
      "Epoch 466/500 [Validation]: 100%|██████████| 79/79 [00:00<00:00, 280.12it/s]\n"
     ]
    },
    {
     "name": "stdout",
     "output_type": "stream",
     "text": [
      "Epoch [466/500], Train Loss: 0.0044, Train Accuracy: 100.00%, Validation Accuracy: 86.06%\n"
     ]
    },
    {
     "name": "stderr",
     "output_type": "stream",
     "text": [
      "Epoch 467/500 [Training]: 100%|██████████| 13/13 [00:00<00:00, 163.85it/s, loss=0.0013]\n",
      "Epoch 467/500 [Validation]: 100%|██████████| 79/79 [00:00<00:00, 286.66it/s]\n"
     ]
    },
    {
     "name": "stdout",
     "output_type": "stream",
     "text": [
      "Epoch [467/500], Train Loss: 0.0057, Train Accuracy: 100.00%, Validation Accuracy: 86.38%\n"
     ]
    },
    {
     "name": "stderr",
     "output_type": "stream",
     "text": [
      "Epoch 468/500 [Training]: 100%|██████████| 13/13 [00:00<00:00, 173.69it/s, loss=0.0006]\n",
      "Epoch 468/500 [Validation]: 100%|██████████| 79/79 [00:00<00:00, 277.43it/s]\n"
     ]
    },
    {
     "name": "stdout",
     "output_type": "stream",
     "text": [
      "Epoch [468/500], Train Loss: 0.0050, Train Accuracy: 100.00%, Validation Accuracy: 86.23%\n"
     ]
    },
    {
     "name": "stderr",
     "output_type": "stream",
     "text": [
      "Epoch 469/500 [Training]: 100%|██████████| 13/13 [00:00<00:00, 146.41it/s, loss=0.0005]\n",
      "Epoch 469/500 [Validation]: 100%|██████████| 79/79 [00:00<00:00, 259.47it/s]\n"
     ]
    },
    {
     "name": "stdout",
     "output_type": "stream",
     "text": [
      "Epoch [469/500], Train Loss: 0.0067, Train Accuracy: 100.00%, Validation Accuracy: 86.13%\n"
     ]
    },
    {
     "name": "stderr",
     "output_type": "stream",
     "text": [
      "Epoch 470/500 [Training]: 100%|██████████| 13/13 [00:00<00:00, 163.74it/s, loss=0.0015]\n",
      "Epoch 470/500 [Validation]: 100%|██████████| 79/79 [00:00<00:00, 298.56it/s]\n"
     ]
    },
    {
     "name": "stdout",
     "output_type": "stream",
     "text": [
      "Epoch [470/500], Train Loss: 0.0058, Train Accuracy: 100.00%, Validation Accuracy: 86.02%\n"
     ]
    },
    {
     "name": "stderr",
     "output_type": "stream",
     "text": [
      "Epoch 471/500 [Training]: 100%|██████████| 13/13 [00:00<00:00, 171.18it/s, loss=0.0012]\n",
      "Epoch 471/500 [Validation]: 100%|██████████| 79/79 [00:00<00:00, 280.99it/s]\n"
     ]
    },
    {
     "name": "stdout",
     "output_type": "stream",
     "text": [
      "Epoch [471/500], Train Loss: 0.0050, Train Accuracy: 100.00%, Validation Accuracy: 85.99%\n"
     ]
    },
    {
     "name": "stderr",
     "output_type": "stream",
     "text": [
      "Epoch 472/500 [Training]: 100%|██████████| 13/13 [00:00<00:00, 165.84it/s, loss=0.0015]\n",
      "Epoch 472/500 [Validation]: 100%|██████████| 79/79 [00:00<00:00, 293.73it/s]\n"
     ]
    },
    {
     "name": "stdout",
     "output_type": "stream",
     "text": [
      "Epoch [472/500], Train Loss: 0.0059, Train Accuracy: 100.00%, Validation Accuracy: 86.28%\n"
     ]
    },
    {
     "name": "stderr",
     "output_type": "stream",
     "text": [
      "Epoch 473/500 [Training]: 100%|██████████| 13/13 [00:00<00:00, 99.67it/s, loss=0.0004] \n",
      "Epoch 473/500 [Validation]: 100%|██████████| 79/79 [00:00<00:00, 279.99it/s]\n"
     ]
    },
    {
     "name": "stdout",
     "output_type": "stream",
     "text": [
      "Epoch [473/500], Train Loss: 0.0055, Train Accuracy: 100.00%, Validation Accuracy: 86.07%\n"
     ]
    },
    {
     "name": "stderr",
     "output_type": "stream",
     "text": [
      "Epoch 474/500 [Training]: 100%|██████████| 13/13 [00:00<00:00, 173.11it/s, loss=0.0003]\n",
      "Epoch 474/500 [Validation]: 100%|██████████| 79/79 [00:00<00:00, 284.10it/s]\n"
     ]
    },
    {
     "name": "stdout",
     "output_type": "stream",
     "text": [
      "Epoch [474/500], Train Loss: 0.0037, Train Accuracy: 100.00%, Validation Accuracy: 86.11%\n"
     ]
    },
    {
     "name": "stderr",
     "output_type": "stream",
     "text": [
      "Epoch 475/500 [Training]: 100%|██████████| 13/13 [00:00<00:00, 174.61it/s, loss=0.0004]\n",
      "Epoch 475/500 [Validation]: 100%|██████████| 79/79 [00:00<00:00, 323.62it/s]\n"
     ]
    },
    {
     "name": "stdout",
     "output_type": "stream",
     "text": [
      "Epoch [475/500], Train Loss: 0.0052, Train Accuracy: 100.00%, Validation Accuracy: 86.06%\n"
     ]
    },
    {
     "name": "stderr",
     "output_type": "stream",
     "text": [
      "Epoch 476/500 [Training]: 100%|██████████| 13/13 [00:00<00:00, 170.04it/s, loss=0.0004]\n",
      "Epoch 476/500 [Validation]: 100%|██████████| 79/79 [00:00<00:00, 310.08it/s]\n"
     ]
    },
    {
     "name": "stdout",
     "output_type": "stream",
     "text": [
      "Epoch [476/500], Train Loss: 0.0042, Train Accuracy: 100.00%, Validation Accuracy: 86.15%\n"
     ]
    },
    {
     "name": "stderr",
     "output_type": "stream",
     "text": [
      "Epoch 477/500 [Training]: 100%|██████████| 13/13 [00:00<00:00, 143.76it/s, loss=0.0006]\n",
      "Epoch 477/500 [Validation]: 100%|██████████| 79/79 [00:00<00:00, 268.36it/s]\n"
     ]
    },
    {
     "name": "stdout",
     "output_type": "stream",
     "text": [
      "Epoch [477/500], Train Loss: 0.0051, Train Accuracy: 100.00%, Validation Accuracy: 86.06%\n"
     ]
    },
    {
     "name": "stderr",
     "output_type": "stream",
     "text": [
      "Epoch 478/500 [Training]: 100%|██████████| 13/13 [00:00<00:00, 173.74it/s, loss=0.0006]\n",
      "Epoch 478/500 [Validation]: 100%|██████████| 79/79 [00:00<00:00, 292.42it/s]\n"
     ]
    },
    {
     "name": "stdout",
     "output_type": "stream",
     "text": [
      "Epoch [478/500], Train Loss: 0.0045, Train Accuracy: 100.00%, Validation Accuracy: 85.90%\n"
     ]
    },
    {
     "name": "stderr",
     "output_type": "stream",
     "text": [
      "Epoch 479/500 [Training]: 100%|██████████| 13/13 [00:00<00:00, 160.77it/s, loss=0.0009]\n",
      "Epoch 479/500 [Validation]: 100%|██████████| 79/79 [00:00<00:00, 274.15it/s]\n"
     ]
    },
    {
     "name": "stdout",
     "output_type": "stream",
     "text": [
      "Epoch [479/500], Train Loss: 0.0052, Train Accuracy: 100.00%, Validation Accuracy: 85.95%\n"
     ]
    },
    {
     "name": "stderr",
     "output_type": "stream",
     "text": [
      "Epoch 480/500 [Training]: 100%|██████████| 13/13 [00:00<00:00, 161.40it/s, loss=0.0004]\n",
      "Epoch 480/500 [Validation]: 100%|██████████| 79/79 [00:00<00:00, 264.95it/s]\n"
     ]
    },
    {
     "name": "stdout",
     "output_type": "stream",
     "text": [
      "Epoch [480/500], Train Loss: 0.0055, Train Accuracy: 100.00%, Validation Accuracy: 86.15%\n"
     ]
    },
    {
     "name": "stderr",
     "output_type": "stream",
     "text": [
      "Epoch 481/500 [Training]: 100%|██████████| 13/13 [00:00<00:00, 143.84it/s, loss=0.0003]\n",
      "Epoch 481/500 [Validation]: 100%|██████████| 79/79 [00:00<00:00, 258.49it/s]\n"
     ]
    },
    {
     "name": "stdout",
     "output_type": "stream",
     "text": [
      "Epoch [481/500], Train Loss: 0.0042, Train Accuracy: 100.00%, Validation Accuracy: 85.99%\n"
     ]
    },
    {
     "name": "stderr",
     "output_type": "stream",
     "text": [
      "Epoch 482/500 [Training]: 100%|██████████| 13/13 [00:00<00:00, 126.44it/s, loss=0.0004]\n",
      "Epoch 482/500 [Validation]: 100%|██████████| 79/79 [00:00<00:00, 232.49it/s]\n"
     ]
    },
    {
     "name": "stdout",
     "output_type": "stream",
     "text": [
      "Epoch [482/500], Train Loss: 0.0044, Train Accuracy: 100.00%, Validation Accuracy: 86.12%\n"
     ]
    },
    {
     "name": "stderr",
     "output_type": "stream",
     "text": [
      "Epoch 483/500 [Training]: 100%|██████████| 13/13 [00:00<00:00, 130.48it/s, loss=0.0010]\n",
      "Epoch 483/500 [Validation]: 100%|██████████| 79/79 [00:00<00:00, 341.25it/s]\n"
     ]
    },
    {
     "name": "stdout",
     "output_type": "stream",
     "text": [
      "Epoch [483/500], Train Loss: 0.0049, Train Accuracy: 100.00%, Validation Accuracy: 85.99%\n"
     ]
    },
    {
     "name": "stderr",
     "output_type": "stream",
     "text": [
      "Epoch 484/500 [Training]: 100%|██████████| 13/13 [00:00<00:00, 156.69it/s, loss=0.0003]\n",
      "Epoch 484/500 [Validation]: 100%|██████████| 79/79 [00:00<00:00, 246.70it/s]\n"
     ]
    },
    {
     "name": "stdout",
     "output_type": "stream",
     "text": [
      "Epoch [484/500], Train Loss: 0.0062, Train Accuracy: 100.00%, Validation Accuracy: 86.22%\n"
     ]
    },
    {
     "name": "stderr",
     "output_type": "stream",
     "text": [
      "Epoch 485/500 [Training]: 100%|██████████| 13/13 [00:00<00:00, 144.67it/s, loss=0.0004]\n",
      "Epoch 485/500 [Validation]: 100%|██████████| 79/79 [00:00<00:00, 298.14it/s]\n"
     ]
    },
    {
     "name": "stdout",
     "output_type": "stream",
     "text": [
      "Epoch [485/500], Train Loss: 0.0042, Train Accuracy: 100.00%, Validation Accuracy: 85.69%\n"
     ]
    },
    {
     "name": "stderr",
     "output_type": "stream",
     "text": [
      "Epoch 486/500 [Training]: 100%|██████████| 13/13 [00:00<00:00, 122.90it/s, loss=0.0011]\n",
      "Epoch 486/500 [Validation]: 100%|██████████| 79/79 [00:00<00:00, 259.35it/s]\n"
     ]
    },
    {
     "name": "stdout",
     "output_type": "stream",
     "text": [
      "Epoch [486/500], Train Loss: 0.0057, Train Accuracy: 100.00%, Validation Accuracy: 85.99%\n"
     ]
    },
    {
     "name": "stderr",
     "output_type": "stream",
     "text": [
      "Epoch 487/500 [Training]: 100%|██████████| 13/13 [00:00<00:00, 169.97it/s, loss=0.0012]\n",
      "Epoch 487/500 [Validation]: 100%|██████████| 79/79 [00:00<00:00, 294.88it/s]\n"
     ]
    },
    {
     "name": "stdout",
     "output_type": "stream",
     "text": [
      "Epoch [487/500], Train Loss: 0.0051, Train Accuracy: 100.00%, Validation Accuracy: 85.85%\n"
     ]
    },
    {
     "name": "stderr",
     "output_type": "stream",
     "text": [
      "Epoch 488/500 [Training]: 100%|██████████| 13/13 [00:00<00:00, 172.53it/s, loss=0.0004]\n",
      "Epoch 488/500 [Validation]: 100%|██████████| 79/79 [00:00<00:00, 303.38it/s]\n"
     ]
    },
    {
     "name": "stdout",
     "output_type": "stream",
     "text": [
      "Epoch [488/500], Train Loss: 0.0044, Train Accuracy: 100.00%, Validation Accuracy: 86.36%\n"
     ]
    },
    {
     "name": "stderr",
     "output_type": "stream",
     "text": [
      "Epoch 489/500 [Training]: 100%|██████████| 13/13 [00:00<00:00, 161.00it/s, loss=0.0010]\n",
      "Epoch 489/500 [Validation]: 100%|██████████| 79/79 [00:00<00:00, 264.74it/s]\n"
     ]
    },
    {
     "name": "stdout",
     "output_type": "stream",
     "text": [
      "Epoch [489/500], Train Loss: 0.0048, Train Accuracy: 100.00%, Validation Accuracy: 86.19%\n"
     ]
    },
    {
     "name": "stderr",
     "output_type": "stream",
     "text": [
      "Epoch 490/500 [Training]: 100%|██████████| 13/13 [00:00<00:00, 158.00it/s, loss=0.0005]\n",
      "Epoch 490/500 [Validation]: 100%|██████████| 79/79 [00:00<00:00, 251.82it/s]\n"
     ]
    },
    {
     "name": "stdout",
     "output_type": "stream",
     "text": [
      "Epoch [490/500], Train Loss: 0.0046, Train Accuracy: 100.00%, Validation Accuracy: 85.88%\n"
     ]
    },
    {
     "name": "stderr",
     "output_type": "stream",
     "text": [
      "Epoch 491/500 [Training]: 100%|██████████| 13/13 [00:00<00:00, 135.72it/s, loss=0.0019]\n",
      "Epoch 491/500 [Validation]: 100%|██████████| 79/79 [00:00<00:00, 256.62it/s]\n"
     ]
    },
    {
     "name": "stdout",
     "output_type": "stream",
     "text": [
      "Epoch [491/500], Train Loss: 0.0060, Train Accuracy: 100.00%, Validation Accuracy: 85.98%\n"
     ]
    },
    {
     "name": "stderr",
     "output_type": "stream",
     "text": [
      "Epoch 492/500 [Training]: 100%|██████████| 13/13 [00:00<00:00, 134.50it/s, loss=0.0013]\n",
      "Epoch 492/500 [Validation]: 100%|██████████| 79/79 [00:00<00:00, 280.63it/s]\n"
     ]
    },
    {
     "name": "stdout",
     "output_type": "stream",
     "text": [
      "Epoch [492/500], Train Loss: 0.0051, Train Accuracy: 100.00%, Validation Accuracy: 85.23%\n"
     ]
    },
    {
     "name": "stderr",
     "output_type": "stream",
     "text": [
      "Epoch 493/500 [Training]: 100%|██████████| 13/13 [00:00<00:00, 172.93it/s, loss=0.0005]\n",
      "Epoch 493/500 [Validation]: 100%|██████████| 79/79 [00:00<00:00, 330.25it/s]\n"
     ]
    },
    {
     "name": "stdout",
     "output_type": "stream",
     "text": [
      "Epoch [493/500], Train Loss: 0.0045, Train Accuracy: 100.00%, Validation Accuracy: 86.24%\n"
     ]
    },
    {
     "name": "stderr",
     "output_type": "stream",
     "text": [
      "Epoch 494/500 [Training]: 100%|██████████| 13/13 [00:00<00:00, 160.66it/s, loss=0.0011]\n",
      "Epoch 494/500 [Validation]: 100%|██████████| 79/79 [00:00<00:00, 308.77it/s]\n"
     ]
    },
    {
     "name": "stdout",
     "output_type": "stream",
     "text": [
      "Epoch [494/500], Train Loss: 0.0072, Train Accuracy: 100.00%, Validation Accuracy: 86.26%\n"
     ]
    },
    {
     "name": "stderr",
     "output_type": "stream",
     "text": [
      "Epoch 495/500 [Training]: 100%|██████████| 13/13 [00:00<00:00, 110.14it/s, loss=0.0012]\n",
      "Epoch 495/500 [Validation]: 100%|██████████| 79/79 [00:00<00:00, 267.64it/s]\n"
     ]
    },
    {
     "name": "stdout",
     "output_type": "stream",
     "text": [
      "Epoch [495/500], Train Loss: 0.0088, Train Accuracy: 100.00%, Validation Accuracy: 85.83%\n"
     ]
    },
    {
     "name": "stderr",
     "output_type": "stream",
     "text": [
      "Epoch 496/500 [Training]: 100%|██████████| 13/13 [00:00<00:00, 164.18it/s, loss=0.0004]\n",
      "Epoch 496/500 [Validation]: 100%|██████████| 79/79 [00:00<00:00, 294.07it/s]\n"
     ]
    },
    {
     "name": "stdout",
     "output_type": "stream",
     "text": [
      "Epoch [496/500], Train Loss: 0.0046, Train Accuracy: 100.00%, Validation Accuracy: 85.94%\n"
     ]
    },
    {
     "name": "stderr",
     "output_type": "stream",
     "text": [
      "Epoch 497/500 [Training]: 100%|██████████| 13/13 [00:00<00:00, 157.02it/s, loss=0.0004]\n",
      "Epoch 497/500 [Validation]: 100%|██████████| 79/79 [00:00<00:00, 281.89it/s]\n"
     ]
    },
    {
     "name": "stdout",
     "output_type": "stream",
     "text": [
      "Epoch [497/500], Train Loss: 0.0049, Train Accuracy: 100.00%, Validation Accuracy: 85.99%\n"
     ]
    },
    {
     "name": "stderr",
     "output_type": "stream",
     "text": [
      "Epoch 498/500 [Training]: 100%|██████████| 13/13 [00:00<00:00, 156.35it/s, loss=0.0016]\n",
      "Epoch 498/500 [Validation]: 100%|██████████| 79/79 [00:00<00:00, 268.90it/s]\n"
     ]
    },
    {
     "name": "stdout",
     "output_type": "stream",
     "text": [
      "Epoch [498/500], Train Loss: 0.0070, Train Accuracy: 100.00%, Validation Accuracy: 86.21%\n"
     ]
    },
    {
     "name": "stderr",
     "output_type": "stream",
     "text": [
      "Epoch 499/500 [Training]: 100%|██████████| 13/13 [00:00<00:00, 115.24it/s, loss=0.0003]\n",
      "Epoch 499/500 [Validation]: 100%|██████████| 79/79 [00:00<00:00, 287.58it/s]\n"
     ]
    },
    {
     "name": "stdout",
     "output_type": "stream",
     "text": [
      "Epoch [499/500], Train Loss: 0.0048, Train Accuracy: 100.00%, Validation Accuracy: 86.07%\n"
     ]
    },
    {
     "name": "stderr",
     "output_type": "stream",
     "text": [
      "Epoch 500/500 [Training]: 100%|██████████| 13/13 [00:00<00:00, 159.55it/s, loss=0.0013]\n",
      "Epoch 500/500 [Validation]: 100%|██████████| 79/79 [00:00<00:00, 279.32it/s]"
     ]
    },
    {
     "name": "stdout",
     "output_type": "stream",
     "text": [
      "Epoch [500/500], Train Loss: 0.0059, Train Accuracy: 100.00%, Validation Accuracy: 86.30%\n"
     ]
    },
    {
     "name": "stderr",
     "output_type": "stream",
     "text": [
      "\n"
     ]
    }
   ],
   "source": [
    "train_rotnet(baseline_model,\n",
    "            supervised_train_loader,\n",
    "            supervised_val_loader,\n",
    "            criterion,optimizer,\n",
    "            learning_rate_scheduler,\n",
    "            num_epochs=500,\n",
    "            save_path=f'baseline_best.pth')"
   ]
  },
  {
   "cell_type": "code",
   "execution_count": null,
   "metadata": {},
   "outputs": [
    {
     "name": "stderr",
     "output_type": "stream",
     "text": [
      "/tmp/ipykernel_236712/3644002528.py:2: FutureWarning: You are using `torch.load` with `weights_only=False` (the current default value), which uses the default pickle module implicitly. It is possible to construct malicious pickle data which will execute arbitrary code during unpickling (See https://github.com/pytorch/pytorch/blob/main/SECURITY.md#untrusted-models for more details). In a future release, the default value for `weights_only` will be flipped to `True`. This limits the functions that could be executed during unpickling. Arbitrary objects will no longer be allowed to be loaded via this mode unless they are explicitly allowlisted by the user via `torch.serialization.add_safe_globals`. We recommend you start setting `weights_only=True` for any use case where you don't have full control of the loaded file. Please open an issue on GitHub for any issues related to this experimental feature.\n",
      "  baseline_model.load_state_dict(torch.load('baseline_best.pth'))\n"
     ]
    }
   ],
   "source": [
    "baseline_model=ConvNet(num_classes=10)\n",
    "baseline_model.load_state_dict(torch.load('baseline_best.pth'))\n",
    "baseline_model=baseline_model.cuda()"
   ]
  },
  {
   "cell_type": "code",
   "execution_count": 20,
   "metadata": {
    "id": "QUeZKFWm6P-j"
   },
   "outputs": [
    {
     "name": "stdout",
     "output_type": "stream",
     "text": [
      "Test Accuracy: 86.58%\n"
     ]
    }
   ],
   "source": [
    "def evaluate_classifier(classifier, dataloader):\n",
    "    classifier.eval()\n",
    "    correct = 0\n",
    "    total = 0\n",
    "    with torch.no_grad():\n",
    "        for images, labels in dataloader:\n",
    "            images, labels = images.cuda(), labels.cuda()\n",
    "            outputs = classifier(images)\n",
    "            _, predicted = torch.max(outputs, 1)\n",
    "            total += labels.size(0)\n",
    "            correct += (predicted == labels).sum().item()\n",
    "    accuracy = 100 * correct / total\n",
    "    print(f\"Test Accuracy: {accuracy:.2f}%\")\n",
    "\n",
    "# Evaluate Classifier\n",
    "test_loader = DataLoader(X_test, batch_size=64, shuffle=False)\n",
    "evaluate_classifier(baseline_model, test_loader)"
   ]
  },
  {
   "cell_type": "code",
   "execution_count": 21,
   "metadata": {},
   "outputs": [],
   "source": [
    "import torch\n",
    "import torch.nn as nn\n",
    "\n",
    "def transfer_layers(source_model, target_model, num_transfer_blocks):\n",
    "    \"\"\"\n",
    "    Transfers the first `num_transfer_blocks` layers (blocks) from `source_model` to `target_model`.\n",
    "    \n",
    "    Args:\n",
    "        source_model (nn.Module): The source network (e.g., RotNet).\n",
    "        target_model (nn.Module): The target network to receive layers.\n",
    "        num_transfer_blocks (int): Number of blocks to transfer.\n",
    "    \"\"\"\n",
    "    # Ensure the target model has enough blocks to accept the transfer\n",
    "    assert len(target_model.blocks) >= num_transfer_blocks, \"Target model has fewer blocks than required.\"\n",
    "\n",
    "    # Copy parameters for the specified number of blocks\n",
    "    for i in range(num_transfer_blocks):\n",
    "        target_model.blocks[i].load_state_dict(source_model.blocks[i].state_dict())\n",
    "\n",
    "    print(f\"Transferred {num_transfer_blocks} blocks from source model to target model.\")\n"
   ]
  },
  {
   "cell_type": "code",
   "execution_count": null,
   "metadata": {},
   "outputs": [
    {
     "name": "stderr",
     "output_type": "stream",
     "text": [
      "/tmp/ipykernel_236712/1478346537.py:3: FutureWarning: You are using `torch.load` with `weights_only=False` (the current default value), which uses the default pickle module implicitly. It is possible to construct malicious pickle data which will execute arbitrary code during unpickling (See https://github.com/pytorch/pytorch/blob/main/SECURITY.md#untrusted-models for more details). In a future release, the default value for `weights_only` will be flipped to `True`. This limits the functions that could be executed during unpickling. Arbitrary objects will no longer be allowed to be loaded via this mode unless they are explicitly allowlisted by the user via `torch.serialization.add_safe_globals`. We recommend you start setting `weights_only=True` for any use case where you don't have full control of the loaded file. Please open an issue on GitHub for any issues related to this experimental feature.\n",
      "  rotnet_model.load_state_dict(torch.load(f'./best_rotnet{rotations}.pth'))\n"
     ]
    }
   ],
   "source": [
    "rotnet_model=ConvNet(num_classes=len(rotations))\n",
    "\n",
    "rotnet_model.load_state_dict(torch.load(f'./best_rotnet{rotations}.pth'))\n",
    "rotnet_model=rotnet_model"
   ]
  },
  {
   "cell_type": "code",
   "execution_count": null,
   "metadata": {},
   "outputs": [
    {
     "name": "stdout",
     "output_type": "stream",
     "text": [
      "Transferred 2 blocks from source model to target model.\n"
     ]
    }
   ],
   "source": [
    "MNIST_model = ConvNet(num_classes=10,num_blocks=TRANSFER_LAYERS+1)\n",
    "\n",
    "transfer_layers(rotnet_model, MNIST_model, num_transfer_blocks=TRANSFER_LAYERS)\n",
    "\n",
    "MNIST_model=MNIST_model.cuda()"
   ]
  },
  {
   "cell_type": "code",
   "execution_count": 24,
   "metadata": {},
   "outputs": [],
   "source": [
    "supervised_train_loader = DataLoader(X_train_100, batch_size=8, shuffle=True,num_workers=4,persistent_workers=True)\n",
    "supervised_val_loader = DataLoader(X_test, batch_size=8, shuffle=False,num_workers=4,persistent_workers=True)\n",
    "optimizer=torch.optim.Adam(MNIST_model.parameters(),lr=0.001,weight_decay=0.001)"
   ]
  },
  {
   "cell_type": "code",
   "execution_count": 25,
   "metadata": {},
   "outputs": [
    {
     "name": "stderr",
     "output_type": "stream",
     "text": [
      "Epoch 1/100 [Training]: 100%|██████████| 13/13 [00:00<00:00, 70.22it/s, loss=1.9816]\n",
      "Epoch 1/100 [Validation]: 100%|██████████| 1250/1250 [00:02<00:00, 619.31it/s]\n"
     ]
    },
    {
     "name": "stdout",
     "output_type": "stream",
     "text": [
      "Epoch [1/100], Train Loss: 26.7328, Train Accuracy: 33.00%, Validation Accuracy: 18.07%\n"
     ]
    },
    {
     "name": "stderr",
     "output_type": "stream",
     "text": [
      "Epoch 2/100 [Training]: 100%|██████████| 13/13 [00:00<00:00, 126.70it/s, loss=0.2184]\n",
      "Epoch 2/100 [Validation]: 100%|██████████| 1250/1250 [00:02<00:00, 551.75it/s]\n"
     ]
    },
    {
     "name": "stdout",
     "output_type": "stream",
     "text": [
      "Epoch [2/100], Train Loss: 9.3049, Train Accuracy: 87.00%, Validation Accuracy: 10.32%\n"
     ]
    },
    {
     "name": "stderr",
     "output_type": "stream",
     "text": [
      "Epoch 3/100 [Training]: 100%|██████████| 13/13 [00:00<00:00, 164.30it/s, loss=0.2408]\n",
      "Epoch 3/100 [Validation]: 100%|██████████| 1250/1250 [00:01<00:00, 718.65it/s]\n"
     ]
    },
    {
     "name": "stdout",
     "output_type": "stream",
     "text": [
      "Epoch [3/100], Train Loss: 3.2126, Train Accuracy: 99.00%, Validation Accuracy: 25.32%\n"
     ]
    },
    {
     "name": "stderr",
     "output_type": "stream",
     "text": [
      "Epoch 4/100 [Training]: 100%|██████████| 13/13 [00:00<00:00, 169.73it/s, loss=0.0944]\n",
      "Epoch 4/100 [Validation]: 100%|██████████| 1250/1250 [00:01<00:00, 687.04it/s]\n"
     ]
    },
    {
     "name": "stdout",
     "output_type": "stream",
     "text": [
      "Epoch [4/100], Train Loss: 1.0000, Train Accuracy: 100.00%, Validation Accuracy: 17.28%\n"
     ]
    },
    {
     "name": "stderr",
     "output_type": "stream",
     "text": [
      "Epoch 5/100 [Training]: 100%|██████████| 13/13 [00:00<00:00, 167.85it/s, loss=0.0197]\n",
      "Epoch 5/100 [Validation]: 100%|██████████| 1250/1250 [00:01<00:00, 729.31it/s]\n"
     ]
    },
    {
     "name": "stdout",
     "output_type": "stream",
     "text": [
      "Epoch [5/100], Train Loss: 0.4944, Train Accuracy: 100.00%, Validation Accuracy: 17.65%\n"
     ]
    },
    {
     "name": "stderr",
     "output_type": "stream",
     "text": [
      "Epoch 6/100 [Training]: 100%|██████████| 13/13 [00:00<00:00, 174.99it/s, loss=0.0122]\n",
      "Epoch 6/100 [Validation]: 100%|██████████| 1250/1250 [00:01<00:00, 706.46it/s]\n"
     ]
    },
    {
     "name": "stdout",
     "output_type": "stream",
     "text": [
      "Epoch [6/100], Train Loss: 0.2066, Train Accuracy: 100.00%, Validation Accuracy: 17.98%\n"
     ]
    },
    {
     "name": "stderr",
     "output_type": "stream",
     "text": [
      "Epoch 7/100 [Training]: 100%|██████████| 13/13 [00:00<00:00, 161.15it/s, loss=0.0224]\n",
      "Epoch 7/100 [Validation]: 100%|██████████| 1250/1250 [00:01<00:00, 663.34it/s]\n"
     ]
    },
    {
     "name": "stdout",
     "output_type": "stream",
     "text": [
      "Epoch [7/100], Train Loss: 0.1194, Train Accuracy: 100.00%, Validation Accuracy: 15.94%\n"
     ]
    },
    {
     "name": "stderr",
     "output_type": "stream",
     "text": [
      "Epoch 8/100 [Training]: 100%|██████████| 13/13 [00:00<00:00, 166.48it/s, loss=0.0061]\n",
      "Epoch 8/100 [Validation]: 100%|██████████| 1250/1250 [00:01<00:00, 720.82it/s]\n"
     ]
    },
    {
     "name": "stdout",
     "output_type": "stream",
     "text": [
      "Epoch [8/100], Train Loss: 0.0847, Train Accuracy: 100.00%, Validation Accuracy: 17.94%\n"
     ]
    },
    {
     "name": "stderr",
     "output_type": "stream",
     "text": [
      "Epoch 9/100 [Training]: 100%|██████████| 13/13 [00:00<00:00, 171.69it/s, loss=0.0077]\n",
      "Epoch 9/100 [Validation]: 100%|██████████| 1250/1250 [00:01<00:00, 727.58it/s]\n"
     ]
    },
    {
     "name": "stdout",
     "output_type": "stream",
     "text": [
      "Epoch [9/100], Train Loss: 0.0772, Train Accuracy: 100.00%, Validation Accuracy: 17.09%\n"
     ]
    },
    {
     "name": "stderr",
     "output_type": "stream",
     "text": [
      "Epoch 10/100 [Training]: 100%|██████████| 13/13 [00:00<00:00, 173.63it/s, loss=0.0050]\n",
      "Epoch 10/100 [Validation]: 100%|██████████| 1250/1250 [00:01<00:00, 723.81it/s]\n"
     ]
    },
    {
     "name": "stdout",
     "output_type": "stream",
     "text": [
      "Epoch [10/100], Train Loss: 0.0594, Train Accuracy: 100.00%, Validation Accuracy: 18.27%\n"
     ]
    },
    {
     "name": "stderr",
     "output_type": "stream",
     "text": [
      "Epoch 11/100 [Training]: 100%|██████████| 13/13 [00:00<00:00, 172.53it/s, loss=0.0032]\n",
      "Epoch 11/100 [Validation]: 100%|██████████| 1250/1250 [00:01<00:00, 722.75it/s]\n"
     ]
    },
    {
     "name": "stdout",
     "output_type": "stream",
     "text": [
      "Epoch [11/100], Train Loss: 0.0492, Train Accuracy: 100.00%, Validation Accuracy: 20.21%\n"
     ]
    },
    {
     "name": "stderr",
     "output_type": "stream",
     "text": [
      "Epoch 12/100 [Training]: 100%|██████████| 13/13 [00:00<00:00, 170.87it/s, loss=0.0028]\n",
      "Epoch 12/100 [Validation]: 100%|██████████| 1250/1250 [00:01<00:00, 720.49it/s]\n"
     ]
    },
    {
     "name": "stdout",
     "output_type": "stream",
     "text": [
      "Epoch [12/100], Train Loss: 0.0383, Train Accuracy: 100.00%, Validation Accuracy: 25.30%\n"
     ]
    },
    {
     "name": "stderr",
     "output_type": "stream",
     "text": [
      "Epoch 13/100 [Training]: 100%|██████████| 13/13 [00:00<00:00, 170.39it/s, loss=0.0078]\n",
      "Epoch 13/100 [Validation]: 100%|██████████| 1250/1250 [00:01<00:00, 729.80it/s]\n"
     ]
    },
    {
     "name": "stdout",
     "output_type": "stream",
     "text": [
      "Epoch [13/100], Train Loss: 0.0414, Train Accuracy: 100.00%, Validation Accuracy: 28.84%\n"
     ]
    },
    {
     "name": "stderr",
     "output_type": "stream",
     "text": [
      "Epoch 14/100 [Training]: 100%|██████████| 13/13 [00:00<00:00, 175.56it/s, loss=0.0027]\n",
      "Epoch 14/100 [Validation]: 100%|██████████| 1250/1250 [00:01<00:00, 740.78it/s]\n"
     ]
    },
    {
     "name": "stdout",
     "output_type": "stream",
     "text": [
      "Epoch [14/100], Train Loss: 0.0382, Train Accuracy: 100.00%, Validation Accuracy: 33.48%\n"
     ]
    },
    {
     "name": "stderr",
     "output_type": "stream",
     "text": [
      "Epoch 15/100 [Training]: 100%|██████████| 13/13 [00:00<00:00, 139.68it/s, loss=0.0042]\n",
      "Epoch 15/100 [Validation]: 100%|██████████| 1250/1250 [00:01<00:00, 716.39it/s]\n"
     ]
    },
    {
     "name": "stdout",
     "output_type": "stream",
     "text": [
      "Epoch [15/100], Train Loss: 0.0351, Train Accuracy: 100.00%, Validation Accuracy: 41.96%\n"
     ]
    },
    {
     "name": "stderr",
     "output_type": "stream",
     "text": [
      "Epoch 16/100 [Training]: 100%|██████████| 13/13 [00:00<00:00, 167.72it/s, loss=0.0074]\n",
      "Epoch 16/100 [Validation]: 100%|██████████| 1250/1250 [00:01<00:00, 722.54it/s]\n"
     ]
    },
    {
     "name": "stdout",
     "output_type": "stream",
     "text": [
      "Epoch [16/100], Train Loss: 0.0342, Train Accuracy: 100.00%, Validation Accuracy: 41.42%\n"
     ]
    },
    {
     "name": "stderr",
     "output_type": "stream",
     "text": [
      "Epoch 17/100 [Training]: 100%|██████████| 13/13 [00:00<00:00, 132.75it/s, loss=0.0013]\n",
      "Epoch 17/100 [Validation]: 100%|██████████| 1250/1250 [00:01<00:00, 727.05it/s]\n"
     ]
    },
    {
     "name": "stdout",
     "output_type": "stream",
     "text": [
      "Epoch [17/100], Train Loss: 0.0270, Train Accuracy: 100.00%, Validation Accuracy: 39.30%\n"
     ]
    },
    {
     "name": "stderr",
     "output_type": "stream",
     "text": [
      "Epoch 18/100 [Training]: 100%|██████████| 13/13 [00:00<00:00, 168.02it/s, loss=0.0068]\n",
      "Epoch 18/100 [Validation]: 100%|██████████| 1250/1250 [00:01<00:00, 726.94it/s]\n"
     ]
    },
    {
     "name": "stdout",
     "output_type": "stream",
     "text": [
      "Epoch [18/100], Train Loss: 0.0338, Train Accuracy: 100.00%, Validation Accuracy: 37.85%\n"
     ]
    },
    {
     "name": "stderr",
     "output_type": "stream",
     "text": [
      "Epoch 19/100 [Training]: 100%|██████████| 13/13 [00:00<00:00, 173.13it/s, loss=0.0018]\n",
      "Epoch 19/100 [Validation]: 100%|██████████| 1250/1250 [00:01<00:00, 709.58it/s]\n"
     ]
    },
    {
     "name": "stdout",
     "output_type": "stream",
     "text": [
      "Epoch [19/100], Train Loss: 0.0285, Train Accuracy: 100.00%, Validation Accuracy: 33.50%\n"
     ]
    },
    {
     "name": "stderr",
     "output_type": "stream",
     "text": [
      "Epoch 20/100 [Training]: 100%|██████████| 13/13 [00:00<00:00, 171.43it/s, loss=0.0016]\n",
      "Epoch 20/100 [Validation]: 100%|██████████| 1250/1250 [00:01<00:00, 706.38it/s]\n"
     ]
    },
    {
     "name": "stdout",
     "output_type": "stream",
     "text": [
      "Epoch [20/100], Train Loss: 0.0234, Train Accuracy: 100.00%, Validation Accuracy: 32.19%\n"
     ]
    },
    {
     "name": "stderr",
     "output_type": "stream",
     "text": [
      "Epoch 21/100 [Training]: 100%|██████████| 13/13 [00:00<00:00, 172.37it/s, loss=0.0136]\n",
      "Epoch 21/100 [Validation]: 100%|██████████| 1250/1250 [00:01<00:00, 714.52it/s]\n"
     ]
    },
    {
     "name": "stdout",
     "output_type": "stream",
     "text": [
      "Epoch [21/100], Train Loss: 0.0344, Train Accuracy: 100.00%, Validation Accuracy: 32.58%\n"
     ]
    },
    {
     "name": "stderr",
     "output_type": "stream",
     "text": [
      "Epoch 22/100 [Training]: 100%|██████████| 13/13 [00:00<00:00, 164.22it/s, loss=0.0029]\n",
      "Epoch 22/100 [Validation]: 100%|██████████| 1250/1250 [00:01<00:00, 660.58it/s]\n"
     ]
    },
    {
     "name": "stdout",
     "output_type": "stream",
     "text": [
      "Epoch [22/100], Train Loss: 0.0223, Train Accuracy: 100.00%, Validation Accuracy: 39.89%\n"
     ]
    },
    {
     "name": "stderr",
     "output_type": "stream",
     "text": [
      "Epoch 23/100 [Training]: 100%|██████████| 13/13 [00:00<00:00, 166.21it/s, loss=0.0028]\n",
      "Epoch 23/100 [Validation]: 100%|██████████| 1250/1250 [00:01<00:00, 642.08it/s]\n"
     ]
    },
    {
     "name": "stdout",
     "output_type": "stream",
     "text": [
      "Epoch [23/100], Train Loss: 0.0351, Train Accuracy: 100.00%, Validation Accuracy: 33.29%\n"
     ]
    },
    {
     "name": "stderr",
     "output_type": "stream",
     "text": [
      "Epoch 24/100 [Training]: 100%|██████████| 13/13 [00:00<00:00, 170.40it/s, loss=0.0018]\n",
      "Epoch 24/100 [Validation]: 100%|██████████| 1250/1250 [00:01<00:00, 637.61it/s]\n"
     ]
    },
    {
     "name": "stdout",
     "output_type": "stream",
     "text": [
      "Epoch [24/100], Train Loss: 0.0177, Train Accuracy: 100.00%, Validation Accuracy: 30.92%\n"
     ]
    },
    {
     "name": "stderr",
     "output_type": "stream",
     "text": [
      "Epoch 25/100 [Training]: 100%|██████████| 13/13 [00:00<00:00, 151.03it/s, loss=0.0018]\n",
      "Epoch 25/100 [Validation]: 100%|██████████| 1250/1250 [00:02<00:00, 601.40it/s]\n"
     ]
    },
    {
     "name": "stdout",
     "output_type": "stream",
     "text": [
      "Epoch [25/100], Train Loss: 0.0173, Train Accuracy: 100.00%, Validation Accuracy: 36.32%\n"
     ]
    },
    {
     "name": "stderr",
     "output_type": "stream",
     "text": [
      "Epoch 26/100 [Training]: 100%|██████████| 13/13 [00:00<00:00, 157.67it/s, loss=0.0031]\n",
      "Epoch 26/100 [Validation]: 100%|██████████| 1250/1250 [00:01<00:00, 663.65it/s]\n"
     ]
    },
    {
     "name": "stdout",
     "output_type": "stream",
     "text": [
      "Epoch [26/100], Train Loss: 0.0173, Train Accuracy: 100.00%, Validation Accuracy: 39.44%\n"
     ]
    },
    {
     "name": "stderr",
     "output_type": "stream",
     "text": [
      "Epoch 27/100 [Training]: 100%|██████████| 13/13 [00:00<00:00, 172.30it/s, loss=0.0011]\n",
      "Epoch 27/100 [Validation]: 100%|██████████| 1250/1250 [00:01<00:00, 629.34it/s]\n"
     ]
    },
    {
     "name": "stdout",
     "output_type": "stream",
     "text": [
      "Epoch [27/100], Train Loss: 0.0172, Train Accuracy: 100.00%, Validation Accuracy: 41.60%\n"
     ]
    },
    {
     "name": "stderr",
     "output_type": "stream",
     "text": [
      "Epoch 28/100 [Training]: 100%|██████████| 13/13 [00:00<00:00, 143.79it/s, loss=0.0009]\n",
      "Epoch 28/100 [Validation]: 100%|██████████| 1250/1250 [00:01<00:00, 657.51it/s]\n"
     ]
    },
    {
     "name": "stdout",
     "output_type": "stream",
     "text": [
      "Epoch [28/100], Train Loss: 0.0148, Train Accuracy: 100.00%, Validation Accuracy: 45.36%\n"
     ]
    },
    {
     "name": "stderr",
     "output_type": "stream",
     "text": [
      "Epoch 29/100 [Training]: 100%|██████████| 13/13 [00:00<00:00, 143.67it/s, loss=0.0030]\n",
      "Epoch 29/100 [Validation]: 100%|██████████| 1250/1250 [00:02<00:00, 610.00it/s]\n"
     ]
    },
    {
     "name": "stdout",
     "output_type": "stream",
     "text": [
      "Epoch [29/100], Train Loss: 0.0153, Train Accuracy: 100.00%, Validation Accuracy: 47.31%\n"
     ]
    },
    {
     "name": "stderr",
     "output_type": "stream",
     "text": [
      "Epoch 30/100 [Training]: 100%|██████████| 13/13 [00:00<00:00, 158.35it/s, loss=0.0010]\n",
      "Epoch 30/100 [Validation]: 100%|██████████| 1250/1250 [00:02<00:00, 616.46it/s]\n"
     ]
    },
    {
     "name": "stdout",
     "output_type": "stream",
     "text": [
      "Epoch [30/100], Train Loss: 0.0141, Train Accuracy: 100.00%, Validation Accuracy: 53.74%\n"
     ]
    },
    {
     "name": "stderr",
     "output_type": "stream",
     "text": [
      "Epoch 31/100 [Training]: 100%|██████████| 13/13 [00:00<00:00, 159.42it/s, loss=0.0015]\n",
      "Epoch 31/100 [Validation]: 100%|██████████| 1250/1250 [00:02<00:00, 566.44it/s]\n"
     ]
    },
    {
     "name": "stdout",
     "output_type": "stream",
     "text": [
      "Epoch [31/100], Train Loss: 0.0126, Train Accuracy: 100.00%, Validation Accuracy: 59.92%\n"
     ]
    },
    {
     "name": "stderr",
     "output_type": "stream",
     "text": [
      "Epoch 32/100 [Training]: 100%|██████████| 13/13 [00:00<00:00, 156.83it/s, loss=0.0023]\n",
      "Epoch 32/100 [Validation]: 100%|██████████| 1250/1250 [00:01<00:00, 647.36it/s]\n"
     ]
    },
    {
     "name": "stdout",
     "output_type": "stream",
     "text": [
      "Epoch [32/100], Train Loss: 0.0141, Train Accuracy: 100.00%, Validation Accuracy: 63.99%\n"
     ]
    },
    {
     "name": "stderr",
     "output_type": "stream",
     "text": [
      "Epoch 33/100 [Training]: 100%|██████████| 13/13 [00:00<00:00, 146.12it/s, loss=0.0025]\n",
      "Epoch 33/100 [Validation]: 100%|██████████| 1250/1250 [00:01<00:00, 729.45it/s]\n"
     ]
    },
    {
     "name": "stdout",
     "output_type": "stream",
     "text": [
      "Epoch [33/100], Train Loss: 0.0141, Train Accuracy: 100.00%, Validation Accuracy: 66.84%\n"
     ]
    },
    {
     "name": "stderr",
     "output_type": "stream",
     "text": [
      "Epoch 34/100 [Training]: 100%|██████████| 13/13 [00:00<00:00, 106.68it/s, loss=0.0038]\n",
      "Epoch 34/100 [Validation]: 100%|██████████| 1250/1250 [00:01<00:00, 722.87it/s]\n"
     ]
    },
    {
     "name": "stdout",
     "output_type": "stream",
     "text": [
      "Epoch [34/100], Train Loss: 0.0154, Train Accuracy: 100.00%, Validation Accuracy: 70.03%\n"
     ]
    },
    {
     "name": "stderr",
     "output_type": "stream",
     "text": [
      "Epoch 35/100 [Training]: 100%|██████████| 13/13 [00:00<00:00, 171.38it/s, loss=0.0025]\n",
      "Epoch 35/100 [Validation]: 100%|██████████| 1250/1250 [00:01<00:00, 737.32it/s]\n"
     ]
    },
    {
     "name": "stdout",
     "output_type": "stream",
     "text": [
      "Epoch [35/100], Train Loss: 0.0122, Train Accuracy: 100.00%, Validation Accuracy: 73.36%\n"
     ]
    },
    {
     "name": "stderr",
     "output_type": "stream",
     "text": [
      "Epoch 36/100 [Training]: 100%|██████████| 13/13 [00:00<00:00, 109.70it/s, loss=0.0019]\n",
      "Epoch 36/100 [Validation]: 100%|██████████| 1250/1250 [00:01<00:00, 744.27it/s]\n"
     ]
    },
    {
     "name": "stdout",
     "output_type": "stream",
     "text": [
      "Epoch [36/100], Train Loss: 0.0111, Train Accuracy: 100.00%, Validation Accuracy: 76.28%\n"
     ]
    },
    {
     "name": "stderr",
     "output_type": "stream",
     "text": [
      "Epoch 37/100 [Training]: 100%|██████████| 13/13 [00:00<00:00, 153.35it/s, loss=0.0031]\n",
      "Epoch 37/100 [Validation]: 100%|██████████| 1250/1250 [00:01<00:00, 728.10it/s]\n"
     ]
    },
    {
     "name": "stdout",
     "output_type": "stream",
     "text": [
      "Epoch [37/100], Train Loss: 0.0141, Train Accuracy: 100.00%, Validation Accuracy: 78.68%\n"
     ]
    },
    {
     "name": "stderr",
     "output_type": "stream",
     "text": [
      "Epoch 38/100 [Training]: 100%|██████████| 13/13 [00:00<00:00, 164.78it/s, loss=0.0020]\n",
      "Epoch 38/100 [Validation]: 100%|██████████| 1250/1250 [00:01<00:00, 676.44it/s]\n"
     ]
    },
    {
     "name": "stdout",
     "output_type": "stream",
     "text": [
      "Epoch [38/100], Train Loss: 0.0148, Train Accuracy: 100.00%, Validation Accuracy: 80.36%\n"
     ]
    },
    {
     "name": "stderr",
     "output_type": "stream",
     "text": [
      "Epoch 39/100 [Training]: 100%|██████████| 13/13 [00:00<00:00, 172.14it/s, loss=0.0007]\n",
      "Epoch 39/100 [Validation]: 100%|██████████| 1250/1250 [00:01<00:00, 718.29it/s]\n"
     ]
    },
    {
     "name": "stdout",
     "output_type": "stream",
     "text": [
      "Epoch [39/100], Train Loss: 0.0110, Train Accuracy: 100.00%, Validation Accuracy: 81.67%\n"
     ]
    },
    {
     "name": "stderr",
     "output_type": "stream",
     "text": [
      "Epoch 40/100 [Training]: 100%|██████████| 13/13 [00:00<00:00, 156.61it/s, loss=0.0012]\n",
      "Epoch 40/100 [Validation]: 100%|██████████| 1250/1250 [00:01<00:00, 733.31it/s]\n"
     ]
    },
    {
     "name": "stdout",
     "output_type": "stream",
     "text": [
      "Epoch [40/100], Train Loss: 0.0097, Train Accuracy: 100.00%, Validation Accuracy: 81.83%\n"
     ]
    },
    {
     "name": "stderr",
     "output_type": "stream",
     "text": [
      "Epoch 41/100 [Training]: 100%|██████████| 13/13 [00:00<00:00, 173.43it/s, loss=0.0010]\n",
      "Epoch 41/100 [Validation]: 100%|██████████| 1250/1250 [00:01<00:00, 727.08it/s]\n"
     ]
    },
    {
     "name": "stdout",
     "output_type": "stream",
     "text": [
      "Epoch [41/100], Train Loss: 0.0092, Train Accuracy: 100.00%, Validation Accuracy: 83.97%\n"
     ]
    },
    {
     "name": "stderr",
     "output_type": "stream",
     "text": [
      "Epoch 42/100 [Training]: 100%|██████████| 13/13 [00:00<00:00, 171.85it/s, loss=0.0016]\n",
      "Epoch 42/100 [Validation]: 100%|██████████| 1250/1250 [00:01<00:00, 709.83it/s]\n"
     ]
    },
    {
     "name": "stdout",
     "output_type": "stream",
     "text": [
      "Epoch [42/100], Train Loss: 0.0117, Train Accuracy: 100.00%, Validation Accuracy: 84.46%\n"
     ]
    },
    {
     "name": "stderr",
     "output_type": "stream",
     "text": [
      "Epoch 43/100 [Training]: 100%|██████████| 13/13 [00:00<00:00, 170.31it/s, loss=0.0019]\n",
      "Epoch 43/100 [Validation]: 100%|██████████| 1250/1250 [00:01<00:00, 735.33it/s]\n"
     ]
    },
    {
     "name": "stdout",
     "output_type": "stream",
     "text": [
      "Epoch [43/100], Train Loss: 0.0106, Train Accuracy: 100.00%, Validation Accuracy: 85.11%\n"
     ]
    },
    {
     "name": "stderr",
     "output_type": "stream",
     "text": [
      "Epoch 44/100 [Training]: 100%|██████████| 13/13 [00:00<00:00, 168.05it/s, loss=0.0012]\n",
      "Epoch 44/100 [Validation]: 100%|██████████| 1250/1250 [00:01<00:00, 723.67it/s]\n"
     ]
    },
    {
     "name": "stdout",
     "output_type": "stream",
     "text": [
      "Epoch [44/100], Train Loss: 0.0102, Train Accuracy: 100.00%, Validation Accuracy: 85.74%\n"
     ]
    },
    {
     "name": "stderr",
     "output_type": "stream",
     "text": [
      "Epoch 45/100 [Training]: 100%|██████████| 13/13 [00:00<00:00, 170.78it/s, loss=0.0019]\n",
      "Epoch 45/100 [Validation]: 100%|██████████| 1250/1250 [00:01<00:00, 721.20it/s]\n"
     ]
    },
    {
     "name": "stdout",
     "output_type": "stream",
     "text": [
      "Epoch [45/100], Train Loss: 0.0098, Train Accuracy: 100.00%, Validation Accuracy: 86.49%\n"
     ]
    },
    {
     "name": "stderr",
     "output_type": "stream",
     "text": [
      "Epoch 46/100 [Training]: 100%|██████████| 13/13 [00:00<00:00, 168.22it/s, loss=0.0013]\n",
      "Epoch 46/100 [Validation]: 100%|██████████| 1250/1250 [00:01<00:00, 720.28it/s]\n"
     ]
    },
    {
     "name": "stdout",
     "output_type": "stream",
     "text": [
      "Epoch [46/100], Train Loss: 0.0106, Train Accuracy: 100.00%, Validation Accuracy: 86.57%\n"
     ]
    },
    {
     "name": "stderr",
     "output_type": "stream",
     "text": [
      "Epoch 47/100 [Training]: 100%|██████████| 13/13 [00:00<00:00, 172.06it/s, loss=0.0009]\n",
      "Epoch 47/100 [Validation]: 100%|██████████| 1250/1250 [00:01<00:00, 711.79it/s]\n"
     ]
    },
    {
     "name": "stdout",
     "output_type": "stream",
     "text": [
      "Epoch [47/100], Train Loss: 0.0092, Train Accuracy: 100.00%, Validation Accuracy: 86.59%\n"
     ]
    },
    {
     "name": "stderr",
     "output_type": "stream",
     "text": [
      "Epoch 48/100 [Training]: 100%|██████████| 13/13 [00:00<00:00, 175.62it/s, loss=0.0011]\n",
      "Epoch 48/100 [Validation]: 100%|██████████| 1250/1250 [00:01<00:00, 710.56it/s]\n"
     ]
    },
    {
     "name": "stdout",
     "output_type": "stream",
     "text": [
      "Epoch [48/100], Train Loss: 0.0118, Train Accuracy: 100.00%, Validation Accuracy: 86.63%\n"
     ]
    },
    {
     "name": "stderr",
     "output_type": "stream",
     "text": [
      "Epoch 49/100 [Training]: 100%|██████████| 13/13 [00:00<00:00, 170.63it/s, loss=0.0008]\n",
      "Epoch 49/100 [Validation]: 100%|██████████| 1250/1250 [00:01<00:00, 719.83it/s]\n"
     ]
    },
    {
     "name": "stdout",
     "output_type": "stream",
     "text": [
      "Epoch [49/100], Train Loss: 0.0094, Train Accuracy: 100.00%, Validation Accuracy: 87.20%\n"
     ]
    },
    {
     "name": "stderr",
     "output_type": "stream",
     "text": [
      "Epoch 50/100 [Training]: 100%|██████████| 13/13 [00:00<00:00, 174.19it/s, loss=0.0010]\n",
      "Epoch 50/100 [Validation]: 100%|██████████| 1250/1250 [00:01<00:00, 706.59it/s]\n"
     ]
    },
    {
     "name": "stdout",
     "output_type": "stream",
     "text": [
      "Epoch [50/100], Train Loss: 0.0090, Train Accuracy: 100.00%, Validation Accuracy: 86.72%\n"
     ]
    },
    {
     "name": "stderr",
     "output_type": "stream",
     "text": [
      "Epoch 51/100 [Training]: 100%|██████████| 13/13 [00:00<00:00, 172.84it/s, loss=0.0010]\n",
      "Epoch 51/100 [Validation]: 100%|██████████| 1250/1250 [00:01<00:00, 725.37it/s]\n"
     ]
    },
    {
     "name": "stdout",
     "output_type": "stream",
     "text": [
      "Epoch [51/100], Train Loss: 0.0084, Train Accuracy: 100.00%, Validation Accuracy: 87.28%\n"
     ]
    },
    {
     "name": "stderr",
     "output_type": "stream",
     "text": [
      "Epoch 52/100 [Training]: 100%|██████████| 13/13 [00:00<00:00, 170.58it/s, loss=0.0010]\n",
      "Epoch 52/100 [Validation]: 100%|██████████| 1250/1250 [00:01<00:00, 735.42it/s]\n"
     ]
    },
    {
     "name": "stdout",
     "output_type": "stream",
     "text": [
      "Epoch [52/100], Train Loss: 0.0093, Train Accuracy: 100.00%, Validation Accuracy: 87.42%\n"
     ]
    },
    {
     "name": "stderr",
     "output_type": "stream",
     "text": [
      "Epoch 53/100 [Training]: 100%|██████████| 13/13 [00:00<00:00, 137.56it/s, loss=0.0058]\n",
      "Epoch 53/100 [Validation]: 100%|██████████| 1250/1250 [00:01<00:00, 726.23it/s]\n"
     ]
    },
    {
     "name": "stdout",
     "output_type": "stream",
     "text": [
      "Epoch [53/100], Train Loss: 0.0125, Train Accuracy: 100.00%, Validation Accuracy: 87.28%\n"
     ]
    },
    {
     "name": "stderr",
     "output_type": "stream",
     "text": [
      "Epoch 54/100 [Training]: 100%|██████████| 13/13 [00:00<00:00, 176.98it/s, loss=0.0014]\n",
      "Epoch 54/100 [Validation]: 100%|██████████| 1250/1250 [00:01<00:00, 725.63it/s]\n"
     ]
    },
    {
     "name": "stdout",
     "output_type": "stream",
     "text": [
      "Epoch [54/100], Train Loss: 0.0107, Train Accuracy: 100.00%, Validation Accuracy: 87.41%\n"
     ]
    },
    {
     "name": "stderr",
     "output_type": "stream",
     "text": [
      "Epoch 55/100 [Training]: 100%|██████████| 13/13 [00:00<00:00, 173.30it/s, loss=0.0010]\n",
      "Epoch 55/100 [Validation]: 100%|██████████| 1250/1250 [00:01<00:00, 690.06it/s]\n"
     ]
    },
    {
     "name": "stdout",
     "output_type": "stream",
     "text": [
      "Epoch [55/100], Train Loss: 0.0106, Train Accuracy: 100.00%, Validation Accuracy: 87.21%\n"
     ]
    },
    {
     "name": "stderr",
     "output_type": "stream",
     "text": [
      "Epoch 56/100 [Training]: 100%|██████████| 13/13 [00:00<00:00, 172.86it/s, loss=0.0105]\n",
      "Epoch 56/100 [Validation]: 100%|██████████| 1250/1250 [00:01<00:00, 755.60it/s]\n"
     ]
    },
    {
     "name": "stdout",
     "output_type": "stream",
     "text": [
      "Epoch [56/100], Train Loss: 0.0198, Train Accuracy: 100.00%, Validation Accuracy: 87.23%\n"
     ]
    },
    {
     "name": "stderr",
     "output_type": "stream",
     "text": [
      "Epoch 57/100 [Training]: 100%|██████████| 13/13 [00:00<00:00, 159.14it/s, loss=0.0015]\n",
      "Epoch 57/100 [Validation]: 100%|██████████| 1250/1250 [00:01<00:00, 734.58it/s]\n"
     ]
    },
    {
     "name": "stdout",
     "output_type": "stream",
     "text": [
      "Epoch [57/100], Train Loss: 0.0217, Train Accuracy: 100.00%, Validation Accuracy: 86.18%\n"
     ]
    },
    {
     "name": "stderr",
     "output_type": "stream",
     "text": [
      "Epoch 58/100 [Training]: 100%|██████████| 13/13 [00:00<00:00, 176.94it/s, loss=0.0030]\n",
      "Epoch 58/100 [Validation]: 100%|██████████| 1250/1250 [00:01<00:00, 723.66it/s]\n"
     ]
    },
    {
     "name": "stdout",
     "output_type": "stream",
     "text": [
      "Epoch [58/100], Train Loss: 0.0161, Train Accuracy: 100.00%, Validation Accuracy: 86.05%\n"
     ]
    },
    {
     "name": "stderr",
     "output_type": "stream",
     "text": [
      "Epoch 59/100 [Training]: 100%|██████████| 13/13 [00:00<00:00, 174.59it/s, loss=0.0006]\n",
      "Epoch 59/100 [Validation]: 100%|██████████| 1250/1250 [00:01<00:00, 731.13it/s]\n"
     ]
    },
    {
     "name": "stdout",
     "output_type": "stream",
     "text": [
      "Epoch [59/100], Train Loss: 0.0111, Train Accuracy: 100.00%, Validation Accuracy: 86.91%\n"
     ]
    },
    {
     "name": "stderr",
     "output_type": "stream",
     "text": [
      "Epoch 60/100 [Training]: 100%|██████████| 13/13 [00:00<00:00, 160.80it/s, loss=0.0017]\n",
      "Epoch 60/100 [Validation]: 100%|██████████| 1250/1250 [00:01<00:00, 740.86it/s]\n"
     ]
    },
    {
     "name": "stdout",
     "output_type": "stream",
     "text": [
      "Epoch [60/100], Train Loss: 0.0119, Train Accuracy: 100.00%, Validation Accuracy: 87.42%\n"
     ]
    },
    {
     "name": "stderr",
     "output_type": "stream",
     "text": [
      "Epoch 61/100 [Training]: 100%|██████████| 13/13 [00:00<00:00, 168.14it/s, loss=0.0041]\n",
      "Epoch 61/100 [Validation]: 100%|██████████| 1250/1250 [00:01<00:00, 706.72it/s]\n"
     ]
    },
    {
     "name": "stdout",
     "output_type": "stream",
     "text": [
      "Epoch [61/100], Train Loss: 0.0137, Train Accuracy: 100.00%, Validation Accuracy: 87.90%\n"
     ]
    },
    {
     "name": "stderr",
     "output_type": "stream",
     "text": [
      "Epoch 62/100 [Training]: 100%|██████████| 13/13 [00:00<00:00, 170.58it/s, loss=0.0009]\n",
      "Epoch 62/100 [Validation]: 100%|██████████| 1250/1250 [00:01<00:00, 725.90it/s]\n"
     ]
    },
    {
     "name": "stdout",
     "output_type": "stream",
     "text": [
      "Epoch [62/100], Train Loss: 0.0087, Train Accuracy: 100.00%, Validation Accuracy: 87.80%\n"
     ]
    },
    {
     "name": "stderr",
     "output_type": "stream",
     "text": [
      "Epoch 63/100 [Training]: 100%|██████████| 13/13 [00:00<00:00, 171.11it/s, loss=0.0007]\n",
      "Epoch 63/100 [Validation]: 100%|██████████| 1250/1250 [00:01<00:00, 711.65it/s]\n"
     ]
    },
    {
     "name": "stdout",
     "output_type": "stream",
     "text": [
      "Epoch [63/100], Train Loss: 0.0101, Train Accuracy: 100.00%, Validation Accuracy: 87.23%\n"
     ]
    },
    {
     "name": "stderr",
     "output_type": "stream",
     "text": [
      "Epoch 64/100 [Training]: 100%|██████████| 13/13 [00:00<00:00, 171.22it/s, loss=0.0024]\n",
      "Epoch 64/100 [Validation]: 100%|██████████| 1250/1250 [00:01<00:00, 727.27it/s]\n"
     ]
    },
    {
     "name": "stdout",
     "output_type": "stream",
     "text": [
      "Epoch [64/100], Train Loss: 0.0114, Train Accuracy: 100.00%, Validation Accuracy: 87.90%\n"
     ]
    },
    {
     "name": "stderr",
     "output_type": "stream",
     "text": [
      "Epoch 65/100 [Training]: 100%|██████████| 13/13 [00:00<00:00, 168.19it/s, loss=0.0018]\n",
      "Epoch 65/100 [Validation]: 100%|██████████| 1250/1250 [00:01<00:00, 722.52it/s]\n"
     ]
    },
    {
     "name": "stdout",
     "output_type": "stream",
     "text": [
      "Epoch [65/100], Train Loss: 0.0097, Train Accuracy: 100.00%, Validation Accuracy: 87.99%\n"
     ]
    },
    {
     "name": "stderr",
     "output_type": "stream",
     "text": [
      "Epoch 66/100 [Training]: 100%|██████████| 13/13 [00:00<00:00, 133.37it/s, loss=0.0008]\n",
      "Epoch 66/100 [Validation]: 100%|██████████| 1250/1250 [00:01<00:00, 712.75it/s]\n"
     ]
    },
    {
     "name": "stdout",
     "output_type": "stream",
     "text": [
      "Epoch [66/100], Train Loss: 0.0096, Train Accuracy: 100.00%, Validation Accuracy: 87.59%\n"
     ]
    },
    {
     "name": "stderr",
     "output_type": "stream",
     "text": [
      "Epoch 67/100 [Training]: 100%|██████████| 13/13 [00:00<00:00, 163.80it/s, loss=0.0020]\n",
      "Epoch 67/100 [Validation]: 100%|██████████| 1250/1250 [00:01<00:00, 735.12it/s]\n"
     ]
    },
    {
     "name": "stdout",
     "output_type": "stream",
     "text": [
      "Epoch [67/100], Train Loss: 0.0104, Train Accuracy: 100.00%, Validation Accuracy: 87.94%\n"
     ]
    },
    {
     "name": "stderr",
     "output_type": "stream",
     "text": [
      "Epoch 68/100 [Training]: 100%|██████████| 13/13 [00:00<00:00, 153.04it/s, loss=0.0060]\n",
      "Epoch 68/100 [Validation]: 100%|██████████| 1250/1250 [00:01<00:00, 698.62it/s]\n"
     ]
    },
    {
     "name": "stdout",
     "output_type": "stream",
     "text": [
      "Epoch [68/100], Train Loss: 0.0140, Train Accuracy: 100.00%, Validation Accuracy: 87.78%\n"
     ]
    },
    {
     "name": "stderr",
     "output_type": "stream",
     "text": [
      "Epoch 69/100 [Training]: 100%|██████████| 13/13 [00:00<00:00, 162.04it/s, loss=0.0035]\n",
      "Epoch 69/100 [Validation]: 100%|██████████| 1250/1250 [00:01<00:00, 725.24it/s]\n"
     ]
    },
    {
     "name": "stdout",
     "output_type": "stream",
     "text": [
      "Epoch [69/100], Train Loss: 0.0131, Train Accuracy: 100.00%, Validation Accuracy: 87.84%\n"
     ]
    },
    {
     "name": "stderr",
     "output_type": "stream",
     "text": [
      "Epoch 70/100 [Training]: 100%|██████████| 13/13 [00:00<00:00, 172.89it/s, loss=0.0027]\n",
      "Epoch 70/100 [Validation]: 100%|██████████| 1250/1250 [00:01<00:00, 715.95it/s]\n"
     ]
    },
    {
     "name": "stdout",
     "output_type": "stream",
     "text": [
      "Epoch [70/100], Train Loss: 0.0124, Train Accuracy: 100.00%, Validation Accuracy: 87.61%\n"
     ]
    },
    {
     "name": "stderr",
     "output_type": "stream",
     "text": [
      "Epoch 71/100 [Training]: 100%|██████████| 13/13 [00:00<00:00, 169.76it/s, loss=0.0012]\n",
      "Epoch 71/100 [Validation]: 100%|██████████| 1250/1250 [00:01<00:00, 677.08it/s]\n"
     ]
    },
    {
     "name": "stdout",
     "output_type": "stream",
     "text": [
      "Epoch [71/100], Train Loss: 0.0107, Train Accuracy: 100.00%, Validation Accuracy: 87.58%\n"
     ]
    },
    {
     "name": "stderr",
     "output_type": "stream",
     "text": [
      "Epoch 72/100 [Training]: 100%|██████████| 13/13 [00:00<00:00, 172.58it/s, loss=0.0007]\n",
      "Epoch 72/100 [Validation]: 100%|██████████| 1250/1250 [00:01<00:00, 706.62it/s]\n"
     ]
    },
    {
     "name": "stdout",
     "output_type": "stream",
     "text": [
      "Epoch [72/100], Train Loss: 0.0097, Train Accuracy: 100.00%, Validation Accuracy: 88.03%\n"
     ]
    },
    {
     "name": "stderr",
     "output_type": "stream",
     "text": [
      "Epoch 73/100 [Training]: 100%|██████████| 13/13 [00:00<00:00, 173.09it/s, loss=0.0015]\n",
      "Epoch 73/100 [Validation]: 100%|██████████| 1250/1250 [00:01<00:00, 706.06it/s]\n"
     ]
    },
    {
     "name": "stdout",
     "output_type": "stream",
     "text": [
      "Epoch [73/100], Train Loss: 0.0095, Train Accuracy: 100.00%, Validation Accuracy: 88.01%\n"
     ]
    },
    {
     "name": "stderr",
     "output_type": "stream",
     "text": [
      "Epoch 74/100 [Training]: 100%|██████████| 13/13 [00:00<00:00, 169.04it/s, loss=0.0015]\n",
      "Epoch 74/100 [Validation]: 100%|██████████| 1250/1250 [00:01<00:00, 719.47it/s]\n"
     ]
    },
    {
     "name": "stdout",
     "output_type": "stream",
     "text": [
      "Epoch [74/100], Train Loss: 0.0099, Train Accuracy: 100.00%, Validation Accuracy: 87.91%\n"
     ]
    },
    {
     "name": "stderr",
     "output_type": "stream",
     "text": [
      "Epoch 75/100 [Training]: 100%|██████████| 13/13 [00:00<00:00, 143.39it/s, loss=0.0006]\n",
      "Epoch 75/100 [Validation]: 100%|██████████| 1250/1250 [00:01<00:00, 723.44it/s]\n"
     ]
    },
    {
     "name": "stdout",
     "output_type": "stream",
     "text": [
      "Epoch [75/100], Train Loss: 0.0068, Train Accuracy: 100.00%, Validation Accuracy: 87.86%\n"
     ]
    },
    {
     "name": "stderr",
     "output_type": "stream",
     "text": [
      "Epoch 76/100 [Training]: 100%|██████████| 13/13 [00:00<00:00, 172.02it/s, loss=0.0026]\n",
      "Epoch 76/100 [Validation]: 100%|██████████| 1250/1250 [00:01<00:00, 711.49it/s]\n"
     ]
    },
    {
     "name": "stdout",
     "output_type": "stream",
     "text": [
      "Epoch [76/100], Train Loss: 0.0103, Train Accuracy: 100.00%, Validation Accuracy: 87.46%\n"
     ]
    },
    {
     "name": "stderr",
     "output_type": "stream",
     "text": [
      "Epoch 77/100 [Training]: 100%|██████████| 13/13 [00:00<00:00, 165.26it/s, loss=0.0023]\n",
      "Epoch 77/100 [Validation]: 100%|██████████| 1250/1250 [00:01<00:00, 697.03it/s]\n"
     ]
    },
    {
     "name": "stdout",
     "output_type": "stream",
     "text": [
      "Epoch [77/100], Train Loss: 0.0109, Train Accuracy: 100.00%, Validation Accuracy: 87.88%\n"
     ]
    },
    {
     "name": "stderr",
     "output_type": "stream",
     "text": [
      "Epoch 78/100 [Training]: 100%|██████████| 13/13 [00:00<00:00, 175.85it/s, loss=0.0007]\n",
      "Epoch 78/100 [Validation]: 100%|██████████| 1250/1250 [00:01<00:00, 730.47it/s]\n"
     ]
    },
    {
     "name": "stdout",
     "output_type": "stream",
     "text": [
      "Epoch [78/100], Train Loss: 0.0098, Train Accuracy: 100.00%, Validation Accuracy: 87.81%\n"
     ]
    },
    {
     "name": "stderr",
     "output_type": "stream",
     "text": [
      "Epoch 79/100 [Training]: 100%|██████████| 13/13 [00:00<00:00, 170.77it/s, loss=0.0008]\n",
      "Epoch 79/100 [Validation]: 100%|██████████| 1250/1250 [00:01<00:00, 732.43it/s]\n"
     ]
    },
    {
     "name": "stdout",
     "output_type": "stream",
     "text": [
      "Epoch [79/100], Train Loss: 0.0090, Train Accuracy: 100.00%, Validation Accuracy: 88.12%\n"
     ]
    },
    {
     "name": "stderr",
     "output_type": "stream",
     "text": [
      "Epoch 80/100 [Training]: 100%|██████████| 13/13 [00:00<00:00, 132.20it/s, loss=0.0005]\n",
      "Epoch 80/100 [Validation]: 100%|██████████| 1250/1250 [00:01<00:00, 701.00it/s]\n"
     ]
    },
    {
     "name": "stdout",
     "output_type": "stream",
     "text": [
      "Epoch [80/100], Train Loss: 0.0071, Train Accuracy: 100.00%, Validation Accuracy: 87.90%\n"
     ]
    },
    {
     "name": "stderr",
     "output_type": "stream",
     "text": [
      "Epoch 81/100 [Training]: 100%|██████████| 13/13 [00:00<00:00, 159.11it/s, loss=0.0024]\n",
      "Epoch 81/100 [Validation]: 100%|██████████| 1250/1250 [00:01<00:00, 687.81it/s]\n"
     ]
    },
    {
     "name": "stdout",
     "output_type": "stream",
     "text": [
      "Epoch [81/100], Train Loss: 0.0092, Train Accuracy: 100.00%, Validation Accuracy: 87.81%\n"
     ]
    },
    {
     "name": "stderr",
     "output_type": "stream",
     "text": [
      "Epoch 82/100 [Training]: 100%|██████████| 13/13 [00:00<00:00, 104.22it/s, loss=0.0017]\n",
      "Epoch 82/100 [Validation]: 100%|██████████| 1250/1250 [00:02<00:00, 623.35it/s]\n"
     ]
    },
    {
     "name": "stdout",
     "output_type": "stream",
     "text": [
      "Epoch [82/100], Train Loss: 0.0097, Train Accuracy: 100.00%, Validation Accuracy: 87.73%\n"
     ]
    },
    {
     "name": "stderr",
     "output_type": "stream",
     "text": [
      "Epoch 83/100 [Training]: 100%|██████████| 13/13 [00:00<00:00, 173.42it/s, loss=0.0018]\n",
      "Epoch 83/100 [Validation]: 100%|██████████| 1250/1250 [00:01<00:00, 647.25it/s]\n"
     ]
    },
    {
     "name": "stdout",
     "output_type": "stream",
     "text": [
      "Epoch [83/100], Train Loss: 0.0120, Train Accuracy: 100.00%, Validation Accuracy: 88.13%\n"
     ]
    },
    {
     "name": "stderr",
     "output_type": "stream",
     "text": [
      "Epoch 84/100 [Training]: 100%|██████████| 13/13 [00:00<00:00, 111.10it/s, loss=0.0009]\n",
      "Epoch 84/100 [Validation]: 100%|██████████| 1250/1250 [00:01<00:00, 661.67it/s]\n"
     ]
    },
    {
     "name": "stdout",
     "output_type": "stream",
     "text": [
      "Epoch [84/100], Train Loss: 0.0097, Train Accuracy: 100.00%, Validation Accuracy: 87.94%\n"
     ]
    },
    {
     "name": "stderr",
     "output_type": "stream",
     "text": [
      "Epoch 85/100 [Training]: 100%|██████████| 13/13 [00:00<00:00, 119.80it/s, loss=0.0112]\n",
      "Epoch 85/100 [Validation]: 100%|██████████| 1250/1250 [00:01<00:00, 653.17it/s]\n"
     ]
    },
    {
     "name": "stdout",
     "output_type": "stream",
     "text": [
      "Epoch [85/100], Train Loss: 0.0175, Train Accuracy: 100.00%, Validation Accuracy: 86.46%\n"
     ]
    },
    {
     "name": "stderr",
     "output_type": "stream",
     "text": [
      "Epoch 86/100 [Training]: 100%|██████████| 13/13 [00:00<00:00, 97.20it/s, loss=0.0074]\n",
      "Epoch 86/100 [Validation]: 100%|██████████| 1250/1250 [00:01<00:00, 639.76it/s]\n"
     ]
    },
    {
     "name": "stdout",
     "output_type": "stream",
     "text": [
      "Epoch [86/100], Train Loss: 0.0374, Train Accuracy: 100.00%, Validation Accuracy: 88.34%\n"
     ]
    },
    {
     "name": "stderr",
     "output_type": "stream",
     "text": [
      "Epoch 87/100 [Training]: 100%|██████████| 13/13 [00:00<00:00, 154.65it/s, loss=0.0065]\n",
      "Epoch 87/100 [Validation]: 100%|██████████| 1250/1250 [00:02<00:00, 587.32it/s]\n"
     ]
    },
    {
     "name": "stdout",
     "output_type": "stream",
     "text": [
      "Epoch [87/100], Train Loss: 0.0385, Train Accuracy: 100.00%, Validation Accuracy: 86.52%\n"
     ]
    },
    {
     "name": "stderr",
     "output_type": "stream",
     "text": [
      "Epoch 88/100 [Training]: 100%|██████████| 13/13 [00:00<00:00, 129.09it/s, loss=0.0014]\n",
      "Epoch 88/100 [Validation]: 100%|██████████| 1250/1250 [00:01<00:00, 684.72it/s]\n"
     ]
    },
    {
     "name": "stdout",
     "output_type": "stream",
     "text": [
      "Epoch [88/100], Train Loss: 0.0214, Train Accuracy: 100.00%, Validation Accuracy: 88.21%\n"
     ]
    },
    {
     "name": "stderr",
     "output_type": "stream",
     "text": [
      "Epoch 89/100 [Training]: 100%|██████████| 13/13 [00:00<00:00, 162.15it/s, loss=0.0028]\n",
      "Epoch 89/100 [Validation]: 100%|██████████| 1250/1250 [00:01<00:00, 649.29it/s]\n"
     ]
    },
    {
     "name": "stdout",
     "output_type": "stream",
     "text": [
      "Epoch [89/100], Train Loss: 0.0164, Train Accuracy: 100.00%, Validation Accuracy: 86.95%\n"
     ]
    },
    {
     "name": "stderr",
     "output_type": "stream",
     "text": [
      "Epoch 90/100 [Training]: 100%|██████████| 13/13 [00:00<00:00, 165.24it/s, loss=0.0027]\n",
      "Epoch 90/100 [Validation]: 100%|██████████| 1250/1250 [00:01<00:00, 670.00it/s]\n"
     ]
    },
    {
     "name": "stdout",
     "output_type": "stream",
     "text": [
      "Epoch [90/100], Train Loss: 0.0117, Train Accuracy: 100.00%, Validation Accuracy: 87.62%\n"
     ]
    },
    {
     "name": "stderr",
     "output_type": "stream",
     "text": [
      "Epoch 91/100 [Training]: 100%|██████████| 13/13 [00:00<00:00, 166.52it/s, loss=0.0017]\n",
      "Epoch 91/100 [Validation]: 100%|██████████| 1250/1250 [00:01<00:00, 645.87it/s]\n"
     ]
    },
    {
     "name": "stdout",
     "output_type": "stream",
     "text": [
      "Epoch [91/100], Train Loss: 0.0120, Train Accuracy: 100.00%, Validation Accuracy: 88.18%\n"
     ]
    },
    {
     "name": "stderr",
     "output_type": "stream",
     "text": [
      "Epoch 92/100 [Training]: 100%|██████████| 13/13 [00:00<00:00, 160.02it/s, loss=0.0009]\n",
      "Epoch 92/100 [Validation]: 100%|██████████| 1250/1250 [00:01<00:00, 661.94it/s]\n"
     ]
    },
    {
     "name": "stdout",
     "output_type": "stream",
     "text": [
      "Epoch [92/100], Train Loss: 0.0095, Train Accuracy: 100.00%, Validation Accuracy: 87.56%\n"
     ]
    },
    {
     "name": "stderr",
     "output_type": "stream",
     "text": [
      "Epoch 93/100 [Training]: 100%|██████████| 13/13 [00:00<00:00, 155.83it/s, loss=0.0018]\n",
      "Epoch 93/100 [Validation]: 100%|██████████| 1250/1250 [00:02<00:00, 609.69it/s]\n"
     ]
    },
    {
     "name": "stdout",
     "output_type": "stream",
     "text": [
      "Epoch [93/100], Train Loss: 0.0102, Train Accuracy: 100.00%, Validation Accuracy: 87.82%\n"
     ]
    },
    {
     "name": "stderr",
     "output_type": "stream",
     "text": [
      "Epoch 94/100 [Training]: 100%|██████████| 13/13 [00:00<00:00, 164.69it/s, loss=0.0022]\n",
      "Epoch 94/100 [Validation]: 100%|██████████| 1250/1250 [00:02<00:00, 593.78it/s]\n"
     ]
    },
    {
     "name": "stdout",
     "output_type": "stream",
     "text": [
      "Epoch [94/100], Train Loss: 0.0108, Train Accuracy: 100.00%, Validation Accuracy: 87.63%\n"
     ]
    },
    {
     "name": "stderr",
     "output_type": "stream",
     "text": [
      "Epoch 95/100 [Training]: 100%|██████████| 13/13 [00:00<00:00, 157.66it/s, loss=0.0007]\n",
      "Epoch 95/100 [Validation]: 100%|██████████| 1250/1250 [00:01<00:00, 655.48it/s]\n"
     ]
    },
    {
     "name": "stdout",
     "output_type": "stream",
     "text": [
      "Epoch [95/100], Train Loss: 0.0100, Train Accuracy: 100.00%, Validation Accuracy: 87.69%\n"
     ]
    },
    {
     "name": "stderr",
     "output_type": "stream",
     "text": [
      "Epoch 96/100 [Training]: 100%|██████████| 13/13 [00:00<00:00, 169.31it/s, loss=0.0007]\n",
      "Epoch 96/100 [Validation]: 100%|██████████| 1250/1250 [00:01<00:00, 678.22it/s]\n"
     ]
    },
    {
     "name": "stdout",
     "output_type": "stream",
     "text": [
      "Epoch [96/100], Train Loss: 0.0117, Train Accuracy: 100.00%, Validation Accuracy: 87.72%\n"
     ]
    },
    {
     "name": "stderr",
     "output_type": "stream",
     "text": [
      "Epoch 97/100 [Training]: 100%|██████████| 13/13 [00:00<00:00, 164.52it/s, loss=0.0006]\n",
      "Epoch 97/100 [Validation]: 100%|██████████| 1250/1250 [00:01<00:00, 699.38it/s]\n"
     ]
    },
    {
     "name": "stdout",
     "output_type": "stream",
     "text": [
      "Epoch [97/100], Train Loss: 0.0103, Train Accuracy: 100.00%, Validation Accuracy: 87.72%\n"
     ]
    },
    {
     "name": "stderr",
     "output_type": "stream",
     "text": [
      "Epoch 98/100 [Training]: 100%|██████████| 13/13 [00:00<00:00, 160.02it/s, loss=0.0017]\n",
      "Epoch 98/100 [Validation]: 100%|██████████| 1250/1250 [00:01<00:00, 683.35it/s]\n"
     ]
    },
    {
     "name": "stdout",
     "output_type": "stream",
     "text": [
      "Epoch [98/100], Train Loss: 0.0096, Train Accuracy: 100.00%, Validation Accuracy: 87.55%\n"
     ]
    },
    {
     "name": "stderr",
     "output_type": "stream",
     "text": [
      "Epoch 99/100 [Training]: 100%|██████████| 13/13 [00:00<00:00, 167.69it/s, loss=0.0020]\n",
      "Epoch 99/100 [Validation]: 100%|██████████| 1250/1250 [00:01<00:00, 710.34it/s]\n"
     ]
    },
    {
     "name": "stdout",
     "output_type": "stream",
     "text": [
      "Epoch [99/100], Train Loss: 0.0117, Train Accuracy: 100.00%, Validation Accuracy: 87.47%\n"
     ]
    },
    {
     "name": "stderr",
     "output_type": "stream",
     "text": [
      "Epoch 100/100 [Training]: 100%|██████████| 13/13 [00:00<00:00, 163.01it/s, loss=0.0008]\n",
      "Epoch 100/100 [Validation]: 100%|██████████| 1250/1250 [00:01<00:00, 696.03it/s]"
     ]
    },
    {
     "name": "stdout",
     "output_type": "stream",
     "text": [
      "Epoch [100/100], Train Loss: 0.0119, Train Accuracy: 100.00%, Validation Accuracy: 87.90%\n"
     ]
    },
    {
     "name": "stderr",
     "output_type": "stream",
     "text": [
      "\n"
     ]
    }
   ],
   "source": [
    "train_rotnet(MNIST_model,\n",
    "             supervised_train_loader,\n",
    "             supervised_val_loader,\n",
    "             criterion,optimizer,\n",
    "             learning_rate_scheduler,\n",
    "             num_epochs=100)"
   ]
  },
  {
   "cell_type": "code",
   "execution_count": 26,
   "metadata": {},
   "outputs": [
    {
     "name": "stderr",
     "output_type": "stream",
     "text": [
      "/tmp/ipykernel_236712/516678718.py:1: FutureWarning: You are using `torch.load` with `weights_only=False` (the current default value), which uses the default pickle module implicitly. It is possible to construct malicious pickle data which will execute arbitrary code during unpickling (See https://github.com/pytorch/pytorch/blob/main/SECURITY.md#untrusted-models for more details). In a future release, the default value for `weights_only` will be flipped to `True`. This limits the functions that could be executed during unpickling. Arbitrary objects will no longer be allowed to be loaded via this mode unless they are explicitly allowlisted by the user via `torch.serialization.add_safe_globals`. We recommend you start setting `weights_only=True` for any use case where you don't have full control of the loaded file. Please open an issue on GitHub for any issues related to this experimental feature.\n",
      "  rot_num_model_state=torch.load(f'./model.pth')\n"
     ]
    }
   ],
   "source": [
    "rot_num_model_state=torch.load(f'./model.pth')"
   ]
  },
  {
   "cell_type": "code",
   "execution_count": null,
   "metadata": {},
   "outputs": [
    {
     "name": "stdout",
     "output_type": "stream",
     "text": [
      "Test Accuracy: 88.34%\n"
     ]
    }
   ],
   "source": [
    "rot_num_model=ConvNet(num_classes=10)\n",
    "rot_num_model.load_state_dict(rot_num_model_state)\n",
    "rot_num_model=rot_num_model.cuda()\n",
    "evaluate_classifier(rot_num_model,test_loader)"
   ]
  }
 ],
 "metadata": {
  "accelerator": "GPU",
  "colab": {
   "gpuType": "T4",
   "provenance": []
  },
  "kernelspec": {
   "display_name": "Python 3",
   "name": "python3"
  },
  "language_info": {
   "codemirror_mode": {
    "name": "ipython",
    "version": 3
   },
   "file_extension": ".py",
   "mimetype": "text/x-python",
   "name": "python",
   "nbconvert_exporter": "python",
   "pygments_lexer": "ipython3",
   "version": "3.10.12"
  },
  "widgets": {
   "application/vnd.jupyter.widget-state+json": {
    "00825bc3a76e4d73a910d291220558b9": {
     "model_module": "@jupyter-widgets/base",
     "model_module_version": "1.2.0",
     "model_name": "LayoutModel",
     "state": {
      "_model_module": "@jupyter-widgets/base",
      "_model_module_version": "1.2.0",
      "_model_name": "LayoutModel",
      "_view_count": null,
      "_view_module": "@jupyter-widgets/base",
      "_view_module_version": "1.2.0",
      "_view_name": "LayoutView",
      "align_content": null,
      "align_items": null,
      "align_self": null,
      "border": null,
      "bottom": null,
      "display": null,
      "flex": null,
      "flex_flow": null,
      "grid_area": null,
      "grid_auto_columns": null,
      "grid_auto_flow": null,
      "grid_auto_rows": null,
      "grid_column": null,
      "grid_gap": null,
      "grid_row": null,
      "grid_template_areas": null,
      "grid_template_columns": null,
      "grid_template_rows": null,
      "height": null,
      "justify_content": null,
      "justify_items": null,
      "left": null,
      "margin": null,
      "max_height": null,
      "max_width": null,
      "min_height": null,
      "min_width": null,
      "object_fit": null,
      "object_position": null,
      "order": null,
      "overflow": null,
      "overflow_x": null,
      "overflow_y": null,
      "padding": null,
      "right": null,
      "top": null,
      "visibility": null,
      "width": null
     }
    },
    "02a3565cc1604e2ea2598acbdc597408": {
     "model_module": "@jupyter-widgets/base",
     "model_module_version": "1.2.0",
     "model_name": "LayoutModel",
     "state": {
      "_model_module": "@jupyter-widgets/base",
      "_model_module_version": "1.2.0",
      "_model_name": "LayoutModel",
      "_view_count": null,
      "_view_module": "@jupyter-widgets/base",
      "_view_module_version": "1.2.0",
      "_view_name": "LayoutView",
      "align_content": null,
      "align_items": null,
      "align_self": null,
      "border": null,
      "bottom": null,
      "display": null,
      "flex": null,
      "flex_flow": null,
      "grid_area": null,
      "grid_auto_columns": null,
      "grid_auto_flow": null,
      "grid_auto_rows": null,
      "grid_column": null,
      "grid_gap": null,
      "grid_row": null,
      "grid_template_areas": null,
      "grid_template_columns": null,
      "grid_template_rows": null,
      "height": null,
      "justify_content": null,
      "justify_items": null,
      "left": null,
      "margin": null,
      "max_height": null,
      "max_width": null,
      "min_height": null,
      "min_width": null,
      "object_fit": null,
      "object_position": null,
      "order": null,
      "overflow": null,
      "overflow_x": null,
      "overflow_y": null,
      "padding": null,
      "right": null,
      "top": null,
      "visibility": null,
      "width": null
     }
    },
    "037f7dee73f247649eba5148f266ebe9": {
     "model_module": "@jupyter-widgets/controls",
     "model_module_version": "1.5.0",
     "model_name": "DescriptionStyleModel",
     "state": {
      "_model_module": "@jupyter-widgets/controls",
      "_model_module_version": "1.5.0",
      "_model_name": "DescriptionStyleModel",
      "_view_count": null,
      "_view_module": "@jupyter-widgets/base",
      "_view_module_version": "1.2.0",
      "_view_name": "StyleView",
      "description_width": ""
     }
    },
    "07a90a2f640445ae8737e936dcc14925": {
     "model_module": "@jupyter-widgets/controls",
     "model_module_version": "1.5.0",
     "model_name": "FloatProgressModel",
     "state": {
      "_dom_classes": [],
      "_model_module": "@jupyter-widgets/controls",
      "_model_module_version": "1.5.0",
      "_model_name": "FloatProgressModel",
      "_view_count": null,
      "_view_module": "@jupyter-widgets/controls",
      "_view_module_version": "1.5.0",
      "_view_name": "ProgressView",
      "bar_style": "success",
      "description": "",
      "description_tooltip": null,
      "layout": "IPY_MODEL_37538bda99fd4b4b88bd8c89fff779f8",
      "max": 844,
      "min": 0,
      "orientation": "horizontal",
      "style": "IPY_MODEL_f7aa240829f149e68e3e45d64b9a3cc7",
      "value": 844
     }
    },
    "07cf3ec65a15431a8bbbe979a7274f2f": {
     "model_module": "@jupyter-widgets/controls",
     "model_module_version": "1.5.0",
     "model_name": "HTMLModel",
     "state": {
      "_dom_classes": [],
      "_model_module": "@jupyter-widgets/controls",
      "_model_module_version": "1.5.0",
      "_model_name": "HTMLModel",
      "_view_count": null,
      "_view_module": "@jupyter-widgets/controls",
      "_view_module_version": "1.5.0",
      "_view_name": "HTMLView",
      "description": "",
      "description_tooltip": null,
      "layout": "IPY_MODEL_ed3737c90d6847709c4f484cfec2b452",
      "placeholder": "​",
      "style": "IPY_MODEL_5c648f711d39471481b8113e44497cfa",
      "value": " 844/844 [00:33&lt;00:00, 27.79it/s, loss=0.0304]"
     }
    },
    "097f69ef2dfa4a528d0060cff730fb81": {
     "model_module": "@jupyter-widgets/base",
     "model_module_version": "1.2.0",
     "model_name": "LayoutModel",
     "state": {
      "_model_module": "@jupyter-widgets/base",
      "_model_module_version": "1.2.0",
      "_model_name": "LayoutModel",
      "_view_count": null,
      "_view_module": "@jupyter-widgets/base",
      "_view_module_version": "1.2.0",
      "_view_name": "LayoutView",
      "align_content": null,
      "align_items": null,
      "align_self": null,
      "border": null,
      "bottom": null,
      "display": null,
      "flex": null,
      "flex_flow": null,
      "grid_area": null,
      "grid_auto_columns": null,
      "grid_auto_flow": null,
      "grid_auto_rows": null,
      "grid_column": null,
      "grid_gap": null,
      "grid_row": null,
      "grid_template_areas": null,
      "grid_template_columns": null,
      "grid_template_rows": null,
      "height": null,
      "justify_content": null,
      "justify_items": null,
      "left": null,
      "margin": null,
      "max_height": null,
      "max_width": null,
      "min_height": null,
      "min_width": null,
      "object_fit": null,
      "object_position": null,
      "order": null,
      "overflow": null,
      "overflow_x": null,
      "overflow_y": null,
      "padding": null,
      "right": null,
      "top": null,
      "visibility": null,
      "width": null
     }
    },
    "0d46b69d700d44348c0db3b0d386db6e": {
     "model_module": "@jupyter-widgets/controls",
     "model_module_version": "1.5.0",
     "model_name": "FloatProgressModel",
     "state": {
      "_dom_classes": [],
      "_model_module": "@jupyter-widgets/controls",
      "_model_module_version": "1.5.0",
      "_model_name": "FloatProgressModel",
      "_view_count": null,
      "_view_module": "@jupyter-widgets/controls",
      "_view_module_version": "1.5.0",
      "_view_name": "ProgressView",
      "bar_style": "success",
      "description": "",
      "description_tooltip": null,
      "layout": "IPY_MODEL_6d6f218641af465dbdb67b9543619234",
      "max": 94,
      "min": 0,
      "orientation": "horizontal",
      "style": "IPY_MODEL_0e3db0ad0a874c139e484f77de09a2c2",
      "value": 94
     }
    },
    "0e3db0ad0a874c139e484f77de09a2c2": {
     "model_module": "@jupyter-widgets/controls",
     "model_module_version": "1.5.0",
     "model_name": "ProgressStyleModel",
     "state": {
      "_model_module": "@jupyter-widgets/controls",
      "_model_module_version": "1.5.0",
      "_model_name": "ProgressStyleModel",
      "_view_count": null,
      "_view_module": "@jupyter-widgets/base",
      "_view_module_version": "1.2.0",
      "_view_name": "StyleView",
      "bar_color": null,
      "description_width": ""
     }
    },
    "11fae5ec1d034860bd31c38c0582b632": {
     "model_module": "@jupyter-widgets/controls",
     "model_module_version": "1.5.0",
     "model_name": "HBoxModel",
     "state": {
      "_dom_classes": [],
      "_model_module": "@jupyter-widgets/controls",
      "_model_module_version": "1.5.0",
      "_model_name": "HBoxModel",
      "_view_count": null,
      "_view_module": "@jupyter-widgets/controls",
      "_view_module_version": "1.5.0",
      "_view_name": "HBoxView",
      "box_style": "",
      "children": [
       "IPY_MODEL_a0f3aee227994696b61eaf424091ae11",
       "IPY_MODEL_07a90a2f640445ae8737e936dcc14925",
       "IPY_MODEL_e28150eccf48490e86d832b95a98fd07"
      ],
      "layout": "IPY_MODEL_873a0a4e759c423d9e4910a651cb8812"
     }
    },
    "15cb791ef0614837bbac76a6f1085319": {
     "model_module": "@jupyter-widgets/controls",
     "model_module_version": "1.5.0",
     "model_name": "DescriptionStyleModel",
     "state": {
      "_model_module": "@jupyter-widgets/controls",
      "_model_module_version": "1.5.0",
      "_model_name": "DescriptionStyleModel",
      "_view_count": null,
      "_view_module": "@jupyter-widgets/base",
      "_view_module_version": "1.2.0",
      "_view_name": "StyleView",
      "description_width": ""
     }
    },
    "18a75f9ea9ce432b9d7333dd9efa868d": {
     "model_module": "@jupyter-widgets/controls",
     "model_module_version": "1.5.0",
     "model_name": "HTMLModel",
     "state": {
      "_dom_classes": [],
      "_model_module": "@jupyter-widgets/controls",
      "_model_module_version": "1.5.0",
      "_model_name": "HTMLModel",
      "_view_count": null,
      "_view_module": "@jupyter-widgets/controls",
      "_view_module_version": "1.5.0",
      "_view_name": "HTMLView",
      "description": "",
      "description_tooltip": null,
      "layout": "IPY_MODEL_c7285db3608b444aa67c1ae4c8972498",
      "placeholder": "​",
      "style": "IPY_MODEL_5a030083645e49a08cbd6f0320239be8",
      "value": " 94/94 [00:03&lt;00:00, 34.52it/s]"
     }
    },
    "20a611236c6744089cf00924205dab57": {
     "model_module": "@jupyter-widgets/controls",
     "model_module_version": "1.5.0",
     "model_name": "FloatProgressModel",
     "state": {
      "_dom_classes": [],
      "_model_module": "@jupyter-widgets/controls",
      "_model_module_version": "1.5.0",
      "_model_name": "FloatProgressModel",
      "_view_count": null,
      "_view_module": "@jupyter-widgets/controls",
      "_view_module_version": "1.5.0",
      "_view_name": "ProgressView",
      "bar_style": "success",
      "description": "",
      "description_tooltip": null,
      "layout": "IPY_MODEL_00825bc3a76e4d73a910d291220558b9",
      "max": 94,
      "min": 0,
      "orientation": "horizontal",
      "style": "IPY_MODEL_dfba4946fc6a406ea8dc384088c641a7",
      "value": 94
     }
    },
    "22cc54cfb4954af499773f2d665ce27a": {
     "model_module": "@jupyter-widgets/controls",
     "model_module_version": "1.5.0",
     "model_name": "DescriptionStyleModel",
     "state": {
      "_model_module": "@jupyter-widgets/controls",
      "_model_module_version": "1.5.0",
      "_model_name": "DescriptionStyleModel",
      "_view_count": null,
      "_view_module": "@jupyter-widgets/base",
      "_view_module_version": "1.2.0",
      "_view_name": "StyleView",
      "description_width": ""
     }
    },
    "2389aedfe095404fb72bb014fec923b6": {
     "model_module": "@jupyter-widgets/controls",
     "model_module_version": "1.5.0",
     "model_name": "FloatProgressModel",
     "state": {
      "_dom_classes": [],
      "_model_module": "@jupyter-widgets/controls",
      "_model_module_version": "1.5.0",
      "_model_name": "FloatProgressModel",
      "_view_count": null,
      "_view_module": "@jupyter-widgets/controls",
      "_view_module_version": "1.5.0",
      "_view_name": "ProgressView",
      "bar_style": "success",
      "description": "",
      "description_tooltip": null,
      "layout": "IPY_MODEL_02a3565cc1604e2ea2598acbdc597408",
      "max": 844,
      "min": 0,
      "orientation": "horizontal",
      "style": "IPY_MODEL_f1a9c8cbd7884d3ca42d4b6ba095c33b",
      "value": 844
     }
    },
    "2422f804b98b4de99eb1ba2f8211b83b": {
     "model_module": "@jupyter-widgets/base",
     "model_module_version": "1.2.0",
     "model_name": "LayoutModel",
     "state": {
      "_model_module": "@jupyter-widgets/base",
      "_model_module_version": "1.2.0",
      "_model_name": "LayoutModel",
      "_view_count": null,
      "_view_module": "@jupyter-widgets/base",
      "_view_module_version": "1.2.0",
      "_view_name": "LayoutView",
      "align_content": null,
      "align_items": null,
      "align_self": null,
      "border": null,
      "bottom": null,
      "display": null,
      "flex": null,
      "flex_flow": null,
      "grid_area": null,
      "grid_auto_columns": null,
      "grid_auto_flow": null,
      "grid_auto_rows": null,
      "grid_column": null,
      "grid_gap": null,
      "grid_row": null,
      "grid_template_areas": null,
      "grid_template_columns": null,
      "grid_template_rows": null,
      "height": null,
      "justify_content": null,
      "justify_items": null,
      "left": null,
      "margin": null,
      "max_height": null,
      "max_width": null,
      "min_height": null,
      "min_width": null,
      "object_fit": null,
      "object_position": null,
      "order": null,
      "overflow": null,
      "overflow_x": null,
      "overflow_y": null,
      "padding": null,
      "right": null,
      "top": null,
      "visibility": null,
      "width": null
     }
    },
    "25d41407d07048db8d2acbef35a84d71": {
     "model_module": "@jupyter-widgets/controls",
     "model_module_version": "1.5.0",
     "model_name": "HTMLModel",
     "state": {
      "_dom_classes": [],
      "_model_module": "@jupyter-widgets/controls",
      "_model_module_version": "1.5.0",
      "_model_name": "HTMLModel",
      "_view_count": null,
      "_view_module": "@jupyter-widgets/controls",
      "_view_module_version": "1.5.0",
      "_view_name": "HTMLView",
      "description": "",
      "description_tooltip": null,
      "layout": "IPY_MODEL_2930e38bfae74a5fb91e68bcea0d3042",
      "placeholder": "​",
      "style": "IPY_MODEL_d9f0f6d6993d4643b6d0c070fdf30df6",
      "value": "Epoch 5/5 [Validation]: 100%"
     }
    },
    "2930e38bfae74a5fb91e68bcea0d3042": {
     "model_module": "@jupyter-widgets/base",
     "model_module_version": "1.2.0",
     "model_name": "LayoutModel",
     "state": {
      "_model_module": "@jupyter-widgets/base",
      "_model_module_version": "1.2.0",
      "_model_name": "LayoutModel",
      "_view_count": null,
      "_view_module": "@jupyter-widgets/base",
      "_view_module_version": "1.2.0",
      "_view_name": "LayoutView",
      "align_content": null,
      "align_items": null,
      "align_self": null,
      "border": null,
      "bottom": null,
      "display": null,
      "flex": null,
      "flex_flow": null,
      "grid_area": null,
      "grid_auto_columns": null,
      "grid_auto_flow": null,
      "grid_auto_rows": null,
      "grid_column": null,
      "grid_gap": null,
      "grid_row": null,
      "grid_template_areas": null,
      "grid_template_columns": null,
      "grid_template_rows": null,
      "height": null,
      "justify_content": null,
      "justify_items": null,
      "left": null,
      "margin": null,
      "max_height": null,
      "max_width": null,
      "min_height": null,
      "min_width": null,
      "object_fit": null,
      "object_position": null,
      "order": null,
      "overflow": null,
      "overflow_x": null,
      "overflow_y": null,
      "padding": null,
      "right": null,
      "top": null,
      "visibility": null,
      "width": null
     }
    },
    "2e04426c474f4591853085e5164566ac": {
     "model_module": "@jupyter-widgets/controls",
     "model_module_version": "1.5.0",
     "model_name": "HBoxModel",
     "state": {
      "_dom_classes": [],
      "_model_module": "@jupyter-widgets/controls",
      "_model_module_version": "1.5.0",
      "_model_name": "HBoxModel",
      "_view_count": null,
      "_view_module": "@jupyter-widgets/controls",
      "_view_module_version": "1.5.0",
      "_view_name": "HBoxView",
      "box_style": "",
      "children": [
       "IPY_MODEL_50c0640e67a84eaaa5c422883a4d0c8d",
       "IPY_MODEL_647ba985b34c4ce8bf46089710c00bb2",
       "IPY_MODEL_07cf3ec65a15431a8bbbe979a7274f2f"
      ],
      "layout": "IPY_MODEL_7ca2b0133c6a44208376eb9e4d3c26f7"
     }
    },
    "2e8b565ba3f944698aecb7172f03b90d": {
     "model_module": "@jupyter-widgets/base",
     "model_module_version": "1.2.0",
     "model_name": "LayoutModel",
     "state": {
      "_model_module": "@jupyter-widgets/base",
      "_model_module_version": "1.2.0",
      "_model_name": "LayoutModel",
      "_view_count": null,
      "_view_module": "@jupyter-widgets/base",
      "_view_module_version": "1.2.0",
      "_view_name": "LayoutView",
      "align_content": null,
      "align_items": null,
      "align_self": null,
      "border": null,
      "bottom": null,
      "display": null,
      "flex": null,
      "flex_flow": null,
      "grid_area": null,
      "grid_auto_columns": null,
      "grid_auto_flow": null,
      "grid_auto_rows": null,
      "grid_column": null,
      "grid_gap": null,
      "grid_row": null,
      "grid_template_areas": null,
      "grid_template_columns": null,
      "grid_template_rows": null,
      "height": null,
      "justify_content": null,
      "justify_items": null,
      "left": null,
      "margin": null,
      "max_height": null,
      "max_width": null,
      "min_height": null,
      "min_width": null,
      "object_fit": null,
      "object_position": null,
      "order": null,
      "overflow": null,
      "overflow_x": null,
      "overflow_y": null,
      "padding": null,
      "right": null,
      "top": null,
      "visibility": null,
      "width": null
     }
    },
    "340e4be3936e4b74b47a69477d76a6bc": {
     "model_module": "@jupyter-widgets/controls",
     "model_module_version": "1.5.0",
     "model_name": "HTMLModel",
     "state": {
      "_dom_classes": [],
      "_model_module": "@jupyter-widgets/controls",
      "_model_module_version": "1.5.0",
      "_model_name": "HTMLModel",
      "_view_count": null,
      "_view_module": "@jupyter-widgets/controls",
      "_view_module_version": "1.5.0",
      "_view_name": "HTMLView",
      "description": "",
      "description_tooltip": null,
      "layout": "IPY_MODEL_37ea51b372b8497097e722853c0fc263",
      "placeholder": "​",
      "style": "IPY_MODEL_037f7dee73f247649eba5148f266ebe9",
      "value": "Epoch 3/5 [Training]: 100%"
     }
    },
    "37538bda99fd4b4b88bd8c89fff779f8": {
     "model_module": "@jupyter-widgets/base",
     "model_module_version": "1.2.0",
     "model_name": "LayoutModel",
     "state": {
      "_model_module": "@jupyter-widgets/base",
      "_model_module_version": "1.2.0",
      "_model_name": "LayoutModel",
      "_view_count": null,
      "_view_module": "@jupyter-widgets/base",
      "_view_module_version": "1.2.0",
      "_view_name": "LayoutView",
      "align_content": null,
      "align_items": null,
      "align_self": null,
      "border": null,
      "bottom": null,
      "display": null,
      "flex": null,
      "flex_flow": null,
      "grid_area": null,
      "grid_auto_columns": null,
      "grid_auto_flow": null,
      "grid_auto_rows": null,
      "grid_column": null,
      "grid_gap": null,
      "grid_row": null,
      "grid_template_areas": null,
      "grid_template_columns": null,
      "grid_template_rows": null,
      "height": null,
      "justify_content": null,
      "justify_items": null,
      "left": null,
      "margin": null,
      "max_height": null,
      "max_width": null,
      "min_height": null,
      "min_width": null,
      "object_fit": null,
      "object_position": null,
      "order": null,
      "overflow": null,
      "overflow_x": null,
      "overflow_y": null,
      "padding": null,
      "right": null,
      "top": null,
      "visibility": null,
      "width": null
     }
    },
    "37ea51b372b8497097e722853c0fc263": {
     "model_module": "@jupyter-widgets/base",
     "model_module_version": "1.2.0",
     "model_name": "LayoutModel",
     "state": {
      "_model_module": "@jupyter-widgets/base",
      "_model_module_version": "1.2.0",
      "_model_name": "LayoutModel",
      "_view_count": null,
      "_view_module": "@jupyter-widgets/base",
      "_view_module_version": "1.2.0",
      "_view_name": "LayoutView",
      "align_content": null,
      "align_items": null,
      "align_self": null,
      "border": null,
      "bottom": null,
      "display": null,
      "flex": null,
      "flex_flow": null,
      "grid_area": null,
      "grid_auto_columns": null,
      "grid_auto_flow": null,
      "grid_auto_rows": null,
      "grid_column": null,
      "grid_gap": null,
      "grid_row": null,
      "grid_template_areas": null,
      "grid_template_columns": null,
      "grid_template_rows": null,
      "height": null,
      "justify_content": null,
      "justify_items": null,
      "left": null,
      "margin": null,
      "max_height": null,
      "max_width": null,
      "min_height": null,
      "min_width": null,
      "object_fit": null,
      "object_position": null,
      "order": null,
      "overflow": null,
      "overflow_x": null,
      "overflow_y": null,
      "padding": null,
      "right": null,
      "top": null,
      "visibility": null,
      "width": null
     }
    },
    "3d0b3b6dc1264759adc8cc95cb45463d": {
     "model_module": "@jupyter-widgets/base",
     "model_module_version": "1.2.0",
     "model_name": "LayoutModel",
     "state": {
      "_model_module": "@jupyter-widgets/base",
      "_model_module_version": "1.2.0",
      "_model_name": "LayoutModel",
      "_view_count": null,
      "_view_module": "@jupyter-widgets/base",
      "_view_module_version": "1.2.0",
      "_view_name": "LayoutView",
      "align_content": null,
      "align_items": null,
      "align_self": null,
      "border": null,
      "bottom": null,
      "display": null,
      "flex": null,
      "flex_flow": null,
      "grid_area": null,
      "grid_auto_columns": null,
      "grid_auto_flow": null,
      "grid_auto_rows": null,
      "grid_column": null,
      "grid_gap": null,
      "grid_row": null,
      "grid_template_areas": null,
      "grid_template_columns": null,
      "grid_template_rows": null,
      "height": null,
      "justify_content": null,
      "justify_items": null,
      "left": null,
      "margin": null,
      "max_height": null,
      "max_width": null,
      "min_height": null,
      "min_width": null,
      "object_fit": null,
      "object_position": null,
      "order": null,
      "overflow": null,
      "overflow_x": null,
      "overflow_y": null,
      "padding": null,
      "right": null,
      "top": null,
      "visibility": null,
      "width": null
     }
    },
    "445fbeed37894768a155876d67ac9afd": {
     "model_module": "@jupyter-widgets/base",
     "model_module_version": "1.2.0",
     "model_name": "LayoutModel",
     "state": {
      "_model_module": "@jupyter-widgets/base",
      "_model_module_version": "1.2.0",
      "_model_name": "LayoutModel",
      "_view_count": null,
      "_view_module": "@jupyter-widgets/base",
      "_view_module_version": "1.2.0",
      "_view_name": "LayoutView",
      "align_content": null,
      "align_items": null,
      "align_self": null,
      "border": null,
      "bottom": null,
      "display": null,
      "flex": null,
      "flex_flow": null,
      "grid_area": null,
      "grid_auto_columns": null,
      "grid_auto_flow": null,
      "grid_auto_rows": null,
      "grid_column": null,
      "grid_gap": null,
      "grid_row": null,
      "grid_template_areas": null,
      "grid_template_columns": null,
      "grid_template_rows": null,
      "height": null,
      "justify_content": null,
      "justify_items": null,
      "left": null,
      "margin": null,
      "max_height": null,
      "max_width": null,
      "min_height": null,
      "min_width": null,
      "object_fit": null,
      "object_position": null,
      "order": null,
      "overflow": null,
      "overflow_x": null,
      "overflow_y": null,
      "padding": null,
      "right": null,
      "top": null,
      "visibility": null,
      "width": null
     }
    },
    "446e54f07a5a444a8f999e52872108fa": {
     "model_module": "@jupyter-widgets/base",
     "model_module_version": "1.2.0",
     "model_name": "LayoutModel",
     "state": {
      "_model_module": "@jupyter-widgets/base",
      "_model_module_version": "1.2.0",
      "_model_name": "LayoutModel",
      "_view_count": null,
      "_view_module": "@jupyter-widgets/base",
      "_view_module_version": "1.2.0",
      "_view_name": "LayoutView",
      "align_content": null,
      "align_items": null,
      "align_self": null,
      "border": null,
      "bottom": null,
      "display": null,
      "flex": null,
      "flex_flow": null,
      "grid_area": null,
      "grid_auto_columns": null,
      "grid_auto_flow": null,
      "grid_auto_rows": null,
      "grid_column": null,
      "grid_gap": null,
      "grid_row": null,
      "grid_template_areas": null,
      "grid_template_columns": null,
      "grid_template_rows": null,
      "height": null,
      "justify_content": null,
      "justify_items": null,
      "left": null,
      "margin": null,
      "max_height": null,
      "max_width": null,
      "min_height": null,
      "min_width": null,
      "object_fit": null,
      "object_position": null,
      "order": null,
      "overflow": null,
      "overflow_x": null,
      "overflow_y": null,
      "padding": null,
      "right": null,
      "top": null,
      "visibility": null,
      "width": null
     }
    },
    "44e71c06c1c14b7a861ad6ff3647ea55": {
     "model_module": "@jupyter-widgets/base",
     "model_module_version": "1.2.0",
     "model_name": "LayoutModel",
     "state": {
      "_model_module": "@jupyter-widgets/base",
      "_model_module_version": "1.2.0",
      "_model_name": "LayoutModel",
      "_view_count": null,
      "_view_module": "@jupyter-widgets/base",
      "_view_module_version": "1.2.0",
      "_view_name": "LayoutView",
      "align_content": null,
      "align_items": null,
      "align_self": null,
      "border": null,
      "bottom": null,
      "display": null,
      "flex": null,
      "flex_flow": null,
      "grid_area": null,
      "grid_auto_columns": null,
      "grid_auto_flow": null,
      "grid_auto_rows": null,
      "grid_column": null,
      "grid_gap": null,
      "grid_row": null,
      "grid_template_areas": null,
      "grid_template_columns": null,
      "grid_template_rows": null,
      "height": null,
      "justify_content": null,
      "justify_items": null,
      "left": null,
      "margin": null,
      "max_height": null,
      "max_width": null,
      "min_height": null,
      "min_width": null,
      "object_fit": null,
      "object_position": null,
      "order": null,
      "overflow": null,
      "overflow_x": null,
      "overflow_y": null,
      "padding": null,
      "right": null,
      "top": null,
      "visibility": null,
      "width": null
     }
    },
    "47c10d955b0c40c48cf62a1715d5339a": {
     "model_module": "@jupyter-widgets/controls",
     "model_module_version": "1.5.0",
     "model_name": "FloatProgressModel",
     "state": {
      "_dom_classes": [],
      "_model_module": "@jupyter-widgets/controls",
      "_model_module_version": "1.5.0",
      "_model_name": "FloatProgressModel",
      "_view_count": null,
      "_view_module": "@jupyter-widgets/controls",
      "_view_module_version": "1.5.0",
      "_view_name": "ProgressView",
      "bar_style": "success",
      "description": "",
      "description_tooltip": null,
      "layout": "IPY_MODEL_887390c97d604b24996dd8e070507098",
      "max": 94,
      "min": 0,
      "orientation": "horizontal",
      "style": "IPY_MODEL_f1039d496f5b431fa64b7599a9a2f7b7",
      "value": 94
     }
    },
    "4afc398a6ff8407eabef67df5729e7f1": {
     "model_module": "@jupyter-widgets/controls",
     "model_module_version": "1.5.0",
     "model_name": "DescriptionStyleModel",
     "state": {
      "_model_module": "@jupyter-widgets/controls",
      "_model_module_version": "1.5.0",
      "_model_name": "DescriptionStyleModel",
      "_view_count": null,
      "_view_module": "@jupyter-widgets/base",
      "_view_module_version": "1.2.0",
      "_view_name": "StyleView",
      "description_width": ""
     }
    },
    "503bf662589e4475a8874bb74efa8e3d": {
     "model_module": "@jupyter-widgets/controls",
     "model_module_version": "1.5.0",
     "model_name": "HTMLModel",
     "state": {
      "_dom_classes": [],
      "_model_module": "@jupyter-widgets/controls",
      "_model_module_version": "1.5.0",
      "_model_name": "HTMLModel",
      "_view_count": null,
      "_view_module": "@jupyter-widgets/controls",
      "_view_module_version": "1.5.0",
      "_view_name": "HTMLView",
      "description": "",
      "description_tooltip": null,
      "layout": "IPY_MODEL_2422f804b98b4de99eb1ba2f8211b83b",
      "placeholder": "​",
      "style": "IPY_MODEL_59c1a615501e40f98d2e7c6240892924",
      "value": " 844/844 [00:33&lt;00:00, 27.02it/s, loss=0.0031]"
     }
    },
    "50c0640e67a84eaaa5c422883a4d0c8d": {
     "model_module": "@jupyter-widgets/controls",
     "model_module_version": "1.5.0",
     "model_name": "HTMLModel",
     "state": {
      "_dom_classes": [],
      "_model_module": "@jupyter-widgets/controls",
      "_model_module_version": "1.5.0",
      "_model_name": "HTMLModel",
      "_view_count": null,
      "_view_module": "@jupyter-widgets/controls",
      "_view_module_version": "1.5.0",
      "_view_name": "HTMLView",
      "description": "",
      "description_tooltip": null,
      "layout": "IPY_MODEL_2e8b565ba3f944698aecb7172f03b90d",
      "placeholder": "​",
      "style": "IPY_MODEL_cc9a445b0db74b6abdb6fd0ad580b295",
      "value": "Epoch 4/5 [Training]: 100%"
     }
    },
    "53dd263f7cb140498b652eac64a79579": {
     "model_module": "@jupyter-widgets/controls",
     "model_module_version": "1.5.0",
     "model_name": "HTMLModel",
     "state": {
      "_dom_classes": [],
      "_model_module": "@jupyter-widgets/controls",
      "_model_module_version": "1.5.0",
      "_model_name": "HTMLModel",
      "_view_count": null,
      "_view_module": "@jupyter-widgets/controls",
      "_view_module_version": "1.5.0",
      "_view_name": "HTMLView",
      "description": "",
      "description_tooltip": null,
      "layout": "IPY_MODEL_44e71c06c1c14b7a861ad6ff3647ea55",
      "placeholder": "​",
      "style": "IPY_MODEL_4afc398a6ff8407eabef67df5729e7f1",
      "value": " 94/94 [00:02&lt;00:00, 27.80it/s]"
     }
    },
    "54122f7aed0c494bad544230c51a088e": {
     "model_module": "@jupyter-widgets/controls",
     "model_module_version": "1.5.0",
     "model_name": "ProgressStyleModel",
     "state": {
      "_model_module": "@jupyter-widgets/controls",
      "_model_module_version": "1.5.0",
      "_model_name": "ProgressStyleModel",
      "_view_count": null,
      "_view_module": "@jupyter-widgets/base",
      "_view_module_version": "1.2.0",
      "_view_name": "StyleView",
      "bar_color": null,
      "description_width": ""
     }
    },
    "54ee4afa79394ce4844f1029a5b42c56": {
     "model_module": "@jupyter-widgets/controls",
     "model_module_version": "1.5.0",
     "model_name": "DescriptionStyleModel",
     "state": {
      "_model_module": "@jupyter-widgets/controls",
      "_model_module_version": "1.5.0",
      "_model_name": "DescriptionStyleModel",
      "_view_count": null,
      "_view_module": "@jupyter-widgets/base",
      "_view_module_version": "1.2.0",
      "_view_name": "StyleView",
      "description_width": ""
     }
    },
    "588a0a29ae474e3d83d1672299319d89": {
     "model_module": "@jupyter-widgets/controls",
     "model_module_version": "1.5.0",
     "model_name": "HBoxModel",
     "state": {
      "_dom_classes": [],
      "_model_module": "@jupyter-widgets/controls",
      "_model_module_version": "1.5.0",
      "_model_name": "HBoxModel",
      "_view_count": null,
      "_view_module": "@jupyter-widgets/controls",
      "_view_module_version": "1.5.0",
      "_view_name": "HBoxView",
      "box_style": "",
      "children": [
       "IPY_MODEL_7d5f47be7f92453b927291bbe78f0e9e",
       "IPY_MODEL_b9cb677246cd45e685fde53b7add73de",
       "IPY_MODEL_df8f7c90473f47c3ae51cf9525a96172"
      ],
      "layout": "IPY_MODEL_a3d493dee06b401484b0e4ffbad52ee6"
     }
    },
    "59c1a615501e40f98d2e7c6240892924": {
     "model_module": "@jupyter-widgets/controls",
     "model_module_version": "1.5.0",
     "model_name": "DescriptionStyleModel",
     "state": {
      "_model_module": "@jupyter-widgets/controls",
      "_model_module_version": "1.5.0",
      "_model_name": "DescriptionStyleModel",
      "_view_count": null,
      "_view_module": "@jupyter-widgets/base",
      "_view_module_version": "1.2.0",
      "_view_name": "StyleView",
      "description_width": ""
     }
    },
    "5a030083645e49a08cbd6f0320239be8": {
     "model_module": "@jupyter-widgets/controls",
     "model_module_version": "1.5.0",
     "model_name": "DescriptionStyleModel",
     "state": {
      "_model_module": "@jupyter-widgets/controls",
      "_model_module_version": "1.5.0",
      "_model_name": "DescriptionStyleModel",
      "_view_count": null,
      "_view_module": "@jupyter-widgets/base",
      "_view_module_version": "1.2.0",
      "_view_name": "StyleView",
      "description_width": ""
     }
    },
    "5c648f711d39471481b8113e44497cfa": {
     "model_module": "@jupyter-widgets/controls",
     "model_module_version": "1.5.0",
     "model_name": "DescriptionStyleModel",
     "state": {
      "_model_module": "@jupyter-widgets/controls",
      "_model_module_version": "1.5.0",
      "_model_name": "DescriptionStyleModel",
      "_view_count": null,
      "_view_module": "@jupyter-widgets/base",
      "_view_module_version": "1.2.0",
      "_view_name": "StyleView",
      "description_width": ""
     }
    },
    "5e1501377f014dd5add0718aa456ac38": {
     "model_module": "@jupyter-widgets/controls",
     "model_module_version": "1.5.0",
     "model_name": "ProgressStyleModel",
     "state": {
      "_model_module": "@jupyter-widgets/controls",
      "_model_module_version": "1.5.0",
      "_model_name": "ProgressStyleModel",
      "_view_count": null,
      "_view_module": "@jupyter-widgets/base",
      "_view_module_version": "1.2.0",
      "_view_name": "StyleView",
      "bar_color": null,
      "description_width": ""
     }
    },
    "607bc1698bdd4c1a8a636280d068def8": {
     "model_module": "@jupyter-widgets/controls",
     "model_module_version": "1.5.0",
     "model_name": "HBoxModel",
     "state": {
      "_dom_classes": [],
      "_model_module": "@jupyter-widgets/controls",
      "_model_module_version": "1.5.0",
      "_model_name": "HBoxModel",
      "_view_count": null,
      "_view_module": "@jupyter-widgets/controls",
      "_view_module_version": "1.5.0",
      "_view_name": "HBoxView",
      "box_style": "",
      "children": [
       "IPY_MODEL_850f5cf0a047406eb15e3dfe63d84848",
       "IPY_MODEL_96219f0fb82440d6b870a17621a9a8d9",
       "IPY_MODEL_9ee05cf7c13546869c098753b3badf9e"
      ],
      "layout": "IPY_MODEL_74a4908e8660474e9233e7d86789343f"
     }
    },
    "64782f53389641da95ad85990caed560": {
     "model_module": "@jupyter-widgets/base",
     "model_module_version": "1.2.0",
     "model_name": "LayoutModel",
     "state": {
      "_model_module": "@jupyter-widgets/base",
      "_model_module_version": "1.2.0",
      "_model_name": "LayoutModel",
      "_view_count": null,
      "_view_module": "@jupyter-widgets/base",
      "_view_module_version": "1.2.0",
      "_view_name": "LayoutView",
      "align_content": null,
      "align_items": null,
      "align_self": null,
      "border": null,
      "bottom": null,
      "display": null,
      "flex": null,
      "flex_flow": null,
      "grid_area": null,
      "grid_auto_columns": null,
      "grid_auto_flow": null,
      "grid_auto_rows": null,
      "grid_column": null,
      "grid_gap": null,
      "grid_row": null,
      "grid_template_areas": null,
      "grid_template_columns": null,
      "grid_template_rows": null,
      "height": null,
      "justify_content": null,
      "justify_items": null,
      "left": null,
      "margin": null,
      "max_height": null,
      "max_width": null,
      "min_height": null,
      "min_width": null,
      "object_fit": null,
      "object_position": null,
      "order": null,
      "overflow": null,
      "overflow_x": null,
      "overflow_y": null,
      "padding": null,
      "right": null,
      "top": null,
      "visibility": null,
      "width": null
     }
    },
    "647ba985b34c4ce8bf46089710c00bb2": {
     "model_module": "@jupyter-widgets/controls",
     "model_module_version": "1.5.0",
     "model_name": "FloatProgressModel",
     "state": {
      "_dom_classes": [],
      "_model_module": "@jupyter-widgets/controls",
      "_model_module_version": "1.5.0",
      "_model_name": "FloatProgressModel",
      "_view_count": null,
      "_view_module": "@jupyter-widgets/controls",
      "_view_module_version": "1.5.0",
      "_view_name": "ProgressView",
      "bar_style": "success",
      "description": "",
      "description_tooltip": null,
      "layout": "IPY_MODEL_3d0b3b6dc1264759adc8cc95cb45463d",
      "max": 844,
      "min": 0,
      "orientation": "horizontal",
      "style": "IPY_MODEL_66dd6b6fec154e0981d20e1a01a5fc76",
      "value": 844
     }
    },
    "66dd6b6fec154e0981d20e1a01a5fc76": {
     "model_module": "@jupyter-widgets/controls",
     "model_module_version": "1.5.0",
     "model_name": "ProgressStyleModel",
     "state": {
      "_model_module": "@jupyter-widgets/controls",
      "_model_module_version": "1.5.0",
      "_model_name": "ProgressStyleModel",
      "_view_count": null,
      "_view_module": "@jupyter-widgets/base",
      "_view_module_version": "1.2.0",
      "_view_name": "StyleView",
      "bar_color": null,
      "description_width": ""
     }
    },
    "6d6f218641af465dbdb67b9543619234": {
     "model_module": "@jupyter-widgets/base",
     "model_module_version": "1.2.0",
     "model_name": "LayoutModel",
     "state": {
      "_model_module": "@jupyter-widgets/base",
      "_model_module_version": "1.2.0",
      "_model_name": "LayoutModel",
      "_view_count": null,
      "_view_module": "@jupyter-widgets/base",
      "_view_module_version": "1.2.0",
      "_view_name": "LayoutView",
      "align_content": null,
      "align_items": null,
      "align_self": null,
      "border": null,
      "bottom": null,
      "display": null,
      "flex": null,
      "flex_flow": null,
      "grid_area": null,
      "grid_auto_columns": null,
      "grid_auto_flow": null,
      "grid_auto_rows": null,
      "grid_column": null,
      "grid_gap": null,
      "grid_row": null,
      "grid_template_areas": null,
      "grid_template_columns": null,
      "grid_template_rows": null,
      "height": null,
      "justify_content": null,
      "justify_items": null,
      "left": null,
      "margin": null,
      "max_height": null,
      "max_width": null,
      "min_height": null,
      "min_width": null,
      "object_fit": null,
      "object_position": null,
      "order": null,
      "overflow": null,
      "overflow_x": null,
      "overflow_y": null,
      "padding": null,
      "right": null,
      "top": null,
      "visibility": null,
      "width": null
     }
    },
    "704c72c665e94cc4a2c5a8e318af1c6f": {
     "model_module": "@jupyter-widgets/controls",
     "model_module_version": "1.5.0",
     "model_name": "FloatProgressModel",
     "state": {
      "_dom_classes": [],
      "_model_module": "@jupyter-widgets/controls",
      "_model_module_version": "1.5.0",
      "_model_name": "FloatProgressModel",
      "_view_count": null,
      "_view_module": "@jupyter-widgets/controls",
      "_view_module_version": "1.5.0",
      "_view_name": "ProgressView",
      "bar_style": "success",
      "description": "",
      "description_tooltip": null,
      "layout": "IPY_MODEL_a61f0cdf27134b2f956d5ba5615e4c92",
      "max": 844,
      "min": 0,
      "orientation": "horizontal",
      "style": "IPY_MODEL_a4894d142c1c4579bba262f247b7ce14",
      "value": 844
     }
    },
    "70ae20352f0f4e2380fc546e6b9b7a33": {
     "model_module": "@jupyter-widgets/controls",
     "model_module_version": "1.5.0",
     "model_name": "HBoxModel",
     "state": {
      "_dom_classes": [],
      "_model_module": "@jupyter-widgets/controls",
      "_model_module_version": "1.5.0",
      "_model_name": "HBoxModel",
      "_view_count": null,
      "_view_module": "@jupyter-widgets/controls",
      "_view_module_version": "1.5.0",
      "_view_name": "HBoxView",
      "box_style": "",
      "children": [
       "IPY_MODEL_340e4be3936e4b74b47a69477d76a6bc",
       "IPY_MODEL_2389aedfe095404fb72bb014fec923b6",
       "IPY_MODEL_83083e5bef9449d896e4f46ee3dfe92a"
      ],
      "layout": "IPY_MODEL_fb516d124e334134bbbfc257c8f80fad"
     }
    },
    "7218983a008c4a84b442cb2dcde953f9": {
     "model_module": "@jupyter-widgets/base",
     "model_module_version": "1.2.0",
     "model_name": "LayoutModel",
     "state": {
      "_model_module": "@jupyter-widgets/base",
      "_model_module_version": "1.2.0",
      "_model_name": "LayoutModel",
      "_view_count": null,
      "_view_module": "@jupyter-widgets/base",
      "_view_module_version": "1.2.0",
      "_view_name": "LayoutView",
      "align_content": null,
      "align_items": null,
      "align_self": null,
      "border": null,
      "bottom": null,
      "display": null,
      "flex": null,
      "flex_flow": null,
      "grid_area": null,
      "grid_auto_columns": null,
      "grid_auto_flow": null,
      "grid_auto_rows": null,
      "grid_column": null,
      "grid_gap": null,
      "grid_row": null,
      "grid_template_areas": null,
      "grid_template_columns": null,
      "grid_template_rows": null,
      "height": null,
      "justify_content": null,
      "justify_items": null,
      "left": null,
      "margin": null,
      "max_height": null,
      "max_width": null,
      "min_height": null,
      "min_width": null,
      "object_fit": null,
      "object_position": null,
      "order": null,
      "overflow": null,
      "overflow_x": null,
      "overflow_y": null,
      "padding": null,
      "right": null,
      "top": null,
      "visibility": null,
      "width": null
     }
    },
    "74a4908e8660474e9233e7d86789343f": {
     "model_module": "@jupyter-widgets/base",
     "model_module_version": "1.2.0",
     "model_name": "LayoutModel",
     "state": {
      "_model_module": "@jupyter-widgets/base",
      "_model_module_version": "1.2.0",
      "_model_name": "LayoutModel",
      "_view_count": null,
      "_view_module": "@jupyter-widgets/base",
      "_view_module_version": "1.2.0",
      "_view_name": "LayoutView",
      "align_content": null,
      "align_items": null,
      "align_self": null,
      "border": null,
      "bottom": null,
      "display": null,
      "flex": null,
      "flex_flow": null,
      "grid_area": null,
      "grid_auto_columns": null,
      "grid_auto_flow": null,
      "grid_auto_rows": null,
      "grid_column": null,
      "grid_gap": null,
      "grid_row": null,
      "grid_template_areas": null,
      "grid_template_columns": null,
      "grid_template_rows": null,
      "height": null,
      "justify_content": null,
      "justify_items": null,
      "left": null,
      "margin": null,
      "max_height": null,
      "max_width": null,
      "min_height": null,
      "min_width": null,
      "object_fit": null,
      "object_position": null,
      "order": null,
      "overflow": null,
      "overflow_x": null,
      "overflow_y": null,
      "padding": null,
      "right": null,
      "top": null,
      "visibility": null,
      "width": null
     }
    },
    "759835839172474ca8dd92e6e9dd84fb": {
     "model_module": "@jupyter-widgets/base",
     "model_module_version": "1.2.0",
     "model_name": "LayoutModel",
     "state": {
      "_model_module": "@jupyter-widgets/base",
      "_model_module_version": "1.2.0",
      "_model_name": "LayoutModel",
      "_view_count": null,
      "_view_module": "@jupyter-widgets/base",
      "_view_module_version": "1.2.0",
      "_view_name": "LayoutView",
      "align_content": null,
      "align_items": null,
      "align_self": null,
      "border": null,
      "bottom": null,
      "display": null,
      "flex": null,
      "flex_flow": null,
      "grid_area": null,
      "grid_auto_columns": null,
      "grid_auto_flow": null,
      "grid_auto_rows": null,
      "grid_column": null,
      "grid_gap": null,
      "grid_row": null,
      "grid_template_areas": null,
      "grid_template_columns": null,
      "grid_template_rows": null,
      "height": null,
      "justify_content": null,
      "justify_items": null,
      "left": null,
      "margin": null,
      "max_height": null,
      "max_width": null,
      "min_height": null,
      "min_width": null,
      "object_fit": null,
      "object_position": null,
      "order": null,
      "overflow": null,
      "overflow_x": null,
      "overflow_y": null,
      "padding": null,
      "right": null,
      "top": null,
      "visibility": null,
      "width": null
     }
    },
    "7a8ef0e9d8ef423e86e3018b5d801d5b": {
     "model_module": "@jupyter-widgets/controls",
     "model_module_version": "1.5.0",
     "model_name": "DescriptionStyleModel",
     "state": {
      "_model_module": "@jupyter-widgets/controls",
      "_model_module_version": "1.5.0",
      "_model_name": "DescriptionStyleModel",
      "_view_count": null,
      "_view_module": "@jupyter-widgets/base",
      "_view_module_version": "1.2.0",
      "_view_name": "StyleView",
      "description_width": ""
     }
    },
    "7ae3a5e848234fd7b666250ed076da15": {
     "model_module": "@jupyter-widgets/base",
     "model_module_version": "1.2.0",
     "model_name": "LayoutModel",
     "state": {
      "_model_module": "@jupyter-widgets/base",
      "_model_module_version": "1.2.0",
      "_model_name": "LayoutModel",
      "_view_count": null,
      "_view_module": "@jupyter-widgets/base",
      "_view_module_version": "1.2.0",
      "_view_name": "LayoutView",
      "align_content": null,
      "align_items": null,
      "align_self": null,
      "border": null,
      "bottom": null,
      "display": null,
      "flex": null,
      "flex_flow": null,
      "grid_area": null,
      "grid_auto_columns": null,
      "grid_auto_flow": null,
      "grid_auto_rows": null,
      "grid_column": null,
      "grid_gap": null,
      "grid_row": null,
      "grid_template_areas": null,
      "grid_template_columns": null,
      "grid_template_rows": null,
      "height": null,
      "justify_content": null,
      "justify_items": null,
      "left": null,
      "margin": null,
      "max_height": null,
      "max_width": null,
      "min_height": null,
      "min_width": null,
      "object_fit": null,
      "object_position": null,
      "order": null,
      "overflow": null,
      "overflow_x": null,
      "overflow_y": null,
      "padding": null,
      "right": null,
      "top": null,
      "visibility": null,
      "width": null
     }
    },
    "7b81e40e97e3481eac8345f8faa01fb4": {
     "model_module": "@jupyter-widgets/controls",
     "model_module_version": "1.5.0",
     "model_name": "HBoxModel",
     "state": {
      "_dom_classes": [],
      "_model_module": "@jupyter-widgets/controls",
      "_model_module_version": "1.5.0",
      "_model_name": "HBoxModel",
      "_view_count": null,
      "_view_module": "@jupyter-widgets/controls",
      "_view_module_version": "1.5.0",
      "_view_name": "HBoxView",
      "box_style": "",
      "children": [
       "IPY_MODEL_c72af8f17fbc4c94a8a51ac271b7b291",
       "IPY_MODEL_704c72c665e94cc4a2c5a8e318af1c6f",
       "IPY_MODEL_503bf662589e4475a8874bb74efa8e3d"
      ],
      "layout": "IPY_MODEL_af7730a3b0ca463d81a1771f0e926155"
     }
    },
    "7ca2b0133c6a44208376eb9e4d3c26f7": {
     "model_module": "@jupyter-widgets/base",
     "model_module_version": "1.2.0",
     "model_name": "LayoutModel",
     "state": {
      "_model_module": "@jupyter-widgets/base",
      "_model_module_version": "1.2.0",
      "_model_name": "LayoutModel",
      "_view_count": null,
      "_view_module": "@jupyter-widgets/base",
      "_view_module_version": "1.2.0",
      "_view_name": "LayoutView",
      "align_content": null,
      "align_items": null,
      "align_self": null,
      "border": null,
      "bottom": null,
      "display": null,
      "flex": null,
      "flex_flow": null,
      "grid_area": null,
      "grid_auto_columns": null,
      "grid_auto_flow": null,
      "grid_auto_rows": null,
      "grid_column": null,
      "grid_gap": null,
      "grid_row": null,
      "grid_template_areas": null,
      "grid_template_columns": null,
      "grid_template_rows": null,
      "height": null,
      "justify_content": null,
      "justify_items": null,
      "left": null,
      "margin": null,
      "max_height": null,
      "max_width": null,
      "min_height": null,
      "min_width": null,
      "object_fit": null,
      "object_position": null,
      "order": null,
      "overflow": null,
      "overflow_x": null,
      "overflow_y": null,
      "padding": null,
      "right": null,
      "top": null,
      "visibility": null,
      "width": null
     }
    },
    "7cc9d32798e64a00b7a0619fc3b9a27c": {
     "model_module": "@jupyter-widgets/controls",
     "model_module_version": "1.5.0",
     "model_name": "DescriptionStyleModel",
     "state": {
      "_model_module": "@jupyter-widgets/controls",
      "_model_module_version": "1.5.0",
      "_model_name": "DescriptionStyleModel",
      "_view_count": null,
      "_view_module": "@jupyter-widgets/base",
      "_view_module_version": "1.2.0",
      "_view_name": "StyleView",
      "description_width": ""
     }
    },
    "7d5f47be7f92453b927291bbe78f0e9e": {
     "model_module": "@jupyter-widgets/controls",
     "model_module_version": "1.5.0",
     "model_name": "HTMLModel",
     "state": {
      "_dom_classes": [],
      "_model_module": "@jupyter-widgets/controls",
      "_model_module_version": "1.5.0",
      "_model_name": "HTMLModel",
      "_view_count": null,
      "_view_module": "@jupyter-widgets/controls",
      "_view_module_version": "1.5.0",
      "_view_name": "HTMLView",
      "description": "",
      "description_tooltip": null,
      "layout": "IPY_MODEL_445fbeed37894768a155876d67ac9afd",
      "placeholder": "​",
      "style": "IPY_MODEL_15cb791ef0614837bbac76a6f1085319",
      "value": "Epoch 1/5 [Validation]: 100%"
     }
    },
    "83083e5bef9449d896e4f46ee3dfe92a": {
     "model_module": "@jupyter-widgets/controls",
     "model_module_version": "1.5.0",
     "model_name": "HTMLModel",
     "state": {
      "_dom_classes": [],
      "_model_module": "@jupyter-widgets/controls",
      "_model_module_version": "1.5.0",
      "_model_name": "HTMLModel",
      "_view_count": null,
      "_view_module": "@jupyter-widgets/controls",
      "_view_module_version": "1.5.0",
      "_view_name": "HTMLView",
      "description": "",
      "description_tooltip": null,
      "layout": "IPY_MODEL_a3636330a6644ba69901363f0aea4630",
      "placeholder": "​",
      "style": "IPY_MODEL_dff586fe42dd4bcc95d73e73486f9515",
      "value": " 844/844 [00:33&lt;00:00, 24.66it/s, loss=0.0268]"
     }
    },
    "850f5cf0a047406eb15e3dfe63d84848": {
     "model_module": "@jupyter-widgets/controls",
     "model_module_version": "1.5.0",
     "model_name": "HTMLModel",
     "state": {
      "_dom_classes": [],
      "_model_module": "@jupyter-widgets/controls",
      "_model_module_version": "1.5.0",
      "_model_name": "HTMLModel",
      "_view_count": null,
      "_view_module": "@jupyter-widgets/controls",
      "_view_module_version": "1.5.0",
      "_view_name": "HTMLView",
      "description": "",
      "description_tooltip": null,
      "layout": "IPY_MODEL_b032a47db5164807824699b5f71e40c6",
      "placeholder": "​",
      "style": "IPY_MODEL_7a8ef0e9d8ef423e86e3018b5d801d5b",
      "value": "Epoch 2/5 [Validation]: 100%"
     }
    },
    "86b4084fceca488aba10118904cb50a3": {
     "model_module": "@jupyter-widgets/controls",
     "model_module_version": "1.5.0",
     "model_name": "HBoxModel",
     "state": {
      "_dom_classes": [],
      "_model_module": "@jupyter-widgets/controls",
      "_model_module_version": "1.5.0",
      "_model_name": "HBoxModel",
      "_view_count": null,
      "_view_module": "@jupyter-widgets/controls",
      "_view_module_version": "1.5.0",
      "_view_name": "HBoxView",
      "box_style": "",
      "children": [
       "IPY_MODEL_da4ae60e3f884c889c9db37407eca980",
       "IPY_MODEL_9b57da870abc47a1a0f091fc29ebd69e",
       "IPY_MODEL_9d2c83c1d60a4c4aa023fe5c800cb955"
      ],
      "layout": "IPY_MODEL_e670aa0b5d2b4bd4b99246fe610968cb"
     }
    },
    "873a0a4e759c423d9e4910a651cb8812": {
     "model_module": "@jupyter-widgets/base",
     "model_module_version": "1.2.0",
     "model_name": "LayoutModel",
     "state": {
      "_model_module": "@jupyter-widgets/base",
      "_model_module_version": "1.2.0",
      "_model_name": "LayoutModel",
      "_view_count": null,
      "_view_module": "@jupyter-widgets/base",
      "_view_module_version": "1.2.0",
      "_view_name": "LayoutView",
      "align_content": null,
      "align_items": null,
      "align_self": null,
      "border": null,
      "bottom": null,
      "display": null,
      "flex": null,
      "flex_flow": null,
      "grid_area": null,
      "grid_auto_columns": null,
      "grid_auto_flow": null,
      "grid_auto_rows": null,
      "grid_column": null,
      "grid_gap": null,
      "grid_row": null,
      "grid_template_areas": null,
      "grid_template_columns": null,
      "grid_template_rows": null,
      "height": null,
      "justify_content": null,
      "justify_items": null,
      "left": null,
      "margin": null,
      "max_height": null,
      "max_width": null,
      "min_height": null,
      "min_width": null,
      "object_fit": null,
      "object_position": null,
      "order": null,
      "overflow": null,
      "overflow_x": null,
      "overflow_y": null,
      "padding": null,
      "right": null,
      "top": null,
      "visibility": null,
      "width": null
     }
    },
    "887390c97d604b24996dd8e070507098": {
     "model_module": "@jupyter-widgets/base",
     "model_module_version": "1.2.0",
     "model_name": "LayoutModel",
     "state": {
      "_model_module": "@jupyter-widgets/base",
      "_model_module_version": "1.2.0",
      "_model_name": "LayoutModel",
      "_view_count": null,
      "_view_module": "@jupyter-widgets/base",
      "_view_module_version": "1.2.0",
      "_view_name": "LayoutView",
      "align_content": null,
      "align_items": null,
      "align_self": null,
      "border": null,
      "bottom": null,
      "display": null,
      "flex": null,
      "flex_flow": null,
      "grid_area": null,
      "grid_auto_columns": null,
      "grid_auto_flow": null,
      "grid_auto_rows": null,
      "grid_column": null,
      "grid_gap": null,
      "grid_row": null,
      "grid_template_areas": null,
      "grid_template_columns": null,
      "grid_template_rows": null,
      "height": null,
      "justify_content": null,
      "justify_items": null,
      "left": null,
      "margin": null,
      "max_height": null,
      "max_width": null,
      "min_height": null,
      "min_width": null,
      "object_fit": null,
      "object_position": null,
      "order": null,
      "overflow": null,
      "overflow_x": null,
      "overflow_y": null,
      "padding": null,
      "right": null,
      "top": null,
      "visibility": null,
      "width": null
     }
    },
    "8e93a6fed9b743268a8755eba5bb27d5": {
     "model_module": "@jupyter-widgets/controls",
     "model_module_version": "1.5.0",
     "model_name": "HTMLModel",
     "state": {
      "_dom_classes": [],
      "_model_module": "@jupyter-widgets/controls",
      "_model_module_version": "1.5.0",
      "_model_name": "HTMLModel",
      "_view_count": null,
      "_view_module": "@jupyter-widgets/controls",
      "_view_module_version": "1.5.0",
      "_view_name": "HTMLView",
      "description": "",
      "description_tooltip": null,
      "layout": "IPY_MODEL_c2ca02dffc7e4c759f6aeb352d67741d",
      "placeholder": "​",
      "style": "IPY_MODEL_7cc9d32798e64a00b7a0619fc3b9a27c",
      "value": "Epoch 3/5 [Validation]: 100%"
     }
    },
    "92c9cee5909e434fa5bde05044d4bb78": {
     "model_module": "@jupyter-widgets/controls",
     "model_module_version": "1.5.0",
     "model_name": "DescriptionStyleModel",
     "state": {
      "_model_module": "@jupyter-widgets/controls",
      "_model_module_version": "1.5.0",
      "_model_name": "DescriptionStyleModel",
      "_view_count": null,
      "_view_module": "@jupyter-widgets/base",
      "_view_module_version": "1.2.0",
      "_view_name": "StyleView",
      "description_width": ""
     }
    },
    "936641ef125e46cd82f4808f03296879": {
     "model_module": "@jupyter-widgets/controls",
     "model_module_version": "1.5.0",
     "model_name": "HTMLModel",
     "state": {
      "_dom_classes": [],
      "_model_module": "@jupyter-widgets/controls",
      "_model_module_version": "1.5.0",
      "_model_name": "HTMLModel",
      "_view_count": null,
      "_view_module": "@jupyter-widgets/controls",
      "_view_module_version": "1.5.0",
      "_view_name": "HTMLView",
      "description": "",
      "description_tooltip": null,
      "layout": "IPY_MODEL_097f69ef2dfa4a528d0060cff730fb81",
      "placeholder": "​",
      "style": "IPY_MODEL_92c9cee5909e434fa5bde05044d4bb78",
      "value": "Epoch 4/5 [Validation]: 100%"
     }
    },
    "93b16d3a6eaa42438083d73e14f45073": {
     "model_module": "@jupyter-widgets/controls",
     "model_module_version": "1.5.0",
     "model_name": "HBoxModel",
     "state": {
      "_dom_classes": [],
      "_model_module": "@jupyter-widgets/controls",
      "_model_module_version": "1.5.0",
      "_model_name": "HBoxModel",
      "_view_count": null,
      "_view_module": "@jupyter-widgets/controls",
      "_view_module_version": "1.5.0",
      "_view_name": "HBoxView",
      "box_style": "",
      "children": [
       "IPY_MODEL_8e93a6fed9b743268a8755eba5bb27d5",
       "IPY_MODEL_0d46b69d700d44348c0db3b0d386db6e",
       "IPY_MODEL_18a75f9ea9ce432b9d7333dd9efa868d"
      ],
      "layout": "IPY_MODEL_64782f53389641da95ad85990caed560"
     }
    },
    "96219f0fb82440d6b870a17621a9a8d9": {
     "model_module": "@jupyter-widgets/controls",
     "model_module_version": "1.5.0",
     "model_name": "FloatProgressModel",
     "state": {
      "_dom_classes": [],
      "_model_module": "@jupyter-widgets/controls",
      "_model_module_version": "1.5.0",
      "_model_name": "FloatProgressModel",
      "_view_count": null,
      "_view_module": "@jupyter-widgets/controls",
      "_view_module_version": "1.5.0",
      "_view_name": "ProgressView",
      "bar_style": "success",
      "description": "",
      "description_tooltip": null,
      "layout": "IPY_MODEL_ce1715d561ec4895845e26c297d8e69b",
      "max": 94,
      "min": 0,
      "orientation": "horizontal",
      "style": "IPY_MODEL_ddcf1b0f01da4dcbbd216d8348be17dc",
      "value": 94
     }
    },
    "97c21b0e2272442eb64cae12f85501af": {
     "model_module": "@jupyter-widgets/base",
     "model_module_version": "1.2.0",
     "model_name": "LayoutModel",
     "state": {
      "_model_module": "@jupyter-widgets/base",
      "_model_module_version": "1.2.0",
      "_model_name": "LayoutModel",
      "_view_count": null,
      "_view_module": "@jupyter-widgets/base",
      "_view_module_version": "1.2.0",
      "_view_name": "LayoutView",
      "align_content": null,
      "align_items": null,
      "align_self": null,
      "border": null,
      "bottom": null,
      "display": null,
      "flex": null,
      "flex_flow": null,
      "grid_area": null,
      "grid_auto_columns": null,
      "grid_auto_flow": null,
      "grid_auto_rows": null,
      "grid_column": null,
      "grid_gap": null,
      "grid_row": null,
      "grid_template_areas": null,
      "grid_template_columns": null,
      "grid_template_rows": null,
      "height": null,
      "justify_content": null,
      "justify_items": null,
      "left": null,
      "margin": null,
      "max_height": null,
      "max_width": null,
      "min_height": null,
      "min_width": null,
      "object_fit": null,
      "object_position": null,
      "order": null,
      "overflow": null,
      "overflow_x": null,
      "overflow_y": null,
      "padding": null,
      "right": null,
      "top": null,
      "visibility": null,
      "width": null
     }
    },
    "9b57da870abc47a1a0f091fc29ebd69e": {
     "model_module": "@jupyter-widgets/controls",
     "model_module_version": "1.5.0",
     "model_name": "FloatProgressModel",
     "state": {
      "_dom_classes": [],
      "_model_module": "@jupyter-widgets/controls",
      "_model_module_version": "1.5.0",
      "_model_name": "FloatProgressModel",
      "_view_count": null,
      "_view_module": "@jupyter-widgets/controls",
      "_view_module_version": "1.5.0",
      "_view_name": "ProgressView",
      "bar_style": "success",
      "description": "",
      "description_tooltip": null,
      "layout": "IPY_MODEL_ab9b649a573747af9792a502b6ccd328",
      "max": 844,
      "min": 0,
      "orientation": "horizontal",
      "style": "IPY_MODEL_5e1501377f014dd5add0718aa456ac38",
      "value": 844
     }
    },
    "9d2c83c1d60a4c4aa023fe5c800cb955": {
     "model_module": "@jupyter-widgets/controls",
     "model_module_version": "1.5.0",
     "model_name": "HTMLModel",
     "state": {
      "_dom_classes": [],
      "_model_module": "@jupyter-widgets/controls",
      "_model_module_version": "1.5.0",
      "_model_name": "HTMLModel",
      "_view_count": null,
      "_view_module": "@jupyter-widgets/controls",
      "_view_module_version": "1.5.0",
      "_view_name": "HTMLView",
      "description": "",
      "description_tooltip": null,
      "layout": "IPY_MODEL_bea973419f0f4db7859194c69166938a",
      "placeholder": "​",
      "style": "IPY_MODEL_e8d3ffa1a2124da3bf7f596e772140ff",
      "value": " 844/844 [00:38&lt;00:00, 19.44it/s, loss=0.0961]"
     }
    },
    "9ee05cf7c13546869c098753b3badf9e": {
     "model_module": "@jupyter-widgets/controls",
     "model_module_version": "1.5.0",
     "model_name": "HTMLModel",
     "state": {
      "_dom_classes": [],
      "_model_module": "@jupyter-widgets/controls",
      "_model_module_version": "1.5.0",
      "_model_name": "HTMLModel",
      "_view_count": null,
      "_view_module": "@jupyter-widgets/controls",
      "_view_module_version": "1.5.0",
      "_view_name": "HTMLView",
      "description": "",
      "description_tooltip": null,
      "layout": "IPY_MODEL_a42f81f6e4454fce8773f62627011c25",
      "placeholder": "​",
      "style": "IPY_MODEL_ab9dd2bb6a5b40439a910f58cfbe4dc7",
      "value": " 94/94 [00:02&lt;00:00, 34.73it/s]"
     }
    },
    "a0f3aee227994696b61eaf424091ae11": {
     "model_module": "@jupyter-widgets/controls",
     "model_module_version": "1.5.0",
     "model_name": "HTMLModel",
     "state": {
      "_dom_classes": [],
      "_model_module": "@jupyter-widgets/controls",
      "_model_module_version": "1.5.0",
      "_model_name": "HTMLModel",
      "_view_count": null,
      "_view_module": "@jupyter-widgets/controls",
      "_view_module_version": "1.5.0",
      "_view_name": "HTMLView",
      "description": "",
      "description_tooltip": null,
      "layout": "IPY_MODEL_b75bb8dd185f496f9157a4047fe0a8f7",
      "placeholder": "​",
      "style": "IPY_MODEL_d076278d0a194d2c8dcb17550f917224",
      "value": "Epoch 2/5 [Training]: 100%"
     }
    },
    "a3636330a6644ba69901363f0aea4630": {
     "model_module": "@jupyter-widgets/base",
     "model_module_version": "1.2.0",
     "model_name": "LayoutModel",
     "state": {
      "_model_module": "@jupyter-widgets/base",
      "_model_module_version": "1.2.0",
      "_model_name": "LayoutModel",
      "_view_count": null,
      "_view_module": "@jupyter-widgets/base",
      "_view_module_version": "1.2.0",
      "_view_name": "LayoutView",
      "align_content": null,
      "align_items": null,
      "align_self": null,
      "border": null,
      "bottom": null,
      "display": null,
      "flex": null,
      "flex_flow": null,
      "grid_area": null,
      "grid_auto_columns": null,
      "grid_auto_flow": null,
      "grid_auto_rows": null,
      "grid_column": null,
      "grid_gap": null,
      "grid_row": null,
      "grid_template_areas": null,
      "grid_template_columns": null,
      "grid_template_rows": null,
      "height": null,
      "justify_content": null,
      "justify_items": null,
      "left": null,
      "margin": null,
      "max_height": null,
      "max_width": null,
      "min_height": null,
      "min_width": null,
      "object_fit": null,
      "object_position": null,
      "order": null,
      "overflow": null,
      "overflow_x": null,
      "overflow_y": null,
      "padding": null,
      "right": null,
      "top": null,
      "visibility": null,
      "width": null
     }
    },
    "a3d493dee06b401484b0e4ffbad52ee6": {
     "model_module": "@jupyter-widgets/base",
     "model_module_version": "1.2.0",
     "model_name": "LayoutModel",
     "state": {
      "_model_module": "@jupyter-widgets/base",
      "_model_module_version": "1.2.0",
      "_model_name": "LayoutModel",
      "_view_count": null,
      "_view_module": "@jupyter-widgets/base",
      "_view_module_version": "1.2.0",
      "_view_name": "LayoutView",
      "align_content": null,
      "align_items": null,
      "align_self": null,
      "border": null,
      "bottom": null,
      "display": null,
      "flex": null,
      "flex_flow": null,
      "grid_area": null,
      "grid_auto_columns": null,
      "grid_auto_flow": null,
      "grid_auto_rows": null,
      "grid_column": null,
      "grid_gap": null,
      "grid_row": null,
      "grid_template_areas": null,
      "grid_template_columns": null,
      "grid_template_rows": null,
      "height": null,
      "justify_content": null,
      "justify_items": null,
      "left": null,
      "margin": null,
      "max_height": null,
      "max_width": null,
      "min_height": null,
      "min_width": null,
      "object_fit": null,
      "object_position": null,
      "order": null,
      "overflow": null,
      "overflow_x": null,
      "overflow_y": null,
      "padding": null,
      "right": null,
      "top": null,
      "visibility": null,
      "width": null
     }
    },
    "a42f81f6e4454fce8773f62627011c25": {
     "model_module": "@jupyter-widgets/base",
     "model_module_version": "1.2.0",
     "model_name": "LayoutModel",
     "state": {
      "_model_module": "@jupyter-widgets/base",
      "_model_module_version": "1.2.0",
      "_model_name": "LayoutModel",
      "_view_count": null,
      "_view_module": "@jupyter-widgets/base",
      "_view_module_version": "1.2.0",
      "_view_name": "LayoutView",
      "align_content": null,
      "align_items": null,
      "align_self": null,
      "border": null,
      "bottom": null,
      "display": null,
      "flex": null,
      "flex_flow": null,
      "grid_area": null,
      "grid_auto_columns": null,
      "grid_auto_flow": null,
      "grid_auto_rows": null,
      "grid_column": null,
      "grid_gap": null,
      "grid_row": null,
      "grid_template_areas": null,
      "grid_template_columns": null,
      "grid_template_rows": null,
      "height": null,
      "justify_content": null,
      "justify_items": null,
      "left": null,
      "margin": null,
      "max_height": null,
      "max_width": null,
      "min_height": null,
      "min_width": null,
      "object_fit": null,
      "object_position": null,
      "order": null,
      "overflow": null,
      "overflow_x": null,
      "overflow_y": null,
      "padding": null,
      "right": null,
      "top": null,
      "visibility": null,
      "width": null
     }
    },
    "a4894d142c1c4579bba262f247b7ce14": {
     "model_module": "@jupyter-widgets/controls",
     "model_module_version": "1.5.0",
     "model_name": "ProgressStyleModel",
     "state": {
      "_model_module": "@jupyter-widgets/controls",
      "_model_module_version": "1.5.0",
      "_model_name": "ProgressStyleModel",
      "_view_count": null,
      "_view_module": "@jupyter-widgets/base",
      "_view_module_version": "1.2.0",
      "_view_name": "StyleView",
      "bar_color": null,
      "description_width": ""
     }
    },
    "a61f0cdf27134b2f956d5ba5615e4c92": {
     "model_module": "@jupyter-widgets/base",
     "model_module_version": "1.2.0",
     "model_name": "LayoutModel",
     "state": {
      "_model_module": "@jupyter-widgets/base",
      "_model_module_version": "1.2.0",
      "_model_name": "LayoutModel",
      "_view_count": null,
      "_view_module": "@jupyter-widgets/base",
      "_view_module_version": "1.2.0",
      "_view_name": "LayoutView",
      "align_content": null,
      "align_items": null,
      "align_self": null,
      "border": null,
      "bottom": null,
      "display": null,
      "flex": null,
      "flex_flow": null,
      "grid_area": null,
      "grid_auto_columns": null,
      "grid_auto_flow": null,
      "grid_auto_rows": null,
      "grid_column": null,
      "grid_gap": null,
      "grid_row": null,
      "grid_template_areas": null,
      "grid_template_columns": null,
      "grid_template_rows": null,
      "height": null,
      "justify_content": null,
      "justify_items": null,
      "left": null,
      "margin": null,
      "max_height": null,
      "max_width": null,
      "min_height": null,
      "min_width": null,
      "object_fit": null,
      "object_position": null,
      "order": null,
      "overflow": null,
      "overflow_x": null,
      "overflow_y": null,
      "padding": null,
      "right": null,
      "top": null,
      "visibility": null,
      "width": null
     }
    },
    "ab9b649a573747af9792a502b6ccd328": {
     "model_module": "@jupyter-widgets/base",
     "model_module_version": "1.2.0",
     "model_name": "LayoutModel",
     "state": {
      "_model_module": "@jupyter-widgets/base",
      "_model_module_version": "1.2.0",
      "_model_name": "LayoutModel",
      "_view_count": null,
      "_view_module": "@jupyter-widgets/base",
      "_view_module_version": "1.2.0",
      "_view_name": "LayoutView",
      "align_content": null,
      "align_items": null,
      "align_self": null,
      "border": null,
      "bottom": null,
      "display": null,
      "flex": null,
      "flex_flow": null,
      "grid_area": null,
      "grid_auto_columns": null,
      "grid_auto_flow": null,
      "grid_auto_rows": null,
      "grid_column": null,
      "grid_gap": null,
      "grid_row": null,
      "grid_template_areas": null,
      "grid_template_columns": null,
      "grid_template_rows": null,
      "height": null,
      "justify_content": null,
      "justify_items": null,
      "left": null,
      "margin": null,
      "max_height": null,
      "max_width": null,
      "min_height": null,
      "min_width": null,
      "object_fit": null,
      "object_position": null,
      "order": null,
      "overflow": null,
      "overflow_x": null,
      "overflow_y": null,
      "padding": null,
      "right": null,
      "top": null,
      "visibility": null,
      "width": null
     }
    },
    "ab9dd2bb6a5b40439a910f58cfbe4dc7": {
     "model_module": "@jupyter-widgets/controls",
     "model_module_version": "1.5.0",
     "model_name": "DescriptionStyleModel",
     "state": {
      "_model_module": "@jupyter-widgets/controls",
      "_model_module_version": "1.5.0",
      "_model_name": "DescriptionStyleModel",
      "_view_count": null,
      "_view_module": "@jupyter-widgets/base",
      "_view_module_version": "1.2.0",
      "_view_name": "StyleView",
      "description_width": ""
     }
    },
    "af7730a3b0ca463d81a1771f0e926155": {
     "model_module": "@jupyter-widgets/base",
     "model_module_version": "1.2.0",
     "model_name": "LayoutModel",
     "state": {
      "_model_module": "@jupyter-widgets/base",
      "_model_module_version": "1.2.0",
      "_model_name": "LayoutModel",
      "_view_count": null,
      "_view_module": "@jupyter-widgets/base",
      "_view_module_version": "1.2.0",
      "_view_name": "LayoutView",
      "align_content": null,
      "align_items": null,
      "align_self": null,
      "border": null,
      "bottom": null,
      "display": null,
      "flex": null,
      "flex_flow": null,
      "grid_area": null,
      "grid_auto_columns": null,
      "grid_auto_flow": null,
      "grid_auto_rows": null,
      "grid_column": null,
      "grid_gap": null,
      "grid_row": null,
      "grid_template_areas": null,
      "grid_template_columns": null,
      "grid_template_rows": null,
      "height": null,
      "justify_content": null,
      "justify_items": null,
      "left": null,
      "margin": null,
      "max_height": null,
      "max_width": null,
      "min_height": null,
      "min_width": null,
      "object_fit": null,
      "object_position": null,
      "order": null,
      "overflow": null,
      "overflow_x": null,
      "overflow_y": null,
      "padding": null,
      "right": null,
      "top": null,
      "visibility": null,
      "width": null
     }
    },
    "b032a47db5164807824699b5f71e40c6": {
     "model_module": "@jupyter-widgets/base",
     "model_module_version": "1.2.0",
     "model_name": "LayoutModel",
     "state": {
      "_model_module": "@jupyter-widgets/base",
      "_model_module_version": "1.2.0",
      "_model_name": "LayoutModel",
      "_view_count": null,
      "_view_module": "@jupyter-widgets/base",
      "_view_module_version": "1.2.0",
      "_view_name": "LayoutView",
      "align_content": null,
      "align_items": null,
      "align_self": null,
      "border": null,
      "bottom": null,
      "display": null,
      "flex": null,
      "flex_flow": null,
      "grid_area": null,
      "grid_auto_columns": null,
      "grid_auto_flow": null,
      "grid_auto_rows": null,
      "grid_column": null,
      "grid_gap": null,
      "grid_row": null,
      "grid_template_areas": null,
      "grid_template_columns": null,
      "grid_template_rows": null,
      "height": null,
      "justify_content": null,
      "justify_items": null,
      "left": null,
      "margin": null,
      "max_height": null,
      "max_width": null,
      "min_height": null,
      "min_width": null,
      "object_fit": null,
      "object_position": null,
      "order": null,
      "overflow": null,
      "overflow_x": null,
      "overflow_y": null,
      "padding": null,
      "right": null,
      "top": null,
      "visibility": null,
      "width": null
     }
    },
    "b1a41b40761045b18b01cd8829b0300a": {
     "model_module": "@jupyter-widgets/base",
     "model_module_version": "1.2.0",
     "model_name": "LayoutModel",
     "state": {
      "_model_module": "@jupyter-widgets/base",
      "_model_module_version": "1.2.0",
      "_model_name": "LayoutModel",
      "_view_count": null,
      "_view_module": "@jupyter-widgets/base",
      "_view_module_version": "1.2.0",
      "_view_name": "LayoutView",
      "align_content": null,
      "align_items": null,
      "align_self": null,
      "border": null,
      "bottom": null,
      "display": null,
      "flex": null,
      "flex_flow": null,
      "grid_area": null,
      "grid_auto_columns": null,
      "grid_auto_flow": null,
      "grid_auto_rows": null,
      "grid_column": null,
      "grid_gap": null,
      "grid_row": null,
      "grid_template_areas": null,
      "grid_template_columns": null,
      "grid_template_rows": null,
      "height": null,
      "justify_content": null,
      "justify_items": null,
      "left": null,
      "margin": null,
      "max_height": null,
      "max_width": null,
      "min_height": null,
      "min_width": null,
      "object_fit": null,
      "object_position": null,
      "order": null,
      "overflow": null,
      "overflow_x": null,
      "overflow_y": null,
      "padding": null,
      "right": null,
      "top": null,
      "visibility": null,
      "width": null
     }
    },
    "b75bb8dd185f496f9157a4047fe0a8f7": {
     "model_module": "@jupyter-widgets/base",
     "model_module_version": "1.2.0",
     "model_name": "LayoutModel",
     "state": {
      "_model_module": "@jupyter-widgets/base",
      "_model_module_version": "1.2.0",
      "_model_name": "LayoutModel",
      "_view_count": null,
      "_view_module": "@jupyter-widgets/base",
      "_view_module_version": "1.2.0",
      "_view_name": "LayoutView",
      "align_content": null,
      "align_items": null,
      "align_self": null,
      "border": null,
      "bottom": null,
      "display": null,
      "flex": null,
      "flex_flow": null,
      "grid_area": null,
      "grid_auto_columns": null,
      "grid_auto_flow": null,
      "grid_auto_rows": null,
      "grid_column": null,
      "grid_gap": null,
      "grid_row": null,
      "grid_template_areas": null,
      "grid_template_columns": null,
      "grid_template_rows": null,
      "height": null,
      "justify_content": null,
      "justify_items": null,
      "left": null,
      "margin": null,
      "max_height": null,
      "max_width": null,
      "min_height": null,
      "min_width": null,
      "object_fit": null,
      "object_position": null,
      "order": null,
      "overflow": null,
      "overflow_x": null,
      "overflow_y": null,
      "padding": null,
      "right": null,
      "top": null,
      "visibility": null,
      "width": null
     }
    },
    "b9cb677246cd45e685fde53b7add73de": {
     "model_module": "@jupyter-widgets/controls",
     "model_module_version": "1.5.0",
     "model_name": "FloatProgressModel",
     "state": {
      "_dom_classes": [],
      "_model_module": "@jupyter-widgets/controls",
      "_model_module_version": "1.5.0",
      "_model_name": "FloatProgressModel",
      "_view_count": null,
      "_view_module": "@jupyter-widgets/controls",
      "_view_module_version": "1.5.0",
      "_view_name": "ProgressView",
      "bar_style": "success",
      "description": "",
      "description_tooltip": null,
      "layout": "IPY_MODEL_b1a41b40761045b18b01cd8829b0300a",
      "max": 94,
      "min": 0,
      "orientation": "horizontal",
      "style": "IPY_MODEL_54122f7aed0c494bad544230c51a088e",
      "value": 94
     }
    },
    "bea973419f0f4db7859194c69166938a": {
     "model_module": "@jupyter-widgets/base",
     "model_module_version": "1.2.0",
     "model_name": "LayoutModel",
     "state": {
      "_model_module": "@jupyter-widgets/base",
      "_model_module_version": "1.2.0",
      "_model_name": "LayoutModel",
      "_view_count": null,
      "_view_module": "@jupyter-widgets/base",
      "_view_module_version": "1.2.0",
      "_view_name": "LayoutView",
      "align_content": null,
      "align_items": null,
      "align_self": null,
      "border": null,
      "bottom": null,
      "display": null,
      "flex": null,
      "flex_flow": null,
      "grid_area": null,
      "grid_auto_columns": null,
      "grid_auto_flow": null,
      "grid_auto_rows": null,
      "grid_column": null,
      "grid_gap": null,
      "grid_row": null,
      "grid_template_areas": null,
      "grid_template_columns": null,
      "grid_template_rows": null,
      "height": null,
      "justify_content": null,
      "justify_items": null,
      "left": null,
      "margin": null,
      "max_height": null,
      "max_width": null,
      "min_height": null,
      "min_width": null,
      "object_fit": null,
      "object_position": null,
      "order": null,
      "overflow": null,
      "overflow_x": null,
      "overflow_y": null,
      "padding": null,
      "right": null,
      "top": null,
      "visibility": null,
      "width": null
     }
    },
    "c2ca02dffc7e4c759f6aeb352d67741d": {
     "model_module": "@jupyter-widgets/base",
     "model_module_version": "1.2.0",
     "model_name": "LayoutModel",
     "state": {
      "_model_module": "@jupyter-widgets/base",
      "_model_module_version": "1.2.0",
      "_model_name": "LayoutModel",
      "_view_count": null,
      "_view_module": "@jupyter-widgets/base",
      "_view_module_version": "1.2.0",
      "_view_name": "LayoutView",
      "align_content": null,
      "align_items": null,
      "align_self": null,
      "border": null,
      "bottom": null,
      "display": null,
      "flex": null,
      "flex_flow": null,
      "grid_area": null,
      "grid_auto_columns": null,
      "grid_auto_flow": null,
      "grid_auto_rows": null,
      "grid_column": null,
      "grid_gap": null,
      "grid_row": null,
      "grid_template_areas": null,
      "grid_template_columns": null,
      "grid_template_rows": null,
      "height": null,
      "justify_content": null,
      "justify_items": null,
      "left": null,
      "margin": null,
      "max_height": null,
      "max_width": null,
      "min_height": null,
      "min_width": null,
      "object_fit": null,
      "object_position": null,
      "order": null,
      "overflow": null,
      "overflow_x": null,
      "overflow_y": null,
      "padding": null,
      "right": null,
      "top": null,
      "visibility": null,
      "width": null
     }
    },
    "c7285db3608b444aa67c1ae4c8972498": {
     "model_module": "@jupyter-widgets/base",
     "model_module_version": "1.2.0",
     "model_name": "LayoutModel",
     "state": {
      "_model_module": "@jupyter-widgets/base",
      "_model_module_version": "1.2.0",
      "_model_name": "LayoutModel",
      "_view_count": null,
      "_view_module": "@jupyter-widgets/base",
      "_view_module_version": "1.2.0",
      "_view_name": "LayoutView",
      "align_content": null,
      "align_items": null,
      "align_self": null,
      "border": null,
      "bottom": null,
      "display": null,
      "flex": null,
      "flex_flow": null,
      "grid_area": null,
      "grid_auto_columns": null,
      "grid_auto_flow": null,
      "grid_auto_rows": null,
      "grid_column": null,
      "grid_gap": null,
      "grid_row": null,
      "grid_template_areas": null,
      "grid_template_columns": null,
      "grid_template_rows": null,
      "height": null,
      "justify_content": null,
      "justify_items": null,
      "left": null,
      "margin": null,
      "max_height": null,
      "max_width": null,
      "min_height": null,
      "min_width": null,
      "object_fit": null,
      "object_position": null,
      "order": null,
      "overflow": null,
      "overflow_x": null,
      "overflow_y": null,
      "padding": null,
      "right": null,
      "top": null,
      "visibility": null,
      "width": null
     }
    },
    "c72af8f17fbc4c94a8a51ac271b7b291": {
     "model_module": "@jupyter-widgets/controls",
     "model_module_version": "1.5.0",
     "model_name": "HTMLModel",
     "state": {
      "_dom_classes": [],
      "_model_module": "@jupyter-widgets/controls",
      "_model_module_version": "1.5.0",
      "_model_name": "HTMLModel",
      "_view_count": null,
      "_view_module": "@jupyter-widgets/controls",
      "_view_module_version": "1.5.0",
      "_view_name": "HTMLView",
      "description": "",
      "description_tooltip": null,
      "layout": "IPY_MODEL_f1a84e7319c842ad80c8b4a0666117c9",
      "placeholder": "​",
      "style": "IPY_MODEL_df7f8718bd5046919b87853f9fd3f3a6",
      "value": "Epoch 5/5 [Training]: 100%"
     }
    },
    "c982b0146ba640cda98fd420458c8228": {
     "model_module": "@jupyter-widgets/controls",
     "model_module_version": "1.5.0",
     "model_name": "HBoxModel",
     "state": {
      "_dom_classes": [],
      "_model_module": "@jupyter-widgets/controls",
      "_model_module_version": "1.5.0",
      "_model_name": "HBoxModel",
      "_view_count": null,
      "_view_module": "@jupyter-widgets/controls",
      "_view_module_version": "1.5.0",
      "_view_name": "HBoxView",
      "box_style": "",
      "children": [
       "IPY_MODEL_25d41407d07048db8d2acbef35a84d71",
       "IPY_MODEL_47c10d955b0c40c48cf62a1715d5339a",
       "IPY_MODEL_53dd263f7cb140498b652eac64a79579"
      ],
      "layout": "IPY_MODEL_759835839172474ca8dd92e6e9dd84fb"
     }
    },
    "cc682b14e0a04c4fb1894144a3ea95d2": {
     "model_module": "@jupyter-widgets/base",
     "model_module_version": "1.2.0",
     "model_name": "LayoutModel",
     "state": {
      "_model_module": "@jupyter-widgets/base",
      "_model_module_version": "1.2.0",
      "_model_name": "LayoutModel",
      "_view_count": null,
      "_view_module": "@jupyter-widgets/base",
      "_view_module_version": "1.2.0",
      "_view_name": "LayoutView",
      "align_content": null,
      "align_items": null,
      "align_self": null,
      "border": null,
      "bottom": null,
      "display": null,
      "flex": null,
      "flex_flow": null,
      "grid_area": null,
      "grid_auto_columns": null,
      "grid_auto_flow": null,
      "grid_auto_rows": null,
      "grid_column": null,
      "grid_gap": null,
      "grid_row": null,
      "grid_template_areas": null,
      "grid_template_columns": null,
      "grid_template_rows": null,
      "height": null,
      "justify_content": null,
      "justify_items": null,
      "left": null,
      "margin": null,
      "max_height": null,
      "max_width": null,
      "min_height": null,
      "min_width": null,
      "object_fit": null,
      "object_position": null,
      "order": null,
      "overflow": null,
      "overflow_x": null,
      "overflow_y": null,
      "padding": null,
      "right": null,
      "top": null,
      "visibility": null,
      "width": null
     }
    },
    "cc9a445b0db74b6abdb6fd0ad580b295": {
     "model_module": "@jupyter-widgets/controls",
     "model_module_version": "1.5.0",
     "model_name": "DescriptionStyleModel",
     "state": {
      "_model_module": "@jupyter-widgets/controls",
      "_model_module_version": "1.5.0",
      "_model_name": "DescriptionStyleModel",
      "_view_count": null,
      "_view_module": "@jupyter-widgets/base",
      "_view_module_version": "1.2.0",
      "_view_name": "StyleView",
      "description_width": ""
     }
    },
    "ce1715d561ec4895845e26c297d8e69b": {
     "model_module": "@jupyter-widgets/base",
     "model_module_version": "1.2.0",
     "model_name": "LayoutModel",
     "state": {
      "_model_module": "@jupyter-widgets/base",
      "_model_module_version": "1.2.0",
      "_model_name": "LayoutModel",
      "_view_count": null,
      "_view_module": "@jupyter-widgets/base",
      "_view_module_version": "1.2.0",
      "_view_name": "LayoutView",
      "align_content": null,
      "align_items": null,
      "align_self": null,
      "border": null,
      "bottom": null,
      "display": null,
      "flex": null,
      "flex_flow": null,
      "grid_area": null,
      "grid_auto_columns": null,
      "grid_auto_flow": null,
      "grid_auto_rows": null,
      "grid_column": null,
      "grid_gap": null,
      "grid_row": null,
      "grid_template_areas": null,
      "grid_template_columns": null,
      "grid_template_rows": null,
      "height": null,
      "justify_content": null,
      "justify_items": null,
      "left": null,
      "margin": null,
      "max_height": null,
      "max_width": null,
      "min_height": null,
      "min_width": null,
      "object_fit": null,
      "object_position": null,
      "order": null,
      "overflow": null,
      "overflow_x": null,
      "overflow_y": null,
      "padding": null,
      "right": null,
      "top": null,
      "visibility": null,
      "width": null
     }
    },
    "d076278d0a194d2c8dcb17550f917224": {
     "model_module": "@jupyter-widgets/controls",
     "model_module_version": "1.5.0",
     "model_name": "DescriptionStyleModel",
     "state": {
      "_model_module": "@jupyter-widgets/controls",
      "_model_module_version": "1.5.0",
      "_model_name": "DescriptionStyleModel",
      "_view_count": null,
      "_view_module": "@jupyter-widgets/base",
      "_view_module_version": "1.2.0",
      "_view_name": "StyleView",
      "description_width": ""
     }
    },
    "d3b89625af90449c8e3d15dd078154e9": {
     "model_module": "@jupyter-widgets/controls",
     "model_module_version": "1.5.0",
     "model_name": "DescriptionStyleModel",
     "state": {
      "_model_module": "@jupyter-widgets/controls",
      "_model_module_version": "1.5.0",
      "_model_name": "DescriptionStyleModel",
      "_view_count": null,
      "_view_module": "@jupyter-widgets/base",
      "_view_module_version": "1.2.0",
      "_view_name": "StyleView",
      "description_width": ""
     }
    },
    "d9f0f6d6993d4643b6d0c070fdf30df6": {
     "model_module": "@jupyter-widgets/controls",
     "model_module_version": "1.5.0",
     "model_name": "DescriptionStyleModel",
     "state": {
      "_model_module": "@jupyter-widgets/controls",
      "_model_module_version": "1.5.0",
      "_model_name": "DescriptionStyleModel",
      "_view_count": null,
      "_view_module": "@jupyter-widgets/base",
      "_view_module_version": "1.2.0",
      "_view_name": "StyleView",
      "description_width": ""
     }
    },
    "da4ae60e3f884c889c9db37407eca980": {
     "model_module": "@jupyter-widgets/controls",
     "model_module_version": "1.5.0",
     "model_name": "HTMLModel",
     "state": {
      "_dom_classes": [],
      "_model_module": "@jupyter-widgets/controls",
      "_model_module_version": "1.5.0",
      "_model_name": "HTMLModel",
      "_view_count": null,
      "_view_module": "@jupyter-widgets/controls",
      "_view_module_version": "1.5.0",
      "_view_name": "HTMLView",
      "description": "",
      "description_tooltip": null,
      "layout": "IPY_MODEL_446e54f07a5a444a8f999e52872108fa",
      "placeholder": "​",
      "style": "IPY_MODEL_54ee4afa79394ce4844f1029a5b42c56",
      "value": "Epoch 1/5 [Training]: 100%"
     }
    },
    "ddcf1b0f01da4dcbbd216d8348be17dc": {
     "model_module": "@jupyter-widgets/controls",
     "model_module_version": "1.5.0",
     "model_name": "ProgressStyleModel",
     "state": {
      "_model_module": "@jupyter-widgets/controls",
      "_model_module_version": "1.5.0",
      "_model_name": "ProgressStyleModel",
      "_view_count": null,
      "_view_module": "@jupyter-widgets/base",
      "_view_module_version": "1.2.0",
      "_view_name": "StyleView",
      "bar_color": null,
      "description_width": ""
     }
    },
    "df7f8718bd5046919b87853f9fd3f3a6": {
     "model_module": "@jupyter-widgets/controls",
     "model_module_version": "1.5.0",
     "model_name": "DescriptionStyleModel",
     "state": {
      "_model_module": "@jupyter-widgets/controls",
      "_model_module_version": "1.5.0",
      "_model_name": "DescriptionStyleModel",
      "_view_count": null,
      "_view_module": "@jupyter-widgets/base",
      "_view_module_version": "1.2.0",
      "_view_name": "StyleView",
      "description_width": ""
     }
    },
    "df8f7c90473f47c3ae51cf9525a96172": {
     "model_module": "@jupyter-widgets/controls",
     "model_module_version": "1.5.0",
     "model_name": "HTMLModel",
     "state": {
      "_dom_classes": [],
      "_model_module": "@jupyter-widgets/controls",
      "_model_module_version": "1.5.0",
      "_model_name": "HTMLModel",
      "_view_count": null,
      "_view_module": "@jupyter-widgets/controls",
      "_view_module_version": "1.5.0",
      "_view_name": "HTMLView",
      "description": "",
      "description_tooltip": null,
      "layout": "IPY_MODEL_cc682b14e0a04c4fb1894144a3ea95d2",
      "placeholder": "​",
      "style": "IPY_MODEL_22cc54cfb4954af499773f2d665ce27a",
      "value": " 94/94 [00:03&lt;00:00, 34.40it/s]"
     }
    },
    "dfba4946fc6a406ea8dc384088c641a7": {
     "model_module": "@jupyter-widgets/controls",
     "model_module_version": "1.5.0",
     "model_name": "ProgressStyleModel",
     "state": {
      "_model_module": "@jupyter-widgets/controls",
      "_model_module_version": "1.5.0",
      "_model_name": "ProgressStyleModel",
      "_view_count": null,
      "_view_module": "@jupyter-widgets/base",
      "_view_module_version": "1.2.0",
      "_view_name": "StyleView",
      "bar_color": null,
      "description_width": ""
     }
    },
    "dff586fe42dd4bcc95d73e73486f9515": {
     "model_module": "@jupyter-widgets/controls",
     "model_module_version": "1.5.0",
     "model_name": "DescriptionStyleModel",
     "state": {
      "_model_module": "@jupyter-widgets/controls",
      "_model_module_version": "1.5.0",
      "_model_name": "DescriptionStyleModel",
      "_view_count": null,
      "_view_module": "@jupyter-widgets/base",
      "_view_module_version": "1.2.0",
      "_view_name": "StyleView",
      "description_width": ""
     }
    },
    "e28150eccf48490e86d832b95a98fd07": {
     "model_module": "@jupyter-widgets/controls",
     "model_module_version": "1.5.0",
     "model_name": "HTMLModel",
     "state": {
      "_dom_classes": [],
      "_model_module": "@jupyter-widgets/controls",
      "_model_module_version": "1.5.0",
      "_model_name": "HTMLModel",
      "_view_count": null,
      "_view_module": "@jupyter-widgets/controls",
      "_view_module_version": "1.5.0",
      "_view_name": "HTMLView",
      "description": "",
      "description_tooltip": null,
      "layout": "IPY_MODEL_7218983a008c4a84b442cb2dcde953f9",
      "placeholder": "​",
      "style": "IPY_MODEL_f8e4a6764adc4b3a90ff53fa3a71071d",
      "value": " 844/844 [00:35&lt;00:00, 19.73it/s, loss=0.0166]"
     }
    },
    "e670aa0b5d2b4bd4b99246fe610968cb": {
     "model_module": "@jupyter-widgets/base",
     "model_module_version": "1.2.0",
     "model_name": "LayoutModel",
     "state": {
      "_model_module": "@jupyter-widgets/base",
      "_model_module_version": "1.2.0",
      "_model_name": "LayoutModel",
      "_view_count": null,
      "_view_module": "@jupyter-widgets/base",
      "_view_module_version": "1.2.0",
      "_view_name": "LayoutView",
      "align_content": null,
      "align_items": null,
      "align_self": null,
      "border": null,
      "bottom": null,
      "display": null,
      "flex": null,
      "flex_flow": null,
      "grid_area": null,
      "grid_auto_columns": null,
      "grid_auto_flow": null,
      "grid_auto_rows": null,
      "grid_column": null,
      "grid_gap": null,
      "grid_row": null,
      "grid_template_areas": null,
      "grid_template_columns": null,
      "grid_template_rows": null,
      "height": null,
      "justify_content": null,
      "justify_items": null,
      "left": null,
      "margin": null,
      "max_height": null,
      "max_width": null,
      "min_height": null,
      "min_width": null,
      "object_fit": null,
      "object_position": null,
      "order": null,
      "overflow": null,
      "overflow_x": null,
      "overflow_y": null,
      "padding": null,
      "right": null,
      "top": null,
      "visibility": null,
      "width": null
     }
    },
    "e8d3ffa1a2124da3bf7f596e772140ff": {
     "model_module": "@jupyter-widgets/controls",
     "model_module_version": "1.5.0",
     "model_name": "DescriptionStyleModel",
     "state": {
      "_model_module": "@jupyter-widgets/controls",
      "_model_module_version": "1.5.0",
      "_model_name": "DescriptionStyleModel",
      "_view_count": null,
      "_view_module": "@jupyter-widgets/base",
      "_view_module_version": "1.2.0",
      "_view_name": "StyleView",
      "description_width": ""
     }
    },
    "ed3737c90d6847709c4f484cfec2b452": {
     "model_module": "@jupyter-widgets/base",
     "model_module_version": "1.2.0",
     "model_name": "LayoutModel",
     "state": {
      "_model_module": "@jupyter-widgets/base",
      "_model_module_version": "1.2.0",
      "_model_name": "LayoutModel",
      "_view_count": null,
      "_view_module": "@jupyter-widgets/base",
      "_view_module_version": "1.2.0",
      "_view_name": "LayoutView",
      "align_content": null,
      "align_items": null,
      "align_self": null,
      "border": null,
      "bottom": null,
      "display": null,
      "flex": null,
      "flex_flow": null,
      "grid_area": null,
      "grid_auto_columns": null,
      "grid_auto_flow": null,
      "grid_auto_rows": null,
      "grid_column": null,
      "grid_gap": null,
      "grid_row": null,
      "grid_template_areas": null,
      "grid_template_columns": null,
      "grid_template_rows": null,
      "height": null,
      "justify_content": null,
      "justify_items": null,
      "left": null,
      "margin": null,
      "max_height": null,
      "max_width": null,
      "min_height": null,
      "min_width": null,
      "object_fit": null,
      "object_position": null,
      "order": null,
      "overflow": null,
      "overflow_x": null,
      "overflow_y": null,
      "padding": null,
      "right": null,
      "top": null,
      "visibility": null,
      "width": null
     }
    },
    "f1039d496f5b431fa64b7599a9a2f7b7": {
     "model_module": "@jupyter-widgets/controls",
     "model_module_version": "1.5.0",
     "model_name": "ProgressStyleModel",
     "state": {
      "_model_module": "@jupyter-widgets/controls",
      "_model_module_version": "1.5.0",
      "_model_name": "ProgressStyleModel",
      "_view_count": null,
      "_view_module": "@jupyter-widgets/base",
      "_view_module_version": "1.2.0",
      "_view_name": "StyleView",
      "bar_color": null,
      "description_width": ""
     }
    },
    "f1a84e7319c842ad80c8b4a0666117c9": {
     "model_module": "@jupyter-widgets/base",
     "model_module_version": "1.2.0",
     "model_name": "LayoutModel",
     "state": {
      "_model_module": "@jupyter-widgets/base",
      "_model_module_version": "1.2.0",
      "_model_name": "LayoutModel",
      "_view_count": null,
      "_view_module": "@jupyter-widgets/base",
      "_view_module_version": "1.2.0",
      "_view_name": "LayoutView",
      "align_content": null,
      "align_items": null,
      "align_self": null,
      "border": null,
      "bottom": null,
      "display": null,
      "flex": null,
      "flex_flow": null,
      "grid_area": null,
      "grid_auto_columns": null,
      "grid_auto_flow": null,
      "grid_auto_rows": null,
      "grid_column": null,
      "grid_gap": null,
      "grid_row": null,
      "grid_template_areas": null,
      "grid_template_columns": null,
      "grid_template_rows": null,
      "height": null,
      "justify_content": null,
      "justify_items": null,
      "left": null,
      "margin": null,
      "max_height": null,
      "max_width": null,
      "min_height": null,
      "min_width": null,
      "object_fit": null,
      "object_position": null,
      "order": null,
      "overflow": null,
      "overflow_x": null,
      "overflow_y": null,
      "padding": null,
      "right": null,
      "top": null,
      "visibility": null,
      "width": null
     }
    },
    "f1a9c8cbd7884d3ca42d4b6ba095c33b": {
     "model_module": "@jupyter-widgets/controls",
     "model_module_version": "1.5.0",
     "model_name": "ProgressStyleModel",
     "state": {
      "_model_module": "@jupyter-widgets/controls",
      "_model_module_version": "1.5.0",
      "_model_name": "ProgressStyleModel",
      "_view_count": null,
      "_view_module": "@jupyter-widgets/base",
      "_view_module_version": "1.2.0",
      "_view_name": "StyleView",
      "bar_color": null,
      "description_width": ""
     }
    },
    "f3c93b202ff5478791d3a1eddd63fa2b": {
     "model_module": "@jupyter-widgets/controls",
     "model_module_version": "1.5.0",
     "model_name": "HTMLModel",
     "state": {
      "_dom_classes": [],
      "_model_module": "@jupyter-widgets/controls",
      "_model_module_version": "1.5.0",
      "_model_name": "HTMLModel",
      "_view_count": null,
      "_view_module": "@jupyter-widgets/controls",
      "_view_module_version": "1.5.0",
      "_view_name": "HTMLView",
      "description": "",
      "description_tooltip": null,
      "layout": "IPY_MODEL_7ae3a5e848234fd7b666250ed076da15",
      "placeholder": "​",
      "style": "IPY_MODEL_d3b89625af90449c8e3d15dd078154e9",
      "value": " 94/94 [00:03&lt;00:00, 23.68it/s]"
     }
    },
    "f7aa240829f149e68e3e45d64b9a3cc7": {
     "model_module": "@jupyter-widgets/controls",
     "model_module_version": "1.5.0",
     "model_name": "ProgressStyleModel",
     "state": {
      "_model_module": "@jupyter-widgets/controls",
      "_model_module_version": "1.5.0",
      "_model_name": "ProgressStyleModel",
      "_view_count": null,
      "_view_module": "@jupyter-widgets/base",
      "_view_module_version": "1.2.0",
      "_view_name": "StyleView",
      "bar_color": null,
      "description_width": ""
     }
    },
    "f8e4a6764adc4b3a90ff53fa3a71071d": {
     "model_module": "@jupyter-widgets/controls",
     "model_module_version": "1.5.0",
     "model_name": "DescriptionStyleModel",
     "state": {
      "_model_module": "@jupyter-widgets/controls",
      "_model_module_version": "1.5.0",
      "_model_name": "DescriptionStyleModel",
      "_view_count": null,
      "_view_module": "@jupyter-widgets/base",
      "_view_module_version": "1.2.0",
      "_view_name": "StyleView",
      "description_width": ""
     }
    },
    "fb516d124e334134bbbfc257c8f80fad": {
     "model_module": "@jupyter-widgets/base",
     "model_module_version": "1.2.0",
     "model_name": "LayoutModel",
     "state": {
      "_model_module": "@jupyter-widgets/base",
      "_model_module_version": "1.2.0",
      "_model_name": "LayoutModel",
      "_view_count": null,
      "_view_module": "@jupyter-widgets/base",
      "_view_module_version": "1.2.0",
      "_view_name": "LayoutView",
      "align_content": null,
      "align_items": null,
      "align_self": null,
      "border": null,
      "bottom": null,
      "display": null,
      "flex": null,
      "flex_flow": null,
      "grid_area": null,
      "grid_auto_columns": null,
      "grid_auto_flow": null,
      "grid_auto_rows": null,
      "grid_column": null,
      "grid_gap": null,
      "grid_row": null,
      "grid_template_areas": null,
      "grid_template_columns": null,
      "grid_template_rows": null,
      "height": null,
      "justify_content": null,
      "justify_items": null,
      "left": null,
      "margin": null,
      "max_height": null,
      "max_width": null,
      "min_height": null,
      "min_width": null,
      "object_fit": null,
      "object_position": null,
      "order": null,
      "overflow": null,
      "overflow_x": null,
      "overflow_y": null,
      "padding": null,
      "right": null,
      "top": null,
      "visibility": null,
      "width": null
     }
    },
    "fe9e75d1b38443c2b8f4fe827746800d": {
     "model_module": "@jupyter-widgets/controls",
     "model_module_version": "1.5.0",
     "model_name": "HBoxModel",
     "state": {
      "_dom_classes": [],
      "_model_module": "@jupyter-widgets/controls",
      "_model_module_version": "1.5.0",
      "_model_name": "HBoxModel",
      "_view_count": null,
      "_view_module": "@jupyter-widgets/controls",
      "_view_module_version": "1.5.0",
      "_view_name": "HBoxView",
      "box_style": "",
      "children": [
       "IPY_MODEL_936641ef125e46cd82f4808f03296879",
       "IPY_MODEL_20a611236c6744089cf00924205dab57",
       "IPY_MODEL_f3c93b202ff5478791d3a1eddd63fa2b"
      ],
      "layout": "IPY_MODEL_97c21b0e2272442eb64cae12f85501af"
     }
    }
   }
  }
 },
 "nbformat": 4,
 "nbformat_minor": 0
}
