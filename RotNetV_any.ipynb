{
 "cells": [
  {
   "cell_type": "code",
   "execution_count": 1,
   "metadata": {
    "id": "kAmaWPDIh60b"
   },
   "outputs": [
    {
     "name": "stderr",
     "output_type": "stream",
     "text": [
      "2024-11-30 11:59:49.085987: I tensorflow/core/util/port.cc:153] oneDNN custom operations are on. You may see slightly different numerical results due to floating-point round-off errors from different computation orders. To turn them off, set the environment variable `TF_ENABLE_ONEDNN_OPTS=0`.\n",
      "2024-11-30 11:59:49.097699: E external/local_xla/xla/stream_executor/cuda/cuda_fft.cc:477] Unable to register cuFFT factory: Attempting to register factory for plugin cuFFT when one has already been registered\n",
      "WARNING: All log messages before absl::InitializeLog() is called are written to STDERR\n",
      "E0000 00:00:1732964389.111280  783749 cuda_dnn.cc:8310] Unable to register cuDNN factory: Attempting to register factory for plugin cuDNN when one has already been registered\n",
      "E0000 00:00:1732964389.114884  783749 cuda_blas.cc:1418] Unable to register cuBLAS factory: Attempting to register factory for plugin cuBLAS when one has already been registered\n",
      "2024-11-30 11:59:49.128385: I tensorflow/core/platform/cpu_feature_guard.cc:210] This TensorFlow binary is optimized to use available CPU instructions in performance-critical operations.\n",
      "To enable the following instructions: AVX2 AVX512F AVX512_VNNI FMA, in other operations, rebuild TensorFlow with the appropriate compiler flags.\n",
      "/usr/lib/python3/dist-packages/requests/__init__.py:87: RequestsDependencyWarning: urllib3 (2.2.3) or chardet (4.0.0) doesn't match a supported version!\n",
      "  warnings.warn(\"urllib3 ({}) or chardet ({}) doesn't match a supported \"\n"
     ]
    }
   ],
   "source": [
    "import torch\n",
    "import random\n",
    "import numpy as np\n",
    "from torch.utils.data import DataLoader, Subset , random_split\n",
    "from torchvision import datasets, transforms\n",
    "import torch.nn as nn\n",
    "import matplotlib.pyplot as plt\n",
    "from tqdm.auto import tqdm\n",
    "from models import ConvNet\n",
    "from dataset import RotationDataset\n",
    "from helper_functions import train_convnet, evaluate_classifier,rotation_collate"
   ]
  },
  {
   "cell_type": "markdown",
   "metadata": {},
   "source": [
    "# test hyperparamters:"
   ]
  },
  {
   "cell_type": "code",
   "execution_count": 3,
   "metadata": {},
   "outputs": [],
   "source": [
    "ROTATION_NUMBER=4\n",
    "CONV_BLOCKS=2\n",
    "TRANSFER_LAYERS=1\n",
    "assert TRANSFER_LAYERS<=CONV_BLOCKS\n",
    "rotations=[i*360/(ROTATION_NUMBER) for i in range(ROTATION_NUMBER)]"
   ]
  },
  {
   "cell_type": "markdown",
   "metadata": {},
   "source": [
    "## Datasets"
   ]
  },
  {
   "cell_type": "code",
   "execution_count": 5,
   "metadata": {},
   "outputs": [],
   "source": [
    "dataset = datasets.MNIST(root='./data', \n",
    "                         train=True, \n",
    "                         download=True, \n",
    "                         transform=transforms.ToTensor())\n",
    "test_dataset = datasets.MNIST(root='./data', \n",
    "                        train=False, \n",
    "                        download=True, transform=transforms.ToTensor())"
   ]
  },
  {
   "cell_type": "markdown",
   "metadata": {},
   "source": [
    "## Spliting Data"
   ]
  },
  {
   "cell_type": "code",
   "execution_count": 6,
   "metadata": {},
   "outputs": [
    {
     "name": "stdout",
     "output_type": "stream",
     "text": [
      "Supervised dataset: 100 samples\n",
      "Unsupervised dataset: 59900 samples\n"
     ]
    }
   ],
   "source": [
    "# Extract targets as a NumPy array\n",
    "targets = np.array(dataset.targets)\n",
    "\n",
    "# Select 10 indices for each class\n",
    "indices = []\n",
    "for digit in range(10):\n",
    "    digit_indices = np.where(targets == digit)[0][:10]  # Take first 10 samples for each digit\n",
    "    indices.extend(digit_indices)\n",
    "\n",
    "\n",
    "supervised_dataset = Subset(dataset, indices)\n",
    "unsupervised_dataset=Subset(dataset, np.setdiff1d(range(len(dataset)), indices))\n",
    "\n",
    "print(f\"Supervised dataset: {len(supervised_dataset)} samples\")\n",
    "print(f\"Unsupervised dataset: {len(unsupervised_dataset)} samples\")"
   ]
  },
  {
   "cell_type": "code",
   "execution_count": 7,
   "metadata": {
    "colab": {
     "base_uri": "https://localhost:8080/"
    },
    "id": "jYCyuMWXlIlo",
    "outputId": "17abd861-c5c7-4d16-cec6-aba626b2fac3"
   },
   "outputs": [
    {
     "name": "stdout",
     "output_type": "stream",
     "text": [
      "Unsupervised training set: 53910 samples\n",
      "Unsupervised validation set: 5990 samples\n"
     ]
    }
   ],
   "source": [
    "unsupervised_train_set, unsupervised_val_set = random_split(unsupervised_dataset, \n",
    "                                                            [0.9, 0.1])\n",
    "\n",
    "print(f\"Unsupervised training set: {len(unsupervised_train_set)} samples\")\n",
    "print(f\"Unsupervised validation set: {len(unsupervised_val_set)} samples\")\n"
   ]
  },
  {
   "cell_type": "markdown",
   "metadata": {},
   "source": [
    "## Visulaize"
   ]
  },
  {
   "cell_type": "code",
   "execution_count": 6,
   "metadata": {
    "colab": {
     "base_uri": "https://localhost:8080/",
     "height": 465
    },
    "id": "vIgnTktJo_-i",
    "outputId": "d64bc78e-6b0b-44f5-9c14-5a280a691b89"
   },
   "outputs": [
    {
     "data": {
      "image/png": "[encoded data removed]",
      "text/plain": [
       "<Figure size 1400x600 with 12 Axes>"
      ]
     },
     "metadata": {},
     "output_type": "display_data"
    }
   ],
   "source": [
    "num_images = 5\n",
    "num_cols = 2\n",
    "num_rows = (num_images + num_cols - 1) // num_cols\n",
    "\n",
    "fig, axes = plt.subplots(num_rows, num_cols * 2, figsize=(14, num_rows * 2))\n",
    "\n",
    "for i in range(num_images):\n",
    "    idx = torch.randint(0, len(unsupervised_train_set), (1,)).item()\n",
    "    original_image, _ =unsupervised_train_set[idx]\n",
    "\n",
    "    rotation_angle = random.choice(rotations)\n",
    "    rotated_image = transforms.functional.rotate(original_image, rotation_angle)\n",
    "\n",
    "    original_image = original_image.squeeze(0).numpy()\n",
    "    rotated_image = rotated_image.squeeze(0).numpy()\n",
    "\n",
    "    row, col = divmod(i, num_cols)\n",
    "    original_col = col * 2\n",
    "    rotated_col = col * 2 + 1\n",
    "\n",
    "    axes[row, original_col].imshow(original_image, cmap='gray')\n",
    "    axes[row, original_col].set_title(\"Original\", fontsize=8)\n",
    "    axes[row, original_col].axis('off')\n",
    "\n",
    "    axes[row, rotated_col].imshow(rotated_image, cmap='gray')\n",
    "    axes[row, rotated_col].set_title(f\"Rotated: {rotation_angle}°\", fontsize=8)\n",
    "    axes[row, rotated_col].axis('off')\n",
    "\n",
    "for ax in axes.flat:\n",
    "    ax.axis('off')\n",
    "\n",
    "plt.tight_layout()\n",
    "plt.show()\n",
    "\n"
   ]
  },
  {
   "cell_type": "markdown",
   "metadata": {},
   "source": [
    "# Train rotnet"
   ]
  },
  {
   "cell_type": "code",
   "execution_count": 7,
   "metadata": {},
   "outputs": [],
   "source": [
    "unsupervised_train_loader = DataLoader(RotationDataset(unsupervised_train_set,\n",
    "                                                       rotations=rotations), \n",
    "                                       batch_size=256,\n",
    "                                       shuffle=True,\n",
    "                                       num_workers=8,\n",
    "                                       persistent_workers=True,\n",
    "                                       collate_fn=rotation_collate)\n",
    "\n",
    "unsupervised_val_loader = DataLoader(RotationDataset(unsupervised_val_set,\n",
    "                                                     rotations=rotations), \n",
    "                                     batch_size=256, \n",
    "                                     shuffle=False,\n",
    "                                     num_workers=8,\n",
    "                                     persistent_workers=True,\n",
    "                                     collate_fn=rotation_collate)\n",
    "\n"
   ]
  },
  {
   "cell_type": "code",
   "execution_count": 13,
   "metadata": {},
   "outputs": [
    {
     "name": "stderr",
     "output_type": "stream",
     "text": [
      "Epoch 1/100 [Training]:   0%|          | 0/211 [00:00<?, ?it/s]"
     ]
    },
    {
     "name": "stderr",
     "output_type": "stream",
     "text": [
      "Epoch 1/100 [Training]: 100%|██████████| 211/211 [00:05<00:00, 35.63it/s, loss=0.7870]\n",
      "Epoch 1/100 [Validation]: 100%|██████████| 24/24 [00:00<00:00, 30.55it/s]\n"
     ]
    },
    {
     "name": "stdout",
     "output_type": "stream",
     "text": [
      "Epoch [1/100] - \n",
      "Train Loss: 0.9704, Train Accuracy: 62.20%, \n",
      "Validation Loss: 0.8391, Validation Accuracy: 69.44%\n",
      "\n"
     ]
    },
    {
     "name": "stderr",
     "output_type": "stream",
     "text": [
      "Epoch 2/100 [Training]: 100%|██████████| 211/211 [00:06<00:00, 34.73it/s, loss=0.6304]\n",
      "Epoch 2/100 [Validation]: 100%|██████████| 24/24 [00:00<00:00, 37.69it/s]\n"
     ]
    },
    {
     "name": "stdout",
     "output_type": "stream",
     "text": [
      "Epoch [2/100] - \n",
      "Train Loss: 0.7212, Train Accuracy: 74.28%, \n",
      "Validation Loss: 0.6779, Validation Accuracy: 74.24%\n",
      "\n"
     ]
    },
    {
     "name": "stderr",
     "output_type": "stream",
     "text": [
      "Epoch 3/100 [Training]: 100%|██████████| 211/211 [00:05<00:00, 37.65it/s, loss=0.5893]\n",
      "Epoch 3/100 [Validation]: 100%|██████████| 24/24 [00:00<00:00, 40.05it/s]\n"
     ]
    },
    {
     "name": "stdout",
     "output_type": "stream",
     "text": [
      "Epoch [3/100] - \n",
      "Train Loss: 0.5902, Train Accuracy: 78.72%, \n",
      "Validation Loss: 0.5734, Validation Accuracy: 76.89%\n",
      "\n"
     ]
    },
    {
     "name": "stderr",
     "output_type": "stream",
     "text": [
      "Epoch 4/100 [Training]: 100%|██████████| 211/211 [00:05<00:00, 37.82it/s, loss=0.3984]\n",
      "Epoch 4/100 [Validation]: 100%|██████████| 24/24 [00:00<00:00, 42.06it/s]\n"
     ]
    },
    {
     "name": "stdout",
     "output_type": "stream",
     "text": [
      "Epoch [4/100] - \n",
      "Train Loss: 0.5152, Train Accuracy: 81.78%, \n",
      "Validation Loss: 0.4914, Validation Accuracy: 82.16%\n",
      "\n"
     ]
    },
    {
     "name": "stderr",
     "output_type": "stream",
     "text": [
      "Epoch 5/100 [Training]: 100%|██████████| 211/211 [00:05<00:00, 37.67it/s, loss=0.4948]\n",
      "Epoch 5/100 [Validation]: 100%|██████████| 24/24 [00:00<00:00, 26.53it/s]\n"
     ]
    },
    {
     "name": "stdout",
     "output_type": "stream",
     "text": [
      "Epoch [5/100] - \n",
      "Train Loss: 0.4666, Train Accuracy: 83.81%, \n",
      "Validation Loss: 0.4721, Validation Accuracy: 83.60%\n",
      "\n"
     ]
    },
    {
     "name": "stderr",
     "output_type": "stream",
     "text": [
      "Epoch 6/100 [Training]: 100%|██████████| 211/211 [00:05<00:00, 35.51it/s, loss=0.4072]\n",
      "Epoch 6/100 [Validation]: 100%|██████████| 24/24 [00:00<00:00, 34.63it/s]\n"
     ]
    },
    {
     "name": "stdout",
     "output_type": "stream",
     "text": [
      "Epoch [6/100] - \n",
      "Train Loss: 0.4324, Train Accuracy: 85.32%, \n",
      "Validation Loss: 0.4500, Validation Accuracy: 84.11%\n",
      "\n"
     ]
    },
    {
     "name": "stderr",
     "output_type": "stream",
     "text": [
      "Epoch 7/100 [Training]: 100%|██████████| 211/211 [00:05<00:00, 37.03it/s, loss=0.4452]\n",
      "Epoch 7/100 [Validation]: 100%|██████████| 24/24 [00:00<00:00, 30.01it/s]\n"
     ]
    },
    {
     "name": "stdout",
     "output_type": "stream",
     "text": [
      "Epoch [7/100] - \n",
      "Train Loss: 0.4075, Train Accuracy: 86.35%, \n",
      "Validation Loss: 0.4248, Validation Accuracy: 84.70%\n",
      "\n"
     ]
    },
    {
     "name": "stderr",
     "output_type": "stream",
     "text": [
      "Epoch 8/100 [Training]: 100%|██████████| 211/211 [00:06<00:00, 34.56it/s, loss=0.3409]\n",
      "Epoch 8/100 [Validation]: 100%|██████████| 24/24 [00:00<00:00, 36.57it/s]\n"
     ]
    },
    {
     "name": "stdout",
     "output_type": "stream",
     "text": [
      "Epoch [8/100] - \n",
      "Train Loss: 0.3885, Train Accuracy: 87.07%, \n",
      "Validation Loss: 0.3905, Validation Accuracy: 86.76%\n",
      "\n"
     ]
    },
    {
     "name": "stderr",
     "output_type": "stream",
     "text": [
      "Epoch 9/100 [Training]: 100%|██████████| 211/211 [00:06<00:00, 34.16it/s, loss=0.3833]\n",
      "Epoch 9/100 [Validation]: 100%|██████████| 24/24 [00:00<00:00, 38.26it/s]\n"
     ]
    },
    {
     "name": "stdout",
     "output_type": "stream",
     "text": [
      "Epoch [9/100] - \n",
      "Train Loss: 0.3730, Train Accuracy: 87.75%, \n",
      "Validation Loss: 0.4018, Validation Accuracy: 85.41%\n",
      "\n"
     ]
    },
    {
     "name": "stderr",
     "output_type": "stream",
     "text": [
      "Epoch 10/100 [Training]: 100%|██████████| 211/211 [00:06<00:00, 34.46it/s, loss=0.2998]\n",
      "Epoch 10/100 [Validation]: 100%|██████████| 24/24 [00:00<00:00, 38.05it/s]\n"
     ]
    },
    {
     "name": "stdout",
     "output_type": "stream",
     "text": [
      "Epoch [10/100] - \n",
      "Train Loss: 0.3597, Train Accuracy: 88.33%, \n",
      "Validation Loss: 0.4115, Validation Accuracy: 84.38%\n",
      "\n"
     ]
    },
    {
     "name": "stderr",
     "output_type": "stream",
     "text": [
      "Epoch 11/100 [Training]: 100%|██████████| 211/211 [00:06<00:00, 34.38it/s, loss=0.3312]\n",
      "Epoch 11/100 [Validation]: 100%|██████████| 24/24 [00:00<00:00, 34.48it/s]\n"
     ]
    },
    {
     "name": "stdout",
     "output_type": "stream",
     "text": [
      "Epoch [11/100] - \n",
      "Train Loss: 0.3491, Train Accuracy: 88.64%, \n",
      "Validation Loss: 0.4305, Validation Accuracy: 82.34%\n",
      "\n"
     ]
    },
    {
     "name": "stderr",
     "output_type": "stream",
     "text": [
      "Epoch 12/100 [Training]: 100%|██████████| 211/211 [00:05<00:00, 36.08it/s, loss=0.3964]\n",
      "Epoch 12/100 [Validation]: 100%|██████████| 24/24 [00:00<00:00, 36.91it/s]\n"
     ]
    },
    {
     "name": "stdout",
     "output_type": "stream",
     "text": [
      "Epoch [12/100] - \n",
      "Train Loss: 0.3414, Train Accuracy: 88.95%, \n",
      "Validation Loss: 0.3758, Validation Accuracy: 86.29%\n",
      "\n"
     ]
    },
    {
     "name": "stderr",
     "output_type": "stream",
     "text": [
      "Epoch 13/100 [Training]: 100%|██████████| 211/211 [00:05<00:00, 36.48it/s, loss=0.3921]\n",
      "Epoch 13/100 [Validation]: 100%|██████████| 24/24 [00:00<00:00, 38.72it/s]\n"
     ]
    },
    {
     "name": "stdout",
     "output_type": "stream",
     "text": [
      "Epoch [13/100] - \n",
      "Train Loss: 0.3321, Train Accuracy: 89.42%, \n",
      "Validation Loss: 0.3494, Validation Accuracy: 87.95%\n",
      "\n"
     ]
    },
    {
     "name": "stderr",
     "output_type": "stream",
     "text": [
      "Epoch 14/100 [Training]: 100%|██████████| 211/211 [00:05<00:00, 36.44it/s, loss=0.3092]\n",
      "Epoch 14/100 [Validation]: 100%|██████████| 24/24 [00:00<00:00, 38.14it/s]\n"
     ]
    },
    {
     "name": "stdout",
     "output_type": "stream",
     "text": [
      "Epoch [14/100] - \n",
      "Train Loss: 0.3240, Train Accuracy: 89.69%, \n",
      "Validation Loss: 0.3603, Validation Accuracy: 86.96%\n",
      "\n"
     ]
    },
    {
     "name": "stderr",
     "output_type": "stream",
     "text": [
      "Epoch 15/100 [Training]: 100%|██████████| 211/211 [00:05<00:00, 35.79it/s, loss=0.3066]\n",
      "Epoch 15/100 [Validation]: 100%|██████████| 24/24 [00:00<00:00, 34.74it/s]\n"
     ]
    },
    {
     "name": "stdout",
     "output_type": "stream",
     "text": [
      "Epoch [15/100] - \n",
      "Train Loss: 0.3181, Train Accuracy: 89.93%, \n",
      "Validation Loss: 0.3760, Validation Accuracy: 85.32%\n",
      "\n"
     ]
    },
    {
     "name": "stderr",
     "output_type": "stream",
     "text": [
      "Epoch 16/100 [Training]: 100%|██████████| 211/211 [00:06<00:00, 31.13it/s, loss=0.3348]\n",
      "Epoch 16/100 [Validation]: 100%|██████████| 24/24 [00:00<00:00, 33.15it/s]\n"
     ]
    },
    {
     "name": "stdout",
     "output_type": "stream",
     "text": [
      "Epoch [16/100] - \n",
      "Train Loss: 0.3141, Train Accuracy: 90.08%, \n",
      "Validation Loss: 0.3950, Validation Accuracy: 84.30%\n",
      "\n"
     ]
    },
    {
     "name": "stderr",
     "output_type": "stream",
     "text": [
      "Epoch 17/100 [Training]: 100%|██████████| 211/211 [00:06<00:00, 31.48it/s, loss=0.2951]\n",
      "Epoch 17/100 [Validation]: 100%|██████████| 24/24 [00:00<00:00, 32.40it/s]\n"
     ]
    },
    {
     "name": "stdout",
     "output_type": "stream",
     "text": [
      "Epoch [17/100] - \n",
      "Train Loss: 0.3068, Train Accuracy: 90.39%, \n",
      "Validation Loss: 0.3390, Validation Accuracy: 87.98%\n",
      "\n"
     ]
    },
    {
     "name": "stderr",
     "output_type": "stream",
     "text": [
      "Epoch 18/100 [Training]: 100%|██████████| 211/211 [00:06<00:00, 33.87it/s, loss=0.3537]\n",
      "Epoch 18/100 [Validation]: 100%|██████████| 24/24 [00:00<00:00, 37.20it/s]\n"
     ]
    },
    {
     "name": "stdout",
     "output_type": "stream",
     "text": [
      "Epoch [18/100] - \n",
      "Train Loss: 0.3038, Train Accuracy: 90.49%, \n",
      "Validation Loss: 0.3188, Validation Accuracy: 89.24%\n",
      "\n"
     ]
    },
    {
     "name": "stderr",
     "output_type": "stream",
     "text": [
      "Epoch 19/100 [Training]: 100%|██████████| 211/211 [00:06<00:00, 33.60it/s, loss=0.2947]\n",
      "Epoch 19/100 [Validation]: 100%|██████████| 24/24 [00:00<00:00, 35.30it/s]\n"
     ]
    },
    {
     "name": "stdout",
     "output_type": "stream",
     "text": [
      "Epoch [19/100] - \n",
      "Train Loss: 0.2997, Train Accuracy: 90.59%, \n",
      "Validation Loss: 0.3285, Validation Accuracy: 88.63%\n",
      "\n"
     ]
    },
    {
     "name": "stderr",
     "output_type": "stream",
     "text": [
      "Epoch 20/100 [Training]: 100%|██████████| 211/211 [00:06<00:00, 34.15it/s, loss=0.2630]\n",
      "Epoch 20/100 [Validation]: 100%|██████████| 24/24 [00:00<00:00, 35.37it/s]\n"
     ]
    },
    {
     "name": "stdout",
     "output_type": "stream",
     "text": [
      "Epoch [20/100] - \n",
      "Train Loss: 0.2965, Train Accuracy: 90.73%, \n",
      "Validation Loss: 0.3082, Validation Accuracy: 90.17%\n",
      "\n"
     ]
    },
    {
     "name": "stderr",
     "output_type": "stream",
     "text": [
      "Epoch 21/100 [Training]: 100%|██████████| 211/211 [00:06<00:00, 33.60it/s, loss=0.2818]\n",
      "Epoch 21/100 [Validation]: 100%|██████████| 24/24 [00:00<00:00, 33.90it/s]\n"
     ]
    },
    {
     "name": "stdout",
     "output_type": "stream",
     "text": [
      "Epoch [21/100] - \n",
      "Train Loss: 0.2923, Train Accuracy: 90.87%, \n",
      "Validation Loss: 0.3246, Validation Accuracy: 88.53%\n",
      "\n"
     ]
    },
    {
     "name": "stderr",
     "output_type": "stream",
     "text": [
      "Epoch 22/100 [Training]: 100%|██████████| 211/211 [00:06<00:00, 34.27it/s, loss=0.2479]\n",
      "Epoch 22/100 [Validation]: 100%|██████████| 24/24 [00:00<00:00, 34.85it/s]\n"
     ]
    },
    {
     "name": "stdout",
     "output_type": "stream",
     "text": [
      "Epoch [22/100] - \n",
      "Train Loss: 0.2889, Train Accuracy: 91.05%, \n",
      "Validation Loss: 0.3184, Validation Accuracy: 89.23%\n",
      "\n"
     ]
    },
    {
     "name": "stderr",
     "output_type": "stream",
     "text": [
      "Epoch 23/100 [Training]: 100%|██████████| 211/211 [00:06<00:00, 35.07it/s, loss=0.2280]\n",
      "Epoch 23/100 [Validation]: 100%|██████████| 24/24 [00:00<00:00, 33.68it/s]\n"
     ]
    },
    {
     "name": "stdout",
     "output_type": "stream",
     "text": [
      "Epoch [23/100] - \n",
      "Train Loss: 0.2853, Train Accuracy: 91.24%, \n",
      "Validation Loss: 0.3429, Validation Accuracy: 87.15%\n",
      "\n"
     ]
    },
    {
     "name": "stderr",
     "output_type": "stream",
     "text": [
      "Epoch 24/100 [Training]: 100%|██████████| 211/211 [00:06<00:00, 34.33it/s, loss=0.2906]\n",
      "Epoch 24/100 [Validation]: 100%|██████████| 24/24 [00:00<00:00, 34.54it/s]\n"
     ]
    },
    {
     "name": "stdout",
     "output_type": "stream",
     "text": [
      "Epoch [24/100] - \n",
      "Train Loss: 0.2839, Train Accuracy: 91.25%, \n",
      "Validation Loss: 0.3315, Validation Accuracy: 87.78%\n",
      "\n"
     ]
    },
    {
     "name": "stderr",
     "output_type": "stream",
     "text": [
      "Epoch 25/100 [Training]: 100%|██████████| 211/211 [00:06<00:00, 33.60it/s, loss=0.2577]\n",
      "Epoch 25/100 [Validation]: 100%|██████████| 24/24 [00:00<00:00, 32.66it/s]\n"
     ]
    },
    {
     "name": "stdout",
     "output_type": "stream",
     "text": [
      "Epoch [25/100] - \n",
      "Train Loss: 0.2817, Train Accuracy: 91.26%, \n",
      "Validation Loss: 0.3074, Validation Accuracy: 89.74%\n",
      "\n"
     ]
    },
    {
     "name": "stderr",
     "output_type": "stream",
     "text": [
      "Epoch 26/100 [Training]: 100%|██████████| 211/211 [00:06<00:00, 33.83it/s, loss=0.3173]\n",
      "Epoch 26/100 [Validation]: 100%|██████████| 24/24 [00:00<00:00, 34.79it/s]\n"
     ]
    },
    {
     "name": "stdout",
     "output_type": "stream",
     "text": [
      "Epoch [26/100] - \n",
      "Train Loss: 0.2787, Train Accuracy: 91.42%, \n",
      "Validation Loss: 0.4594, Validation Accuracy: 79.50%\n",
      "\n"
     ]
    },
    {
     "name": "stderr",
     "output_type": "stream",
     "text": [
      "Epoch 27/100 [Training]: 100%|██████████| 211/211 [00:06<00:00, 34.22it/s, loss=0.2032]\n",
      "Epoch 27/100 [Validation]: 100%|██████████| 24/24 [00:00<00:00, 31.72it/s]\n"
     ]
    },
    {
     "name": "stdout",
     "output_type": "stream",
     "text": [
      "Epoch [27/100] - \n",
      "Train Loss: 0.2770, Train Accuracy: 91.47%, \n",
      "Validation Loss: 0.3421, Validation Accuracy: 87.11%\n",
      "\n"
     ]
    },
    {
     "name": "stderr",
     "output_type": "stream",
     "text": [
      "Epoch 28/100 [Training]: 100%|██████████| 211/211 [00:06<00:00, 33.86it/s, loss=0.2204]\n",
      "Epoch 28/100 [Validation]: 100%|██████████| 24/24 [00:00<00:00, 36.24it/s]\n"
     ]
    },
    {
     "name": "stdout",
     "output_type": "stream",
     "text": [
      "Epoch [28/100] - \n",
      "Train Loss: 0.2750, Train Accuracy: 91.53%, \n",
      "Validation Loss: 0.2849, Validation Accuracy: 90.93%\n",
      "\n"
     ]
    },
    {
     "name": "stderr",
     "output_type": "stream",
     "text": [
      "Epoch 29/100 [Training]: 100%|██████████| 211/211 [00:06<00:00, 34.90it/s, loss=0.2184]\n",
      "Epoch 29/100 [Validation]: 100%|██████████| 24/24 [00:00<00:00, 33.44it/s]\n"
     ]
    },
    {
     "name": "stdout",
     "output_type": "stream",
     "text": [
      "Epoch [29/100] - \n",
      "Train Loss: 0.2719, Train Accuracy: 91.66%, \n",
      "Validation Loss: 0.3082, Validation Accuracy: 89.30%\n",
      "\n"
     ]
    },
    {
     "name": "stderr",
     "output_type": "stream",
     "text": [
      "Epoch 30/100 [Training]: 100%|██████████| 211/211 [00:06<00:00, 34.97it/s, loss=0.2777]\n",
      "Epoch 30/100 [Validation]: 100%|██████████| 24/24 [00:00<00:00, 32.42it/s]\n"
     ]
    },
    {
     "name": "stdout",
     "output_type": "stream",
     "text": [
      "Epoch [30/100] - \n",
      "Train Loss: 0.2711, Train Accuracy: 91.72%, \n",
      "Validation Loss: 0.2835, Validation Accuracy: 90.96%\n",
      "\n"
     ]
    },
    {
     "name": "stderr",
     "output_type": "stream",
     "text": [
      "Epoch 31/100 [Training]: 100%|██████████| 211/211 [00:06<00:00, 34.10it/s, loss=0.2679]\n",
      "Epoch 31/100 [Validation]: 100%|██████████| 24/24 [00:00<00:00, 35.14it/s]\n"
     ]
    },
    {
     "name": "stdout",
     "output_type": "stream",
     "text": [
      "Epoch [31/100] - \n",
      "Train Loss: 0.2694, Train Accuracy: 91.77%, \n",
      "Validation Loss: 0.2880, Validation Accuracy: 90.93%\n",
      "\n"
     ]
    },
    {
     "name": "stderr",
     "output_type": "stream",
     "text": [
      "Epoch 32/100 [Training]: 100%|██████████| 211/211 [00:06<00:00, 33.90it/s, loss=0.2437]\n",
      "Epoch 32/100 [Validation]: 100%|██████████| 24/24 [00:00<00:00, 35.52it/s]\n"
     ]
    },
    {
     "name": "stdout",
     "output_type": "stream",
     "text": [
      "Epoch [32/100] - \n",
      "Train Loss: 0.2685, Train Accuracy: 91.78%, \n",
      "Validation Loss: 0.2958, Validation Accuracy: 89.87%\n",
      "\n"
     ]
    },
    {
     "name": "stderr",
     "output_type": "stream",
     "text": [
      "Epoch 33/100 [Training]: 100%|██████████| 211/211 [00:06<00:00, 34.91it/s, loss=0.3120]\n",
      "Epoch 33/100 [Validation]: 100%|██████████| 24/24 [00:00<00:00, 37.49it/s]\n"
     ]
    },
    {
     "name": "stdout",
     "output_type": "stream",
     "text": [
      "Epoch [33/100] - \n",
      "Train Loss: 0.2659, Train Accuracy: 91.92%, \n",
      "Validation Loss: 0.3771, Validation Accuracy: 84.38%\n",
      "\n"
     ]
    },
    {
     "name": "stderr",
     "output_type": "stream",
     "text": [
      "Epoch 34/100 [Training]: 100%|██████████| 211/211 [00:06<00:00, 33.60it/s, loss=0.2769]\n",
      "Epoch 34/100 [Validation]: 100%|██████████| 24/24 [00:00<00:00, 35.13it/s]\n"
     ]
    },
    {
     "name": "stdout",
     "output_type": "stream",
     "text": [
      "Epoch [34/100] - \n",
      "Train Loss: 0.2652, Train Accuracy: 91.87%, \n",
      "Validation Loss: 0.3004, Validation Accuracy: 89.90%\n",
      "\n"
     ]
    },
    {
     "name": "stderr",
     "output_type": "stream",
     "text": [
      "Epoch 35/100 [Training]: 100%|██████████| 211/211 [00:06<00:00, 34.34it/s, loss=0.2429]\n",
      "Epoch 35/100 [Validation]: 100%|██████████| 24/24 [00:00<00:00, 36.42it/s]\n"
     ]
    },
    {
     "name": "stdout",
     "output_type": "stream",
     "text": [
      "Epoch [35/100] - \n",
      "Train Loss: 0.2637, Train Accuracy: 92.01%, \n",
      "Validation Loss: 0.3447, Validation Accuracy: 86.53%\n",
      "\n"
     ]
    },
    {
     "name": "stderr",
     "output_type": "stream",
     "text": [
      "Epoch 36/100 [Training]: 100%|██████████| 211/211 [00:06<00:00, 35.09it/s, loss=0.2298]\n",
      "Epoch 36/100 [Validation]: 100%|██████████| 24/24 [00:00<00:00, 34.17it/s]\n"
     ]
    },
    {
     "name": "stdout",
     "output_type": "stream",
     "text": [
      "Epoch [36/100] - \n",
      "Train Loss: 0.2633, Train Accuracy: 91.99%, \n",
      "Validation Loss: 0.3343, Validation Accuracy: 87.36%\n",
      "\n"
     ]
    },
    {
     "name": "stderr",
     "output_type": "stream",
     "text": [
      "Epoch 37/100 [Training]: 100%|██████████| 211/211 [00:06<00:00, 34.71it/s, loss=0.2786]\n",
      "Epoch 37/100 [Validation]: 100%|██████████| 24/24 [00:00<00:00, 35.00it/s]\n"
     ]
    },
    {
     "name": "stdout",
     "output_type": "stream",
     "text": [
      "Epoch [37/100] - \n",
      "Train Loss: 0.2610, Train Accuracy: 92.10%, \n",
      "Validation Loss: 0.2936, Validation Accuracy: 90.61%\n",
      "\n"
     ]
    },
    {
     "name": "stderr",
     "output_type": "stream",
     "text": [
      "Epoch 38/100 [Training]: 100%|██████████| 211/211 [00:06<00:00, 34.40it/s, loss=0.2669]\n",
      "Epoch 38/100 [Validation]: 100%|██████████| 24/24 [00:00<00:00, 34.42it/s]\n"
     ]
    },
    {
     "name": "stdout",
     "output_type": "stream",
     "text": [
      "Epoch [38/100] - \n",
      "Train Loss: 0.2613, Train Accuracy: 92.07%, \n",
      "Validation Loss: 0.3111, Validation Accuracy: 89.80%\n",
      "\n"
     ]
    },
    {
     "name": "stderr",
     "output_type": "stream",
     "text": [
      "Epoch 39/100 [Training]: 100%|██████████| 211/211 [00:06<00:00, 34.30it/s, loss=0.2915]\n",
      "Epoch 39/100 [Validation]: 100%|██████████| 24/24 [00:00<00:00, 33.81it/s]\n"
     ]
    },
    {
     "name": "stdout",
     "output_type": "stream",
     "text": [
      "Epoch [39/100] - \n",
      "Train Loss: 0.2589, Train Accuracy: 92.18%, \n",
      "Validation Loss: 0.2847, Validation Accuracy: 90.49%\n",
      "\n"
     ]
    },
    {
     "name": "stderr",
     "output_type": "stream",
     "text": [
      "Epoch 40/100 [Training]: 100%|██████████| 211/211 [00:06<00:00, 32.45it/s, loss=0.2085]\n",
      "Epoch 40/100 [Validation]: 100%|██████████| 24/24 [00:00<00:00, 34.07it/s]\n"
     ]
    },
    {
     "name": "stdout",
     "output_type": "stream",
     "text": [
      "Epoch [40/100] - \n",
      "Train Loss: 0.2591, Train Accuracy: 92.14%, \n",
      "Validation Loss: 0.3676, Validation Accuracy: 85.18%\n",
      "\n"
     ]
    },
    {
     "name": "stderr",
     "output_type": "stream",
     "text": [
      "Epoch 41/100 [Training]: 100%|██████████| 211/211 [00:06<00:00, 31.20it/s, loss=0.2270]\n",
      "Epoch 41/100 [Validation]: 100%|██████████| 24/24 [00:00<00:00, 33.68it/s]\n"
     ]
    },
    {
     "name": "stdout",
     "output_type": "stream",
     "text": [
      "Epoch [41/100] - \n",
      "Train Loss: 0.2579, Train Accuracy: 92.24%, \n",
      "Validation Loss: 0.2889, Validation Accuracy: 90.03%\n",
      "\n"
     ]
    },
    {
     "name": "stderr",
     "output_type": "stream",
     "text": [
      "Epoch 42/100 [Training]: 100%|██████████| 211/211 [00:06<00:00, 33.25it/s, loss=0.2089]\n",
      "Epoch 42/100 [Validation]: 100%|██████████| 24/24 [00:00<00:00, 34.08it/s]\n"
     ]
    },
    {
     "name": "stdout",
     "output_type": "stream",
     "text": [
      "Epoch [42/100] - \n",
      "Train Loss: 0.2566, Train Accuracy: 92.24%, \n",
      "Validation Loss: 0.2749, Validation Accuracy: 90.98%\n",
      "\n"
     ]
    },
    {
     "name": "stderr",
     "output_type": "stream",
     "text": [
      "Epoch 43/100 [Training]: 100%|██████████| 211/211 [00:06<00:00, 32.09it/s, loss=0.2020]\n",
      "Epoch 43/100 [Validation]: 100%|██████████| 24/24 [00:00<00:00, 33.52it/s]\n"
     ]
    },
    {
     "name": "stdout",
     "output_type": "stream",
     "text": [
      "Epoch [43/100] - \n",
      "Train Loss: 0.2552, Train Accuracy: 92.39%, \n",
      "Validation Loss: 0.2804, Validation Accuracy: 90.67%\n",
      "\n"
     ]
    },
    {
     "name": "stderr",
     "output_type": "stream",
     "text": [
      "Epoch 44/100 [Training]: 100%|██████████| 211/211 [00:06<00:00, 31.92it/s, loss=0.2325]\n",
      "Epoch 44/100 [Validation]: 100%|██████████| 24/24 [00:00<00:00, 34.06it/s]\n"
     ]
    },
    {
     "name": "stdout",
     "output_type": "stream",
     "text": [
      "Epoch [44/100] - \n",
      "Train Loss: 0.2543, Train Accuracy: 92.40%, \n",
      "Validation Loss: 0.3662, Validation Accuracy: 85.44%\n",
      "\n"
     ]
    },
    {
     "name": "stderr",
     "output_type": "stream",
     "text": [
      "Epoch 45/100 [Training]: 100%|██████████| 211/211 [00:06<00:00, 32.26it/s, loss=0.2489]\n",
      "Epoch 45/100 [Validation]: 100%|██████████| 24/24 [00:00<00:00, 35.99it/s]\n"
     ]
    },
    {
     "name": "stdout",
     "output_type": "stream",
     "text": [
      "Epoch [45/100] - \n",
      "Train Loss: 0.2539, Train Accuracy: 92.36%, \n",
      "Validation Loss: 0.3776, Validation Accuracy: 84.63%\n",
      "\n"
     ]
    },
    {
     "name": "stderr",
     "output_type": "stream",
     "text": [
      "Epoch 46/100 [Training]: 100%|██████████| 211/211 [00:06<00:00, 34.20it/s, loss=0.2679]\n",
      "Epoch 46/100 [Validation]: 100%|██████████| 24/24 [00:00<00:00, 34.96it/s]\n"
     ]
    },
    {
     "name": "stdout",
     "output_type": "stream",
     "text": [
      "Epoch [46/100] - \n",
      "Train Loss: 0.2533, Train Accuracy: 92.44%, \n",
      "Validation Loss: 0.3229, Validation Accuracy: 87.88%\n",
      "\n"
     ]
    },
    {
     "name": "stderr",
     "output_type": "stream",
     "text": [
      "Epoch 47/100 [Training]: 100%|██████████| 211/211 [00:06<00:00, 33.19it/s, loss=0.2717]\n",
      "Epoch 47/100 [Validation]: 100%|██████████| 24/24 [00:00<00:00, 35.22it/s]\n"
     ]
    },
    {
     "name": "stdout",
     "output_type": "stream",
     "text": [
      "Epoch [47/100] - \n",
      "Train Loss: 0.2538, Train Accuracy: 92.38%, \n",
      "Validation Loss: 0.3618, Validation Accuracy: 85.70%\n",
      "\n"
     ]
    },
    {
     "name": "stderr",
     "output_type": "stream",
     "text": [
      "Epoch 48/100 [Training]: 100%|██████████| 211/211 [00:06<00:00, 33.68it/s, loss=0.2467]\n",
      "Epoch 48/100 [Validation]: 100%|██████████| 24/24 [00:00<00:00, 34.82it/s]\n"
     ]
    },
    {
     "name": "stdout",
     "output_type": "stream",
     "text": [
      "Epoch [48/100] - \n",
      "Train Loss: 0.2527, Train Accuracy: 92.36%, \n",
      "Validation Loss: 0.2723, Validation Accuracy: 91.29%\n",
      "\n"
     ]
    },
    {
     "name": "stderr",
     "output_type": "stream",
     "text": [
      "Epoch 49/100 [Training]: 100%|██████████| 211/211 [00:06<00:00, 34.48it/s, loss=0.2555]\n",
      "Epoch 49/100 [Validation]: 100%|██████████| 24/24 [00:00<00:00, 37.92it/s]\n"
     ]
    },
    {
     "name": "stdout",
     "output_type": "stream",
     "text": [
      "Epoch [49/100] - \n",
      "Train Loss: 0.2517, Train Accuracy: 92.45%, \n",
      "Validation Loss: 0.2819, Validation Accuracy: 90.63%\n",
      "\n"
     ]
    },
    {
     "name": "stderr",
     "output_type": "stream",
     "text": [
      "Epoch 50/100 [Training]: 100%|██████████| 211/211 [00:06<00:00, 34.67it/s, loss=0.2915]\n",
      "Epoch 50/100 [Validation]: 100%|██████████| 24/24 [00:00<00:00, 33.97it/s]\n"
     ]
    },
    {
     "name": "stdout",
     "output_type": "stream",
     "text": [
      "Epoch [50/100] - \n",
      "Train Loss: 0.2495, Train Accuracy: 92.62%, \n",
      "Validation Loss: 0.2957, Validation Accuracy: 89.55%\n",
      "\n"
     ]
    },
    {
     "name": "stderr",
     "output_type": "stream",
     "text": [
      "Epoch 51/100 [Training]: 100%|██████████| 211/211 [00:06<00:00, 34.58it/s, loss=0.1972]\n",
      "Epoch 51/100 [Validation]: 100%|██████████| 24/24 [00:00<00:00, 35.65it/s]\n"
     ]
    },
    {
     "name": "stdout",
     "output_type": "stream",
     "text": [
      "Epoch [51/100] - \n",
      "Train Loss: 0.2419, Train Accuracy: 92.96%, \n",
      "Validation Loss: 0.3014, Validation Accuracy: 88.94%\n",
      "\n"
     ]
    },
    {
     "name": "stderr",
     "output_type": "stream",
     "text": [
      "Epoch 52/100 [Training]: 100%|██████████| 211/211 [00:06<00:00, 34.41it/s, loss=0.2508]\n",
      "Epoch 52/100 [Validation]: 100%|██████████| 24/24 [00:00<00:00, 33.73it/s]\n"
     ]
    },
    {
     "name": "stdout",
     "output_type": "stream",
     "text": [
      "Epoch [52/100] - \n",
      "Train Loss: 0.2417, Train Accuracy: 92.99%, \n",
      "Validation Loss: 0.2683, Validation Accuracy: 91.32%\n",
      "\n"
     ]
    },
    {
     "name": "stderr",
     "output_type": "stream",
     "text": [
      "Epoch 53/100 [Training]: 100%|██████████| 211/211 [00:05<00:00, 35.27it/s, loss=0.2671]\n",
      "Epoch 53/100 [Validation]: 100%|██████████| 24/24 [00:00<00:00, 35.55it/s]\n"
     ]
    },
    {
     "name": "stdout",
     "output_type": "stream",
     "text": [
      "Epoch [53/100] - \n",
      "Train Loss: 0.2415, Train Accuracy: 92.98%, \n",
      "Validation Loss: 0.2603, Validation Accuracy: 91.73%\n",
      "\n"
     ]
    },
    {
     "name": "stderr",
     "output_type": "stream",
     "text": [
      "Epoch 54/100 [Training]: 100%|██████████| 211/211 [00:06<00:00, 34.22it/s, loss=0.2305]\n",
      "Epoch 54/100 [Validation]: 100%|██████████| 24/24 [00:00<00:00, 35.03it/s]\n"
     ]
    },
    {
     "name": "stdout",
     "output_type": "stream",
     "text": [
      "Epoch [54/100] - \n",
      "Train Loss: 0.2414, Train Accuracy: 92.99%, \n",
      "Validation Loss: 0.2604, Validation Accuracy: 91.72%\n",
      "\n"
     ]
    },
    {
     "name": "stderr",
     "output_type": "stream",
     "text": [
      "Epoch 55/100 [Training]: 100%|██████████| 211/211 [00:06<00:00, 34.82it/s, loss=0.2731]\n",
      "Epoch 55/100 [Validation]: 100%|██████████| 24/24 [00:00<00:00, 33.56it/s]\n"
     ]
    },
    {
     "name": "stdout",
     "output_type": "stream",
     "text": [
      "Epoch [55/100] - \n",
      "Train Loss: 0.2415, Train Accuracy: 92.96%, \n",
      "Validation Loss: 0.2717, Validation Accuracy: 91.41%\n",
      "\n"
     ]
    },
    {
     "name": "stderr",
     "output_type": "stream",
     "text": [
      "Epoch 56/100 [Training]: 100%|██████████| 211/211 [00:06<00:00, 32.87it/s, loss=0.2249]\n",
      "Epoch 56/100 [Validation]: 100%|██████████| 24/24 [00:00<00:00, 33.49it/s]\n"
     ]
    },
    {
     "name": "stdout",
     "output_type": "stream",
     "text": [
      "Epoch [56/100] - \n",
      "Train Loss: 0.2404, Train Accuracy: 93.02%, \n",
      "Validation Loss: 0.2668, Validation Accuracy: 91.21%\n",
      "\n"
     ]
    },
    {
     "name": "stderr",
     "output_type": "stream",
     "text": [
      "Epoch 57/100 [Training]: 100%|██████████| 211/211 [00:06<00:00, 33.45it/s, loss=0.2259]\n",
      "Epoch 57/100 [Validation]: 100%|██████████| 24/24 [00:00<00:00, 32.21it/s]\n"
     ]
    },
    {
     "name": "stdout",
     "output_type": "stream",
     "text": [
      "Epoch [57/100] - \n",
      "Train Loss: 0.2407, Train Accuracy: 93.00%, \n",
      "Validation Loss: 0.2668, Validation Accuracy: 91.23%\n",
      "\n"
     ]
    },
    {
     "name": "stderr",
     "output_type": "stream",
     "text": [
      "Epoch 58/100 [Training]: 100%|██████████| 211/211 [00:06<00:00, 33.22it/s, loss=0.2201]\n",
      "Epoch 58/100 [Validation]: 100%|██████████| 24/24 [00:00<00:00, 36.32it/s]\n"
     ]
    },
    {
     "name": "stdout",
     "output_type": "stream",
     "text": [
      "Epoch [58/100] - \n",
      "Train Loss: 0.2401, Train Accuracy: 92.99%, \n",
      "Validation Loss: 0.2712, Validation Accuracy: 91.11%\n",
      "\n"
     ]
    },
    {
     "name": "stderr",
     "output_type": "stream",
     "text": [
      "Epoch 59/100 [Training]: 100%|██████████| 211/211 [00:06<00:00, 34.27it/s, loss=0.2791]\n",
      "Epoch 59/100 [Validation]: 100%|██████████| 24/24 [00:00<00:00, 32.92it/s]\n"
     ]
    },
    {
     "name": "stdout",
     "output_type": "stream",
     "text": [
      "Epoch [59/100] - \n",
      "Train Loss: 0.2397, Train Accuracy: 93.03%, \n",
      "Validation Loss: 0.2681, Validation Accuracy: 91.18%\n",
      "\n"
     ]
    },
    {
     "name": "stderr",
     "output_type": "stream",
     "text": [
      "Epoch 60/100 [Training]: 100%|██████████| 211/211 [00:06<00:00, 34.54it/s, loss=0.2280]\n",
      "Epoch 60/100 [Validation]: 100%|██████████| 24/24 [00:00<00:00, 35.88it/s]\n"
     ]
    },
    {
     "name": "stdout",
     "output_type": "stream",
     "text": [
      "Epoch [60/100] - \n",
      "Train Loss: 0.2398, Train Accuracy: 93.06%, \n",
      "Validation Loss: 0.3497, Validation Accuracy: 86.06%\n",
      "\n"
     ]
    },
    {
     "name": "stderr",
     "output_type": "stream",
     "text": [
      "Epoch 61/100 [Training]: 100%|██████████| 211/211 [00:06<00:00, 33.29it/s, loss=0.2809]\n",
      "Epoch 61/100 [Validation]: 100%|██████████| 24/24 [00:00<00:00, 32.85it/s]\n"
     ]
    },
    {
     "name": "stdout",
     "output_type": "stream",
     "text": [
      "Epoch [61/100] - \n",
      "Train Loss: 0.2395, Train Accuracy: 93.03%, \n",
      "Validation Loss: 0.3007, Validation Accuracy: 88.97%\n",
      "\n"
     ]
    },
    {
     "name": "stderr",
     "output_type": "stream",
     "text": [
      "Epoch 62/100 [Training]: 100%|██████████| 211/211 [00:06<00:00, 34.45it/s, loss=0.2895]\n",
      "Epoch 62/100 [Validation]: 100%|██████████| 24/24 [00:00<00:00, 35.28it/s]\n"
     ]
    },
    {
     "name": "stdout",
     "output_type": "stream",
     "text": [
      "Epoch [62/100] - \n",
      "Train Loss: 0.2393, Train Accuracy: 93.04%, \n",
      "Validation Loss: 0.3251, Validation Accuracy: 87.23%\n",
      "\n"
     ]
    },
    {
     "name": "stderr",
     "output_type": "stream",
     "text": [
      "Epoch 63/100 [Training]: 100%|██████████| 211/211 [00:06<00:00, 33.81it/s, loss=0.2378]\n",
      "Epoch 63/100 [Validation]: 100%|██████████| 24/24 [00:00<00:00, 34.99it/s]\n"
     ]
    },
    {
     "name": "stdout",
     "output_type": "stream",
     "text": [
      "Epoch [63/100] - \n",
      "Train Loss: 0.2384, Train Accuracy: 93.09%, \n",
      "Validation Loss: 0.2631, Validation Accuracy: 91.46%\n",
      "\n"
     ]
    },
    {
     "name": "stderr",
     "output_type": "stream",
     "text": [
      "Epoch 64/100 [Training]: 100%|██████████| 211/211 [00:06<00:00, 34.04it/s, loss=0.1868]\n",
      "Epoch 64/100 [Validation]: 100%|██████████| 24/24 [00:00<00:00, 34.00it/s]\n"
     ]
    },
    {
     "name": "stdout",
     "output_type": "stream",
     "text": [
      "Epoch [64/100] - \n",
      "Train Loss: 0.2379, Train Accuracy: 93.16%, \n",
      "Validation Loss: 0.2694, Validation Accuracy: 91.01%\n",
      "\n"
     ]
    },
    {
     "name": "stderr",
     "output_type": "stream",
     "text": [
      "Epoch 65/100 [Training]: 100%|██████████| 211/211 [00:06<00:00, 34.16it/s, loss=0.2625]\n",
      "Epoch 65/100 [Validation]: 100%|██████████| 24/24 [00:00<00:00, 35.61it/s]\n"
     ]
    },
    {
     "name": "stdout",
     "output_type": "stream",
     "text": [
      "Epoch [65/100] - \n",
      "Train Loss: 0.2376, Train Accuracy: 93.12%, \n",
      "Validation Loss: 0.2762, Validation Accuracy: 90.74%\n",
      "\n"
     ]
    },
    {
     "name": "stderr",
     "output_type": "stream",
     "text": [
      "Epoch 66/100 [Training]: 100%|██████████| 211/211 [00:06<00:00, 34.74it/s, loss=0.2559]\n",
      "Epoch 66/100 [Validation]: 100%|██████████| 24/24 [00:00<00:00, 35.85it/s]\n"
     ]
    },
    {
     "name": "stdout",
     "output_type": "stream",
     "text": [
      "Epoch [66/100] - \n",
      "Train Loss: 0.2375, Train Accuracy: 93.08%, \n",
      "Validation Loss: 0.2668, Validation Accuracy: 91.23%\n",
      "\n"
     ]
    },
    {
     "name": "stderr",
     "output_type": "stream",
     "text": [
      "Epoch 67/100 [Training]: 100%|██████████| 211/211 [00:06<00:00, 34.40it/s, loss=0.1892]\n",
      "Epoch 67/100 [Validation]: 100%|██████████| 24/24 [00:00<00:00, 35.40it/s]\n"
     ]
    },
    {
     "name": "stdout",
     "output_type": "stream",
     "text": [
      "Epoch [67/100] - \n",
      "Train Loss: 0.2374, Train Accuracy: 93.12%, \n",
      "Validation Loss: 0.2959, Validation Accuracy: 89.27%\n",
      "\n"
     ]
    },
    {
     "name": "stderr",
     "output_type": "stream",
     "text": [
      "Epoch 68/100 [Training]: 100%|██████████| 211/211 [00:06<00:00, 33.85it/s, loss=0.2343]\n",
      "Epoch 68/100 [Validation]: 100%|██████████| 24/24 [00:00<00:00, 33.62it/s]\n"
     ]
    },
    {
     "name": "stdout",
     "output_type": "stream",
     "text": [
      "Epoch [68/100] - \n",
      "Train Loss: 0.2365, Train Accuracy: 93.15%, \n",
      "Validation Loss: 0.2598, Validation Accuracy: 91.71%\n",
      "\n"
     ]
    },
    {
     "name": "stderr",
     "output_type": "stream",
     "text": [
      "Epoch 69/100 [Training]: 100%|██████████| 211/211 [00:06<00:00, 33.54it/s, loss=0.2245]\n",
      "Epoch 69/100 [Validation]: 100%|██████████| 24/24 [00:00<00:00, 32.51it/s]\n"
     ]
    },
    {
     "name": "stdout",
     "output_type": "stream",
     "text": [
      "Epoch [69/100] - \n",
      "Train Loss: 0.2364, Train Accuracy: 93.17%, \n",
      "Validation Loss: 0.2631, Validation Accuracy: 91.55%\n",
      "\n"
     ]
    },
    {
     "name": "stderr",
     "output_type": "stream",
     "text": [
      "Epoch 70/100 [Training]: 100%|██████████| 211/211 [00:06<00:00, 33.79it/s, loss=0.2982]\n",
      "Epoch 70/100 [Validation]: 100%|██████████| 24/24 [00:00<00:00, 32.05it/s]\n"
     ]
    },
    {
     "name": "stdout",
     "output_type": "stream",
     "text": [
      "Epoch [70/100] - \n",
      "Train Loss: 0.2364, Train Accuracy: 93.17%, \n",
      "Validation Loss: 0.2652, Validation Accuracy: 91.28%\n",
      "\n"
     ]
    },
    {
     "name": "stderr",
     "output_type": "stream",
     "text": [
      "Epoch 71/100 [Training]: 100%|██████████| 211/211 [00:06<00:00, 33.09it/s, loss=0.2386]\n",
      "Epoch 71/100 [Validation]: 100%|██████████| 24/24 [00:00<00:00, 34.30it/s]\n"
     ]
    },
    {
     "name": "stdout",
     "output_type": "stream",
     "text": [
      "Epoch [71/100] - \n",
      "Train Loss: 0.2354, Train Accuracy: 93.20%, \n",
      "Validation Loss: 0.2748, Validation Accuracy: 90.76%\n",
      "\n"
     ]
    },
    {
     "name": "stderr",
     "output_type": "stream",
     "text": [
      "Epoch 72/100 [Training]: 100%|██████████| 211/211 [00:06<00:00, 34.11it/s, loss=0.2491]\n",
      "Epoch 72/100 [Validation]: 100%|██████████| 24/24 [00:00<00:00, 33.14it/s]\n"
     ]
    },
    {
     "name": "stdout",
     "output_type": "stream",
     "text": [
      "Epoch [72/100] - \n",
      "Train Loss: 0.2360, Train Accuracy: 93.20%, \n",
      "Validation Loss: 0.2658, Validation Accuracy: 91.16%\n",
      "\n"
     ]
    },
    {
     "name": "stderr",
     "output_type": "stream",
     "text": [
      "Epoch 73/100 [Training]: 100%|██████████| 211/211 [00:06<00:00, 32.93it/s, loss=0.2756]\n",
      "Epoch 73/100 [Validation]: 100%|██████████| 24/24 [00:00<00:00, 35.12it/s]\n"
     ]
    },
    {
     "name": "stdout",
     "output_type": "stream",
     "text": [
      "Epoch [73/100] - \n",
      "Train Loss: 0.2355, Train Accuracy: 93.21%, \n",
      "Validation Loss: 0.2620, Validation Accuracy: 91.51%\n",
      "\n"
     ]
    },
    {
     "name": "stderr",
     "output_type": "stream",
     "text": [
      "Epoch 74/100 [Training]: 100%|██████████| 211/211 [00:06<00:00, 33.71it/s, loss=0.2271]\n",
      "Epoch 74/100 [Validation]: 100%|██████████| 24/24 [00:00<00:00, 31.67it/s]\n"
     ]
    },
    {
     "name": "stdout",
     "output_type": "stream",
     "text": [
      "Epoch [74/100] - \n",
      "Train Loss: 0.2353, Train Accuracy: 93.20%, \n",
      "Validation Loss: 0.2702, Validation Accuracy: 90.86%\n",
      "\n"
     ]
    },
    {
     "name": "stderr",
     "output_type": "stream",
     "text": [
      "Epoch 75/100 [Training]: 100%|██████████| 211/211 [00:06<00:00, 33.40it/s, loss=0.2834]\n",
      "Epoch 75/100 [Validation]: 100%|██████████| 24/24 [00:00<00:00, 33.99it/s]\n"
     ]
    },
    {
     "name": "stdout",
     "output_type": "stream",
     "text": [
      "Epoch [75/100] - \n",
      "Train Loss: 0.2349, Train Accuracy: 93.27%, \n",
      "Validation Loss: 0.3059, Validation Accuracy: 88.64%\n",
      "\n"
     ]
    },
    {
     "name": "stderr",
     "output_type": "stream",
     "text": [
      "Epoch 76/100 [Training]: 100%|██████████| 211/211 [00:06<00:00, 32.37it/s, loss=0.2729]\n",
      "Epoch 76/100 [Validation]: 100%|██████████| 24/24 [00:00<00:00, 34.44it/s]\n"
     ]
    },
    {
     "name": "stdout",
     "output_type": "stream",
     "text": [
      "Epoch [76/100] - \n",
      "Train Loss: 0.2352, Train Accuracy: 93.22%, \n",
      "Validation Loss: 0.3203, Validation Accuracy: 87.92%\n",
      "\n"
     ]
    },
    {
     "name": "stderr",
     "output_type": "stream",
     "text": [
      "Epoch 77/100 [Training]: 100%|██████████| 211/211 [00:06<00:00, 34.17it/s, loss=0.2833]\n",
      "Epoch 77/100 [Validation]: 100%|██████████| 24/24 [00:00<00:00, 33.11it/s]\n"
     ]
    },
    {
     "name": "stdout",
     "output_type": "stream",
     "text": [
      "Epoch [77/100] - \n",
      "Train Loss: 0.2342, Train Accuracy: 93.27%, \n",
      "Validation Loss: 0.2988, Validation Accuracy: 88.93%\n",
      "\n"
     ]
    },
    {
     "name": "stderr",
     "output_type": "stream",
     "text": [
      "Epoch 78/100 [Training]: 100%|██████████| 211/211 [00:06<00:00, 33.61it/s, loss=0.2406]\n",
      "Epoch 78/100 [Validation]: 100%|██████████| 24/24 [00:00<00:00, 33.76it/s]\n"
     ]
    },
    {
     "name": "stdout",
     "output_type": "stream",
     "text": [
      "Epoch [78/100] - \n",
      "Train Loss: 0.2339, Train Accuracy: 93.29%, \n",
      "Validation Loss: 0.2536, Validation Accuracy: 91.90%\n",
      "\n"
     ]
    },
    {
     "name": "stderr",
     "output_type": "stream",
     "text": [
      "Epoch 79/100 [Training]: 100%|██████████| 211/211 [00:06<00:00, 33.77it/s, loss=0.2122]\n",
      "Epoch 79/100 [Validation]: 100%|██████████| 24/24 [00:00<00:00, 33.67it/s]\n"
     ]
    },
    {
     "name": "stdout",
     "output_type": "stream",
     "text": [
      "Epoch [79/100] - \n",
      "Train Loss: 0.2345, Train Accuracy: 93.28%, \n",
      "Validation Loss: 0.3158, Validation Accuracy: 88.46%\n",
      "\n"
     ]
    },
    {
     "name": "stderr",
     "output_type": "stream",
     "text": [
      "Epoch 80/100 [Training]: 100%|██████████| 211/211 [00:06<00:00, 34.51it/s, loss=0.2368]\n",
      "Epoch 80/100 [Validation]: 100%|██████████| 24/24 [00:00<00:00, 33.57it/s]\n"
     ]
    },
    {
     "name": "stdout",
     "output_type": "stream",
     "text": [
      "Epoch [80/100] - \n",
      "Train Loss: 0.2334, Train Accuracy: 93.32%, \n",
      "Validation Loss: 0.2784, Validation Accuracy: 90.17%\n",
      "\n"
     ]
    },
    {
     "name": "stderr",
     "output_type": "stream",
     "text": [
      "Epoch 81/100 [Training]: 100%|██████████| 211/211 [00:06<00:00, 34.64it/s, loss=0.2273]\n",
      "Epoch 81/100 [Validation]: 100%|██████████| 24/24 [00:00<00:00, 35.86it/s]\n"
     ]
    },
    {
     "name": "stdout",
     "output_type": "stream",
     "text": [
      "Epoch [81/100] - \n",
      "Train Loss: 0.2337, Train Accuracy: 93.26%, \n",
      "Validation Loss: 0.2896, Validation Accuracy: 89.67%\n",
      "\n"
     ]
    },
    {
     "name": "stderr",
     "output_type": "stream",
     "text": [
      "Epoch 82/100 [Training]: 100%|██████████| 211/211 [00:06<00:00, 33.64it/s, loss=0.2433]\n",
      "Epoch 82/100 [Validation]: 100%|██████████| 24/24 [00:00<00:00, 35.65it/s]\n"
     ]
    },
    {
     "name": "stdout",
     "output_type": "stream",
     "text": [
      "Epoch [82/100] - \n",
      "Train Loss: 0.2332, Train Accuracy: 93.30%, \n",
      "Validation Loss: 0.2589, Validation Accuracy: 91.86%\n",
      "\n"
     ]
    },
    {
     "name": "stderr",
     "output_type": "stream",
     "text": [
      "Epoch 83/100 [Training]: 100%|██████████| 211/211 [00:05<00:00, 35.47it/s, loss=0.1807]\n",
      "Epoch 83/100 [Validation]: 100%|██████████| 24/24 [00:00<00:00, 37.23it/s]\n"
     ]
    },
    {
     "name": "stdout",
     "output_type": "stream",
     "text": [
      "Epoch [83/100] - \n",
      "Train Loss: 0.2328, Train Accuracy: 93.31%, \n",
      "Validation Loss: 0.2518, Validation Accuracy: 92.14%\n",
      "\n"
     ]
    },
    {
     "name": "stderr",
     "output_type": "stream",
     "text": [
      "Epoch 84/100 [Training]: 100%|██████████| 211/211 [00:06<00:00, 33.64it/s, loss=0.2448]\n",
      "Epoch 84/100 [Validation]: 100%|██████████| 24/24 [00:00<00:00, 35.44it/s]\n"
     ]
    },
    {
     "name": "stdout",
     "output_type": "stream",
     "text": [
      "Epoch [84/100] - \n",
      "Train Loss: 0.2328, Train Accuracy: 93.29%, \n",
      "Validation Loss: 0.2630, Validation Accuracy: 91.41%\n",
      "\n"
     ]
    },
    {
     "name": "stderr",
     "output_type": "stream",
     "text": [
      "Epoch 85/100 [Training]: 100%|██████████| 211/211 [00:06<00:00, 33.12it/s, loss=0.2524]\n",
      "Epoch 85/100 [Validation]: 100%|██████████| 24/24 [00:00<00:00, 34.70it/s]\n"
     ]
    },
    {
     "name": "stdout",
     "output_type": "stream",
     "text": [
      "Epoch [85/100] - \n",
      "Train Loss: 0.2325, Train Accuracy: 93.33%, \n",
      "Validation Loss: 0.2565, Validation Accuracy: 91.72%\n",
      "\n"
     ]
    },
    {
     "name": "stderr",
     "output_type": "stream",
     "text": [
      "Epoch 86/100 [Training]: 100%|██████████| 211/211 [00:06<00:00, 31.29it/s, loss=0.2551]\n",
      "Epoch 86/100 [Validation]: 100%|██████████| 24/24 [00:00<00:00, 33.92it/s]\n"
     ]
    },
    {
     "name": "stdout",
     "output_type": "stream",
     "text": [
      "Epoch [86/100] - \n",
      "Train Loss: 0.2327, Train Accuracy: 93.31%, \n",
      "Validation Loss: 0.2681, Validation Accuracy: 91.03%\n",
      "\n"
     ]
    },
    {
     "name": "stderr",
     "output_type": "stream",
     "text": [
      "Epoch 87/100 [Training]: 100%|██████████| 211/211 [00:06<00:00, 34.12it/s, loss=0.2737]\n",
      "Epoch 87/100 [Validation]: 100%|██████████| 24/24 [00:00<00:00, 36.81it/s]\n"
     ]
    },
    {
     "name": "stdout",
     "output_type": "stream",
     "text": [
      "Epoch [87/100] - \n",
      "Train Loss: 0.2321, Train Accuracy: 93.37%, \n",
      "Validation Loss: 0.2574, Validation Accuracy: 91.72%\n",
      "\n"
     ]
    },
    {
     "name": "stderr",
     "output_type": "stream",
     "text": [
      "Epoch 88/100 [Training]: 100%|██████████| 211/211 [00:06<00:00, 34.96it/s, loss=0.2084]\n",
      "Epoch 88/100 [Validation]: 100%|██████████| 24/24 [00:00<00:00, 36.97it/s]\n"
     ]
    },
    {
     "name": "stdout",
     "output_type": "stream",
     "text": [
      "Epoch [88/100] - \n",
      "Train Loss: 0.2321, Train Accuracy: 93.33%, \n",
      "Validation Loss: 0.2829, Validation Accuracy: 89.97%\n",
      "\n"
     ]
    },
    {
     "name": "stderr",
     "output_type": "stream",
     "text": [
      "Epoch 89/100 [Training]: 100%|██████████| 211/211 [00:06<00:00, 34.49it/s, loss=0.1799]\n",
      "Epoch 89/100 [Validation]: 100%|██████████| 24/24 [00:00<00:00, 33.74it/s]\n"
     ]
    },
    {
     "name": "stdout",
     "output_type": "stream",
     "text": [
      "Epoch [89/100] - \n",
      "Train Loss: 0.2313, Train Accuracy: 93.40%, \n",
      "Validation Loss: 0.2511, Validation Accuracy: 91.94%\n",
      "\n"
     ]
    },
    {
     "name": "stderr",
     "output_type": "stream",
     "text": [
      "Epoch 90/100 [Training]: 100%|██████████| 211/211 [00:06<00:00, 35.06it/s, loss=0.1911]\n",
      "Epoch 90/100 [Validation]: 100%|██████████| 24/24 [00:00<00:00, 35.68it/s]\n"
     ]
    },
    {
     "name": "stdout",
     "output_type": "stream",
     "text": [
      "Epoch [90/100] - \n",
      "Train Loss: 0.2313, Train Accuracy: 93.37%, \n",
      "Validation Loss: 0.2765, Validation Accuracy: 90.58%\n",
      "\n"
     ]
    },
    {
     "name": "stderr",
     "output_type": "stream",
     "text": [
      "Epoch 91/100 [Training]: 100%|██████████| 211/211 [00:06<00:00, 34.04it/s, loss=0.2264]\n",
      "Epoch 91/100 [Validation]: 100%|██████████| 24/24 [00:00<00:00, 33.07it/s]\n"
     ]
    },
    {
     "name": "stdout",
     "output_type": "stream",
     "text": [
      "Epoch [91/100] - \n",
      "Train Loss: 0.2311, Train Accuracy: 93.43%, \n",
      "Validation Loss: 0.2505, Validation Accuracy: 92.14%\n",
      "\n"
     ]
    },
    {
     "name": "stderr",
     "output_type": "stream",
     "text": [
      "Epoch 92/100 [Training]: 100%|██████████| 211/211 [00:06<00:00, 34.23it/s, loss=0.1979]\n",
      "Epoch 92/100 [Validation]: 100%|██████████| 24/24 [00:00<00:00, 36.04it/s]\n"
     ]
    },
    {
     "name": "stdout",
     "output_type": "stream",
     "text": [
      "Epoch [92/100] - \n",
      "Train Loss: 0.2314, Train Accuracy: 93.36%, \n",
      "Validation Loss: 0.2614, Validation Accuracy: 91.49%\n",
      "\n"
     ]
    },
    {
     "name": "stderr",
     "output_type": "stream",
     "text": [
      "Epoch 93/100 [Training]: 100%|██████████| 211/211 [00:06<00:00, 34.44it/s, loss=0.2161]\n",
      "Epoch 93/100 [Validation]: 100%|██████████| 24/24 [00:00<00:00, 36.32it/s]\n"
     ]
    },
    {
     "name": "stdout",
     "output_type": "stream",
     "text": [
      "Epoch [93/100] - \n",
      "Train Loss: 0.2315, Train Accuracy: 93.37%, \n",
      "Validation Loss: 0.2637, Validation Accuracy: 91.26%\n",
      "\n"
     ]
    },
    {
     "name": "stderr",
     "output_type": "stream",
     "text": [
      "Epoch 94/100 [Training]: 100%|██████████| 211/211 [00:06<00:00, 33.98it/s, loss=0.2810]\n",
      "Epoch 94/100 [Validation]: 100%|██████████| 24/24 [00:00<00:00, 35.45it/s]\n"
     ]
    },
    {
     "name": "stdout",
     "output_type": "stream",
     "text": [
      "Epoch [94/100] - \n",
      "Train Loss: 0.2306, Train Accuracy: 93.42%, \n",
      "Validation Loss: 0.2563, Validation Accuracy: 92.05%\n",
      "\n"
     ]
    },
    {
     "name": "stderr",
     "output_type": "stream",
     "text": [
      "Epoch 95/100 [Training]: 100%|██████████| 211/211 [00:06<00:00, 34.12it/s, loss=0.2209]\n",
      "Epoch 95/100 [Validation]: 100%|██████████| 24/24 [00:00<00:00, 34.65it/s]\n"
     ]
    },
    {
     "name": "stdout",
     "output_type": "stream",
     "text": [
      "Epoch [95/100] - \n",
      "Train Loss: 0.2307, Train Accuracy: 93.41%, \n",
      "Validation Loss: 0.2964, Validation Accuracy: 88.83%\n",
      "\n"
     ]
    },
    {
     "name": "stderr",
     "output_type": "stream",
     "text": [
      "Epoch 96/100 [Training]: 100%|██████████| 211/211 [00:06<00:00, 33.19it/s, loss=0.3254]\n",
      "Epoch 96/100 [Validation]: 100%|██████████| 24/24 [00:00<00:00, 33.81it/s]\n"
     ]
    },
    {
     "name": "stdout",
     "output_type": "stream",
     "text": [
      "Epoch [96/100] - \n",
      "Train Loss: 0.2309, Train Accuracy: 93.39%, \n",
      "Validation Loss: 0.2626, Validation Accuracy: 91.34%\n",
      "\n"
     ]
    },
    {
     "name": "stderr",
     "output_type": "stream",
     "text": [
      "Epoch 97/100 [Training]: 100%|██████████| 211/211 [00:06<00:00, 34.03it/s, loss=0.2241]\n",
      "Epoch 97/100 [Validation]: 100%|██████████| 24/24 [00:00<00:00, 33.19it/s]\n"
     ]
    },
    {
     "name": "stdout",
     "output_type": "stream",
     "text": [
      "Epoch [97/100] - \n",
      "Train Loss: 0.2306, Train Accuracy: 93.43%, \n",
      "Validation Loss: 0.2572, Validation Accuracy: 91.44%\n",
      "\n"
     ]
    },
    {
     "name": "stderr",
     "output_type": "stream",
     "text": [
      "Epoch 98/100 [Training]: 100%|██████████| 211/211 [00:06<00:00, 34.04it/s, loss=0.3192]\n",
      "Epoch 98/100 [Validation]: 100%|██████████| 24/24 [00:00<00:00, 34.24it/s]\n"
     ]
    },
    {
     "name": "stdout",
     "output_type": "stream",
     "text": [
      "Epoch [98/100] - \n",
      "Train Loss: 0.2305, Train Accuracy: 93.40%, \n",
      "Validation Loss: 0.2846, Validation Accuracy: 90.11%\n",
      "\n"
     ]
    },
    {
     "name": "stderr",
     "output_type": "stream",
     "text": [
      "Epoch 99/100 [Training]: 100%|██████████| 211/211 [00:06<00:00, 33.89it/s, loss=0.2415]\n",
      "Epoch 99/100 [Validation]: 100%|██████████| 24/24 [00:00<00:00, 33.91it/s]\n"
     ]
    },
    {
     "name": "stdout",
     "output_type": "stream",
     "text": [
      "Epoch [99/100] - \n",
      "Train Loss: 0.2308, Train Accuracy: 93.38%, \n",
      "Validation Loss: 0.3134, Validation Accuracy: 88.09%\n",
      "\n"
     ]
    },
    {
     "name": "stderr",
     "output_type": "stream",
     "text": [
      "Epoch 100/100 [Training]: 100%|██████████| 211/211 [00:06<00:00, 34.18it/s, loss=0.2821]\n",
      "Epoch 100/100 [Validation]: 100%|██████████| 24/24 [00:00<00:00, 32.44it/s]"
     ]
    },
    {
     "name": "stdout",
     "output_type": "stream",
     "text": [
      "Epoch [100/100] - \n",
      "Train Loss: 0.2303, Train Accuracy: 93.40%, \n",
      "Validation Loss: 0.2469, Validation Accuracy: 92.45%\n",
      "\n"
     ]
    },
    {
     "name": "stderr",
     "output_type": "stream",
     "text": [
      "\n"
     ]
    }
   ],
   "source": [
    "rotnet = ConvNet(num_classes=len(rotations),num_blocks=CONV_BLOCKS).cuda()\n",
    "optimizer = torch.optim.Adam(rotnet.parameters(), lr=0.001,weight_decay=0.001)\n",
    "learning_rate_scheduler = torch.optim.lr_scheduler.StepLR(optimizer, step_size=50, gamma=0.5)\n",
    "\n",
    "train_convnet(rotnet, \n",
    "                 unsupervised_train_loader, \n",
    "                 unsupervised_val_loader,\n",
    "                 nn.CrossEntropyLoss(),\n",
    "                 optimizer,\n",
    "                 learning_rate_scheduler, \n",
    "                 num_epochs=100,\n",
    "                 filename=f'rotnet_{ROTATION_NUMBER}_{CONV_BLOCKS}.pth')\n",
    "\n",
    "    "
   ]
  },
  {
   "cell_type": "code",
   "execution_count": 14,
   "metadata": {},
   "outputs": [
    {
     "name": "stderr",
     "output_type": "stream",
     "text": [
      "/tmp/ipykernel_671032/3641225631.py:2: FutureWarning: You are using `torch.load` with `weights_only=False` (the current default value), which uses the default pickle module implicitly. It is possible to construct malicious pickle data which will execute arbitrary code during unpickling (See https://github.com/pytorch/pytorch/blob/main/SECURITY.md#untrusted-models for more details). In a future release, the default value for `weights_only` will be flipped to `True`. This limits the functions that could be executed during unpickling. Arbitrary objects will no longer be allowed to be loaded via this mode unless they are explicitly allowlisted by the user via `torch.serialization.add_safe_globals`. We recommend you start setting `weights_only=True` for any use case where you don't have full control of the loaded file. Please open an issue on GitHub for any issues related to this experimental feature.\n",
      "  best_model.load_state_dict(torch.load(f'models/rotnet_{ROTATION_NUMBER}_{CONV_BLOCKS}.pth'))\n"
     ]
    },
    {
     "data": {
      "text/plain": [
       "<All keys matched successfully>"
      ]
     },
     "execution_count": 14,
     "metadata": {},
     "output_type": "execute_result"
    }
   ],
   "source": [
    "best_model=ConvNet(num_classes=len(rotations),num_blocks=CONV_BLOCKS).cuda()\n",
    "best_model.load_state_dict(torch.load(f'models/rotnet_{ROTATION_NUMBER}_{CONV_BLOCKS}.pth'))    "
   ]
  },
  {
   "cell_type": "code",
   "execution_count": 15,
   "metadata": {},
   "outputs": [
    {
     "name": "stdout",
     "output_type": "stream",
     "text": [
      "Test Accuracy: 92.45%\n"
     ]
    }
   ],
   "source": [
    "evaluate_classifier(best_model, unsupervised_val_loader)"
   ]
  },
  {
   "cell_type": "markdown",
   "metadata": {},
   "source": [
    "## Transfer Encoder"
   ]
  },
  {
   "cell_type": "markdown",
   "metadata": {},
   "source": [
    "#### Load RotNet model"
   ]
  },
  {
   "cell_type": "code",
   "execution_count": 8,
   "metadata": {},
   "outputs": [
    {
     "name": "stderr",
     "output_type": "stream",
     "text": [
      "/tmp/ipykernel_783749/4161198983.py:2: FutureWarning: You are using `torch.load` with `weights_only=False` (the current default value), which uses the default pickle module implicitly. It is possible to construct malicious pickle data which will execute arbitrary code during unpickling (See https://github.com/pytorch/pytorch/blob/main/SECURITY.md#untrusted-models for more details). In a future release, the default value for `weights_only` will be flipped to `True`. This limits the functions that could be executed during unpickling. Arbitrary objects will no longer be allowed to be loaded via this mode unless they are explicitly allowlisted by the user via `torch.serialization.add_safe_globals`. We recommend you start setting `weights_only=True` for any use case where you don't have full control of the loaded file. Please open an issue on GitHub for any issues related to this experimental feature.\n",
      "  rotnet_model.load_state_dict(torch.load(f'models/rotnet_{ROTATION_NUMBER}_{CONV_BLOCKS}.pth'))\n"
     ]
    }
   ],
   "source": [
    "rotnet_model=ConvNet(num_classes=len(rotations),num_blocks=CONV_BLOCKS).cuda()\n",
    "rotnet_model.load_state_dict(torch.load(f'models/rotnet_{ROTATION_NUMBER}_{CONV_BLOCKS}.pth'))\n",
    "rotnet_model=rotnet_model.cuda()"
   ]
  },
  {
   "cell_type": "markdown",
   "metadata": {},
   "source": [
    "### Create MNIST model"
   ]
  },
  {
   "cell_type": "code",
   "execution_count": 9,
   "metadata": {},
   "outputs": [],
   "source": [
    "MNIST_model = ConvNet(num_classes=10,num_blocks=TRANSFER_LAYERS+1).cuda()"
   ]
  },
  {
   "cell_type": "code",
   "execution_count": 10,
   "metadata": {},
   "outputs": [
    {
     "data": {
      "text/plain": [
       "ConvNet(\n",
       "  (blocks): ModuleList(\n",
       "    (0): Sequential(\n",
       "      (0): Conv2d(1, 32, kernel_size=(3, 3), stride=(1, 1), padding=(1, 1))\n",
       "      (1): BatchNorm2d(32, eps=1e-05, momentum=0.1, affine=True, track_running_stats=True)\n",
       "      (2): ReLU()\n",
       "      (3): MaxPool2d(kernel_size=2, stride=2, padding=0, dilation=1, ceil_mode=False)\n",
       "    )\n",
       "    (1): Sequential(\n",
       "      (0): Conv2d(32, 64, kernel_size=(3, 3), stride=(1, 1), padding=(1, 1))\n",
       "      (1): BatchNorm2d(64, eps=1e-05, momentum=0.1, affine=True, track_running_stats=True)\n",
       "      (2): ReLU()\n",
       "      (3): MaxPool2d(kernel_size=2, stride=2, padding=0, dilation=1, ceil_mode=False)\n",
       "    )\n",
       "  )\n",
       "  (adaptive_pool): AdaptiveAvgPool2d(output_size=1)\n",
       "  (classification_head): Linear(in_features=64, out_features=10, bias=True)\n",
       ")"
      ]
     },
     "execution_count": 10,
     "metadata": {},
     "output_type": "execute_result"
    }
   ],
   "source": [
    "MNIST_model"
   ]
  },
  {
   "cell_type": "markdown",
   "metadata": {},
   "source": [
    "#### Transfer Layers"
   ]
  },
  {
   "cell_type": "code",
   "execution_count": 11,
   "metadata": {},
   "outputs": [
    {
     "name": "stdout",
     "output_type": "stream",
     "text": [
      "Transferred 1 blocks from source model to target model.\n"
     ]
    }
   ],
   "source": [
    "MNIST_model.transfer_layers(rotnet_model, num_transfer_blocks=TRANSFER_LAYERS)"
   ]
  },
  {
   "cell_type": "code",
   "execution_count": 12,
   "metadata": {},
   "outputs": [
    {
     "data": {
      "text/plain": [
       "ConvNet(\n",
       "  (blocks): ModuleList(\n",
       "    (0): Sequential(\n",
       "      (0): Conv2d(1, 32, kernel_size=(3, 3), stride=(1, 1), padding=(1, 1))\n",
       "      (1): BatchNorm2d(32, eps=1e-05, momentum=0.1, affine=True, track_running_stats=True)\n",
       "      (2): ReLU()\n",
       "      (3): MaxPool2d(kernel_size=2, stride=2, padding=0, dilation=1, ceil_mode=False)\n",
       "    )\n",
       "    (1): Sequential(\n",
       "      (0): Conv2d(32, 64, kernel_size=(3, 3), stride=(1, 1), padding=(1, 1))\n",
       "      (1): BatchNorm2d(64, eps=1e-05, momentum=0.1, affine=True, track_running_stats=True)\n",
       "      (2): ReLU()\n",
       "      (3): MaxPool2d(kernel_size=2, stride=2, padding=0, dilation=1, ceil_mode=False)\n",
       "    )\n",
       "  )\n",
       "  (adaptive_pool): AdaptiveAvgPool2d(output_size=1)\n",
       "  (classification_head): Linear(in_features=64, out_features=10, bias=True)\n",
       ")"
      ]
     },
     "execution_count": 12,
     "metadata": {},
     "output_type": "execute_result"
    }
   ],
   "source": [
    "MNIST_model"
   ]
  },
  {
   "cell_type": "code",
   "execution_count": null,
   "metadata": {},
   "outputs": [
    {
     "name": "stdout",
     "output_type": "stream",
     "text": [
      "1\n",
      "Freezing the first 1 layers...\n",
      "[Sequential(\n",
      "  (0): Conv2d(1, 32, kernel_size=(3, 3), stride=(1, 1), padding=(1, 1))\n",
      "  (1): BatchNorm2d(32, eps=1e-05, momentum=0.1, affine=True, track_running_stats=True)\n",
      "  (2): ReLU()\n",
      "  (3): MaxPool2d(kernel_size=2, stride=2, padding=0, dilation=1, ceil_mode=False)\n",
      ")]\n",
      "Freezing Sequential\n"
     ]
    },
    {
     "name": "stderr",
     "output_type": "stream",
     "text": [
      "Epoch 1/500 [Training]: 100%|██████████| 13/13 [00:00<00:00, 30.12it/s, loss=2.0702]\n",
      "Epoch 1/500 [Validation]: 100%|██████████| 1250/1250 [00:01<00:00, 741.45it/s]\n"
     ]
    },
    {
     "name": "stdout",
     "output_type": "stream",
     "text": [
      "Epoch [1/500] - \n",
      "Train Loss: 2.4800, Train Accuracy: 12.00%, \n",
      "Validation Loss: 2.2923, Validation Accuracy: 9.25%\n",
      "\n"
     ]
    },
    {
     "name": "stderr",
     "output_type": "stream",
     "text": [
      "Epoch 2/500 [Training]: 100%|██████████| 13/13 [00:00<00:00, 261.27it/s, loss=2.3661]\n",
      "Epoch 2/500 [Validation]: 100%|██████████| 1250/1250 [00:01<00:00, 854.97it/s]\n"
     ]
    },
    {
     "name": "stdout",
     "output_type": "stream",
     "text": [
      "Epoch [2/500] - \n",
      "Train Loss: 2.2816, Train Accuracy: 12.00%, \n",
      "Validation Loss: 2.2516, Validation Accuracy: 17.44%\n",
      "\n"
     ]
    },
    {
     "name": "stderr",
     "output_type": "stream",
     "text": [
      "Epoch 3/500 [Training]: 100%|██████████| 13/13 [00:00<00:00, 246.81it/s, loss=2.1092]\n",
      "Epoch 3/500 [Validation]: 100%|██████████| 1250/1250 [00:01<00:00, 836.22it/s]\n"
     ]
    },
    {
     "name": "stdout",
     "output_type": "stream",
     "text": [
      "Epoch [3/500] - \n",
      "Train Loss: 2.1774, Train Accuracy: 17.00%, \n",
      "Validation Loss: 2.1757, Validation Accuracy: 18.07%\n",
      "\n"
     ]
    },
    {
     "name": "stderr",
     "output_type": "stream",
     "text": [
      "Epoch 4/500 [Training]: 100%|██████████| 13/13 [00:00<00:00, 256.42it/s, loss=2.0710]\n",
      "Epoch 4/500 [Validation]: 100%|██████████| 1250/1250 [00:01<00:00, 871.93it/s]\n"
     ]
    },
    {
     "name": "stdout",
     "output_type": "stream",
     "text": [
      "Epoch [4/500] - \n",
      "Train Loss: 2.0987, Train Accuracy: 30.00%, \n",
      "Validation Loss: 2.1457, Validation Accuracy: 20.05%\n",
      "\n"
     ]
    },
    {
     "name": "stderr",
     "output_type": "stream",
     "text": [
      "Epoch 5/500 [Training]: 100%|██████████| 13/13 [00:00<00:00, 250.98it/s, loss=1.8289]\n",
      "Epoch 5/500 [Validation]: 100%|██████████| 1250/1250 [00:01<00:00, 823.83it/s]\n"
     ]
    },
    {
     "name": "stdout",
     "output_type": "stream",
     "text": [
      "Epoch [5/500] - \n",
      "Train Loss: 2.0116, Train Accuracy: 27.00%, \n",
      "Validation Loss: 2.0199, Validation Accuracy: 28.37%\n",
      "\n"
     ]
    },
    {
     "name": "stderr",
     "output_type": "stream",
     "text": [
      "Epoch 6/500 [Training]: 100%|██████████| 13/13 [00:00<00:00, 172.77it/s, loss=2.1243]\n",
      "Epoch 6/500 [Validation]: 100%|██████████| 1250/1250 [00:01<00:00, 865.70it/s]\n"
     ]
    },
    {
     "name": "stdout",
     "output_type": "stream",
     "text": [
      "Epoch [6/500] - \n",
      "Train Loss: 1.9127, Train Accuracy: 35.00%, \n",
      "Validation Loss: 1.9556, Validation Accuracy: 31.21%\n",
      "\n"
     ]
    },
    {
     "name": "stderr",
     "output_type": "stream",
     "text": [
      "Epoch 7/500 [Training]: 100%|██████████| 13/13 [00:00<00:00, 260.55it/s, loss=1.6499]\n",
      "Epoch 7/500 [Validation]: 100%|██████████| 1250/1250 [00:01<00:00, 865.97it/s]\n"
     ]
    },
    {
     "name": "stdout",
     "output_type": "stream",
     "text": [
      "Epoch [7/500] - \n",
      "Train Loss: 1.8028, Train Accuracy: 42.00%, \n",
      "Validation Loss: 1.9322, Validation Accuracy: 34.09%\n",
      "\n"
     ]
    },
    {
     "name": "stderr",
     "output_type": "stream",
     "text": [
      "Epoch 8/500 [Training]: 100%|██████████| 13/13 [00:00<00:00, 269.31it/s, loss=2.3147]\n",
      "Epoch 8/500 [Validation]: 100%|██████████| 1250/1250 [00:01<00:00, 842.90it/s]\n"
     ]
    },
    {
     "name": "stdout",
     "output_type": "stream",
     "text": [
      "Epoch [8/500] - \n",
      "Train Loss: 1.7537, Train Accuracy: 45.00%, \n",
      "Validation Loss: 1.8888, Validation Accuracy: 27.02%\n",
      "\n"
     ]
    },
    {
     "name": "stderr",
     "output_type": "stream",
     "text": [
      "Epoch 9/500 [Training]: 100%|██████████| 13/13 [00:00<00:00, 259.24it/s, loss=1.6626]\n",
      "Epoch 9/500 [Validation]: 100%|██████████| 1250/1250 [00:01<00:00, 857.62it/s]\n"
     ]
    },
    {
     "name": "stdout",
     "output_type": "stream",
     "text": [
      "Epoch [9/500] - \n",
      "Train Loss: 1.7332, Train Accuracy: 40.00%, \n",
      "Validation Loss: 2.2850, Validation Accuracy: 20.20%\n",
      "\n"
     ]
    },
    {
     "name": "stderr",
     "output_type": "stream",
     "text": [
      "Epoch 10/500 [Training]: 100%|██████████| 13/13 [00:00<00:00, 264.79it/s, loss=1.1684]\n",
      "Epoch 10/500 [Validation]: 100%|██████████| 1250/1250 [00:01<00:00, 831.87it/s]\n"
     ]
    },
    {
     "name": "stdout",
     "output_type": "stream",
     "text": [
      "Epoch [10/500] - \n",
      "Train Loss: 1.7344, Train Accuracy: 43.00%, \n",
      "Validation Loss: 1.8245, Validation Accuracy: 31.94%\n",
      "\n"
     ]
    },
    {
     "name": "stderr",
     "output_type": "stream",
     "text": [
      "Epoch 11/500 [Training]: 100%|██████████| 13/13 [00:00<00:00, 266.43it/s, loss=1.8857]\n",
      "Epoch 11/500 [Validation]: 100%|██████████| 1250/1250 [00:01<00:00, 855.51it/s]\n"
     ]
    },
    {
     "name": "stdout",
     "output_type": "stream",
     "text": [
      "Epoch [11/500] - \n",
      "Train Loss: 1.6133, Train Accuracy: 51.00%, \n",
      "Validation Loss: 1.7788, Validation Accuracy: 36.26%\n",
      "\n"
     ]
    },
    {
     "name": "stderr",
     "output_type": "stream",
     "text": [
      "Epoch 12/500 [Training]: 100%|██████████| 13/13 [00:00<00:00, 276.56it/s, loss=2.4440]\n",
      "Epoch 12/500 [Validation]: 100%|██████████| 1250/1250 [00:01<00:00, 798.64it/s]\n"
     ]
    },
    {
     "name": "stdout",
     "output_type": "stream",
     "text": [
      "Epoch [12/500] - \n",
      "Train Loss: 1.6529, Train Accuracy: 42.00%, \n",
      "Validation Loss: 1.8509, Validation Accuracy: 29.88%\n",
      "\n"
     ]
    },
    {
     "name": "stderr",
     "output_type": "stream",
     "text": [
      "Epoch 13/500 [Training]: 100%|██████████| 13/13 [00:00<00:00, 281.52it/s, loss=2.0535]\n",
      "Epoch 13/500 [Validation]: 100%|██████████| 1250/1250 [00:01<00:00, 851.55it/s]\n"
     ]
    },
    {
     "name": "stdout",
     "output_type": "stream",
     "text": [
      "Epoch [13/500] - \n",
      "Train Loss: 1.5366, Train Accuracy: 41.00%, \n",
      "Validation Loss: 1.7230, Validation Accuracy: 38.42%\n",
      "\n"
     ]
    },
    {
     "name": "stderr",
     "output_type": "stream",
     "text": [
      "Epoch 14/500 [Training]: 100%|██████████| 13/13 [00:00<00:00, 265.43it/s, loss=1.5923]\n",
      "Epoch 14/500 [Validation]: 100%|██████████| 1250/1250 [00:01<00:00, 829.24it/s]\n"
     ]
    },
    {
     "name": "stdout",
     "output_type": "stream",
     "text": [
      "Epoch [14/500] - \n",
      "Train Loss: 1.4794, Train Accuracy: 51.00%, \n",
      "Validation Loss: 1.6988, Validation Accuracy: 37.38%\n",
      "\n"
     ]
    },
    {
     "name": "stderr",
     "output_type": "stream",
     "text": [
      "Epoch 15/500 [Training]: 100%|██████████| 13/13 [00:00<00:00, 269.03it/s, loss=1.7005]\n",
      "Epoch 15/500 [Validation]: 100%|██████████| 1250/1250 [00:01<00:00, 838.45it/s]\n"
     ]
    },
    {
     "name": "stdout",
     "output_type": "stream",
     "text": [
      "Epoch [15/500] - \n",
      "Train Loss: 1.4928, Train Accuracy: 48.00%, \n",
      "Validation Loss: 1.8496, Validation Accuracy: 34.22%\n",
      "\n"
     ]
    },
    {
     "name": "stderr",
     "output_type": "stream",
     "text": [
      "Epoch 16/500 [Training]: 100%|██████████| 13/13 [00:00<00:00, 251.75it/s, loss=1.7120]\n",
      "Epoch 16/500 [Validation]: 100%|██████████| 1250/1250 [00:01<00:00, 840.24it/s]\n"
     ]
    },
    {
     "name": "stdout",
     "output_type": "stream",
     "text": [
      "Epoch [16/500] - \n",
      "Train Loss: 1.5031, Train Accuracy: 50.00%, \n",
      "Validation Loss: 1.7615, Validation Accuracy: 32.57%\n",
      "\n"
     ]
    },
    {
     "name": "stderr",
     "output_type": "stream",
     "text": [
      "Epoch 17/500 [Training]: 100%|██████████| 13/13 [00:00<00:00, 263.44it/s, loss=1.3672]\n",
      "Epoch 17/500 [Validation]: 100%|██████████| 1250/1250 [00:01<00:00, 857.69it/s]\n"
     ]
    },
    {
     "name": "stdout",
     "output_type": "stream",
     "text": [
      "Epoch [17/500] - \n",
      "Train Loss: 1.4144, Train Accuracy: 52.00%, \n",
      "Validation Loss: 1.6180, Validation Accuracy: 40.89%\n",
      "\n"
     ]
    },
    {
     "name": "stderr",
     "output_type": "stream",
     "text": [
      "Epoch 18/500 [Training]: 100%|██████████| 13/13 [00:00<00:00, 246.11it/s, loss=1.1557]\n",
      "Epoch 18/500 [Validation]: 100%|██████████| 1250/1250 [00:01<00:00, 827.34it/s]\n"
     ]
    },
    {
     "name": "stdout",
     "output_type": "stream",
     "text": [
      "Epoch [18/500] - \n",
      "Train Loss: 1.3641, Train Accuracy: 53.00%, \n",
      "Validation Loss: 2.0653, Validation Accuracy: 26.04%\n",
      "\n"
     ]
    },
    {
     "name": "stderr",
     "output_type": "stream",
     "text": [
      "Epoch 19/500 [Training]: 100%|██████████| 13/13 [00:00<00:00, 268.37it/s, loss=1.6612]\n",
      "Epoch 19/500 [Validation]: 100%|██████████| 1250/1250 [00:01<00:00, 808.91it/s]\n"
     ]
    },
    {
     "name": "stdout",
     "output_type": "stream",
     "text": [
      "Epoch [19/500] - \n",
      "Train Loss: 1.3900, Train Accuracy: 54.00%, \n",
      "Validation Loss: 2.1766, Validation Accuracy: 30.09%\n",
      "\n"
     ]
    },
    {
     "name": "stderr",
     "output_type": "stream",
     "text": [
      "Epoch 20/500 [Training]: 100%|██████████| 13/13 [00:00<00:00, 259.42it/s, loss=1.3373]\n",
      "Epoch 20/500 [Validation]: 100%|██████████| 1250/1250 [00:01<00:00, 846.18it/s]\n"
     ]
    },
    {
     "name": "stdout",
     "output_type": "stream",
     "text": [
      "Epoch [20/500] - \n",
      "Train Loss: 1.2378, Train Accuracy: 59.00%, \n",
      "Validation Loss: 1.5897, Validation Accuracy: 40.45%\n",
      "\n"
     ]
    },
    {
     "name": "stderr",
     "output_type": "stream",
     "text": [
      "Epoch 21/500 [Training]: 100%|██████████| 13/13 [00:00<00:00, 269.39it/s, loss=1.2756]\n",
      "Epoch 21/500 [Validation]: 100%|██████████| 1250/1250 [00:01<00:00, 844.62it/s]\n"
     ]
    },
    {
     "name": "stdout",
     "output_type": "stream",
     "text": [
      "Epoch [21/500] - \n",
      "Train Loss: 1.2473, Train Accuracy: 54.00%, \n",
      "Validation Loss: 1.7753, Validation Accuracy: 35.11%\n",
      "\n"
     ]
    },
    {
     "name": "stderr",
     "output_type": "stream",
     "text": [
      "Epoch 22/500 [Training]: 100%|██████████| 13/13 [00:00<00:00, 256.21it/s, loss=1.9358]\n",
      "Epoch 22/500 [Validation]: 100%|██████████| 1250/1250 [00:01<00:00, 838.93it/s]\n"
     ]
    },
    {
     "name": "stdout",
     "output_type": "stream",
     "text": [
      "Epoch [22/500] - \n",
      "Train Loss: 1.3256, Train Accuracy: 61.00%, \n",
      "Validation Loss: 1.8247, Validation Accuracy: 35.21%\n",
      "\n"
     ]
    },
    {
     "name": "stderr",
     "output_type": "stream",
     "text": [
      "Epoch 23/500 [Training]: 100%|██████████| 13/13 [00:00<00:00, 266.26it/s, loss=0.9179]\n",
      "Epoch 23/500 [Validation]: 100%|██████████| 1250/1250 [00:01<00:00, 801.26it/s]\n"
     ]
    },
    {
     "name": "stdout",
     "output_type": "stream",
     "text": [
      "Epoch [23/500] - \n",
      "Train Loss: 1.1307, Train Accuracy: 62.00%, \n",
      "Validation Loss: 1.7978, Validation Accuracy: 38.54%\n",
      "\n"
     ]
    },
    {
     "name": "stderr",
     "output_type": "stream",
     "text": [
      "Epoch 24/500 [Training]: 100%|██████████| 13/13 [00:00<00:00, 250.80it/s, loss=1.9441]\n",
      "Epoch 24/500 [Validation]: 100%|██████████| 1250/1250 [00:01<00:00, 828.37it/s]\n"
     ]
    },
    {
     "name": "stdout",
     "output_type": "stream",
     "text": [
      "Epoch [24/500] - \n",
      "Train Loss: 1.2344, Train Accuracy: 57.00%, \n",
      "Validation Loss: 1.7936, Validation Accuracy: 32.53%\n",
      "\n"
     ]
    },
    {
     "name": "stderr",
     "output_type": "stream",
     "text": [
      "Epoch 25/500 [Training]: 100%|██████████| 13/13 [00:00<00:00, 264.94it/s, loss=1.0908]\n",
      "Epoch 25/500 [Validation]: 100%|██████████| 1250/1250 [00:01<00:00, 810.05it/s]\n"
     ]
    },
    {
     "name": "stdout",
     "output_type": "stream",
     "text": [
      "Epoch [25/500] - \n",
      "Train Loss: 1.1413, Train Accuracy: 60.00%, \n",
      "Validation Loss: 1.8714, Validation Accuracy: 31.98%\n",
      "\n"
     ]
    },
    {
     "name": "stderr",
     "output_type": "stream",
     "text": [
      "Epoch 26/500 [Training]: 100%|██████████| 13/13 [00:00<00:00, 247.38it/s, loss=1.3539]\n",
      "Epoch 26/500 [Validation]: 100%|██████████| 1250/1250 [00:01<00:00, 801.53it/s]\n"
     ]
    },
    {
     "name": "stdout",
     "output_type": "stream",
     "text": [
      "Epoch [26/500] - \n",
      "Train Loss: 1.2002, Train Accuracy: 57.00%, \n",
      "Validation Loss: 1.8981, Validation Accuracy: 32.36%\n",
      "\n"
     ]
    },
    {
     "name": "stderr",
     "output_type": "stream",
     "text": [
      "Epoch 27/500 [Training]: 100%|██████████| 13/13 [00:00<00:00, 262.84it/s, loss=2.7991]\n",
      "Epoch 27/500 [Validation]: 100%|██████████| 1250/1250 [00:01<00:00, 798.06it/s]\n"
     ]
    },
    {
     "name": "stdout",
     "output_type": "stream",
     "text": [
      "Epoch [27/500] - \n",
      "Train Loss: 1.2987, Train Accuracy: 64.00%, \n",
      "Validation Loss: 2.3597, Validation Accuracy: 27.15%\n",
      "\n"
     ]
    },
    {
     "name": "stderr",
     "output_type": "stream",
     "text": [
      "Epoch 28/500 [Training]: 100%|██████████| 13/13 [00:00<00:00, 131.04it/s, loss=1.0389]\n",
      "Epoch 28/500 [Validation]: 100%|██████████| 1250/1250 [00:01<00:00, 811.25it/s]\n"
     ]
    },
    {
     "name": "stdout",
     "output_type": "stream",
     "text": [
      "Epoch [28/500] - \n",
      "Train Loss: 1.2389, Train Accuracy: 57.00%, \n",
      "Validation Loss: 1.6740, Validation Accuracy: 39.04%\n",
      "\n"
     ]
    },
    {
     "name": "stderr",
     "output_type": "stream",
     "text": [
      "Epoch 29/500 [Training]: 100%|██████████| 13/13 [00:00<00:00, 252.88it/s, loss=1.6959]\n",
      "Epoch 29/500 [Validation]: 100%|██████████| 1250/1250 [00:01<00:00, 852.75it/s]\n"
     ]
    },
    {
     "name": "stdout",
     "output_type": "stream",
     "text": [
      "Epoch [29/500] - \n",
      "Train Loss: 1.3014, Train Accuracy: 62.00%, \n",
      "Validation Loss: 2.1587, Validation Accuracy: 33.25%\n",
      "\n"
     ]
    },
    {
     "name": "stderr",
     "output_type": "stream",
     "text": [
      "Epoch 30/500 [Training]: 100%|██████████| 13/13 [00:00<00:00, 273.92it/s, loss=0.7652]\n",
      "Epoch 30/500 [Validation]: 100%|██████████| 1250/1250 [00:01<00:00, 810.34it/s]\n"
     ]
    },
    {
     "name": "stdout",
     "output_type": "stream",
     "text": [
      "Epoch [30/500] - \n",
      "Train Loss: 1.3137, Train Accuracy: 55.00%, \n",
      "Validation Loss: 1.9225, Validation Accuracy: 33.64%\n",
      "\n"
     ]
    },
    {
     "name": "stderr",
     "output_type": "stream",
     "text": [
      "Epoch 31/500 [Training]: 100%|██████████| 13/13 [00:00<00:00, 273.76it/s, loss=1.4426]\n",
      "Epoch 31/500 [Validation]: 100%|██████████| 1250/1250 [00:01<00:00, 857.99it/s]\n"
     ]
    },
    {
     "name": "stdout",
     "output_type": "stream",
     "text": [
      "Epoch [31/500] - \n",
      "Train Loss: 1.1806, Train Accuracy: 59.00%, \n",
      "Validation Loss: 1.6592, Validation Accuracy: 36.72%\n",
      "\n"
     ]
    },
    {
     "name": "stderr",
     "output_type": "stream",
     "text": [
      "Epoch 32/500 [Training]: 100%|██████████| 13/13 [00:00<00:00, 258.84it/s, loss=1.4255]\n",
      "Epoch 32/500 [Validation]: 100%|██████████| 1250/1250 [00:01<00:00, 729.30it/s]\n"
     ]
    },
    {
     "name": "stdout",
     "output_type": "stream",
     "text": [
      "Epoch [32/500] - \n",
      "Train Loss: 0.9941, Train Accuracy: 75.00%, \n",
      "Validation Loss: 1.5982, Validation Accuracy: 40.54%\n",
      "\n"
     ]
    },
    {
     "name": "stderr",
     "output_type": "stream",
     "text": [
      "Epoch 33/500 [Training]: 100%|██████████| 13/13 [00:00<00:00, 174.90it/s, loss=1.7128]\n",
      "Epoch 33/500 [Validation]: 100%|██████████| 1250/1250 [00:01<00:00, 824.56it/s]\n"
     ]
    },
    {
     "name": "stdout",
     "output_type": "stream",
     "text": [
      "Epoch [33/500] - \n",
      "Train Loss: 1.0633, Train Accuracy: 60.00%, \n",
      "Validation Loss: 1.4792, Validation Accuracy: 48.70%\n",
      "\n"
     ]
    },
    {
     "name": "stderr",
     "output_type": "stream",
     "text": [
      "Epoch 34/500 [Training]: 100%|██████████| 13/13 [00:00<00:00, 272.69it/s, loss=0.8934]\n",
      "Epoch 34/500 [Validation]: 100%|██████████| 1250/1250 [00:01<00:00, 807.66it/s]\n"
     ]
    },
    {
     "name": "stdout",
     "output_type": "stream",
     "text": [
      "Epoch [34/500] - \n",
      "Train Loss: 0.9950, Train Accuracy: 73.00%, \n",
      "Validation Loss: 1.7418, Validation Accuracy: 39.27%\n",
      "\n"
     ]
    },
    {
     "name": "stderr",
     "output_type": "stream",
     "text": [
      "Epoch 35/500 [Training]: 100%|██████████| 13/13 [00:00<00:00, 248.49it/s, loss=0.9636]\n",
      "Epoch 35/500 [Validation]: 100%|██████████| 1250/1250 [00:02<00:00, 607.76it/s]\n"
     ]
    },
    {
     "name": "stdout",
     "output_type": "stream",
     "text": [
      "Epoch [35/500] - \n",
      "Train Loss: 0.9027, Train Accuracy: 75.00%, \n",
      "Validation Loss: 1.5793, Validation Accuracy: 40.76%\n",
      "\n"
     ]
    },
    {
     "name": "stderr",
     "output_type": "stream",
     "text": [
      "Epoch 36/500 [Training]: 100%|██████████| 13/13 [00:00<00:00, 231.34it/s, loss=1.3573]\n",
      "Epoch 36/500 [Validation]: 100%|██████████| 1250/1250 [00:01<00:00, 815.63it/s]\n"
     ]
    },
    {
     "name": "stdout",
     "output_type": "stream",
     "text": [
      "Epoch [36/500] - \n",
      "Train Loss: 0.9545, Train Accuracy: 75.00%, \n",
      "Validation Loss: 1.7150, Validation Accuracy: 37.01%\n",
      "\n"
     ]
    },
    {
     "name": "stderr",
     "output_type": "stream",
     "text": [
      "Epoch 37/500 [Training]: 100%|██████████| 13/13 [00:00<00:00, 235.29it/s, loss=0.7405]\n",
      "Epoch 37/500 [Validation]: 100%|██████████| 1250/1250 [00:01<00:00, 802.14it/s]\n"
     ]
    },
    {
     "name": "stdout",
     "output_type": "stream",
     "text": [
      "Epoch [37/500] - \n",
      "Train Loss: 0.9793, Train Accuracy: 70.00%, \n",
      "Validation Loss: 1.8703, Validation Accuracy: 38.06%\n",
      "\n"
     ]
    },
    {
     "name": "stderr",
     "output_type": "stream",
     "text": [
      "Epoch 38/500 [Training]: 100%|██████████| 13/13 [00:00<00:00, 122.56it/s, loss=0.7742]\n",
      "Epoch 38/500 [Validation]: 100%|██████████| 1250/1250 [00:01<00:00, 762.55it/s]\n"
     ]
    },
    {
     "name": "stdout",
     "output_type": "stream",
     "text": [
      "Epoch [38/500] - \n",
      "Train Loss: 0.9901, Train Accuracy: 71.00%, \n",
      "Validation Loss: 1.9463, Validation Accuracy: 34.04%\n",
      "\n"
     ]
    },
    {
     "name": "stderr",
     "output_type": "stream",
     "text": [
      "Epoch 39/500 [Training]: 100%|██████████| 13/13 [00:00<00:00, 232.87it/s, loss=0.9390]\n",
      "Epoch 39/500 [Validation]: 100%|██████████| 1250/1250 [00:01<00:00, 777.83it/s]\n"
     ]
    },
    {
     "name": "stdout",
     "output_type": "stream",
     "text": [
      "Epoch [39/500] - \n",
      "Train Loss: 0.9688, Train Accuracy: 75.00%, \n",
      "Validation Loss: 1.8402, Validation Accuracy: 40.29%\n",
      "\n"
     ]
    },
    {
     "name": "stderr",
     "output_type": "stream",
     "text": [
      "Epoch 40/500 [Training]: 100%|██████████| 13/13 [00:00<00:00, 248.96it/s, loss=1.1092]\n",
      "Epoch 40/500 [Validation]: 100%|██████████| 1250/1250 [00:01<00:00, 753.41it/s]\n"
     ]
    },
    {
     "name": "stdout",
     "output_type": "stream",
     "text": [
      "Epoch [40/500] - \n",
      "Train Loss: 0.9072, Train Accuracy: 72.00%, \n",
      "Validation Loss: 1.8798, Validation Accuracy: 31.98%\n",
      "\n"
     ]
    },
    {
     "name": "stderr",
     "output_type": "stream",
     "text": [
      "Epoch 41/500 [Training]: 100%|██████████| 13/13 [00:00<00:00, 269.96it/s, loss=0.5220]\n",
      "Epoch 41/500 [Validation]: 100%|██████████| 1250/1250 [00:01<00:00, 829.61it/s]\n"
     ]
    },
    {
     "name": "stdout",
     "output_type": "stream",
     "text": [
      "Epoch [41/500] - \n",
      "Train Loss: 0.7889, Train Accuracy: 76.00%, \n",
      "Validation Loss: 2.3360, Validation Accuracy: 32.71%\n",
      "\n"
     ]
    },
    {
     "name": "stderr",
     "output_type": "stream",
     "text": [
      "Epoch 42/500 [Training]: 100%|██████████| 13/13 [00:00<00:00, 241.62it/s, loss=0.8877]\n",
      "Epoch 42/500 [Validation]: 100%|██████████| 1250/1250 [00:01<00:00, 664.00it/s]\n"
     ]
    },
    {
     "name": "stdout",
     "output_type": "stream",
     "text": [
      "Epoch [42/500] - \n",
      "Train Loss: 0.8193, Train Accuracy: 76.00%, \n",
      "Validation Loss: 2.7490, Validation Accuracy: 35.14%\n",
      "\n"
     ]
    },
    {
     "name": "stderr",
     "output_type": "stream",
     "text": [
      "Epoch 43/500 [Training]: 100%|██████████| 13/13 [00:00<00:00, 157.58it/s, loss=3.1482]\n",
      "Epoch 43/500 [Validation]: 100%|██████████| 1250/1250 [00:01<00:00, 832.30it/s]\n"
     ]
    },
    {
     "name": "stdout",
     "output_type": "stream",
     "text": [
      "Epoch [43/500] - \n",
      "Train Loss: 0.9108, Train Accuracy: 83.00%, \n",
      "Validation Loss: 2.7933, Validation Accuracy: 28.86%\n",
      "\n"
     ]
    },
    {
     "name": "stderr",
     "output_type": "stream",
     "text": [
      "Epoch 44/500 [Training]: 100%|██████████| 13/13 [00:00<00:00, 245.58it/s, loss=1.4114]\n",
      "Epoch 44/500 [Validation]: 100%|██████████| 1250/1250 [00:01<00:00, 796.86it/s]\n"
     ]
    },
    {
     "name": "stdout",
     "output_type": "stream",
     "text": [
      "Epoch [44/500] - \n",
      "Train Loss: 0.9601, Train Accuracy: 65.00%, \n",
      "Validation Loss: 2.2362, Validation Accuracy: 32.81%\n",
      "\n"
     ]
    },
    {
     "name": "stderr",
     "output_type": "stream",
     "text": [
      "Epoch 45/500 [Training]: 100%|██████████| 13/13 [00:00<00:00, 243.93it/s, loss=1.0508]\n",
      "Epoch 45/500 [Validation]: 100%|██████████| 1250/1250 [00:01<00:00, 824.45it/s]\n"
     ]
    },
    {
     "name": "stdout",
     "output_type": "stream",
     "text": [
      "Epoch [45/500] - \n",
      "Train Loss: 0.9239, Train Accuracy: 75.00%, \n",
      "Validation Loss: 2.0742, Validation Accuracy: 32.65%\n",
      "\n"
     ]
    },
    {
     "name": "stderr",
     "output_type": "stream",
     "text": [
      "Epoch 46/500 [Training]: 100%|██████████| 13/13 [00:00<00:00, 267.27it/s, loss=1.9124]\n",
      "Epoch 46/500 [Validation]: 100%|██████████| 1250/1250 [00:01<00:00, 859.79it/s]\n"
     ]
    },
    {
     "name": "stdout",
     "output_type": "stream",
     "text": [
      "Epoch [46/500] - \n",
      "Train Loss: 1.0020, Train Accuracy: 72.00%, \n",
      "Validation Loss: 1.7090, Validation Accuracy: 40.83%\n",
      "\n"
     ]
    },
    {
     "name": "stderr",
     "output_type": "stream",
     "text": [
      "Epoch 47/500 [Training]: 100%|██████████| 13/13 [00:00<00:00, 280.55it/s, loss=1.4860]\n",
      "Epoch 47/500 [Validation]: 100%|██████████| 1250/1250 [00:01<00:00, 855.56it/s]\n"
     ]
    },
    {
     "name": "stdout",
     "output_type": "stream",
     "text": [
      "Epoch [47/500] - \n",
      "Train Loss: 0.9414, Train Accuracy: 70.00%, \n",
      "Validation Loss: 1.6797, Validation Accuracy: 38.36%\n",
      "\n"
     ]
    },
    {
     "name": "stderr",
     "output_type": "stream",
     "text": [
      "Epoch 48/500 [Training]: 100%|██████████| 13/13 [00:00<00:00, 177.10it/s, loss=0.8598]\n",
      "Epoch 48/500 [Validation]: 100%|██████████| 1250/1250 [00:01<00:00, 850.81it/s]\n"
     ]
    },
    {
     "name": "stdout",
     "output_type": "stream",
     "text": [
      "Epoch [48/500] - \n",
      "Train Loss: 0.7882, Train Accuracy: 80.00%, \n",
      "Validation Loss: 1.7199, Validation Accuracy: 41.33%\n",
      "\n"
     ]
    },
    {
     "name": "stderr",
     "output_type": "stream",
     "text": [
      "Epoch 49/500 [Training]: 100%|██████████| 13/13 [00:00<00:00, 278.94it/s, loss=0.8067]\n",
      "Epoch 49/500 [Validation]: 100%|██████████| 1250/1250 [00:01<00:00, 846.51it/s]\n"
     ]
    },
    {
     "name": "stdout",
     "output_type": "stream",
     "text": [
      "Epoch [49/500] - \n",
      "Train Loss: 0.7219, Train Accuracy: 82.00%, \n",
      "Validation Loss: 1.8686, Validation Accuracy: 40.18%\n",
      "\n"
     ]
    },
    {
     "name": "stderr",
     "output_type": "stream",
     "text": [
      "Epoch 50/500 [Training]: 100%|██████████| 13/13 [00:00<00:00, 267.88it/s, loss=0.6025]\n",
      "Epoch 50/500 [Validation]: 100%|██████████| 1250/1250 [00:01<00:00, 816.06it/s]\n"
     ]
    },
    {
     "name": "stdout",
     "output_type": "stream",
     "text": [
      "Epoch [50/500] - \n",
      "Train Loss: 0.6918, Train Accuracy: 86.00%, \n",
      "Validation Loss: 1.8565, Validation Accuracy: 40.97%\n",
      "\n"
     ]
    },
    {
     "name": "stderr",
     "output_type": "stream",
     "text": [
      "Epoch 51/500 [Training]: 100%|██████████| 13/13 [00:00<00:00, 263.67it/s, loss=0.6730]\n",
      "Epoch 51/500 [Validation]: 100%|██████████| 1250/1250 [00:01<00:00, 845.06it/s]\n"
     ]
    },
    {
     "name": "stdout",
     "output_type": "stream",
     "text": [
      "Epoch [51/500] - \n",
      "Train Loss: 0.7092, Train Accuracy: 82.00%, \n",
      "Validation Loss: 1.7361, Validation Accuracy: 39.12%\n",
      "\n"
     ]
    },
    {
     "name": "stderr",
     "output_type": "stream",
     "text": [
      "Epoch 52/500 [Training]: 100%|██████████| 13/13 [00:00<00:00, 251.45it/s, loss=0.5328]\n",
      "Epoch 52/500 [Validation]: 100%|██████████| 1250/1250 [00:01<00:00, 854.55it/s]\n"
     ]
    },
    {
     "name": "stdout",
     "output_type": "stream",
     "text": [
      "Epoch [52/500] - \n",
      "Train Loss: 0.5885, Train Accuracy: 85.00%, \n",
      "Validation Loss: 1.6039, Validation Accuracy: 45.04%\n",
      "\n"
     ]
    },
    {
     "name": "stderr",
     "output_type": "stream",
     "text": [
      "Epoch 53/500 [Training]: 100%|██████████| 13/13 [00:00<00:00, 243.82it/s, loss=0.6772]\n",
      "Epoch 53/500 [Validation]: 100%|██████████| 1250/1250 [00:01<00:00, 748.70it/s]\n"
     ]
    },
    {
     "name": "stdout",
     "output_type": "stream",
     "text": [
      "Epoch [53/500] - \n",
      "Train Loss: 0.5556, Train Accuracy: 88.00%, \n",
      "Validation Loss: 1.4253, Validation Accuracy: 50.17%\n",
      "\n"
     ]
    },
    {
     "name": "stderr",
     "output_type": "stream",
     "text": [
      "Epoch 54/500 [Training]: 100%|██████████| 13/13 [00:00<00:00, 269.87it/s, loss=0.6591]\n",
      "Epoch 54/500 [Validation]: 100%|██████████| 1250/1250 [00:01<00:00, 860.84it/s]\n"
     ]
    },
    {
     "name": "stdout",
     "output_type": "stream",
     "text": [
      "Epoch [54/500] - \n",
      "Train Loss: 0.4391, Train Accuracy: 98.00%, \n",
      "Validation Loss: 1.4366, Validation Accuracy: 45.03%\n",
      "\n"
     ]
    },
    {
     "name": "stderr",
     "output_type": "stream",
     "text": [
      "Epoch 55/500 [Training]: 100%|██████████| 13/13 [00:00<00:00, 270.94it/s, loss=1.0366]\n",
      "Epoch 55/500 [Validation]: 100%|██████████| 1250/1250 [00:01<00:00, 867.94it/s]\n"
     ]
    },
    {
     "name": "stdout",
     "output_type": "stream",
     "text": [
      "Epoch [55/500] - \n",
      "Train Loss: 0.5379, Train Accuracy: 93.00%, \n",
      "Validation Loss: 1.3389, Validation Accuracy: 53.35%\n",
      "\n"
     ]
    },
    {
     "name": "stderr",
     "output_type": "stream",
     "text": [
      "Epoch 56/500 [Training]: 100%|██████████| 13/13 [00:00<00:00, 145.93it/s, loss=0.2563]\n",
      "Epoch 56/500 [Validation]: 100%|██████████| 1250/1250 [00:01<00:00, 863.56it/s]\n"
     ]
    },
    {
     "name": "stdout",
     "output_type": "stream",
     "text": [
      "Epoch [56/500] - \n",
      "Train Loss: 0.4532, Train Accuracy: 95.00%, \n",
      "Validation Loss: 1.5558, Validation Accuracy: 47.35%\n",
      "\n"
     ]
    },
    {
     "name": "stderr",
     "output_type": "stream",
     "text": [
      "Epoch 57/500 [Training]: 100%|██████████| 13/13 [00:00<00:00, 262.30it/s, loss=1.3171]\n",
      "Epoch 57/500 [Validation]: 100%|██████████| 1250/1250 [00:01<00:00, 856.90it/s]\n"
     ]
    },
    {
     "name": "stdout",
     "output_type": "stream",
     "text": [
      "Epoch [57/500] - \n",
      "Train Loss: 0.5807, Train Accuracy: 85.00%, \n",
      "Validation Loss: 1.4979, Validation Accuracy: 47.67%\n",
      "\n"
     ]
    },
    {
     "name": "stderr",
     "output_type": "stream",
     "text": [
      "Epoch 58/500 [Training]: 100%|██████████| 13/13 [00:00<00:00, 264.19it/s, loss=0.5471]\n",
      "Epoch 58/500 [Validation]: 100%|██████████| 1250/1250 [00:01<00:00, 834.17it/s]\n"
     ]
    },
    {
     "name": "stdout",
     "output_type": "stream",
     "text": [
      "Epoch [58/500] - \n",
      "Train Loss: 0.4376, Train Accuracy: 95.00%, \n",
      "Validation Loss: 1.5215, Validation Accuracy: 49.27%\n",
      "\n"
     ]
    },
    {
     "name": "stderr",
     "output_type": "stream",
     "text": [
      "Epoch 59/500 [Training]: 100%|██████████| 13/13 [00:00<00:00, 240.27it/s, loss=0.3645]\n",
      "Epoch 59/500 [Validation]: 100%|██████████| 1250/1250 [00:01<00:00, 847.71it/s]\n"
     ]
    },
    {
     "name": "stdout",
     "output_type": "stream",
     "text": [
      "Epoch [59/500] - \n",
      "Train Loss: 0.4087, Train Accuracy: 95.00%, \n",
      "Validation Loss: 1.7181, Validation Accuracy: 43.24%\n",
      "\n"
     ]
    },
    {
     "name": "stderr",
     "output_type": "stream",
     "text": [
      "Epoch 60/500 [Training]: 100%|██████████| 13/13 [00:00<00:00, 258.72it/s, loss=0.3789]\n",
      "Epoch 60/500 [Validation]: 100%|██████████| 1250/1250 [00:01<00:00, 856.54it/s]\n"
     ]
    },
    {
     "name": "stdout",
     "output_type": "stream",
     "text": [
      "Epoch [60/500] - \n",
      "Train Loss: 0.4030, Train Accuracy: 96.00%, \n",
      "Validation Loss: 1.6418, Validation Accuracy: 44.07%\n",
      "\n"
     ]
    },
    {
     "name": "stderr",
     "output_type": "stream",
     "text": [
      "Epoch 61/500 [Training]: 100%|██████████| 13/13 [00:00<00:00, 169.47it/s, loss=0.2214]\n",
      "Epoch 61/500 [Validation]: 100%|██████████| 1250/1250 [00:01<00:00, 819.25it/s]\n"
     ]
    },
    {
     "name": "stdout",
     "output_type": "stream",
     "text": [
      "Epoch [61/500] - \n",
      "Train Loss: 0.4257, Train Accuracy: 93.00%, \n",
      "Validation Loss: 1.5476, Validation Accuracy: 48.36%\n",
      "\n"
     ]
    },
    {
     "name": "stderr",
     "output_type": "stream",
     "text": [
      "Epoch 62/500 [Training]: 100%|██████████| 13/13 [00:00<00:00, 241.02it/s, loss=0.3570]\n",
      "Epoch 62/500 [Validation]: 100%|██████████| 1250/1250 [00:01<00:00, 846.38it/s]\n"
     ]
    },
    {
     "name": "stdout",
     "output_type": "stream",
     "text": [
      "Epoch [62/500] - \n",
      "Train Loss: 0.4068, Train Accuracy: 97.00%, \n",
      "Validation Loss: 1.7107, Validation Accuracy: 46.32%\n",
      "\n"
     ]
    },
    {
     "name": "stderr",
     "output_type": "stream",
     "text": [
      "Epoch 63/500 [Training]: 100%|██████████| 13/13 [00:00<00:00, 262.36it/s, loss=0.8996]\n",
      "Epoch 63/500 [Validation]: 100%|██████████| 1250/1250 [00:01<00:00, 847.11it/s]\n"
     ]
    },
    {
     "name": "stdout",
     "output_type": "stream",
     "text": [
      "Epoch [63/500] - \n",
      "Train Loss: 0.4065, Train Accuracy: 97.00%, \n",
      "Validation Loss: 1.4351, Validation Accuracy: 50.17%\n",
      "\n"
     ]
    },
    {
     "name": "stderr",
     "output_type": "stream",
     "text": [
      "Epoch 64/500 [Training]: 100%|██████████| 13/13 [00:00<00:00, 264.28it/s, loss=0.8695]\n",
      "Epoch 64/500 [Validation]: 100%|██████████| 1250/1250 [00:01<00:00, 824.63it/s]\n"
     ]
    },
    {
     "name": "stdout",
     "output_type": "stream",
     "text": [
      "Epoch [64/500] - \n",
      "Train Loss: 0.4347, Train Accuracy: 97.00%, \n",
      "Validation Loss: 1.3489, Validation Accuracy: 52.62%\n",
      "\n"
     ]
    },
    {
     "name": "stderr",
     "output_type": "stream",
     "text": [
      "Epoch 65/500 [Training]: 100%|██████████| 13/13 [00:00<00:00, 247.55it/s, loss=0.4317]\n",
      "Epoch 65/500 [Validation]: 100%|██████████| 1250/1250 [00:01<00:00, 832.77it/s]\n"
     ]
    },
    {
     "name": "stdout",
     "output_type": "stream",
     "text": [
      "Epoch [65/500] - \n",
      "Train Loss: 0.3481, Train Accuracy: 98.00%, \n",
      "Validation Loss: 1.5985, Validation Accuracy: 45.34%\n",
      "\n"
     ]
    },
    {
     "name": "stderr",
     "output_type": "stream",
     "text": [
      "Epoch 66/500 [Training]: 100%|██████████| 13/13 [00:00<00:00, 156.52it/s, loss=0.6032]\n",
      "Epoch 66/500 [Validation]: 100%|██████████| 1250/1250 [00:01<00:00, 780.07it/s]\n"
     ]
    },
    {
     "name": "stdout",
     "output_type": "stream",
     "text": [
      "Epoch [66/500] - \n",
      "Train Loss: 0.3952, Train Accuracy: 96.00%, \n",
      "Validation Loss: 2.6717, Validation Accuracy: 29.88%\n",
      "\n"
     ]
    },
    {
     "name": "stderr",
     "output_type": "stream",
     "text": [
      "Epoch 67/500 [Training]: 100%|██████████| 13/13 [00:00<00:00, 273.28it/s, loss=0.4589]\n",
      "Epoch 67/500 [Validation]: 100%|██████████| 1250/1250 [00:01<00:00, 831.55it/s]\n"
     ]
    },
    {
     "name": "stdout",
     "output_type": "stream",
     "text": [
      "Epoch [67/500] - \n",
      "Train Loss: 0.3254, Train Accuracy: 99.00%, \n",
      "Validation Loss: 1.4677, Validation Accuracy: 50.14%\n",
      "\n"
     ]
    },
    {
     "name": "stderr",
     "output_type": "stream",
     "text": [
      "Epoch 68/500 [Training]: 100%|██████████| 13/13 [00:00<00:00, 267.32it/s, loss=0.4725]\n",
      "Epoch 68/500 [Validation]: 100%|██████████| 1250/1250 [00:01<00:00, 772.26it/s]\n"
     ]
    },
    {
     "name": "stdout",
     "output_type": "stream",
     "text": [
      "Epoch [68/500] - \n",
      "Train Loss: 0.3642, Train Accuracy: 98.00%, \n",
      "Validation Loss: 1.2926, Validation Accuracy: 53.38%\n",
      "\n"
     ]
    },
    {
     "name": "stderr",
     "output_type": "stream",
     "text": [
      "Epoch 69/500 [Training]: 100%|██████████| 13/13 [00:00<00:00, 255.82it/s, loss=0.6007]\n",
      "Epoch 69/500 [Validation]: 100%|██████████| 1250/1250 [00:01<00:00, 800.28it/s]\n"
     ]
    },
    {
     "name": "stdout",
     "output_type": "stream",
     "text": [
      "Epoch [69/500] - \n",
      "Train Loss: 0.3490, Train Accuracy: 97.00%, \n",
      "Validation Loss: 2.0307, Validation Accuracy: 41.70%\n",
      "\n"
     ]
    },
    {
     "name": "stderr",
     "output_type": "stream",
     "text": [
      "Epoch 70/500 [Training]: 100%|██████████| 13/13 [00:00<00:00, 228.29it/s, loss=0.3152]\n",
      "Epoch 70/500 [Validation]: 100%|██████████| 1250/1250 [00:01<00:00, 771.61it/s]\n"
     ]
    },
    {
     "name": "stdout",
     "output_type": "stream",
     "text": [
      "Epoch [70/500] - \n",
      "Train Loss: 0.3411, Train Accuracy: 95.00%, \n",
      "Validation Loss: 1.6567, Validation Accuracy: 42.27%\n",
      "\n"
     ]
    },
    {
     "name": "stderr",
     "output_type": "stream",
     "text": [
      "Epoch 71/500 [Training]: 100%|██████████| 13/13 [00:00<00:00, 250.46it/s, loss=0.3291]\n",
      "Epoch 71/500 [Validation]:  73%|███████▎  | 908/1250 [00:01<00:00, 790.86it/s]"
     ]
    }
   ],
   "source": [
    "supervised_train_loader = DataLoader(supervised_dataset, \n",
    "                                     batch_size=8, \n",
    "                                     shuffle=True,\n",
    "                                     num_workers=4,\n",
    "                                     persistent_workers=True)\n",
    "supervised_val_loader = DataLoader(test_dataset, \n",
    "                                   batch_size=8, \n",
    "                                   shuffle=False,\n",
    "                                   num_workers=4,\n",
    "                                   persistent_workers=True)\n",
    "\n",
    "optimizer=torch.optim.Adam(MNIST_model.parameters(),lr=0.01,weight_decay=0.001)\n",
    "learning_rate_scheduler = torch.optim.lr_scheduler.StepLR(optimizer, step_size=50, gamma=0.5)\n",
    "\n",
    "train_convnet(MNIST_model, \n",
    "                 supervised_train_loader, \n",
    "                 supervised_val_loader,\n",
    "                 nn.CrossEntropyLoss(),\n",
    "                 optimizer,\n",
    "                 learning_rate_scheduler, \n",
    "                 num_epochs=500,\n",
    "                 num_frozen_blocks=TRANSFER_LAYERS,\n",
    "                 filename=f'rot_mnist_model_{ROTATION_NUMBER}_{CONV_BLOCKS}_{TRANSFER_LAYERS}.pth')"
   ]
  },
  {
   "cell_type": "code",
   "execution_count": null,
   "metadata": {},
   "outputs": [
    {
     "name": "stderr",
     "output_type": "stream",
     "text": [
      "/tmp/ipykernel_657160/1409371450.py:1: FutureWarning: You are using `torch.load` with `weights_only=False` (the current default value), which uses the default pickle module implicitly. It is possible to construct malicious pickle data which will execute arbitrary code during unpickling (See https://github.com/pytorch/pytorch/blob/main/SECURITY.md#untrusted-models for more details). In a future release, the default value for `weights_only` will be flipped to `True`. This limits the functions that could be executed during unpickling. Arbitrary objects will no longer be allowed to be loaded via this mode unless they are explicitly allowlisted by the user via `torch.serialization.add_safe_globals`. We recommend you start setting `weights_only=True` for any use case where you don't have full control of the loaded file. Please open an issue on GitHub for any issues related to this experimental feature.\n",
      "  best_mnist_model=torch.load(f'models/rot_mnist_model_{ROTATION_NUMBER}_{CONV_BLOCKS}_{TRANSFER_LAYERS}.pth')\n"
     ]
    }
   ],
   "source": [
    "best_mnist_model=torch.load(f'models/rot_mnist_model_{ROTATION_NUMBER}_{CONV_BLOCKS}_{TRANSFER_LAYERS}.pth')"
   ]
  },
  {
   "cell_type": "code",
   "execution_count": null,
   "metadata": {},
   "outputs": [
    {
     "name": "stdout",
     "output_type": "stream",
     "text": [
      "Test Accuracy: 41.58%\n"
     ]
    }
   ],
   "source": [
    "evaluate_classifier(MNIST_model, supervised_val_loader)"
   ]
  }
 ],
 "metadata": {
  "accelerator": "GPU",
  "colab": {
   "gpuType": "T4",
   "provenance": []
  },
  "kernelspec": {
   "display_name": "Python 3",
   "name": "python3"
  },
  "language_info": {
   "codemirror_mode": {
    "name": "ipython",
    "version": 3
   },
   "file_extension": ".py",
   "mimetype": "text/x-python",
   "name": "python",
   "nbconvert_exporter": "python",
   "pygments_lexer": "ipython3",
   "version": "3.10.12"
  },
  "widgets": {
   "application/vnd.jupyter.widget-state+json": {
    "00825bc3a76e4d73a910d291220558b9": {
     "model_module": "@jupyter-widgets/base",
     "model_module_version": "1.2.0",
     "model_name": "LayoutModel",
     "state": {
      "_model_module": "@jupyter-widgets/base",
      "_model_module_version": "1.2.0",
      "_model_name": "LayoutModel",
      "_view_count": null,
      "_view_module": "@jupyter-widgets/base",
      "_view_module_version": "1.2.0",
      "_view_name": "LayoutView",
      "align_content": null,
      "align_items": null,
      "align_self": null,
      "border": null,
      "bottom": null,
      "display": null,
      "flex": null,
      "flex_flow": null,
      "grid_area": null,
      "grid_auto_columns": null,
      "grid_auto_flow": null,
      "grid_auto_rows": null,
      "grid_column": null,
      "grid_gap": null,
      "grid_row": null,
      "grid_template_areas": null,
      "grid_template_columns": null,
      "grid_template_rows": null,
      "height": null,
      "justify_content": null,
      "justify_items": null,
      "left": null,
      "margin": null,
      "max_height": null,
      "max_width": null,
      "min_height": null,
      "min_width": null,
      "object_fit": null,
      "object_position": null,
      "order": null,
      "overflow": null,
      "overflow_x": null,
      "overflow_y": null,
      "padding": null,
      "right": null,
      "top": null,
      "visibility": null,
      "width": null
     }
    },
    "02a3565cc1604e2ea2598acbdc597408": {
     "model_module": "@jupyter-widgets/base",
     "model_module_version": "1.2.0",
     "model_name": "LayoutModel",
     "state": {
      "_model_module": "@jupyter-widgets/base",
      "_model_module_version": "1.2.0",
      "_model_name": "LayoutModel",
      "_view_count": null,
      "_view_module": "@jupyter-widgets/base",
      "_view_module_version": "1.2.0",
      "_view_name": "LayoutView",
      "align_content": null,
      "align_items": null,
      "align_self": null,
      "border": null,
      "bottom": null,
      "display": null,
      "flex": null,
      "flex_flow": null,
      "grid_area": null,
      "grid_auto_columns": null,
      "grid_auto_flow": null,
      "grid_auto_rows": null,
      "grid_column": null,
      "grid_gap": null,
      "grid_row": null,
      "grid_template_areas": null,
      "grid_template_columns": null,
      "grid_template_rows": null,
      "height": null,
      "justify_content": null,
      "justify_items": null,
      "left": null,
      "margin": null,
      "max_height": null,
      "max_width": null,
      "min_height": null,
      "min_width": null,
      "object_fit": null,
      "object_position": null,
      "order": null,
      "overflow": null,
      "overflow_x": null,
      "overflow_y": null,
      "padding": null,
      "right": null,
      "top": null,
      "visibility": null,
      "width": null
     }
    },
    "037f7dee73f247649eba5148f266ebe9": {
     "model_module": "@jupyter-widgets/controls",
     "model_module_version": "1.5.0",
     "model_name": "DescriptionStyleModel",
     "state": {
      "_model_module": "@jupyter-widgets/controls",
      "_model_module_version": "1.5.0",
      "_model_name": "DescriptionStyleModel",
      "_view_count": null,
      "_view_module": "@jupyter-widgets/base",
      "_view_module_version": "1.2.0",
      "_view_name": "StyleView",
      "description_width": ""
     }
    },
    "07a90a2f640445ae8737e936dcc14925": {
     "model_module": "@jupyter-widgets/controls",
     "model_module_version": "1.5.0",
     "model_name": "FloatProgressModel",
     "state": {
      "_dom_classes": [],
      "_model_module": "@jupyter-widgets/controls",
      "_model_module_version": "1.5.0",
      "_model_name": "FloatProgressModel",
      "_view_count": null,
      "_view_module": "@jupyter-widgets/controls",
      "_view_module_version": "1.5.0",
      "_view_name": "ProgressView",
      "bar_style": "success",
      "description": "",
      "description_tooltip": null,
      "layout": "IPY_MODEL_37538bda99fd4b4b88bd8c89fff779f8",
      "max": 844,
      "min": 0,
      "orientation": "horizontal",
      "style": "IPY_MODEL_f7aa240829f149e68e3e45d64b9a3cc7",
      "value": 844
     }
    },
    "07cf3ec65a15431a8bbbe979a7274f2f": {
     "model_module": "@jupyter-widgets/controls",
     "model_module_version": "1.5.0",
     "model_name": "HTMLModel",
     "state": {
      "_dom_classes": [],
      "_model_module": "@jupyter-widgets/controls",
      "_model_module_version": "1.5.0",
      "_model_name": "HTMLModel",
      "_view_count": null,
      "_view_module": "@jupyter-widgets/controls",
      "_view_module_version": "1.5.0",
      "_view_name": "HTMLView",
      "description": "",
      "description_tooltip": null,
      "layout": "IPY_MODEL_ed3737c90d6847709c4f484cfec2b452",
      "placeholder": "​",
      "style": "IPY_MODEL_5c648f711d39471481b8113e44497cfa",
      "value": " 844/844 [00:33&lt;00:00, 27.79it/s, loss=0.0304]"
     }
    },
    "097f69ef2dfa4a528d0060cff730fb81": {
     "model_module": "@jupyter-widgets/base",
     "model_module_version": "1.2.0",
     "model_name": "LayoutModel",
     "state": {
      "_model_module": "@jupyter-widgets/base",
      "_model_module_version": "1.2.0",
      "_model_name": "LayoutModel",
      "_view_count": null,
      "_view_module": "@jupyter-widgets/base",
      "_view_module_version": "1.2.0",
      "_view_name": "LayoutView",
      "align_content": null,
      "align_items": null,
      "align_self": null,
      "border": null,
      "bottom": null,
      "display": null,
      "flex": null,
      "flex_flow": null,
      "grid_area": null,
      "grid_auto_columns": null,
      "grid_auto_flow": null,
      "grid_auto_rows": null,
      "grid_column": null,
      "grid_gap": null,
      "grid_row": null,
      "grid_template_areas": null,
      "grid_template_columns": null,
      "grid_template_rows": null,
      "height": null,
      "justify_content": null,
      "justify_items": null,
      "left": null,
      "margin": null,
      "max_height": null,
      "max_width": null,
      "min_height": null,
      "min_width": null,
      "object_fit": null,
      "object_position": null,
      "order": null,
      "overflow": null,
      "overflow_x": null,
      "overflow_y": null,
      "padding": null,
      "right": null,
      "top": null,
      "visibility": null,
      "width": null
     }
    },
    "0d46b69d700d44348c0db3b0d386db6e": {
     "model_module": "@jupyter-widgets/controls",
     "model_module_version": "1.5.0",
     "model_name": "FloatProgressModel",
     "state": {
      "_dom_classes": [],
      "_model_module": "@jupyter-widgets/controls",
      "_model_module_version": "1.5.0",
      "_model_name": "FloatProgressModel",
      "_view_count": null,
      "_view_module": "@jupyter-widgets/controls",
      "_view_module_version": "1.5.0",
      "_view_name": "ProgressView",
      "bar_style": "success",
      "description": "",
      "description_tooltip": null,
      "layout": "IPY_MODEL_6d6f218641af465dbdb67b9543619234",
      "max": 94,
      "min": 0,
      "orientation": "horizontal",
      "style": "IPY_MODEL_0e3db0ad0a874c139e484f77de09a2c2",
      "value": 94
     }
    },
    "0e3db0ad0a874c139e484f77de09a2c2": {
     "model_module": "@jupyter-widgets/controls",
     "model_module_version": "1.5.0",
     "model_name": "ProgressStyleModel",
     "state": {
      "_model_module": "@jupyter-widgets/controls",
      "_model_module_version": "1.5.0",
      "_model_name": "ProgressStyleModel",
      "_view_count": null,
      "_view_module": "@jupyter-widgets/base",
      "_view_module_version": "1.2.0",
      "_view_name": "StyleView",
      "bar_color": null,
      "description_width": ""
     }
    },
    "11fae5ec1d034860bd31c38c0582b632": {
     "model_module": "@jupyter-widgets/controls",
     "model_module_version": "1.5.0",
     "model_name": "HBoxModel",
     "state": {
      "_dom_classes": [],
      "_model_module": "@jupyter-widgets/controls",
      "_model_module_version": "1.5.0",
      "_model_name": "HBoxModel",
      "_view_count": null,
      "_view_module": "@jupyter-widgets/controls",
      "_view_module_version": "1.5.0",
      "_view_name": "HBoxView",
      "box_style": "",
      "children": [
       "IPY_MODEL_a0f3aee227994696b61eaf424091ae11",
       "IPY_MODEL_07a90a2f640445ae8737e936dcc14925",
       "IPY_MODEL_e28150eccf48490e86d832b95a98fd07"
      ],
      "layout": "IPY_MODEL_873a0a4e759c423d9e4910a651cb8812"
     }
    },
    "15cb791ef0614837bbac76a6f1085319": {
     "model_module": "@jupyter-widgets/controls",
     "model_module_version": "1.5.0",
     "model_name": "DescriptionStyleModel",
     "state": {
      "_model_module": "@jupyter-widgets/controls",
      "_model_module_version": "1.5.0",
      "_model_name": "DescriptionStyleModel",
      "_view_count": null,
      "_view_module": "@jupyter-widgets/base",
      "_view_module_version": "1.2.0",
      "_view_name": "StyleView",
      "description_width": ""
     }
    },
    "18a75f9ea9ce432b9d7333dd9efa868d": {
     "model_module": "@jupyter-widgets/controls",
     "model_module_version": "1.5.0",
     "model_name": "HTMLModel",
     "state": {
      "_dom_classes": [],
      "_model_module": "@jupyter-widgets/controls",
      "_model_module_version": "1.5.0",
      "_model_name": "HTMLModel",
      "_view_count": null,
      "_view_module": "@jupyter-widgets/controls",
      "_view_module_version": "1.5.0",
      "_view_name": "HTMLView",
      "description": "",
      "description_tooltip": null,
      "layout": "IPY_MODEL_c7285db3608b444aa67c1ae4c8972498",
      "placeholder": "​",
      "style": "IPY_MODEL_5a030083645e49a08cbd6f0320239be8",
      "value": " 94/94 [00:03&lt;00:00, 34.52it/s]"
     }
    },
    "20a611236c6744089cf00924205dab57": {
     "model_module": "@jupyter-widgets/controls",
     "model_module_version": "1.5.0",
     "model_name": "FloatProgressModel",
     "state": {
      "_dom_classes": [],
      "_model_module": "@jupyter-widgets/controls",
      "_model_module_version": "1.5.0",
      "_model_name": "FloatProgressModel",
      "_view_count": null,
      "_view_module": "@jupyter-widgets/controls",
      "_view_module_version": "1.5.0",
      "_view_name": "ProgressView",
      "bar_style": "success",
      "description": "",
      "description_tooltip": null,
      "layout": "IPY_MODEL_00825bc3a76e4d73a910d291220558b9",
      "max": 94,
      "min": 0,
      "orientation": "horizontal",
      "style": "IPY_MODEL_dfba4946fc6a406ea8dc384088c641a7",
      "value": 94
     }
    },
    "22cc54cfb4954af499773f2d665ce27a": {
     "model_module": "@jupyter-widgets/controls",
     "model_module_version": "1.5.0",
     "model_name": "DescriptionStyleModel",
     "state": {
      "_model_module": "@jupyter-widgets/controls",
      "_model_module_version": "1.5.0",
      "_model_name": "DescriptionStyleModel",
      "_view_count": null,
      "_view_module": "@jupyter-widgets/base",
      "_view_module_version": "1.2.0",
      "_view_name": "StyleView",
      "description_width": ""
     }
    },
    "2389aedfe095404fb72bb014fec923b6": {
     "model_module": "@jupyter-widgets/controls",
     "model_module_version": "1.5.0",
     "model_name": "FloatProgressModel",
     "state": {
      "_dom_classes": [],
      "_model_module": "@jupyter-widgets/controls",
      "_model_module_version": "1.5.0",
      "_model_name": "FloatProgressModel",
      "_view_count": null,
      "_view_module": "@jupyter-widgets/controls",
      "_view_module_version": "1.5.0",
      "_view_name": "ProgressView",
      "bar_style": "success",
      "description": "",
      "description_tooltip": null,
      "layout": "IPY_MODEL_02a3565cc1604e2ea2598acbdc597408",
      "max": 844,
      "min": 0,
      "orientation": "horizontal",
      "style": "IPY_MODEL_f1a9c8cbd7884d3ca42d4b6ba095c33b",
      "value": 844
     }
    },
    "2422f804b98b4de99eb1ba2f8211b83b": {
     "model_module": "@jupyter-widgets/base",
     "model_module_version": "1.2.0",
     "model_name": "LayoutModel",
     "state": {
      "_model_module": "@jupyter-widgets/base",
      "_model_module_version": "1.2.0",
      "_model_name": "LayoutModel",
      "_view_count": null,
      "_view_module": "@jupyter-widgets/base",
      "_view_module_version": "1.2.0",
      "_view_name": "LayoutView",
      "align_content": null,
      "align_items": null,
      "align_self": null,
      "border": null,
      "bottom": null,
      "display": null,
      "flex": null,
      "flex_flow": null,
      "grid_area": null,
      "grid_auto_columns": null,
      "grid_auto_flow": null,
      "grid_auto_rows": null,
      "grid_column": null,
      "grid_gap": null,
      "grid_row": null,
      "grid_template_areas": null,
      "grid_template_columns": null,
      "grid_template_rows": null,
      "height": null,
      "justify_content": null,
      "justify_items": null,
      "left": null,
      "margin": null,
      "max_height": null,
      "max_width": null,
      "min_height": null,
      "min_width": null,
      "object_fit": null,
      "object_position": null,
      "order": null,
      "overflow": null,
      "overflow_x": null,
      "overflow_y": null,
      "padding": null,
      "right": null,
      "top": null,
      "visibility": null,
      "width": null
     }
    },
    "25d41407d07048db8d2acbef35a84d71": {
     "model_module": "@jupyter-widgets/controls",
     "model_module_version": "1.5.0",
     "model_name": "HTMLModel",
     "state": {
      "_dom_classes": [],
      "_model_module": "@jupyter-widgets/controls",
      "_model_module_version": "1.5.0",
      "_model_name": "HTMLModel",
      "_view_count": null,
      "_view_module": "@jupyter-widgets/controls",
      "_view_module_version": "1.5.0",
      "_view_name": "HTMLView",
      "description": "",
      "description_tooltip": null,
      "layout": "IPY_MODEL_2930e38bfae74a5fb91e68bcea0d3042",
      "placeholder": "​",
      "style": "IPY_MODEL_d9f0f6d6993d4643b6d0c070fdf30df6",
      "value": "Epoch 5/5 [Validation]: 100%"
     }
    },
    "2930e38bfae74a5fb91e68bcea0d3042": {
     "model_module": "@jupyter-widgets/base",
     "model_module_version": "1.2.0",
     "model_name": "LayoutModel",
     "state": {
      "_model_module": "@jupyter-widgets/base",
      "_model_module_version": "1.2.0",
      "_model_name": "LayoutModel",
      "_view_count": null,
      "_view_module": "@jupyter-widgets/base",
      "_view_module_version": "1.2.0",
      "_view_name": "LayoutView",
      "align_content": null,
      "align_items": null,
      "align_self": null,
      "border": null,
      "bottom": null,
      "display": null,
      "flex": null,
      "flex_flow": null,
      "grid_area": null,
      "grid_auto_columns": null,
      "grid_auto_flow": null,
      "grid_auto_rows": null,
      "grid_column": null,
      "grid_gap": null,
      "grid_row": null,
      "grid_template_areas": null,
      "grid_template_columns": null,
      "grid_template_rows": null,
      "height": null,
      "justify_content": null,
      "justify_items": null,
      "left": null,
      "margin": null,
      "max_height": null,
      "max_width": null,
      "min_height": null,
      "min_width": null,
      "object_fit": null,
      "object_position": null,
      "order": null,
      "overflow": null,
      "overflow_x": null,
      "overflow_y": null,
      "padding": null,
      "right": null,
      "top": null,
      "visibility": null,
      "width": null
     }
    },
    "2e04426c474f4591853085e5164566ac": {
     "model_module": "@jupyter-widgets/controls",
     "model_module_version": "1.5.0",
     "model_name": "HBoxModel",
     "state": {
      "_dom_classes": [],
      "_model_module": "@jupyter-widgets/controls",
      "_model_module_version": "1.5.0",
      "_model_name": "HBoxModel",
      "_view_count": null,
      "_view_module": "@jupyter-widgets/controls",
      "_view_module_version": "1.5.0",
      "_view_name": "HBoxView",
      "box_style": "",
      "children": [
       "IPY_MODEL_50c0640e67a84eaaa5c422883a4d0c8d",
       "IPY_MODEL_647ba985b34c4ce8bf46089710c00bb2",
       "IPY_MODEL_07cf3ec65a15431a8bbbe979a7274f2f"
      ],
      "layout": "IPY_MODEL_7ca2b0133c6a44208376eb9e4d3c26f7"
     }
    },
    "2e8b565ba3f944698aecb7172f03b90d": {
     "model_module": "@jupyter-widgets/base",
     "model_module_version": "1.2.0",
     "model_name": "LayoutModel",
     "state": {
      "_model_module": "@jupyter-widgets/base",
      "_model_module_version": "1.2.0",
      "_model_name": "LayoutModel",
      "_view_count": null,
      "_view_module": "@jupyter-widgets/base",
      "_view_module_version": "1.2.0",
      "_view_name": "LayoutView",
      "align_content": null,
      "align_items": null,
      "align_self": null,
      "border": null,
      "bottom": null,
      "display": null,
      "flex": null,
      "flex_flow": null,
      "grid_area": null,
      "grid_auto_columns": null,
      "grid_auto_flow": null,
      "grid_auto_rows": null,
      "grid_column": null,
      "grid_gap": null,
      "grid_row": null,
      "grid_template_areas": null,
      "grid_template_columns": null,
      "grid_template_rows": null,
      "height": null,
      "justify_content": null,
      "justify_items": null,
      "left": null,
      "margin": null,
      "max_height": null,
      "max_width": null,
      "min_height": null,
      "min_width": null,
      "object_fit": null,
      "object_position": null,
      "order": null,
      "overflow": null,
      "overflow_x": null,
      "overflow_y": null,
      "padding": null,
      "right": null,
      "top": null,
      "visibility": null,
      "width": null
     }
    },
    "340e4be3936e4b74b47a69477d76a6bc": {
     "model_module": "@jupyter-widgets/controls",
     "model_module_version": "1.5.0",
     "model_name": "HTMLModel",
     "state": {
      "_dom_classes": [],
      "_model_module": "@jupyter-widgets/controls",
      "_model_module_version": "1.5.0",
      "_model_name": "HTMLModel",
      "_view_count": null,
      "_view_module": "@jupyter-widgets/controls",
      "_view_module_version": "1.5.0",
      "_view_name": "HTMLView",
      "description": "",
      "description_tooltip": null,
      "layout": "IPY_MODEL_37ea51b372b8497097e722853c0fc263",
      "placeholder": "​",
      "style": "IPY_MODEL_037f7dee73f247649eba5148f266ebe9",
      "value": "Epoch 3/5 [Training]: 100%"
     }
    },
    "37538bda99fd4b4b88bd8c89fff779f8": {
     "model_module": "@jupyter-widgets/base",
     "model_module_version": "1.2.0",
     "model_name": "LayoutModel",
     "state": {
      "_model_module": "@jupyter-widgets/base",
      "_model_module_version": "1.2.0",
      "_model_name": "LayoutModel",
      "_view_count": null,
      "_view_module": "@jupyter-widgets/base",
      "_view_module_version": "1.2.0",
      "_view_name": "LayoutView",
      "align_content": null,
      "align_items": null,
      "align_self": null,
      "border": null,
      "bottom": null,
      "display": null,
      "flex": null,
      "flex_flow": null,
      "grid_area": null,
      "grid_auto_columns": null,
      "grid_auto_flow": null,
      "grid_auto_rows": null,
      "grid_column": null,
      "grid_gap": null,
      "grid_row": null,
      "grid_template_areas": null,
      "grid_template_columns": null,
      "grid_template_rows": null,
      "height": null,
      "justify_content": null,
      "justify_items": null,
      "left": null,
      "margin": null,
      "max_height": null,
      "max_width": null,
      "min_height": null,
      "min_width": null,
      "object_fit": null,
      "object_position": null,
      "order": null,
      "overflow": null,
      "overflow_x": null,
      "overflow_y": null,
      "padding": null,
      "right": null,
      "top": null,
      "visibility": null,
      "width": null
     }
    },
    "37ea51b372b8497097e722853c0fc263": {
     "model_module": "@jupyter-widgets/base",
     "model_module_version": "1.2.0",
     "model_name": "LayoutModel",
     "state": {
      "_model_module": "@jupyter-widgets/base",
      "_model_module_version": "1.2.0",
      "_model_name": "LayoutModel",
      "_view_count": null,
      "_view_module": "@jupyter-widgets/base",
      "_view_module_version": "1.2.0",
      "_view_name": "LayoutView",
      "align_content": null,
      "align_items": null,
      "align_self": null,
      "border": null,
      "bottom": null,
      "display": null,
      "flex": null,
      "flex_flow": null,
      "grid_area": null,
      "grid_auto_columns": null,
      "grid_auto_flow": null,
      "grid_auto_rows": null,
      "grid_column": null,
      "grid_gap": null,
      "grid_row": null,
      "grid_template_areas": null,
      "grid_template_columns": null,
      "grid_template_rows": null,
      "height": null,
      "justify_content": null,
      "justify_items": null,
      "left": null,
      "margin": null,
      "max_height": null,
      "max_width": null,
      "min_height": null,
      "min_width": null,
      "object_fit": null,
      "object_position": null,
      "order": null,
      "overflow": null,
      "overflow_x": null,
      "overflow_y": null,
      "padding": null,
      "right": null,
      "top": null,
      "visibility": null,
      "width": null
     }
    },
    "3d0b3b6dc1264759adc8cc95cb45463d": {
     "model_module": "@jupyter-widgets/base",
     "model_module_version": "1.2.0",
     "model_name": "LayoutModel",
     "state": {
      "_model_module": "@jupyter-widgets/base",
      "_model_module_version": "1.2.0",
      "_model_name": "LayoutModel",
      "_view_count": null,
      "_view_module": "@jupyter-widgets/base",
      "_view_module_version": "1.2.0",
      "_view_name": "LayoutView",
      "align_content": null,
      "align_items": null,
      "align_self": null,
      "border": null,
      "bottom": null,
      "display": null,
      "flex": null,
      "flex_flow": null,
      "grid_area": null,
      "grid_auto_columns": null,
      "grid_auto_flow": null,
      "grid_auto_rows": null,
      "grid_column": null,
      "grid_gap": null,
      "grid_row": null,
      "grid_template_areas": null,
      "grid_template_columns": null,
      "grid_template_rows": null,
      "height": null,
      "justify_content": null,
      "justify_items": null,
      "left": null,
      "margin": null,
      "max_height": null,
      "max_width": null,
      "min_height": null,
      "min_width": null,
      "object_fit": null,
      "object_position": null,
      "order": null,
      "overflow": null,
      "overflow_x": null,
      "overflow_y": null,
      "padding": null,
      "right": null,
      "top": null,
      "visibility": null,
      "width": null
     }
    },
    "445fbeed37894768a155876d67ac9afd": {
     "model_module": "@jupyter-widgets/base",
     "model_module_version": "1.2.0",
     "model_name": "LayoutModel",
     "state": {
      "_model_module": "@jupyter-widgets/base",
      "_model_module_version": "1.2.0",
      "_model_name": "LayoutModel",
      "_view_count": null,
      "_view_module": "@jupyter-widgets/base",
      "_view_module_version": "1.2.0",
      "_view_name": "LayoutView",
      "align_content": null,
      "align_items": null,
      "align_self": null,
      "border": null,
      "bottom": null,
      "display": null,
      "flex": null,
      "flex_flow": null,
      "grid_area": null,
      "grid_auto_columns": null,
      "grid_auto_flow": null,
      "grid_auto_rows": null,
      "grid_column": null,
      "grid_gap": null,
      "grid_row": null,
      "grid_template_areas": null,
      "grid_template_columns": null,
      "grid_template_rows": null,
      "height": null,
      "justify_content": null,
      "justify_items": null,
      "left": null,
      "margin": null,
      "max_height": null,
      "max_width": null,
      "min_height": null,
      "min_width": null,
      "object_fit": null,
      "object_position": null,
      "order": null,
      "overflow": null,
      "overflow_x": null,
      "overflow_y": null,
      "padding": null,
      "right": null,
      "top": null,
      "visibility": null,
      "width": null
     }
    },
    "446e54f07a5a444a8f999e52872108fa": {
     "model_module": "@jupyter-widgets/base",
     "model_module_version": "1.2.0",
     "model_name": "LayoutModel",
     "state": {
      "_model_module": "@jupyter-widgets/base",
      "_model_module_version": "1.2.0",
      "_model_name": "LayoutModel",
      "_view_count": null,
      "_view_module": "@jupyter-widgets/base",
      "_view_module_version": "1.2.0",
      "_view_name": "LayoutView",
      "align_content": null,
      "align_items": null,
      "align_self": null,
      "border": null,
      "bottom": null,
      "display": null,
      "flex": null,
      "flex_flow": null,
      "grid_area": null,
      "grid_auto_columns": null,
      "grid_auto_flow": null,
      "grid_auto_rows": null,
      "grid_column": null,
      "grid_gap": null,
      "grid_row": null,
      "grid_template_areas": null,
      "grid_template_columns": null,
      "grid_template_rows": null,
      "height": null,
      "justify_content": null,
      "justify_items": null,
      "left": null,
      "margin": null,
      "max_height": null,
      "max_width": null,
      "min_height": null,
      "min_width": null,
      "object_fit": null,
      "object_position": null,
      "order": null,
      "overflow": null,
      "overflow_x": null,
      "overflow_y": null,
      "padding": null,
      "right": null,
      "top": null,
      "visibility": null,
      "width": null
     }
    },
    "44e71c06c1c14b7a861ad6ff3647ea55": {
     "model_module": "@jupyter-widgets/base",
     "model_module_version": "1.2.0",
     "model_name": "LayoutModel",
     "state": {
      "_model_module": "@jupyter-widgets/base",
      "_model_module_version": "1.2.0",
      "_model_name": "LayoutModel",
      "_view_count": null,
      "_view_module": "@jupyter-widgets/base",
      "_view_module_version": "1.2.0",
      "_view_name": "LayoutView",
      "align_content": null,
      "align_items": null,
      "align_self": null,
      "border": null,
      "bottom": null,
      "display": null,
      "flex": null,
      "flex_flow": null,
      "grid_area": null,
      "grid_auto_columns": null,
      "grid_auto_flow": null,
      "grid_auto_rows": null,
      "grid_column": null,
      "grid_gap": null,
      "grid_row": null,
      "grid_template_areas": null,
      "grid_template_columns": null,
      "grid_template_rows": null,
      "height": null,
      "justify_content": null,
      "justify_items": null,
      "left": null,
      "margin": null,
      "max_height": null,
      "max_width": null,
      "min_height": null,
      "min_width": null,
      "object_fit": null,
      "object_position": null,
      "order": null,
      "overflow": null,
      "overflow_x": null,
      "overflow_y": null,
      "padding": null,
      "right": null,
      "top": null,
      "visibility": null,
      "width": null
     }
    },
    "47c10d955b0c40c48cf62a1715d5339a": {
     "model_module": "@jupyter-widgets/controls",
     "model_module_version": "1.5.0",
     "model_name": "FloatProgressModel",
     "state": {
      "_dom_classes": [],
      "_model_module": "@jupyter-widgets/controls",
      "_model_module_version": "1.5.0",
      "_model_name": "FloatProgressModel",
      "_view_count": null,
      "_view_module": "@jupyter-widgets/controls",
      "_view_module_version": "1.5.0",
      "_view_name": "ProgressView",
      "bar_style": "success",
      "description": "",
      "description_tooltip": null,
      "layout": "IPY_MODEL_887390c97d604b24996dd8e070507098",
      "max": 94,
      "min": 0,
      "orientation": "horizontal",
      "style": "IPY_MODEL_f1039d496f5b431fa64b7599a9a2f7b7",
      "value": 94
     }
    },
    "4afc398a6ff8407eabef67df5729e7f1": {
     "model_module": "@jupyter-widgets/controls",
     "model_module_version": "1.5.0",
     "model_name": "DescriptionStyleModel",
     "state": {
      "_model_module": "@jupyter-widgets/controls",
      "_model_module_version": "1.5.0",
      "_model_name": "DescriptionStyleModel",
      "_view_count": null,
      "_view_module": "@jupyter-widgets/base",
      "_view_module_version": "1.2.0",
      "_view_name": "StyleView",
      "description_width": ""
     }
    },
    "503bf662589e4475a8874bb74efa8e3d": {
     "model_module": "@jupyter-widgets/controls",
     "model_module_version": "1.5.0",
     "model_name": "HTMLModel",
     "state": {
      "_dom_classes": [],
      "_model_module": "@jupyter-widgets/controls",
      "_model_module_version": "1.5.0",
      "_model_name": "HTMLModel",
      "_view_count": null,
      "_view_module": "@jupyter-widgets/controls",
      "_view_module_version": "1.5.0",
      "_view_name": "HTMLView",
      "description": "",
      "description_tooltip": null,
      "layout": "IPY_MODEL_2422f804b98b4de99eb1ba2f8211b83b",
      "placeholder": "​",
      "style": "IPY_MODEL_59c1a615501e40f98d2e7c6240892924",
      "value": " 844/844 [00:33&lt;00:00, 27.02it/s, loss=0.0031]"
     }
    },
    "50c0640e67a84eaaa5c422883a4d0c8d": {
     "model_module": "@jupyter-widgets/controls",
     "model_module_version": "1.5.0",
     "model_name": "HTMLModel",
     "state": {
      "_dom_classes": [],
      "_model_module": "@jupyter-widgets/controls",
      "_model_module_version": "1.5.0",
      "_model_name": "HTMLModel",
      "_view_count": null,
      "_view_module": "@jupyter-widgets/controls",
      "_view_module_version": "1.5.0",
      "_view_name": "HTMLView",
      "description": "",
      "description_tooltip": null,
      "layout": "IPY_MODEL_2e8b565ba3f944698aecb7172f03b90d",
      "placeholder": "​",
      "style": "IPY_MODEL_cc9a445b0db74b6abdb6fd0ad580b295",
      "value": "Epoch 4/5 [Training]: 100%"
     }
    },
    "53dd263f7cb140498b652eac64a79579": {
     "model_module": "@jupyter-widgets/controls",
     "model_module_version": "1.5.0",
     "model_name": "HTMLModel",
     "state": {
      "_dom_classes": [],
      "_model_module": "@jupyter-widgets/controls",
      "_model_module_version": "1.5.0",
      "_model_name": "HTMLModel",
      "_view_count": null,
      "_view_module": "@jupyter-widgets/controls",
      "_view_module_version": "1.5.0",
      "_view_name": "HTMLView",
      "description": "",
      "description_tooltip": null,
      "layout": "IPY_MODEL_44e71c06c1c14b7a861ad6ff3647ea55",
      "placeholder": "​",
      "style": "IPY_MODEL_4afc398a6ff8407eabef67df5729e7f1",
      "value": " 94/94 [00:02&lt;00:00, 27.80it/s]"
     }
    },
    "54122f7aed0c494bad544230c51a088e": {
     "model_module": "@jupyter-widgets/controls",
     "model_module_version": "1.5.0",
     "model_name": "ProgressStyleModel",
     "state": {
      "_model_module": "@jupyter-widgets/controls",
      "_model_module_version": "1.5.0",
      "_model_name": "ProgressStyleModel",
      "_view_count": null,
      "_view_module": "@jupyter-widgets/base",
      "_view_module_version": "1.2.0",
      "_view_name": "StyleView",
      "bar_color": null,
      "description_width": ""
     }
    },
    "54ee4afa79394ce4844f1029a5b42c56": {
     "model_module": "@jupyter-widgets/controls",
     "model_module_version": "1.5.0",
     "model_name": "DescriptionStyleModel",
     "state": {
      "_model_module": "@jupyter-widgets/controls",
      "_model_module_version": "1.5.0",
      "_model_name": "DescriptionStyleModel",
      "_view_count": null,
      "_view_module": "@jupyter-widgets/base",
      "_view_module_version": "1.2.0",
      "_view_name": "StyleView",
      "description_width": ""
     }
    },
    "588a0a29ae474e3d83d1672299319d89": {
     "model_module": "@jupyter-widgets/controls",
     "model_module_version": "1.5.0",
     "model_name": "HBoxModel",
     "state": {
      "_dom_classes": [],
      "_model_module": "@jupyter-widgets/controls",
      "_model_module_version": "1.5.0",
      "_model_name": "HBoxModel",
      "_view_count": null,
      "_view_module": "@jupyter-widgets/controls",
      "_view_module_version": "1.5.0",
      "_view_name": "HBoxView",
      "box_style": "",
      "children": [
       "IPY_MODEL_7d5f47be7f92453b927291bbe78f0e9e",
       "IPY_MODEL_b9cb677246cd45e685fde53b7add73de",
       "IPY_MODEL_df8f7c90473f47c3ae51cf9525a96172"
      ],
      "layout": "IPY_MODEL_a3d493dee06b401484b0e4ffbad52ee6"
     }
    },
    "59c1a615501e40f98d2e7c6240892924": {
     "model_module": "@jupyter-widgets/controls",
     "model_module_version": "1.5.0",
     "model_name": "DescriptionStyleModel",
     "state": {
      "_model_module": "@jupyter-widgets/controls",
      "_model_module_version": "1.5.0",
      "_model_name": "DescriptionStyleModel",
      "_view_count": null,
      "_view_module": "@jupyter-widgets/base",
      "_view_module_version": "1.2.0",
      "_view_name": "StyleView",
      "description_width": ""
     }
    },
    "5a030083645e49a08cbd6f0320239be8": {
     "model_module": "@jupyter-widgets/controls",
     "model_module_version": "1.5.0",
     "model_name": "DescriptionStyleModel",
     "state": {
      "_model_module": "@jupyter-widgets/controls",
      "_model_module_version": "1.5.0",
      "_model_name": "DescriptionStyleModel",
      "_view_count": null,
      "_view_module": "@jupyter-widgets/base",
      "_view_module_version": "1.2.0",
      "_view_name": "StyleView",
      "description_width": ""
     }
    },
    "5c648f711d39471481b8113e44497cfa": {
     "model_module": "@jupyter-widgets/controls",
     "model_module_version": "1.5.0",
     "model_name": "DescriptionStyleModel",
     "state": {
      "_model_module": "@jupyter-widgets/controls",
      "_model_module_version": "1.5.0",
      "_model_name": "DescriptionStyleModel",
      "_view_count": null,
      "_view_module": "@jupyter-widgets/base",
      "_view_module_version": "1.2.0",
      "_view_name": "StyleView",
      "description_width": ""
     }
    },
    "5e1501377f014dd5add0718aa456ac38": {
     "model_module": "@jupyter-widgets/controls",
     "model_module_version": "1.5.0",
     "model_name": "ProgressStyleModel",
     "state": {
      "_model_module": "@jupyter-widgets/controls",
      "_model_module_version": "1.5.0",
      "_model_name": "ProgressStyleModel",
      "_view_count": null,
      "_view_module": "@jupyter-widgets/base",
      "_view_module_version": "1.2.0",
      "_view_name": "StyleView",
      "bar_color": null,
      "description_width": ""
     }
    },
    "607bc1698bdd4c1a8a636280d068def8": {
     "model_module": "@jupyter-widgets/controls",
     "model_module_version": "1.5.0",
     "model_name": "HBoxModel",
     "state": {
      "_dom_classes": [],
      "_model_module": "@jupyter-widgets/controls",
      "_model_module_version": "1.5.0",
      "_model_name": "HBoxModel",
      "_view_count": null,
      "_view_module": "@jupyter-widgets/controls",
      "_view_module_version": "1.5.0",
      "_view_name": "HBoxView",
      "box_style": "",
      "children": [
       "IPY_MODEL_850f5cf0a047406eb15e3dfe63d84848",
       "IPY_MODEL_96219f0fb82440d6b870a17621a9a8d9",
       "IPY_MODEL_9ee05cf7c13546869c098753b3badf9e"
      ],
      "layout": "IPY_MODEL_74a4908e8660474e9233e7d86789343f"
     }
    },
    "64782f53389641da95ad85990caed560": {
     "model_module": "@jupyter-widgets/base",
     "model_module_version": "1.2.0",
     "model_name": "LayoutModel",
     "state": {
      "_model_module": "@jupyter-widgets/base",
      "_model_module_version": "1.2.0",
      "_model_name": "LayoutModel",
      "_view_count": null,
      "_view_module": "@jupyter-widgets/base",
      "_view_module_version": "1.2.0",
      "_view_name": "LayoutView",
      "align_content": null,
      "align_items": null,
      "align_self": null,
      "border": null,
      "bottom": null,
      "display": null,
      "flex": null,
      "flex_flow": null,
      "grid_area": null,
      "grid_auto_columns": null,
      "grid_auto_flow": null,
      "grid_auto_rows": null,
      "grid_column": null,
      "grid_gap": null,
      "grid_row": null,
      "grid_template_areas": null,
      "grid_template_columns": null,
      "grid_template_rows": null,
      "height": null,
      "justify_content": null,
      "justify_items": null,
      "left": null,
      "margin": null,
      "max_height": null,
      "max_width": null,
      "min_height": null,
      "min_width": null,
      "object_fit": null,
      "object_position": null,
      "order": null,
      "overflow": null,
      "overflow_x": null,
      "overflow_y": null,
      "padding": null,
      "right": null,
      "top": null,
      "visibility": null,
      "width": null
     }
    },
    "647ba985b34c4ce8bf46089710c00bb2": {
     "model_module": "@jupyter-widgets/controls",
     "model_module_version": "1.5.0",
     "model_name": "FloatProgressModel",
     "state": {
      "_dom_classes": [],
      "_model_module": "@jupyter-widgets/controls",
      "_model_module_version": "1.5.0",
      "_model_name": "FloatProgressModel",
      "_view_count": null,
      "_view_module": "@jupyter-widgets/controls",
      "_view_module_version": "1.5.0",
      "_view_name": "ProgressView",
      "bar_style": "success",
      "description": "",
      "description_tooltip": null,
      "layout": "IPY_MODEL_3d0b3b6dc1264759adc8cc95cb45463d",
      "max": 844,
      "min": 0,
      "orientation": "horizontal",
      "style": "IPY_MODEL_66dd6b6fec154e0981d20e1a01a5fc76",
      "value": 844
     }
    },
    "66dd6b6fec154e0981d20e1a01a5fc76": {
     "model_module": "@jupyter-widgets/controls",
     "model_module_version": "1.5.0",
     "model_name": "ProgressStyleModel",
     "state": {
      "_model_module": "@jupyter-widgets/controls",
      "_model_module_version": "1.5.0",
      "_model_name": "ProgressStyleModel",
      "_view_count": null,
      "_view_module": "@jupyter-widgets/base",
      "_view_module_version": "1.2.0",
      "_view_name": "StyleView",
      "bar_color": null,
      "description_width": ""
     }
    },
    "6d6f218641af465dbdb67b9543619234": {
     "model_module": "@jupyter-widgets/base",
     "model_module_version": "1.2.0",
     "model_name": "LayoutModel",
     "state": {
      "_model_module": "@jupyter-widgets/base",
      "_model_module_version": "1.2.0",
      "_model_name": "LayoutModel",
      "_view_count": null,
      "_view_module": "@jupyter-widgets/base",
      "_view_module_version": "1.2.0",
      "_view_name": "LayoutView",
      "align_content": null,
      "align_items": null,
      "align_self": null,
      "border": null,
      "bottom": null,
      "display": null,
      "flex": null,
      "flex_flow": null,
      "grid_area": null,
      "grid_auto_columns": null,
      "grid_auto_flow": null,
      "grid_auto_rows": null,
      "grid_column": null,
      "grid_gap": null,
      "grid_row": null,
      "grid_template_areas": null,
      "grid_template_columns": null,
      "grid_template_rows": null,
      "height": null,
      "justify_content": null,
      "justify_items": null,
      "left": null,
      "margin": null,
      "max_height": null,
      "max_width": null,
      "min_height": null,
      "min_width": null,
      "object_fit": null,
      "object_position": null,
      "order": null,
      "overflow": null,
      "overflow_x": null,
      "overflow_y": null,
      "padding": null,
      "right": null,
      "top": null,
      "visibility": null,
      "width": null
     }
    },
    "704c72c665e94cc4a2c5a8e318af1c6f": {
     "model_module": "@jupyter-widgets/controls",
     "model_module_version": "1.5.0",
     "model_name": "FloatProgressModel",
     "state": {
      "_dom_classes": [],
      "_model_module": "@jupyter-widgets/controls",
      "_model_module_version": "1.5.0",
      "_model_name": "FloatProgressModel",
      "_view_count": null,
      "_view_module": "@jupyter-widgets/controls",
      "_view_module_version": "1.5.0",
      "_view_name": "ProgressView",
      "bar_style": "success",
      "description": "",
      "description_tooltip": null,
      "layout": "IPY_MODEL_a61f0cdf27134b2f956d5ba5615e4c92",
      "max": 844,
      "min": 0,
      "orientation": "horizontal",
      "style": "IPY_MODEL_a4894d142c1c4579bba262f247b7ce14",
      "value": 844
     }
    },
    "70ae20352f0f4e2380fc546e6b9b7a33": {
     "model_module": "@jupyter-widgets/controls",
     "model_module_version": "1.5.0",
     "model_name": "HBoxModel",
     "state": {
      "_dom_classes": [],
      "_model_module": "@jupyter-widgets/controls",
      "_model_module_version": "1.5.0",
      "_model_name": "HBoxModel",
      "_view_count": null,
      "_view_module": "@jupyter-widgets/controls",
      "_view_module_version": "1.5.0",
      "_view_name": "HBoxView",
      "box_style": "",
      "children": [
       "IPY_MODEL_340e4be3936e4b74b47a69477d76a6bc",
       "IPY_MODEL_2389aedfe095404fb72bb014fec923b6",
       "IPY_MODEL_83083e5bef9449d896e4f46ee3dfe92a"
      ],
      "layout": "IPY_MODEL_fb516d124e334134bbbfc257c8f80fad"
     }
    },
    "7218983a008c4a84b442cb2dcde953f9": {
     "model_module": "@jupyter-widgets/base",
     "model_module_version": "1.2.0",
     "model_name": "LayoutModel",
     "state": {
      "_model_module": "@jupyter-widgets/base",
      "_model_module_version": "1.2.0",
      "_model_name": "LayoutModel",
      "_view_count": null,
      "_view_module": "@jupyter-widgets/base",
      "_view_module_version": "1.2.0",
      "_view_name": "LayoutView",
      "align_content": null,
      "align_items": null,
      "align_self": null,
      "border": null,
      "bottom": null,
      "display": null,
      "flex": null,
      "flex_flow": null,
      "grid_area": null,
      "grid_auto_columns": null,
      "grid_auto_flow": null,
      "grid_auto_rows": null,
      "grid_column": null,
      "grid_gap": null,
      "grid_row": null,
      "grid_template_areas": null,
      "grid_template_columns": null,
      "grid_template_rows": null,
      "height": null,
      "justify_content": null,
      "justify_items": null,
      "left": null,
      "margin": null,
      "max_height": null,
      "max_width": null,
      "min_height": null,
      "min_width": null,
      "object_fit": null,
      "object_position": null,
      "order": null,
      "overflow": null,
      "overflow_x": null,
      "overflow_y": null,
      "padding": null,
      "right": null,
      "top": null,
      "visibility": null,
      "width": null
     }
    },
    "74a4908e8660474e9233e7d86789343f": {
     "model_module": "@jupyter-widgets/base",
     "model_module_version": "1.2.0",
     "model_name": "LayoutModel",
     "state": {
      "_model_module": "@jupyter-widgets/base",
      "_model_module_version": "1.2.0",
      "_model_name": "LayoutModel",
      "_view_count": null,
      "_view_module": "@jupyter-widgets/base",
      "_view_module_version": "1.2.0",
      "_view_name": "LayoutView",
      "align_content": null,
      "align_items": null,
      "align_self": null,
      "border": null,
      "bottom": null,
      "display": null,
      "flex": null,
      "flex_flow": null,
      "grid_area": null,
      "grid_auto_columns": null,
      "grid_auto_flow": null,
      "grid_auto_rows": null,
      "grid_column": null,
      "grid_gap": null,
      "grid_row": null,
      "grid_template_areas": null,
      "grid_template_columns": null,
      "grid_template_rows": null,
      "height": null,
      "justify_content": null,
      "justify_items": null,
      "left": null,
      "margin": null,
      "max_height": null,
      "max_width": null,
      "min_height": null,
      "min_width": null,
      "object_fit": null,
      "object_position": null,
      "order": null,
      "overflow": null,
      "overflow_x": null,
      "overflow_y": null,
      "padding": null,
      "right": null,
      "top": null,
      "visibility": null,
      "width": null
     }
    },
    "759835839172474ca8dd92e6e9dd84fb": {
     "model_module": "@jupyter-widgets/base",
     "model_module_version": "1.2.0",
     "model_name": "LayoutModel",
     "state": {
      "_model_module": "@jupyter-widgets/base",
      "_model_module_version": "1.2.0",
      "_model_name": "LayoutModel",
      "_view_count": null,
      "_view_module": "@jupyter-widgets/base",
      "_view_module_version": "1.2.0",
      "_view_name": "LayoutView",
      "align_content": null,
      "align_items": null,
      "align_self": null,
      "border": null,
      "bottom": null,
      "display": null,
      "flex": null,
      "flex_flow": null,
      "grid_area": null,
      "grid_auto_columns": null,
      "grid_auto_flow": null,
      "grid_auto_rows": null,
      "grid_column": null,
      "grid_gap": null,
      "grid_row": null,
      "grid_template_areas": null,
      "grid_template_columns": null,
      "grid_template_rows": null,
      "height": null,
      "justify_content": null,
      "justify_items": null,
      "left": null,
      "margin": null,
      "max_height": null,
      "max_width": null,
      "min_height": null,
      "min_width": null,
      "object_fit": null,
      "object_position": null,
      "order": null,
      "overflow": null,
      "overflow_x": null,
      "overflow_y": null,
      "padding": null,
      "right": null,
      "top": null,
      "visibility": null,
      "width": null
     }
    },
    "7a8ef0e9d8ef423e86e3018b5d801d5b": {
     "model_module": "@jupyter-widgets/controls",
     "model_module_version": "1.5.0",
     "model_name": "DescriptionStyleModel",
     "state": {
      "_model_module": "@jupyter-widgets/controls",
      "_model_module_version": "1.5.0",
      "_model_name": "DescriptionStyleModel",
      "_view_count": null,
      "_view_module": "@jupyter-widgets/base",
      "_view_module_version": "1.2.0",
      "_view_name": "StyleView",
      "description_width": ""
     }
    },
    "7ae3a5e848234fd7b666250ed076da15": {
     "model_module": "@jupyter-widgets/base",
     "model_module_version": "1.2.0",
     "model_name": "LayoutModel",
     "state": {
      "_model_module": "@jupyter-widgets/base",
      "_model_module_version": "1.2.0",
      "_model_name": "LayoutModel",
      "_view_count": null,
      "_view_module": "@jupyter-widgets/base",
      "_view_module_version": "1.2.0",
      "_view_name": "LayoutView",
      "align_content": null,
      "align_items": null,
      "align_self": null,
      "border": null,
      "bottom": null,
      "display": null,
      "flex": null,
      "flex_flow": null,
      "grid_area": null,
      "grid_auto_columns": null,
      "grid_auto_flow": null,
      "grid_auto_rows": null,
      "grid_column": null,
      "grid_gap": null,
      "grid_row": null,
      "grid_template_areas": null,
      "grid_template_columns": null,
      "grid_template_rows": null,
      "height": null,
      "justify_content": null,
      "justify_items": null,
      "left": null,
      "margin": null,
      "max_height": null,
      "max_width": null,
      "min_height": null,
      "min_width": null,
      "object_fit": null,
      "object_position": null,
      "order": null,
      "overflow": null,
      "overflow_x": null,
      "overflow_y": null,
      "padding": null,
      "right": null,
      "top": null,
      "visibility": null,
      "width": null
     }
    },
    "7b81e40e97e3481eac8345f8faa01fb4": {
     "model_module": "@jupyter-widgets/controls",
     "model_module_version": "1.5.0",
     "model_name": "HBoxModel",
     "state": {
      "_dom_classes": [],
      "_model_module": "@jupyter-widgets/controls",
      "_model_module_version": "1.5.0",
      "_model_name": "HBoxModel",
      "_view_count": null,
      "_view_module": "@jupyter-widgets/controls",
      "_view_module_version": "1.5.0",
      "_view_name": "HBoxView",
      "box_style": "",
      "children": [
       "IPY_MODEL_c72af8f17fbc4c94a8a51ac271b7b291",
       "IPY_MODEL_704c72c665e94cc4a2c5a8e318af1c6f",
       "IPY_MODEL_503bf662589e4475a8874bb74efa8e3d"
      ],
      "layout": "IPY_MODEL_af7730a3b0ca463d81a1771f0e926155"
     }
    },
    "7ca2b0133c6a44208376eb9e4d3c26f7": {
     "model_module": "@jupyter-widgets/base",
     "model_module_version": "1.2.0",
     "model_name": "LayoutModel",
     "state": {
      "_model_module": "@jupyter-widgets/base",
      "_model_module_version": "1.2.0",
      "_model_name": "LayoutModel",
      "_view_count": null,
      "_view_module": "@jupyter-widgets/base",
      "_view_module_version": "1.2.0",
      "_view_name": "LayoutView",
      "align_content": null,
      "align_items": null,
      "align_self": null,
      "border": null,
      "bottom": null,
      "display": null,
      "flex": null,
      "flex_flow": null,
      "grid_area": null,
      "grid_auto_columns": null,
      "grid_auto_flow": null,
      "grid_auto_rows": null,
      "grid_column": null,
      "grid_gap": null,
      "grid_row": null,
      "grid_template_areas": null,
      "grid_template_columns": null,
      "grid_template_rows": null,
      "height": null,
      "justify_content": null,
      "justify_items": null,
      "left": null,
      "margin": null,
      "max_height": null,
      "max_width": null,
      "min_height": null,
      "min_width": null,
      "object_fit": null,
      "object_position": null,
      "order": null,
      "overflow": null,
      "overflow_x": null,
      "overflow_y": null,
      "padding": null,
      "right": null,
      "top": null,
      "visibility": null,
      "width": null
     }
    },
    "7cc9d32798e64a00b7a0619fc3b9a27c": {
     "model_module": "@jupyter-widgets/controls",
     "model_module_version": "1.5.0",
     "model_name": "DescriptionStyleModel",
     "state": {
      "_model_module": "@jupyter-widgets/controls",
      "_model_module_version": "1.5.0",
      "_model_name": "DescriptionStyleModel",
      "_view_count": null,
      "_view_module": "@jupyter-widgets/base",
      "_view_module_version": "1.2.0",
      "_view_name": "StyleView",
      "description_width": ""
     }
    },
    "7d5f47be7f92453b927291bbe78f0e9e": {
     "model_module": "@jupyter-widgets/controls",
     "model_module_version": "1.5.0",
     "model_name": "HTMLModel",
     "state": {
      "_dom_classes": [],
      "_model_module": "@jupyter-widgets/controls",
      "_model_module_version": "1.5.0",
      "_model_name": "HTMLModel",
      "_view_count": null,
      "_view_module": "@jupyter-widgets/controls",
      "_view_module_version": "1.5.0",
      "_view_name": "HTMLView",
      "description": "",
      "description_tooltip": null,
      "layout": "IPY_MODEL_445fbeed37894768a155876d67ac9afd",
      "placeholder": "​",
      "style": "IPY_MODEL_15cb791ef0614837bbac76a6f1085319",
      "value": "Epoch 1/5 [Validation]: 100%"
     }
    },
    "83083e5bef9449d896e4f46ee3dfe92a": {
     "model_module": "@jupyter-widgets/controls",
     "model_module_version": "1.5.0",
     "model_name": "HTMLModel",
     "state": {
      "_dom_classes": [],
      "_model_module": "@jupyter-widgets/controls",
      "_model_module_version": "1.5.0",
      "_model_name": "HTMLModel",
      "_view_count": null,
      "_view_module": "@jupyter-widgets/controls",
      "_view_module_version": "1.5.0",
      "_view_name": "HTMLView",
      "description": "",
      "description_tooltip": null,
      "layout": "IPY_MODEL_a3636330a6644ba69901363f0aea4630",
      "placeholder": "​",
      "style": "IPY_MODEL_dff586fe42dd4bcc95d73e73486f9515",
      "value": " 844/844 [00:33&lt;00:00, 24.66it/s, loss=0.0268]"
     }
    },
    "850f5cf0a047406eb15e3dfe63d84848": {
     "model_module": "@jupyter-widgets/controls",
     "model_module_version": "1.5.0",
     "model_name": "HTMLModel",
     "state": {
      "_dom_classes": [],
      "_model_module": "@jupyter-widgets/controls",
      "_model_module_version": "1.5.0",
      "_model_name": "HTMLModel",
      "_view_count": null,
      "_view_module": "@jupyter-widgets/controls",
      "_view_module_version": "1.5.0",
      "_view_name": "HTMLView",
      "description": "",
      "description_tooltip": null,
      "layout": "IPY_MODEL_b032a47db5164807824699b5f71e40c6",
      "placeholder": "​",
      "style": "IPY_MODEL_7a8ef0e9d8ef423e86e3018b5d801d5b",
      "value": "Epoch 2/5 [Validation]: 100%"
     }
    },
    "86b4084fceca488aba10118904cb50a3": {
     "model_module": "@jupyter-widgets/controls",
     "model_module_version": "1.5.0",
     "model_name": "HBoxModel",
     "state": {
      "_dom_classes": [],
      "_model_module": "@jupyter-widgets/controls",
      "_model_module_version": "1.5.0",
      "_model_name": "HBoxModel",
      "_view_count": null,
      "_view_module": "@jupyter-widgets/controls",
      "_view_module_version": "1.5.0",
      "_view_name": "HBoxView",
      "box_style": "",
      "children": [
       "IPY_MODEL_da4ae60e3f884c889c9db37407eca980",
       "IPY_MODEL_9b57da870abc47a1a0f091fc29ebd69e",
       "IPY_MODEL_9d2c83c1d60a4c4aa023fe5c800cb955"
      ],
      "layout": "IPY_MODEL_e670aa0b5d2b4bd4b99246fe610968cb"
     }
    },
    "873a0a4e759c423d9e4910a651cb8812": {
     "model_module": "@jupyter-widgets/base",
     "model_module_version": "1.2.0",
     "model_name": "LayoutModel",
     "state": {
      "_model_module": "@jupyter-widgets/base",
      "_model_module_version": "1.2.0",
      "_model_name": "LayoutModel",
      "_view_count": null,
      "_view_module": "@jupyter-widgets/base",
      "_view_module_version": "1.2.0",
      "_view_name": "LayoutView",
      "align_content": null,
      "align_items": null,
      "align_self": null,
      "border": null,
      "bottom": null,
      "display": null,
      "flex": null,
      "flex_flow": null,
      "grid_area": null,
      "grid_auto_columns": null,
      "grid_auto_flow": null,
      "grid_auto_rows": null,
      "grid_column": null,
      "grid_gap": null,
      "grid_row": null,
      "grid_template_areas": null,
      "grid_template_columns": null,
      "grid_template_rows": null,
      "height": null,
      "justify_content": null,
      "justify_items": null,
      "left": null,
      "margin": null,
      "max_height": null,
      "max_width": null,
      "min_height": null,
      "min_width": null,
      "object_fit": null,
      "object_position": null,
      "order": null,
      "overflow": null,
      "overflow_x": null,
      "overflow_y": null,
      "padding": null,
      "right": null,
      "top": null,
      "visibility": null,
      "width": null
     }
    },
    "887390c97d604b24996dd8e070507098": {
     "model_module": "@jupyter-widgets/base",
     "model_module_version": "1.2.0",
     "model_name": "LayoutModel",
     "state": {
      "_model_module": "@jupyter-widgets/base",
      "_model_module_version": "1.2.0",
      "_model_name": "LayoutModel",
      "_view_count": null,
      "_view_module": "@jupyter-widgets/base",
      "_view_module_version": "1.2.0",
      "_view_name": "LayoutView",
      "align_content": null,
      "align_items": null,
      "align_self": null,
      "border": null,
      "bottom": null,
      "display": null,
      "flex": null,
      "flex_flow": null,
      "grid_area": null,
      "grid_auto_columns": null,
      "grid_auto_flow": null,
      "grid_auto_rows": null,
      "grid_column": null,
      "grid_gap": null,
      "grid_row": null,
      "grid_template_areas": null,
      "grid_template_columns": null,
      "grid_template_rows": null,
      "height": null,
      "justify_content": null,
      "justify_items": null,
      "left": null,
      "margin": null,
      "max_height": null,
      "max_width": null,
      "min_height": null,
      "min_width": null,
      "object_fit": null,
      "object_position": null,
      "order": null,
      "overflow": null,
      "overflow_x": null,
      "overflow_y": null,
      "padding": null,
      "right": null,
      "top": null,
      "visibility": null,
      "width": null
     }
    },
    "8e93a6fed9b743268a8755eba5bb27d5": {
     "model_module": "@jupyter-widgets/controls",
     "model_module_version": "1.5.0",
     "model_name": "HTMLModel",
     "state": {
      "_dom_classes": [],
      "_model_module": "@jupyter-widgets/controls",
      "_model_module_version": "1.5.0",
      "_model_name": "HTMLModel",
      "_view_count": null,
      "_view_module": "@jupyter-widgets/controls",
      "_view_module_version": "1.5.0",
      "_view_name": "HTMLView",
      "description": "",
      "description_tooltip": null,
      "layout": "IPY_MODEL_c2ca02dffc7e4c759f6aeb352d67741d",
      "placeholder": "​",
      "style": "IPY_MODEL_7cc9d32798e64a00b7a0619fc3b9a27c",
      "value": "Epoch 3/5 [Validation]: 100%"
     }
    },
    "92c9cee5909e434fa5bde05044d4bb78": {
     "model_module": "@jupyter-widgets/controls",
     "model_module_version": "1.5.0",
     "model_name": "DescriptionStyleModel",
     "state": {
      "_model_module": "@jupyter-widgets/controls",
      "_model_module_version": "1.5.0",
      "_model_name": "DescriptionStyleModel",
      "_view_count": null,
      "_view_module": "@jupyter-widgets/base",
      "_view_module_version": "1.2.0",
      "_view_name": "StyleView",
      "description_width": ""
     }
    },
    "936641ef125e46cd82f4808f03296879": {
     "model_module": "@jupyter-widgets/controls",
     "model_module_version": "1.5.0",
     "model_name": "HTMLModel",
     "state": {
      "_dom_classes": [],
      "_model_module": "@jupyter-widgets/controls",
      "_model_module_version": "1.5.0",
      "_model_name": "HTMLModel",
      "_view_count": null,
      "_view_module": "@jupyter-widgets/controls",
      "_view_module_version": "1.5.0",
      "_view_name": "HTMLView",
      "description": "",
      "description_tooltip": null,
      "layout": "IPY_MODEL_097f69ef2dfa4a528d0060cff730fb81",
      "placeholder": "​",
      "style": "IPY_MODEL_92c9cee5909e434fa5bde05044d4bb78",
      "value": "Epoch 4/5 [Validation]: 100%"
     }
    },
    "93b16d3a6eaa42438083d73e14f45073": {
     "model_module": "@jupyter-widgets/controls",
     "model_module_version": "1.5.0",
     "model_name": "HBoxModel",
     "state": {
      "_dom_classes": [],
      "_model_module": "@jupyter-widgets/controls",
      "_model_module_version": "1.5.0",
      "_model_name": "HBoxModel",
      "_view_count": null,
      "_view_module": "@jupyter-widgets/controls",
      "_view_module_version": "1.5.0",
      "_view_name": "HBoxView",
      "box_style": "",
      "children": [
       "IPY_MODEL_8e93a6fed9b743268a8755eba5bb27d5",
       "IPY_MODEL_0d46b69d700d44348c0db3b0d386db6e",
       "IPY_MODEL_18a75f9ea9ce432b9d7333dd9efa868d"
      ],
      "layout": "IPY_MODEL_64782f53389641da95ad85990caed560"
     }
    },
    "96219f0fb82440d6b870a17621a9a8d9": {
     "model_module": "@jupyter-widgets/controls",
     "model_module_version": "1.5.0",
     "model_name": "FloatProgressModel",
     "state": {
      "_dom_classes": [],
      "_model_module": "@jupyter-widgets/controls",
      "_model_module_version": "1.5.0",
      "_model_name": "FloatProgressModel",
      "_view_count": null,
      "_view_module": "@jupyter-widgets/controls",
      "_view_module_version": "1.5.0",
      "_view_name": "ProgressView",
      "bar_style": "success",
      "description": "",
      "description_tooltip": null,
      "layout": "IPY_MODEL_ce1715d561ec4895845e26c297d8e69b",
      "max": 94,
      "min": 0,
      "orientation": "horizontal",
      "style": "IPY_MODEL_ddcf1b0f01da4dcbbd216d8348be17dc",
      "value": 94
     }
    },
    "97c21b0e2272442eb64cae12f85501af": {
     "model_module": "@jupyter-widgets/base",
     "model_module_version": "1.2.0",
     "model_name": "LayoutModel",
     "state": {
      "_model_module": "@jupyter-widgets/base",
      "_model_module_version": "1.2.0",
      "_model_name": "LayoutModel",
      "_view_count": null,
      "_view_module": "@jupyter-widgets/base",
      "_view_module_version": "1.2.0",
      "_view_name": "LayoutView",
      "align_content": null,
      "align_items": null,
      "align_self": null,
      "border": null,
      "bottom": null,
      "display": null,
      "flex": null,
      "flex_flow": null,
      "grid_area": null,
      "grid_auto_columns": null,
      "grid_auto_flow": null,
      "grid_auto_rows": null,
      "grid_column": null,
      "grid_gap": null,
      "grid_row": null,
      "grid_template_areas": null,
      "grid_template_columns": null,
      "grid_template_rows": null,
      "height": null,
      "justify_content": null,
      "justify_items": null,
      "left": null,
      "margin": null,
      "max_height": null,
      "max_width": null,
      "min_height": null,
      "min_width": null,
      "object_fit": null,
      "object_position": null,
      "order": null,
      "overflow": null,
      "overflow_x": null,
      "overflow_y": null,
      "padding": null,
      "right": null,
      "top": null,
      "visibility": null,
      "width": null
     }
    },
    "9b57da870abc47a1a0f091fc29ebd69e": {
     "model_module": "@jupyter-widgets/controls",
     "model_module_version": "1.5.0",
     "model_name": "FloatProgressModel",
     "state": {
      "_dom_classes": [],
      "_model_module": "@jupyter-widgets/controls",
      "_model_module_version": "1.5.0",
      "_model_name": "FloatProgressModel",
      "_view_count": null,
      "_view_module": "@jupyter-widgets/controls",
      "_view_module_version": "1.5.0",
      "_view_name": "ProgressView",
      "bar_style": "success",
      "description": "",
      "description_tooltip": null,
      "layout": "IPY_MODEL_ab9b649a573747af9792a502b6ccd328",
      "max": 844,
      "min": 0,
      "orientation": "horizontal",
      "style": "IPY_MODEL_5e1501377f014dd5add0718aa456ac38",
      "value": 844
     }
    },
    "9d2c83c1d60a4c4aa023fe5c800cb955": {
     "model_module": "@jupyter-widgets/controls",
     "model_module_version": "1.5.0",
     "model_name": "HTMLModel",
     "state": {
      "_dom_classes": [],
      "_model_module": "@jupyter-widgets/controls",
      "_model_module_version": "1.5.0",
      "_model_name": "HTMLModel",
      "_view_count": null,
      "_view_module": "@jupyter-widgets/controls",
      "_view_module_version": "1.5.0",
      "_view_name": "HTMLView",
      "description": "",
      "description_tooltip": null,
      "layout": "IPY_MODEL_bea973419f0f4db7859194c69166938a",
      "placeholder": "​",
      "style": "IPY_MODEL_e8d3ffa1a2124da3bf7f596e772140ff",
      "value": " 844/844 [00:38&lt;00:00, 19.44it/s, loss=0.0961]"
     }
    },
    "9ee05cf7c13546869c098753b3badf9e": {
     "model_module": "@jupyter-widgets/controls",
     "model_module_version": "1.5.0",
     "model_name": "HTMLModel",
     "state": {
      "_dom_classes": [],
      "_model_module": "@jupyter-widgets/controls",
      "_model_module_version": "1.5.0",
      "_model_name": "HTMLModel",
      "_view_count": null,
      "_view_module": "@jupyter-widgets/controls",
      "_view_module_version": "1.5.0",
      "_view_name": "HTMLView",
      "description": "",
      "description_tooltip": null,
      "layout": "IPY_MODEL_a42f81f6e4454fce8773f62627011c25",
      "placeholder": "​",
      "style": "IPY_MODEL_ab9dd2bb6a5b40439a910f58cfbe4dc7",
      "value": " 94/94 [00:02&lt;00:00, 34.73it/s]"
     }
    },
    "a0f3aee227994696b61eaf424091ae11": {
     "model_module": "@jupyter-widgets/controls",
     "model_module_version": "1.5.0",
     "model_name": "HTMLModel",
     "state": {
      "_dom_classes": [],
      "_model_module": "@jupyter-widgets/controls",
      "_model_module_version": "1.5.0",
      "_model_name": "HTMLModel",
      "_view_count": null,
      "_view_module": "@jupyter-widgets/controls",
      "_view_module_version": "1.5.0",
      "_view_name": "HTMLView",
      "description": "",
      "description_tooltip": null,
      "layout": "IPY_MODEL_b75bb8dd185f496f9157a4047fe0a8f7",
      "placeholder": "​",
      "style": "IPY_MODEL_d076278d0a194d2c8dcb17550f917224",
      "value": "Epoch 2/5 [Training]: 100%"
     }
    },
    "a3636330a6644ba69901363f0aea4630": {
     "model_module": "@jupyter-widgets/base",
     "model_module_version": "1.2.0",
     "model_name": "LayoutModel",
     "state": {
      "_model_module": "@jupyter-widgets/base",
      "_model_module_version": "1.2.0",
      "_model_name": "LayoutModel",
      "_view_count": null,
      "_view_module": "@jupyter-widgets/base",
      "_view_module_version": "1.2.0",
      "_view_name": "LayoutView",
      "align_content": null,
      "align_items": null,
      "align_self": null,
      "border": null,
      "bottom": null,
      "display": null,
      "flex": null,
      "flex_flow": null,
      "grid_area": null,
      "grid_auto_columns": null,
      "grid_auto_flow": null,
      "grid_auto_rows": null,
      "grid_column": null,
      "grid_gap": null,
      "grid_row": null,
      "grid_template_areas": null,
      "grid_template_columns": null,
      "grid_template_rows": null,
      "height": null,
      "justify_content": null,
      "justify_items": null,
      "left": null,
      "margin": null,
      "max_height": null,
      "max_width": null,
      "min_height": null,
      "min_width": null,
      "object_fit": null,
      "object_position": null,
      "order": null,
      "overflow": null,
      "overflow_x": null,
      "overflow_y": null,
      "padding": null,
      "right": null,
      "top": null,
      "visibility": null,
      "width": null
     }
    },
    "a3d493dee06b401484b0e4ffbad52ee6": {
     "model_module": "@jupyter-widgets/base",
     "model_module_version": "1.2.0",
     "model_name": "LayoutModel",
     "state": {
      "_model_module": "@jupyter-widgets/base",
      "_model_module_version": "1.2.0",
      "_model_name": "LayoutModel",
      "_view_count": null,
      "_view_module": "@jupyter-widgets/base",
      "_view_module_version": "1.2.0",
      "_view_name": "LayoutView",
      "align_content": null,
      "align_items": null,
      "align_self": null,
      "border": null,
      "bottom": null,
      "display": null,
      "flex": null,
      "flex_flow": null,
      "grid_area": null,
      "grid_auto_columns": null,
      "grid_auto_flow": null,
      "grid_auto_rows": null,
      "grid_column": null,
      "grid_gap": null,
      "grid_row": null,
      "grid_template_areas": null,
      "grid_template_columns": null,
      "grid_template_rows": null,
      "height": null,
      "justify_content": null,
      "justify_items": null,
      "left": null,
      "margin": null,
      "max_height": null,
      "max_width": null,
      "min_height": null,
      "min_width": null,
      "object_fit": null,
      "object_position": null,
      "order": null,
      "overflow": null,
      "overflow_x": null,
      "overflow_y": null,
      "padding": null,
      "right": null,
      "top": null,
      "visibility": null,
      "width": null
     }
    },
    "a42f81f6e4454fce8773f62627011c25": {
     "model_module": "@jupyter-widgets/base",
     "model_module_version": "1.2.0",
     "model_name": "LayoutModel",
     "state": {
      "_model_module": "@jupyter-widgets/base",
      "_model_module_version": "1.2.0",
      "_model_name": "LayoutModel",
      "_view_count": null,
      "_view_module": "@jupyter-widgets/base",
      "_view_module_version": "1.2.0",
      "_view_name": "LayoutView",
      "align_content": null,
      "align_items": null,
      "align_self": null,
      "border": null,
      "bottom": null,
      "display": null,
      "flex": null,
      "flex_flow": null,
      "grid_area": null,
      "grid_auto_columns": null,
      "grid_auto_flow": null,
      "grid_auto_rows": null,
      "grid_column": null,
      "grid_gap": null,
      "grid_row": null,
      "grid_template_areas": null,
      "grid_template_columns": null,
      "grid_template_rows": null,
      "height": null,
      "justify_content": null,
      "justify_items": null,
      "left": null,
      "margin": null,
      "max_height": null,
      "max_width": null,
      "min_height": null,
      "min_width": null,
      "object_fit": null,
      "object_position": null,
      "order": null,
      "overflow": null,
      "overflow_x": null,
      "overflow_y": null,
      "padding": null,
      "right": null,
      "top": null,
      "visibility": null,
      "width": null
     }
    },
    "a4894d142c1c4579bba262f247b7ce14": {
     "model_module": "@jupyter-widgets/controls",
     "model_module_version": "1.5.0",
     "model_name": "ProgressStyleModel",
     "state": {
      "_model_module": "@jupyter-widgets/controls",
      "_model_module_version": "1.5.0",
      "_model_name": "ProgressStyleModel",
      "_view_count": null,
      "_view_module": "@jupyter-widgets/base",
      "_view_module_version": "1.2.0",
      "_view_name": "StyleView",
      "bar_color": null,
      "description_width": ""
     }
    },
    "a61f0cdf27134b2f956d5ba5615e4c92": {
     "model_module": "@jupyter-widgets/base",
     "model_module_version": "1.2.0",
     "model_name": "LayoutModel",
     "state": {
      "_model_module": "@jupyter-widgets/base",
      "_model_module_version": "1.2.0",
      "_model_name": "LayoutModel",
      "_view_count": null,
      "_view_module": "@jupyter-widgets/base",
      "_view_module_version": "1.2.0",
      "_view_name": "LayoutView",
      "align_content": null,
      "align_items": null,
      "align_self": null,
      "border": null,
      "bottom": null,
      "display": null,
      "flex": null,
      "flex_flow": null,
      "grid_area": null,
      "grid_auto_columns": null,
      "grid_auto_flow": null,
      "grid_auto_rows": null,
      "grid_column": null,
      "grid_gap": null,
      "grid_row": null,
      "grid_template_areas": null,
      "grid_template_columns": null,
      "grid_template_rows": null,
      "height": null,
      "justify_content": null,
      "justify_items": null,
      "left": null,
      "margin": null,
      "max_height": null,
      "max_width": null,
      "min_height": null,
      "min_width": null,
      "object_fit": null,
      "object_position": null,
      "order": null,
      "overflow": null,
      "overflow_x": null,
      "overflow_y": null,
      "padding": null,
      "right": null,
      "top": null,
      "visibility": null,
      "width": null
     }
    },
    "ab9b649a573747af9792a502b6ccd328": {
     "model_module": "@jupyter-widgets/base",
     "model_module_version": "1.2.0",
     "model_name": "LayoutModel",
     "state": {
      "_model_module": "@jupyter-widgets/base",
      "_model_module_version": "1.2.0",
      "_model_name": "LayoutModel",
      "_view_count": null,
      "_view_module": "@jupyter-widgets/base",
      "_view_module_version": "1.2.0",
      "_view_name": "LayoutView",
      "align_content": null,
      "align_items": null,
      "align_self": null,
      "border": null,
      "bottom": null,
      "display": null,
      "flex": null,
      "flex_flow": null,
      "grid_area": null,
      "grid_auto_columns": null,
      "grid_auto_flow": null,
      "grid_auto_rows": null,
      "grid_column": null,
      "grid_gap": null,
      "grid_row": null,
      "grid_template_areas": null,
      "grid_template_columns": null,
      "grid_template_rows": null,
      "height": null,
      "justify_content": null,
      "justify_items": null,
      "left": null,
      "margin": null,
      "max_height": null,
      "max_width": null,
      "min_height": null,
      "min_width": null,
      "object_fit": null,
      "object_position": null,
      "order": null,
      "overflow": null,
      "overflow_x": null,
      "overflow_y": null,
      "padding": null,
      "right": null,
      "top": null,
      "visibility": null,
      "width": null
     }
    },
    "ab9dd2bb6a5b40439a910f58cfbe4dc7": {
     "model_module": "@jupyter-widgets/controls",
     "model_module_version": "1.5.0",
     "model_name": "DescriptionStyleModel",
     "state": {
      "_model_module": "@jupyter-widgets/controls",
      "_model_module_version": "1.5.0",
      "_model_name": "DescriptionStyleModel",
      "_view_count": null,
      "_view_module": "@jupyter-widgets/base",
      "_view_module_version": "1.2.0",
      "_view_name": "StyleView",
      "description_width": ""
     }
    },
    "af7730a3b0ca463d81a1771f0e926155": {
     "model_module": "@jupyter-widgets/base",
     "model_module_version": "1.2.0",
     "model_name": "LayoutModel",
     "state": {
      "_model_module": "@jupyter-widgets/base",
      "_model_module_version": "1.2.0",
      "_model_name": "LayoutModel",
      "_view_count": null,
      "_view_module": "@jupyter-widgets/base",
      "_view_module_version": "1.2.0",
      "_view_name": "LayoutView",
      "align_content": null,
      "align_items": null,
      "align_self": null,
      "border": null,
      "bottom": null,
      "display": null,
      "flex": null,
      "flex_flow": null,
      "grid_area": null,
      "grid_auto_columns": null,
      "grid_auto_flow": null,
      "grid_auto_rows": null,
      "grid_column": null,
      "grid_gap": null,
      "grid_row": null,
      "grid_template_areas": null,
      "grid_template_columns": null,
      "grid_template_rows": null,
      "height": null,
      "justify_content": null,
      "justify_items": null,
      "left": null,
      "margin": null,
      "max_height": null,
      "max_width": null,
      "min_height": null,
      "min_width": null,
      "object_fit": null,
      "object_position": null,
      "order": null,
      "overflow": null,
      "overflow_x": null,
      "overflow_y": null,
      "padding": null,
      "right": null,
      "top": null,
      "visibility": null,
      "width": null
     }
    },
    "b032a47db5164807824699b5f71e40c6": {
     "model_module": "@jupyter-widgets/base",
     "model_module_version": "1.2.0",
     "model_name": "LayoutModel",
     "state": {
      "_model_module": "@jupyter-widgets/base",
      "_model_module_version": "1.2.0",
      "_model_name": "LayoutModel",
      "_view_count": null,
      "_view_module": "@jupyter-widgets/base",
      "_view_module_version": "1.2.0",
      "_view_name": "LayoutView",
      "align_content": null,
      "align_items": null,
      "align_self": null,
      "border": null,
      "bottom": null,
      "display": null,
      "flex": null,
      "flex_flow": null,
      "grid_area": null,
      "grid_auto_columns": null,
      "grid_auto_flow": null,
      "grid_auto_rows": null,
      "grid_column": null,
      "grid_gap": null,
      "grid_row": null,
      "grid_template_areas": null,
      "grid_template_columns": null,
      "grid_template_rows": null,
      "height": null,
      "justify_content": null,
      "justify_items": null,
      "left": null,
      "margin": null,
      "max_height": null,
      "max_width": null,
      "min_height": null,
      "min_width": null,
      "object_fit": null,
      "object_position": null,
      "order": null,
      "overflow": null,
      "overflow_x": null,
      "overflow_y": null,
      "padding": null,
      "right": null,
      "top": null,
      "visibility": null,
      "width": null
     }
    },
    "b1a41b40761045b18b01cd8829b0300a": {
     "model_module": "@jupyter-widgets/base",
     "model_module_version": "1.2.0",
     "model_name": "LayoutModel",
     "state": {
      "_model_module": "@jupyter-widgets/base",
      "_model_module_version": "1.2.0",
      "_model_name": "LayoutModel",
      "_view_count": null,
      "_view_module": "@jupyter-widgets/base",
      "_view_module_version": "1.2.0",
      "_view_name": "LayoutView",
      "align_content": null,
      "align_items": null,
      "align_self": null,
      "border": null,
      "bottom": null,
      "display": null,
      "flex": null,
      "flex_flow": null,
      "grid_area": null,
      "grid_auto_columns": null,
      "grid_auto_flow": null,
      "grid_auto_rows": null,
      "grid_column": null,
      "grid_gap": null,
      "grid_row": null,
      "grid_template_areas": null,
      "grid_template_columns": null,
      "grid_template_rows": null,
      "height": null,
      "justify_content": null,
      "justify_items": null,
      "left": null,
      "margin": null,
      "max_height": null,
      "max_width": null,
      "min_height": null,
      "min_width": null,
      "object_fit": null,
      "object_position": null,
      "order": null,
      "overflow": null,
      "overflow_x": null,
      "overflow_y": null,
      "padding": null,
      "right": null,
      "top": null,
      "visibility": null,
      "width": null
     }
    },
    "b75bb8dd185f496f9157a4047fe0a8f7": {
     "model_module": "@jupyter-widgets/base",
     "model_module_version": "1.2.0",
     "model_name": "LayoutModel",
     "state": {
      "_model_module": "@jupyter-widgets/base",
      "_model_module_version": "1.2.0",
      "_model_name": "LayoutModel",
      "_view_count": null,
      "_view_module": "@jupyter-widgets/base",
      "_view_module_version": "1.2.0",
      "_view_name": "LayoutView",
      "align_content": null,
      "align_items": null,
      "align_self": null,
      "border": null,
      "bottom": null,
      "display": null,
      "flex": null,
      "flex_flow": null,
      "grid_area": null,
      "grid_auto_columns": null,
      "grid_auto_flow": null,
      "grid_auto_rows": null,
      "grid_column": null,
      "grid_gap": null,
      "grid_row": null,
      "grid_template_areas": null,
      "grid_template_columns": null,
      "grid_template_rows": null,
      "height": null,
      "justify_content": null,
      "justify_items": null,
      "left": null,
      "margin": null,
      "max_height": null,
      "max_width": null,
      "min_height": null,
      "min_width": null,
      "object_fit": null,
      "object_position": null,
      "order": null,
      "overflow": null,
      "overflow_x": null,
      "overflow_y": null,
      "padding": null,
      "right": null,
      "top": null,
      "visibility": null,
      "width": null
     }
    },
    "b9cb677246cd45e685fde53b7add73de": {
     "model_module": "@jupyter-widgets/controls",
     "model_module_version": "1.5.0",
     "model_name": "FloatProgressModel",
     "state": {
      "_dom_classes": [],
      "_model_module": "@jupyter-widgets/controls",
      "_model_module_version": "1.5.0",
      "_model_name": "FloatProgressModel",
      "_view_count": null,
      "_view_module": "@jupyter-widgets/controls",
      "_view_module_version": "1.5.0",
      "_view_name": "ProgressView",
      "bar_style": "success",
      "description": "",
      "description_tooltip": null,
      "layout": "IPY_MODEL_b1a41b40761045b18b01cd8829b0300a",
      "max": 94,
      "min": 0,
      "orientation": "horizontal",
      "style": "IPY_MODEL_54122f7aed0c494bad544230c51a088e",
      "value": 94
     }
    },
    "bea973419f0f4db7859194c69166938a": {
     "model_module": "@jupyter-widgets/base",
     "model_module_version": "1.2.0",
     "model_name": "LayoutModel",
     "state": {
      "_model_module": "@jupyter-widgets/base",
      "_model_module_version": "1.2.0",
      "_model_name": "LayoutModel",
      "_view_count": null,
      "_view_module": "@jupyter-widgets/base",
      "_view_module_version": "1.2.0",
      "_view_name": "LayoutView",
      "align_content": null,
      "align_items": null,
      "align_self": null,
      "border": null,
      "bottom": null,
      "display": null,
      "flex": null,
      "flex_flow": null,
      "grid_area": null,
      "grid_auto_columns": null,
      "grid_auto_flow": null,
      "grid_auto_rows": null,
      "grid_column": null,
      "grid_gap": null,
      "grid_row": null,
      "grid_template_areas": null,
      "grid_template_columns": null,
      "grid_template_rows": null,
      "height": null,
      "justify_content": null,
      "justify_items": null,
      "left": null,
      "margin": null,
      "max_height": null,
      "max_width": null,
      "min_height": null,
      "min_width": null,
      "object_fit": null,
      "object_position": null,
      "order": null,
      "overflow": null,
      "overflow_x": null,
      "overflow_y": null,
      "padding": null,
      "right": null,
      "top": null,
      "visibility": null,
      "width": null
     }
    },
    "c2ca02dffc7e4c759f6aeb352d67741d": {
     "model_module": "@jupyter-widgets/base",
     "model_module_version": "1.2.0",
     "model_name": "LayoutModel",
     "state": {
      "_model_module": "@jupyter-widgets/base",
      "_model_module_version": "1.2.0",
      "_model_name": "LayoutModel",
      "_view_count": null,
      "_view_module": "@jupyter-widgets/base",
      "_view_module_version": "1.2.0",
      "_view_name": "LayoutView",
      "align_content": null,
      "align_items": null,
      "align_self": null,
      "border": null,
      "bottom": null,
      "display": null,
      "flex": null,
      "flex_flow": null,
      "grid_area": null,
      "grid_auto_columns": null,
      "grid_auto_flow": null,
      "grid_auto_rows": null,
      "grid_column": null,
      "grid_gap": null,
      "grid_row": null,
      "grid_template_areas": null,
      "grid_template_columns": null,
      "grid_template_rows": null,
      "height": null,
      "justify_content": null,
      "justify_items": null,
      "left": null,
      "margin": null,
      "max_height": null,
      "max_width": null,
      "min_height": null,
      "min_width": null,
      "object_fit": null,
      "object_position": null,
      "order": null,
      "overflow": null,
      "overflow_x": null,
      "overflow_y": null,
      "padding": null,
      "right": null,
      "top": null,
      "visibility": null,
      "width": null
     }
    },
    "c7285db3608b444aa67c1ae4c8972498": {
     "model_module": "@jupyter-widgets/base",
     "model_module_version": "1.2.0",
     "model_name": "LayoutModel",
     "state": {
      "_model_module": "@jupyter-widgets/base",
      "_model_module_version": "1.2.0",
      "_model_name": "LayoutModel",
      "_view_count": null,
      "_view_module": "@jupyter-widgets/base",
      "_view_module_version": "1.2.0",
      "_view_name": "LayoutView",
      "align_content": null,
      "align_items": null,
      "align_self": null,
      "border": null,
      "bottom": null,
      "display": null,
      "flex": null,
      "flex_flow": null,
      "grid_area": null,
      "grid_auto_columns": null,
      "grid_auto_flow": null,
      "grid_auto_rows": null,
      "grid_column": null,
      "grid_gap": null,
      "grid_row": null,
      "grid_template_areas": null,
      "grid_template_columns": null,
      "grid_template_rows": null,
      "height": null,
      "justify_content": null,
      "justify_items": null,
      "left": null,
      "margin": null,
      "max_height": null,
      "max_width": null,
      "min_height": null,
      "min_width": null,
      "object_fit": null,
      "object_position": null,
      "order": null,
      "overflow": null,
      "overflow_x": null,
      "overflow_y": null,
      "padding": null,
      "right": null,
      "top": null,
      "visibility": null,
      "width": null
     }
    },
    "c72af8f17fbc4c94a8a51ac271b7b291": {
     "model_module": "@jupyter-widgets/controls",
     "model_module_version": "1.5.0",
     "model_name": "HTMLModel",
     "state": {
      "_dom_classes": [],
      "_model_module": "@jupyter-widgets/controls",
      "_model_module_version": "1.5.0",
      "_model_name": "HTMLModel",
      "_view_count": null,
      "_view_module": "@jupyter-widgets/controls",
      "_view_module_version": "1.5.0",
      "_view_name": "HTMLView",
      "description": "",
      "description_tooltip": null,
      "layout": "IPY_MODEL_f1a84e7319c842ad80c8b4a0666117c9",
      "placeholder": "​",
      "style": "IPY_MODEL_df7f8718bd5046919b87853f9fd3f3a6",
      "value": "Epoch 5/5 [Training]: 100%"
     }
    },
    "c982b0146ba640cda98fd420458c8228": {
     "model_module": "@jupyter-widgets/controls",
     "model_module_version": "1.5.0",
     "model_name": "HBoxModel",
     "state": {
      "_dom_classes": [],
      "_model_module": "@jupyter-widgets/controls",
      "_model_module_version": "1.5.0",
      "_model_name": "HBoxModel",
      "_view_count": null,
      "_view_module": "@jupyter-widgets/controls",
      "_view_module_version": "1.5.0",
      "_view_name": "HBoxView",
      "box_style": "",
      "children": [
       "IPY_MODEL_25d41407d07048db8d2acbef35a84d71",
       "IPY_MODEL_47c10d955b0c40c48cf62a1715d5339a",
       "IPY_MODEL_53dd263f7cb140498b652eac64a79579"
      ],
      "layout": "IPY_MODEL_759835839172474ca8dd92e6e9dd84fb"
     }
    },
    "cc682b14e0a04c4fb1894144a3ea95d2": {
     "model_module": "@jupyter-widgets/base",
     "model_module_version": "1.2.0",
     "model_name": "LayoutModel",
     "state": {
      "_model_module": "@jupyter-widgets/base",
      "_model_module_version": "1.2.0",
      "_model_name": "LayoutModel",
      "_view_count": null,
      "_view_module": "@jupyter-widgets/base",
      "_view_module_version": "1.2.0",
      "_view_name": "LayoutView",
      "align_content": null,
      "align_items": null,
      "align_self": null,
      "border": null,
      "bottom": null,
      "display": null,
      "flex": null,
      "flex_flow": null,
      "grid_area": null,
      "grid_auto_columns": null,
      "grid_auto_flow": null,
      "grid_auto_rows": null,
      "grid_column": null,
      "grid_gap": null,
      "grid_row": null,
      "grid_template_areas": null,
      "grid_template_columns": null,
      "grid_template_rows": null,
      "height": null,
      "justify_content": null,
      "justify_items": null,
      "left": null,
      "margin": null,
      "max_height": null,
      "max_width": null,
      "min_height": null,
      "min_width": null,
      "object_fit": null,
      "object_position": null,
      "order": null,
      "overflow": null,
      "overflow_x": null,
      "overflow_y": null,
      "padding": null,
      "right": null,
      "top": null,
      "visibility": null,
      "width": null
     }
    },
    "cc9a445b0db74b6abdb6fd0ad580b295": {
     "model_module": "@jupyter-widgets/controls",
     "model_module_version": "1.5.0",
     "model_name": "DescriptionStyleModel",
     "state": {
      "_model_module": "@jupyter-widgets/controls",
      "_model_module_version": "1.5.0",
      "_model_name": "DescriptionStyleModel",
      "_view_count": null,
      "_view_module": "@jupyter-widgets/base",
      "_view_module_version": "1.2.0",
      "_view_name": "StyleView",
      "description_width": ""
     }
    },
    "ce1715d561ec4895845e26c297d8e69b": {
     "model_module": "@jupyter-widgets/base",
     "model_module_version": "1.2.0",
     "model_name": "LayoutModel",
     "state": {
      "_model_module": "@jupyter-widgets/base",
      "_model_module_version": "1.2.0",
      "_model_name": "LayoutModel",
      "_view_count": null,
      "_view_module": "@jupyter-widgets/base",
      "_view_module_version": "1.2.0",
      "_view_name": "LayoutView",
      "align_content": null,
      "align_items": null,
      "align_self": null,
      "border": null,
      "bottom": null,
      "display": null,
      "flex": null,
      "flex_flow": null,
      "grid_area": null,
      "grid_auto_columns": null,
      "grid_auto_flow": null,
      "grid_auto_rows": null,
      "grid_column": null,
      "grid_gap": null,
      "grid_row": null,
      "grid_template_areas": null,
      "grid_template_columns": null,
      "grid_template_rows": null,
      "height": null,
      "justify_content": null,
      "justify_items": null,
      "left": null,
      "margin": null,
      "max_height": null,
      "max_width": null,
      "min_height": null,
      "min_width": null,
      "object_fit": null,
      "object_position": null,
      "order": null,
      "overflow": null,
      "overflow_x": null,
      "overflow_y": null,
      "padding": null,
      "right": null,
      "top": null,
      "visibility": null,
      "width": null
     }
    },
    "d076278d0a194d2c8dcb17550f917224": {
     "model_module": "@jupyter-widgets/controls",
     "model_module_version": "1.5.0",
     "model_name": "DescriptionStyleModel",
     "state": {
      "_model_module": "@jupyter-widgets/controls",
      "_model_module_version": "1.5.0",
      "_model_name": "DescriptionStyleModel",
      "_view_count": null,
      "_view_module": "@jupyter-widgets/base",
      "_view_module_version": "1.2.0",
      "_view_name": "StyleView",
      "description_width": ""
     }
    },
    "d3b89625af90449c8e3d15dd078154e9": {
     "model_module": "@jupyter-widgets/controls",
     "model_module_version": "1.5.0",
     "model_name": "DescriptionStyleModel",
     "state": {
      "_model_module": "@jupyter-widgets/controls",
      "_model_module_version": "1.5.0",
      "_model_name": "DescriptionStyleModel",
      "_view_count": null,
      "_view_module": "@jupyter-widgets/base",
      "_view_module_version": "1.2.0",
      "_view_name": "StyleView",
      "description_width": ""
     }
    },
    "d9f0f6d6993d4643b6d0c070fdf30df6": {
     "model_module": "@jupyter-widgets/controls",
     "model_module_version": "1.5.0",
     "model_name": "DescriptionStyleModel",
     "state": {
      "_model_module": "@jupyter-widgets/controls",
      "_model_module_version": "1.5.0",
      "_model_name": "DescriptionStyleModel",
      "_view_count": null,
      "_view_module": "@jupyter-widgets/base",
      "_view_module_version": "1.2.0",
      "_view_name": "StyleView",
      "description_width": ""
     }
    },
    "da4ae60e3f884c889c9db37407eca980": {
     "model_module": "@jupyter-widgets/controls",
     "model_module_version": "1.5.0",
     "model_name": "HTMLModel",
     "state": {
      "_dom_classes": [],
      "_model_module": "@jupyter-widgets/controls",
      "_model_module_version": "1.5.0",
      "_model_name": "HTMLModel",
      "_view_count": null,
      "_view_module": "@jupyter-widgets/controls",
      "_view_module_version": "1.5.0",
      "_view_name": "HTMLView",
      "description": "",
      "description_tooltip": null,
      "layout": "IPY_MODEL_446e54f07a5a444a8f999e52872108fa",
      "placeholder": "​",
      "style": "IPY_MODEL_54ee4afa79394ce4844f1029a5b42c56",
      "value": "Epoch 1/5 [Training]: 100%"
     }
    },
    "ddcf1b0f01da4dcbbd216d8348be17dc": {
     "model_module": "@jupyter-widgets/controls",
     "model_module_version": "1.5.0",
     "model_name": "ProgressStyleModel",
     "state": {
      "_model_module": "@jupyter-widgets/controls",
      "_model_module_version": "1.5.0",
      "_model_name": "ProgressStyleModel",
      "_view_count": null,
      "_view_module": "@jupyter-widgets/base",
      "_view_module_version": "1.2.0",
      "_view_name": "StyleView",
      "bar_color": null,
      "description_width": ""
     }
    },
    "df7f8718bd5046919b87853f9fd3f3a6": {
     "model_module": "@jupyter-widgets/controls",
     "model_module_version": "1.5.0",
     "model_name": "DescriptionStyleModel",
     "state": {
      "_model_module": "@jupyter-widgets/controls",
      "_model_module_version": "1.5.0",
      "_model_name": "DescriptionStyleModel",
      "_view_count": null,
      "_view_module": "@jupyter-widgets/base",
      "_view_module_version": "1.2.0",
      "_view_name": "StyleView",
      "description_width": ""
     }
    },
    "df8f7c90473f47c3ae51cf9525a96172": {
     "model_module": "@jupyter-widgets/controls",
     "model_module_version": "1.5.0",
     "model_name": "HTMLModel",
     "state": {
      "_dom_classes": [],
      "_model_module": "@jupyter-widgets/controls",
      "_model_module_version": "1.5.0",
      "_model_name": "HTMLModel",
      "_view_count": null,
      "_view_module": "@jupyter-widgets/controls",
      "_view_module_version": "1.5.0",
      "_view_name": "HTMLView",
      "description": "",
      "description_tooltip": null,
      "layout": "IPY_MODEL_cc682b14e0a04c4fb1894144a3ea95d2",
      "placeholder": "​",
      "style": "IPY_MODEL_22cc54cfb4954af499773f2d665ce27a",
      "value": " 94/94 [00:03&lt;00:00, 34.40it/s]"
     }
    },
    "dfba4946fc6a406ea8dc384088c641a7": {
     "model_module": "@jupyter-widgets/controls",
     "model_module_version": "1.5.0",
     "model_name": "ProgressStyleModel",
     "state": {
      "_model_module": "@jupyter-widgets/controls",
      "_model_module_version": "1.5.0",
      "_model_name": "ProgressStyleModel",
      "_view_count": null,
      "_view_module": "@jupyter-widgets/base",
      "_view_module_version": "1.2.0",
      "_view_name": "StyleView",
      "bar_color": null,
      "description_width": ""
     }
    },
    "dff586fe42dd4bcc95d73e73486f9515": {
     "model_module": "@jupyter-widgets/controls",
     "model_module_version": "1.5.0",
     "model_name": "DescriptionStyleModel",
     "state": {
      "_model_module": "@jupyter-widgets/controls",
      "_model_module_version": "1.5.0",
      "_model_name": "DescriptionStyleModel",
      "_view_count": null,
      "_view_module": "@jupyter-widgets/base",
      "_view_module_version": "1.2.0",
      "_view_name": "StyleView",
      "description_width": ""
     }
    },
    "e28150eccf48490e86d832b95a98fd07": {
     "model_module": "@jupyter-widgets/controls",
     "model_module_version": "1.5.0",
     "model_name": "HTMLModel",
     "state": {
      "_dom_classes": [],
      "_model_module": "@jupyter-widgets/controls",
      "_model_module_version": "1.5.0",
      "_model_name": "HTMLModel",
      "_view_count": null,
      "_view_module": "@jupyter-widgets/controls",
      "_view_module_version": "1.5.0",
      "_view_name": "HTMLView",
      "description": "",
      "description_tooltip": null,
      "layout": "IPY_MODEL_7218983a008c4a84b442cb2dcde953f9",
      "placeholder": "​",
      "style": "IPY_MODEL_f8e4a6764adc4b3a90ff53fa3a71071d",
      "value": " 844/844 [00:35&lt;00:00, 19.73it/s, loss=0.0166]"
     }
    },
    "e670aa0b5d2b4bd4b99246fe610968cb": {
     "model_module": "@jupyter-widgets/base",
     "model_module_version": "1.2.0",
     "model_name": "LayoutModel",
     "state": {
      "_model_module": "@jupyter-widgets/base",
      "_model_module_version": "1.2.0",
      "_model_name": "LayoutModel",
      "_view_count": null,
      "_view_module": "@jupyter-widgets/base",
      "_view_module_version": "1.2.0",
      "_view_name": "LayoutView",
      "align_content": null,
      "align_items": null,
      "align_self": null,
      "border": null,
      "bottom": null,
      "display": null,
      "flex": null,
      "flex_flow": null,
      "grid_area": null,
      "grid_auto_columns": null,
      "grid_auto_flow": null,
      "grid_auto_rows": null,
      "grid_column": null,
      "grid_gap": null,
      "grid_row": null,
      "grid_template_areas": null,
      "grid_template_columns": null,
      "grid_template_rows": null,
      "height": null,
      "justify_content": null,
      "justify_items": null,
      "left": null,
      "margin": null,
      "max_height": null,
      "max_width": null,
      "min_height": null,
      "min_width": null,
      "object_fit": null,
      "object_position": null,
      "order": null,
      "overflow": null,
      "overflow_x": null,
      "overflow_y": null,
      "padding": null,
      "right": null,
      "top": null,
      "visibility": null,
      "width": null
     }
    },
    "e8d3ffa1a2124da3bf7f596e772140ff": {
     "model_module": "@jupyter-widgets/controls",
     "model_module_version": "1.5.0",
     "model_name": "DescriptionStyleModel",
     "state": {
      "_model_module": "@jupyter-widgets/controls",
      "_model_module_version": "1.5.0",
      "_model_name": "DescriptionStyleModel",
      "_view_count": null,
      "_view_module": "@jupyter-widgets/base",
      "_view_module_version": "1.2.0",
      "_view_name": "StyleView",
      "description_width": ""
     }
    },
    "ed3737c90d6847709c4f484cfec2b452": {
     "model_module": "@jupyter-widgets/base",
     "model_module_version": "1.2.0",
     "model_name": "LayoutModel",
     "state": {
      "_model_module": "@jupyter-widgets/base",
      "_model_module_version": "1.2.0",
      "_model_name": "LayoutModel",
      "_view_count": null,
      "_view_module": "@jupyter-widgets/base",
      "_view_module_version": "1.2.0",
      "_view_name": "LayoutView",
      "align_content": null,
      "align_items": null,
      "align_self": null,
      "border": null,
      "bottom": null,
      "display": null,
      "flex": null,
      "flex_flow": null,
      "grid_area": null,
      "grid_auto_columns": null,
      "grid_auto_flow": null,
      "grid_auto_rows": null,
      "grid_column": null,
      "grid_gap": null,
      "grid_row": null,
      "grid_template_areas": null,
      "grid_template_columns": null,
      "grid_template_rows": null,
      "height": null,
      "justify_content": null,
      "justify_items": null,
      "left": null,
      "margin": null,
      "max_height": null,
      "max_width": null,
      "min_height": null,
      "min_width": null,
      "object_fit": null,
      "object_position": null,
      "order": null,
      "overflow": null,
      "overflow_x": null,
      "overflow_y": null,
      "padding": null,
      "right": null,
      "top": null,
      "visibility": null,
      "width": null
     }
    },
    "f1039d496f5b431fa64b7599a9a2f7b7": {
     "model_module": "@jupyter-widgets/controls",
     "model_module_version": "1.5.0",
     "model_name": "ProgressStyleModel",
     "state": {
      "_model_module": "@jupyter-widgets/controls",
      "_model_module_version": "1.5.0",
      "_model_name": "ProgressStyleModel",
      "_view_count": null,
      "_view_module": "@jupyter-widgets/base",
      "_view_module_version": "1.2.0",
      "_view_name": "StyleView",
      "bar_color": null,
      "description_width": ""
     }
    },
    "f1a84e7319c842ad80c8b4a0666117c9": {
     "model_module": "@jupyter-widgets/base",
     "model_module_version": "1.2.0",
     "model_name": "LayoutModel",
     "state": {
      "_model_module": "@jupyter-widgets/base",
      "_model_module_version": "1.2.0",
      "_model_name": "LayoutModel",
      "_view_count": null,
      "_view_module": "@jupyter-widgets/base",
      "_view_module_version": "1.2.0",
      "_view_name": "LayoutView",
      "align_content": null,
      "align_items": null,
      "align_self": null,
      "border": null,
      "bottom": null,
      "display": null,
      "flex": null,
      "flex_flow": null,
      "grid_area": null,
      "grid_auto_columns": null,
      "grid_auto_flow": null,
      "grid_auto_rows": null,
      "grid_column": null,
      "grid_gap": null,
      "grid_row": null,
      "grid_template_areas": null,
      "grid_template_columns": null,
      "grid_template_rows": null,
      "height": null,
      "justify_content": null,
      "justify_items": null,
      "left": null,
      "margin": null,
      "max_height": null,
      "max_width": null,
      "min_height": null,
      "min_width": null,
      "object_fit": null,
      "object_position": null,
      "order": null,
      "overflow": null,
      "overflow_x": null,
      "overflow_y": null,
      "padding": null,
      "right": null,
      "top": null,
      "visibility": null,
      "width": null
     }
    },
    "f1a9c8cbd7884d3ca42d4b6ba095c33b": {
     "model_module": "@jupyter-widgets/controls",
     "model_module_version": "1.5.0",
     "model_name": "ProgressStyleModel",
     "state": {
      "_model_module": "@jupyter-widgets/controls",
      "_model_module_version": "1.5.0",
      "_model_name": "ProgressStyleModel",
      "_view_count": null,
      "_view_module": "@jupyter-widgets/base",
      "_view_module_version": "1.2.0",
      "_view_name": "StyleView",
      "bar_color": null,
      "description_width": ""
     }
    },
    "f3c93b202ff5478791d3a1eddd63fa2b": {
     "model_module": "@jupyter-widgets/controls",
     "model_module_version": "1.5.0",
     "model_name": "HTMLModel",
     "state": {
      "_dom_classes": [],
      "_model_module": "@jupyter-widgets/controls",
      "_model_module_version": "1.5.0",
      "_model_name": "HTMLModel",
      "_view_count": null,
      "_view_module": "@jupyter-widgets/controls",
      "_view_module_version": "1.5.0",
      "_view_name": "HTMLView",
      "description": "",
      "description_tooltip": null,
      "layout": "IPY_MODEL_7ae3a5e848234fd7b666250ed076da15",
      "placeholder": "​",
      "style": "IPY_MODEL_d3b89625af90449c8e3d15dd078154e9",
      "value": " 94/94 [00:03&lt;00:00, 23.68it/s]"
     }
    },
    "f7aa240829f149e68e3e45d64b9a3cc7": {
     "model_module": "@jupyter-widgets/controls",
     "model_module_version": "1.5.0",
     "model_name": "ProgressStyleModel",
     "state": {
      "_model_module": "@jupyter-widgets/controls",
      "_model_module_version": "1.5.0",
      "_model_name": "ProgressStyleModel",
      "_view_count": null,
      "_view_module": "@jupyter-widgets/base",
      "_view_module_version": "1.2.0",
      "_view_name": "StyleView",
      "bar_color": null,
      "description_width": ""
     }
    },
    "f8e4a6764adc4b3a90ff53fa3a71071d": {
     "model_module": "@jupyter-widgets/controls",
     "model_module_version": "1.5.0",
     "model_name": "DescriptionStyleModel",
     "state": {
      "_model_module": "@jupyter-widgets/controls",
      "_model_module_version": "1.5.0",
      "_model_name": "DescriptionStyleModel",
      "_view_count": null,
      "_view_module": "@jupyter-widgets/base",
      "_view_module_version": "1.2.0",
      "_view_name": "StyleView",
      "description_width": ""
     }
    },
    "fb516d124e334134bbbfc257c8f80fad": {
     "model_module": "@jupyter-widgets/base",
     "model_module_version": "1.2.0",
     "model_name": "LayoutModel",
     "state": {
      "_model_module": "@jupyter-widgets/base",
      "_model_module_version": "1.2.0",
      "_model_name": "LayoutModel",
      "_view_count": null,
      "_view_module": "@jupyter-widgets/base",
      "_view_module_version": "1.2.0",
      "_view_name": "LayoutView",
      "align_content": null,
      "align_items": null,
      "align_self": null,
      "border": null,
      "bottom": null,
      "display": null,
      "flex": null,
      "flex_flow": null,
      "grid_area": null,
      "grid_auto_columns": null,
      "grid_auto_flow": null,
      "grid_auto_rows": null,
      "grid_column": null,
      "grid_gap": null,
      "grid_row": null,
      "grid_template_areas": null,
      "grid_template_columns": null,
      "grid_template_rows": null,
      "height": null,
      "justify_content": null,
      "justify_items": null,
      "left": null,
      "margin": null,
      "max_height": null,
      "max_width": null,
      "min_height": null,
      "min_width": null,
      "object_fit": null,
      "object_position": null,
      "order": null,
      "overflow": null,
      "overflow_x": null,
      "overflow_y": null,
      "padding": null,
      "right": null,
      "top": null,
      "visibility": null,
      "width": null
     }
    },
    "fe9e75d1b38443c2b8f4fe827746800d": {
     "model_module": "@jupyter-widgets/controls",
     "model_module_version": "1.5.0",
     "model_name": "HBoxModel",
     "state": {
      "_dom_classes": [],
      "_model_module": "@jupyter-widgets/controls",
      "_model_module_version": "1.5.0",
      "_model_name": "HBoxModel",
      "_view_count": null,
      "_view_module": "@jupyter-widgets/controls",
      "_view_module_version": "1.5.0",
      "_view_name": "HBoxView",
      "box_style": "",
      "children": [
       "IPY_MODEL_936641ef125e46cd82f4808f03296879",
       "IPY_MODEL_20a611236c6744089cf00924205dab57",
       "IPY_MODEL_f3c93b202ff5478791d3a1eddd63fa2b"
      ],
      "layout": "IPY_MODEL_97c21b0e2272442eb64cae12f85501af"
     }
    }
   }
  }
 },
 "nbformat": 4,
 "nbformat_minor": 0
}
